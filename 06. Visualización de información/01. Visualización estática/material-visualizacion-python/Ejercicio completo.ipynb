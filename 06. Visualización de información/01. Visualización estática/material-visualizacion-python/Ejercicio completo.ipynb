{
 "cells": [
  {
   "cell_type": "markdown",
   "metadata": {},
   "source": [
    "<h1>Ejercicio completo</h1>"
   ]
  },
  {
   "cell_type": "markdown",
   "metadata": {},
   "source": [
    "Vamos a tratar de reproducir la misma visualización que hemos hecho en ggplot2, pero esta vez con matplotlib."
   ]
  },
  {
   "cell_type": "markdown",
   "metadata": {},
   "source": [
    "<h2>Preparación de datos</h2>"
   ]
  },
  {
   "cell_type": "code",
   "execution_count": null,
   "metadata": {},
   "outputs": [],
   "source": [
    "# Importamos los paquetes necesarios"
   ]
  },
  {
   "cell_type": "code",
   "execution_count": null,
   "metadata": {},
   "outputs": [],
   "source": [
    "# Leemos el set de datos"
   ]
  },
  {
   "cell_type": "code",
   "execution_count": null,
   "metadata": {},
   "outputs": [],
   "source": [
    "# Comprobamos su contenido"
   ]
  },
  {
   "cell_type": "code",
   "execution_count": null,
   "metadata": {},
   "outputs": [],
   "source": [
    "# Identificamos las columnas y renombramos para facilitar su tratamiento a day, month, year y temp"
   ]
  },
  {
   "cell_type": "code",
   "execution_count": null,
   "metadata": {},
   "outputs": [],
   "source": [
    "# Revisamos la información de fechas y vemos si hay \"cosas raras\""
   ]
  },
  {
   "cell_type": "code",
   "execution_count": null,
   "metadata": {},
   "outputs": [],
   "source": [
    "# Revisamos la información de temperaturas y vemos si hay \"cosas raras\""
   ]
  },
  {
   "cell_type": "code",
   "execution_count": null,
   "metadata": {},
   "outputs": [],
   "source": [
    "# Convertimos la información de fechas en grados Celsius (más comunes): ºC = (ºF - 32) / 1.8"
   ]
  },
  {
   "cell_type": "code",
   "execution_count": null,
   "metadata": {},
   "outputs": [],
   "source": [
    "# Creamos una DataFrame \"past\" de información histórica que contenga:\n",
    "# - Información agregada desde 1995 a 2013.\n",
    "# - Una fila por cada día del año (de 1 a 366)\n",
    "# - El valor mínimo por cada día de los últimos años\n",
    "# - El valor máximo por cada día de los últimos años\n",
    "# - Los límites inferior y superior del intervalo de confianza al 95% de la media de temperaturas"
   ]
  },
  {
   "cell_type": "code",
   "execution_count": null,
   "metadata": {},
   "outputs": [],
   "source": [
    "# Creamos un DataFrame \"present\" de información actual que contenga:\n",
    "# - Información sólo de 2014\n",
    "# - Una fila por cada día del año (de 1 a 366, si tenemos todos los días)\n",
    "# - El valor de cada día"
   ]
  },
  {
   "cell_type": "code",
   "execution_count": null,
   "metadata": {},
   "outputs": [],
   "source": [
    "# Creamos un DataFrame \"present_highs\" de información actual que contenga:\n",
    "# - Información sólo de 2014\n",
    "# - Una fila por cada día del año (de 1 a 366, se tenemos todos los días)\n",
    "# - Nos quedamos sólo con las fechas y temperaturas de los días más calurosos"
   ]
  },
  {
   "cell_type": "code",
   "execution_count": null,
   "metadata": {},
   "outputs": [],
   "source": [
    "# Creamos un data.frame \"present.lows\" de información actual que contenga:\n",
    "# - Información sólo de 2014\n",
    "# - Una fila por cada día del año (de 1 a 366, se tenemos todos los días)\n",
    "# - Nos quedamos sólo con las fechas y temperaturas de los días más fríos"
   ]
  },
  {
   "cell_type": "markdown",
   "metadata": {},
   "source": [
    "<h2>Visualización de series (datos + tipos de gráfico + colores)</h2>"
   ]
  },
  {
   "cell_type": "code",
   "execution_count": null,
   "metadata": {},
   "outputs": [],
   "source": [
    "# Importamos los paquetes necesarios\n"
   ]
  },
  {
   "cell_type": "code",
   "execution_count": null,
   "metadata": {},
   "outputs": [],
   "source": [
    "# Visualizamos la serie histórica, color #f5deb3\n"
   ]
  },
  {
   "cell_type": "code",
   "execution_count": null,
   "metadata": {},
   "outputs": [],
   "source": [
    "# Añadimos la serie histórica de intervalo de confianza, color #8b7e66\n"
   ]
  },
  {
   "cell_type": "code",
   "execution_count": null,
   "metadata": {},
   "outputs": [],
   "source": [
    "# Añadimos la serie de 2014, ancho 0.5\n"
   ]
  },
  {
   "cell_type": "code",
   "execution_count": null,
   "metadata": {},
   "outputs": [],
   "source": [
    "# Añadimos la serie de temperaturas máximas, tamaño 5, color #cd2626\n"
   ]
  },
  {
   "cell_type": "code",
   "execution_count": null,
   "metadata": {},
   "outputs": [],
   "source": [
    "# Añadimos la serie de temperaturas mínimas, tamaño 5, color #0000cd\n"
   ]
  },
  {
   "cell_type": "markdown",
   "metadata": {},
   "source": [
    "<h2>Configuración de ejes, tamañoy etiquetas/labels del gráfico</h2>"
   ]
  },
  {
   "cell_type": "code",
   "execution_count": null,
   "metadata": {},
   "outputs": [],
   "source": [
    "# Establecemos los ejes para que se ajusten al ancho de los datos (0, 366) y al alto (-5, 40)\n"
   ]
  },
  {
   "cell_type": "code",
   "execution_count": null,
   "metadata": {},
   "outputs": [],
   "source": [
    "# Establecemos el nombre del gráfico: Temperatura en Madrid\n"
   ]
  },
  {
   "cell_type": "code",
   "execution_count": null,
   "metadata": {},
   "outputs": [],
   "source": [
    "# Establecemos los ticks de los ejes para que contengan los meses y las temperaturas en formato Xº\n"
   ]
  },
  {
   "cell_type": "code",
   "execution_count": null,
   "metadata": {},
   "outputs": [],
   "source": [
    "# Establecemos el tamaño del gráfico para que sea más ancho\n"
   ]
  },
  {
   "cell_type": "markdown",
   "metadata": {},
   "source": [
    "<h2>Estilos</h2>"
   ]
  },
  {
   "cell_type": "code",
   "execution_count": null,
   "metadata": {},
   "outputs": [],
   "source": [
    "# Modificamos el estilo para que no haya ejes, ni ticks\n"
   ]
  },
  {
   "cell_type": "code",
   "execution_count": null,
   "metadata": {},
   "outputs": [],
   "source": [
    "# Modificamos la fuente para que sea arial y pintamos la línea vertical del 0 (tamaño 1, color #8b7e66) y las lineas\n",
    "# de separación de los meses\n"
   ]
  },
  {
   "cell_type": "code",
   "execution_count": null,
   "metadata": {},
   "outputs": [],
   "source": [
    "# Modificamos el color de los ticks para que sea #888888 y el estilo del título para que sea de tamaño 14, negrita y\n",
    "# esté alineado a la izquierda\n"
   ]
  }
 ],
 "metadata": {
  "anaconda-cloud": {},
  "kernelspec": {
   "display_name": "Python 3",
   "language": "python",
   "name": "python3"
  },
  "language_info": {
   "codemirror_mode": {
    "name": "ipython",
    "version": 3
   },
   "file_extension": ".py",
   "mimetype": "text/x-python",
   "name": "python",
   "nbconvert_exporter": "python",
   "pygments_lexer": "ipython3",
   "version": "3.7.6"
  }
 },
 "nbformat": 4,
 "nbformat_minor": 4
}
