{
 "cells": [
  {
   "cell_type": "markdown",
   "metadata": {},
   "source": [
    "<h1>Posicionamiento de gráficos</h1>"
   ]
  },
  {
   "cell_type": "markdown",
   "metadata": {},
   "source": [
    "Aunque ya hemos visto algún ejemplo de posicionamiento (se podría considerar que la relación de aspecto del gráfico tiene más que ver con su posicionamiento que con la escala de los ejes), en este notebook vamos a ver qué posibilidades nos da matplotlib para la gestión de tamaños, grids multigráficos, etc.\n",
    "\n",
    "Como siempre, empezamos por la carga del módulo y de los sets de datos."
   ]
  },
  {
   "cell_type": "code",
   "execution_count": 1,
   "metadata": {},
   "outputs": [],
   "source": [
    "import numpy as np\n",
    "import pandas as pd\n",
    "import matplotlib.pyplot as plt\n",
    "\n",
    "mtcars = pd.read_table(\"mtcars.txt\", sep = \",\")\n",
    "diamonds = pd.read_table(\"diamonds.txt\", sep = \",\")"
   ]
  },
  {
   "cell_type": "markdown",
   "metadata": {},
   "source": [
    "<h2>Tamaño de gráficos</h2>"
   ]
  },
  {
   "cell_type": "markdown",
   "metadata": {},
   "source": [
    "Como se ha podido ver hasta ahora, el tamaño por defecto del renderizado de gráficos puede no ser siempre el adecuado (generalmente, excesivamente pequeño si el número de elementos en el gráfico es alto). \n",
    "\n",
    "Para poder modificar el tamaño del gráfico resultante, como ya hemos visto, matplotlib nos ofrece la función <b>figure</b> y al atributo <b>figsize</b>. Hay que tener en cuenta que el tamaño del gráfico se debe establecer de forma previa a la llamada a cualquiera de las funciones de pyplot."
   ]
  },
  {
   "cell_type": "code",
   "execution_count": null,
   "metadata": {},
   "outputs": [],
   "source": [
    "# Ampliación del tamaño del gráfico resultante\n",
    "cuts = list(diamonds['cut'].unique())\n",
    "x_values = [cuts.index(element) + np.random.uniform(-0.3, 0.3) for element in diamonds['cut']]\n",
    "y_values = diamonds['price']\n",
    "plt.figure(figsize = (10, 7))\n",
    "plt.scatter(x_values, y_values, color = \"black\", alpha = 0.1)\n",
    "plt.ylim(-0.5, 20000)\n",
    "plt.title(\"Price vs. Cut\", weight=\"bold\", size=15, color = \"0.3\")\n",
    "plt.xlabel(\"Cut\", weight=\"bold\", size=12)\n",
    "plt.ylabel(\"Price\", weight=\"bold\", size=12)\n",
    "plt.xticks(range(0, 5), cuts, rotation=45)\n",
    "plt.show()"
   ]
  },
  {
   "cell_type": "markdown",
   "metadata": {},
   "source": [
    "<h2>Grids multigráfico</h2>"
   ]
  },
  {
   "cell_type": "markdown",
   "metadata": {},
   "source": [
    "En matplotlib, el funcionamiento de los grids multigráfico es muy similar al que encontramos en base-r en el que, a priori, tenemos que definir las dimensiones de la rejilla en la que pintaremos cada gráfico y tenemos que ir colocando de forma manual cada figura en el lugar que le corresponde. No tenemos aquí, por tanto, un sistema automático de posicionamiento como teníamos con el \"facetting\" de ggplot2.\n",
    "\n",
    "Para hacer uso de este posicionamiento, matplotlib nos ofrece la función <b>subplot2grid</b>."
   ]
  },
  {
   "cell_type": "code",
   "execution_count": null,
   "metadata": {},
   "outputs": [],
   "source": [
    "# Distribución de precio por corte\n",
    "cuts = list(diamonds['cut'].unique())\n",
    "\n",
    "plt.figure(figsize=(12, 3))\n",
    "for i, element in enumerate(cuts):    \n",
    "    plt.subplot2grid((1, len(cuts)), (0, i))\n",
    "    plt.hist(diamonds[diamonds['cut'] == element].loc[:, 'price'].values)\n",
    "    plt.xlim(0, 20000)\n",
    "    plt.ylim(0, 13000)\n",
    "    plt.title(element)\n",
    "\n",
    "plt.tight_layout()\n",
    "plt.show()"
   ]
  },
  {
   "cell_type": "code",
   "execution_count": null,
   "metadata": {},
   "outputs": [],
   "source": [
    "# Distribución de precio por corte\n",
    "cuts = list(diamonds['cut'].unique())\n",
    "\n",
    "plt.figure(figsize=(10, 10))\n",
    "for i, element in enumerate(cuts):    \n",
    "    plt.subplot2grid((len(cuts), 1), (i, 0))\n",
    "    plt.hist(diamonds[diamonds['cut'] == element].loc[:, 'price'].values)\n",
    "    plt.xlim(0, 20000)\n",
    "    plt.title(element)\n",
    "\n",
    "plt.tight_layout()\n",
    "plt.show()"
   ]
  },
  {
   "cell_type": "code",
   "execution_count": null,
   "metadata": {},
   "outputs": [],
   "source": []
  }
 ],
 "metadata": {
  "anaconda-cloud": {},
  "kernelspec": {
   "display_name": "Python 3",
   "language": "python",
   "name": "python3"
  },
  "language_info": {
   "codemirror_mode": {
    "name": "ipython",
    "version": 3
   },
   "file_extension": ".py",
   "mimetype": "text/x-python",
   "name": "python",
   "nbconvert_exporter": "python",
   "pygments_lexer": "ipython3",
   "version": "3.8.8"
  },
  "varInspector": {
   "cols": {
    "lenName": 16,
    "lenType": 16,
    "lenVar": 40
   },
   "kernels_config": {
    "python": {
     "delete_cmd_postfix": "",
     "delete_cmd_prefix": "del ",
     "library": "var_list.py",
     "varRefreshCmd": "print(var_dic_list())"
    },
    "r": {
     "delete_cmd_postfix": ") ",
     "delete_cmd_prefix": "rm(",
     "library": "var_list.r",
     "varRefreshCmd": "cat(var_dic_list()) "
    }
   },
   "types_to_exclude": [
    "module",
    "function",
    "builtin_function_or_method",
    "instance",
    "_Feature"
   ],
   "window_display": false
  }
 },
 "nbformat": 4,
 "nbformat_minor": 4
}
