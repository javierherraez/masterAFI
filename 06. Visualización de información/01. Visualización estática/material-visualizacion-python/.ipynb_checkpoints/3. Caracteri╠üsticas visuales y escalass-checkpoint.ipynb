{
 "cells": [
  {
   "cell_type": "markdown",
   "metadata": {},
   "source": [
    "<h1>Características visuales y escalas</h1>"
   ]
  },
  {
   "cell_type": "markdown",
   "metadata": {},
   "source": [
    "Aunque ya se ha adelantado algo al revisar los diferentes tipos de gráfico, vamos a revisar cómo definir y gestionar el mapeo de diferentes características visuales en nuestros gráficos. Es decir, vamos a ver el \"equivalente\" a los aesthetics de ggplot2.\n",
    "\n",
    "Empecemos, como siempre, por importar el módulo y dejar los sets de datos cargados para las pruebas."
   ]
  },
  {
   "cell_type": "code",
   "execution_count": 1,
   "metadata": {},
   "outputs": [],
   "source": [
    "import numpy as np\n",
    "import pandas as pd\n",
    "import matplotlib.pyplot as plt\n",
    "\n",
    "mtcars = pd.read_table(\"mtcars.txt\", sep = \",\")\n",
    "diamonds = pd.read_table(\"diamonds.txt\", sep = \",\")"
   ]
  },
  {
   "cell_type": "markdown",
   "metadata": {},
   "source": [
    "<h2>Colores</h2>"
   ]
  },
  {
   "cell_type": "markdown",
   "metadata": {},
   "source": [
    "Matplotlib incluye estilos y paletas por defecto para todas las funciones y tipos de gráfico que ofrece. Sin embargo, estos colores \"generalmente\" son útiles sólo como base de prototipado de gráficos. De cara a generar gráficos finales para terceros, es conveniente adecuar la escala de colores para hacerla más adecuada y atractiva para el objetivo perseguido."
   ]
  },
  {
   "cell_type": "markdown",
   "metadata": {},
   "source": [
    "<h3>Definición de colores</h3>"
   ]
  },
  {
   "cell_type": "markdown",
   "metadata": {},
   "source": [
    "En matplotlib podemos definir colores de cinco formas bien diferenciadas:\n",
    "\n",
    "<ul>\n",
    "<li><b>Tripletas: </b>Definición de colores mediante tuplas (r, g, b) donde cada componente puede tomar un valor entre 0 y 1.</li>\n",
    "<li><b>Cuádruplas: </b>Definición de colores mediante tuplas (r, g, b, a) donde cada componente puede tomar un valor entre 0 y 1.</li>\n",
    "<li><b>Nombres de colores:</b> Nombre HTML de colores (p.e. red, green, cyan, magenta...)</li>\n",
    "<li><b>Cadenas hexadecimales:</b> Colores definidos con tres bloques de hexadecimales como #RRGGBB.</li>\n",
    "<li><b>Cadenas de escala de grises:</b> Cadenas con una representación numérica entre 0 y 1 que se interpretará como el porcentaje de blanco.</li>\n",
    "</ul>"
   ]
  },
  {
   "cell_type": "code",
   "execution_count": null,
   "metadata": {},
   "outputs": [],
   "source": [
    "# Color por tripletas\n",
    "plt.scatter(mtcars[mtcars.am == 0].mpg, mtcars[mtcars.am == 0].hp, color = (1.0, 0.0, 0.0))\n",
    "plt.scatter(mtcars[mtcars.am == 1].mpg, mtcars[mtcars.am == 1].hp, color = (0.0, 1.0, 0.0))\n",
    "plt.show()"
   ]
  },
  {
   "cell_type": "code",
   "execution_count": null,
   "metadata": {},
   "outputs": [],
   "source": [
    "# Color por cuádruplas\n",
    "plt.scatter(mtcars[mtcars.am == 0].mpg, mtcars[mtcars.am == 0].hp, color = (1.0, 0.0, 0.0, 0.5))\n",
    "plt.scatter(mtcars[mtcars.am == 1].mpg, mtcars[mtcars.am == 1].hp, color = (0.0, 1.0, 0.0, 0.3))\n",
    "plt.show()"
   ]
  },
  {
   "cell_type": "code",
   "execution_count": null,
   "metadata": {},
   "outputs": [],
   "source": [
    "# Color por cuádruplas\n",
    "plt.scatter(mtcars[mtcars.am == 0].mpg, mtcars[mtcars.am == 0].hp, color = \"red\")\n",
    "plt.scatter(mtcars[mtcars.am == 1].mpg, mtcars[mtcars.am == 1].hp, color = \"green\")\n",
    "plt.show()"
   ]
  },
  {
   "cell_type": "code",
   "execution_count": null,
   "metadata": {},
   "outputs": [],
   "source": [
    "# Color por cadenas hexadecimales\n",
    "plt.scatter(mtcars[mtcars.am == 0].mpg, mtcars[mtcars.am == 0].hp, color = \"#FF0000\")\n",
    "plt.scatter(mtcars[mtcars.am == 1].mpg, mtcars[mtcars.am == 1].hp, color = \"#00FF00\")\n",
    "plt.show()"
   ]
  },
  {
   "cell_type": "code",
   "execution_count": null,
   "metadata": {},
   "outputs": [],
   "source": [
    "# Color por cadenas de escala de grises\n",
    "plt.scatter(mtcars[mtcars.am == 0].mpg, mtcars[mtcars.am == 0].hp, color = \"0.3\")\n",
    "plt.scatter(mtcars[mtcars.am == 1].mpg, mtcars[mtcars.am == 1].hp, color = \"0.5\")\n",
    "plt.show()"
   ]
  },
  {
   "cell_type": "markdown",
   "metadata": {},
   "source": [
    "<h3>Escalas de color</h3>"
   ]
  },
  {
   "cell_type": "markdown",
   "metadata": {},
   "source": [
    "A no ser que nos encontremos ante un gráfico en el que todos los puntos (o grandes grupos de los mismos) son de un color fijo, establecer los colores de forma manual puede ser tedioso e incluso inviable. Para solucionar este problema, matplotlib nos permite llevar a cabo la definición de escalas de color o <b>colormaps</b>.\n",
    "\n",
    "El módulo, nos da acceso a estas escalas a través de un submódulo llamado <b>matplotlib.cm</b>. Para ver un listado completo de las escalas de color ofrecidas por matplotlib, se puede consultar <a href=\"http://matplotlib.org/users/colormaps.html\">este enlace</a> o <a href=\"http://matplotlib.org/gallery.html\">este otro</a>.\n",
    "\n",
    "Adicionalmente, habrá que establecer el mapeo que queremos hacer desde nuestros datos a los valores de la escala de color. matplotlib nos ofrece una serie de funciones de utilidad en el módulo <b>matplotlib.colors</b> para facilitar este mapeo.\n",
    "\n",
    "<b>IMPORTANTE</b>: TODOS los colormap de matplotlib son continuos y el mapeo se realiza normalizando los valores de nuestra variable (continua o discreta) a un rango entre 0 y 1."
   ]
  },
  {
   "cell_type": "code",
   "execution_count": null,
   "metadata": {},
   "outputs": [],
   "source": [
    "from matplotlib import cm\n",
    "from matplotlib import colors\n",
    "\n",
    "# Preparamos nuestros datos\n",
    "dataset = diamonds.groupby('clarity').size()"
   ]
  },
  {
   "cell_type": "code",
   "execution_count": null,
   "metadata": {},
   "outputs": [],
   "source": [
    "# Preparamos la escala de colores (para variable categórica)\n",
    "normalizer = colors.Normalize(vmin = 0, vmax = dataset.size)\n",
    "mapping = cm.ScalarMappable(norm=normalizer, cmap=cm.Set1)\n",
    "\n",
    "# Pintamos nuestro gráfico con la nueva escala\n",
    "plt.bar(dataset.index, dataset, color = mapping.to_rgba(np.arange(dataset.size)))\n",
    "plt.show()"
   ]
  },
  {
   "cell_type": "code",
   "execution_count": null,
   "metadata": {},
   "outputs": [],
   "source": [
    "# Preparamos la escala de colores (para variable continua)\n",
    "normalizer = colors.Normalize(vmin = diamonds.price.min(), vmax = diamonds.price.max())\n",
    "mapping = cm.ScalarMappable(norm = normalizer, cmap = cm.inferno)\n",
    "\n",
    "# Pintamos nuestro gráfico con los nuevos colores (escala continua en gráfico con colormap como parámetro)\n",
    "plt.scatter(diamonds.carat, diamonds.price, color = mapping.to_rgba(diamonds.price))\n",
    "plt.show()"
   ]
  },
  {
   "cell_type": "markdown",
   "metadata": {},
   "source": [
    "<h2>Formas</h2>"
   ]
  },
  {
   "cell_type": "markdown",
   "metadata": {},
   "source": [
    "De nuevo, matplotlib nos ofrece estilos por defecto para cada uno de los tipos gráfico que incluye. Sin embargo, ajustar estos estilos a nuestras necesidades, sobre todo de cara a la divulgación de nuestras visualizaciones es una buena práctica."
   ]
  },
  {
   "cell_type": "markdown",
   "metadata": {},
   "source": [
    "<h3>Marcadores y forma de punto</h3>"
   ]
  },
  {
   "cell_type": "markdown",
   "metadata": {},
   "source": [
    "Aunque en ejemplos anteriores hemos visto cómo establecer la forma de los puntos de un gráfico mediante el uso de marcadores predefinidos, matplotlib nos permite definir nuestros propios marcadores de 3 formas adicionales:\n",
    "\n",
    "<ul>\n",
    "<li><b>Lista de vértices:</b> Lista de pares de valores indicando los vértices del polígono que queremos usar.</li>\n",
    "<li><b>Polígono regular:</b> Mediante la tripleta (N, 0, angle) donde N es el número de lados y angle define una rotación.</li> \n",
    "<li><b>Estrella regular:</b> Mediante la tripleta (N, 1, angle) donde N es el número de puntas y angle define la rotación.</li>\n",
    "</ul>"
   ]
  },
  {
   "cell_type": "code",
   "execution_count": null,
   "metadata": {},
   "outputs": [],
   "source": [
    "# Marcador por vértices\n",
    "plt.scatter(mtcars[mtcars.am == 0].mpg, mtcars[mtcars.am == 0].hp, color = \"0.5\", \n",
    "            marker = [(0, 0.5), (0.5, 1), (1, 0.5), (0.5, 0)], s = 100)\n",
    "plt.scatter(mtcars[mtcars.am == 1].mpg, mtcars[mtcars.am == 1].hp, color = \"0.0\",\n",
    "            marker = [(0, 0), (0, 1), (1, 1), (1, 0)], s = 100)\n",
    "plt.show()"
   ]
  },
  {
   "cell_type": "code",
   "execution_count": null,
   "metadata": {},
   "outputs": [],
   "source": [
    "# Marcador por polígono\n",
    "plt.scatter(mtcars[mtcars.am == 0].mpg, mtcars[mtcars.am == 0].hp, color = \"0.5\", \n",
    "            marker = (5, 0, 0), s = 100)\n",
    "plt.scatter(mtcars[mtcars.am == 1].mpg, mtcars[mtcars.am == 1].hp, color = \"0.0\",\n",
    "            marker = (4, 0, 0), s = 100)\n",
    "plt.show()"
   ]
  },
  {
   "cell_type": "code",
   "execution_count": null,
   "metadata": {},
   "outputs": [],
   "source": [
    "# Marcador por estrella\n",
    "plt.scatter(mtcars[mtcars.am == 0].mpg, mtcars[mtcars.am == 0].hp, color = \"0.5\", \n",
    "            marker = (5, 1, 0), s = 100)\n",
    "plt.scatter(mtcars[mtcars.am == 1].mpg, mtcars[mtcars.am == 1].hp, color = \"0.0\",\n",
    "            marker = (4, 1, 0), s = 100)\n",
    "plt.show()"
   ]
  },
  {
   "cell_type": "markdown",
   "metadata": {},
   "source": [
    "<h2>Ejes</h2>"
   ]
  },
  {
   "cell_type": "markdown",
   "metadata": {},
   "source": [
    "Al igual que otras librerías gráficas, matplotlib nos permite gestionar el modo en el que se establecen los ejes de nuestro gráfico."
   ]
  },
  {
   "cell_type": "markdown",
   "metadata": {},
   "source": [
    "<h3>Rango de los ejes</h3>"
   ]
  },
  {
   "cell_type": "markdown",
   "metadata": {},
   "source": [
    "Como ocurre en casi todas las librerías gráficas, matplotlib ajustará el rango de cada eje a los valores mínimo y máximo de los datos subyacentes. Sin embargo, es posible modificar este funcionamiento y establecer manualmente la escala a visualizar.\n",
    "\n",
    "Para realizar esto, disponemos de dos funciones: xlim e ylim que definen la tupla que fija los límites máximos y mínimos. Con estas dos funciones podremos introducir márgenes, ajustar la zona de datos y hacer zoom sobre nuestros datos originales."
   ]
  },
  {
   "cell_type": "code",
   "execution_count": null,
   "metadata": {},
   "outputs": [],
   "source": [
    "# Ajuste de escala\n",
    "mpg_cyl = mtcars.groupby('cyl')['mpg'].mean()\n",
    "plt.bar(mpg_cyl.index, mpg_cyl.values, align=\"center\")\n",
    "plt.xlim(3, 9)\n",
    "plt.ylim(-3, 30)\n",
    "plt.show()"
   ]
  },
  {
   "cell_type": "code",
   "execution_count": null,
   "metadata": {},
   "outputs": [],
   "source": [
    "# Zoom\n",
    "cuts = list(diamonds['cut'].unique())\n",
    "x_values = [cuts.index(element) + np.random.uniform(-0.3, 0.3) for element in diamonds['cut']]\n",
    "y_values = diamonds['price']\n",
    "plt.scatter(x_values, y_values, color = \"black\", alpha = 0.1)\n",
    "plt.xlim(-0.5, 5)\n",
    "plt.ylim(1300, 1700)\n",
    "plt.show()"
   ]
  },
  {
   "cell_type": "markdown",
   "metadata": {},
   "source": [
    "<h3>Rejilla</h3>"
   ]
  },
  {
   "cell_type": "markdown",
   "metadata": {},
   "source": [
    "Además de poder controlar los ticks y escalas de los ejes, tenemos la posibilidad de decidir si queremos o no mostrar la rejilla del gráfico de forma que se facilite la lectura e interpretación de los elementos renderizados. \n",
    "\n",
    "Para ello, matplotlib pone a nuestra disposición la función <b>grid</b>."
   ]
  },
  {
   "cell_type": "code",
   "execution_count": null,
   "metadata": {},
   "outputs": [],
   "source": [
    "# Rejilla gris y punteada\n",
    "plt.scatter(mtcars[mtcars.am == 0].mpg, mtcars[mtcars.am == 0].hp, color = (1.0, 0.0, 0.0))\n",
    "plt.scatter(mtcars[mtcars.am == 1].mpg, mtcars[mtcars.am == 1].hp, color = (0.0, 1.0, 0.0))\n",
    "plt.grid(linewidth=1, linestyle=\"dotted\", color = \"0.7\")\n",
    "plt.show()"
   ]
  },
  {
   "cell_type": "code",
   "execution_count": null,
   "metadata": {},
   "outputs": [],
   "source": []
  }
 ],
 "metadata": {
  "anaconda-cloud": {},
  "kernelspec": {
   "display_name": "Python 3",
   "language": "python",
   "name": "python3"
  },
  "language_info": {
   "codemirror_mode": {
    "name": "ipython",
    "version": 3
   },
   "file_extension": ".py",
   "mimetype": "text/x-python",
   "name": "python",
   "nbconvert_exporter": "python",
   "pygments_lexer": "ipython3",
   "version": "3.8.8"
  },
  "varInspector": {
   "cols": {
    "lenName": 16,
    "lenType": 16,
    "lenVar": 40
   },
   "kernels_config": {
    "python": {
     "delete_cmd_postfix": "",
     "delete_cmd_prefix": "del ",
     "library": "var_list.py",
     "varRefreshCmd": "print(var_dic_list())"
    },
    "r": {
     "delete_cmd_postfix": ") ",
     "delete_cmd_prefix": "rm(",
     "library": "var_list.r",
     "varRefreshCmd": "cat(var_dic_list()) "
    }
   },
   "types_to_exclude": [
    "module",
    "function",
    "builtin_function_or_method",
    "instance",
    "_Feature"
   ],
   "window_display": false
  }
 },
 "nbformat": 4,
 "nbformat_minor": 4
}
