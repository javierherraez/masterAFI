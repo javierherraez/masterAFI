{
 "cells": [
  {
   "cell_type": "markdown",
   "metadata": {},
   "source": [
    "<h1>7. Más allá de matplotlib: seaborn</h1>"
   ]
  },
  {
   "cell_type": "markdown",
   "metadata": {},
   "source": [
    "Lejos de ser un paquete de visualización creado completamente de cero, el objetivo de seaborn ha sido siempre el de ofrecer un acceso más simple a la creación de gráficos basados en datos de matplotlib. De hecho, tal como indican en su documentación, seaborn \"debe ser visto como un complemento a matplotlib y no un reemplazo del mismo\". \n",
    "\n",
    "seaborn depende de matplotlib para la propia creación de gráficos y únicamente implementa una capa de abstracción superior ofrece:\n",
    "<ul>\n",
    "<li>Acceso directo a set de datos de prueba</li>\n",
    "<li>Mapeo de elementos visuales desde DataFrame completos utilizados como entrada.</li>\n",
    "<li>Automatización de determinados gráficos estadísticos.</li>\n",
    "<li>Temas y estilos más atractivos visualmente que matplotlib (al menos en versiones anteriores).</li>\n",
    "<li>Mayor facilidad para la creación de gráficos \"multigráfico\".</li>\n",
    "</ul>\n",
    "\n",
    "En definitiva, nos da las herramientas necesarias para facilitar el uso de matplotlib \"aproximándolo\" a lo que hace ggplot2 en R."
   ]
  },
  {
   "cell_type": "markdown",
   "metadata": {},
   "source": [
    "<h2>Utilizando seaborn</h2>"
   ]
  },
  {
   "cell_type": "markdown",
   "metadata": {},
   "source": [
    "Como hemos dicho, seaborn está desarrollado como complemento a matplotlib por lo que para permitir su funcionamiento tendremos que seguir las mismas reglas que con matplotlib."
   ]
  },
  {
   "cell_type": "code",
   "execution_count": null,
   "metadata": {},
   "outputs": [],
   "source": [
    "import numpy as np\n",
    "import pandas as pd\n",
    "import matplotlib.pyplot as plt"
   ]
  },
  {
   "cell_type": "markdown",
   "metadata": {},
   "source": [
    "Para poder usar seaborn, tendremos que importar el paquete del mismo nombre. Como siempre, el alias que asignemos es opcional, pero el estándar es usar <b>sns</b>."
   ]
  },
  {
   "cell_type": "code",
   "execution_count": null,
   "metadata": {},
   "outputs": [],
   "source": [
    "import seaborn as sns"
   ]
  },
  {
   "cell_type": "markdown",
   "metadata": {},
   "source": [
    "## Acceso a sets de datos de prueba"
   ]
  },
  {
   "cell_type": "markdown",
   "metadata": {},
   "source": [
    "Al igual que ocurre en ggplot2, seaborn nos da acceso a la carga directa de un cojunto amplio de sets de datos de prueba. Para llevar a cabo su carga, podemos utilizar la función load_dataset."
   ]
  },
  {
   "cell_type": "code",
   "execution_count": null,
   "metadata": {},
   "outputs": [],
   "source": [
    "iris = sns.load_dataset('iris')\n",
    "iris.head()"
   ]
  },
  {
   "cell_type": "code",
   "execution_count": null,
   "metadata": {},
   "outputs": [],
   "source": [
    "sns.get_dataset_names()"
   ]
  },
  {
   "cell_type": "markdown",
   "metadata": {},
   "source": [
    "## Mapeo de elementos visuales a variables"
   ]
  },
  {
   "cell_type": "markdown",
   "metadata": {},
   "source": [
    "Uno de los principales puntos negativos de matplotlib es la falta de asociación entre los datos que se le suministran a los gráficos para su visualización. Es decir, los valores asignados a diferentes elementos visuales (posición en X, posición en Y, colores, formas, etc.) se deben suministrar de forma manual a independiente.\n",
    "\n",
    "seaborn trata de mejorar esta situación incorporando un parámetro <b>data</b> a todos sus gráficos de forma que una vez establecido el set de datos (un DataFrame) podamos hacer referencia directa a las variables que incorpora. \n",
    "\n",
    "En definitiva, trata de incorporar la capa \"de datos\" presente en ggplot2 a la visualización en Python."
   ]
  },
  {
   "cell_type": "code",
   "execution_count": null,
   "metadata": {},
   "outputs": [],
   "source": [
    "sns.scatterplot(x='sepal_length', y='sepal_width', hue='species', data=iris)\n",
    "plt.show()"
   ]
  },
  {
   "cell_type": "markdown",
   "metadata": {},
   "source": [
    "<h2>Algunos gráficos con seaborn</h2>"
   ]
  },
  {
   "cell_type": "markdown",
   "metadata": {},
   "source": [
    "Dado que seaborn es un complemento sobre matplotlib, los tipos de gráfico que ofrece son, precisamente, aquellos de los que matplotlib carece (o hace complicada su utilización). Sin embargo, dado que matplotlib sigue evolucionando, algunos de los gráficos ya forman parte de la librería y, con el tiempo, es de esperar que sigan incorporándose más."
   ]
  },
  {
   "cell_type": "markdown",
   "metadata": {},
   "source": [
    "<h3>Distribución de una variable</h3>"
   ]
  },
  {
   "cell_type": "markdown",
   "metadata": {},
   "source": [
    "Como hemos visto, una de las carencias que más impactan al trabajar con matplotlib es la posibilidad de mostrar la distribución de las variables (aunque disponemos de histogramas y, ahora, de los gráficos de violín). \n",
    "\n",
    "seaborn ofrece múltiples funciones que solventan esta carencia tanto para distribuciones univariantes..."
   ]
  },
  {
   "cell_type": "code",
   "execution_count": null,
   "metadata": {},
   "outputs": [],
   "source": [
    "sns.distplot(iris['sepal_length'], hist = True, kde = True, rug = True)\n",
    "plt.show()"
   ]
  },
  {
   "cell_type": "code",
   "execution_count": null,
   "metadata": {},
   "outputs": [],
   "source": [
    "sns.kdeplot(iris['sepal_length'])\n",
    "plt.show()"
   ]
  },
  {
   "cell_type": "code",
   "execution_count": null,
   "metadata": {},
   "outputs": [],
   "source": [
    "sns.rugplot(iris['sepal_length'])\n",
    "plt.show()"
   ]
  },
  {
   "cell_type": "markdown",
   "metadata": {},
   "source": [
    "<h3>Distribución de dos variables</h3>"
   ]
  },
  {
   "cell_type": "markdown",
   "metadata": {},
   "source": [
    "... como para distribuciones bivariantes..."
   ]
  },
  {
   "cell_type": "code",
   "execution_count": null,
   "metadata": {},
   "outputs": [],
   "source": [
    "sns.jointplot(x = \"sepal_length\", y = \"sepal_width\", data = iris, kind = \"scatter\")\n",
    "plt.show()"
   ]
  },
  {
   "cell_type": "code",
   "execution_count": null,
   "metadata": {},
   "outputs": [],
   "source": [
    "sns.jointplot(x = \"sepal_length\", y = \"sepal_width\", data = iris, kind = \"hex\")\n",
    "plt.show()"
   ]
  },
  {
   "cell_type": "code",
   "execution_count": null,
   "metadata": {},
   "outputs": [],
   "source": [
    "sns.jointplot(x = \"sepal_length\", y = \"sepal_width\", data = iris, kind = \"kde\")\n",
    "plt.show()"
   ]
  },
  {
   "cell_type": "markdown",
   "metadata": {},
   "source": [
    "<h3>Relación 2 a 2 de variables</h3>"
   ]
  },
  {
   "cell_type": "markdown",
   "metadata": {},
   "source": [
    "... como para estudiar la relación entre todas las variables con una única visualización."
   ]
  },
  {
   "cell_type": "code",
   "execution_count": null,
   "metadata": {},
   "outputs": [],
   "source": [
    "sns.pairplot(iris)\n",
    "plt.show()"
   ]
  },
  {
   "cell_type": "code",
   "execution_count": null,
   "metadata": {},
   "outputs": [],
   "source": [
    "sns.pairplot(iris, diag_kind=\"kde\")\n",
    "plt.show()"
   ]
  },
  {
   "cell_type": "markdown",
   "metadata": {},
   "source": [
    "<h3>Regresiones</li>"
   ]
  },
  {
   "cell_type": "markdown",
   "metadata": {},
   "source": [
    "Otra de las \"carencias\" de matplotlib es la inclusión de \"estadísticos\" que ayuden a comprender el contenido de una visualización y su dataset subyacente de forma directa (ya que siempre se pueden calcular e incluir como una capa adicional a cualquier gráfico). \n",
    "\n",
    "seaborn trata de incluir esta funcionalidad para \"aproximar\" el funcionamiento de los stats de ggplot2."
   ]
  },
  {
   "cell_type": "code",
   "execution_count": null,
   "metadata": {},
   "outputs": [],
   "source": [
    "sns.lmplot(data=iris, x = \"sepal_length\", y = \"sepal_width\")\n",
    "plt.show()"
   ]
  },
  {
   "cell_type": "code",
   "execution_count": null,
   "metadata": {},
   "outputs": [],
   "source": [
    "sns.lmplot(data=iris, x = \"sepal_length\", y = \"sepal_width\", order = 3)\n",
    "plt.show()"
   ]
  },
  {
   "cell_type": "code",
   "execution_count": null,
   "metadata": {},
   "outputs": [],
   "source": [
    "sns.lmplot(data=iris, x = \"sepal_length\", y = \"sepal_width\", lowess = True)\n",
    "plt.show()"
   ]
  },
  {
   "cell_type": "code",
   "execution_count": null,
   "metadata": {},
   "outputs": [],
   "source": [
    "sns.lmplot(data=iris, x = \"sepal_length\", y = \"sepal_width\", hue=\"species\", markers=[\"+\", \"o\", \"^\"])\n",
    "plt.show()"
   ]
  },
  {
   "cell_type": "markdown",
   "metadata": {},
   "source": [
    "<h2>Multigráficos con seaborn</h2>"
   ]
  },
  {
   "cell_type": "markdown",
   "metadata": {},
   "source": [
    "Aunque hemos visto que matplotlib permite la creación de gráficos multigráfico, también hemos hablado de las limitaciones que tienen su generación ya que se basan únicamente en posicionamiento y es responsabilidad del usuario el ajuste de escalas, el dibujado de cada gráfico en su posición correspondiente, etc.\n",
    "\n",
    "seaborn trata de replicar el funcionamiento de los facets de ggplot2 facilitando la creación de gráficos multigráfico en base a datos."
   ]
  },
  {
   "cell_type": "code",
   "execution_count": null,
   "metadata": {},
   "outputs": [],
   "source": [
    "grid = sns.FacetGrid(iris, col = \"species\")\n",
    "grid.map(plt.scatter, \"sepal_length\", \"sepal_width\")\n",
    "plt.show()"
   ]
  },
  {
   "cell_type": "code",
   "execution_count": null,
   "metadata": {},
   "outputs": [],
   "source": [
    "grid = sns.FacetGrid(iris, row = \"species\")\n",
    "grid.map(plt.scatter, \"sepal_length\", \"sepal_width\")\n",
    "plt.show()"
   ]
  },
  {
   "cell_type": "code",
   "execution_count": null,
   "metadata": {},
   "outputs": [],
   "source": [
    "diamonds = pd.read_table(\"diamonds.txt\", sep = \",\")\n",
    "grid = sns.FacetGrid(diamonds, col = \"cut\", row = \"color\")\n",
    "grid.map(plt.hist, \"price\")\n",
    "plt.show()"
   ]
  },
  {
   "cell_type": "code",
   "execution_count": null,
   "metadata": {},
   "outputs": [],
   "source": []
  }
 ],
 "metadata": {
  "kernelspec": {
   "display_name": "Python 3",
   "language": "python",
   "name": "python3"
  },
  "language_info": {
   "codemirror_mode": {
    "name": "ipython",
    "version": 3
   },
   "file_extension": ".py",
   "mimetype": "text/x-python",
   "name": "python",
   "nbconvert_exporter": "python",
   "pygments_lexer": "ipython3",
   "version": "3.8.8"
  },
  "varInspector": {
   "cols": {
    "lenName": 16,
    "lenType": 16,
    "lenVar": 40
   },
   "kernels_config": {
    "python": {
     "delete_cmd_postfix": "",
     "delete_cmd_prefix": "del ",
     "library": "var_list.py",
     "varRefreshCmd": "print(var_dic_list())"
    },
    "r": {
     "delete_cmd_postfix": ") ",
     "delete_cmd_prefix": "rm(",
     "library": "var_list.r",
     "varRefreshCmd": "cat(var_dic_list()) "
    }
   },
   "types_to_exclude": [
    "module",
    "function",
    "builtin_function_or_method",
    "instance",
    "_Feature"
   ],
   "window_display": false
  }
 },
 "nbformat": 4,
 "nbformat_minor": 4
}
