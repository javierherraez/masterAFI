{
 "cells": [
  {
   "cell_type": "markdown",
   "metadata": {},
   "source": [
    "<h1>Estilos</h1>"
   ]
  },
  {
   "cell_type": "markdown",
   "metadata": {},
   "source": [
    "Hasta ahora hemos visto como configurar los diferentes elementos \"basados en datos\" de nuestro gráfico. Como último paso, nos queda ver cómo personalizar los elementos del gráfico no basados en datos, es decir, el estilo completo de los gráficos.\n",
    "\n",
    "Para empezar, como siempre, vamos a importar el módulo y los sets de datos."
   ]
  },
  {
   "cell_type": "code",
   "execution_count": 1,
   "metadata": {},
   "outputs": [],
   "source": [
    "import numpy as np\n",
    "import pandas as pd\n",
    "import matplotlib\n",
    "import matplotlib.pyplot as plt\n",
    "\n",
    "mtcars = pd.read_table(\"mtcars.txt\", sep = \",\")\n",
    "diamonds = pd.read_table(\"diamonds.txt\", sep = \",\")"
   ]
  },
  {
   "cell_type": "markdown",
   "metadata": {},
   "source": [
    "<h2>Estilos predefinidos</h2>"
   ]
  },
  {
   "cell_type": "markdown",
   "metadata": {},
   "source": [
    "El módulo matplotlib pone a nuestra disposición un conjunto de estilos completos predefinidos de forma que podamos \"librarnos\" del look & feel por defecto que incluyen los gráficos. Para mostrar el listado completo de estilos predefinidos disponibles en nuestro sistema, podemos usar la siguiente sentencia."
   ]
  },
  {
   "cell_type": "code",
   "execution_count": 2,
   "metadata": {},
   "outputs": [
    {
     "data": {
      "text/plain": [
       "['Solarize_Light2',\n",
       " '_classic_test_patch',\n",
       " 'bmh',\n",
       " 'classic',\n",
       " 'dark_background',\n",
       " 'fast',\n",
       " 'fivethirtyeight',\n",
       " 'ggplot',\n",
       " 'grayscale',\n",
       " 'seaborn',\n",
       " 'seaborn-bright',\n",
       " 'seaborn-colorblind',\n",
       " 'seaborn-dark',\n",
       " 'seaborn-dark-palette',\n",
       " 'seaborn-darkgrid',\n",
       " 'seaborn-deep',\n",
       " 'seaborn-muted',\n",
       " 'seaborn-notebook',\n",
       " 'seaborn-paper',\n",
       " 'seaborn-pastel',\n",
       " 'seaborn-poster',\n",
       " 'seaborn-talk',\n",
       " 'seaborn-ticks',\n",
       " 'seaborn-white',\n",
       " 'seaborn-whitegrid',\n",
       " 'tableau-colorblind10']"
      ]
     },
     "execution_count": 2,
     "metadata": {},
     "output_type": "execute_result"
    }
   ],
   "source": [
    "plt.style.available"
   ]
  },
  {
   "cell_type": "markdown",
   "metadata": {},
   "source": [
    "Para poder modificar el estilo que se utiliza en los gráficos, matplotlib pone a nuestra disposición la función <b>use</b>."
   ]
  },
  {
   "cell_type": "code",
   "execution_count": null,
   "metadata": {},
   "outputs": [],
   "source": [
    "# Scatter plot básico\n",
    "plt.scatter(mtcars[mtcars.am == 0].mpg, mtcars[mtcars.am == 0].hp, color = (1.0, 0.0, 0.0))\n",
    "plt.scatter(mtcars[mtcars.am == 1].mpg, mtcars[mtcars.am == 1].hp, color = (0.0, 1.0, 0.0))\n",
    "plt.show()"
   ]
  },
  {
   "cell_type": "code",
   "execution_count": null,
   "metadata": {},
   "outputs": [],
   "source": [
    "# Almacenamos los estilos actuales\n",
    "plt.style.use(\"ggplot\")\n",
    "\n",
    "# Scatter plot básico\n",
    "plt.scatter(mtcars[mtcars.am == 0].mpg, mtcars[mtcars.am == 0].hp, color = (1.0, 0.0, 0.0))\n",
    "plt.scatter(mtcars[mtcars.am == 1].mpg, mtcars[mtcars.am == 1].hp, color = (0.0, 1.0, 0.0))\n",
    "plt.show()"
   ]
  },
  {
   "cell_type": "markdown",
   "metadata": {},
   "source": [
    "<h2>Modificación de estilos</h2>"
   ]
  },
  {
   "cell_type": "markdown",
   "metadata": {},
   "source": [
    "Además de los estilos por defecto, matplotlib nos permite modificar dichos estilos de dos formas."
   ]
  },
  {
   "cell_type": "markdown",
   "metadata": {},
   "source": [
    "<h3>Resetear al estilo por defecto</h3>"
   ]
  },
  {
   "cell_type": "markdown",
   "metadata": {},
   "source": [
    "Una vez establecido un estilo, todos los gráficos generados tendrán ese mismo aspecto. Es posible recuperar los parámetros por defecto de matplotlib utilizando la siguiente sintáxis."
   ]
  },
  {
   "cell_type": "code",
   "execution_count": null,
   "metadata": {},
   "outputs": [],
   "source": [
    "# Resetear estilos por defecto\n",
    "matplotlib.rcParams.update(matplotlib.rcParamsDefault)"
   ]
  },
  {
   "cell_type": "markdown",
   "metadata": {},
   "source": [
    "<h3>Hojas de estilos</h3>"
   ]
  },
  {
   "cell_type": "markdown",
   "metadata": {},
   "source": [
    "El módulo utiliza hojas de estilos para la definición de parámetros de los diferentes elementos de los gráficos. Estas hojas de estilos siguen el formato del fichero <b>matplotlibrc</b>, en el que se detalla el funcionamiento por defecto de la librería.\n",
    "\n",
    "Es posible definir un fichero de definición de parámetros propio (partiendo del que se puede encontrar <a href=\"http://matplotlib.org/users/customizing.html\">aquí</a> en el que se incluyen todas las características susceptibles de configuración) y almacenarlo en el sistema de forma que podamos utilizarlo posteriormente. \n",
    "\n",
    "Para la carga de estos ficheros de parametrización, matplotlib busca en una serie de directorios, el último de los cuales se puede consultar mediante el siguiente comando."
   ]
  },
  {
   "cell_type": "code",
   "execution_count": null,
   "metadata": {},
   "outputs": [],
   "source": [
    "matplotlib.get_configdir()"
   ]
  },
  {
   "cell_type": "markdown",
   "metadata": {},
   "source": [
    "De esta forma, si en la carpeta indicada guardamos un fichero con estructura <b>matplotlibrc</b> y con nombre <b>XXXX.mplstyle</b> donde XXXX será el nombre de nuestro estilo, en el momento de la carga del módulo tendremos a nuestra disposición nuestro estilo predefinido en el listado obtenido con <b>plt.style.available</b>."
   ]
  },
  {
   "cell_type": "markdown",
   "metadata": {},
   "source": [
    "<h3>Modificación manual de estilos</h3>"
   ]
  },
  {
   "cell_type": "markdown",
   "metadata": {},
   "source": [
    "Además de modificando las hojas de estilo, es posible modificar \"al vuelo\" las propiedades y estilos de los gráficos. Desde la versión 2.0 de matplotlib se ha avanzado bastante en este aspecto, aunque el volumen de cosas \"configurables\" a través de estilos es aún menor que el ofrecido por ggplot2 (y se sigue confiando mucho en los parámetros específicos de cada tipo de gráfico)."
   ]
  },
  {
   "cell_type": "code",
   "execution_count": null,
   "metadata": {},
   "outputs": [],
   "source": [
    "plt.style.use({ \"axes.linewidth\": 5, \"axes.grid\": True, \"grid.linestyle\": \"dashed\", \"grid.alpha\": 1})"
   ]
  },
  {
   "cell_type": "code",
   "execution_count": null,
   "metadata": {},
   "outputs": [],
   "source": [
    "# Gráfico básico con estilo modificado\n",
    "plt.scatter(mtcars[mtcars.am == 0].mpg, mtcars[mtcars.am == 0].hp, color = (1.0, 0.0, 0.0))\n",
    "plt.scatter(mtcars[mtcars.am == 1].mpg, mtcars[mtcars.am == 1].hp, color = (0.0, 1.0, 0.0))\n",
    "plt.show()"
   ]
  },
  {
   "cell_type": "markdown",
   "metadata": {},
   "source": [
    "Para obtener el listado completo de propiedades disponibles se puede usar, el contenido de la plantilla del fichero <b>matplotlibrc</b> o el resultado de la ejecución de la siguiente sentencia."
   ]
  },
  {
   "cell_type": "code",
   "execution_count": null,
   "metadata": {},
   "outputs": [],
   "source": [
    "dict(matplotlib.rcParams)"
   ]
  },
  {
   "cell_type": "code",
   "execution_count": null,
   "metadata": {},
   "outputs": [],
   "source": []
  }
 ],
 "metadata": {
  "anaconda-cloud": {},
  "kernelspec": {
   "display_name": "Python 3",
   "language": "python",
   "name": "python3"
  },
  "language_info": {
   "codemirror_mode": {
    "name": "ipython",
    "version": 3
   },
   "file_extension": ".py",
   "mimetype": "text/x-python",
   "name": "python",
   "nbconvert_exporter": "python",
   "pygments_lexer": "ipython3",
   "version": "3.8.8"
  },
  "varInspector": {
   "cols": {
    "lenName": 16,
    "lenType": 16,
    "lenVar": 40
   },
   "kernels_config": {
    "python": {
     "delete_cmd_postfix": "",
     "delete_cmd_prefix": "del ",
     "library": "var_list.py",
     "varRefreshCmd": "print(var_dic_list())"
    },
    "r": {
     "delete_cmd_postfix": ") ",
     "delete_cmd_prefix": "rm(",
     "library": "var_list.r",
     "varRefreshCmd": "cat(var_dic_list()) "
    }
   },
   "types_to_exclude": [
    "module",
    "function",
    "builtin_function_or_method",
    "instance",
    "_Feature"
   ],
   "window_display": false
  }
 },
 "nbformat": 4,
 "nbformat_minor": 4
}
