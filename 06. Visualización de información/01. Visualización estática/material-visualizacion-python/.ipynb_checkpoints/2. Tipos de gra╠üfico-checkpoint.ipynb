{
 "cells": [
  {
   "cell_type": "markdown",
   "metadata": {},
   "source": [
    "<h1>Tipos de gráfico</h1>"
   ]
  },
  {
   "cell_type": "markdown",
   "metadata": {},
   "source": [
    "En este notebook vamos a revisar algunas de las funciones que nos ofrece matplotlib para la generación de diferentes tipos de gráficos. Como se ha comentado, estas funciones siguen el estilo de base-r teniendo cada una de ellas un conjunto amplio de parámetros que permiten definir todas sus características (desde datos, a colores, estilos, etc.).\n",
    "\n",
    "Como se ha visto en ejemplos anteriores, estas funciones se pueden utilizar de forma conjunta como diferentes componentes \"o capas\" de un determinado gráfico. Esta composición se realiza mediante llamada secuencial \"en orden\" y se podrá obtener el resultado de la composición mediante la llamada a la función <b>show</b>.\n",
    "\n",
    "Empecemos habilitando el renderizado de gráficos en notebooks e importando los módulos pyplot, pandas y numpy."
   ]
  },
  {
   "cell_type": "code",
   "execution_count": 1,
   "metadata": {},
   "outputs": [],
   "source": [
    "import numpy as np\n",
    "import pandas as pd\n",
    "import matplotlib.pyplot as plt"
   ]
  },
  {
   "cell_type": "markdown",
   "metadata": {},
   "source": [
    "Para probar los diferentes tipo de gráficos, vamos a utilizar los mismos sets de datos que se usaron para ggplot2. Es decir, <b>mtcars</b> y <b>diamonds</b>. Los dejamos precargados mediante la utilización de pandas."
   ]
  },
  {
   "cell_type": "code",
   "execution_count": 2,
   "metadata": {},
   "outputs": [
    {
     "data": {
      "text/html": [
       "<div>\n",
       "<style scoped>\n",
       "    .dataframe tbody tr th:only-of-type {\n",
       "        vertical-align: middle;\n",
       "    }\n",
       "\n",
       "    .dataframe tbody tr th {\n",
       "        vertical-align: top;\n",
       "    }\n",
       "\n",
       "    .dataframe thead th {\n",
       "        text-align: right;\n",
       "    }\n",
       "</style>\n",
       "<table border=\"1\" class=\"dataframe\">\n",
       "  <thead>\n",
       "    <tr style=\"text-align: right;\">\n",
       "      <th></th>\n",
       "      <th>mpg</th>\n",
       "      <th>cyl</th>\n",
       "      <th>disp</th>\n",
       "      <th>hp</th>\n",
       "      <th>drat</th>\n",
       "      <th>wt</th>\n",
       "      <th>qsec</th>\n",
       "      <th>vs</th>\n",
       "      <th>am</th>\n",
       "      <th>gear</th>\n",
       "      <th>carb</th>\n",
       "    </tr>\n",
       "  </thead>\n",
       "  <tbody>\n",
       "    <tr>\n",
       "      <th>0</th>\n",
       "      <td>21.0</td>\n",
       "      <td>6</td>\n",
       "      <td>160.0</td>\n",
       "      <td>110</td>\n",
       "      <td>3.90</td>\n",
       "      <td>2.620</td>\n",
       "      <td>16.46</td>\n",
       "      <td>0</td>\n",
       "      <td>1</td>\n",
       "      <td>4</td>\n",
       "      <td>4</td>\n",
       "    </tr>\n",
       "    <tr>\n",
       "      <th>1</th>\n",
       "      <td>21.0</td>\n",
       "      <td>6</td>\n",
       "      <td>160.0</td>\n",
       "      <td>110</td>\n",
       "      <td>3.90</td>\n",
       "      <td>2.875</td>\n",
       "      <td>17.02</td>\n",
       "      <td>0</td>\n",
       "      <td>1</td>\n",
       "      <td>4</td>\n",
       "      <td>4</td>\n",
       "    </tr>\n",
       "    <tr>\n",
       "      <th>2</th>\n",
       "      <td>22.8</td>\n",
       "      <td>4</td>\n",
       "      <td>108.0</td>\n",
       "      <td>93</td>\n",
       "      <td>3.85</td>\n",
       "      <td>2.320</td>\n",
       "      <td>18.61</td>\n",
       "      <td>1</td>\n",
       "      <td>1</td>\n",
       "      <td>4</td>\n",
       "      <td>1</td>\n",
       "    </tr>\n",
       "    <tr>\n",
       "      <th>3</th>\n",
       "      <td>21.4</td>\n",
       "      <td>6</td>\n",
       "      <td>258.0</td>\n",
       "      <td>110</td>\n",
       "      <td>3.08</td>\n",
       "      <td>3.215</td>\n",
       "      <td>19.44</td>\n",
       "      <td>1</td>\n",
       "      <td>0</td>\n",
       "      <td>3</td>\n",
       "      <td>1</td>\n",
       "    </tr>\n",
       "    <tr>\n",
       "      <th>4</th>\n",
       "      <td>18.7</td>\n",
       "      <td>8</td>\n",
       "      <td>360.0</td>\n",
       "      <td>175</td>\n",
       "      <td>3.15</td>\n",
       "      <td>3.440</td>\n",
       "      <td>17.02</td>\n",
       "      <td>0</td>\n",
       "      <td>0</td>\n",
       "      <td>3</td>\n",
       "      <td>2</td>\n",
       "    </tr>\n",
       "  </tbody>\n",
       "</table>\n",
       "</div>"
      ],
      "text/plain": [
       "    mpg  cyl   disp   hp  drat     wt   qsec  vs  am  gear  carb\n",
       "0  21.0    6  160.0  110  3.90  2.620  16.46   0   1     4     4\n",
       "1  21.0    6  160.0  110  3.90  2.875  17.02   0   1     4     4\n",
       "2  22.8    4  108.0   93  3.85  2.320  18.61   1   1     4     1\n",
       "3  21.4    6  258.0  110  3.08  3.215  19.44   1   0     3     1\n",
       "4  18.7    8  360.0  175  3.15  3.440  17.02   0   0     3     2"
      ]
     },
     "execution_count": 2,
     "metadata": {},
     "output_type": "execute_result"
    }
   ],
   "source": [
    "mtcars = pd.read_csv(\"mtcars.txt\", sep = \",\")\n",
    "mtcars.head()"
   ]
  },
  {
   "cell_type": "code",
   "execution_count": 3,
   "metadata": {},
   "outputs": [
    {
     "data": {
      "text/html": [
       "<div>\n",
       "<style scoped>\n",
       "    .dataframe tbody tr th:only-of-type {\n",
       "        vertical-align: middle;\n",
       "    }\n",
       "\n",
       "    .dataframe tbody tr th {\n",
       "        vertical-align: top;\n",
       "    }\n",
       "\n",
       "    .dataframe thead th {\n",
       "        text-align: right;\n",
       "    }\n",
       "</style>\n",
       "<table border=\"1\" class=\"dataframe\">\n",
       "  <thead>\n",
       "    <tr style=\"text-align: right;\">\n",
       "      <th></th>\n",
       "      <th>carat</th>\n",
       "      <th>cut</th>\n",
       "      <th>color</th>\n",
       "      <th>clarity</th>\n",
       "      <th>depth</th>\n",
       "      <th>table</th>\n",
       "      <th>price</th>\n",
       "      <th>x</th>\n",
       "      <th>y</th>\n",
       "      <th>z</th>\n",
       "    </tr>\n",
       "  </thead>\n",
       "  <tbody>\n",
       "    <tr>\n",
       "      <th>0</th>\n",
       "      <td>0.23</td>\n",
       "      <td>Ideal</td>\n",
       "      <td>E</td>\n",
       "      <td>SI2</td>\n",
       "      <td>61.5</td>\n",
       "      <td>55.0</td>\n",
       "      <td>326</td>\n",
       "      <td>3.95</td>\n",
       "      <td>3.98</td>\n",
       "      <td>2.43</td>\n",
       "    </tr>\n",
       "    <tr>\n",
       "      <th>1</th>\n",
       "      <td>0.21</td>\n",
       "      <td>Premium</td>\n",
       "      <td>E</td>\n",
       "      <td>SI1</td>\n",
       "      <td>59.8</td>\n",
       "      <td>61.0</td>\n",
       "      <td>326</td>\n",
       "      <td>3.89</td>\n",
       "      <td>3.84</td>\n",
       "      <td>2.31</td>\n",
       "    </tr>\n",
       "    <tr>\n",
       "      <th>2</th>\n",
       "      <td>0.23</td>\n",
       "      <td>Good</td>\n",
       "      <td>E</td>\n",
       "      <td>VS1</td>\n",
       "      <td>56.9</td>\n",
       "      <td>65.0</td>\n",
       "      <td>327</td>\n",
       "      <td>4.05</td>\n",
       "      <td>4.07</td>\n",
       "      <td>2.31</td>\n",
       "    </tr>\n",
       "    <tr>\n",
       "      <th>3</th>\n",
       "      <td>0.29</td>\n",
       "      <td>Premium</td>\n",
       "      <td>I</td>\n",
       "      <td>VS2</td>\n",
       "      <td>62.4</td>\n",
       "      <td>58.0</td>\n",
       "      <td>334</td>\n",
       "      <td>4.20</td>\n",
       "      <td>4.23</td>\n",
       "      <td>2.63</td>\n",
       "    </tr>\n",
       "    <tr>\n",
       "      <th>4</th>\n",
       "      <td>0.31</td>\n",
       "      <td>Good</td>\n",
       "      <td>J</td>\n",
       "      <td>SI2</td>\n",
       "      <td>63.3</td>\n",
       "      <td>58.0</td>\n",
       "      <td>335</td>\n",
       "      <td>4.34</td>\n",
       "      <td>4.35</td>\n",
       "      <td>2.75</td>\n",
       "    </tr>\n",
       "  </tbody>\n",
       "</table>\n",
       "</div>"
      ],
      "text/plain": [
       "   carat      cut color clarity  depth  table  price     x     y     z\n",
       "0   0.23    Ideal     E     SI2   61.5   55.0    326  3.95  3.98  2.43\n",
       "1   0.21  Premium     E     SI1   59.8   61.0    326  3.89  3.84  2.31\n",
       "2   0.23     Good     E     VS1   56.9   65.0    327  4.05  4.07  2.31\n",
       "3   0.29  Premium     I     VS2   62.4   58.0    334  4.20  4.23  2.63\n",
       "4   0.31     Good     J     SI2   63.3   58.0    335  4.34  4.35  2.75"
      ]
     },
     "execution_count": 3,
     "metadata": {},
     "output_type": "execute_result"
    }
   ],
   "source": [
    "diamonds = pd.read_csv(\"diamonds.txt\", sep = \",\")\n",
    "diamonds.head()"
   ]
  },
  {
   "cell_type": "markdown",
   "metadata": {},
   "source": [
    "Dado que el tiempo es limitado, es esta clase no vamos a ver todos los posibles tipos de gráfico disponibles en matplotlib. Para consultar el conjunto completo de tipos de gráficos soportados por matplotlib, utiliza <a href=\"http://matplotlib.org/api/pyplot_summary.html\">este enlace</a> o <a href=\"http://matplotlib.org/gallery.html\">este otro</a>."
   ]
  },
  {
   "cell_type": "markdown",
   "metadata": {},
   "source": [
    "<h2>Líneas</h2>"
   ]
  },
  {
   "cell_type": "markdown",
   "metadata": {},
   "source": [
    "Se trata del tipo de gráfico \"por defecto\" de matplotlib. Se crean mediante la función <b>plot</b>.\n",
    "\n",
    "Según la documentación, esta función recibe dos parámetros:\n",
    "\n",
    "<ul>\n",
    "<li>Parámetro <b>args</b>: Se trata de un conjunto arbitrario de grupos de parámetros con la forma x, y, z, donde:\n",
    "<ul>\n",
    "    <li>x: Contiene el conjunto de valores a usar en el eje de las X.</li>\n",
    "    <li>y: Contiene el conjunto de valores a usar en el eje de las Y.</li>\n",
    "    <li>z: Contiene una cadena que especifica el formato de la línea.</li>\n",
    "</ul>\n",
    "</li>\n",
    "<li>Parámetro <b>kwargs</b>: Se trata de un conjunto arbitrario de parámetros que permiten establecer de forma global el estilo de las líneas incluidas en el gráfico.\n",
    "</ul>\n",
    "\n",
    "En este <a href=\"http://matplotlib.org/api/pyplot_api.html#matplotlib.pyplot.plot\">enlace</a> se puede encontrar la especificación completa de valores posibles tanto para las cadenas de formato del parámetro <b>args</b> como de parámetros disponibles para su configuración el parámetro <b>kwargs</b>."
   ]
  },
  {
   "cell_type": "code",
   "execution_count": null,
   "metadata": {},
   "outputs": [],
   "source": [
    "# Gráfico de líneas de cilindros contra consumo\n",
    "mpg_cyl = mtcars.groupby('cyl')['mpg'].mean()\n",
    "plt.plot(mpg_cyl.index, mpg_cyl.values)\n",
    "plt.show()"
   ]
  },
  {
   "cell_type": "code",
   "execution_count": null,
   "metadata": {},
   "outputs": [],
   "source": [
    "# Comparativa de tendencia de consumo y caballos contra cilindros\n",
    "dataset = mtcars.groupby('cyl')\n",
    "mpg_cyl = dataset['mpg'].mean()\n",
    "hp_cyl = dataset['hp'].mean()\n",
    "plt.plot(mpg_cyl.index, mpg_cyl.values)\n",
    "plt.plot(hp_cyl.index, hp_cyl.values)\n",
    "plt.show()"
   ]
  },
  {
   "cell_type": "code",
   "execution_count": null,
   "metadata": {},
   "outputs": [],
   "source": [
    "# Múltiples líneas en un mismo gráfico\n",
    "dataset = mtcars.groupby('cyl')\n",
    "mpg_cyl = dataset['mpg'].mean()\n",
    "hp_cyl = dataset['hp'].mean()\n",
    "plt.plot(mpg_cyl.index, mpg_cyl.values, hp_cyl.index, hp_cyl.values)\n",
    "plt.show()"
   ]
  },
  {
   "cell_type": "code",
   "execution_count": null,
   "metadata": {},
   "outputs": [],
   "source": [
    "# Modificación de estilos mediante cadenas de formato\n",
    "dataset = mtcars.groupby('cyl')\n",
    "mpg_cyl = dataset['mpg'].mean()\n",
    "hp_cyl = dataset['hp'].mean()\n",
    "plt.plot(mpg_cyl.index, mpg_cyl.values, 'o--r', hp_cyl.index, hp_cyl.values, ':^m')\n",
    "plt.show()"
   ]
  },
  {
   "cell_type": "code",
   "execution_count": null,
   "metadata": {},
   "outputs": [],
   "source": [
    "# Modificación de estilo mediante parámetros de línea\n",
    "dataset = mtcars.groupby('cyl')\n",
    "mpg_cyl = dataset['mpg'].mean()\n",
    "hp_cyl = dataset['hp'].mean()\n",
    "plt.plot(mpg_cyl.index, mpg_cyl.values, color = \"red\", linestyle=\"dashed\", marker=\"o\",\n",
    "        linewidth=5, markersize=10)\n",
    "plt.plot(hp_cyl.index, hp_cyl.values, color = \"magenta\", linestyle=\"--\", marker=\"^\",\n",
    "        linewidth=0.5, markersize=10)\n",
    "plt.show()"
   ]
  },
  {
   "cell_type": "markdown",
   "metadata": {},
   "source": [
    "<h2>Área</h2>"
   ]
  },
  {
   "cell_type": "markdown",
   "metadata": {},
   "source": [
    "En este caso nos encontramos, de nuevo, con gráficos de línea con la \"peculiaridad\" de que en este caso el área por debajo (o encima si los valores son negativos) de la línea hasta el eje de las X irá relleno. La función ofrecida por matplotlib para este tipo de gráfico se llama <b>stackplot</b> y sus parámetros son idénticos a los de <b>plot</b>.\n",
    "\n",
    "De nuevo, para un listado completo de posibles valores para los parámetros de formatos, se puede consultar <a href=\"http://matplotlib.org/api/pyplot_api.html#matplotlib.pyplot.stackplot\">este enlace</a>."
   ]
  },
  {
   "cell_type": "code",
   "execution_count": null,
   "metadata": {},
   "outputs": [],
   "source": [
    "# Gráfico de área de cilindros contra consumo\n",
    "mpg_cyl = mtcars.groupby('cyl')['mpg'].mean()\n",
    "plt.stackplot(mpg_cyl.index, mpg_cyl.values)\n",
    "plt.show()"
   ]
  },
  {
   "cell_type": "code",
   "execution_count": null,
   "metadata": {},
   "outputs": [],
   "source": [
    "# Gráfico de área (stacked) de cilindros contra consumo y caballos\n",
    "dataset = mtcars.groupby('cyl')\n",
    "mpg_cyl = dataset['mpg'].mean()\n",
    "hp_cyl = dataset['hp'].mean()\n",
    "plt.stackplot(mpg_cyl.index, mpg_cyl.values, hp_cyl.values)\n",
    "plt.show()"
   ]
  },
  {
   "cell_type": "code",
   "execution_count": null,
   "metadata": {},
   "outputs": [],
   "source": [
    "# Modificación de estilos y colores\n",
    "dataset = mtcars.groupby('cyl')\n",
    "mpg_cyl = dataset['mpg'].mean()\n",
    "hp_cyl = dataset['hp'].mean()\n",
    "plt.stackplot(mpg_cyl.index, mpg_cyl.values, hp_cyl.values, colors = [\"red\", \"magenta\"], alpha = 0.5)\n",
    "plt.show()"
   ]
  },
  {
   "cell_type": "markdown",
   "metadata": {},
   "source": [
    "<h2>Puntos (scatter)</h2>"
   ]
  },
  {
   "cell_type": "markdown",
   "metadata": {},
   "source": [
    "Uno de los gráficos más utilizados es el denominado gráfico de puntos o scatter plot. En este caso, matplotlib nos ofrece la función <b>scatter</b>. Esta función recibirá, como mínimo, un conjunto de valores para el eje de las X y un conjunto de valores para el eje de las Y. \n",
    "\n",
    "Adicionalmente, pone a nuestra disposición un conjunto de parámetros que nos permitirán controlar diferentes características visuales de los puntos representados: tamaño, alpha, color, tipo de punto... En otras palabras, la función incluye parámetros específicos para cada \"aesthetic\" del gráfico.\n",
    "\n",
    "La definición completa de la función y sus parámetros se puede encontrar en <a href=\"http://matplotlib.org/api/pyplot_api.html#matplotlib.pyplot.scatter\">este enlace</a>."
   ]
  },
  {
   "cell_type": "code",
   "execution_count": null,
   "metadata": {},
   "outputs": [],
   "source": [
    "# Gráfico de quilates contra precio\n",
    "plt.scatter(diamonds.carat, diamonds.price)\n",
    "plt.show()"
   ]
  },
  {
   "cell_type": "code",
   "execution_count": null,
   "metadata": {},
   "outputs": [],
   "source": [
    "# Gráfico de quilates contra precio, con estilos para mejorar la visualización\n",
    "plt.scatter(diamonds.carat, diamonds.price, color = \"black\", alpha=0.1)\n",
    "plt.show()"
   ]
  },
  {
   "cell_type": "code",
   "execution_count": null,
   "metadata": {},
   "outputs": [],
   "source": [
    "# Gráfico de corte contra claridad con la proporción como tamaño del punto\n",
    "x_values = []\n",
    "y_values = []\n",
    "sizes = []\n",
    "for element_i in diamonds['cut'].unique():\n",
    "    for element_j in diamonds['clarity'].unique():\n",
    "        x_values.append(element_i)\n",
    "        y_values.append(element_j)\n",
    "        sizes.append(diamonds[(diamonds['cut'] == element_i) & (diamonds['clarity'] == element_j)].size / 100)\n",
    "        \n",
    "plt.scatter(x_values, y_values, s = sizes)\n",
    "plt.show()"
   ]
  },
  {
   "cell_type": "code",
   "execution_count": null,
   "metadata": {},
   "outputs": [],
   "source": [
    "# Gráfico de corte contra precio\n",
    "x_values = diamonds['cut']\n",
    "y_values = diamonds['price']\n",
    "plt.scatter(x_values, y_values, alpha = 0.1)\n",
    "plt.show()"
   ]
  },
  {
   "cell_type": "code",
   "execution_count": null,
   "metadata": {},
   "outputs": [],
   "source": [
    "# Jitter manual\n",
    "cuts = list(diamonds['cut'].unique())\n",
    "x_values = [cuts.index(element) + np.random.uniform(-0.3, 0.3) for element in diamonds['cut']]\n",
    "y_values = diamonds['price']\n",
    "plt.scatter(x_values, y_values, color = \"black\", alpha = 0.1)\n",
    "plt.xticks(range(len(cuts)), labels=cuts)\n",
    "plt.show()"
   ]
  },
  {
   "cell_type": "markdown",
   "metadata": {},
   "source": [
    "<h2>Barras</h2>"
   ]
  },
  {
   "cell_type": "markdown",
   "metadata": {},
   "source": [
    "Para la creación de gráficos de barra, matplotlib pone a nuestra disposición dos funciones: <b>bar</b> y <b>barh</b> (en función de la orientación que queramos dar al gráfico). Para su creación tendremos que pasar, de nuevo, el conjunto de valores del eje X y el conjunto de valores del eje Y.\n",
    "\n",
    "Adicionalmente, como ocurre con gráficos anteriores, dispondremos de parámetros específicos para controlar las diferentes características visuales: barras centradas en su valor, ancho de las barras, ticks a utilizar en cada una de las barras...\n",
    "\n",
    "La definición completa de la función y sus parámetros la podemos encontrar en <a href=\"http://matplotlib.org/api/pyplot_api.html#matplotlib.pyplot.bar\">este enlace</a>."
   ]
  },
  {
   "cell_type": "code",
   "execution_count": null,
   "metadata": {},
   "outputs": [],
   "source": [
    "# Gráfico de barras con la media de consumo por cilindros\n",
    "mpg_cyl = mtcars.groupby('cyl')['mpg'].mean()\n",
    "plt.bar(mpg_cyl.index, mpg_cyl.values)\n",
    "plt.show()"
   ]
  },
  {
   "cell_type": "code",
   "execution_count": null,
   "metadata": {},
   "outputs": [],
   "source": [
    "# Ajustamos a variables categóricas\n",
    "mpg_cyl = mtcars.groupby('cyl')['mpg'].mean()\n",
    "plt.bar([str(c) for c in mpg_cyl.index], mpg_cyl.values)\n",
    "plt.show()"
   ]
  },
  {
   "cell_type": "code",
   "execution_count": null,
   "metadata": {},
   "outputs": [],
   "source": [
    "# Establecemos estilos\n",
    "mpg_cyl = mtcars.groupby('cyl')['mpg'].mean()\n",
    "plt.bar([str(c) for c in mpg_cyl.index], mpg_cyl.values, color=\"red\")\n",
    "plt.show()"
   ]
  },
  {
   "cell_type": "code",
   "execution_count": null,
   "metadata": {},
   "outputs": [],
   "source": [
    "# Cambiamos la orientación\n",
    "mpg_cyl = mtcars.groupby('cyl')['mpg'].mean()\n",
    "plt.barh([str(c) for c in mpg_cyl.index], mpg_cyl.values, color=\"red\")\n",
    "plt.show()"
   ]
  },
  {
   "cell_type": "code",
   "execution_count": null,
   "metadata": {},
   "outputs": [],
   "source": [
    "# Gráficos de barras múltiples\n",
    "mpg_cyl_a = mtcars[mtcars['am'] == 0].groupby('cyl')['mpg'].mean()\n",
    "mpg_cyl_m = mtcars[mtcars['am'] == 1].groupby('cyl')['mpg'].mean()\n",
    "plt.bar(mpg_cyl_m.index, mpg_cyl_m.values, color = \"red\")\n",
    "plt.bar(mpg_cyl_a.index, mpg_cyl_a.values, color = \"blue\")\n",
    "plt.show()"
   ]
  },
  {
   "cell_type": "code",
   "execution_count": null,
   "metadata": {},
   "outputs": [],
   "source": [
    "# Gráficos de barras múltiples dodge\n",
    "mpg_cyl_a = mtcars[mtcars['am'] == 0].groupby('cyl')['mpg'].mean()\n",
    "mpg_cyl_m = mtcars[mtcars['am'] == 1].groupby('cyl')['mpg'].mean()\n",
    "plt.bar(mpg_cyl_a.index - 0.3, mpg_cyl_a.values, color = \"blue\", width = 0.6)\n",
    "plt.bar(mpg_cyl_m.index + 0.3, mpg_cyl_m.values, color = \"red\", width = 0.6)\n",
    "plt.show()"
   ]
  },
  {
   "cell_type": "code",
   "execution_count": null,
   "metadata": {},
   "outputs": [],
   "source": [
    "# Gráficos de barras stacked\n",
    "mpg_cyl_a = mtcars[mtcars['am'] == 0].groupby('cyl')['mpg'].mean()\n",
    "mpg_cyl_m = mtcars[mtcars['am'] == 1].groupby('cyl')['mpg'].mean()\n",
    "plt.bar(mpg_cyl_a.index, mpg_cyl_a.values, color = \"blue\", width=1)\n",
    "plt.bar(mpg_cyl_m.index, mpg_cyl_m.values, color = \"red\", width=1, bottom=mpg_cyl_a.values)\n",
    "plt.show()"
   ]
  },
  {
   "cell_type": "markdown",
   "metadata": {},
   "source": [
    "<h2>Tarta</h2>"
   ]
  },
  {
   "cell_type": "markdown",
   "metadata": {},
   "source": [
    "Al contrario que en ggplot2, matplotlib sí ofrece una forma directa para llevar a cabo la creación de gráficos de tarta. En concreto, disponemos de la función <b>pie</b>. Para la construcción de un gráfico de tarta, será necesario suministrar a la función un conjunto único de valores de forma que el módulo presentará la proporción de cada uno de los valores suministrados sobre el total.\n",
    "\n",
    "Como hasta ahora, la función pone a nuestra disposición un conjunto de parámetros visuales con los que personalizar el gráfico resultante: colores, representación de porcentajes dentro de gajos, resaltado de gajos...\n",
    "\n",
    "La documentación de la función se puede encontrar en <a href=\"http://matplotlib.org/api/pyplot_api.html#matplotlib.pyplot.pie\">este enlace</a>."
   ]
  },
  {
   "cell_type": "code",
   "execution_count": null,
   "metadata": {},
   "outputs": [],
   "source": [
    "# Proporción por claridad\n",
    "dataset = diamonds.groupby('clarity').size()\n",
    "plt.pie(dataset)\n",
    "plt.show()"
   ]
  },
  {
   "cell_type": "markdown",
   "metadata": {},
   "source": [
    "<h2>Histogramas</h2>"
   ]
  },
  {
   "cell_type": "markdown",
   "metadata": {},
   "source": [
    "Mediante la función <b>hist</b>, matplotlib nos permite llevar a cabo la creación de histogramas para la representación de la distribución de una variable numérica. Este conjunto de valores numéricos será el único parámetros obligatorio necesario para la creación del gráfico.\n",
    "\n",
    "Adicionalmente, dispondremos de parámetros para controlar: número de bins del histograma, normalización del histograma (de forma que obtengamos densidades), indicación de si se debe realizar un histograma acumulativo...\n",
    "\n",
    "La definición de la función, se puede encontrar <a href=\"http://matplotlib.org/api/pyplot_api.html#matplotlib.pyplot.hist\">aquí</a>."
   ]
  },
  {
   "cell_type": "code",
   "execution_count": null,
   "metadata": {},
   "outputs": [],
   "source": [
    "# Histograma básico\n",
    "plt.hist(diamonds['price'])\n",
    "plt.show()"
   ]
  },
  {
   "cell_type": "code",
   "execution_count": null,
   "metadata": {},
   "outputs": [],
   "source": [
    "# Histograma básico fijando el número de bins\n",
    "plt.hist(diamonds['price'], bins = 20)\n",
    "plt.show()"
   ]
  },
  {
   "cell_type": "markdown",
   "metadata": {},
   "source": [
    "<h2>Box-plot</h2>"
   ]
  },
  {
   "cell_type": "markdown",
   "metadata": {},
   "source": [
    "En matplotlib, no podía faltar la posibilidad de generar un gráfico de boxplot. Para ello, disponemos de la función <b>boxplot</b> que recibirá un conjunto de valores sobre el que calcular los rangos, medianas, bigotes y outliers.\n",
    "\n",
    "Dispondremos, como hasta ahora, de un conjunto amplio de parámetros opcionales que nos permitirán controlar: tipo de punto para representar outliers, control de si se muestran o no cajas y bigotes...\n",
    "\n",
    "La documentación de la función, en <a href=\"http://matplotlib.org/api/pyplot_api.html#matplotlib.pyplot.boxplot\">este enlace</a>."
   ]
  },
  {
   "cell_type": "code",
   "execution_count": null,
   "metadata": {},
   "outputs": [],
   "source": [
    "# Boxplot básico\n",
    "plt.boxplot(diamonds['price'])\n",
    "plt.show()"
   ]
  },
  {
   "cell_type": "code",
   "execution_count": null,
   "metadata": {},
   "outputs": [],
   "source": [
    "# Boxplot múltiple\n",
    "values_boxplot = []\n",
    "for i in diamonds['cut'].unique():\n",
    "    values_boxplot.append(diamonds[diamonds['cut'] == i]['price'])\n",
    "plt.boxplot(values_boxplot, labels=diamonds['cut'].unique())\n",
    "plt.show()"
   ]
  },
  {
   "cell_type": "markdown",
   "metadata": {},
   "source": [
    "<h2>Violin</h2>"
   ]
  },
  {
   "cell_type": "markdown",
   "metadata": {},
   "source": [
    "Aunque, como se ha visto, matplotlib no nos ofrece una función específica para la creación de curvas de densidad, sí nos ofrece la posiibilidad de representar gráficos de violin (híbrido entre boxplot y curvas de densidad). Para la construcción de este tipo de gráficos, dispondremos de la función <b>violinplot</b> a la que habrá que suministrar siempre el conjunto de valores sobre el que se quiere calcular la distribución.\n",
    "\n",
    "Como siempre, disponemos de un conjunto de parámetros adicionales con los que controlar diferentes características del gráfico: orientación, número de puntos utilizado para el cálculo de la distribución, método de cálculo...\n",
    "\n",
    "La documentación de la función, <a href=\"http://matplotlib.org/api/pyplot_api.html#matplotlib.pyplot.violin\">aquí</a>."
   ]
  },
  {
   "cell_type": "code",
   "execution_count": null,
   "metadata": {},
   "outputs": [],
   "source": [
    "# Violin básico\n",
    "plt.violinplot(diamonds['price'])\n",
    "plt.show()"
   ]
  },
  {
   "cell_type": "code",
   "execution_count": null,
   "metadata": {},
   "outputs": [],
   "source": [
    "# Violin múltiple\n",
    "values_violin = []\n",
    "for i in diamonds['cut'].unique():\n",
    "    values_violin.append(list(diamonds[diamonds['cut'] == i]['price']))\n",
    "plt.violinplot(values_violin)\n",
    "plt.xticks(range(1, len(diamonds['cut'].unique()) + 1), diamonds['cut'].unique())\n",
    "plt.show()"
   ]
  },
  {
   "cell_type": "code",
   "execution_count": null,
   "metadata": {},
   "outputs": [],
   "source": [
    "# Violin múltiple\n",
    "values_violin = []\n",
    "for i in diamonds['cut'].unique():\n",
    "    values_violin.append(list(diamonds[diamonds['cut'] == i]['price']))\n",
    "plt.violinplot(values_violin, vert=False)\n",
    "plt.yticks(range(1, len(diamonds['cut'].unique()) + 1), diamonds['cut'].unique())\n",
    "plt.show()"
   ]
  },
  {
   "cell_type": "markdown",
   "metadata": {},
   "source": [
    "<h2>Rango de línea</h2>"
   ]
  },
  {
   "cell_type": "markdown",
   "metadata": {},
   "source": [
    "Por último veremos los gráficos de rango de línea (dos valores de y, mínimo y máximo, para cada valor de x) para poder llevar a cabo la visualización de ejemplo que se está utilizando durante estas sesiones. Para llevar a cabo la construcción de este tipo de gráficos, matplotlib pone a nuestra disposición la función <b>vlines</b> a la que habrá que suministrar por tanto 3 series de datos (uno para cada coordenada de la línea). \n",
    "\n",
    "La documentación completa de la función, <a href=\"http://matplotlib.org/api/pyplot_api.html#matplotlib.pyplot.vlines\">aquí</a>."
   ]
  },
  {
   "cell_type": "code",
   "execution_count": null,
   "metadata": {},
   "outputs": [],
   "source": [
    "# Gráfico de lineas básico\n",
    "min_max_x = diamonds.groupby('clarity')['x'].agg(['min', 'max']).reset_index()\n",
    "plt.vlines(min_max_x.index, min_max_x['min'], min_max_x['max'])\n",
    "plt.show()"
   ]
  },
  {
   "cell_type": "code",
   "execution_count": null,
   "metadata": {},
   "outputs": [],
   "source": [
    "# Modificación de estilos\n",
    "plt.vlines(min_max_x.index, min_max_x['min'], min_max_x['max'], linewidth=10, color=\"red\")\n",
    "plt.show()"
   ]
  },
  {
   "cell_type": "code",
   "execution_count": null,
   "metadata": {},
   "outputs": [],
   "source": []
  }
 ],
 "metadata": {
  "anaconda-cloud": {},
  "kernelspec": {
   "display_name": "Python 3",
   "language": "python",
   "name": "python3"
  },
  "language_info": {
   "codemirror_mode": {
    "name": "ipython",
    "version": 3
   },
   "file_extension": ".py",
   "mimetype": "text/x-python",
   "name": "python",
   "nbconvert_exporter": "python",
   "pygments_lexer": "ipython3",
   "version": "3.8.8"
  },
  "varInspector": {
   "cols": {
    "lenName": 16,
    "lenType": 16,
    "lenVar": 40
   },
   "kernels_config": {
    "python": {
     "delete_cmd_postfix": "",
     "delete_cmd_prefix": "del ",
     "library": "var_list.py",
     "varRefreshCmd": "print(var_dic_list())"
    },
    "r": {
     "delete_cmd_postfix": ") ",
     "delete_cmd_prefix": "rm(",
     "library": "var_list.r",
     "varRefreshCmd": "cat(var_dic_list()) "
    }
   },
   "types_to_exclude": [
    "module",
    "function",
    "builtin_function_or_method",
    "instance",
    "_Feature"
   ],
   "window_display": false
  }
 },
 "nbformat": 4,
 "nbformat_minor": 4
}
