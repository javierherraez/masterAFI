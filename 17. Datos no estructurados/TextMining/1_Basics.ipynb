{
  "nbformat": 4,
  "nbformat_minor": 2,
  "metadata": {
    "colab": {
      "name": "1 Basics.ipynb",
      "provenance": [],
      "collapsed_sections": []
    },
    "kernelspec": {
      "name": "python3",
      "display_name": "Python 3.8.8 64-bit ('base': conda)"
    },
    "language_info": {
      "name": "python",
      "version": "3.8.8",
      "mimetype": "text/x-python",
      "codemirror_mode": {
        "name": "ipython",
        "version": 3
      },
      "pygments_lexer": "ipython3",
      "nbconvert_exporter": "python",
      "file_extension": ".py"
    },
    "interpreter": {
      "hash": "97ae724bfa85b9b34df7982b8bb8c7216f435b92902d749e4263f71162bea840"
    }
  },
  "cells": [
    {
      "cell_type": "markdown",
      "source": [
        "Text Mining - 1. Basics\r\n",
        "\r\n",
        "AFI - Máster en Data Science y Big Data\r\n",
        "\r\n",
        "Juan de Dios Romero Palop\r\n",
        "\r\n",
        "Abril 2022"
      ],
      "metadata": {
        "id": "7ciq5g1ik3tY"
      }
    },
    {
      "cell_type": "markdown",
      "source": [
        "# **Funciones básicas para trabajar con textos**"
      ],
      "metadata": {
        "id": "Kbtp063Ik54A"
      }
    },
    {
      "cell_type": "code",
      "execution_count": 1,
      "source": [
        "texto = \"En un lugar de la Mancha, de cuyo nombre no quiero acordarme, no hace mucho que vivia\"\r\n",
        "len(texto)"
      ],
      "outputs": [
        {
          "output_type": "execute_result",
          "data": {
            "text/plain": [
              "85"
            ]
          },
          "metadata": {},
          "execution_count": 1
        }
      ],
      "metadata": {
        "id": "oSUGwhvHljma"
      }
    },
    {
      "cell_type": "markdown",
      "source": [
        "Para dividir un texto por palabras utilizamos la función split() y especificamos que queremos dividir por espacios en blanco."
      ],
      "metadata": {
        "id": "tggOXHRtoFW9"
      }
    },
    {
      "cell_type": "code",
      "execution_count": 2,
      "source": [
        "# Division en palabras\r\n",
        "palabras = texto.split(' ')\r\n",
        "palabras"
      ],
      "outputs": [
        {
          "output_type": "execute_result",
          "data": {
            "text/plain": [
              "['En',\n",
              " 'un',\n",
              " 'lugar',\n",
              " 'de',\n",
              " 'la',\n",
              " 'Mancha,',\n",
              " 'de',\n",
              " 'cuyo',\n",
              " 'nombre',\n",
              " 'no',\n",
              " 'quiero',\n",
              " 'acordarme,',\n",
              " 'no',\n",
              " 'hace',\n",
              " 'mucho',\n",
              " 'que',\n",
              " 'vivia']"
            ]
          },
          "metadata": {},
          "execution_count": 2
        }
      ],
      "metadata": {
        "id": "OI9UuqHgmIqS"
      }
    },
    {
      "cell_type": "markdown",
      "source": [
        "En el split podemos especificar cualquier cosa para dividir, por ejemplo división por comas"
      ],
      "metadata": {
        "id": "tGorvTowtJHd"
      }
    },
    {
      "cell_type": "code",
      "execution_count": 3,
      "source": [
        "texto.split(',')"
      ],
      "outputs": [
        {
          "output_type": "execute_result",
          "data": {
            "text/plain": [
              "['En un lugar de la Mancha',\n",
              " ' de cuyo nombre no quiero acordarme',\n",
              " ' no hace mucho que vivia']"
            ]
          },
          "metadata": {},
          "execution_count": 3
        }
      ],
      "metadata": {
        "id": "Dq1JP0wOs1wF"
      }
    },
    {
      "cell_type": "markdown",
      "source": [
        "Una vez que tenemos las palabras por separado podemos filtrarlas para quedarnos con las que cumplen los requisitos que estamos buscando. Veamos algunos ejemplos."
      ],
      "metadata": {
        "id": "K5TNXZZktMZw"
      }
    },
    {
      "cell_type": "code",
      "execution_count": 4,
      "source": [
        "[palabra for palabra in palabras if len(palabra) > 3]"
      ],
      "outputs": [
        {
          "output_type": "execute_result",
          "data": {
            "text/plain": [
              "['lugar',\n",
              " 'Mancha,',\n",
              " 'cuyo',\n",
              " 'nombre',\n",
              " 'quiero',\n",
              " 'acordarme,',\n",
              " 'hace',\n",
              " 'mucho',\n",
              " 'vivia']"
            ]
          },
          "metadata": {},
          "execution_count": 4
        }
      ],
      "metadata": {
        "id": "0BgexL9smcu0"
      }
    },
    {
      "cell_type": "code",
      "execution_count": 5,
      "source": [
        "[palabra for palabra in palabras if palabra.istitle()]"
      ],
      "outputs": [
        {
          "output_type": "execute_result",
          "data": {
            "text/plain": [
              "['En', 'Mancha,']"
            ]
          },
          "metadata": {},
          "execution_count": 5
        }
      ],
      "metadata": {
        "id": "8SJZIhNnnBOC"
      }
    },
    {
      "cell_type": "code",
      "execution_count": 6,
      "source": [
        "[palabra for palabra in palabras if palabra.endswith('e')]"
      ],
      "outputs": [
        {
          "output_type": "execute_result",
          "data": {
            "text/plain": [
              "['de', 'de', 'nombre', 'hace', 'que']"
            ]
          },
          "metadata": {},
          "execution_count": 6
        }
      ],
      "metadata": {
        "id": "W2j6kUKZnOSR"
      }
    },
    {
      "cell_type": "code",
      "execution_count": 7,
      "source": [
        "[palabra for palabra in palabras if palabra.endswith('E')]"
      ],
      "outputs": [
        {
          "output_type": "execute_result",
          "data": {
            "text/plain": [
              "[]"
            ]
          },
          "metadata": {},
          "execution_count": 7
        }
      ],
      "metadata": {
        "id": "r-h73kZ75SNL"
      }
    },
    {
      "cell_type": "code",
      "execution_count": 8,
      "source": [
        "[palabra for palabra in palabras if palabra.startswith('m')]"
      ],
      "outputs": [
        {
          "output_type": "execute_result",
          "data": {
            "text/plain": [
              "['mucho']"
            ]
          },
          "metadata": {},
          "execution_count": 8
        }
      ],
      "metadata": {
        "id": "_vLgdJ0rnXdx"
      }
    },
    {
      "cell_type": "code",
      "execution_count": 9,
      "source": [
        "# Reto: ¿Cómo hacemos para quitar la coma a todas las palabras que se han quedado con ella pegada al final?"
      ],
      "outputs": [],
      "metadata": {
        "id": "gfOZm4WjEs-J"
      }
    },
    {
      "cell_type": "code",
      "execution_count": 10,
      "source": [
        "[palabra.replace(\",\",\"\") for palabra in palabras if palabra.__contains__(',')]"
      ],
      "outputs": [
        {
          "output_type": "execute_result",
          "data": {
            "text/plain": [
              "['Mancha', 'acordarme']"
            ]
          },
          "metadata": {},
          "execution_count": 10
        }
      ],
      "metadata": {
        "id": "GTIvGkL_FZfj"
      }
    },
    {
      "cell_type": "markdown",
      "source": [
        "Algunas funciones más para comprobar condiciones:\n",
        "\n",
        "\n",
        "*   isupper()\n",
        "*   islower()\n",
        "*   isdigit()\n",
        "*   operador **in**\n",
        "*   ...\n",
        "\n",
        "\n",
        "\n"
      ],
      "metadata": {
        "id": "Nu6q2noYpDLv"
      }
    },
    {
      "cell_type": "code",
      "execution_count": 11,
      "source": [
        "# Reto: ¿Qué ejemplos de uso reales se os ocurren para esta funcionalidad?  \r\n"
      ],
      "outputs": [],
      "metadata": {
        "id": "TWzWSr61uB2O"
      }
    },
    {
      "cell_type": "markdown",
      "source": [
        "La funcion split devuelve una lista de todas las palabras eliminando el caracter definido por el usuario. La lista puede contener palabras repetidas. Para obtener el conjunto de palabras únicas contenidas en el texto hay que utilizar **set()**."
      ],
      "metadata": {
        "id": "Qa70JW2RnpId"
      }
    },
    {
      "cell_type": "code",
      "execution_count": 12,
      "source": [
        "set(palabras)"
      ],
      "outputs": [
        {
          "output_type": "execute_result",
          "data": {
            "text/plain": [
              "{'En',\n",
              " 'Mancha,',\n",
              " 'acordarme,',\n",
              " 'cuyo',\n",
              " 'de',\n",
              " 'hace',\n",
              " 'la',\n",
              " 'lugar',\n",
              " 'mucho',\n",
              " 'no',\n",
              " 'nombre',\n",
              " 'que',\n",
              " 'quiero',\n",
              " 'un',\n",
              " 'vivia'}"
            ]
          },
          "metadata": {},
          "execution_count": 12
        }
      ],
      "metadata": {
        "id": "bz8FLQjkoMm2"
      }
    },
    {
      "cell_type": "code",
      "execution_count": 13,
      "source": [
        "# Reto: ¿Cómo comprobamos si existen palabras repetidas en un texto?\r\n",
        "len(set(palabras)) == len(palabras)"
      ],
      "outputs": [
        {
          "output_type": "execute_result",
          "data": {
            "text/plain": [
              "False"
            ]
          },
          "metadata": {},
          "execution_count": 13
        }
      ],
      "metadata": {
        "id": "EJltADTzoP4J"
      }
    },
    {
      "cell_type": "code",
      "execution_count": 14,
      "source": [
        "# Ojo con las mayúsculas\r\n",
        "texto2 = \"No puedo vivir sin ti, no hay manera\"\r\n",
        "print(texto2.split(' '))\r\n",
        "print(set(texto2.split(' ')))"
      ],
      "outputs": [
        {
          "output_type": "stream",
          "name": "stdout",
          "text": [
            "['No', 'puedo', 'vivir', 'sin', 'ti,', 'no', 'hay', 'manera']\n",
            "{'No', 'puedo', 'ti,', 'sin', 'manera', 'no', 'vivir', 'hay'}\n"
          ]
        }
      ],
      "metadata": {
        "id": "P2-2FizXoVwt"
      }
    },
    {
      "cell_type": "markdown",
      "source": [
        "Ademas de split() contamos con otras funciones que nos ayudan a hacer la division de los textos en estructuras mas sencillas. Por ejemplo, tenemos splitlines() que divide textos en parrafos (busca el caracter de ENTER -> '\\n')"
      ],
      "metadata": {
        "id": "9J9nyXhdrGjI"
      }
    },
    {
      "cell_type": "code",
      "execution_count": 15,
      "source": [
        "texto3 = '''Primera parte del Ingenioso hidalgo Don Quijote de la Mancha.\r\n",
        "Capitulo Primero. Que trata de la condicion y ejercicio del famoso hidalgo don Quijote de la Mancha'''"
      ],
      "outputs": [],
      "metadata": {
        "id": "FgUYlHisqy2h"
      }
    },
    {
      "cell_type": "code",
      "execution_count": 16,
      "source": [
        "texto3.splitlines()"
      ],
      "outputs": [
        {
          "output_type": "execute_result",
          "data": {
            "text/plain": [
              "['Primera parte del Ingenioso hidalgo Don Quijote de la Mancha.',\n",
              " 'Capitulo Primero. Que trata de la condicion y ejercicio del famoso hidalgo don Quijote de la Mancha']"
            ]
          },
          "metadata": {},
          "execution_count": 16
        }
      ],
      "metadata": {
        "id": "z0IDTIwSrBSb"
      }
    },
    {
      "cell_type": "markdown",
      "source": [
        "Podemos combinar ambas funciones para dividir los textos en parrafos y acabar teniendo las frases que pertenecen a cada parrafo."
      ],
      "metadata": {
        "id": "IWl3dvGFo0RJ"
      }
    },
    {
      "cell_type": "code",
      "execution_count": 17,
      "source": [
        "frases = [parrafo.split('.') for parrafo in texto3.splitlines()]\r\n",
        "frases"
      ],
      "outputs": [
        {
          "output_type": "execute_result",
          "data": {
            "text/plain": [
              "[['Primera parte del Ingenioso hidalgo Don Quijote de la Mancha', ''],\n",
              " ['Capitulo Primero',\n",
              "  ' Que trata de la condicion y ejercicio del famoso hidalgo don Quijote de la Mancha']]"
            ]
          },
          "metadata": {},
          "execution_count": 17
        }
      ],
      "metadata": {
        "id": "cFA0qqqjrmD3"
      }
    },
    {
      "cell_type": "code",
      "execution_count": 18,
      "source": [
        "# RETO: ¿Cómo se lee la siguiente celda y qué hace?\r\n",
        "[frase for parrafo in texto3.splitlines() for frase in parrafo.split('.') if len(frase) > 0]"
      ],
      "outputs": [
        {
          "output_type": "execute_result",
          "data": {
            "text/plain": [
              "['Primera parte del Ingenioso hidalgo Don Quijote de la Mancha',\n",
              " 'Capitulo Primero',\n",
              " ' Que trata de la condicion y ejercicio del famoso hidalgo don Quijote de la Mancha']"
            ]
          },
          "metadata": {},
          "execution_count": 18
        }
      ],
      "metadata": {
        "id": "UMnHdHyMzarV"
      }
    },
    {
      "cell_type": "markdown",
      "source": [
        "Combinando ambas funciones podemos obtener las palabras que pertenecen a cada párrafo."
      ],
      "metadata": {
        "id": "-KJ6KbiNpHXv"
      }
    },
    {
      "cell_type": "code",
      "execution_count": 19,
      "source": [
        "palabras = [frase.split(' ') for frase in texto3.splitlines()]\r\n",
        "palabras"
      ],
      "outputs": [
        {
          "output_type": "execute_result",
          "data": {
            "text/plain": [
              "[['Primera',\n",
              "  'parte',\n",
              "  'del',\n",
              "  'Ingenioso',\n",
              "  'hidalgo',\n",
              "  'Don',\n",
              "  'Quijote',\n",
              "  'de',\n",
              "  'la',\n",
              "  'Mancha.'],\n",
              " ['Capitulo',\n",
              "  'Primero.',\n",
              "  'Que',\n",
              "  'trata',\n",
              "  'de',\n",
              "  'la',\n",
              "  'condicion',\n",
              "  'y',\n",
              "  'ejercicio',\n",
              "  'del',\n",
              "  'famoso',\n",
              "  'hidalgo',\n",
              "  'don',\n",
              "  'Quijote',\n",
              "  'de',\n",
              "  'la',\n",
              "  'Mancha']]"
            ]
          },
          "metadata": {},
          "execution_count": 19
        }
      ],
      "metadata": {
        "id": "mILp_a6NsPBp"
      }
    },
    {
      "cell_type": "markdown",
      "source": [
        "Por último, si queremos dividir los textos en letras basta con convertir esas variables en listas."
      ],
      "metadata": {
        "id": "xnW7NIRfpQZP"
      }
    },
    {
      "cell_type": "code",
      "execution_count": 20,
      "source": [
        "## Obtener lista de letras de un texto\r\n",
        "texto2 = 'No puedo vivir sin ti, no hay manera'\r\n",
        "list(texto2)\r\n",
        "[letra for letra in list(texto2) if letra != ' ']"
      ],
      "outputs": [
        {
          "output_type": "execute_result",
          "data": {
            "text/plain": [
              "['N',\n",
              " 'o',\n",
              " 'p',\n",
              " 'u',\n",
              " 'e',\n",
              " 'd',\n",
              " 'o',\n",
              " 'v',\n",
              " 'i',\n",
              " 'v',\n",
              " 'i',\n",
              " 'r',\n",
              " 's',\n",
              " 'i',\n",
              " 'n',\n",
              " 't',\n",
              " 'i',\n",
              " ',',\n",
              " 'n',\n",
              " 'o',\n",
              " 'h',\n",
              " 'a',\n",
              " 'y',\n",
              " 'm',\n",
              " 'a',\n",
              " 'n',\n",
              " 'e',\n",
              " 'r',\n",
              " 'a']"
            ]
          },
          "metadata": {},
          "execution_count": 20
        }
      ],
      "metadata": {
        "id": "-GmBq4U-o5y-"
      }
    },
    {
      "cell_type": "code",
      "execution_count": 21,
      "source": [
        "len(' ')"
      ],
      "outputs": [
        {
          "output_type": "execute_result",
          "data": {
            "text/plain": [
              "1"
            ]
          },
          "metadata": {},
          "execution_count": 21
        }
      ],
      "metadata": {
        "id": "rYgGx1ah6g3v"
      }
    },
    {
      "cell_type": "code",
      "execution_count": 22,
      "source": [
        "# Si queremos quitarnos espacios y signos de puntuación basta con aplicar la condición de ser alfanumérico\r\n",
        "[letra for letra in texto2 if letra.isalpha()]"
      ],
      "outputs": [
        {
          "output_type": "execute_result",
          "data": {
            "text/plain": [
              "['N',\n",
              " 'o',\n",
              " 'p',\n",
              " 'u',\n",
              " 'e',\n",
              " 'd',\n",
              " 'o',\n",
              " 'v',\n",
              " 'i',\n",
              " 'v',\n",
              " 'i',\n",
              " 'r',\n",
              " 's',\n",
              " 'i',\n",
              " 'n',\n",
              " 't',\n",
              " 'i',\n",
              " 'n',\n",
              " 'o',\n",
              " 'h',\n",
              " 'a',\n",
              " 'y',\n",
              " 'm',\n",
              " 'a',\n",
              " 'n',\n",
              " 'e',\n",
              " 'r',\n",
              " 'a']"
            ]
          },
          "metadata": {},
          "execution_count": 22
        }
      ],
      "metadata": {
        "id": "C5CezvZsyJVW"
      }
    },
    {
      "cell_type": "code",
      "execution_count": 23,
      "source": [
        "# Al trabajar en castellano tambien hay que tener cuidado con los acentos\r\n",
        "'i' == 'í'"
      ],
      "outputs": [
        {
          "output_type": "execute_result",
          "data": {
            "text/plain": [
              "False"
            ]
          },
          "metadata": {},
          "execution_count": 23
        }
      ],
      "metadata": {
        "id": "njMwR-IJRIQL"
      }
    },
    {
      "cell_type": "markdown",
      "source": [
        "### Funciones que modifican textos"
      ],
      "metadata": {
        "id": "7-Yc2204z4u9"
      }
    },
    {
      "cell_type": "markdown",
      "source": [
        "A menudo es necesario aplicar funciones que no solo manipulan los textos sino que los modifican. ¿Qué ejemplos se os ocurren?"
      ],
      "metadata": {
        "id": "WTsX-n_vqamD"
      }
    },
    {
      "cell_type": "code",
      "execution_count": 24,
      "source": [
        "texto = \"No puedo vivir sin ti, no hay manera. No puedo estar sin tí, no hay manera.\""
      ],
      "outputs": [],
      "metadata": {
        "id": "tZacorIkq4dx"
      }
    },
    {
      "cell_type": "code",
      "execution_count": 25,
      "source": [
        "palabras_unicas = set(texto.split(' '))\r\n",
        "palabras_unicas"
      ],
      "outputs": [
        {
          "output_type": "execute_result",
          "data": {
            "text/plain": [
              "{'No', 'estar', 'hay', 'manera.', 'no', 'puedo', 'sin', 'ti,', 'tí,', 'vivir'}"
            ]
          },
          "metadata": {},
          "execution_count": 25
        }
      ],
      "metadata": {
        "id": "PB4zd707rhE0"
      }
    },
    {
      "cell_type": "code",
      "execution_count": 26,
      "source": [
        "texto.lower()"
      ],
      "outputs": [
        {
          "output_type": "execute_result",
          "data": {
            "text/plain": [
              "'no puedo vivir sin ti, no hay manera. no puedo estar sin tí, no hay manera.'"
            ]
          },
          "metadata": {},
          "execution_count": 26
        }
      ],
      "metadata": {
        "id": "OhH15098QFme"
      }
    },
    {
      "cell_type": "code",
      "execution_count": 27,
      "source": [
        "texto_min = texto.lower()\r\n",
        "palabras_unicas = set(texto_min.split(' '))\r\n",
        "palabras_unicas"
      ],
      "outputs": [
        {
          "output_type": "execute_result",
          "data": {
            "text/plain": [
              "{'estar', 'hay', 'manera.', 'no', 'puedo', 'sin', 'ti,', 'tí,', 'vivir'}"
            ]
          },
          "metadata": {},
          "execution_count": 27
        }
      ],
      "metadata": {
        "id": "ifm4vTAMrnMW"
      }
    },
    {
      "cell_type": "code",
      "execution_count": 28,
      "source": [
        "texto.upper()"
      ],
      "outputs": [
        {
          "output_type": "execute_result",
          "data": {
            "text/plain": [
              "'NO PUEDO VIVIR SIN TI, NO HAY MANERA. NO PUEDO ESTAR SIN TÍ, NO HAY MANERA.'"
            ]
          },
          "metadata": {},
          "execution_count": 28
        }
      ],
      "metadata": {
        "id": "FfLlgEs5ryLB"
      }
    },
    {
      "cell_type": "code",
      "execution_count": 29,
      "source": [
        "texto_min.capitalize()"
      ],
      "outputs": [
        {
          "output_type": "execute_result",
          "data": {
            "text/plain": [
              "'No puedo vivir sin ti, no hay manera. no puedo estar sin tí, no hay manera.'"
            ]
          },
          "metadata": {},
          "execution_count": 29
        }
      ],
      "metadata": {
        "id": "MZqbaRG6r3Fv"
      }
    },
    {
      "cell_type": "code",
      "execution_count": 30,
      "source": [
        "texto.swapcase()"
      ],
      "outputs": [
        {
          "output_type": "execute_result",
          "data": {
            "text/plain": [
              "'nO PUEDO VIVIR SIN TI, NO HAY MANERA. nO PUEDO ESTAR SIN TÍ, NO HAY MANERA.'"
            ]
          },
          "metadata": {},
          "execution_count": 30
        }
      ],
      "metadata": {
        "id": "6sF4a0K4slh8"
      }
    },
    {
      "cell_type": "code",
      "execution_count": 31,
      "source": [
        "texto.title()"
      ],
      "outputs": [
        {
          "output_type": "execute_result",
          "data": {
            "text/plain": [
              "'No Puedo Vivir Sin Ti, No Hay Manera. No Puedo Estar Sin Tí, No Hay Manera.'"
            ]
          },
          "metadata": {},
          "execution_count": 31
        }
      ],
      "metadata": {
        "id": "afCnWNP6szsd"
      }
    },
    {
      "cell_type": "markdown",
      "source": [
        "Una operación que es bastante común es la de eliminar espacios sobrantes al principio y final de las frases. Para ello se utiliza la función strip()."
      ],
      "metadata": {
        "id": "2ae_bxC3tVDw"
      }
    },
    {
      "cell_type": "code",
      "execution_count": 32,
      "source": [
        "texto_feo = '       Me he dejado un espacio al principio y al final  '"
      ],
      "outputs": [],
      "metadata": {
        "id": "WPvbMjKPtmzP"
      }
    },
    {
      "cell_type": "code",
      "execution_count": 33,
      "source": [
        "texto_feo.strip()"
      ],
      "outputs": [
        {
          "output_type": "execute_result",
          "data": {
            "text/plain": [
              "'Me he dejado un espacio al principio y al final'"
            ]
          },
          "metadata": {},
          "execution_count": 33
        }
      ],
      "metadata": {
        "id": "m2MnS4XItuKS"
      }
    },
    {
      "cell_type": "code",
      "execution_count": 34,
      "source": [
        "texto_feo.lstrip()"
      ],
      "outputs": [
        {
          "output_type": "execute_result",
          "data": {
            "text/plain": [
              "'Me he dejado un espacio al principio y al final  '"
            ]
          },
          "metadata": {},
          "execution_count": 34
        }
      ],
      "metadata": {
        "id": "kCGTB-p3ukPN"
      }
    },
    {
      "cell_type": "code",
      "execution_count": 35,
      "source": [
        "texto_feo.rstrip()"
      ],
      "outputs": [
        {
          "output_type": "execute_result",
          "data": {
            "text/plain": [
              "'       Me he dejado un espacio al principio y al final'"
            ]
          },
          "metadata": {},
          "execution_count": 35
        }
      ],
      "metadata": {
        "id": "Hzx8XsSMumcA"
      }
    },
    {
      "cell_type": "markdown",
      "source": [
        "Si lo que queremos es reemplazar algunos valores podemos utilizar la función replace()."
      ],
      "metadata": {
        "id": "HkgfkVHnuMrN"
      }
    },
    {
      "cell_type": "code",
      "execution_count": 36,
      "source": [
        "texto_acentos = texto.replace('í','i')\r\n",
        "texto_acentos"
      ],
      "outputs": [
        {
          "output_type": "execute_result",
          "data": {
            "text/plain": [
              "'No puedo vivir sin ti, no hay manera. No puedo estar sin ti, no hay manera.'"
            ]
          },
          "metadata": {},
          "execution_count": 36
        }
      ],
      "metadata": {
        "id": "P-hPjqO3qi7h"
      }
    },
    {
      "cell_type": "code",
      "execution_count": 37,
      "source": [
        "texto_acentos.replace('ti', 'el')"
      ],
      "outputs": [
        {
          "output_type": "execute_result",
          "data": {
            "text/plain": [
              "'No puedo vivir sin el, no hay manera. No puedo estar sin el, no hay manera.'"
            ]
          },
          "metadata": {},
          "execution_count": 37
        }
      ],
      "metadata": {
        "id": "99urdNzEvHB4"
      }
    },
    {
      "cell_type": "markdown",
      "source": [
        "### Leer un fichero de texto"
      ],
      "metadata": {
        "id": "IvZdIaOM0IRB"
      }
    },
    {
      "cell_type": "markdown",
      "source": [
        "https://docs.python.org/3/tutorial/inputoutput.html#reading-and-writing-files"
      ],
      "metadata": {
        "id": "LoNPnvtXkNaM"
      }
    },
    {
      "cell_type": "markdown",
      "source": [
        "Lo primero que tenemos que hacer para trabajar con ficheros de textos es abrirlos y especificar en qué modo (qué tipo de operaciones) queremos realizar con ellos. Una vez abiertos podemos leer la primera frase utilizando la función readline()"
      ],
      "metadata": {
        "id": "-qMZM-FhmxFZ"
      }
    },
    {
      "cell_type": "code",
      "execution_count": 38,
      "source": [
        "g = open('./reviews.txt','r')"
      ],
      "outputs": [],
      "metadata": {
        "id": "axxZNn3WjeMh"
      }
    },
    {
      "cell_type": "code",
      "execution_count": 39,
      "source": [
        "g.readline()"
      ],
      "outputs": [
        {
          "output_type": "execute_result",
          "data": {
            "text/plain": [
              "'bromwell high is a cartoon comedy . it ran at the same time as some other programs about school life  such as  teachers  . my   years in the teaching profession lead me to believe that bromwell high  s satire is much closer to reality than is  teachers  . the scramble to survive financially  the insightful students who can see right through their pathetic teachers  pomp  the pettiness of the whole situation  all remind me of the schools i knew and their students . when i saw the episode in which a student repeatedly tried to burn down the school  i immediately recalled . . . . . . . . . at . . . . . . . . . . high . a classic line inspector i  m here to sack one of your teachers . student welcome to bromwell high . i expect that many adults of my age think that bromwell high is far fetched . what a pity that it isn  t   \\n'"
            ]
          },
          "metadata": {},
          "execution_count": 39
        }
      ],
      "metadata": {
        "id": "XuFGWyJPjt-6"
      }
    },
    {
      "cell_type": "markdown",
      "source": [
        "¡Ojo! Una vez que hemos ejecutado readline() el cursor que tenemos en el fichero abierto avanza y se sitúa justo delante del último carácter que hemos leído. Por lo tanto, si ejecutamos otra vez el comando el resultado es distinto.\n"
      ],
      "metadata": {
        "id": "Wr-QpQaOkrVJ"
      }
    },
    {
      "cell_type": "code",
      "execution_count": 40,
      "source": [
        "g.readline()"
      ],
      "outputs": [
        {
          "output_type": "execute_result",
          "data": {
            "text/plain": [
              "'story of a man who has unnatural feelings for a pig . starts out with a opening scene that is a terrific example of absurd comedy . a formal orchestra audience is turned into an insane  violent mob by the crazy chantings of it  s singers . unfortunately it stays absurd the whole time with no general narrative eventually making it just too off putting . even those from the era should be turned off . the cryptic dialogue would make shakespeare seem easy to a third grader . on a technical level it  s better than you might think with some good cinematography by future great vilmos zsigmond . future stars sally kirkland and frederic forrest can be seen briefly .  \\n'"
            ]
          },
          "metadata": {},
          "execution_count": 40
        }
      ],
      "metadata": {
        "id": "jgciDy4zkRkz"
      }
    },
    {
      "cell_type": "markdown",
      "source": [
        "Si queremos situar el cursor en algún punto determinado del fichero podemos utilizar la función seek."
      ],
      "metadata": {
        "id": "C_RP-buWlnF1"
      }
    },
    {
      "cell_type": "code",
      "execution_count": 41,
      "source": [
        "g.seek(1)\r\n",
        "g.readline()"
      ],
      "outputs": [
        {
          "output_type": "execute_result",
          "data": {
            "text/plain": [
              "'romwell high is a cartoon comedy . it ran at the same time as some other programs about school life  such as  teachers  . my   years in the teaching profession lead me to believe that bromwell high  s satire is much closer to reality than is  teachers  . the scramble to survive financially  the insightful students who can see right through their pathetic teachers  pomp  the pettiness of the whole situation  all remind me of the schools i knew and their students . when i saw the episode in which a student repeatedly tried to burn down the school  i immediately recalled . . . . . . . . . at . . . . . . . . . . high . a classic line inspector i  m here to sack one of your teachers . student welcome to bromwell high . i expect that many adults of my age think that bromwell high is far fetched . what a pity that it isn  t   \\n'"
            ]
          },
          "metadata": {},
          "execution_count": 41
        }
      ],
      "metadata": {
        "id": "NMuTIeDRkepT"
      }
    },
    {
      "cell_type": "markdown",
      "source": [
        "Podemos leer el fichero entero y asignarlo a una sola variable utilizando read()"
      ],
      "metadata": {
        "id": "Ptoao52VmDEB"
      }
    },
    {
      "cell_type": "code",
      "execution_count": 42,
      "source": [
        "g.seek(0)\r\n",
        "texto_entero = g.read()\r\n",
        "len(texto_entero)"
      ],
      "outputs": [
        {
          "output_type": "execute_result",
          "data": {
            "text/plain": [
              "33678267"
            ]
          },
          "metadata": {},
          "execution_count": 42
        }
      ],
      "metadata": {
        "id": "RU8TtA3Cl-Uq"
      }
    },
    {
      "cell_type": "code",
      "execution_count": 43,
      "source": [
        "g.seek(0)\r\n",
        "texto_entero = g.read()\r\n",
        "g.seek(0)\r\n",
        "g.readline()"
      ],
      "outputs": [
        {
          "output_type": "execute_result",
          "data": {
            "text/plain": [
              "'bromwell high is a cartoon comedy . it ran at the same time as some other programs about school life  such as  teachers  . my   years in the teaching profession lead me to believe that bromwell high  s satire is much closer to reality than is  teachers  . the scramble to survive financially  the insightful students who can see right through their pathetic teachers  pomp  the pettiness of the whole situation  all remind me of the schools i knew and their students . when i saw the episode in which a student repeatedly tried to burn down the school  i immediately recalled . . . . . . . . . at . . . . . . . . . . high . a classic line inspector i  m here to sack one of your teachers . student welcome to bromwell high . i expect that many adults of my age think that bromwell high is far fetched . what a pity that it isn  t   \\n'"
            ]
          },
          "metadata": {},
          "execution_count": 43
        }
      ],
      "metadata": {
        "id": "6s9_7oXYtgEA"
      }
    },
    {
      "cell_type": "code",
      "execution_count": 44,
      "source": [
        "g.seek(0)\r\n",
        "veinte_primeros_caracteres = g.read(20)\r\n",
        "len(veinte_primeros_caracteres)"
      ],
      "outputs": [
        {
          "output_type": "execute_result",
          "data": {
            "text/plain": [
              "20"
            ]
          },
          "metadata": {},
          "execution_count": 44
        }
      ],
      "metadata": {
        "id": "JzjeHakrnYQH"
      }
    },
    {
      "cell_type": "code",
      "execution_count": 45,
      "source": [
        "parrafos = texto_entero.splitlines()\r\n",
        "len(parrafos)"
      ],
      "outputs": [
        {
          "output_type": "execute_result",
          "data": {
            "text/plain": [
              "25000"
            ]
          },
          "metadata": {},
          "execution_count": 45
        }
      ],
      "metadata": {
        "id": "Ge4-V4LhmR3q"
      }
    },
    {
      "cell_type": "code",
      "execution_count": 46,
      "source": [
        "parrafos[0:3]"
      ],
      "outputs": [
        {
          "output_type": "execute_result",
          "data": {
            "text/plain": [
              "['bromwell high is a cartoon comedy . it ran at the same time as some other programs about school life  such as  teachers  . my   years in the teaching profession lead me to believe that bromwell high  s satire is much closer to reality than is  teachers  . the scramble to survive financially  the insightful students who can see right through their pathetic teachers  pomp  the pettiness of the whole situation  all remind me of the schools i knew and their students . when i saw the episode in which a student repeatedly tried to burn down the school  i immediately recalled . . . . . . . . . at . . . . . . . . . . high . a classic line inspector i  m here to sack one of your teachers . student welcome to bromwell high . i expect that many adults of my age think that bromwell high is far fetched . what a pity that it isn  t   ',\n",
              " 'story of a man who has unnatural feelings for a pig . starts out with a opening scene that is a terrific example of absurd comedy . a formal orchestra audience is turned into an insane  violent mob by the crazy chantings of it  s singers . unfortunately it stays absurd the whole time with no general narrative eventually making it just too off putting . even those from the era should be turned off . the cryptic dialogue would make shakespeare seem easy to a third grader . on a technical level it  s better than you might think with some good cinematography by future great vilmos zsigmond . future stars sally kirkland and frederic forrest can be seen briefly .  ',\n",
              " 'homelessness  or houselessness as george carlin stated  has been an issue for years but never a plan to help those on the street that were once considered human who did everything from going to school  work  or vote for the matter . most people think of the homeless as just a lost cause while worrying about things such as racism  the war on iraq  pressuring kids to succeed  technology  the elections  inflation  or worrying if they  ll be next to end up on the streets .  br    br   but what if you were given a bet to live on the streets for a month without the luxuries you once had from a home  the entertainment sets  a bathroom  pictures on the wall  a computer  and everything you once treasure to see what it  s like to be homeless  that is goddard bolt  s lesson .  br    br   mel brooks  who directs  who stars as bolt plays a rich man who has everything in the world until deciding to make a bet with a sissy rival  jeffery tambor  to see if he can live in the streets for thirty days without the luxuries if bolt succeeds  he can do what he wants with a future project of making more buildings . the bet  s on where bolt is thrown on the street with a bracelet on his leg to monitor his every move where he can  t step off the sidewalk . he  s given the nickname pepto by a vagrant after it  s written on his forehead where bolt meets other characters including a woman by the name of molly  lesley ann warren  an ex  dancer who got divorce before losing her home  and her pals sailor  howard morris  and fumes  teddy wilson  who are already used to the streets . they  re survivors . bolt isn  t . he  s not used to reaching mutual agreements like he once did when being rich where it  s fight or flight  kill or be killed .  br    br   while the love connection between molly and bolt wasn  t necessary to plot  i found  life stinks  to be one of mel brooks  observant films where prior to being a comedy  it shows a tender side compared to his slapstick work such as blazing saddles  young frankenstein  or spaceballs for the matter  to show what it  s like having something valuable before losing it the next day or on the other hand making a stupid bet like all rich people do when they don  t know what to do with their money . maybe they should give it to the homeless instead of using it like monopoly money .  br    br   or maybe this film will inspire you to help others .  ']"
            ]
          },
          "metadata": {},
          "execution_count": 46
        }
      ],
      "metadata": {
        "id": "dBCX4yR977uO"
      }
    },
    {
      "cell_type": "markdown",
      "source": [
        "Es importante cerrar los ficheros cuando hemos terminado de trabajar con ellos para liberar memoria y permitir su uso por parte de otras aplicaciones."
      ],
      "metadata": {
        "id": "XbNbJGLjmqM5"
      }
    },
    {
      "cell_type": "code",
      "execution_count": 47,
      "source": [
        "g.close()"
      ],
      "outputs": [],
      "metadata": {
        "id": "4U5W1SswmcVx"
      }
    },
    {
      "cell_type": "code",
      "execution_count": 48,
      "source": [
        "g.closed"
      ],
      "outputs": [
        {
          "output_type": "execute_result",
          "data": {
            "text/plain": [
              "True"
            ]
          },
          "metadata": {},
          "execution_count": 48
        }
      ],
      "metadata": {
        "id": "E7XVa80unNPF"
      }
    },
    {
      "cell_type": "code",
      "execution_count": 49,
      "source": [
        "g = open('./reviews.txt','r')"
      ],
      "outputs": [],
      "metadata": {
        "id": "3BkBeDosnxx9"
      }
    },
    {
      "cell_type": "code",
      "execution_count": 50,
      "source": [
        "import os\r\n",
        "\r\n",
        "g = open('./reviews.txt','rb')\r\n",
        "g.seek(texto_entero.find('football'), 0)\r\n",
        "g.readline()"
      ],
      "outputs": [
        {
          "output_type": "execute_result",
          "data": {
            "text/plain": [
              "b'football is played whatsoever and we see the behind the scenes look at basically nothing . with the many stars in this film  it made no difference . i really don  t know why i watched this .  \\n'"
            ]
          },
          "metadata": {},
          "execution_count": 50
        }
      ],
      "metadata": {
        "id": "KyZ6qZOtyR0i"
      }
    },
    {
      "cell_type": "code",
      "execution_count": 51,
      "source": [
        "g.seek(texto_entero.find('football'), 0)\r\n",
        "g.seek(4,os.SEEK_CUR)\r\n",
        "g.readline()"
      ],
      "outputs": [
        {
          "output_type": "execute_result",
          "data": {
            "text/plain": [
              "b'ball is played whatsoever and we see the behind the scenes look at basically nothing . with the many stars in this film  it made no difference . i really don  t know why i watched this .  \\n'"
            ]
          },
          "metadata": {},
          "execution_count": 51
        }
      ],
      "metadata": {
        "id": "gIiAmwVC804c"
      }
    },
    {
      "cell_type": "code",
      "execution_count": 52,
      "source": [
        "g.close()"
      ],
      "outputs": [],
      "metadata": {
        "id": "2a-vixkVfA2n"
      }
    },
    {
      "cell_type": "code",
      "execution_count": 53,
      "source": [
        "g = open('./reviews.txt','r')\r\n",
        "g.readlines()[0:10]"
      ],
      "outputs": [
        {
          "output_type": "execute_result",
          "data": {
            "text/plain": [
              "['bromwell high is a cartoon comedy . it ran at the same time as some other programs about school life  such as  teachers  . my   years in the teaching profession lead me to believe that bromwell high  s satire is much closer to reality than is  teachers  . the scramble to survive financially  the insightful students who can see right through their pathetic teachers  pomp  the pettiness of the whole situation  all remind me of the schools i knew and their students . when i saw the episode in which a student repeatedly tried to burn down the school  i immediately recalled . . . . . . . . . at . . . . . . . . . . high . a classic line inspector i  m here to sack one of your teachers . student welcome to bromwell high . i expect that many adults of my age think that bromwell high is far fetched . what a pity that it isn  t   \\n',\n",
              " 'story of a man who has unnatural feelings for a pig . starts out with a opening scene that is a terrific example of absurd comedy . a formal orchestra audience is turned into an insane  violent mob by the crazy chantings of it  s singers . unfortunately it stays absurd the whole time with no general narrative eventually making it just too off putting . even those from the era should be turned off . the cryptic dialogue would make shakespeare seem easy to a third grader . on a technical level it  s better than you might think with some good cinematography by future great vilmos zsigmond . future stars sally kirkland and frederic forrest can be seen briefly .  \\n',\n",
              " 'homelessness  or houselessness as george carlin stated  has been an issue for years but never a plan to help those on the street that were once considered human who did everything from going to school  work  or vote for the matter . most people think of the homeless as just a lost cause while worrying about things such as racism  the war on iraq  pressuring kids to succeed  technology  the elections  inflation  or worrying if they  ll be next to end up on the streets .  br    br   but what if you were given a bet to live on the streets for a month without the luxuries you once had from a home  the entertainment sets  a bathroom  pictures on the wall  a computer  and everything you once treasure to see what it  s like to be homeless  that is goddard bolt  s lesson .  br    br   mel brooks  who directs  who stars as bolt plays a rich man who has everything in the world until deciding to make a bet with a sissy rival  jeffery tambor  to see if he can live in the streets for thirty days without the luxuries if bolt succeeds  he can do what he wants with a future project of making more buildings . the bet  s on where bolt is thrown on the street with a bracelet on his leg to monitor his every move where he can  t step off the sidewalk . he  s given the nickname pepto by a vagrant after it  s written on his forehead where bolt meets other characters including a woman by the name of molly  lesley ann warren  an ex  dancer who got divorce before losing her home  and her pals sailor  howard morris  and fumes  teddy wilson  who are already used to the streets . they  re survivors . bolt isn  t . he  s not used to reaching mutual agreements like he once did when being rich where it  s fight or flight  kill or be killed .  br    br   while the love connection between molly and bolt wasn  t necessary to plot  i found  life stinks  to be one of mel brooks  observant films where prior to being a comedy  it shows a tender side compared to his slapstick work such as blazing saddles  young frankenstein  or spaceballs for the matter  to show what it  s like having something valuable before losing it the next day or on the other hand making a stupid bet like all rich people do when they don  t know what to do with their money . maybe they should give it to the homeless instead of using it like monopoly money .  br    br   or maybe this film will inspire you to help others .  \\n',\n",
              " 'airport    starts as a brand new luxury    plane is loaded up with valuable paintings  such belonging to rich businessman philip stevens  james stewart  who is flying them  a bunch of vip  s to his estate in preparation of it being opened to the public as a museum  also on board is stevens daughter julie  kathleen quinlan   her son . the luxury jetliner takes off as planned but mid  air the plane is hi  jacked by the co  pilot chambers  robert foxworth   his two accomplice  s banker  monte markham   wilson  michael pataki  who knock the passengers  crew out with sleeping gas  they plan to steal the valuable cargo  land on a disused plane strip on an isolated island but while making his descent chambers almost hits an oil rig in the ocean  loses control of the plane sending it crashing into the sea where it sinks to the bottom right bang in the middle of the bermuda triangle . with air in short supply  water leaking in  having flown over    miles off course the problems mount for the survivor  s as they await help with time fast running out . . .  br    br   also known under the slightly different tile airport     this second sequel to the smash  hit disaster thriller airport       was directed by jerry jameson  while once again like it  s predecessors i can  t say airport    is any sort of forgotten classic it is entertaining although not necessarily for the right reasons . out of the three airport films i have seen so far i actually liked this one the best  just . it has my favourite plot of the three with a nice mid  air hi  jacking  then the crashing  didn  t he see the oil rig    sinking of the     maybe the makers were trying to cross the original airport with another popular disaster flick of the period the poseidon adventure         submerged is where it stays until the end with a stark dilemma facing those trapped inside  either suffocate when the air runs out or drown as the    floods or if any of the doors are opened  it  s a decent idea that could have made for a great little disaster flick but bad unsympathetic character  s  dull dialogue  lethargic set  pieces  a real lack of danger or suspense or tension means this is a missed opportunity . while the rather sluggish plot keeps one entertained for    odd minutes not that much happens after the plane sinks  there  s not as much urgency as i thought there should have been . even when the navy become involved things don  t pick up that much with a few shots of huge ships  helicopters flying about but there  s just something lacking here . george kennedy as the jinxed airline worker joe patroni is back but only gets a couple of scenes  barely even says anything preferring to just look worried in the background .  br    br   the home video  theatrical version of airport    run    minutes while the us tv versions add an extra hour of footage including a new opening credits sequence  many more scenes with george kennedy as patroni  flashbacks to flesh out character  s  longer rescue scenes  the discovery or another couple of dead bodies including the navigator . while i would like to see this extra footage i am not sure i could sit through a near three hour cut of airport    . as expected the film has dated badly with horrible fashions  interior design choices  i will say no more other than the toy plane model effects aren  t great either . along with the other two airport sequels this takes pride of place in the razzie award  s hall of shame although i can think of lots of worse films than this so i reckon that  s a little harsh . the action scenes are a little dull unfortunately  the pace is slow  not much excitement or tension is generated which is a shame as i reckon this could have been a pretty good film if made properly .  br    br   the production values are alright if nothing spectacular . the acting isn  t great  two time oscar winner jack lemmon has said since it was a mistake to star in this  one time oscar winner james stewart looks old  frail  also one time oscar winner lee grant looks drunk while sir christopher lee is given little to do  there are plenty of other familiar faces to look out for too .  br    br   airport    is the most disaster orientated of the three airport films so far  i liked the ideas behind it even if they were a bit silly  the production  bland direction doesn  t help though  a film about a sunken plane just shouldn  t be this boring or lethargic . followed by the concorde . . . airport          .  \\n',\n",
              " 'brilliant over  acting by lesley ann warren . best dramatic hobo lady i have ever seen  and love scenes in clothes warehouse are second to none . the corn on face is a classic  as good as anything in blazing saddles . the take on lawyers is also superb . after being accused of being a turncoat  selling out his boss  and being dishonest the lawyer of pepto bolt shrugs indifferently  i  m a lawyer  he says . three funny words . jeffrey tambor  a favorite from the later larry sanders show  is fantastic here too as a mad millionaire who wants to crush the ghetto . his character is more malevolent than usual . the hospital scene  and the scene where the homeless invade a demolition site  are all  time classics . look for the legs scene and the two big diggers fighting  one bleeds  . this movie gets better each time i see it  which is quite often  .  \\n',\n",
              " 'this film lacked something i couldn  t put my finger on at first charisma on the part of the leading actress . this inevitably translated to lack of chemistry when she shared the screen with her leading man . even the romantic scenes came across as being merely the actors at play . it could very well have been the director who miscalculated what he needed from the actors . i just don  t know .  br    br   but could it have been the screenplay  just exactly who was the chef in love with  he seemed more enamored of his culinary skills and restaurant  and ultimately of himself and his youthful exploits  than of anybody or anything else . he never convinced me he was in love with the princess .  br    br   i was disappointed in this movie . but  don  t forget it was nominated for an oscar  so judge for yourself .  \\n',\n",
              " 'this is easily the most underrated film inn the brooks cannon . sure  its flawed . it does not give a realistic view of homelessness  unlike  say  how citizen kane gave a realistic view of lounge singers  or titanic gave a realistic view of italians you idiots  . many of the jokes fall flat . but still  this film is very lovable in a way many comedies are not  and to pull that off in a story about some of the most traditionally reviled members of society is truly impressive . its not the fisher king  but its not crap  either . my only complaint is that brooks should have cast someone else in the lead  i love mel as a director and writer  not so much as a lead  .  \\n',\n",
              " 'sorry everyone    i know this is supposed to be an  art  film   but wow  they should have handed out guns at the screening so people could blow their brains out and not watch . although the scene design and photographic direction was excellent  this story is too painful to watch . the absence of a sound track was brutal . the loooonnnnng shots were too long . how long can you watch two people just sitting there and talking  especially when the dialogue is two people complaining . i really had a hard time just getting through this film . the performances were excellent  but how much of that dark  sombre  uninspired  stuff can you take  the only thing i liked was maureen stapleton and her red dress and dancing scene . otherwise this was a ripoff of bergman . and i  m no fan f his either . i think anyone who says they enjoyed     hours of this is   well  lying .  \\n',\n",
              " 'this is not the typical mel brooks film . it was much less slapstick than most of his movies and actually had a plot that was followable . leslie ann warren made the movie  she is such a fantastic  under  rated actress . there were some moments that could have been fleshed out a bit more  and some scenes that could probably have been cut to make the room to do so  but all in all  this is worth the price to rent and see it . the acting was good overall  brooks himself did a good job without his characteristic speaking to directly to the audience . again  warren was the best actor in the movie  but  fume  and  sailor  both played their parts well .  \\n',\n",
              " 'when i was little my parents took me along to the theater to see interiors . it was one of many movies i watched with my parents  but this was the only one we walked out of . since then i had never seen interiors until just recently  and i could have lived out the rest of my life without it . what a pretentious  ponderous  and painfully boring piece of    s wine and cheese tripe . woody allen is one of my favorite directors but interiors is by far the worst piece of crap of his career . in the unmistakable style of ingmar berman  allen gives us a dark  angular  muted  insight in to the lives of a family wrought by the psychological damage caused by divorce  estrangement  career  love  non  love  halitosis  whatever . the film  intentionally  has no comic relief  no music  and is drenched in shadowy pathos . this film style can be best defined as expressionist in nature  using an improvisational method of dialogue to illicit a  more pronounced depth of meaning and truth  . but woody allen is no ingmar bergman . the film is painfully slow and dull . but beyond that  i simply had no connection with or sympathy for any of the characters . instead i felt only contempt for this parade of shuffling  whining  nicotine stained  martyrs in a perpetual quest for identity . amid a backdrop of cosmopolitan affluence and baked brie intelligentsia the story looms like a fart in the room . everyone speaks in affected platitudes and elevated language between cigarettes . everyone is  lost  and  struggling   desperate to find direction or understanding or whatever and it just goes on and on to the point where you just want to slap all of them . it  s never about resolution  it  s only about interminable introspective babble . it is nothing more than a psychological drama taken to an extreme beyond the audience  s ability to connect . woody allen chose to make characters so immersed in themselves we feel left out . and for that reason i found this movie painfully self indulgent and spiritually draining . i see what he was going for but his insistence on promoting his message through prozac prose and distorted film techniques jettisons it past the point of relevance . i highly recommend this one if you  re feeling a little too happy and need something to remind you of death . otherwise  let  s just pretend this film never happened .  \\n']"
            ]
          },
          "metadata": {},
          "execution_count": 53
        }
      ],
      "metadata": {
        "id": "ll_6ibdcfC7a"
      }
    },
    {
      "cell_type": "code",
      "execution_count": 54,
      "source": [
        "g.close()"
      ],
      "outputs": [],
      "metadata": {
        "id": "tvsAxH0hfIRZ"
      }
    }
  ]
}