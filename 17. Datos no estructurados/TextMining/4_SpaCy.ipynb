{
  "nbformat": 4,
  "nbformat_minor": 0,
  "metadata": {
    "colab": {
      "name": "4. SpaCy.ipynb",
      "provenance": [],
      "collapsed_sections": []
    },
    "kernelspec": {
      "name": "python3",
      "display_name": "Python 3"
    }
  },
  "cells": [
    {
      "cell_type": "markdown",
      "metadata": {
        "id": "lDQoyw0adml-"
      },
      "source": [
        "Text Mining - 4. SpaCy\n",
        "\n",
        "AFI - Máster en Data Science y Big Data\n",
        "\n",
        "Juan de Dios Romero Palop\n",
        "\n",
        "Abril 2022\n"
      ]
    },
    {
      "cell_type": "code",
      "metadata": {
        "id": "LQgPMZzDckFW"
      },
      "source": [
        "!python -m spacy"
      ],
      "execution_count": null,
      "outputs": []
    },
    {
      "cell_type": "markdown",
      "metadata": {
        "id": "rW0wncOHfSWy"
      },
      "source": [
        "https://spacy.io/models/es#es_core_news_md"
      ]
    },
    {
      "cell_type": "code",
      "metadata": {
        "id": "gie18acmfOOT"
      },
      "source": [
        "!python -m spacy download es_core_news_sm"
      ],
      "execution_count": null,
      "outputs": []
    },
    {
      "cell_type": "markdown",
      "metadata": {
        "id": "-OoRX4I0d0c4"
      },
      "source": [
        "### Tokenización frases"
      ]
    },
    {
      "cell_type": "code",
      "metadata": {
        "id": "YGjArR_oeaaU"
      },
      "source": [
        "import spacy\n",
        "\n",
        "raw_text = 'Hello, world. This is an example.'\n",
        "\n",
        "nlp_en = spacy.load('en')\n",
        "doc = nlp_en(raw_text)\n",
        "\n",
        "\n",
        "sentences = [sent.string.strip() for sent in doc.sents]\n",
        "sentences"
      ],
      "execution_count": null,
      "outputs": []
    },
    {
      "cell_type": "code",
      "metadata": {
        "id": "rLVS5qUpiaMs"
      },
      "source": [
        "import es_core_news_sm\n",
        "\n",
        "nlp = es_core_news_sm.load()\n",
        "texto = '''Primera parte del Ingenioso hidalgo Don Quijote de la Mancha.\n",
        "Capitulo Primero. Que trata de la condicion y ejercicio del famoso hidalgo don Quijote de la Mancha.'''\n",
        "\n",
        "doc = nlp(texto)\n",
        "\n",
        "frases = [sent.string.strip() for sent in doc.sents]\n",
        "frases"
      ],
      "execution_count": null,
      "outputs": []
    },
    {
      "cell_type": "code",
      "metadata": {
        "id": "grISYWakeapS"
      },
      "source": [
        "texto_esp = \"¡Hola! ¿Cómo te llamas? Me llamo D. Tomás.\"\n",
        "doc = nlp(texto_esp)\n",
        "\n",
        "frases = [sent.string.strip() for sent in doc.sents]\n",
        "frases"
      ],
      "execution_count": null,
      "outputs": []
    },
    {
      "cell_type": "markdown",
      "metadata": {
        "id": "JAB17o6nipYQ"
      },
      "source": [
        "### Tokenización palabras"
      ]
    },
    {
      "cell_type": "code",
      "metadata": {
        "id": "Kmh0EFuLeasI"
      },
      "source": [
        "palabras = [token.string for token in doc]\n",
        "palabras"
      ],
      "execution_count": null,
      "outputs": []
    },
    {
      "cell_type": "markdown",
      "metadata": {
        "id": "paOmNu9yebb4"
      },
      "source": [
        "### Part Of Speech"
      ]
    },
    {
      "cell_type": "code",
      "metadata": {
        "id": "bV5IKTgJc_Vh"
      },
      "source": [
        "nlp = es_core_news_sm.load()\n",
        "texto_esp = \"¡Hola! ¿Cómo te llamas? Me llamo D. Tomás.\"\n",
        "doc = nlp(texto_esp)\n",
        "print([(w.text, w.pos_) for w in doc])"
      ],
      "execution_count": null,
      "outputs": []
    },
    {
      "cell_type": "code",
      "metadata": {
        "id": "nHl4h0VodDM4"
      },
      "source": [
        "from spacy import displacy\n",
        "displacy.render(doc, style='dep', jupyter = True, options = {'distance': 120})"
      ],
      "execution_count": null,
      "outputs": []
    },
    {
      "cell_type": "code",
      "metadata": {
        "id": "rkKapttx5hzI"
      },
      "source": [
        "nlp = es_core_news_sm.load()\n",
        "texto_esp = \"¡Hola! ¿Cómo te llamas? Me llamo D. Tomás.\"\n",
        "doc = nlp(texto_esp)\n",
        "print([(w.text, w.tag_) for w in doc])"
      ],
      "execution_count": null,
      "outputs": []
    },
    {
      "cell_type": "markdown",
      "metadata": {
        "id": "BaRLgX9Bx5cj"
      },
      "source": [
        "### Stemming\n",
        "\n",
        "SpaCy no implementa stemming."
      ]
    },
    {
      "cell_type": "markdown",
      "metadata": {
        "id": "AO_G2yx91X0v"
      },
      "source": [
        "### Lemmatizacion"
      ]
    },
    {
      "cell_type": "code",
      "metadata": {
        "id": "Jw8IGWTLdJyr"
      },
      "source": [
        "nlp = es_core_news_sm.load()\n",
        "texto_esp = \"¡Hola! ¿Cómo te llamas? Me llamo D. Tomás.\"\n",
        "doc = nlp(texto_esp)\n",
        "[word.lemma_ for word in doc]"
      ],
      "execution_count": null,
      "outputs": []
    },
    {
      "cell_type": "code",
      "metadata": {
        "id": "KBzaQ9Z01d0H"
      },
      "source": [
        "nlp = es_core_news_sm.load()\n",
        "texto_esp = \"estamos jugando con las palabras. Ayer estuve en el pasado y mañana trabajaremos los futuros.\"\n",
        "doc = nlp(texto_esp)\n",
        "[word.lemma_ for word in doc]"
      ],
      "execution_count": null,
      "outputs": []
    },
    {
      "cell_type": "code",
      "metadata": {
        "id": "ENVIFJeA3XR_"
      },
      "source": [
        "nlp = es_core_news_sm.load()\n",
        "texto_esp = \"yo no traje el traje\"\n",
        "doc = nlp(texto_esp)\n",
        "[word.pos_ for word in doc]\n",
        "[word.lemma_ for word in doc]"
      ],
      "execution_count": null,
      "outputs": []
    },
    {
      "cell_type": "markdown",
      "metadata": {
        "id": "ZVOa4kFGMkJ0"
      },
      "source": [
        "### NER"
      ]
    },
    {
      "cell_type": "code",
      "metadata": {
        "id": "4HzrUCjJMkX4"
      },
      "source": [
        "nlp = spacy.load(\"en_core_web_sm\")\n",
        "doc = nlp(\"Microsoft Corp. is looking at buying United Kingdom startup for 175 million American Dollars, Peter Parker from NY Times says\")\n",
        "\n",
        "for ent in doc.ents:\n",
        "    print(ent.text, ent.start_char, ent.end_char, ent.label_)"
      ],
      "execution_count": null,
      "outputs": []
    },
    {
      "cell_type": "code",
      "metadata": {
        "id": "G9O6aOA1NOYu"
      },
      "source": [
        "#from spacy import displacy\n",
        "#displacy.serve(doc, style=\"ent\")\n",
        "# https://spacy.io/usage/visualizers"
      ],
      "execution_count": null,
      "outputs": []
    },
    {
      "cell_type": "code",
      "metadata": {
        "id": "2fSl52vBNkc-"
      },
      "source": [
        "nlp = es_core_news_sm.load()\n",
        "doc = nlp('''Iñaki Gabilondo insiste en que Iberia, la mayor aerolinea de España, esta preparando una oferta de 700 millones por la aerolinea mexicana Aeromexico''')\n",
        "\n",
        "for ent in doc.ents:\n",
        "    print(ent.text, ent.start_char, ent.end_char, ent.label_)"
      ],
      "execution_count": null,
      "outputs": []
    },
    {
      "cell_type": "markdown",
      "metadata": {
        "id": "jvnsAUFrn2gy"
      },
      "source": [
        "### Stopwords"
      ]
    },
    {
      "cell_type": "code",
      "metadata": {
        "id": "DbNZQpWk1rgL"
      },
      "source": [
        "stopwords = spacy.lang.en.stop_words.STOP_WORDS"
      ],
      "execution_count": null,
      "outputs": []
    },
    {
      "cell_type": "code",
      "metadata": {
        "id": "B-3UJWYgoITj"
      },
      "source": [
        "list(stopwords)[:10]"
      ],
      "execution_count": null,
      "outputs": []
    },
    {
      "cell_type": "code",
      "metadata": {
        "id": "lg_al1DYoJLv"
      },
      "source": [
        "text = '''In computing, stop words are words which are filtered out before or after processing of natural language data (text).\n",
        " Though \"stop words\" usually refers to the most common words in a language, there is no single universal list of stop words used by all natural language processing tools, and indeed not all tools even use such a list. \n",
        " Some tools specifically avoid removing these stop words to support phrase search.'''\n",
        "nlp_en = spacy.load('en')\n",
        "doc = nlp_en(text)"
      ],
      "execution_count": null,
      "outputs": []
    },
    {
      "cell_type": "code",
      "metadata": {
        "id": "VkX5pbvfo3T3"
      },
      "source": [
        "tokens = [token.text for token in doc if not token.is_stop]\n",
        "print('Original: %s' % (text))\n",
        "print()\n",
        "print(tokens)"
      ],
      "execution_count": null,
      "outputs": []
    },
    {
      "cell_type": "code",
      "metadata": {
        "id": "aJohlBGfpnxE"
      },
      "source": [
        "customize_stop_words = [\n",
        "    'computing', 'filtered'\n",
        "]\n",
        "for w in customize_stop_words:\n",
        "    nlp_en.vocab[w].is_stop = True\n",
        "\n",
        "doc = nlp_en(text)\n",
        "tokens = [token.text for token in doc if not token.is_stop]\n",
        "print('Original: %s' % (text))\n",
        "print()\n",
        "print(tokens)"
      ],
      "execution_count": null,
      "outputs": []
    },
    {
      "cell_type": "code",
      "metadata": {
        "id": "kyXGCMLUo9_w"
      },
      "source": [
        "nlp = es_core_news_sm.load()\n",
        "texto = '''Primera parte del Ingenioso hidalgo Don Quijote de la Mancha.\n",
        "Capitulo Primero. Que trata de la condicion y ejercicio del famoso hidalgo don Quijote de la Mancha.'''\n",
        "\n",
        "doc = nlp(texto)"
      ],
      "execution_count": null,
      "outputs": []
    },
    {
      "cell_type": "code",
      "metadata": {
        "id": "2xkBCd29pUDm"
      },
      "source": [
        "tokens = [token.text for token in doc if not token.is_stop]\n",
        "print('Original: %s' % (texto))\n",
        "print()\n",
        "print(tokens)"
      ],
      "execution_count": null,
      "outputs": []
    },
    {
      "cell_type": "code",
      "metadata": {
        "id": "fqDEudx-pVc3"
      },
      "source": [
        "customize_stop_words = [\n",
        "    'Don', 'y'\n",
        "]\n",
        "for w in customize_stop_words:\n",
        "    nlp.vocab[w].is_stop = True\n",
        "\n",
        "doc = nlp(texto)\n",
        "tokens = [token.text for token in doc if not token.is_stop]\n",
        "print('Original: %s' % (texto))\n",
        "print()\n",
        "print(tokens)"
      ],
      "execution_count": null,
      "outputs": []
    },
    {
      "cell_type": "markdown",
      "metadata": {
        "id": "S0CE1WF80fJb"
      },
      "source": [
        "### Extra info"
      ]
    },
    {
      "cell_type": "code",
      "metadata": {
        "id": "H1ObF-zSqBzA"
      },
      "source": [
        "nlp = spacy.load(\"en_core_web_sm\")\n",
        "doc = nlp(\"Apple is looking at buying U.K. startup for $1 billion\")\n",
        "\n",
        "for token in doc:\n",
        "    print(token.text, token.lemma_, token.pos_, token.tag_, token.dep_,\n",
        "            token.shape_, token.is_alpha, token.is_stop)"
      ],
      "execution_count": null,
      "outputs": []
    },
    {
      "cell_type": "code",
      "metadata": {
        "id": "4xXZYYEM1lcd"
      },
      "source": [
        "nlp = es_core_news_sm.load()\n",
        "doc = nlp(\"CaixaBank reclama a Abanca que mejore la oferta por su 15,3% en Nueva Pescanova\")\n",
        "\n",
        "for token in doc:\n",
        "    print(token.text, token.lemma_, token.pos_, token.tag_, token.dep_,\n",
        "            token.shape_, token.is_alpha, token.is_stop)"
      ],
      "execution_count": null,
      "outputs": []
    },
    {
      "cell_type": "code",
      "metadata": {
        "id": "1uIeBfac0pQM"
      },
      "source": [
        "nlp = spacy.load(\"en_core_web_sm\")\n",
        "doc = nlp(\"Autonomous cars shift insurance liability toward manufacturers\")\n",
        "for chunk in doc.noun_chunks:\n",
        "    print(chunk.text, chunk.root.text, chunk.root.dep_,\n",
        "            chunk.root.head.text)"
      ],
      "execution_count": null,
      "outputs": []
    },
    {
      "cell_type": "code",
      "metadata": {
        "id": "_LqmfM3G1W6L"
      },
      "source": [
        "nlp = es_core_news_sm.load()\n",
        "doc = nlp(\"El coronavirus traspasa fronteras y aumenta su impacto en la economía\")\n",
        "for chunk in doc.noun_chunks:\n",
        "    print(chunk.text, chunk.root.text, chunk.root.dep_,\n",
        "            chunk.root.head.text)"
      ],
      "execution_count": null,
      "outputs": []
    },
    {
      "cell_type": "code",
      "metadata": {
        "id": "_6mmu1Uo2NdT"
      },
      "source": [
        ""
      ],
      "execution_count": null,
      "outputs": []
    }
  ]
}