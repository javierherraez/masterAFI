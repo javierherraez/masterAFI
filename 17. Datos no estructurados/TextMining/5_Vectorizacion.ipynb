{
  "nbformat": 4,
  "nbformat_minor": 2,
  "metadata": {
    "colab": {
      "name": "5. Vectorizacion",
      "provenance": [],
      "collapsed_sections": []
    },
    "kernelspec": {
      "name": "python3",
      "display_name": "Python 3.8.8 64-bit ('base': conda)"
    },
    "language_info": {
      "name": "python",
      "version": "3.8.8",
      "mimetype": "text/x-python",
      "codemirror_mode": {
        "name": "ipython",
        "version": 3
      },
      "pygments_lexer": "ipython3",
      "nbconvert_exporter": "python",
      "file_extension": ".py"
    },
    "interpreter": {
      "hash": "97ae724bfa85b9b34df7982b8bb8c7216f435b92902d749e4263f71162bea840"
    }
  },
  "cells": [
    {
      "cell_type": "markdown",
      "source": [
        "Text Mining - 5. Vectorización\n",
        "\n",
        "AFI - Máster en Data Science y Big Data\n",
        "\n",
        "Juan de Dios Romero Palop\n",
        "\n",
        "Abril 2022\n"
      ],
      "metadata": {
        "id": "5c8TuSXz4nSm"
      }
    },
    {
      "cell_type": "markdown",
      "source": [
        "### Bag of words"
      ],
      "metadata": {
        "id": "Q80RgAKy61_V"
      }
    },
    {
      "cell_type": "code",
      "execution_count": 1,
      "source": [
        "from sklearn.feature_extraction.text import CountVectorizer"
      ],
      "outputs": [],
      "metadata": {
        "id": "iWDYlwfl65Gd"
      }
    },
    {
      "cell_type": "code",
      "execution_count": 2,
      "source": [
        "dataset = ['This is the first document.',\r\n",
        "          'This document is the second document.',\r\n",
        "          'And this is the third one.',\r\n",
        "          'Is this the first document?'\r\n",
        "          ]"
      ],
      "outputs": [],
      "metadata": {
        "id": "xliERGd17Bcv"
      }
    },
    {
      "cell_type": "code",
      "execution_count": 3,
      "source": [
        "vectorizer = CountVectorizer()\r\n",
        "X = vectorizer.fit_transform(dataset)\r\n",
        "print(vectorizer.get_feature_names())"
      ],
      "outputs": [
        {
          "output_type": "stream",
          "name": "stdout",
          "text": [
            "['and', 'document', 'first', 'is', 'one', 'second', 'the', 'third', 'this']\n"
          ]
        }
      ],
      "metadata": {
        "id": "rR92bKFC7Dt8"
      }
    },
    {
      "cell_type": "code",
      "execution_count": 4,
      "source": [
        "print(X.toarray())"
      ],
      "outputs": [
        {
          "output_type": "stream",
          "name": "stdout",
          "text": [
            "[[0 1 1 1 0 0 1 0 1]\n",
            " [0 2 0 1 0 1 1 0 1]\n",
            " [1 0 0 1 1 0 1 1 1]\n",
            " [0 1 1 1 0 0 1 0 1]]\n"
          ]
        }
      ],
      "metadata": {
        "id": "qZGzkHYg7MPJ"
      }
    },
    {
      "cell_type": "markdown",
      "source": [
        "https://scikit-learn.org/stable/modules/generated/sklearn.feature_extraction.text.CountVectorizer.html#sklearn.feature_extraction.text.CountVectorizer"
      ],
      "metadata": {
        "id": "HKeaUQ6K7mXI"
      }
    },
    {
      "cell_type": "code",
      "execution_count": 5,
      "source": [
        "vectorizer2 = CountVectorizer(analyzer='word', ngram_range=(1, 2))\r\n",
        "X2 = vectorizer2.fit_transform(dataset)\r\n",
        "print(vectorizer2.get_feature_names())"
      ],
      "outputs": [
        {
          "output_type": "stream",
          "name": "stdout",
          "text": [
            "['and', 'and this', 'document', 'document is', 'first', 'first document', 'is', 'is the', 'is this', 'one', 'second', 'second document', 'the', 'the first', 'the second', 'the third', 'third', 'third one', 'this', 'this document', 'this is', 'this the']\n"
          ]
        }
      ],
      "metadata": {
        "id": "VM4FzE3w7mg0"
      }
    },
    {
      "cell_type": "code",
      "execution_count": 6,
      "source": [
        "print(X2.toarray())"
      ],
      "outputs": [
        {
          "output_type": "stream",
          "name": "stdout",
          "text": [
            "[[0 0 1 0 1 1 1 1 0 0 0 0 1 1 0 0 0 0 1 0 1 0]\n",
            " [0 0 2 1 0 0 1 1 0 0 1 1 1 0 1 0 0 0 1 1 0 0]\n",
            " [1 1 0 0 0 0 1 1 0 1 0 0 1 0 0 1 1 1 1 0 1 0]\n",
            " [0 0 1 0 1 1 1 0 1 0 0 0 1 1 0 0 0 0 1 0 0 1]]\n"
          ]
        }
      ],
      "metadata": {
        "id": "LM8TrQhj7vAd"
      }
    },
    {
      "cell_type": "markdown",
      "source": [
        "### TF-IDF"
      ],
      "metadata": {
        "id": "oh98am2N66Lc"
      }
    },
    {
      "cell_type": "code",
      "execution_count": 7,
      "source": [
        "from sklearn.feature_extraction.text import TfidfVectorizer"
      ],
      "outputs": [],
      "metadata": {
        "id": "neXE347N4tvP"
      }
    },
    {
      "cell_type": "code",
      "execution_count": 8,
      "source": [
        "dataset = ['This is the first document.',\r\n",
        "          'This document is the second document.',\r\n",
        "          'And this is the third one.',\r\n",
        "          'Is this the first document?'\r\n",
        "          ]"
      ],
      "outputs": [],
      "metadata": {
        "id": "qIMPQ_md4-G4"
      }
    },
    {
      "cell_type": "code",
      "execution_count": 9,
      "source": [
        "vectorizer = TfidfVectorizer(use_idf =True)\r\n",
        "X = vectorizer.fit_transform(dataset)"
      ],
      "outputs": [],
      "metadata": {
        "id": "TGoQpAL_5OxI"
      }
    },
    {
      "cell_type": "code",
      "execution_count": 10,
      "source": [
        "print(vectorizer.get_feature_names())"
      ],
      "outputs": [
        {
          "output_type": "stream",
          "name": "stdout",
          "text": [
            "['and', 'document', 'first', 'is', 'one', 'second', 'the', 'third', 'this']\n"
          ]
        }
      ],
      "metadata": {
        "id": "G8B7dv2L5SI4"
      }
    },
    {
      "cell_type": "code",
      "execution_count": 11,
      "source": [
        "vectorizer.idf_"
      ],
      "outputs": [
        {
          "output_type": "execute_result",
          "data": {
            "text/plain": [
              "array([1.91629073, 1.22314355, 1.51082562, 1.        , 1.91629073,\n",
              "       1.91629073, 1.        , 1.91629073, 1.        ])"
            ]
          },
          "metadata": {},
          "execution_count": 11
        }
      ],
      "metadata": {
        "id": "zyc4wXPlCgy2"
      }
    },
    {
      "cell_type": "code",
      "execution_count": 12,
      "source": [
        "vectorizer.vocabulary_"
      ],
      "outputs": [
        {
          "output_type": "execute_result",
          "data": {
            "text/plain": [
              "{'this': 8,\n",
              " 'is': 3,\n",
              " 'the': 6,\n",
              " 'first': 2,\n",
              " 'document': 1,\n",
              " 'second': 5,\n",
              " 'and': 0,\n",
              " 'third': 7,\n",
              " 'one': 4}"
            ]
          },
          "metadata": {},
          "execution_count": 12
        }
      ],
      "metadata": {
        "id": "vH3dXUqeI5Ux"
      }
    },
    {
      "cell_type": "code",
      "execution_count": 13,
      "source": [
        "print(X.shape)"
      ],
      "outputs": [
        {
          "output_type": "stream",
          "name": "stdout",
          "text": [
            "(4, 9)\n"
          ]
        }
      ],
      "metadata": {
        "id": "el_P-ozG5Tmt"
      }
    },
    {
      "cell_type": "code",
      "execution_count": 14,
      "source": [
        "print(X.toarray())"
      ],
      "outputs": [
        {
          "output_type": "stream",
          "name": "stdout",
          "text": [
            "[[0.         0.46979139 0.58028582 0.38408524 0.         0.\n",
            "  0.38408524 0.         0.38408524]\n",
            " [0.         0.6876236  0.         0.28108867 0.         0.53864762\n",
            "  0.28108867 0.         0.28108867]\n",
            " [0.51184851 0.         0.         0.26710379 0.51184851 0.\n",
            "  0.26710379 0.51184851 0.26710379]\n",
            " [0.         0.46979139 0.58028582 0.38408524 0.         0.\n",
            "  0.38408524 0.         0.38408524]]\n"
          ]
        }
      ],
      "metadata": {
        "id": "g2x7F1HT5V2O"
      }
    },
    {
      "cell_type": "markdown",
      "source": [
        "https://scikit-learn.org/stable/modules/generated/sklearn.feature_extraction.text.TfidfVectorizer.html"
      ],
      "metadata": {
        "id": "vsE2iVmo50_V"
      }
    },
    {
      "cell_type": "markdown",
      "source": [
        "### word2vect"
      ],
      "metadata": {
        "id": "8Py_KA5caHSI"
      }
    },
    {
      "cell_type": "code",
      "execution_count": 15,
      "source": [
        "import gensim"
      ],
      "outputs": [],
      "metadata": {
        "id": "sfffvQYR6Wd9"
      }
    },
    {
      "cell_type": "code",
      "execution_count": 16,
      "source": [
        "dataset = ['This is the first document.',\r\n",
        "          'This document is the second document.',\r\n",
        "          'And this is the third one.',\r\n",
        "          'Is this the first document?'\r\n",
        "          ]"
      ],
      "outputs": [],
      "metadata": {
        "id": "0yApWBq0bG5f"
      }
    },
    {
      "cell_type": "code",
      "execution_count": 17,
      "source": [
        "word_split=[text.split(' ') for text in dataset]\r\n",
        "print(word_split)"
      ],
      "outputs": [
        {
          "output_type": "stream",
          "name": "stdout",
          "text": [
            "[['This', 'is', 'the', 'first', 'document.'], ['This', 'document', 'is', 'the', 'second', 'document.'], ['And', 'this', 'is', 'the', 'third', 'one.'], ['Is', 'this', 'the', 'first', 'document?']]\n"
          ]
        }
      ],
      "metadata": {
        "id": "RDsfUSR0bEAs"
      }
    },
    {
      "cell_type": "code",
      "execution_count": 18,
      "source": [
        "model = gensim.models.Word2Vec(word_split, min_count=1)"
      ],
      "outputs": [],
      "metadata": {
        "id": "5RbojFNRbb5h"
      }
    },
    {
      "cell_type": "markdown",
      "source": [
        "https://radimrehurek.com/gensim/models/word2vec.html"
      ],
      "metadata": {
        "id": "-x0CMFXfcGns"
      }
    },
    {
      "cell_type": "code",
      "execution_count": 19,
      "source": [
        "#Una vez entrenado el modelo se puede persistir para no tener que entrenarlo otra vez\r\n",
        "#model.save('model.bin')\r\n",
        "\r\n",
        "#Para cargarlo\r\n",
        "#model = gensim.models.KeyedVectors.load_word2vec_format('model.bin', binary=True) "
      ],
      "outputs": [],
      "metadata": {
        "id": "QQ_wfRzjc0Tx"
      }
    },
    {
      "cell_type": "code",
      "execution_count": 20,
      "source": [
        "#Palabras más parecidas a una dada\r\n",
        "model.wv.most_similar(positive=['first'], topn=2)"
      ],
      "outputs": [
        {
          "output_type": "execute_result",
          "data": {
            "text/plain": [
              "[('this', 0.1702040433883667), ('document', 0.15014396607875824)]"
            ]
          },
          "metadata": {},
          "execution_count": 20
        }
      ],
      "metadata": {
        "id": "Rvwb_AmZc-Ab"
      }
    },
    {
      "cell_type": "code",
      "execution_count": 21,
      "source": [
        "#Valor del vector para una palabra\r\n",
        "model.wv[\"Is\"]"
      ],
      "outputs": [
        {
          "output_type": "execute_result",
          "data": {
            "text/plain": [
              "array([ 8.1673553e-03, -4.4426569e-03,  8.9866212e-03,  8.2577700e-03,\n",
              "       -4.4339881e-03,  3.0367024e-04,  4.2783460e-03, -3.9272429e-03,\n",
              "       -5.5631334e-03, -6.5125106e-03, -6.6869758e-04, -2.9750692e-04,\n",
              "        4.4656140e-03, -2.4733855e-03, -1.7145963e-04,  2.4627838e-03,\n",
              "        4.8685172e-03, -3.0844465e-05, -6.3409745e-03, -9.2650224e-03,\n",
              "        2.7163460e-05,  6.6650123e-03,  1.4701253e-03, -8.9689158e-03,\n",
              "       -7.9374677e-03,  6.5533957e-03, -3.7879522e-03,  6.2532760e-03,\n",
              "       -6.6817394e-03,  8.4776711e-03, -6.5132668e-03,  3.2889931e-03,\n",
              "       -1.0552995e-03, -6.7842505e-03, -3.2899419e-03, -1.1597391e-03,\n",
              "       -5.4733083e-03, -1.2108886e-03, -7.5639915e-03,  2.6432187e-03,\n",
              "        9.0722553e-03, -2.3770204e-03, -9.7549811e-04,  3.5118519e-03,\n",
              "        8.6662313e-03, -5.9210621e-03, -6.8897335e-03, -2.9336286e-03,\n",
              "        9.1469856e-03,  8.6554210e-04, -8.6789466e-03, -1.4480762e-03,\n",
              "        9.4787329e-03, -7.5504123e-03, -5.3587202e-03,  9.3142521e-03,\n",
              "       -8.9750877e-03,  3.8245020e-03,  6.6634838e-04,  6.6578775e-03,\n",
              "        8.3113350e-03, -2.8526080e-03, -3.9878562e-03,  8.8985926e-03,\n",
              "        2.0860769e-03,  6.2501780e-03, -9.4492035e-03,  9.5910085e-03,\n",
              "       -1.3525167e-03, -6.0530640e-03,  2.9902866e-03, -4.5435128e-04,\n",
              "        4.7077043e-03, -2.2812774e-03, -4.1388003e-03,  2.2745158e-03,\n",
              "        8.3545763e-03, -4.9974504e-03,  2.6664403e-03, -7.9907151e-03,\n",
              "       -6.7730015e-03, -4.7116107e-04, -8.7682484e-03,  2.7913817e-03,\n",
              "        1.5999585e-03, -2.3213695e-03,  5.0058663e-03,  9.7468784e-03,\n",
              "        8.4536802e-03, -1.8787907e-03,  2.0557172e-03, -4.0030088e-03,\n",
              "       -8.2416004e-03,  6.2786140e-03, -1.9458426e-03, -6.6464639e-04,\n",
              "       -1.7698904e-03, -4.5346157e-03,  4.0644007e-03, -4.2705298e-03],\n",
              "      dtype=float32)"
            ]
          },
          "metadata": {},
          "execution_count": 21
        }
      ],
      "metadata": {
        "id": "nna9RxtOdALn"
      }
    },
    {
      "cell_type": "code",
      "execution_count": 22,
      "source": [
        "#parecido entre palabras\r\n",
        "model.wv.similarity('second', 'third')"
      ],
      "outputs": [
        {
          "output_type": "execute_result",
          "data": {
            "text/plain": [
              "-0.07423881"
            ]
          },
          "metadata": {},
          "execution_count": 22
        }
      ],
      "metadata": {
        "id": "aHuoYjdEcGBt"
      }
    },
    {
      "cell_type": "markdown",
      "source": [
        "## Ejemplo más real"
      ],
      "metadata": {
        "id": "TuGdT6cmg2QB"
      }
    },
    {
      "cell_type": "code",
      "execution_count": 23,
      "source": [
        "import pandas as pd"
      ],
      "outputs": [],
      "metadata": {
        "id": "L4bwAJaFcn62"
      }
    },
    {
      "cell_type": "code",
      "execution_count": 24,
      "source": [
        "df = pd.read_csv(\"./data.csv\")\r\n",
        "df.head()"
      ],
      "outputs": [
        {
          "output_type": "execute_result",
          "data": {
            "text/html": [
              "<div>\n",
              "<style scoped>\n",
              "    .dataframe tbody tr th:only-of-type {\n",
              "        vertical-align: middle;\n",
              "    }\n",
              "\n",
              "    .dataframe tbody tr th {\n",
              "        vertical-align: top;\n",
              "    }\n",
              "\n",
              "    .dataframe thead th {\n",
              "        text-align: right;\n",
              "    }\n",
              "</style>\n",
              "<table border=\"1\" class=\"dataframe\">\n",
              "  <thead>\n",
              "    <tr style=\"text-align: right;\">\n",
              "      <th></th>\n",
              "      <th>Make</th>\n",
              "      <th>Model</th>\n",
              "      <th>Year</th>\n",
              "      <th>Engine Fuel Type</th>\n",
              "      <th>Engine HP</th>\n",
              "      <th>Engine Cylinders</th>\n",
              "      <th>Transmission Type</th>\n",
              "      <th>Driven_Wheels</th>\n",
              "      <th>Number of Doors</th>\n",
              "      <th>Market Category</th>\n",
              "      <th>Vehicle Size</th>\n",
              "      <th>Vehicle Style</th>\n",
              "      <th>highway MPG</th>\n",
              "      <th>city mpg</th>\n",
              "      <th>Popularity</th>\n",
              "      <th>MSRP</th>\n",
              "    </tr>\n",
              "  </thead>\n",
              "  <tbody>\n",
              "    <tr>\n",
              "      <th>0</th>\n",
              "      <td>BMW</td>\n",
              "      <td>1 Series M</td>\n",
              "      <td>2011</td>\n",
              "      <td>premium unleaded (required)</td>\n",
              "      <td>335.0</td>\n",
              "      <td>6.0</td>\n",
              "      <td>MANUAL</td>\n",
              "      <td>rear wheel drive</td>\n",
              "      <td>2.0</td>\n",
              "      <td>Factory Tuner,Luxury,High-Performance</td>\n",
              "      <td>Compact</td>\n",
              "      <td>Coupe</td>\n",
              "      <td>26</td>\n",
              "      <td>19</td>\n",
              "      <td>3916</td>\n",
              "      <td>46135</td>\n",
              "    </tr>\n",
              "    <tr>\n",
              "      <th>1</th>\n",
              "      <td>BMW</td>\n",
              "      <td>1 Series</td>\n",
              "      <td>2011</td>\n",
              "      <td>premium unleaded (required)</td>\n",
              "      <td>300.0</td>\n",
              "      <td>6.0</td>\n",
              "      <td>MANUAL</td>\n",
              "      <td>rear wheel drive</td>\n",
              "      <td>2.0</td>\n",
              "      <td>Luxury,Performance</td>\n",
              "      <td>Compact</td>\n",
              "      <td>Convertible</td>\n",
              "      <td>28</td>\n",
              "      <td>19</td>\n",
              "      <td>3916</td>\n",
              "      <td>40650</td>\n",
              "    </tr>\n",
              "    <tr>\n",
              "      <th>2</th>\n",
              "      <td>BMW</td>\n",
              "      <td>1 Series</td>\n",
              "      <td>2011</td>\n",
              "      <td>premium unleaded (required)</td>\n",
              "      <td>300.0</td>\n",
              "      <td>6.0</td>\n",
              "      <td>MANUAL</td>\n",
              "      <td>rear wheel drive</td>\n",
              "      <td>2.0</td>\n",
              "      <td>Luxury,High-Performance</td>\n",
              "      <td>Compact</td>\n",
              "      <td>Coupe</td>\n",
              "      <td>28</td>\n",
              "      <td>20</td>\n",
              "      <td>3916</td>\n",
              "      <td>36350</td>\n",
              "    </tr>\n",
              "    <tr>\n",
              "      <th>3</th>\n",
              "      <td>BMW</td>\n",
              "      <td>1 Series</td>\n",
              "      <td>2011</td>\n",
              "      <td>premium unleaded (required)</td>\n",
              "      <td>230.0</td>\n",
              "      <td>6.0</td>\n",
              "      <td>MANUAL</td>\n",
              "      <td>rear wheel drive</td>\n",
              "      <td>2.0</td>\n",
              "      <td>Luxury,Performance</td>\n",
              "      <td>Compact</td>\n",
              "      <td>Coupe</td>\n",
              "      <td>28</td>\n",
              "      <td>18</td>\n",
              "      <td>3916</td>\n",
              "      <td>29450</td>\n",
              "    </tr>\n",
              "    <tr>\n",
              "      <th>4</th>\n",
              "      <td>BMW</td>\n",
              "      <td>1 Series</td>\n",
              "      <td>2011</td>\n",
              "      <td>premium unleaded (required)</td>\n",
              "      <td>230.0</td>\n",
              "      <td>6.0</td>\n",
              "      <td>MANUAL</td>\n",
              "      <td>rear wheel drive</td>\n",
              "      <td>2.0</td>\n",
              "      <td>Luxury</td>\n",
              "      <td>Compact</td>\n",
              "      <td>Convertible</td>\n",
              "      <td>28</td>\n",
              "      <td>18</td>\n",
              "      <td>3916</td>\n",
              "      <td>34500</td>\n",
              "    </tr>\n",
              "  </tbody>\n",
              "</table>\n",
              "</div>"
            ],
            "text/plain": [
              "  Make       Model  Year             Engine Fuel Type  Engine HP  \\\n",
              "0  BMW  1 Series M  2011  premium unleaded (required)      335.0   \n",
              "1  BMW    1 Series  2011  premium unleaded (required)      300.0   \n",
              "2  BMW    1 Series  2011  premium unleaded (required)      300.0   \n",
              "3  BMW    1 Series  2011  premium unleaded (required)      230.0   \n",
              "4  BMW    1 Series  2011  premium unleaded (required)      230.0   \n",
              "\n",
              "   Engine Cylinders Transmission Type     Driven_Wheels  Number of Doors  \\\n",
              "0               6.0            MANUAL  rear wheel drive              2.0   \n",
              "1               6.0            MANUAL  rear wheel drive              2.0   \n",
              "2               6.0            MANUAL  rear wheel drive              2.0   \n",
              "3               6.0            MANUAL  rear wheel drive              2.0   \n",
              "4               6.0            MANUAL  rear wheel drive              2.0   \n",
              "\n",
              "                         Market Category Vehicle Size Vehicle Style  \\\n",
              "0  Factory Tuner,Luxury,High-Performance      Compact         Coupe   \n",
              "1                     Luxury,Performance      Compact   Convertible   \n",
              "2                Luxury,High-Performance      Compact         Coupe   \n",
              "3                     Luxury,Performance      Compact         Coupe   \n",
              "4                                 Luxury      Compact   Convertible   \n",
              "\n",
              "   highway MPG  city mpg  Popularity   MSRP  \n",
              "0           26        19        3916  46135  \n",
              "1           28        19        3916  40650  \n",
              "2           28        20        3916  36350  \n",
              "3           28        18        3916  29450  \n",
              "4           28        18        3916  34500  "
            ]
          },
          "metadata": {},
          "execution_count": 24
        }
      ],
      "metadata": {
        "id": "JFTr2ziKJfYO"
      }
    },
    {
      "cell_type": "code",
      "execution_count": 25,
      "source": [
        "# Nueva columna - marca + modelo\r\n",
        "df['Maker_Model']= df['Make']+ \" \" + df['Model']"
      ],
      "outputs": [],
      "metadata": {
        "id": "Fepg6gmHg9_I"
      }
    },
    {
      "cell_type": "code",
      "execution_count": 26,
      "source": [
        "# Elegimos algunas columnas que tengan texto y las combinamos en un solo campo\r\n",
        "df1 = df[['Engine Fuel Type','Transmission Type','Driven_Wheels','Market Category','Vehicle Size', 'Vehicle Style', 'Maker_Model']]\r\n",
        "df2 = df1.apply(lambda x: ','.join(x.astype(str)), axis=1) \r\n",
        "df_clean = pd.DataFrame({'clean': df2})\r\n",
        "df_clean.head()"
      ],
      "outputs": [
        {
          "output_type": "execute_result",
          "data": {
            "text/html": [
              "<div>\n",
              "<style scoped>\n",
              "    .dataframe tbody tr th:only-of-type {\n",
              "        vertical-align: middle;\n",
              "    }\n",
              "\n",
              "    .dataframe tbody tr th {\n",
              "        vertical-align: top;\n",
              "    }\n",
              "\n",
              "    .dataframe thead th {\n",
              "        text-align: right;\n",
              "    }\n",
              "</style>\n",
              "<table border=\"1\" class=\"dataframe\">\n",
              "  <thead>\n",
              "    <tr style=\"text-align: right;\">\n",
              "      <th></th>\n",
              "      <th>clean</th>\n",
              "    </tr>\n",
              "  </thead>\n",
              "  <tbody>\n",
              "    <tr>\n",
              "      <th>0</th>\n",
              "      <td>premium unleaded (required),MANUAL,rear wheel ...</td>\n",
              "    </tr>\n",
              "    <tr>\n",
              "      <th>1</th>\n",
              "      <td>premium unleaded (required),MANUAL,rear wheel ...</td>\n",
              "    </tr>\n",
              "    <tr>\n",
              "      <th>2</th>\n",
              "      <td>premium unleaded (required),MANUAL,rear wheel ...</td>\n",
              "    </tr>\n",
              "    <tr>\n",
              "      <th>3</th>\n",
              "      <td>premium unleaded (required),MANUAL,rear wheel ...</td>\n",
              "    </tr>\n",
              "    <tr>\n",
              "      <th>4</th>\n",
              "      <td>premium unleaded (required),MANUAL,rear wheel ...</td>\n",
              "    </tr>\n",
              "  </tbody>\n",
              "</table>\n",
              "</div>"
            ],
            "text/plain": [
              "                                               clean\n",
              "0  premium unleaded (required),MANUAL,rear wheel ...\n",
              "1  premium unleaded (required),MANUAL,rear wheel ...\n",
              "2  premium unleaded (required),MANUAL,rear wheel ...\n",
              "3  premium unleaded (required),MANUAL,rear wheel ...\n",
              "4  premium unleaded (required),MANUAL,rear wheel ..."
            ]
          },
          "metadata": {},
          "execution_count": 26
        }
      ],
      "metadata": {
        "id": "7CfKXiB5iQ0s"
      }
    },
    {
      "cell_type": "code",
      "execution_count": 27,
      "source": [
        "# Creamos la lista de listas de palabras que sera la entrada del word2vec \r\n",
        "sent = [row.split(',') for row in df_clean['clean']] \r\n",
        "sent[:2]"
      ],
      "outputs": [
        {
          "output_type": "execute_result",
          "data": {
            "text/plain": [
              "[['premium unleaded (required)',\n",
              "  'MANUAL',\n",
              "  'rear wheel drive',\n",
              "  'Factory Tuner',\n",
              "  'Luxury',\n",
              "  'High-Performance',\n",
              "  'Compact',\n",
              "  'Coupe',\n",
              "  'BMW 1 Series M'],\n",
              " ['premium unleaded (required)',\n",
              "  'MANUAL',\n",
              "  'rear wheel drive',\n",
              "  'Luxury',\n",
              "  'Performance',\n",
              "  'Compact',\n",
              "  'Convertible',\n",
              "  'BMW 1 Series']]"
            ]
          },
          "metadata": {},
          "execution_count": 27
        }
      ],
      "metadata": {
        "id": "3669g6G9itLJ"
      }
    },
    {
      "cell_type": "code",
      "execution_count": 28,
      "source": [
        "# Entrenamos el word2vec\r\n",
        "model = gensim.models.Word2Vec(sent, min_count=1, window =3, sg = 1)"
      ],
      "outputs": [],
      "metadata": {
        "id": "nSyIB9ASisgL"
      }
    },
    {
      "cell_type": "code",
      "execution_count": 29,
      "source": [
        "model.wv.similarity('BMW 1 Series M', 'BMW 1 Series')"
      ],
      "outputs": [
        {
          "output_type": "execute_result",
          "data": {
            "text/plain": [
              "0.93926346"
            ]
          },
          "metadata": {},
          "execution_count": 29
        }
      ],
      "metadata": {
        "id": "uZoFu35rjHpz"
      }
    },
    {
      "cell_type": "code",
      "execution_count": 30,
      "source": [
        "model.wv.most_similar('BMW 1 Series M')"
      ],
      "outputs": [
        {
          "output_type": "execute_result",
          "data": {
            "text/plain": [
              "[('Ford Shelby GT350', 0.9400246739387512),\n",
              " ('BMW 1 Series', 0.9392634034156799),\n",
              " ('Mercedes-Benz SL-Class', 0.9388341307640076),\n",
              " ('Scion FR-S', 0.9382849335670471),\n",
              " ('Lamborghini Murcielago', 0.9380284547805786),\n",
              " ('Audi S5', 0.9379854202270508),\n",
              " ('Ford Mustang', 0.9376536011695862),\n",
              " ('Lotus Evora', 0.936672568321228),\n",
              " ('Aston Martin Vanquish', 0.93629390001297),\n",
              " ('BMW 2 Series', 0.9361668229103088)]"
            ]
          },
          "metadata": {},
          "execution_count": 30
        }
      ],
      "metadata": {
        "id": "QB3EDHXyjYeM"
      }
    },
    {
      "cell_type": "code",
      "execution_count": 31,
      "source": [
        "df[(df.Make == \"BMW\") & (df.Model == \"1 Series M\")]"
      ],
      "outputs": [
        {
          "output_type": "execute_result",
          "data": {
            "text/html": [
              "<div>\n",
              "<style scoped>\n",
              "    .dataframe tbody tr th:only-of-type {\n",
              "        vertical-align: middle;\n",
              "    }\n",
              "\n",
              "    .dataframe tbody tr th {\n",
              "        vertical-align: top;\n",
              "    }\n",
              "\n",
              "    .dataframe thead th {\n",
              "        text-align: right;\n",
              "    }\n",
              "</style>\n",
              "<table border=\"1\" class=\"dataframe\">\n",
              "  <thead>\n",
              "    <tr style=\"text-align: right;\">\n",
              "      <th></th>\n",
              "      <th>Make</th>\n",
              "      <th>Model</th>\n",
              "      <th>Year</th>\n",
              "      <th>Engine Fuel Type</th>\n",
              "      <th>Engine HP</th>\n",
              "      <th>Engine Cylinders</th>\n",
              "      <th>Transmission Type</th>\n",
              "      <th>Driven_Wheels</th>\n",
              "      <th>Number of Doors</th>\n",
              "      <th>Market Category</th>\n",
              "      <th>Vehicle Size</th>\n",
              "      <th>Vehicle Style</th>\n",
              "      <th>highway MPG</th>\n",
              "      <th>city mpg</th>\n",
              "      <th>Popularity</th>\n",
              "      <th>MSRP</th>\n",
              "      <th>Maker_Model</th>\n",
              "    </tr>\n",
              "  </thead>\n",
              "  <tbody>\n",
              "    <tr>\n",
              "      <th>0</th>\n",
              "      <td>BMW</td>\n",
              "      <td>1 Series M</td>\n",
              "      <td>2011</td>\n",
              "      <td>premium unleaded (required)</td>\n",
              "      <td>335.0</td>\n",
              "      <td>6.0</td>\n",
              "      <td>MANUAL</td>\n",
              "      <td>rear wheel drive</td>\n",
              "      <td>2.0</td>\n",
              "      <td>Factory Tuner,Luxury,High-Performance</td>\n",
              "      <td>Compact</td>\n",
              "      <td>Coupe</td>\n",
              "      <td>26</td>\n",
              "      <td>19</td>\n",
              "      <td>3916</td>\n",
              "      <td>46135</td>\n",
              "      <td>BMW 1 Series M</td>\n",
              "    </tr>\n",
              "  </tbody>\n",
              "</table>\n",
              "</div>"
            ],
            "text/plain": [
              "  Make       Model  Year             Engine Fuel Type  Engine HP  \\\n",
              "0  BMW  1 Series M  2011  premium unleaded (required)      335.0   \n",
              "\n",
              "   Engine Cylinders Transmission Type     Driven_Wheels  Number of Doors  \\\n",
              "0               6.0            MANUAL  rear wheel drive              2.0   \n",
              "\n",
              "                         Market Category Vehicle Size Vehicle Style  \\\n",
              "0  Factory Tuner,Luxury,High-Performance      Compact         Coupe   \n",
              "\n",
              "   highway MPG  city mpg  Popularity   MSRP     Maker_Model  \n",
              "0           26        19        3916  46135  BMW 1 Series M  "
            ]
          },
          "metadata": {},
          "execution_count": 31
        }
      ],
      "metadata": {
        "id": "ocmg7de7kDbU"
      }
    },
    {
      "cell_type": "code",
      "execution_count": 32,
      "source": [
        "df[(df.Make == \"Mercedes-Benz\") & (df.Model == \"SLS AMG GT\")]"
      ],
      "outputs": [
        {
          "output_type": "execute_result",
          "data": {
            "text/html": [
              "<div>\n",
              "<style scoped>\n",
              "    .dataframe tbody tr th:only-of-type {\n",
              "        vertical-align: middle;\n",
              "    }\n",
              "\n",
              "    .dataframe tbody tr th {\n",
              "        vertical-align: top;\n",
              "    }\n",
              "\n",
              "    .dataframe thead th {\n",
              "        text-align: right;\n",
              "    }\n",
              "</style>\n",
              "<table border=\"1\" class=\"dataframe\">\n",
              "  <thead>\n",
              "    <tr style=\"text-align: right;\">\n",
              "      <th></th>\n",
              "      <th>Make</th>\n",
              "      <th>Model</th>\n",
              "      <th>Year</th>\n",
              "      <th>Engine Fuel Type</th>\n",
              "      <th>Engine HP</th>\n",
              "      <th>Engine Cylinders</th>\n",
              "      <th>Transmission Type</th>\n",
              "      <th>Driven_Wheels</th>\n",
              "      <th>Number of Doors</th>\n",
              "      <th>Market Category</th>\n",
              "      <th>Vehicle Size</th>\n",
              "      <th>Vehicle Style</th>\n",
              "      <th>highway MPG</th>\n",
              "      <th>city mpg</th>\n",
              "      <th>Popularity</th>\n",
              "      <th>MSRP</th>\n",
              "      <th>Maker_Model</th>\n",
              "    </tr>\n",
              "  </thead>\n",
              "  <tbody>\n",
              "    <tr>\n",
              "      <th>9687</th>\n",
              "      <td>Mercedes-Benz</td>\n",
              "      <td>SLS AMG GT</td>\n",
              "      <td>2013</td>\n",
              "      <td>premium unleaded (required)</td>\n",
              "      <td>583.0</td>\n",
              "      <td>8.0</td>\n",
              "      <td>AUTOMATED_MANUAL</td>\n",
              "      <td>rear wheel drive</td>\n",
              "      <td>2.0</td>\n",
              "      <td>Exotic,Factory Tuner,Luxury,High-Performance</td>\n",
              "      <td>Compact</td>\n",
              "      <td>Coupe</td>\n",
              "      <td>19</td>\n",
              "      <td>13</td>\n",
              "      <td>617</td>\n",
              "      <td>199500</td>\n",
              "      <td>Mercedes-Benz SLS AMG GT</td>\n",
              "    </tr>\n",
              "    <tr>\n",
              "      <th>9688</th>\n",
              "      <td>Mercedes-Benz</td>\n",
              "      <td>SLS AMG GT</td>\n",
              "      <td>2013</td>\n",
              "      <td>premium unleaded (required)</td>\n",
              "      <td>583.0</td>\n",
              "      <td>8.0</td>\n",
              "      <td>AUTOMATED_MANUAL</td>\n",
              "      <td>rear wheel drive</td>\n",
              "      <td>2.0</td>\n",
              "      <td>Exotic,Factory Tuner,Luxury,High-Performance</td>\n",
              "      <td>Compact</td>\n",
              "      <td>Convertible</td>\n",
              "      <td>19</td>\n",
              "      <td>13</td>\n",
              "      <td>617</td>\n",
              "      <td>206000</td>\n",
              "      <td>Mercedes-Benz SLS AMG GT</td>\n",
              "    </tr>\n",
              "    <tr>\n",
              "      <th>9689</th>\n",
              "      <td>Mercedes-Benz</td>\n",
              "      <td>SLS AMG GT</td>\n",
              "      <td>2014</td>\n",
              "      <td>premium unleaded (required)</td>\n",
              "      <td>622.0</td>\n",
              "      <td>8.0</td>\n",
              "      <td>AUTOMATED_MANUAL</td>\n",
              "      <td>rear wheel drive</td>\n",
              "      <td>2.0</td>\n",
              "      <td>Exotic,Factory Tuner,Luxury,High-Performance</td>\n",
              "      <td>Compact</td>\n",
              "      <td>Coupe</td>\n",
              "      <td>17</td>\n",
              "      <td>13</td>\n",
              "      <td>617</td>\n",
              "      <td>275000</td>\n",
              "      <td>Mercedes-Benz SLS AMG GT</td>\n",
              "    </tr>\n",
              "    <tr>\n",
              "      <th>9690</th>\n",
              "      <td>Mercedes-Benz</td>\n",
              "      <td>SLS AMG GT</td>\n",
              "      <td>2014</td>\n",
              "      <td>premium unleaded (required)</td>\n",
              "      <td>583.0</td>\n",
              "      <td>8.0</td>\n",
              "      <td>AUTOMATED_MANUAL</td>\n",
              "      <td>rear wheel drive</td>\n",
              "      <td>2.0</td>\n",
              "      <td>Exotic,Factory Tuner,Luxury,High-Performance</td>\n",
              "      <td>Compact</td>\n",
              "      <td>Coupe</td>\n",
              "      <td>19</td>\n",
              "      <td>13</td>\n",
              "      <td>617</td>\n",
              "      <td>201500</td>\n",
              "      <td>Mercedes-Benz SLS AMG GT</td>\n",
              "    </tr>\n",
              "    <tr>\n",
              "      <th>9691</th>\n",
              "      <td>Mercedes-Benz</td>\n",
              "      <td>SLS AMG GT</td>\n",
              "      <td>2014</td>\n",
              "      <td>premium unleaded (required)</td>\n",
              "      <td>583.0</td>\n",
              "      <td>8.0</td>\n",
              "      <td>AUTOMATED_MANUAL</td>\n",
              "      <td>rear wheel drive</td>\n",
              "      <td>2.0</td>\n",
              "      <td>Exotic,Factory Tuner,Luxury,High-Performance</td>\n",
              "      <td>Compact</td>\n",
              "      <td>Convertible</td>\n",
              "      <td>19</td>\n",
              "      <td>13</td>\n",
              "      <td>617</td>\n",
              "      <td>208000</td>\n",
              "      <td>Mercedes-Benz SLS AMG GT</td>\n",
              "    </tr>\n",
              "  </tbody>\n",
              "</table>\n",
              "</div>"
            ],
            "text/plain": [
              "               Make       Model  Year             Engine Fuel Type  Engine HP  \\\n",
              "9687  Mercedes-Benz  SLS AMG GT  2013  premium unleaded (required)      583.0   \n",
              "9688  Mercedes-Benz  SLS AMG GT  2013  premium unleaded (required)      583.0   \n",
              "9689  Mercedes-Benz  SLS AMG GT  2014  premium unleaded (required)      622.0   \n",
              "9690  Mercedes-Benz  SLS AMG GT  2014  premium unleaded (required)      583.0   \n",
              "9691  Mercedes-Benz  SLS AMG GT  2014  premium unleaded (required)      583.0   \n",
              "\n",
              "      Engine Cylinders Transmission Type     Driven_Wheels  Number of Doors  \\\n",
              "9687               8.0  AUTOMATED_MANUAL  rear wheel drive              2.0   \n",
              "9688               8.0  AUTOMATED_MANUAL  rear wheel drive              2.0   \n",
              "9689               8.0  AUTOMATED_MANUAL  rear wheel drive              2.0   \n",
              "9690               8.0  AUTOMATED_MANUAL  rear wheel drive              2.0   \n",
              "9691               8.0  AUTOMATED_MANUAL  rear wheel drive              2.0   \n",
              "\n",
              "                                   Market Category Vehicle Size Vehicle Style  \\\n",
              "9687  Exotic,Factory Tuner,Luxury,High-Performance      Compact         Coupe   \n",
              "9688  Exotic,Factory Tuner,Luxury,High-Performance      Compact   Convertible   \n",
              "9689  Exotic,Factory Tuner,Luxury,High-Performance      Compact         Coupe   \n",
              "9690  Exotic,Factory Tuner,Luxury,High-Performance      Compact         Coupe   \n",
              "9691  Exotic,Factory Tuner,Luxury,High-Performance      Compact   Convertible   \n",
              "\n",
              "      highway MPG  city mpg  Popularity    MSRP               Maker_Model  \n",
              "9687           19        13         617  199500  Mercedes-Benz SLS AMG GT  \n",
              "9688           19        13         617  206000  Mercedes-Benz SLS AMG GT  \n",
              "9689           17        13         617  275000  Mercedes-Benz SLS AMG GT  \n",
              "9690           19        13         617  201500  Mercedes-Benz SLS AMG GT  \n",
              "9691           19        13         617  208000  Mercedes-Benz SLS AMG GT  "
            ]
          },
          "metadata": {},
          "execution_count": 32
        }
      ],
      "metadata": {
        "id": "STJGs3DVyWJw"
      }
    },
    {
      "cell_type": "code",
      "execution_count": null,
      "source": [],
      "outputs": [],
      "metadata": {
        "id": "wPHTHzfiysk1"
      }
    }
  ]
}