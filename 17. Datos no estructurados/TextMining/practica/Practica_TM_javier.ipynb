{
  "cells": [
    {
      "cell_type": "markdown",
      "metadata": {
        "id": "8SLUTtXTn-oY"
      },
      "source": [
        "Text Mining - Práctica\n",
        "\n",
        "AFI - Máster en Data Science y Big Data\n",
        "\n",
        "Juan de Dios Romero Palop\n",
        "\n",
        "Abril 2022\n"
      ]
    },
    {
      "cell_type": "markdown",
      "metadata": {
        "id": "Cepa0wSSCk-a"
      },
      "source": [
        "### EJERCICIO 1 Fechas\n",
        "\n",
        "Vamos a crear expresiones regulares que nos permitan detectar dentro de un texto fechas en distintos formatos. "
      ]
    },
    {
      "cell_type": "code",
      "execution_count": 1,
      "metadata": {},
      "outputs": [],
      "source": [
        "import re"
      ]
    },
    {
      "cell_type": "code",
      "execution_count": 2,
      "metadata": {
        "id": "35Hs_3oKn_zh"
      },
      "outputs": [
        {
          "name": "stdout",
          "output_type": "stream",
          "text": [
            "('30-03-20', True)\n",
            "('3-03-20', True)\n",
            "('40-03-20', False)\n",
            "('20-3-20', False)\n",
            "('10-13-20', False)\n",
            "('10-13-2020', False)\n"
          ]
        }
      ],
      "source": [
        "# 1.1 Construye una regex que se active con el siguiente formato dd-mm-yy (e.g. 30-03-20)\n",
        "def is_date(date: str):\n",
        "    if re.search('^(0?[1-9]|[12][0-9]|3[01])-(0[1-9]|1[012])-(\\d{2})$', date):\n",
        "        return date, True\n",
        "    return date, False\n",
        "\n",
        "print(is_date('30-03-20'))\n",
        "print(is_date('3-03-20'))\n",
        "print(is_date('40-03-20'))\n",
        "print(is_date('20-3-20'))\n",
        "print(is_date('10-13-20'))\n",
        "print(is_date('10-13-2020'))"
      ]
    },
    {
      "cell_type": "code",
      "execution_count": 3,
      "metadata": {
        "id": "pc68oATgDYUF"
      },
      "outputs": [
        {
          "name": "stdout",
          "output_type": "stream",
          "text": [
            "('30/03/20', True)\n",
            "('10/03/20', True)\n"
          ]
        }
      ],
      "source": [
        "# 1.2 A veces en vez de - se utiliza /. Modifica la regex anterior para que también se active con el siguiente formato:\n",
        "# dd/mm/yy (e.g. 30/03/20)\n",
        "# Ojo, debe activarse también con el formato de la celda anterior.\n",
        "\n",
        "def is_date(date: str):\n",
        "    if re.search('^(0?[1-9]|[12][0-9]|3[01])[-/](0[1-9]|1[012])[-/](\\d{2})$', date):\n",
        "        return date, True\n",
        "    return date, False\n",
        "    \n",
        "print(is_date('30/03/20'))\n",
        "print(is_date('10/03/20'))"
      ]
    },
    {
      "cell_type": "code",
      "execution_count": 4,
      "metadata": {
        "id": "fRqHZa1xDyf3"
      },
      "outputs": [
        {
          "name": "stdout",
          "output_type": "stream",
          "text": [
            "('30/3/20', True)\n",
            "('10/012/20', False)\n"
          ]
        }
      ],
      "source": [
        "# 1.3 Has llegado hasta aquí pero tú también sabes que no siempre se añade el 0 a los meses que van de enero a septiembre.\n",
        "# Modifica tu regex para que tenga en cuenta esto. (e.g. 30/3/20)\n",
        "# Ojo, debe activarse también con el formato de las celdas anteriores.\n",
        "\n",
        "def is_date(date: str):\n",
        "    if re.search('^(0?[1-9]|[12][0-9]|3[01])[-/](0?[1-9]|1[012])[-/](\\d{2})$', date):\n",
        "        return date, True\n",
        "    return date, False\n",
        "    \n",
        "print(is_date('30/3/20'))\n",
        "print(is_date('10/012/20'))\n"
      ]
    },
    {
      "cell_type": "markdown",
      "metadata": {
        "id": "API32GcRG_DK"
      },
      "source": [
        "### EJERCICIO 2 Emails "
      ]
    },
    {
      "cell_type": "code",
      "execution_count": 5,
      "metadata": {
        "id": "0WOlhK4bHPrC"
      },
      "outputs": [
        {
          "name": "stdout",
          "output_type": "stream",
          "text": [
            "Ejemplos válidos\n",
            "('simple@example.com', True)\n",
            "('very.common@example.com', True)\n",
            "('disposable.style.email.with+symbol@example.com', True)\n",
            "('other.email-with-hyphen@example.com', True)\n",
            "('fully-qualified-domain@example.com', True)\n",
            "('user.name+tag+sorting@example.com', True)\n",
            "('example-indeed@strange-example.com', True)\n",
            "\n",
            "Ejemplos no válidos\n",
            "('Abc.example.com', False)\n",
            "('Abc..example.com', False)\n",
            "('A@b@c@example.com', False)\n",
            "('a\"b(c)d,e:f;g<h>i[j\\\\k]l@example.com', False)\n",
            "('this is not\\x07llowed@example.com', False)\n",
            "('i_like_underscore@but_its_not_allowed_in_this_part.example.com', False)\n"
          ]
        }
      ],
      "source": [
        "# Construye una regex que compruebe que un token cumple los requisitos para ser una dirección de email.\n",
        "def is_mail(mail: str):\n",
        "    '''\n",
        "    Ejemplos y reglas tomadas de https://en.wikipedia.org/wiki/Email_address#Syntax\n",
        "    Local-part\n",
        "    - uppercase and lowercase Latin letters A to Z and a to z\n",
        "    - digits 0 to 9\n",
        "    - dot ., provided that it is not the first or last character and provided also that it does not appear consecutively\n",
        "    - printable characters !#$%&'*+-/=?^_`{|}~ (tampoco dejaremos que sean el primer o el último carácter)\n",
        "\n",
        "    Domain\n",
        "    - uppercase and lowercase Latin letters A to Z and a to z;\n",
        "    - digits 0 to 9, provided that top-level domain names are not all-numeric;\n",
        "    - hyphen -, provided that it is not the first or last character.\n",
        "    '''\n",
        "    if re.search('^([A-Za-z0-9]+[\\.\\!\\#\\$\\%\\&\\'\\*\\+\\-\\/\\=\\?\\^\\_\\`\\{\\|\\}\\~]?[A-Za-z0-9]+)+@([A-Za-z0-9]+\\-?[A-Za-z0-9]+)+(\\.[A-Z|a-z]{2,})+$', mail):\n",
        "        return mail, True\n",
        "    return mail, False\n",
        "\n",
        "# Ejemplos válidos\n",
        "print('Ejemplos válidos')\n",
        "print(is_mail('simple@example.com'))\n",
        "print(is_mail('very.common@example.com'))\n",
        "print(is_mail('disposable.style.email.with+symbol@example.com'))\n",
        "print(is_mail('other.email-with-hyphen@example.com'))\n",
        "print(is_mail('fully-qualified-domain@example.com'))\n",
        "print(is_mail('user.name+tag+sorting@example.com'))\n",
        "print(is_mail('example-indeed@strange-example.com'))\n",
        "\n",
        "# Ejemplos no válidos\n",
        "print('\\nEjemplos no válidos')\n",
        "print(is_mail('Abc.example.com')) # (no @ character)\n",
        "print(is_mail('Abc..example.com')) # (2 dotsconsecutively)\n",
        "print(is_mail('A@b@c@example.com')) # (only one @ is allowed outside quotation marks)\n",
        "print(is_mail('a\"b(c)d,e:f;g<h>i[j\\k]l@example.com')) # (none of the special characters in this local-part are allowed outside quotation marks)\n",
        "print(is_mail('this is not\\allowed@example.com')) # (spaces, quotes, and backslashes may only exist when within quoted strings and preceded by a backslash)\n",
        "print(is_mail('i_like_underscore@but_its_not_allowed_in_this_part.example.com')) # (Underscore is not allowed in domain part)"
      ]
    },
    {
      "cell_type": "markdown",
      "metadata": {
        "id": "3mkHNbziHR3h"
      },
      "source": [
        "### EJERCICIO 3 Analizador de estilo"
      ]
    },
    {
      "cell_type": "markdown",
      "metadata": {
        "id": "od_QYGQeHWAT"
      },
      "source": [
        "Prepara una secuencia de celdas que te sirva para hacer un análisis exploratorio del estilo de un texto cualquiera. Utiliza las funciones vistas en clase e incluye una celda con el texto explicando para que te serviría cada una de ellas. Elige un texto (puedes utilizar alguno de los ya incluídos en los paquetes o incluir alguno que encuentres por tu cuenta), aplica las celdas sobre él y analiza los resultados obtenidos.\n",
        "\n",
        "PD. Si decides utilizar un texto nuevo acuerdate de incluirlo en la respuesta de la práctica.\n",
        "\n",
        "PD2. Puedes elegir si lo haces sobre un texto en español o en ingles. \n",
        "\n",
        "PD3. Recuerda lo dicho en clase, más vale pocas cosas pero relevantes que aplicar todo lo visto en clase sin motivo."
      ]
    },
    {
      "cell_type": "markdown",
      "metadata": {},
      "source": [
        "#### Guión de la pelíicula gladiator"
      ]
    },
    {
      "cell_type": "markdown",
      "metadata": {},
      "source": [
        "Importamos la librería nltk y leemos el fichero con el guión de la película."
      ]
    },
    {
      "cell_type": "code",
      "execution_count": 6,
      "metadata": {
        "id": "wwVfp-6YoBXS"
      },
      "outputs": [
        {
          "name": "stderr",
          "output_type": "stream",
          "text": [
            "[nltk_data] Downloading package punkt to\n",
            "[nltk_data]     C:\\Users\\Javier\\AppData\\Roaming\\nltk_data...\n",
            "[nltk_data]   Package punkt is already up-to-date!\n"
          ]
        },
        {
          "data": {
            "text/plain": [
              "<Text: gladiator - the movie * * * *...>"
            ]
          },
          "execution_count": 6,
          "metadata": {},
          "output_type": "execute_result"
        }
      ],
      "source": [
        "import nltk\n",
        "nltk.download('punkt')\n",
        "\n",
        "file = open('gladiator_transcript.txt')\n",
        "t = file.read().lower()\n",
        "file.close()\n",
        "tokens = nltk.word_tokenize(t)\n",
        "gladiator = nltk.Text(tokens)\n",
        "gladiator"
      ]
    },
    {
      "cell_type": "code",
      "execution_count": 7,
      "metadata": {},
      "outputs": [
        {
          "name": "stdout",
          "output_type": "stream",
          "text": [
            "Displaying 18 of 18 matches:\n",
            " gladiator - the movie * * * * * * * * * * * \n",
            "r god himself . maximus you were a gladiator ? proximo yes , i was [ responding\n",
            "me . as their wagon pulls into the gladiator school , the guard opens the wagon\n",
            "ng down towards the boy . ] lucius gladiator , are you the one they call spania\n",
            " eyes to pierce through . the head gladiator calls out instructions before they\n",
            " to die , salute you '' . only one gladiator refuses to make such a salute -- m\n",
            " drop their weapons . ] praetorian gladiator , the emperor has asked for you . \n",
            " . i do n't think there has been a gladiator to match you , as for this young m\n",
            "ve a name ... ? maximus my name is gladiator . [ maximus slowly turns around an\n",
            " maximus . ] [ scene change to the gladiator school . gladiators sit at a table\n",
            " taken by two guards , back to the gladiator school . they pass through the str\n",
            "gladiators are training inside the gladiator school . maximus walks through the\n",
            "hank you m'lady . [ scene change - gladiator cells . maximus has been brought t\n",
            " not a legionnaire ? lucius i am a gladiator . commodus a gladiator ? gladiator\n",
            "cius i am a gladiator . commodus a gladiator ? gladiators only fight in the gam\n",
            " lucilla 's face . ] [ back at the gladiator school ... maximus begins to colle\n",
            "e a slave . the slave who became a gladiator . the gladiator who defied an empe\n",
            "slave who became a gladiator . the gladiator who defied an emperor . a striking\n"
          ]
        }
      ],
      "source": [
        "gladiator.concordance(\"gladiator\")"
      ]
    },
    {
      "cell_type": "code",
      "execution_count": 8,
      "metadata": {},
      "outputs": [
        {
          "name": "stdout",
          "output_type": "stream",
          "text": [
            "crowd vision battle soldiers line mob name senate gate chariot sand\n",
            "ring legionnaires gladiator height deserts borders rule winter way\n"
          ]
        }
      ],
      "source": [
        "gladiator.similar(\"emperor\")"
      ]
    },
    {
      "cell_type": "code",
      "execution_count": 9,
      "metadata": {},
      "outputs": [
        {
          "name": "stdout",
          "output_type": "stream",
          "text": [
            "man general republic slave and emperor child vision soldiers you rome\n",
            "dead tree time look senate city smile spaniard gladiators\n"
          ]
        }
      ],
      "source": [
        "gladiator.similar(\"gladiator\")"
      ]
    },
    {
      "cell_type": "code",
      "execution_count": 10,
      "metadata": {},
      "outputs": [
        {
          "data": {
            "image/png": "[encoded data removed]",
            "text/plain": [
              "<Figure size 432x288 with 1 Axes>"
            ]
          },
          "metadata": {
            "needs_background": "light"
          },
          "output_type": "display_data"
        }
      ],
      "source": [
        "gladiator.dispersion_plot([\"maximus\", \"marcus\", \"commodus\", \"lucilla\", \"proximo\", \"lucius\"])"
      ]
    },
    {
      "cell_type": "code",
      "execution_count": 11,
      "metadata": {},
      "outputs": [
        {
          "name": "stdout",
          "output_type": "stream",
          "text": [
            "scene change; marcus aurelius; slave trader; arena floor; old friend;\n",
            "gladiator school; leather pouch; still alive; roma victa; n't know;\n",
            "senator gracchus; trap door; frightened slave; battle field; maximus\n",
            "looks; last time; maximus stands; crowd cheers; little bee; maximus\n",
            "nods\n"
          ]
        }
      ],
      "source": [
        "gladiator.collocations()"
      ]
    },
    {
      "cell_type": "markdown",
      "metadata": {
        "id": "4r-EvU5lIZo6"
      },
      "source": [
        "### EJERCICIO 4 Traductor años 90"
      ]
    },
    {
      "cell_type": "code",
      "execution_count": 12,
      "metadata": {
        "id": "V4otz_DjoDeo"
      },
      "outputs": [
        {
          "name": "stdout",
          "output_type": "stream",
          "text": [
            "Indian will talk cowboy\n",
            "cowboy shoot\n",
            "cowboy homo bad\n"
          ]
        }
      ],
      "source": [
        "# Utiliza las funcionalidades de wordnet vistas en clase para crear un traductor palabra a palabra.\n",
        "# El resultado debe ser la traducción al inglés de la siguiente historia\n",
        "\n",
        "from nltk.corpus import wordnet\n",
        "\n",
        "text = '''indio querer hablar vaquero\n",
        "vaquero disparar\n",
        "vaquero hombre malo'''\n",
        "\n",
        "for line in text.split('\\n'):\n",
        "    print(' '.join([wordnet.synsets(word, lang='spa')[0].lemma_names('eng')[0] for word in line.split()]))\n",
        "\n"
      ]
    },
    {
      "cell_type": "code",
      "execution_count": 13,
      "metadata": {
        "id": "M2RWPBf5qI6W"
      },
      "outputs": [
        {
          "name": "stdout",
          "output_type": "stream",
          "text": [
            " アメリカ・インディアン 意力 会話 カウボーイ\n",
            " カウボーイ(palabra sin traducción)\n",
            " カウボーイ 同性愛者 不良\n"
          ]
        }
      ],
      "source": [
        "# Ahora me gustaría saber como quedaría esta historia en japonés. \n",
        "# En las traspas tienes información importante sobre cómo hacerlo.\n",
        "# Pista: quizás debas dar un rodeo.\n",
        "\n",
        "for line in text.split('\\n'):\n",
        "    line_trans = ''\n",
        "    for word in line.split():\n",
        "        english_trans = wordnet.synsets(word, lang='spa')[0].lemma_names('eng')[0]\n",
        "        japan_trans = wordnet.synsets(english_trans)[0].lemma_names('jpn')\n",
        "        line_trans += ' ' + japan_trans[0] if len(japan_trans) > 0 else '(palabra sin traducción)'\n",
        "    print(line_trans)"
      ]
    },
    {
      "cell_type": "markdown",
      "metadata": {
        "id": "K6Mh8pYMEI9m"
      },
      "source": [
        "### EJERCICIO 5 Clasificador textos\n",
        "\n",
        "Modifica el código visto en clase (6 Clasificación Textos) para solucionar los dos problemas que encontramos. De cara a la entrega, crea una copia del fichero, modificalo y envíalo en la práctica. Comprueba que el fichero entero funciona correctamente antes de enviarlo.\n",
        "\n",
        "1. Adapta las funciones correspondientes para que a la hora de vectorizar si encontramos una nueva palabra no se lance un error.\n",
        "\n",
        "2. Adapta las funciones o añade alguna nueva para que los textos a los que queremos asignar un sentimiento se preprocesen de forma correcta. "
      ]
    },
    {
      "cell_type": "code",
      "execution_count": null,
      "metadata": {
        "id": "YWBk2lIpELns"
      },
      "outputs": [],
      "source": []
    }
  ],
  "metadata": {
    "colab": {
      "collapsed_sections": [],
      "name": "Practica.ipynb",
      "provenance": []
    },
    "kernelspec": {
      "display_name": "Python 3",
      "name": "python3"
    },
    "language_info": {
      "codemirror_mode": {
        "name": "ipython",
        "version": 3
      },
      "file_extension": ".py",
      "mimetype": "text/x-python",
      "name": "python",
      "nbconvert_exporter": "python",
      "pygments_lexer": "ipython3",
      "version": "3.10.4"
    }
  },
  "nbformat": 4,
  "nbformat_minor": 0
}
