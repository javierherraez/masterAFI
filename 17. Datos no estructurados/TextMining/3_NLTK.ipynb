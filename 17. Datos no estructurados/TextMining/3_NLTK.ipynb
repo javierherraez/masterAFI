{
  "nbformat": 4,
  "nbformat_minor": 2,
  "metadata": {
    "colab": {
      "name": "3. NLTK",
      "provenance": [],
      "collapsed_sections": []
    },
    "kernelspec": {
      "name": "python3",
      "display_name": "Python 3.8.8 64-bit ('base': conda)"
    },
    "language_info": {
      "name": "python",
      "version": "3.8.8",
      "mimetype": "text/x-python",
      "codemirror_mode": {
        "name": "ipython",
        "version": 3
      },
      "pygments_lexer": "ipython3",
      "nbconvert_exporter": "python",
      "file_extension": ".py"
    },
    "interpreter": {
      "hash": "97ae724bfa85b9b34df7982b8bb8c7216f435b92902d749e4263f71162bea840"
    }
  },
  "cells": [
    {
      "cell_type": "markdown",
      "source": [
        "Text Mining - 3. NLTK\n",
        "\n",
        "AFI - Máster en Data Science y Big Data\n",
        "\n",
        "Juan de Dios Romero Palop\n",
        "\n",
        "Abril 2022\n"
      ],
      "metadata": {
        "id": "FfW7lOxpNoUq"
      }
    },
    {
      "cell_type": "code",
      "execution_count": 14,
      "source": [
        "import nltk"
      ],
      "outputs": [],
      "metadata": {
        "id": "i-VzsQKQnnxd"
      }
    },
    {
      "cell_type": "code",
      "execution_count": 15,
      "source": [
        "nltk.download()"
      ],
      "outputs": [
        {
          "output_type": "stream",
          "name": "stdout",
          "text": [
            "showing info https://raw.githubusercontent.com/nltk/nltk_data/gh-pages/index.xml\n"
          ]
        },
        {
          "output_type": "execute_result",
          "data": {
            "text/plain": [
              "True"
            ]
          },
          "metadata": {},
          "execution_count": 15
        }
      ],
      "metadata": {
        "id": "OVxCeR1_N78o"
      }
    },
    {
      "cell_type": "markdown",
      "source": [
        "### Tokenización frases"
      ],
      "metadata": {
        "id": "LEC-BKQhUjas"
      }
    },
    {
      "cell_type": "code",
      "execution_count": 16,
      "source": [
        "from nltk.tokenize import sent_tokenize"
      ],
      "outputs": [],
      "metadata": {
        "id": "MZu6mxd2OD9F"
      }
    },
    {
      "cell_type": "code",
      "execution_count": 17,
      "source": [
        "## Quizas necesiteis esto la primera vez\r\n",
        "nltk.download('punkt')"
      ],
      "outputs": [
        {
          "output_type": "stream",
          "name": "stderr",
          "text": [
            "[nltk_data] Downloading package punkt to\n",
            "[nltk_data]     C:\\Users\\jherraez\\AppData\\Roaming\\nltk_data...\n",
            "[nltk_data]   Package punkt is already up-to-date!\n"
          ]
        },
        {
          "output_type": "execute_result",
          "data": {
            "text/plain": [
              "True"
            ]
          },
          "metadata": {},
          "execution_count": 17
        }
      ],
      "metadata": {
        "id": "feaB-jyUP7k-"
      }
    },
    {
      "cell_type": "code",
      "execution_count": 18,
      "source": [
        "texto = '''Primera parte del Ingenioso hidalgo Don Quijote de la Mancha.\r\n",
        "Capitulo Primero. Que trata de la condicion y ejercicio del famoso hidalgo don Quijote de la Mancha.'''\r\n",
        "sent_tokenize(texto)"
      ],
      "outputs": [
        {
          "output_type": "execute_result",
          "data": {
            "text/plain": [
              "['Primera parte del Ingenioso hidalgo Don Quijote de la Mancha.',\n",
              " 'Capitulo Primero.',\n",
              " 'Que trata de la condicion y ejercicio del famoso hidalgo don Quijote de la Mancha.']"
            ]
          },
          "metadata": {},
          "execution_count": 18
        }
      ],
      "metadata": {
        "id": "kucC4f43PJm0"
      }
    },
    {
      "cell_type": "markdown",
      "source": [
        "Aunque en este ejemplo no se aprecia porque el texto es muy pequeño **sent_tokenize** no es la manera más óptima de tokenizar. Para textos grandes es mucho más rápido hacerlo de la siguiente manera:"
      ],
      "metadata": {
        "id": "RGeDcFy2QbZG"
      }
    },
    {
      "cell_type": "code",
      "execution_count": 19,
      "source": [
        "import nltk.data\r\n",
        "\r\n",
        "texto_en = '''To be or not to be. That is the question'''\r\n",
        "tokenizer = nltk.data.load('tokenizers/punkt/english.pickle')\r\n",
        "tokenizer.tokenize(texto_en)"
      ],
      "outputs": [
        {
          "output_type": "execute_result",
          "data": {
            "text/plain": [
              "['To be or not to be.', 'That is the question']"
            ]
          },
          "metadata": {},
          "execution_count": 19
        }
      ],
      "metadata": {
        "id": "V9p8JLpBPdIz"
      }
    },
    {
      "cell_type": "markdown",
      "source": [
        "Soporte para multiples idiomas"
      ],
      "metadata": {
        "id": "GvhhMtjpTFPn"
      }
    },
    {
      "cell_type": "code",
      "execution_count": 20,
      "source": [
        "texto_esp = \"¡Hola! ¿Cómo te llamas? Me llamo D. Tomás\"\r\n",
        "spanish_tokenizer = nltk.data.load('tokenizers/punkt/spanish.pickle')\r\n",
        "spanish_tokenizer.tokenize(texto_esp)"
      ],
      "outputs": [
        {
          "output_type": "execute_result",
          "data": {
            "text/plain": [
              "['¡Hola!', '¿Cómo te llamas?', 'Me llamo D. Tomás']"
            ]
          },
          "metadata": {},
          "execution_count": 20
        }
      ],
      "metadata": {
        "id": "WD5_D8J9TJRH"
      }
    },
    {
      "cell_type": "markdown",
      "source": [
        "### Tokenización palabras"
      ],
      "metadata": {
        "id": "Vxa4afUnUot8"
      }
    },
    {
      "cell_type": "code",
      "execution_count": 21,
      "source": [
        "from nltk.tokenize import word_tokenize"
      ],
      "outputs": [],
      "metadata": {
        "id": "Ng1POccoPqO-"
      }
    },
    {
      "cell_type": "code",
      "execution_count": 22,
      "source": [
        "word_tokenize(texto)"
      ],
      "outputs": [
        {
          "output_type": "execute_result",
          "data": {
            "text/plain": [
              "['Primera',\n",
              " 'parte',\n",
              " 'del',\n",
              " 'Ingenioso',\n",
              " 'hidalgo',\n",
              " 'Don',\n",
              " 'Quijote',\n",
              " 'de',\n",
              " 'la',\n",
              " 'Mancha',\n",
              " '.',\n",
              " 'Capitulo',\n",
              " 'Primero',\n",
              " '.',\n",
              " 'Que',\n",
              " 'trata',\n",
              " 'de',\n",
              " 'la',\n",
              " 'condicion',\n",
              " 'y',\n",
              " 'ejercicio',\n",
              " 'del',\n",
              " 'famoso',\n",
              " 'hidalgo',\n",
              " 'don',\n",
              " 'Quijote',\n",
              " 'de',\n",
              " 'la',\n",
              " 'Mancha',\n",
              " '.']"
            ]
          },
          "metadata": {},
          "execution_count": 22
        }
      ],
      "metadata": {
        "id": "1DPHZFnMR5by"
      }
    },
    {
      "cell_type": "code",
      "execution_count": 23,
      "source": [
        "# RETO: ¿Cómo combinamos ambas funciones para obtener por separado las palabras de cada frase? "
      ],
      "outputs": [],
      "metadata": {
        "id": "2lF2AkbOR8eX"
      }
    },
    {
      "cell_type": "markdown",
      "source": [
        "### Part of Speech"
      ],
      "metadata": {
        "id": "9kRgXnKXY7nb"
      }
    },
    {
      "cell_type": "code",
      "execution_count": 24,
      "source": [
        "from nltk import pos_tag\r\n",
        "nltk.download('averaged_perceptron_tagger')"
      ],
      "outputs": [
        {
          "output_type": "stream",
          "name": "stderr",
          "text": [
            "[nltk_data] Downloading package averaged_perceptron_tagger to\n",
            "[nltk_data]     C:\\Users\\jherraez\\AppData\\Roaming\\nltk_data...\n",
            "[nltk_data]   Package averaged_perceptron_tagger is already up-to-\n",
            "[nltk_data]       date!\n"
          ]
        },
        {
          "output_type": "execute_result",
          "data": {
            "text/plain": [
              "True"
            ]
          },
          "metadata": {},
          "execution_count": 24
        }
      ],
      "metadata": {
        "id": "WecQDCRHY-fa"
      }
    },
    {
      "cell_type": "code",
      "execution_count": 25,
      "source": [
        "text = \"Where do you live? In New York. I luv NY.\"\r\n",
        "pos_tag(word_tokenize(text))"
      ],
      "outputs": [
        {
          "output_type": "execute_result",
          "data": {
            "text/plain": [
              "[('Where', 'WRB'),\n",
              " ('do', 'VB'),\n",
              " ('you', 'PRP'),\n",
              " ('live', 'VB'),\n",
              " ('?', '.'),\n",
              " ('In', 'IN'),\n",
              " ('New', 'NNP'),\n",
              " ('York', 'NNP'),\n",
              " ('.', '.'),\n",
              " ('I', 'PRP'),\n",
              " ('luv', 'VBP'),\n",
              " ('NY', 'NNP'),\n",
              " ('.', '.')]"
            ]
          },
          "metadata": {},
          "execution_count": 25
        }
      ],
      "metadata": {
        "id": "5vTogWnhZMGW"
      }
    },
    {
      "cell_type": "code",
      "execution_count": 26,
      "source": [
        "from nltk import chunk\r\n",
        "nltk.download('maxent_ne_chunker')\r\n",
        "nltk.download('words')"
      ],
      "outputs": [
        {
          "output_type": "stream",
          "name": "stderr",
          "text": [
            "[nltk_data] Downloading package maxent_ne_chunker to\n",
            "[nltk_data]     C:\\Users\\jherraez\\AppData\\Roaming\\nltk_data...\n",
            "[nltk_data]   Package maxent_ne_chunker is already up-to-date!\n",
            "[nltk_data] Downloading package words to\n",
            "[nltk_data]     C:\\Users\\jherraez\\AppData\\Roaming\\nltk_data...\n",
            "[nltk_data]   Package words is already up-to-date!\n"
          ]
        },
        {
          "output_type": "execute_result",
          "data": {
            "text/plain": [
              "True"
            ]
          },
          "metadata": {},
          "execution_count": 26
        }
      ],
      "metadata": {
        "id": "o5AEytqabjge"
      }
    },
    {
      "cell_type": "markdown",
      "source": [
        "https://www.nltk.org/book/ch07.html"
      ],
      "metadata": {
        "id": "vcdL6oewA6s4"
      }
    },
    {
      "cell_type": "code",
      "execution_count": 71,
      "source": [
        "chunk.ne_chunk(pos_tag(word_tokenize(text))).draw()"
      ],
      "outputs": [],
      "metadata": {
        "id": "hL2K7jr9m_cS"
      }
    },
    {
      "cell_type": "markdown",
      "source": [
        "### Stemming"
      ],
      "metadata": {
        "id": "KdgWXQybuSGF"
      }
    },
    {
      "cell_type": "code",
      "execution_count": 28,
      "source": [
        "porter = nltk.PorterStemmer()"
      ],
      "outputs": [],
      "metadata": {
        "id": "yHN9_Q12nILH"
      }
    },
    {
      "cell_type": "code",
      "execution_count": 29,
      "source": [
        "words = ['caresses', 'flies', 'dies', 'mules', 'denied', 'died', 'agreed', 'owned', 'humbled', 'sized',\r\n",
        "'meeting', 'stating', 'siezing', 'itemization','sensational', 'traditional', 'reference', 'colonizer','plotted']\r\n",
        "[porter.stem(word) for word in words]"
      ],
      "outputs": [
        {
          "output_type": "execute_result",
          "data": {
            "text/plain": [
              "['caress',\n",
              " 'fli',\n",
              " 'die',\n",
              " 'mule',\n",
              " 'deni',\n",
              " 'die',\n",
              " 'agre',\n",
              " 'own',\n",
              " 'humbl',\n",
              " 'size',\n",
              " 'meet',\n",
              " 'state',\n",
              " 'siez',\n",
              " 'item',\n",
              " 'sensat',\n",
              " 'tradit',\n",
              " 'refer',\n",
              " 'colon',\n",
              " 'plot']"
            ]
          },
          "metadata": {},
          "execution_count": 29
        }
      ],
      "metadata": {
        "id": "Ys8VY3u8u9AL"
      }
    },
    {
      "cell_type": "code",
      "execution_count": 30,
      "source": [
        "from nltk.stem.snowball import SnowballStemmer\r\n",
        "print(\" \".join(SnowballStemmer.languages))"
      ],
      "outputs": [
        {
          "output_type": "stream",
          "name": "stdout",
          "text": [
            "arabic danish dutch english finnish french german hungarian italian norwegian porter portuguese romanian russian spanish swedish\n"
          ]
        }
      ],
      "metadata": {
        "id": "myzdLUluvTOy"
      }
    },
    {
      "cell_type": "code",
      "execution_count": 31,
      "source": [
        "stemmer = SnowballStemmer(\"spanish\")\r\n",
        "palabras = ['tuvo', 'traje', 'había', 'hubo', 'elefantes', 'infanta', 'infantas', 'infantil', 'infancia', 'motor', 'Quijote']\r\n",
        "[stemmer.stem(palabra) for palabra in palabras]"
      ],
      "outputs": [
        {
          "output_type": "execute_result",
          "data": {
            "text/plain": [
              "['tuv',\n",
              " 'traj',\n",
              " 'hab',\n",
              " 'hub',\n",
              " 'elef',\n",
              " 'infant',\n",
              " 'infant',\n",
              " 'infantil',\n",
              " 'infanci',\n",
              " 'motor',\n",
              " 'quijot']"
            ]
          },
          "metadata": {},
          "execution_count": 31
        }
      ],
      "metadata": {
        "id": "2dpq-j0FvlCs"
      }
    },
    {
      "cell_type": "markdown",
      "source": [
        "### Lemmatizacion"
      ],
      "metadata": {
        "id": "rb7t-VEO2fwq"
      }
    },
    {
      "cell_type": "code",
      "execution_count": 32,
      "source": [
        "nltk.download('wordnet')"
      ],
      "outputs": [
        {
          "output_type": "stream",
          "name": "stderr",
          "text": [
            "[nltk_data] Downloading package wordnet to\n",
            "[nltk_data]     C:\\Users\\jherraez\\AppData\\Roaming\\nltk_data...\n",
            "[nltk_data]   Unzipping corpora\\wordnet.zip.\n"
          ]
        },
        {
          "output_type": "execute_result",
          "data": {
            "text/plain": [
              "True"
            ]
          },
          "metadata": {},
          "execution_count": 32
        }
      ],
      "metadata": {
        "id": "-IYeSD552qet"
      }
    },
    {
      "cell_type": "code",
      "execution_count": 33,
      "source": [
        "lemmatizer = nltk.WordNetLemmatizer() \r\n",
        "  \r\n",
        "print(\"rocks :\", lemmatizer.lemmatize(\"rocks\")) \r\n",
        "print(\"corpora :\", lemmatizer.lemmatize(\"corpora\")) \r\n",
        "  \r\n",
        "# a denotes adjective in \"pos\" \r\n",
        "print(\"better :\", lemmatizer.lemmatize(\"better\", pos =\"a\"))"
      ],
      "outputs": [
        {
          "output_type": "stream",
          "name": "stdout",
          "text": [
            "rocks : rock\n",
            "corpora : corpus\n",
            "better : good\n"
          ]
        }
      ],
      "metadata": {
        "id": "QQ5u-MCov1j8"
      }
    },
    {
      "cell_type": "markdown",
      "source": [
        "### NER"
      ],
      "metadata": {
        "id": "gmgEATVVJNLN"
      }
    },
    {
      "cell_type": "code",
      "execution_count": 34,
      "source": [
        "nltk.download('maxent_ne_chunker')\r\n",
        "nltk.download('words')"
      ],
      "outputs": [
        {
          "output_type": "stream",
          "name": "stderr",
          "text": [
            "[nltk_data] Downloading package maxent_ne_chunker to\n",
            "[nltk_data]     C:\\Users\\jherraez\\AppData\\Roaming\\nltk_data...\n",
            "[nltk_data]   Package maxent_ne_chunker is already up-to-date!\n",
            "[nltk_data] Downloading package words to\n",
            "[nltk_data]     C:\\Users\\jherraez\\AppData\\Roaming\\nltk_data...\n",
            "[nltk_data]   Package words is already up-to-date!\n"
          ]
        },
        {
          "output_type": "execute_result",
          "data": {
            "text/plain": [
              "True"
            ]
          },
          "metadata": {},
          "execution_count": 34
        }
      ],
      "metadata": {
        "id": "It4lxdUCKkfp"
      }
    },
    {
      "cell_type": "code",
      "execution_count": 35,
      "source": [
        "text = \"Microsoft Corp. is looking at buying United Kingdom startup for 175 million American Dollars, Peter Parker from NY Times says\"\r\n",
        "print(nltk.ne_chunk(pos_tag(word_tokenize(text))))"
      ],
      "outputs": [
        {
          "output_type": "stream",
          "name": "stdout",
          "text": [
            "(S\n",
            "  (ORGANIZATION Microsoft/NNP Corp./NNP)\n",
            "  is/VBZ\n",
            "  looking/VBG\n",
            "  at/IN\n",
            "  buying/VBG\n",
            "  (GPE United/NNP Kingdom/NNP)\n",
            "  startup/NN\n",
            "  for/IN\n",
            "  175/CD\n",
            "  million/CD\n",
            "  (ORGANIZATION American/JJ Dollars/NNP)\n",
            "  ,/,\n",
            "  (PERSON Peter/NNP Parker/NNP)\n",
            "  from/IN\n",
            "  (ORGANIZATION NY/NNP Times/NNP)\n",
            "  says/VBZ)\n"
          ]
        }
      ],
      "metadata": {
        "id": "na23Y2ISJPVs"
      }
    },
    {
      "cell_type": "markdown",
      "source": [
        "### Stopwords"
      ],
      "metadata": {
        "id": "I0__FE45qqbj"
      }
    },
    {
      "cell_type": "code",
      "execution_count": 36,
      "source": [
        "nltk.download('stopwords')\r\n",
        "from nltk.corpus import stopwords"
      ],
      "outputs": [
        {
          "output_type": "stream",
          "name": "stderr",
          "text": [
            "[nltk_data] Downloading package stopwords to\n",
            "[nltk_data]     C:\\Users\\jherraez\\AppData\\Roaming\\nltk_data...\n",
            "[nltk_data]   Unzipping corpora\\stopwords.zip.\n"
          ]
        }
      ],
      "metadata": {
        "id": "RaZ4oJ4-qseZ"
      }
    },
    {
      "cell_type": "code",
      "execution_count": 37,
      "source": [
        "stop_words = set(stopwords.words('english'))"
      ],
      "outputs": [],
      "metadata": {
        "id": "KMdqX3Q7qsqc"
      }
    },
    {
      "cell_type": "code",
      "execution_count": 38,
      "source": [
        "list(stop_words)[1:10]"
      ],
      "outputs": [
        {
          "output_type": "execute_result",
          "data": {
            "text/plain": [
              "['aren', 'below', 'we', 'couldn', 'wasn', 'these', 'is', 'during', 'why']"
            ]
          },
          "metadata": {},
          "execution_count": 38
        }
      ],
      "metadata": {
        "id": "3hoLrEhRr53s"
      }
    },
    {
      "cell_type": "code",
      "execution_count": 39,
      "source": [
        "text = '''In computing, stop words are words which are filtered out before or after processing of natural language data (text).\r\n",
        " Though \"stop words\" usually refers to the most common words in a language, there is no single universal list of stop words used by all natural language processing tools, and indeed not all tools even use such a list. \r\n",
        " Some tools specifically avoid removing these stop words to support phrase search.'''\r\n",
        "tokens = [token for token in word_tokenize(text) if token not in stop_words]\r\n",
        "print('Original: %s' % (text))\r\n",
        "print()\r\n",
        "print(tokens)"
      ],
      "outputs": [
        {
          "output_type": "stream",
          "name": "stdout",
          "text": [
            "Original: In computing, stop words are words which are filtered out before or after processing of natural language data (text).\n",
            " Though \"stop words\" usually refers to the most common words in a language, there is no single universal list of stop words used by all natural language processing tools, and indeed not all tools even use such a list. \n",
            " Some tools specifically avoid removing these stop words to support phrase search.\n",
            "\n",
            "['In', 'computing', ',', 'stop', 'words', 'words', 'filtered', 'processing', 'natural', 'language', 'data', '(', 'text', ')', '.', 'Though', '``', 'stop', 'words', \"''\", 'usually', 'refers', 'common', 'words', 'language', ',', 'single', 'universal', 'list', 'stop', 'words', 'used', 'natural', 'language', 'processing', 'tools', ',', 'indeed', 'tools', 'even', 'use', 'list', '.', 'Some', 'tools', 'specifically', 'avoid', 'removing', 'stop', 'words', 'support', 'phrase', 'search', '.']\n"
          ]
        }
      ],
      "metadata": {
        "id": "tuCxvusssHrJ"
      }
    },
    {
      "cell_type": "code",
      "execution_count": 40,
      "source": [
        "customize_stop_words = [\r\n",
        "    'computing', 'filtered'\r\n",
        "]\r\n",
        "\r\n",
        "stop_words.update(customize_stop_words)\r\n",
        "tokens = [token for token in word_tokenize(text) if token not in stop_words]\r\n",
        "print('Original: %s' % (text))\r\n",
        "print()\r\n",
        "print(tokens)"
      ],
      "outputs": [
        {
          "output_type": "stream",
          "name": "stdout",
          "text": [
            "Original: In computing, stop words are words which are filtered out before or after processing of natural language data (text).\n",
            " Though \"stop words\" usually refers to the most common words in a language, there is no single universal list of stop words used by all natural language processing tools, and indeed not all tools even use such a list. \n",
            " Some tools specifically avoid removing these stop words to support phrase search.\n",
            "\n",
            "['In', ',', 'stop', 'words', 'words', 'processing', 'natural', 'language', 'data', '(', 'text', ')', '.', 'Though', '``', 'stop', 'words', \"''\", 'usually', 'refers', 'common', 'words', 'language', ',', 'single', 'universal', 'list', 'stop', 'words', 'used', 'natural', 'language', 'processing', 'tools', ',', 'indeed', 'tools', 'even', 'use', 'list', '.', 'Some', 'tools', 'specifically', 'avoid', 'removing', 'stop', 'words', 'support', 'phrase', 'search', '.']\n"
          ]
        }
      ],
      "metadata": {
        "id": "fbl6kzS4uZMi"
      }
    },
    {
      "cell_type": "code",
      "execution_count": 41,
      "source": [
        "stop_words = set(stopwords.words('spanish'))\r\n",
        "list(stop_words)[1:10]"
      ],
      "outputs": [
        {
          "output_type": "execute_result",
          "data": {
            "text/plain": [
              "['otras',\n",
              " 'tuya',\n",
              " 'serías',\n",
              " 'estabais',\n",
              " 'nos',\n",
              " 'tuviesen',\n",
              " 'tengas',\n",
              " 'tenidas',\n",
              " 'una']"
            ]
          },
          "metadata": {},
          "execution_count": 41
        }
      ],
      "metadata": {
        "id": "5qO_UCuzu4HI"
      }
    },
    {
      "cell_type": "code",
      "execution_count": 42,
      "source": [
        "texto = '''Primera parte del Ingenioso hidalgo Don Quijote de la Mancha.\r\n",
        "Capitulo Primero. Que trata de la condicion y ejercicio del famoso hidalgo don Quijote de la Mancha.'''\r\n",
        "\r\n",
        "tokens = [token for token in word_tokenize(texto) if token not in stop_words]\r\n",
        "print('Original: %s' % (texto))\r\n",
        "print()\r\n",
        "print(tokens)"
      ],
      "outputs": [
        {
          "output_type": "stream",
          "name": "stdout",
          "text": [
            "Original: Primera parte del Ingenioso hidalgo Don Quijote de la Mancha.\n",
            "Capitulo Primero. Que trata de la condicion y ejercicio del famoso hidalgo don Quijote de la Mancha.\n",
            "\n",
            "['Primera', 'parte', 'Ingenioso', 'hidalgo', 'Don', 'Quijote', 'Mancha', '.', 'Capitulo', 'Primero', '.', 'Que', 'trata', 'condicion', 'ejercicio', 'famoso', 'hidalgo', 'don', 'Quijote', 'Mancha', '.']\n"
          ]
        }
      ],
      "metadata": {
        "id": "5T_ExrDBvNpJ"
      }
    },
    {
      "cell_type": "markdown",
      "source": [
        "### Texts functions"
      ],
      "metadata": {
        "id": "KsoUQysU4xC4"
      }
    },
    {
      "cell_type": "code",
      "execution_count": 72,
      "source": [
        "nltk.download()"
      ],
      "outputs": [
        {
          "output_type": "stream",
          "name": "stdout",
          "text": [
            "showing info https://raw.githubusercontent.com/nltk/nltk_data/gh-pages/index.xml\n"
          ]
        },
        {
          "output_type": "execute_result",
          "data": {
            "text/plain": [
              "True"
            ]
          },
          "metadata": {},
          "execution_count": 72
        }
      ],
      "metadata": {
        "id": "8gj0YXBWl3jV"
      }
    },
    {
      "cell_type": "code",
      "execution_count": 44,
      "source": [
        "nltk.download('gutenberg')\r\n",
        "nltk.download('genesis')\r\n",
        "nltk.download('inaugural')\r\n",
        "nltk.download('nps_chat')\r\n",
        "nltk.download('webtext')\r\n",
        "nltk.download('treebank')\r\n",
        "from nltk.book import *"
      ],
      "outputs": [
        {
          "output_type": "stream",
          "name": "stderr",
          "text": [
            "[nltk_data] Downloading package gutenberg to\n",
            "[nltk_data]     C:\\Users\\jherraez\\AppData\\Roaming\\nltk_data...\n",
            "[nltk_data]   Unzipping corpora\\gutenberg.zip.\n",
            "[nltk_data] Downloading package genesis to\n",
            "[nltk_data]     C:\\Users\\jherraez\\AppData\\Roaming\\nltk_data...\n",
            "[nltk_data]   Unzipping corpora\\genesis.zip.\n",
            "[nltk_data] Downloading package inaugural to\n",
            "[nltk_data]     C:\\Users\\jherraez\\AppData\\Roaming\\nltk_data...\n",
            "[nltk_data]   Unzipping corpora\\inaugural.zip.\n",
            "[nltk_data] Downloading package nps_chat to\n",
            "[nltk_data]     C:\\Users\\jherraez\\AppData\\Roaming\\nltk_data...\n",
            "[nltk_data]   Unzipping corpora\\nps_chat.zip.\n",
            "[nltk_data] Downloading package webtext to\n",
            "[nltk_data]     C:\\Users\\jherraez\\AppData\\Roaming\\nltk_data...\n",
            "[nltk_data]   Unzipping corpora\\webtext.zip.\n",
            "[nltk_data] Downloading package treebank to\n",
            "[nltk_data]     C:\\Users\\jherraez\\AppData\\Roaming\\nltk_data...\n",
            "[nltk_data]   Unzipping corpora\\treebank.zip.\n"
          ]
        },
        {
          "output_type": "stream",
          "name": "stdout",
          "text": [
            "*** Introductory Examples for the NLTK Book ***\n",
            "Loading text1, ..., text9 and sent1, ..., sent9\n",
            "Type the name of the text or sentence to view it.\n",
            "Type: 'texts()' or 'sents()' to list the materials.\n",
            "text1: Moby Dick by Herman Melville 1851\n",
            "text2: Sense and Sensibility by Jane Austen 1811\n",
            "text3: The Book of Genesis\n",
            "text4: Inaugural Address Corpus\n",
            "text5: Chat Corpus\n",
            "text6: Monty Python and the Holy Grail\n",
            "text7: Wall Street Journal\n",
            "text8: Personals Corpus\n",
            "text9: The Man Who Was Thursday by G . K . Chesterton 1908\n"
          ]
        }
      ],
      "metadata": {
        "id": "8OUBgPsi41RP"
      }
    },
    {
      "cell_type": "code",
      "execution_count": 45,
      "source": [
        "text3.concordance(\"lord\")"
      ],
      "outputs": [
        {
          "output_type": "stream",
          "name": "stdout",
          "text": [
            "Displaying 25 of 207 matches:\n",
            "y were created , in the day that the LORD God made the earth and the heavens ,\n",
            "rb of the field before it gr for the LORD God had not caused it to rain upon t\n",
            "e whole face of the ground . And the LORD God formed man of the dust of the gr\n",
            "d man became a living soul . And the LORD God planted a garden eastward in Ede\n",
            "med . And out of the ground made the LORD God to grow every tree that is pleas\n",
            " fourth river is Euphrates . And the LORD God took the man , and put him into \n",
            "to dress it and to keep it . And the LORD God commanded the man , saying , Of \n",
            "reof thou shalt surely die . And the LORD God said , It is not good that the m\n",
            " for him . And out of the ground the LORD God formed every beast of the field \n",
            "found an help meet for him . And the LORD God caused a deep sleep to fall upon\n",
            "ad thereof ; And the rib , which the LORD God had taken from man , made he a w\n",
            "han any beast of the field which the LORD God had made . And he said unto the \n",
            "ns . And they heard the voice of the LORD God walking in the garden in the coo\n",
            " themselves from the presence of the LORD God amongst the trees of the garden \n",
            "st the trees of the garden . And the LORD God called unto Adam , and said unto\n",
            "f the tree , and I did eat . And the LORD God said unto the woman , What is th\n",
            "eguiled me , and I did eat . And the LORD God said unto the serpent , Because \n",
            "to Adam also and to his wife did the LORD God make coats of skins , and clothe\n",
            "f skins , and clothed them . And the LORD God said , Behold , the man is becom\n",
            " eat , and live for ev Therefore the LORD God sent him forth from the garden o\n",
            " said , I have gotten a man from the LORD . And she again bare his brother Abe\n",
            "t of the ground an offering unto the LORD . And Abel , he also brought of the \n",
            "ock and of the fat thereof . And the LORD had respect unto Abel and to his off\n",
            ", and his countenance fell . And the LORD said unto Cain , Why art thou wroth \n",
            "his brother , and slew him . And the LORD said unto Cain , Where is Abel thy b\n"
          ]
        }
      ],
      "metadata": {
        "id": "Tqqp0dtc41bq"
      }
    },
    {
      "cell_type": "code",
      "execution_count": 46,
      "source": [
        "text2.concordance(\"lord\")"
      ],
      "outputs": [
        {
          "output_type": "stream",
          "name": "stdout",
          "text": [
            "Displaying 25 of 29 matches:\n",
            " they have something else to do .\" \" Lord ! Anne ,\" cried her sister , \" you c\n",
            " her invitation immediately . \" Oh , Lord ! I am sure your mother can spare yo\n",
            " if not both of them , I must have . Lord bless me ! how do you think I can li\n",
            "ave had Cartwright to settle with -- Lord , I have been as busy as a bee ever \n",
            " wine ! And the dried cherries too ! Lord ! nothing seems to do her any good .\n",
            "de , and next to none on the other , Lord bless you ! they care no more about \n",
            "ame her own supper , and go to bed . Lord ! no wonder she has been looking so \n",
            "e like to be laughed at about them . Lord ! how concerned Sir John and my daug\n",
            " madam will easily believe .\" \" Oh ! Lord ! yes , that I do indeed . It must b\n",
            "hey an ' t married by Mid - summer . Lord ! how he ' ll chuckle over this news\n",
            "such a mulberry tree in one corner ! Lord ! how Charlotte and I did stuff the \n",
            "from one hour ' s end to another . ' Lord ! here comes your beau , Nancy ,' my\n",
            "s Morton , only daughter of the late Lord Morton , with thirty thousand pounds\n",
            " bitter philippic , \" Miss Morton is Lord Morton ' s daughter .\" Fanny looked \n",
            "ild , to build a cottage . My friend Lord Courtland came to me the other day o\n",
            "rectly to justify it , by saying , \" Lord ! my dear Miss Dashwood ! have you h\n",
            "So I looked at it directly , and , ' Lord ! my dear ,' says I , ' it is nothin\n",
            "is exactly what I said , my dear . ' Lord !' says I , ' is Mrs . Dashwood ill \n",
            "ut no conjurer , popt it all out . ' Lord !' thinks she to herself , ' they ar\n",
            "make a match between Edward and some Lord ' s daughter or other , I forget who\n",
            "it will be a match in spite of her . Lord ! what a taking poor Mr . Edward wil\n",
            " as any body else would with eight . Lord ! how snug they might live in such a\n",
            "y will have a child every year ! and Lord help ' em ! how poor they will be !-\n",
            "n we shall be , when I come back !-- Lord ! we shall sit and gape at one anoth\n",
            " she was almost ready to cry out , \" Lord ! what should hinder it ?\"-- but che\n"
          ]
        }
      ],
      "metadata": {
        "id": "3LnwUDBL6C1Y"
      }
    },
    {
      "cell_type": "code",
      "execution_count": 47,
      "source": [
        "text6.concordance(\"lord\")"
      ],
      "outputs": [
        {
          "output_type": "stream",
          "name": "stdout",
          "text": [
            "Displaying 12 of 12 matches:\n",
            " at Camelot . I must speak with your lord and master . SOLDIER # 1 : What ? Ri\n",
            "ve there . ARTHUR : Then who is your lord ? WOMAN : We don ' t have a lord . A\n",
            "our lord ? WOMAN : We don ' t have a lord . ARTHUR : What ? DENNIS : I told yo\n",
            "is mine ! [ kneeling ] We thank Thee Lord , that in Thy mer -- BLACK KNIGHT : \n",
            " ARTHUR : I ' m averting my eyes , O Lord . GOD : Well , don ' t . It ' s like\n",
            " . Now knock it off ! ARTHUR : Yes , Lord . GOD : Right ! Arthur , King of the\n",
            " dark times . ARTHUR : Good idea , O Lord ! GOD : ' Course it ' s a good idea \n",
            "T : A blessing ! A blessing from the Lord ! GALAHAD : God be praised SCENE 8 :\n",
            "and grenade up on high , saying ,' O Lord , bless this thy hand grenade that w\n",
            " tiny bits , in thy mercy .' And the Lord did grin , and the people did feast \n",
            ", Brother . SECOND BROTHER : And the Lord spake , saying , ' First shalt thou \n",
            "biters . ARTHUR : In the name of the Lord , we demand entrance to this sacred \n"
          ]
        }
      ],
      "metadata": {
        "id": "3tG9OhSj6XmY"
      }
    },
    {
      "cell_type": "code",
      "execution_count": 48,
      "source": [
        "test = \"This is a test. This is a second test. I like testing!\"\r\n",
        "nltk.Text(word_tokenize(test)).concordance(\"test\")"
      ],
      "outputs": [
        {
          "output_type": "stream",
          "name": "stdout",
          "text": [
            "Displaying 2 of 2 matches:\n",
            "This is a test . This is a second test . I like tes\n",
            "This is a test . This is a second test . I like testing !\n"
          ]
        }
      ],
      "metadata": {
        "id": "yoGzFCOk41lI"
      }
    },
    {
      "cell_type": "code",
      "execution_count": 49,
      "source": [
        "text1.similar(\"lord\")"
      ],
      "outputs": [
        {
          "output_type": "stream",
          "name": "stdout",
          "text": [
            "whale sea ship captain boat night time deck pequod hand world one day\n",
            "side water way air line crew door\n"
          ]
        }
      ],
      "metadata": {
        "id": "98WvZ8XX41h6"
      }
    },
    {
      "cell_type": "code",
      "execution_count": 50,
      "source": [
        "text1.similar(\"monstrous\")"
      ],
      "outputs": [
        {
          "output_type": "stream",
          "name": "stdout",
          "text": [
            "true contemptible christian abundant few part mean careful puzzled\n",
            "mystifying passing curious loving wise doleful gamesome singular\n",
            "delightfully perilous fearless\n"
          ]
        }
      ],
      "metadata": {
        "id": "9cwS8dtN7pQM"
      }
    },
    {
      "cell_type": "code",
      "execution_count": 51,
      "source": [
        "text2.similar(\"monstrous\")"
      ],
      "outputs": [
        {
          "output_type": "stream",
          "name": "stdout",
          "text": [
            "very so exceedingly heartily a as good great extremely remarkably\n",
            "sweet vast amazingly\n"
          ]
        }
      ],
      "metadata": {
        "id": "T-gZVLdN7emt"
      }
    },
    {
      "cell_type": "code",
      "execution_count": 52,
      "source": [
        "text2.common_contexts([\"monstrous\", \"very\"])"
      ],
      "outputs": [
        {
          "output_type": "stream",
          "name": "stdout",
          "text": [
            "am_glad a_pretty a_lucky is_pretty be_glad\n"
          ]
        }
      ],
      "metadata": {
        "id": "aAzp0VbI73d9"
      }
    },
    {
      "cell_type": "code",
      "execution_count": 53,
      "source": [
        "text4.dispersion_plot([\"citizens\", \"democracy\", \"freedom\", \"duties\", \"America\"])"
      ],
      "outputs": [
        {
          "output_type": "display_data",
          "data": {
            "image/png": "[encoded data removed]",
            "text/plain": [
              "<Figure size 432x288 with 1 Axes>"
            ]
          },
          "metadata": {
            "needs_background": "light"
          }
        }
      ],
      "metadata": {
        "id": "x5rQU0Tm8ZGI"
      }
    },
    {
      "cell_type": "code",
      "execution_count": 54,
      "source": [
        "text1.dispersion_plot([\"whale\", \"harpoon\"])"
      ],
      "outputs": [
        {
          "output_type": "display_data",
          "data": {
            "image/png": "[encoded data removed]",
            "text/plain": [
              "<Figure size 432x288 with 1 Axes>"
            ]
          },
          "metadata": {
            "needs_background": "light"
          }
        }
      ],
      "metadata": {
        "id": "9xpHSYjx8mxf"
      }
    },
    {
      "cell_type": "code",
      "execution_count": 55,
      "source": [
        "text3.dispersion_plot([\"he\",\"she\"])"
      ],
      "outputs": [
        {
          "output_type": "display_data",
          "data": {
            "image/png": "[encoded data removed]",
            "text/plain": [
              "<Figure size 432x288 with 1 Axes>"
            ]
          },
          "metadata": {
            "needs_background": "light"
          }
        }
      ],
      "metadata": {
        "id": "P04lHyXu82uS"
      }
    },
    {
      "cell_type": "code",
      "execution_count": 56,
      "source": [
        "text1.collocations()"
      ],
      "outputs": [
        {
          "output_type": "stream",
          "name": "stdout",
          "text": [
            "Sperm Whale; Moby Dick; White Whale; old man; Captain Ahab; sperm\n",
            "whale; Right Whale; Captain Peleg; New Bedford; Cape Horn; cried Ahab;\n",
            "years ago; lower jaw; never mind; Father Mapple; cried Stubb; chief\n",
            "mate; white whale; ivory leg; one hand\n"
          ]
        }
      ],
      "metadata": {
        "id": "t3js-HqJw-aG"
      }
    },
    {
      "cell_type": "code",
      "execution_count": 57,
      "source": [
        "text6.collocations(num=15)"
      ],
      "outputs": [
        {
          "output_type": "stream",
          "name": "stdout",
          "text": [
            "BLACK KNIGHT; clop clop; HEAD KNIGHT; mumble mumble; Holy Grail;\n",
            "squeak squeak; FRENCH GUARD; saw saw; Sir Robin; Run away; CARTOON\n",
            "CHARACTER; King Arthur; Iesu domine; Pie Iesu; DEAD PERSON\n"
          ]
        }
      ],
      "metadata": {
        "id": "x2nTkPcJxHSO"
      }
    },
    {
      "cell_type": "markdown",
      "source": [
        "### Word Net"
      ],
      "metadata": {
        "id": "BZzLf1Q-ghhX"
      }
    },
    {
      "cell_type": "code",
      "execution_count": 58,
      "source": [
        "nltk.download('wordnet')\n",
        "from nltk.corpus import wordnet"
      ],
      "outputs": [
        {
          "output_type": "stream",
          "name": "stderr",
          "text": [
            "[nltk_data] Downloading package wordnet to\n",
            "[nltk_data]     C:\\Users\\jherraez\\AppData\\Roaming\\nltk_data...\n",
            "[nltk_data]   Package wordnet is already up-to-date!\n"
          ]
        }
      ],
      "metadata": {
        "id": "yGk6LIBggj6O"
      }
    },
    {
      "cell_type": "code",
      "execution_count": 59,
      "source": [
        "# Definición. \n",
        "syns = wordnet.synsets(\"dog\")\n",
        "syns[0].definition()"
      ],
      "outputs": [
        {
          "output_type": "execute_result",
          "data": {
            "text/plain": [
              "'a member of the genus Canis (probably descended from the common wolf) that has been domesticated by man since prehistoric times; occurs in many breeds'"
            ]
          },
          "metadata": {},
          "execution_count": 59
        }
      ],
      "metadata": {
        "id": "KftaD3neh9Ft"
      }
    },
    {
      "cell_type": "code",
      "execution_count": 60,
      "source": [
        "# Ejemplo de uso\n",
        "syns[0].examples()"
      ],
      "outputs": [
        {
          "output_type": "execute_result",
          "data": {
            "text/plain": [
              "['the dog barked all night']"
            ]
          },
          "metadata": {},
          "execution_count": 60
        }
      ],
      "metadata": {
        "id": "fEhaQg6jilK2"
      }
    },
    {
      "cell_type": "code",
      "execution_count": 61,
      "source": [
        "# Sinónimos. El primer sinónimo es la propia palabra.\n",
        "synonyms = []\n",
        " \n",
        "for syn in wordnet.synsets('dog'):\n",
        " \n",
        "    for lemma in syn.lemmas():\n",
        " \n",
        "        synonyms.append(lemma.name())\n",
        " \n",
        "print(synonyms)"
      ],
      "outputs": [
        {
          "output_type": "stream",
          "name": "stdout",
          "text": [
            "['dog', 'domestic_dog', 'Canis_familiaris', 'frump', 'dog', 'dog', 'cad', 'bounder', 'blackguard', 'dog', 'hound', 'heel', 'frank', 'frankfurter', 'hotdog', 'hot_dog', 'dog', 'wiener', 'wienerwurst', 'weenie', 'pawl', 'detent', 'click', 'dog', 'andiron', 'firedog', 'dog', 'dog-iron', 'chase', 'chase_after', 'trail', 'tail', 'tag', 'give_chase', 'dog', 'go_after', 'track']\n"
          ]
        }
      ],
      "metadata": {
        "id": "FnrESeMUguPD"
      }
    },
    {
      "cell_type": "code",
      "execution_count": 62,
      "source": [
        "[syn.definition() for syn in syns]"
      ],
      "outputs": [
        {
          "output_type": "execute_result",
          "data": {
            "text/plain": [
              "['a member of the genus Canis (probably descended from the common wolf) that has been domesticated by man since prehistoric times; occurs in many breeds',\n",
              " 'a dull unattractive unpleasant girl or woman',\n",
              " 'informal term for a man',\n",
              " 'someone who is morally reprehensible',\n",
              " 'a smooth-textured sausage of minced beef or pork usually smoked; often served on a bread roll',\n",
              " 'a hinged catch that fits into a notch of a ratchet to move a wheel forward or prevent it from moving backward',\n",
              " 'metal supports for logs in a fireplace',\n",
              " 'go after with the intent to catch']"
            ]
          },
          "metadata": {},
          "execution_count": 62
        }
      ],
      "metadata": {
        "id": "squvLf3Mgy-D"
      }
    },
    {
      "cell_type": "code",
      "execution_count": 63,
      "source": [
        "syns[3].examples()"
      ],
      "outputs": [
        {
          "output_type": "execute_result",
          "data": {
            "text/plain": [
              "['you dirty dog']"
            ]
          },
          "metadata": {},
          "execution_count": 63
        }
      ],
      "metadata": {
        "id": "ZjSbELclix-K"
      }
    },
    {
      "cell_type": "code",
      "execution_count": 64,
      "source": [
        "# Antónimos\n",
        "antonyms = []\n",
        " \n",
        "for syn in wordnet.synsets(\"small\"):\n",
        " \n",
        "    for l in syn.lemmas():\n",
        " \n",
        "        if l.antonyms():\n",
        " \n",
        "            antonyms.append(l.antonyms()[0].name())\n",
        " \n",
        "print(antonyms)"
      ],
      "outputs": [
        {
          "output_type": "stream",
          "name": "stdout",
          "text": [
            "['large', 'big', 'big']\n"
          ]
        }
      ],
      "metadata": {
        "id": "G5PH2XlZhwTp"
      }
    },
    {
      "cell_type": "code",
      "execution_count": 65,
      "source": [
        "nltk.download('omw')"
      ],
      "outputs": [
        {
          "output_type": "stream",
          "name": "stderr",
          "text": [
            "[nltk_data] Downloading package omw to\n",
            "[nltk_data]     C:\\Users\\jherraez\\AppData\\Roaming\\nltk_data...\n",
            "[nltk_data]   Unzipping corpora\\omw.zip.\n"
          ]
        },
        {
          "output_type": "execute_result",
          "data": {
            "text/plain": [
              "True"
            ]
          },
          "metadata": {},
          "execution_count": 65
        }
      ],
      "metadata": {
        "id": "chJvre_PngmR"
      }
    },
    {
      "cell_type": "code",
      "execution_count": 66,
      "source": [
        "sorted(wordnet.langs())"
      ],
      "outputs": [
        {
          "output_type": "execute_result",
          "data": {
            "text/plain": [
              "['als',\n",
              " 'arb',\n",
              " 'bul',\n",
              " 'cat',\n",
              " 'cmn',\n",
              " 'dan',\n",
              " 'ell',\n",
              " 'eng',\n",
              " 'eus',\n",
              " 'fas',\n",
              " 'fin',\n",
              " 'fra',\n",
              " 'glg',\n",
              " 'heb',\n",
              " 'hrv',\n",
              " 'ind',\n",
              " 'ita',\n",
              " 'jpn',\n",
              " 'nld',\n",
              " 'nno',\n",
              " 'nob',\n",
              " 'pol',\n",
              " 'por',\n",
              " 'qcn',\n",
              " 'slv',\n",
              " 'spa',\n",
              " 'swe',\n",
              " 'tha',\n",
              " 'zsm']"
            ]
          },
          "metadata": {},
          "execution_count": 66
        }
      ],
      "metadata": {
        "id": "5l8wU8gu4Fi3"
      }
    },
    {
      "cell_type": "code",
      "execution_count": 67,
      "source": [
        "wordnet.synsets(\"perro\", lang = 'spa')"
      ],
      "outputs": [
        {
          "output_type": "execute_result",
          "data": {
            "text/plain": [
              "[Synset('dog.n.01'), Synset('rotter.n.01')]"
            ]
          },
          "metadata": {},
          "execution_count": 67
        }
      ],
      "metadata": {
        "id": "RnpluFyMk2s2"
      }
    },
    {
      "cell_type": "code",
      "execution_count": 68,
      "source": [
        "wordnet.synsets(\"dog\")[0].lemma_names('spa')"
      ],
      "outputs": [
        {
          "output_type": "execute_result",
          "data": {
            "text/plain": [
              "['can', 'perro']"
            ]
          },
          "metadata": {},
          "execution_count": 68
        }
      ],
      "metadata": {
        "id": "Op8ZGpRunTsX"
      }
    },
    {
      "cell_type": "code",
      "execution_count": 69,
      "source": [
        "wordnet.synsets(\"dog\")[0].lemma_names('tha')"
      ],
      "outputs": [
        {
          "output_type": "execute_result",
          "data": {
            "text/plain": [
              "['หมา', 'สุนัข', 'หมาบ้าน']"
            ]
          },
          "metadata": {},
          "execution_count": 69
        }
      ],
      "metadata": {
        "id": "upkgSXHXoeio"
      }
    },
    {
      "cell_type": "code",
      "execution_count": 70,
      "source": [
        "wordnet.synsets('หมา', lang = 'tha')"
      ],
      "outputs": [
        {
          "output_type": "execute_result",
          "data": {
            "text/plain": [
              "[Synset('dog.n.01')]"
            ]
          },
          "metadata": {},
          "execution_count": 70
        }
      ],
      "metadata": {
        "id": "zjLpO1YuuXuI"
      }
    },
    {
      "cell_type": "code",
      "execution_count": null,
      "source": [],
      "outputs": [],
      "metadata": {
        "id": "vssgjImPuuMU"
      }
    }
  ]
}