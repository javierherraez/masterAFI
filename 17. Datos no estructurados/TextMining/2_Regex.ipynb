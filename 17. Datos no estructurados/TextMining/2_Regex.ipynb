{
  "nbformat": 4,
  "nbformat_minor": 2,
  "metadata": {
    "colab": {
      "name": "2. Regex.ipynb",
      "provenance": [],
      "collapsed_sections": []
    },
    "kernelspec": {
      "name": "python3",
      "display_name": "Python 3.8.8 64-bit ('base': conda)"
    },
    "language_info": {
      "name": "python",
      "version": "3.8.8",
      "mimetype": "text/x-python",
      "codemirror_mode": {
        "name": "ipython",
        "version": 3
      },
      "pygments_lexer": "ipython3",
      "nbconvert_exporter": "python",
      "file_extension": ".py"
    },
    "interpreter": {
      "hash": "97ae724bfa85b9b34df7982b8bb8c7216f435b92902d749e4263f71162bea840"
    }
  },
  "cells": [
    {
      "cell_type": "markdown",
      "source": [
        "Text Mining - 2. Regex\n",
        "\n",
        "AFI - Máster en Data Science y Big Data\n",
        "\n",
        "Juan de Dios Romero Palop\n",
        "\n",
        "Abril 2022"
      ],
      "metadata": {
        "id": "C0WFwSVh5qD0"
      }
    },
    {
      "cell_type": "markdown",
      "source": [
        "https://regexr.com/"
      ],
      "metadata": {
        "id": "4iHTCGcuyR3B"
      }
    },
    {
      "cell_type": "code",
      "execution_count": 1,
      "source": [
        "texto = '''Primera parte del Ingenioso hidalgo  Don Quijote de la mancha.\r\n",
        "Capitulo Primero. Que trata de la condicion y ejercicio del famoso hidalgo don Quijote de la Mancha.'''\r\n",
        "palabras = texto.split(' ')"
      ],
      "outputs": [],
      "metadata": {
        "id": "RlcTTCDU5mAF"
      }
    },
    {
      "cell_type": "code",
      "execution_count": 2,
      "source": [
        "palabras"
      ],
      "outputs": [
        {
          "output_type": "execute_result",
          "data": {
            "text/plain": [
              "['Primera',\n",
              " 'parte',\n",
              " 'del',\n",
              " 'Ingenioso',\n",
              " 'hidalgo',\n",
              " '',\n",
              " 'Don',\n",
              " 'Quijote',\n",
              " 'de',\n",
              " 'la',\n",
              " 'mancha.\\nCapitulo',\n",
              " 'Primero.',\n",
              " 'Que',\n",
              " 'trata',\n",
              " 'de',\n",
              " 'la',\n",
              " 'condicion',\n",
              " 'y',\n",
              " 'ejercicio',\n",
              " 'del',\n",
              " 'famoso',\n",
              " 'hidalgo',\n",
              " 'don',\n",
              " 'Quijote',\n",
              " 'de',\n",
              " 'la',\n",
              " 'Mancha.']"
            ]
          },
          "metadata": {},
          "execution_count": 2
        }
      ],
      "metadata": {
        "id": "NYRSOWyz6E1Q"
      }
    },
    {
      "cell_type": "markdown",
      "source": [
        "La librería que da un mayor soporte a las expresiones regulares en python es re (de Regular Expressions)"
      ],
      "metadata": {
        "id": "d7z-VDoTvdyB"
      }
    },
    {
      "cell_type": "code",
      "execution_count": 3,
      "source": [
        "import re"
      ],
      "outputs": [],
      "metadata": {
        "id": "VQUalhJT6Fmq"
      }
    },
    {
      "cell_type": "markdown",
      "source": [
        "La funcion search() devuelve un objeto/None dependiendo de si la expresión regular se cumple en el texto. "
      ],
      "metadata": {
        "id": "msyj4zPgvm4B"
      }
    },
    {
      "cell_type": "code",
      "execution_count": 4,
      "source": [
        "## . Cualquier caracter\r\n",
        "[palabra for palabra in palabras if re.search('.',palabra)]"
      ],
      "outputs": [
        {
          "output_type": "execute_result",
          "data": {
            "text/plain": [
              "['Primera',\n",
              " 'parte',\n",
              " 'del',\n",
              " 'Ingenioso',\n",
              " 'hidalgo',\n",
              " 'Don',\n",
              " 'Quijote',\n",
              " 'de',\n",
              " 'la',\n",
              " 'mancha.\\nCapitulo',\n",
              " 'Primero.',\n",
              " 'Que',\n",
              " 'trata',\n",
              " 'de',\n",
              " 'la',\n",
              " 'condicion',\n",
              " 'y',\n",
              " 'ejercicio',\n",
              " 'del',\n",
              " 'famoso',\n",
              " 'hidalgo',\n",
              " 'don',\n",
              " 'Quijote',\n",
              " 'de',\n",
              " 'la',\n",
              " 'Mancha.']"
            ]
          },
          "metadata": {},
          "execution_count": 4
        }
      ],
      "metadata": {
        "id": "P2Blsg9o6SfV"
      }
    },
    {
      "cell_type": "code",
      "execution_count": 5,
      "source": [
        "print(re.search('.', ''))"
      ],
      "outputs": [
        {
          "output_type": "stream",
          "name": "stdout",
          "text": [
            "None\n"
          ]
        }
      ],
      "metadata": {
        "id": "XlJaex5NwGBl"
      }
    },
    {
      "cell_type": "code",
      "execution_count": 6,
      "source": [
        "print(re.search('.', ' cualquier trozo de texto que no esté vacío'))"
      ],
      "outputs": [
        {
          "output_type": "stream",
          "name": "stdout",
          "text": [
            "<re.Match object; span=(0, 1), match=' '>\n"
          ]
        }
      ],
      "metadata": {
        "id": "rSw_6hJsw5w8"
      }
    },
    {
      "cell_type": "code",
      "execution_count": 7,
      "source": [
        "print(re.search('.', ','))"
      ],
      "outputs": [
        {
          "output_type": "stream",
          "name": "stdout",
          "text": [
            "<re.Match object; span=(0, 1), match=','>\n"
          ]
        }
      ],
      "metadata": {
        "id": "BEyITh4_BwQh"
      }
    },
    {
      "cell_type": "code",
      "execution_count": 8,
      "source": [
        "print(re.search('.', ' '))"
      ],
      "outputs": [
        {
          "output_type": "stream",
          "name": "stdout",
          "text": [
            "<re.Match object; span=(0, 1), match=' '>\n"
          ]
        }
      ],
      "metadata": {
        "id": "V97VDtFWB0SX"
      }
    },
    {
      "cell_type": "code",
      "execution_count": 9,
      "source": [
        "## ^ Comienzo de la cadena\r\n",
        "[palabra for palabra in palabras if re.search('^d',palabra)]"
      ],
      "outputs": [
        {
          "output_type": "execute_result",
          "data": {
            "text/plain": [
              "['del', 'de', 'de', 'del', 'don', 'de']"
            ]
          },
          "metadata": {},
          "execution_count": 9
        }
      ],
      "metadata": {
        "id": "GeBzfJOh6jOA"
      }
    },
    {
      "cell_type": "code",
      "execution_count": 10,
      "source": [
        "## $ Final de la cadena\r\n",
        "[palabra for palabra in palabras if re.search('o$',palabra)]"
      ],
      "outputs": [
        {
          "output_type": "execute_result",
          "data": {
            "text/plain": [
              "['Ingenioso', 'hidalgo', 'mancha.\\nCapitulo', 'ejercicio', 'famoso', 'hidalgo']"
            ]
          },
          "metadata": {},
          "execution_count": 10
        }
      ],
      "metadata": {
        "id": "gQmV8NDW7Hxl"
      }
    },
    {
      "cell_type": "code",
      "execution_count": 11,
      "source": [
        "## A-Z Mayúsculas\r\n",
        "[palabra for palabra in palabras if re.search('[A-Z]',palabra)]"
      ],
      "outputs": [
        {
          "output_type": "execute_result",
          "data": {
            "text/plain": [
              "['Primera',\n",
              " 'Ingenioso',\n",
              " 'Don',\n",
              " 'Quijote',\n",
              " 'mancha.\\nCapitulo',\n",
              " 'Primero.',\n",
              " 'Que',\n",
              " 'Quijote',\n",
              " 'Mancha.']"
            ]
          },
          "metadata": {},
          "execution_count": 11
        }
      ],
      "metadata": {
        "id": "Kg-daOkj7NIq"
      }
    },
    {
      "cell_type": "code",
      "execution_count": 25,
      "source": [
        "## RETO (fácil): ¿Cómo nos aseguramos que solo seleccionamos las palabras que empiezan por mayúscula?\r\n",
        "[palabra for palabra in palabras if re.search('^[A-Z]',palabra)]"
      ],
      "outputs": [
        {
          "output_type": "execute_result",
          "data": {
            "text/plain": [
              "['Primera',\n",
              " 'Ingenioso',\n",
              " 'Don',\n",
              " 'Quijote',\n",
              " 'Primero.',\n",
              " 'Que',\n",
              " 'Quijote',\n",
              " 'Mancha.']"
            ]
          },
          "metadata": {},
          "execution_count": 25
        }
      ],
      "metadata": {
        "id": "lzES_SlGyqwg"
      }
    },
    {
      "cell_type": "code",
      "execution_count": 13,
      "source": [
        "## a-z Minúsculas\r\n",
        "[palabra for palabra in palabras if re.search('^[a-z]',palabra)]"
      ],
      "outputs": [
        {
          "output_type": "execute_result",
          "data": {
            "text/plain": [
              "['parte',\n",
              " 'del',\n",
              " 'hidalgo',\n",
              " 'de',\n",
              " 'la',\n",
              " 'mancha.\\nCapitulo',\n",
              " 'trata',\n",
              " 'de',\n",
              " 'la',\n",
              " 'condicion',\n",
              " 'y',\n",
              " 'ejercicio',\n",
              " 'del',\n",
              " 'famoso',\n",
              " 'hidalgo',\n",
              " 'don',\n",
              " 'de',\n",
              " 'la']"
            ]
          },
          "metadata": {},
          "execution_count": 13
        }
      ],
      "metadata": {
        "id": "w64Xff7d7p01"
      }
    },
    {
      "cell_type": "code",
      "execution_count": 14,
      "source": [
        "## \\W Todo menos valores alfanuméricos\r\n",
        "[palabra for palabra in palabras if re.search('\\W',palabra)]"
      ],
      "outputs": [
        {
          "output_type": "execute_result",
          "data": {
            "text/plain": [
              "['mancha.\\nCapitulo', 'Primero.', 'Mancha.']"
            ]
          },
          "metadata": {},
          "execution_count": 14
        }
      ],
      "metadata": {
        "id": "CPC2NJJg73Ip"
      }
    },
    {
      "cell_type": "code",
      "execution_count": 15,
      "source": [
        "## \\s Espacios (de cualquier tipo)\r\n",
        "[palabra for palabra in palabras if re.search('\\s',palabra)]"
      ],
      "outputs": [
        {
          "output_type": "execute_result",
          "data": {
            "text/plain": [
              "['mancha.\\nCapitulo']"
            ]
          },
          "metadata": {},
          "execution_count": 15
        }
      ],
      "metadata": {
        "id": "n5V9ItI-8N7F"
      }
    },
    {
      "cell_type": "code",
      "execution_count": 16,
      "source": [
        "## | o\r\n",
        "[palabra for palabra in palabras if re.search('g|y',palabra)]"
      ],
      "outputs": [
        {
          "output_type": "execute_result",
          "data": {
            "text/plain": [
              "['Ingenioso', 'hidalgo', 'y', 'hidalgo']"
            ]
          },
          "metadata": {},
          "execution_count": 16
        }
      ],
      "metadata": {
        "id": "9UTkoWb99pBl"
      }
    },
    {
      "cell_type": "code",
      "execution_count": 28,
      "source": [
        "## RETO: Quiero que diseñemos una regex que seleccione las palabras \r\n",
        "#que contienen una g o una y pero que estas letras aparezcan en la penúltima o en la última posición.\r\n",
        "\r\n",
        "[palabra for palabra in palabras if re.search('[g|y].?$',palabra)]"
      ],
      "outputs": [
        {
          "output_type": "execute_result",
          "data": {
            "text/plain": [
              "['hidalgo', 'y', 'hidalgo']"
            ]
          },
          "metadata": {},
          "execution_count": 28
        }
      ],
      "metadata": {
        "id": "92fBtILvzQ3v"
      }
    },
    {
      "cell_type": "markdown",
      "source": [
        "¿Qué hacen las siguientes expresiones?"
      ],
      "metadata": {
        "id": "dpMTfMONwvrw"
      }
    },
    {
      "cell_type": "code",
      "execution_count": 18,
      "source": [
        "[palabra for palabra in palabras if re.search('(d+).*(l+)',palabra)]"
      ],
      "outputs": [
        {
          "output_type": "execute_result",
          "data": {
            "text/plain": [
              "['del', 'hidalgo', 'del', 'hidalgo']"
            ]
          },
          "metadata": {},
          "execution_count": 18
        }
      ],
      "metadata": {
        "id": "q6tCpuzj9zDv"
      }
    },
    {
      "cell_type": "code",
      "execution_count": 19,
      "source": [
        "[palabra for palabra in palabras if re.search('^(d+).+(l+)',palabra)]"
      ],
      "outputs": [
        {
          "output_type": "execute_result",
          "data": {
            "text/plain": [
              "['del', 'del']"
            ]
          },
          "metadata": {},
          "execution_count": 19
        }
      ],
      "metadata": {
        "id": "0datmIlF-eRy"
      }
    },
    {
      "cell_type": "markdown",
      "source": [
        "¿Y la siguiente?"
      ],
      "metadata": {
        "id": "aRIfbpddw7t6"
      }
    },
    {
      "cell_type": "code",
      "execution_count": 20,
      "source": [
        "## ^ no\r\n",
        "[palabra for palabra in palabras if re.search('^[^aeiouAEIOU]',palabra)]"
      ],
      "outputs": [
        {
          "output_type": "execute_result",
          "data": {
            "text/plain": [
              "['Primera',\n",
              " 'parte',\n",
              " 'del',\n",
              " 'hidalgo',\n",
              " 'Don',\n",
              " 'Quijote',\n",
              " 'de',\n",
              " 'la',\n",
              " 'mancha.\\nCapitulo',\n",
              " 'Primero.',\n",
              " 'Que',\n",
              " 'trata',\n",
              " 'de',\n",
              " 'la',\n",
              " 'condicion',\n",
              " 'y',\n",
              " 'del',\n",
              " 'famoso',\n",
              " 'hidalgo',\n",
              " 'don',\n",
              " 'Quijote',\n",
              " 'de',\n",
              " 'la',\n",
              " 'Mancha.']"
            ]
          },
          "metadata": {},
          "execution_count": 20
        }
      ],
      "metadata": {
        "id": "g6UWr5iZ8c82"
      }
    },
    {
      "cell_type": "code",
      "execution_count": 21,
      "source": [
        "## ? 0 o 1 veces\r\n",
        "[palabra for palabra in palabras if re.search('^[a-z]?$',palabra)]"
      ],
      "outputs": [
        {
          "output_type": "execute_result",
          "data": {
            "text/plain": [
              "['', 'y']"
            ]
          },
          "metadata": {},
          "execution_count": 21
        }
      ],
      "metadata": {
        "id": "eNaXyq9583hp"
      }
    },
    {
      "cell_type": "code",
      "execution_count": 22,
      "source": [
        "## RETO: ¿Cómo buscamos términos de longitud como mucho 3?"
      ],
      "outputs": [],
      "metadata": {
        "id": "Lpu30QAB9T2N"
      }
    },
    {
      "cell_type": "code",
      "execution_count": 23,
      "source": [
        "## RETO: ¿Y si queremos asegurarnos que sean palabras (o letras) de como mucho longitud 3?"
      ],
      "outputs": [],
      "metadata": {
        "id": "AGDOTl141Bok"
      }
    },
    {
      "cell_type": "code",
      "execution_count": 24,
      "source": [
        "## RETO: ¿Cómo nos quedanos con aquellas que sólo contengan minúsculas?"
      ],
      "outputs": [],
      "metadata": {
        "id": "kDxl4rW_0Zxc"
      }
    },
    {
      "cell_type": "code",
      "execution_count": null,
      "source": [],
      "outputs": [],
      "metadata": {
        "id": "nejSF5RW-Gpa"
      }
    }
  ]
}