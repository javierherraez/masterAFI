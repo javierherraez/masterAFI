{
  "nbformat": 4,
  "nbformat_minor": 2,
  "metadata": {
    "colab": {
      "name": "6 Clasificacion Textos.ipynb",
      "provenance": [],
      "collapsed_sections": [],
      "machine_shape": "hm"
    },
    "kernelspec": {
      "name": "python3",
      "display_name": "Python 3.8.8 64-bit ('base': conda)"
    },
    "language_info": {
      "name": "python",
      "version": "3.8.8",
      "mimetype": "text/x-python",
      "codemirror_mode": {
        "name": "ipython",
        "version": 3
      },
      "pygments_lexer": "ipython3",
      "nbconvert_exporter": "python",
      "file_extension": ".py"
    },
    "interpreter": {
      "hash": "97ae724bfa85b9b34df7982b8bb8c7216f435b92902d749e4263f71162bea840"
    }
  },
  "cells": [
    {
      "cell_type": "markdown",
      "source": [
        "Text Mining - 6. Clasificacion textos\n",
        "\n",
        "AFI - Máster en Data Science y Big Data\n",
        "\n",
        "Juan de Dios Romero Palop\n",
        "\n",
        "Abril 2022\n",
        "\n",
        "Source: Andrew Task, Udacity\n"
      ],
      "metadata": {
        "id": "svuzsW-c_Va0"
      }
    },
    {
      "cell_type": "markdown",
      "source": [
        "### 1. Carga de datos"
      ],
      "metadata": {
        "id": "d5Y0tolWGdIo"
      }
    },
    {
      "cell_type": "code",
      "execution_count": 1,
      "source": [
        "## Críticas de películas\r\n",
        "g = open('./reviews.txt','r') \r\n",
        "reviews = g.read().splitlines()\r\n",
        "g.close()\r\n",
        "\r\n",
        "## Sentimiento asociado\r\n",
        "g = open('./labels.txt','r') # What we WANT to know!\r\n",
        "labels = g.read().upper().splitlines()\r\n",
        "g.close()"
      ],
      "outputs": [],
      "metadata": {
        "id": "eqOmYFCU_caw"
      }
    },
    {
      "cell_type": "code",
      "execution_count": 2,
      "source": [
        "len(reviews)"
      ],
      "outputs": [
        {
          "output_type": "execute_result",
          "data": {
            "text/plain": [
              "25000"
            ]
          },
          "metadata": {},
          "execution_count": 2
        }
      ],
      "metadata": {
        "id": "sCNRyZge_q-S"
      }
    },
    {
      "cell_type": "code",
      "execution_count": 3,
      "source": [
        "reviews[1]"
      ],
      "outputs": [
        {
          "output_type": "execute_result",
          "data": {
            "text/plain": [
              "'story of a man who has unnatural feelings for a pig . starts out with a opening scene that is a terrific example of absurd comedy . a formal orchestra audience is turned into an insane  violent mob by the crazy chantings of it  s singers . unfortunately it stays absurd the whole time with no general narrative eventually making it just too off putting . even those from the era should be turned off . the cryptic dialogue would make shakespeare seem easy to a third grader . on a technical level it  s better than you might think with some good cinematography by future great vilmos zsigmond . future stars sally kirkland and frederic forrest can be seen briefly .  '"
            ]
          },
          "metadata": {},
          "execution_count": 3
        }
      ],
      "metadata": {
        "id": "m4-aZ98KApvE"
      }
    },
    {
      "cell_type": "code",
      "execution_count": 4,
      "source": [
        "len(labels)"
      ],
      "outputs": [
        {
          "output_type": "execute_result",
          "data": {
            "text/plain": [
              "25000"
            ]
          },
          "metadata": {},
          "execution_count": 4
        }
      ],
      "metadata": {
        "id": "_Sp0eh4FAgAm"
      }
    },
    {
      "cell_type": "code",
      "execution_count": 5,
      "source": [
        "labels[1]"
      ],
      "outputs": [
        {
          "output_type": "execute_result",
          "data": {
            "text/plain": [
              "'NEGATIVE'"
            ]
          },
          "metadata": {},
          "execution_count": 5
        }
      ],
      "metadata": {
        "id": "xsYwZbY8Alu3"
      }
    },
    {
      "cell_type": "code",
      "execution_count": 6,
      "source": [
        "def pretty_print_review_and_label(i):\r\n",
        "    print(labels[i] + \"\\t:\\t\" + reviews[i][:80] + \"...\")"
      ],
      "outputs": [],
      "metadata": {
        "id": "7NnpYsu8b9-9"
      }
    },
    {
      "cell_type": "code",
      "execution_count": 7,
      "source": [
        "print(\"labels.txt \\t : \\t reviews.txt\\n\")\r\n",
        "pretty_print_review_and_label(2137)\r\n",
        "pretty_print_review_and_label(12816)\r\n",
        "pretty_print_review_and_label(6267)\r\n",
        "pretty_print_review_and_label(21934)\r\n",
        "pretty_print_review_and_label(5297)\r\n",
        "pretty_print_review_and_label(4998)"
      ],
      "outputs": [
        {
          "output_type": "stream",
          "name": "stdout",
          "text": [
            "labels.txt \t : \t reviews.txt\n",
            "\n",
            "NEGATIVE\t:\tthis movie is terrible but it has some good effects .  ...\n",
            "POSITIVE\t:\tadrian pasdar is excellent is this film . he makes a fascinating woman .  ...\n",
            "NEGATIVE\t:\tcomment this movie is impossible . is terrible  very improbable  bad interpretat...\n",
            "POSITIVE\t:\texcellent episode movie ala pulp fiction .  days   suicides . it doesnt get more...\n",
            "NEGATIVE\t:\tif you haven  t seen this  it  s terrible . it is pure trash . i saw this about ...\n",
            "POSITIVE\t:\tthis schiffer guy is a real genius  the movie is of excellent quality and both e...\n"
          ]
        }
      ],
      "metadata": {
        "nbpresent": {
          "id": "e67a709f-234f-4493-bae6-4fb192141ee0"
        },
        "id": "2uZIkLHR-658"
      }
    },
    {
      "cell_type": "markdown",
      "source": [
        "### 2. Análisis cuantitativo términos: ¿Qué términos aparecen en los comentarios positivos, cuales en los negativos y cuales aparecen en ambos?"
      ],
      "metadata": {
        "id": "sLGTusxtGV87"
      }
    },
    {
      "cell_type": "code",
      "execution_count": 8,
      "source": [
        "from collections import Counter\r\n",
        "import numpy as np"
      ],
      "outputs": [],
      "metadata": {
        "id": "nlqB8_qn-66C"
      }
    },
    {
      "cell_type": "markdown",
      "source": [
        "Vamos a utilizar la estructura Counter de python para ver cuantas veces aparece cada palabra en las críticas. Debajo tienes un ejemplo de como utilizar un contador."
      ],
      "metadata": {
        "id": "M91OwP4ecNyN"
      }
    },
    {
      "cell_type": "markdown",
      "source": [
        "https://docs.python.org/2/library/collections.html#collections.Counter"
      ],
      "metadata": {
        "id": "dbZsxhiYcvuc"
      }
    },
    {
      "cell_type": "code",
      "execution_count": 48,
      "source": [
        "ex_count = Counter()\r\n",
        "ex_count['palabra1'] = 3\r\n",
        "ex_count['palabra2'] = 5\r\n",
        "ex_count.most_common()"
      ],
      "outputs": [
        {
          "output_type": "execute_result",
          "data": {
            "text/plain": [
              "[('palabra2', 5), ('palabra1', 3)]"
            ]
          },
          "metadata": {},
          "execution_count": 48
        }
      ],
      "metadata": {
        "id": "C5zuEETgcXD2"
      }
    },
    {
      "cell_type": "code",
      "execution_count": 49,
      "source": [
        "# Un contandor para cada tipo de review y uno total\r\n",
        "positive_counts = Counter()\r\n",
        "negative_counts = Counter()\r\n",
        "total_counts = Counter()"
      ],
      "outputs": [],
      "metadata": {
        "id": "ZrNcZkIpGmT1"
      }
    },
    {
      "cell_type": "code",
      "execution_count": 50,
      "source": [
        "# Crea un bucle que, para cada crítica, recorra sus palabras una a una e incremente en 1 el número de aparaciones.\r\n",
        "# Aumenta el contador siempre en total_counts y en positive_counts O en negative_counts dependiendo de si es una crítica\r\n",
        "# positiva o negativa\r\n",
        "for i in range(len(reviews)):\r\n",
        "  for word in reviews[i].split(' '):   \r\n",
        "    if labels[i] == 'NEGATIVE':\r\n",
        "      negative_counts[word] += 1\r\n",
        "    else: \r\n",
        "      positive_counts[word] += 1\r\n",
        "    total_counts[word] += 1\r\n"
      ],
      "outputs": [],
      "metadata": {
        "id": "BbU5hbuzHRQ9"
      }
    },
    {
      "cell_type": "code",
      "execution_count": 51,
      "source": [
        "positive_counts.most_common(10)"
      ],
      "outputs": [
        {
          "output_type": "execute_result",
          "data": {
            "text/plain": [
              "[('', 550468),\n",
              " ('the', 173324),\n",
              " ('.', 159654),\n",
              " ('and', 89722),\n",
              " ('a', 83688),\n",
              " ('of', 76855),\n",
              " ('to', 66746),\n",
              " ('is', 57245),\n",
              " ('in', 50215),\n",
              " ('br', 49235)]"
            ]
          },
          "metadata": {},
          "execution_count": 51
        }
      ],
      "metadata": {
        "id": "IX6QYAZAHWKA"
      }
    },
    {
      "cell_type": "code",
      "execution_count": 52,
      "source": [
        "negative_counts.most_common(10)"
      ],
      "outputs": [
        {
          "output_type": "execute_result",
          "data": {
            "text/plain": [
              "[('', 561462),\n",
              " ('.', 167538),\n",
              " ('the', 163389),\n",
              " ('a', 79321),\n",
              " ('and', 74385),\n",
              " ('of', 69009),\n",
              " ('to', 68974),\n",
              " ('br', 52637),\n",
              " ('is', 50083),\n",
              " ('it', 48327)]"
            ]
          },
          "metadata": {},
          "execution_count": 52
        }
      ],
      "metadata": {
        "id": "d9jcE5CGbZab"
      }
    },
    {
      "cell_type": "code",
      "execution_count": 53,
      "source": [
        "total_counts.most_common(10)"
      ],
      "outputs": [
        {
          "output_type": "execute_result",
          "data": {
            "text/plain": [
              "[('', 1111930),\n",
              " ('the', 336713),\n",
              " ('.', 327192),\n",
              " ('and', 164107),\n",
              " ('a', 163009),\n",
              " ('of', 145864),\n",
              " ('to', 135720),\n",
              " ('is', 107328),\n",
              " ('br', 101872),\n",
              " ('it', 96352)]"
            ]
          },
          "metadata": {},
          "execution_count": 53
        }
      ],
      "metadata": {
        "id": "56UEs2mpbZlA"
      }
    },
    {
      "cell_type": "markdown",
      "source": [
        "El resultado del conteo muestra que las stopwords están presentes tanto en críticas positivas como en críticas negativas y pueden añadir ruido a la hora crear un modelo de clasificación. ¿Cómo podemos sacar aquellas palabras que son un indicador claro de que se trata de una crítica positiva o negativa? "
      ],
      "metadata": {
        "id": "oeZvc1p6dj84"
      }
    },
    {
      "cell_type": "markdown",
      "source": [
        "### 3. Análisis cuantitativo términos: Ratios"
      ],
      "metadata": {
        "id": "viJr7UXGeVbu"
      }
    },
    {
      "cell_type": "markdown",
      "source": [
        "Vamos a calcular los ratios de aparición de los términos de la siguiente manera: ratio = positive_counts/float(negative_counts + 1).\n",
        "\n",
        "**Nota**: vamos a trabajar unicamente con aquellos términos que **en total** aparecen 101 o más veces."
      ],
      "metadata": {
        "id": "YmhHY4jvek4X"
      }
    },
    {
      "cell_type": "markdown",
      "source": [
        "*   ¿Por qué ese +1 en el denominador?\n",
        "*   A bote pronto, ¿cómo interpretaríamos los resultados? ¿En qué rango se van a mover los ratios?\n",
        "\n"
      ],
      "metadata": {
        "id": "GDOywUqOfDli"
      }
    },
    {
      "cell_type": "code",
      "execution_count": 58,
      "source": [
        "pos_neg_ratios = Counter()\r\n",
        "\r\n",
        "# Calcula el ratio para los término más comunes\r\n",
        "for term,cnt in list(total_counts.most_common()):\r\n",
        "  ### Inserta tu codigo aqui\r\n",
        "  if cnt > 100:\r\n",
        "    pos_neg_ratios[term] = positive_counts[term]/float(negative_counts[term] + 1)\r\n",
        "  else:\r\n",
        "    break"
      ],
      "outputs": [],
      "metadata": {
        "id": "ktFv5uKydaCP"
      }
    },
    {
      "cell_type": "code",
      "execution_count": 55,
      "source": [
        "pos_neg_ratios.most_common(15)"
      ],
      "outputs": [
        {
          "output_type": "execute_result",
          "data": {
            "text/plain": [
              "[('edie', 109.0),\n",
              " ('paulie', 59.0),\n",
              " ('felix', 23.4),\n",
              " ('polanski', 16.833333333333332),\n",
              " ('matthau', 16.555555555555557),\n",
              " ('victoria', 14.6),\n",
              " ('mildred', 13.5),\n",
              " ('gandhi', 12.666666666666666),\n",
              " ('flawless', 11.6),\n",
              " ('superbly', 9.583333333333334),\n",
              " ('perfection', 8.666666666666666),\n",
              " ('astaire', 8.5),\n",
              " ('captures', 7.68),\n",
              " ('voight', 7.615384615384615),\n",
              " ('wonderfully', 7.552631578947368)]"
            ]
          },
          "metadata": {},
          "execution_count": 55
        }
      ],
      "metadata": {
        "id": "O2BnMZPsf3_7"
      }
    },
    {
      "cell_type": "code",
      "execution_count": 56,
      "source": [
        "## Algunos ejemplos que nos ayudan a interpretar los resultados\r\n",
        "print(\"Pos-to-neg ratio for 'the' = {}\".format(pos_neg_ratios[\"the\"]))\r\n",
        "print(\"Pos-to-neg ratio for 'amazing' = {}\".format(pos_neg_ratios[\"amazing\"]))\r\n",
        "print(\"Pos-to-neg ratio for 'terrible' = {}\".format(pos_neg_ratios[\"terrible\"]))"
      ],
      "outputs": [
        {
          "output_type": "stream",
          "name": "stdout",
          "text": [
            "Pos-to-neg ratio for 'the' = 1.0607993145235326\n",
            "Pos-to-neg ratio for 'amazing' = 4.022813688212928\n",
            "Pos-to-neg ratio for 'terrible' = 0.17744252873563218\n"
          ]
        }
      ],
      "metadata": {
        "id": "HVQ2eL6j-66Z"
      }
    },
    {
      "cell_type": "markdown",
      "source": [
        "¿Qué problema tiene esta definición de ratio? ¿Cómo lo solucionamos?"
      ],
      "metadata": {
        "id": "oaRceyK0gTdi"
      }
    },
    {
      "cell_type": "markdown",
      "source": [
        "### 4. Análisis cuantitativo términos: Logaritmos"
      ],
      "metadata": {
        "id": "1CquUDSegmpV"
      }
    },
    {
      "cell_type": "markdown",
      "source": [
        "Al aplicar logaritmos a los valores calculados en el apartado anterior hacemos que los valores por debajo de 1 pasen a ser negativos (y con valor absoluto más alto cuanto más cercanos a 0 sean) y además conseguimos que dos términos con frecuencias relativas parecidas pero en críticas de signo distinto tomen valores con valor absoluto parecido y signo contrario."
      ],
      "metadata": {
        "id": "nEFWetNNg2pR"
      }
    },
    {
      "cell_type": "code",
      "execution_count": 59,
      "source": [
        "# Calcula el logaritmo de los ratios para todos los términos\r\n",
        "## Inserta tu código aqui\r\n",
        "for term, cnt in list(pos_neg_ratios.most_common()):\r\n",
        "    pos_neg_ratios[term] = np.log(cnt) "
      ],
      "outputs": [],
      "metadata": {
        "id": "w6SwM1-5-66d"
      }
    },
    {
      "cell_type": "code",
      "execution_count": 60,
      "source": [
        "pos_neg_ratios.most_common(15)"
      ],
      "outputs": [
        {
          "output_type": "execute_result",
          "data": {
            "text/plain": [
              "[('edie', 4.6913478822291435),\n",
              " ('paulie', 4.07753744390572),\n",
              " ('felix', 3.152736022363656),\n",
              " ('polanski', 2.8233610476132043),\n",
              " ('matthau', 2.80672172860924),\n",
              " ('victoria', 2.681021528714291),\n",
              " ('mildred', 2.6026896854443837),\n",
              " ('gandhi', 2.538973871058276),\n",
              " ('flawless', 2.451005098112319),\n",
              " ('superbly', 2.26002547857525),\n",
              " ('perfection', 2.159484249353372),\n",
              " ('astaire', 2.1400661634962708),\n",
              " ('captures', 2.038619547159581),\n",
              " ('voight', 2.030170492673053),\n",
              " ('wonderfully', 2.0218960560332353)]"
            ]
          },
          "metadata": {},
          "execution_count": 60
        }
      ],
      "metadata": {
        "id": "nelsu3orhrz_"
      }
    },
    {
      "cell_type": "code",
      "execution_count": 61,
      "source": [
        "## Algunos ejemplos que nos ayudan a interpretar los resultados\r\n",
        "print(\"Pos-to-neg ratio for 'the' = {}\".format(pos_neg_ratios[\"the\"]))\r\n",
        "print(\"Pos-to-neg ratio for 'amazing' = {}\".format(pos_neg_ratios[\"amazing\"]))\r\n",
        "print(\"Pos-to-neg ratio for 'terrible' = {}\".format(pos_neg_ratios[\"terrible\"]))"
      ],
      "outputs": [
        {
          "output_type": "stream",
          "name": "stdout",
          "text": [
            "Pos-to-neg ratio for 'the' = 0.05902269426102881\n",
            "Pos-to-neg ratio for 'amazing' = 1.3919815802404802\n",
            "Pos-to-neg ratio for 'terrible' = -1.7291085042663878\n"
          ]
        }
      ],
      "metadata": {
        "id": "ac4dUOgEhnML"
      }
    },
    {
      "cell_type": "code",
      "execution_count": 62,
      "source": [
        "pos_neg_ratios.most_common()[:-31:-1]"
      ],
      "outputs": [
        {
          "output_type": "execute_result",
          "data": {
            "text/plain": [
              "[('boll', -4.969813299576001),\n",
              " ('uwe', -4.624972813284271),\n",
              " ('seagal', -3.644143560272545),\n",
              " ('unwatchable', -3.258096538021482),\n",
              " ('stinker', -3.2088254890146994),\n",
              " ('mst', -2.9502698994772336),\n",
              " ('incoherent', -2.9368917735310576),\n",
              " ('unfunny', -2.6922395950755678),\n",
              " ('waste', -2.6193845640165536),\n",
              " ('blah', -2.5704288232261625),\n",
              " ('horrid', -2.4849066497880004),\n",
              " ('pointless', -2.4553061800117097),\n",
              " ('atrocious', -2.4259083090260445),\n",
              " ('redeeming', -2.3682390632154826),\n",
              " ('prom', -2.3608540011180215),\n",
              " ('drivel', -2.3470368555648795),\n",
              " ('lousy', -2.307572634505085),\n",
              " ('worst', -2.286987896180378),\n",
              " ('laughable', -2.264363880173848),\n",
              " ('awful', -2.227194247027435),\n",
              " ('poorly', -2.2207550747464135),\n",
              " ('wasting', -2.204604684633842),\n",
              " ('remotely', -2.1972245773362196),\n",
              " ('existent', -2.0794415416798357),\n",
              " ('boredom', -1.995100393246085),\n",
              " ('miserably', -1.9924301646902063),\n",
              " ('sucks', -1.987068221548821),\n",
              " ('uninspired', -1.9832976811269336),\n",
              " ('lame', -1.981767458946166),\n",
              " ('insult', -1.978345424808467)]"
            ]
          },
          "metadata": {},
          "execution_count": 62
        }
      ],
      "metadata": {
        "id": "BuwnIl_Wh8e5"
      }
    },
    {
      "cell_type": "markdown",
      "source": [
        "### 5. Modelo de clasificación basado en bag of words"
      ],
      "metadata": {
        "id": "4hdAIKBvJEKa"
      }
    },
    {
      "cell_type": "markdown",
      "source": [
        "Vamos a aplicar la técnica de bag of words paso a paso a cada una de las críticas con el objetivo de convertirlas en vectores numéricos que sirvan de features de nuestro modelo.\r\n",
        "\r\n",
        "#### Primer paso: construir el conjunto de palabras de nuestro vocabulario."
      ],
      "metadata": {
        "id": "hD8mLKkKJOaL"
      }
    },
    {
      "cell_type": "code",
      "execution_count": 65,
      "source": [
        "vocab = set(total_counts.keys())"
      ],
      "outputs": [],
      "metadata": {
        "id": "XbWDpvonhp7n"
      }
    },
    {
      "cell_type": "code",
      "execution_count": 66,
      "source": [
        "vocab_size = len(vocab)\r\n",
        "vocab_size"
      ],
      "outputs": [
        {
          "output_type": "execute_result",
          "data": {
            "text/plain": [
              "74074"
            ]
          },
          "metadata": {},
          "execution_count": 66
        }
      ],
      "metadata": {
        "id": "ASu4GwbSJt_u"
      }
    },
    {
      "cell_type": "markdown",
      "source": [
        "#### Segundo paso: construímos un vector del tamaño de nuestro vocabulario. Para ganar tiempo lo creamos como un vector entero de 0s usando la función de numpy zeros()"
      ],
      "metadata": {
        "id": "OeneoUAXKRe5"
      }
    },
    {
      "cell_type": "code",
      "execution_count": 67,
      "source": [
        "import numpy as np\r\n",
        "zeros = np.zeros(vocab_size)"
      ],
      "outputs": [],
      "metadata": {
        "id": "re4cRsBcJy9L"
      }
    },
    {
      "cell_type": "code",
      "execution_count": 68,
      "source": [
        "zeros"
      ],
      "outputs": [
        {
          "output_type": "execute_result",
          "data": {
            "text/plain": [
              "array([0., 0., 0., ..., 0., 0., 0.])"
            ]
          },
          "metadata": {},
          "execution_count": 68
        }
      ],
      "metadata": {
        "id": "FwlXPMQUKMSp"
      }
    },
    {
      "cell_type": "markdown",
      "source": [
        "#### Tercer paso: asignar a cada palabra un índice del vector y crear una tabla maestra que guarde esta relación y nos permita crear fácilmente nuestros vectores."
      ],
      "metadata": {
        "id": "S-wjmc3TKl7n"
      }
    },
    {
      "cell_type": "code",
      "execution_count": 69,
      "source": [
        "# Creamos un diccionario que tiene como key la palabra y como valor el índice asociado\r\n",
        "word2index = {}\r\n",
        "for i,word in enumerate(vocab):\r\n",
        "    word2index[word] = i\r\n",
        "    \r\n",
        "word2index"
      ],
      "outputs": [
        {
          "output_type": "execute_result",
          "data": {
            "text/plain": [
              "{'': 0,\n",
              " 'cybersix': 1,\n",
              " 'parfrey': 2,\n",
              " 'lowbudget': 3,\n",
              " 'inferior': 4,\n",
              " 'beefs': 5,\n",
              " 'boundries': 6,\n",
              " 'begotten': 7,\n",
              " 'tichon': 8,\n",
              " 'truffles': 9,\n",
              " 'disapointed': 10,\n",
              " 'gambling': 11,\n",
              " 'soap': 12,\n",
              " 'schmid': 13,\n",
              " 'centric': 14,\n",
              " 'madhumati': 15,\n",
              " 'naffly': 16,\n",
              " 'shoudln': 17,\n",
              " 'dewanna': 18,\n",
              " 'cashiered': 19,\n",
              " 'meredith': 20,\n",
              " 'gantry': 21,\n",
              " 'zords': 22,\n",
              " 'kindled': 23,\n",
              " 'today': 24,\n",
              " 'quiroz': 25,\n",
              " 'sleeve': 26,\n",
              " 'substanceless': 27,\n",
              " 'donitz': 28,\n",
              " 'glitterati': 29,\n",
              " 'grindley': 30,\n",
              " 'outsmart': 31,\n",
              " 'visionary': 32,\n",
              " 'roulette': 33,\n",
              " 'similes': 34,\n",
              " 'huntz': 35,\n",
              " 'dipper': 36,\n",
              " 'parasomnia': 37,\n",
              " 'emerging': 38,\n",
              " 'amplifying': 39,\n",
              " 'grunting': 40,\n",
              " 'tankentai': 41,\n",
              " 'sniping': 42,\n",
              " 'mroavich': 43,\n",
              " 'emissaries': 44,\n",
              " 'duos': 45,\n",
              " 'chatterjee': 46,\n",
              " 'scotched': 47,\n",
              " 'spearheads': 48,\n",
              " 'kindlings': 49,\n",
              " 'hollywoodand': 50,\n",
              " 'braking': 51,\n",
              " 'mahogany': 52,\n",
              " 'lasars': 53,\n",
              " 'puttingly': 54,\n",
              " 'visibly': 55,\n",
              " 'daniella': 56,\n",
              " 'goodgfellas': 57,\n",
              " 'frasncisco': 58,\n",
              " 'squealing': 59,\n",
              " 'positivity': 60,\n",
              " 'assets': 61,\n",
              " 'masatoshi': 62,\n",
              " 'finalization': 63,\n",
              " 'risqu': 64,\n",
              " 'elkaim': 65,\n",
              " 'nightclub': 66,\n",
              " 'reviles': 67,\n",
              " 'dingbat': 68,\n",
              " 'repudiation': 69,\n",
              " 'mapes': 70,\n",
              " 'musketeer': 71,\n",
              " 'protesting': 72,\n",
              " 'demi': 73,\n",
              " 'velociraptors': 74,\n",
              " 'kirst': 75,\n",
              " 'fudoh': 76,\n",
              " 'clickety': 77,\n",
              " 'neighing': 78,\n",
              " 'hyperactive': 79,\n",
              " 'aimless': 80,\n",
              " 'artifact': 81,\n",
              " 'candians': 82,\n",
              " 'daniele': 83,\n",
              " 'congas': 84,\n",
              " 'capitalizing': 85,\n",
              " 'fewest': 86,\n",
              " 'animatronix': 87,\n",
              " 'leeson': 88,\n",
              " 'assumed': 89,\n",
              " 'bonaparte': 90,\n",
              " 'left': 91,\n",
              " 'knows': 92,\n",
              " 'movieee': 93,\n",
              " 'syrup': 94,\n",
              " 'foresay': 95,\n",
              " 'cliver': 96,\n",
              " 'manifests': 97,\n",
              " 'bonanzas': 98,\n",
              " 'ritualized': 99,\n",
              " 'consecutive': 100,\n",
              " 'pornographically': 101,\n",
              " 'clevemore': 102,\n",
              " 'boyer': 103,\n",
              " 'structuralists': 104,\n",
              " 'hellraiser': 105,\n",
              " 'sheilas': 106,\n",
              " 'damaged': 107,\n",
              " 'aflame': 108,\n",
              " 'commentating': 109,\n",
              " 'chelsea': 110,\n",
              " 'altro': 111,\n",
              " 'voiceless': 112,\n",
              " 'juggernaut': 113,\n",
              " 'cuoco': 114,\n",
              " 'accessibility': 115,\n",
              " 'einstain': 116,\n",
              " 'plastecine': 117,\n",
              " 'disabilities': 118,\n",
              " 'stereotyping': 119,\n",
              " 'impotency': 120,\n",
              " 'coursing': 121,\n",
              " 'janit': 122,\n",
              " 'marco': 123,\n",
              " 'suitcase': 124,\n",
              " 'decontamination': 125,\n",
              " 'bluth': 126,\n",
              " 'discriminates': 127,\n",
              " 'vulnerably': 128,\n",
              " 'jaekel': 129,\n",
              " 'clackity': 130,\n",
              " 'rapacious': 131,\n",
              " 'renditions': 132,\n",
              " 'lancing': 133,\n",
              " 'peer': 134,\n",
              " 'fido': 135,\n",
              " 'zion': 136,\n",
              " 'testi': 137,\n",
              " 'desperadoes': 138,\n",
              " 'abner': 139,\n",
              " 'hedlund': 140,\n",
              " 'premiere': 141,\n",
              " 'khmer': 142,\n",
              " 'unterwaldt': 143,\n",
              " 'conundrum': 144,\n",
              " 'nimble': 145,\n",
              " 'crazies': 146,\n",
              " 'featherbrained': 147,\n",
              " 'kipp': 148,\n",
              " 'technician': 149,\n",
              " 'tidal': 150,\n",
              " 'stylization': 151,\n",
              " 'misreads': 152,\n",
              " 'entitlement': 153,\n",
              " 'chu': 154,\n",
              " 'rishi': 155,\n",
              " 'goodrich': 156,\n",
              " 'kamikaze': 157,\n",
              " 'roughs': 158,\n",
              " 'thepace': 159,\n",
              " 'cf': 160,\n",
              " 'kirby': 161,\n",
              " 'miserably': 162,\n",
              " 'cronicles': 163,\n",
              " 'cassella': 164,\n",
              " 'scraping': 165,\n",
              " 'trainings': 166,\n",
              " 'mutiny': 167,\n",
              " 'trolley': 168,\n",
              " 'riga': 169,\n",
              " 'kisi': 170,\n",
              " 'roosa': 171,\n",
              " 'annihilates': 172,\n",
              " 'athlete': 173,\n",
              " 'boriqua': 174,\n",
              " 'grandparents': 175,\n",
              " 'braindead': 176,\n",
              " 'ca': 177,\n",
              " 'arturo': 178,\n",
              " 'penises': 179,\n",
              " 'alldredge': 180,\n",
              " 'neighbourliness': 181,\n",
              " 'shooting': 182,\n",
              " 'amalgamated': 183,\n",
              " 'reset': 184,\n",
              " 'procrastinator': 185,\n",
              " 'holiman': 186,\n",
              " 'discord': 187,\n",
              " 'differents': 188,\n",
              " 'pitty': 189,\n",
              " 'yauman': 190,\n",
              " 'parachute': 191,\n",
              " 'likeminded': 192,\n",
              " 'borges': 193,\n",
              " 'buaku': 194,\n",
              " 'raschid': 195,\n",
              " 'cheesed': 196,\n",
              " 'montereal': 197,\n",
              " 'experiments': 198,\n",
              " 'jeep': 199,\n",
              " 'sorter': 200,\n",
              " 'fermented': 201,\n",
              " 'detractions': 202,\n",
              " 'undertakings': 203,\n",
              " 'hammerstein': 204,\n",
              " 'cringes': 205,\n",
              " 'twinge': 206,\n",
              " 'zina': 207,\n",
              " 'interesting': 208,\n",
              " 'hannibal': 209,\n",
              " 'simply': 210,\n",
              " 'enfance': 211,\n",
              " 'unpredictability': 212,\n",
              " 'ognianova': 213,\n",
              " 'reservations': 214,\n",
              " 'arliss': 215,\n",
              " 'swirling': 216,\n",
              " 'legalizes': 217,\n",
              " 'supposer': 218,\n",
              " 'revelation': 219,\n",
              " 'gibberish': 220,\n",
              " 'deceivingly': 221,\n",
              " 'caf': 222,\n",
              " 'ekland': 223,\n",
              " 'scavengers': 224,\n",
              " 'creator': 225,\n",
              " 'kendo': 226,\n",
              " 'onslow': 227,\n",
              " 'honest': 228,\n",
              " 'philly': 229,\n",
              " 'filmmaker': 230,\n",
              " 'lay': 231,\n",
              " 'reckons': 232,\n",
              " 'swift': 233,\n",
              " 'founds': 234,\n",
              " 'immortalize': 235,\n",
              " 'mab': 236,\n",
              " 'caseload': 237,\n",
              " 'winterbolt': 238,\n",
              " 'kolbe': 239,\n",
              " 'concorde': 240,\n",
              " 'klembecker': 241,\n",
              " 'confusion': 242,\n",
              " 'expense': 243,\n",
              " 'find': 244,\n",
              " 'mysticism': 245,\n",
              " 'wounding': 246,\n",
              " 'pathology': 247,\n",
              " 'sensing': 248,\n",
              " 'rekindling': 249,\n",
              " 'chestruggling': 250,\n",
              " 'taguchi': 251,\n",
              " 'septuagenarian': 252,\n",
              " 'fascist': 253,\n",
              " 'seeped': 254,\n",
              " 'absurdly': 255,\n",
              " 'paradoxes': 256,\n",
              " 'rhyme': 257,\n",
              " 'credulity': 258,\n",
              " 'backsliding': 259,\n",
              " 'weathervane': 260,\n",
              " 'ezzat': 261,\n",
              " 'sugest': 262,\n",
              " 'inhabit': 263,\n",
              " 'gilbert': 264,\n",
              " 'yielded': 265,\n",
              " 'longueurs': 266,\n",
              " 'pimples': 267,\n",
              " 'parades': 268,\n",
              " 'tic': 269,\n",
              " 'scantly': 270,\n",
              " 'britishness': 271,\n",
              " 'pko': 272,\n",
              " 'lennox': 273,\n",
              " 'hordes': 274,\n",
              " 'songling': 275,\n",
              " 'cable': 276,\n",
              " 'bharai': 277,\n",
              " 'downloads': 278,\n",
              " 'nixon': 279,\n",
              " 'owl': 280,\n",
              " 'phlox': 281,\n",
              " 'redlight': 282,\n",
              " 'unalloyed': 283,\n",
              " 'paras': 284,\n",
              " 'tidende': 285,\n",
              " 'monet': 286,\n",
              " 'atomspheric': 287,\n",
              " 'bayless': 288,\n",
              " 'subcharacters': 289,\n",
              " 'buntch': 290,\n",
              " 'potentiality': 291,\n",
              " 'play': 292,\n",
              " 'foregoes': 293,\n",
              " 'comte': 294,\n",
              " 'brand': 295,\n",
              " 'simplistic': 296,\n",
              " 'coincident': 297,\n",
              " 'ritualistic': 298,\n",
              " 'strongbox': 299,\n",
              " 'dealers': 300,\n",
              " 'defeatism': 301,\n",
              " 'recurred': 302,\n",
              " 'meth': 303,\n",
              " 'yoshiyuki': 304,\n",
              " 'plateful': 305,\n",
              " 'uff': 306,\n",
              " 'cliches': 307,\n",
              " 'blondel': 308,\n",
              " 'compensatory': 309,\n",
              " 'dampening': 310,\n",
              " 'yaaawwnnn': 311,\n",
              " 'barricades': 312,\n",
              " 'demonstrator': 313,\n",
              " 'rasmusser': 314,\n",
              " 'rousseau': 315,\n",
              " 'iguanas': 316,\n",
              " 'piping': 317,\n",
              " 'writ': 318,\n",
              " 'org': 319,\n",
              " 'gaging': 320,\n",
              " 'bitches': 321,\n",
              " 'shirne': 322,\n",
              " 'guidance': 323,\n",
              " 'macgregor': 324,\n",
              " 'guillotines': 325,\n",
              " 'frenegonde': 326,\n",
              " 'halal': 327,\n",
              " 'misusing': 328,\n",
              " 'tyrranical': 329,\n",
              " 'hohl': 330,\n",
              " 'monogram': 331,\n",
              " 'chalonte': 332,\n",
              " 'libs': 333,\n",
              " 'epitomises': 334,\n",
              " 'maddeningly': 335,\n",
              " 'bedchamber': 336,\n",
              " 'atypical': 337,\n",
              " 'germs': 338,\n",
              " 'appropriately': 339,\n",
              " 'ineffective': 340,\n",
              " 'embryo': 341,\n",
              " 'garofolo': 342,\n",
              " 'moveable': 343,\n",
              " 'roxie': 344,\n",
              " 'saruman': 345,\n",
              " 'draperies': 346,\n",
              " 'patten': 347,\n",
              " 'wg': 348,\n",
              " 'firearm': 349,\n",
              " 'cohering': 350,\n",
              " 'no': 351,\n",
              " 'abilities': 352,\n",
              " 'adulating': 353,\n",
              " 'scrapping': 354,\n",
              " 'wastage': 355,\n",
              " 'catylast': 356,\n",
              " 'carelessly': 357,\n",
              " 'milquetoast': 358,\n",
              " 'moulded': 359,\n",
              " 'alternation': 360,\n",
              " 'malishu': 361,\n",
              " 'puffing': 362,\n",
              " 'ranging': 363,\n",
              " 'pregnantwhat': 364,\n",
              " 'frencified': 365,\n",
              " 'auzzie': 366,\n",
              " 'lindsey': 367,\n",
              " 'gooped': 368,\n",
              " 'droplet': 369,\n",
              " 'sideys': 370,\n",
              " 'politique': 371,\n",
              " 'higson': 372,\n",
              " 'beef': 373,\n",
              " 'ornery': 374,\n",
              " 'woodsy': 375,\n",
              " 'esther': 376,\n",
              " 'bathetic': 377,\n",
              " 'diversified': 378,\n",
              " 'kindness': 379,\n",
              " 'normalcy': 380,\n",
              " 'anorak': 381,\n",
              " 'favre': 382,\n",
              " 'xplosiv': 383,\n",
              " 'leeli': 384,\n",
              " 'arrrrgh': 385,\n",
              " 'planter': 386,\n",
              " 'pretensious': 387,\n",
              " 'fort': 388,\n",
              " 'litle': 389,\n",
              " 'machina': 390,\n",
              " 'psychically': 391,\n",
              " 'dickensian': 392,\n",
              " 'annick': 393,\n",
              " 'straddle': 394,\n",
              " 'breath': 395,\n",
              " 'dibnah': 396,\n",
              " 'deliberately': 397,\n",
              " 'sahlan': 398,\n",
              " 'culinary': 399,\n",
              " 'opaeras': 400,\n",
              " 'traumatized': 401,\n",
              " 'impression': 402,\n",
              " 'targeted': 403,\n",
              " 'moist': 404,\n",
              " 'sparse': 405,\n",
              " 'underly': 406,\n",
              " 'livesy': 407,\n",
              " 'proteg': 408,\n",
              " 'unavailing': 409,\n",
              " 'scarefest': 410,\n",
              " 'unprovable': 411,\n",
              " 'commissioned': 412,\n",
              " 'mayweather': 413,\n",
              " 'woundings': 414,\n",
              " 'animatics': 415,\n",
              " 'prospect': 416,\n",
              " 'mitochondrial': 417,\n",
              " 'mcgree': 418,\n",
              " 'alegria': 419,\n",
              " 'bussle': 420,\n",
              " 'van': 421,\n",
              " 'schnaas': 422,\n",
              " 'amid': 423,\n",
              " 'leitch': 424,\n",
              " 'hides': 425,\n",
              " 'manson': 426,\n",
              " 'shihito': 427,\n",
              " 'subcontracted': 428,\n",
              " 'britcoms': 429,\n",
              " 'bruckheimer': 430,\n",
              " 'nth': 431,\n",
              " 'unappealling': 432,\n",
              " 'nercessian': 433,\n",
              " 'liners': 434,\n",
              " 'sautet': 435,\n",
              " 'meringue': 436,\n",
              " 'yvonne': 437,\n",
              " 'comme': 438,\n",
              " 'governesses': 439,\n",
              " 'cranks': 440,\n",
              " 'examines': 441,\n",
              " 'sipped': 442,\n",
              " 'noooooo': 443,\n",
              " 'tempi': 444,\n",
              " 'incredulous': 445,\n",
              " 'kinky': 446,\n",
              " 'multicultural': 447,\n",
              " 'step': 448,\n",
              " 'holton': 449,\n",
              " 'melange': 450,\n",
              " 'shocks': 451,\n",
              " 'wa': 452,\n",
              " 'wath': 453,\n",
              " 'monthly': 454,\n",
              " 'buba': 455,\n",
              " 'budjet': 456,\n",
              " 'margaritas': 457,\n",
              " 'fitfully': 458,\n",
              " 'zinger': 459,\n",
              " 'narasimhan': 460,\n",
              " 'property': 461,\n",
              " 'governmental': 462,\n",
              " 'sled': 463,\n",
              " 'filmdom': 464,\n",
              " 'propagate': 465,\n",
              " 'spiventa': 466,\n",
              " 'orchard': 467,\n",
              " 'frans': 468,\n",
              " 'imminently': 469,\n",
              " 'nannyish': 470,\n",
              " 'omega': 471,\n",
              " 'meyerling': 472,\n",
              " 'prada': 473,\n",
              " 'vivir': 474,\n",
              " 'anymore': 475,\n",
              " 'cheat': 476,\n",
              " 'nano': 477,\n",
              " 'lololol': 478,\n",
              " 'genderbender': 479,\n",
              " 'mueller': 480,\n",
              " 'app': 481,\n",
              " 'mystical': 482,\n",
              " 'dhia': 483,\n",
              " 'synagogues': 484,\n",
              " 'gy': 485,\n",
              " 'beineix': 486,\n",
              " 'chandler': 487,\n",
              " 'yellowstone': 488,\n",
              " 'eunuch': 489,\n",
              " 'baldwin': 490,\n",
              " 'deflower': 491,\n",
              " 'eeks': 492,\n",
              " 'bwahahha': 493,\n",
              " 'plata': 494,\n",
              " 'choked': 495,\n",
              " 'dungeons': 496,\n",
              " 'bustle': 497,\n",
              " 'ishai': 498,\n",
              " 'wimpy': 499,\n",
              " 'bondage': 500,\n",
              " 'disovered': 501,\n",
              " 'flirtatiously': 502,\n",
              " 'acerbic': 503,\n",
              " 'warnings': 504,\n",
              " 'hale': 505,\n",
              " 'regarded': 506,\n",
              " 'squads': 507,\n",
              " 'uncommunicative': 508,\n",
              " 'gunslinging': 509,\n",
              " 'tracked': 510,\n",
              " 'lasker': 511,\n",
              " 'safeco': 512,\n",
              " 'bankrobbers': 513,\n",
              " 'coholic': 514,\n",
              " 'harass': 515,\n",
              " 'chug': 516,\n",
              " 'quantitative': 517,\n",
              " 'missourians': 518,\n",
              " 'spotless': 519,\n",
              " 'realised': 520,\n",
              " 'antiquity': 521,\n",
              " 'doubting': 522,\n",
              " 'hitchcockometer': 523,\n",
              " 'murdered': 524,\n",
              " 'underplayed': 525,\n",
              " 'smash': 526,\n",
              " 'barraged': 527,\n",
              " 'superspy': 528,\n",
              " 'stalking': 529,\n",
              " 'wagter': 530,\n",
              " 'bitterman': 531,\n",
              " 'protagonists': 532,\n",
              " 'modesty': 533,\n",
              " 'trialat': 534,\n",
              " 'stayed': 535,\n",
              " 'unfailing': 536,\n",
              " 'inarticulated': 537,\n",
              " 'demeans': 538,\n",
              " 'hanks': 539,\n",
              " 'fenways': 540,\n",
              " 'stressing': 541,\n",
              " 'hudson': 542,\n",
              " 'solar': 543,\n",
              " 'batting': 544,\n",
              " 'savvy': 545,\n",
              " 'skycaptain': 546,\n",
              " 'iaac': 547,\n",
              " 'rim': 548,\n",
              " 'stronger': 549,\n",
              " 'fearlessness': 550,\n",
              " 'fatigues': 551,\n",
              " 'peephole': 552,\n",
              " 'seguin': 553,\n",
              " 'argufying': 554,\n",
              " 'crabtree': 555,\n",
              " 'bloodbaths': 556,\n",
              " 'synapsis': 557,\n",
              " 'warfield': 558,\n",
              " 'astrological': 559,\n",
              " 'liswood': 560,\n",
              " 'younger': 561,\n",
              " 'emeric': 562,\n",
              " 'lemoine': 563,\n",
              " 'sure': 564,\n",
              " 'britpop': 565,\n",
              " 'fratelli': 566,\n",
              " 'ankylosaurus': 567,\n",
              " 'climber': 568,\n",
              " 'darren': 569,\n",
              " 'adequate': 570,\n",
              " 'aimants': 571,\n",
              " 'sumatra': 572,\n",
              " 'pilmarks': 573,\n",
              " 'webbed': 574,\n",
              " 'alliende': 575,\n",
              " 'oneida': 576,\n",
              " 'pados': 577,\n",
              " 'wrench': 578,\n",
              " 'cowpies': 579,\n",
              " 'grandmaster': 580,\n",
              " 'stylist': 581,\n",
              " 'toolbox': 582,\n",
              " 'optimistic': 583,\n",
              " 'maltreatment': 584,\n",
              " 'decides': 585,\n",
              " 'crabbe': 586,\n",
              " 'toning': 587,\n",
              " 'ewald': 588,\n",
              " 'christoper': 589,\n",
              " 'irreligious': 590,\n",
              " 'chrissy': 591,\n",
              " 'mamet': 592,\n",
              " 'marketed': 593,\n",
              " 'gleason': 594,\n",
              " 'lipper': 595,\n",
              " 'dm': 596,\n",
              " 'thirsty': 597,\n",
              " 'pheasant': 598,\n",
              " 'genders': 599,\n",
              " 'swinstead': 600,\n",
              " 'plans': 601,\n",
              " 'planes': 602,\n",
              " 'harrer': 603,\n",
              " 'valuable': 604,\n",
              " 'bourgeoise': 605,\n",
              " 'spaceport': 606,\n",
              " 'parhat': 607,\n",
              " 'desensitization': 608,\n",
              " 'ecclesiastical': 609,\n",
              " 'ridicoulus': 610,\n",
              " 'forging': 611,\n",
              " 'hinges': 612,\n",
              " 'kato': 613,\n",
              " 'heahthrow': 614,\n",
              " 'proceeds': 615,\n",
              " 'pear': 616,\n",
              " 'rably': 617,\n",
              " 'stumping': 618,\n",
              " 'miah': 619,\n",
              " 'passably': 620,\n",
              " 'arsenals': 621,\n",
              " 'invigorate': 622,\n",
              " 'hatty': 623,\n",
              " 'characteriology': 624,\n",
              " 'negro': 625,\n",
              " 'kefauver': 626,\n",
              " 'haskins': 627,\n",
              " 'cinematoraphy': 628,\n",
              " 'survey': 629,\n",
              " 'actuall': 630,\n",
              " 'empathised': 631,\n",
              " 'pleasantly': 632,\n",
              " 'currency': 633,\n",
              " 'mcdiarmiud': 634,\n",
              " 'staunton': 635,\n",
              " 'caravans': 636,\n",
              " 'cheyenne': 637,\n",
              " 'bradys': 638,\n",
              " 'lusciousness': 639,\n",
              " 'caricatures': 640,\n",
              " 'jutta': 641,\n",
              " 'liven': 642,\n",
              " 'vice': 643,\n",
              " 'bleakly': 644,\n",
              " 'konvitz': 645,\n",
              " 'dissection': 646,\n",
              " 'saxophones': 647,\n",
              " 'mechanism': 648,\n",
              " 'blat': 649,\n",
              " 'cheapjack': 650,\n",
              " 'proceed': 651,\n",
              " 'beatrice': 652,\n",
              " 'spicy': 653,\n",
              " 'sijan': 654,\n",
              " 'assessing': 655,\n",
              " 'serbedzija': 656,\n",
              " 'scatters': 657,\n",
              " 'afl': 658,\n",
              " 'levitated': 659,\n",
              " 'gentry': 660,\n",
              " 'towney': 661,\n",
              " 'kunst': 662,\n",
              " 'burp': 663,\n",
              " 'skepticism': 664,\n",
              " 'fucus': 665,\n",
              " 'submariners': 666,\n",
              " 'polyamorous': 667,\n",
              " 'ryoma': 668,\n",
              " 'arminian': 669,\n",
              " 'existentialist': 670,\n",
              " 'rubber': 671,\n",
              " 'disc': 672,\n",
              " 'melodrama': 673,\n",
              " 'felled': 674,\n",
              " 'vapoorize': 675,\n",
              " 'igniminiously': 676,\n",
              " 'quivvles': 677,\n",
              " 'sniffles': 678,\n",
              " 'hangups': 679,\n",
              " 'widened': 680,\n",
              " 'rivalries': 681,\n",
              " 'maldera': 682,\n",
              " 'badjatyas': 683,\n",
              " 'adriatic': 684,\n",
              " 'comparisonare': 685,\n",
              " 'bulge': 686,\n",
              " 'motorcycle': 687,\n",
              " 'condescension': 688,\n",
              " 'sadomania': 689,\n",
              " 'boundless': 690,\n",
              " 'scrapped': 691,\n",
              " 'coles': 692,\n",
              " 'hateboat': 693,\n",
              " 'knob': 694,\n",
              " 'peach': 695,\n",
              " 'haden': 696,\n",
              " 'complicit': 697,\n",
              " 'alan': 698,\n",
              " 'parricide': 699,\n",
              " 'tilman': 700,\n",
              " 'guacamole': 701,\n",
              " 'pimlico': 702,\n",
              " 'klien': 703,\n",
              " 'mastana': 704,\n",
              " 'dbbe': 705,\n",
              " 'transposition': 706,\n",
              " 'venture': 707,\n",
              " 'claus': 708,\n",
              " 'oldie': 709,\n",
              " 'dreamless': 710,\n",
              " 'raaj': 711,\n",
              " 'underpinnings': 712,\n",
              " 'rafaela': 713,\n",
              " 'horniest': 714,\n",
              " 'contraband': 715,\n",
              " 'buckets': 716,\n",
              " 'ubik': 717,\n",
              " 'roadwork': 718,\n",
              " 'century': 719,\n",
              " 'childhoods': 720,\n",
              " 'mendizbal': 721,\n",
              " 'carnivalistic': 722,\n",
              " 'lb': 723,\n",
              " 'snobs': 724,\n",
              " 'sparkers': 725,\n",
              " 'diverts': 726,\n",
              " 'catholics': 727,\n",
              " 'dicks': 728,\n",
              " 'artisty': 729,\n",
              " 'madsen': 730,\n",
              " 'crissakes': 731,\n",
              " 'mammal': 732,\n",
              " 'stupid': 733,\n",
              " 'maneuvered': 734,\n",
              " 'spouts': 735,\n",
              " 'eyecatchers': 736,\n",
              " 'quel': 737,\n",
              " 'annis': 738,\n",
              " 'freihof': 739,\n",
              " 'bath': 740,\n",
              " 'freddyshoop': 741,\n",
              " 'gayniggers': 742,\n",
              " 'approximately': 743,\n",
              " 'wheedon': 744,\n",
              " 'moscovite': 745,\n",
              " 'friend': 746,\n",
              " 'wwii': 747,\n",
              " 'glug': 748,\n",
              " 'article': 749,\n",
              " 'stanford': 750,\n",
              " 'exquisitely': 751,\n",
              " 'contra': 752,\n",
              " 'census': 753,\n",
              " 'barca': 754,\n",
              " 'pirouetting': 755,\n",
              " 'coppery': 756,\n",
              " 'undisciplined': 757,\n",
              " 'pucelle': 758,\n",
              " 'aperta': 759,\n",
              " 'anarchic': 760,\n",
              " 'derisively': 761,\n",
              " 'withdrawal': 762,\n",
              " 'stoopid': 763,\n",
              " 'gushed': 764,\n",
              " 'breakdance': 765,\n",
              " 'sillier': 766,\n",
              " 'diavalo': 767,\n",
              " 'sean': 768,\n",
              " 'bibles': 769,\n",
              " 'moviedom': 770,\n",
              " 'commandments': 771,\n",
              " 'strident': 772,\n",
              " 'krycek': 773,\n",
              " 'sot': 774,\n",
              " 'jewelry': 775,\n",
              " 'tumour': 776,\n",
              " 'lyduschka': 777,\n",
              " 'endow': 778,\n",
              " 'gynoid': 779,\n",
              " 'sites': 780,\n",
              " 'holocausts': 781,\n",
              " 'delhomme': 782,\n",
              " 'leonie': 783,\n",
              " 'blows': 784,\n",
              " 'roamer': 785,\n",
              " 'leith': 786,\n",
              " 'chaplinesque': 787,\n",
              " 'schecky': 788,\n",
              " 'incalculable': 789,\n",
              " 'permits': 790,\n",
              " 'blubbers': 791,\n",
              " 'latinos': 792,\n",
              " 'reins': 793,\n",
              " 'raper': 794,\n",
              " 'singlet': 795,\n",
              " 'bloodsurfing': 796,\n",
              " 'giovon': 797,\n",
              " 'inveighing': 798,\n",
              " 'mindedly': 799,\n",
              " 'darkening': 800,\n",
              " 'frakken': 801,\n",
              " 'rapiers': 802,\n",
              " 'strange': 803,\n",
              " 'panavision': 804,\n",
              " 'terrfic': 805,\n",
              " 'daffily': 806,\n",
              " 'histories': 807,\n",
              " 'supernovas': 808,\n",
              " 'hilariousness': 809,\n",
              " 'exiling': 810,\n",
              " 'membury': 811,\n",
              " 'fedex': 812,\n",
              " 'harboured': 813,\n",
              " 'salute': 814,\n",
              " 'bilateral': 815,\n",
              " 'occupancy': 816,\n",
              " 'keitle': 817,\n",
              " 'stroll': 818,\n",
              " 'everage': 819,\n",
              " 'hosting': 820,\n",
              " 'studios': 821,\n",
              " 'inasmuch': 822,\n",
              " 'kristen': 823,\n",
              " 'rioters': 824,\n",
              " 'wrongful': 825,\n",
              " 'fratricidal': 826,\n",
              " 'cristiana': 827,\n",
              " 'ancestral': 828,\n",
              " 'scheider': 829,\n",
              " 'fez': 830,\n",
              " 'santacruz': 831,\n",
              " 'indecision': 832,\n",
              " 'frankbob': 833,\n",
              " 'taker': 834,\n",
              " 'brisk': 835,\n",
              " 'accused': 836,\n",
              " 'asceticism': 837,\n",
              " 'fondue': 838,\n",
              " 'inchon': 839,\n",
              " 'hodiak': 840,\n",
              " 'seconds': 841,\n",
              " 'chordant': 842,\n",
              " 'salamat': 843,\n",
              " 'buyers': 844,\n",
              " 'corneal': 845,\n",
              " 'herbut': 846,\n",
              " 'kinescope': 847,\n",
              " 'jyotika': 848,\n",
              " 'regurgitating': 849,\n",
              " 'ladders': 850,\n",
              " 'broken': 851,\n",
              " 'amusingly': 852,\n",
              " 'diverted': 853,\n",
              " 'oversexed': 854,\n",
              " 'garners': 855,\n",
              " 'hemi': 856,\n",
              " 'frogland': 857,\n",
              " 'photographing': 858,\n",
              " 'hillside': 859,\n",
              " 'prolongs': 860,\n",
              " 'roarke': 861,\n",
              " 'solent': 862,\n",
              " 'ameliorated': 863,\n",
              " 'devonsville': 864,\n",
              " 'greystoke': 865,\n",
              " 'apples': 866,\n",
              " 'quayle': 867,\n",
              " 'intergalactic': 868,\n",
              " 'sangre': 869,\n",
              " 'kinetescope': 870,\n",
              " 'bogey': 871,\n",
              " 'uncomfortable': 872,\n",
              " 'blokes': 873,\n",
              " 'arabs': 874,\n",
              " 'manmade': 875,\n",
              " 'templarios': 876,\n",
              " 'circumlocution': 877,\n",
              " 'karlsson': 878,\n",
              " 'claudette': 879,\n",
              " 'shalom': 880,\n",
              " 'matties': 881,\n",
              " 'travelling': 882,\n",
              " 'luckely': 883,\n",
              " 'dnouement': 884,\n",
              " 'suavity': 885,\n",
              " 'pathe': 886,\n",
              " 'lidsville': 887,\n",
              " 'symposium': 888,\n",
              " 'mazursky': 889,\n",
              " 'boxer': 890,\n",
              " 'reasonbaly': 891,\n",
              " 'vindication': 892,\n",
              " 'sagramore': 893,\n",
              " 'backthere': 894,\n",
              " 'murdstone': 895,\n",
              " 'redblock': 896,\n",
              " 'whores': 897,\n",
              " 'doris': 898,\n",
              " 'minx': 899,\n",
              " 'casey': 900,\n",
              " 'kissing': 901,\n",
              " 'samberg': 902,\n",
              " 'ethically': 903,\n",
              " 'raton': 904,\n",
              " 'syringe': 905,\n",
              " 'weezer': 906,\n",
              " 'cobblestoned': 907,\n",
              " 'goodtime': 908,\n",
              " 'imc': 909,\n",
              " 'backup': 910,\n",
              " 'dope': 911,\n",
              " 'dudek': 912,\n",
              " 'eally': 913,\n",
              " 'duper': 914,\n",
              " 'brady': 915,\n",
              " 'razing': 916,\n",
              " 'hermoine': 917,\n",
              " 'parcel': 918,\n",
              " 'daimond': 919,\n",
              " 'klaymation': 920,\n",
              " 'footstep': 921,\n",
              " 'hoe': 922,\n",
              " 'lyudmila': 923,\n",
              " 'mercedez': 924,\n",
              " 'juxtaposed': 925,\n",
              " 'mcdowel': 926,\n",
              " 'forums': 927,\n",
              " 'chinnery': 928,\n",
              " 'closing': 929,\n",
              " 'legalize': 930,\n",
              " 'millenni': 931,\n",
              " 'shinto': 932,\n",
              " 'clearlly': 933,\n",
              " 'revived': 934,\n",
              " 'berries': 935,\n",
              " 'kapor': 936,\n",
              " 'menon': 937,\n",
              " 'hooking': 938,\n",
              " 'coexisted': 939,\n",
              " 'grittier': 940,\n",
              " 'battlestar': 941,\n",
              " 'toler': 942,\n",
              " 'leila': 943,\n",
              " 'makeovers': 944,\n",
              " 'care': 945,\n",
              " 'gorges': 946,\n",
              " 'questions': 947,\n",
              " 'showstoppingly': 948,\n",
              " 'whaaaaa': 949,\n",
              " 'sherritt': 950,\n",
              " 'shamrock': 951,\n",
              " 'bolger': 952,\n",
              " 'panamanian': 953,\n",
              " 'implicitly': 954,\n",
              " 'dictates': 955,\n",
              " 'coffee': 956,\n",
              " 'meghna': 957,\n",
              " 'albino': 958,\n",
              " 'gtavice': 959,\n",
              " 'moreland': 960,\n",
              " 'sabc': 961,\n",
              " 'characterisations': 962,\n",
              " 'kumari': 963,\n",
              " 'biter': 964,\n",
              " 'sheeple': 965,\n",
              " 'sensed': 966,\n",
              " 'mcewan': 967,\n",
              " 'endemic': 968,\n",
              " 'coolish': 969,\n",
              " 'sayang': 970,\n",
              " 'hatcheck': 971,\n",
              " 'scrutiny': 972,\n",
              " 'corniness': 973,\n",
              " 'ejemplo': 974,\n",
              " 'punches': 975,\n",
              " 'approved': 976,\n",
              " 'withhold': 977,\n",
              " 'mindhunters': 978,\n",
              " 'subsection': 979,\n",
              " 'structuralist': 980,\n",
              " 'receive': 981,\n",
              " 'enquanto': 982,\n",
              " 'leibman': 983,\n",
              " 'galoot': 984,\n",
              " 'loses': 985,\n",
              " 'krowned': 986,\n",
              " 'rea': 987,\n",
              " 'emerson': 988,\n",
              " 'purposes': 989,\n",
              " 'closest': 990,\n",
              " 'banality': 991,\n",
              " 'taxes': 992,\n",
              " 'employee': 993,\n",
              " 'detaining': 994,\n",
              " 'tennessee': 995,\n",
              " 'inu': 996,\n",
              " 'introduced': 997,\n",
              " 'funyet': 998,\n",
              " 'spotter': 999,\n",
              " ...}"
            ]
          },
          "metadata": {},
          "execution_count": 69
        }
      ],
      "metadata": {
        "id": "WyTGXExmKOto"
      }
    },
    {
      "cell_type": "markdown",
      "source": [
        "#### Cuarto paso: crear la función que dada una crítica devuelve un vector contando la frecuencia de las palabras utilizadas."
      ],
      "metadata": {
        "id": "00djBLcWLe3-"
      }
    },
    {
      "cell_type": "code",
      "execution_count": 85,
      "source": [
        "## Rellena la función que para cada crítica devuelve el vector asociado aplicando bag of words\r\n",
        "def bag_of_words(review):\r\n",
        "  v = np.zeros(vocab_size)\r\n",
        "  ## Inserta tu código aquí\r\n",
        "  for word in review.split(' '):\r\n",
        "    v[word2index[word]] += 1\r\n",
        "  return v"
      ],
      "outputs": [],
      "metadata": {
        "id": "9Iov2PNeLEw5"
      }
    },
    {
      "cell_type": "code",
      "execution_count": 73,
      "source": [
        "reviews[0]"
      ],
      "outputs": [
        {
          "output_type": "execute_result",
          "data": {
            "text/plain": [
              "'bromwell high is a cartoon comedy . it ran at the same time as some other programs about school life  such as  teachers  . my   years in the teaching profession lead me to believe that bromwell high  s satire is much closer to reality than is  teachers  . the scramble to survive financially  the insightful students who can see right through their pathetic teachers  pomp  the pettiness of the whole situation  all remind me of the schools i knew and their students . when i saw the episode in which a student repeatedly tried to burn down the school  i immediately recalled . . . . . . . . . at . . . . . . . . . . high . a classic line inspector i  m here to sack one of your teachers . student welcome to bromwell high . i expect that many adults of my age think that bromwell high is far fetched . what a pity that it isn  t   '"
            ]
          },
          "metadata": {},
          "execution_count": 73
        }
      ],
      "metadata": {
        "id": "4uR3jCvuSBrf"
      }
    },
    {
      "cell_type": "code",
      "execution_count": 74,
      "source": [
        "word2index['']"
      ],
      "outputs": [
        {
          "output_type": "execute_result",
          "data": {
            "text/plain": [
              "0"
            ]
          },
          "metadata": {},
          "execution_count": 74
        }
      ],
      "metadata": {
        "id": "t2iUM_MeSGkP"
      }
    },
    {
      "cell_type": "code",
      "execution_count": 86,
      "source": [
        "word2index[\"bromwell\"]"
      ],
      "outputs": [
        {
          "output_type": "execute_result",
          "data": {
            "text/plain": [
              "45266"
            ]
          },
          "metadata": {},
          "execution_count": 86
        }
      ],
      "metadata": {
        "id": "3ASg9r1ga6en"
      }
    },
    {
      "cell_type": "code",
      "execution_count": 89,
      "source": [
        "bag_of_words(reviews[0])[45266]"
      ],
      "outputs": [
        {
          "output_type": "execute_result",
          "data": {
            "text/plain": [
              "4.0"
            ]
          },
          "metadata": {},
          "execution_count": 89
        }
      ],
      "metadata": {
        "id": "n7BOLYxRMJFL"
      }
    },
    {
      "cell_type": "code",
      "execution_count": 77,
      "source": [
        "bag_of_words(reviews[0])[9131]"
      ],
      "outputs": [
        {
          "output_type": "execute_result",
          "data": {
            "text/plain": [
              "0.0"
            ]
          },
          "metadata": {},
          "execution_count": 77
        }
      ],
      "metadata": {
        "id": "3KDk4iVB21hQ"
      }
    },
    {
      "cell_type": "code",
      "execution_count": 78,
      "source": [
        "bag_of_words(reviews[0]).shape"
      ],
      "outputs": [
        {
          "output_type": "execute_result",
          "data": {
            "text/plain": [
              "(74074,)"
            ]
          },
          "metadata": {},
          "execution_count": 78
        }
      ],
      "metadata": {
        "id": "8e-pUBV5ay1t"
      }
    },
    {
      "cell_type": "markdown",
      "source": [
        "#### Quinto paso: el target de nuestro modelo serán 1s y 0s. Vamos a crear una función que convierta los cadenas POSITIVE y NEGATIVE a 1 y 0. "
      ],
      "metadata": {
        "id": "-zy1Su0ENDzb"
      }
    },
    {
      "cell_type": "code",
      "execution_count": 90,
      "source": [
        "## Rellena la función para que dada la etiqueta en forma de cadena devuelve el entero asociado\r\n",
        "def target_numerico(label):\r\n",
        "    return int(label == 'POSITIVE')"
      ],
      "outputs": [],
      "metadata": {
        "id": "LUQ52KX3MLfC"
      }
    },
    {
      "cell_type": "code",
      "execution_count": 91,
      "source": [
        "target_numerico(labels[0])"
      ],
      "outputs": [
        {
          "output_type": "execute_result",
          "data": {
            "text/plain": [
              "1"
            ]
          },
          "metadata": {},
          "execution_count": 91
        }
      ],
      "metadata": {
        "id": "NXFHGGG8Ngf2"
      }
    },
    {
      "cell_type": "markdown",
      "source": [
        "#### Sexto paso: dividimos los datos que tenemos en train y test (esta vez lo hacemos a ojo)."
      ],
      "metadata": {
        "id": "3socGi2cP_v4"
      }
    },
    {
      "cell_type": "code",
      "execution_count": 92,
      "source": [
        "training_size = 5000\r\n",
        "test_size = 10000\r\n",
        "training_rev = reviews[:training_size]\r\n",
        "training_lab = labels[:training_size]\r\n",
        "test_rev = reviews[-test_size:]\r\n",
        "test_lab = labels[-test_size:]\r\n",
        "print(len(training_lab))\r\n",
        "print(len(test_lab))"
      ],
      "outputs": [
        {
          "output_type": "stream",
          "name": "stdout",
          "text": [
            "5000\n",
            "10000\n"
          ]
        }
      ],
      "metadata": {
        "id": "Hiy_hHiNQKHV"
      }
    },
    {
      "cell_type": "markdown",
      "source": [
        "#### Séptimo paso: calculamos las matrices de entrenamiento y de test."
      ],
      "metadata": {
        "id": "8wjjnhbmQ2bR"
      }
    },
    {
      "cell_type": "code",
      "execution_count": 96,
      "source": [
        "X = np.empty((len(training_rev), vocab_size))\r\n",
        "print(X.shape)\r\n",
        "### Rellena X aquí\r\n",
        "for i in range(len(training_rev)):\r\n",
        "    X[i] = bag_of_words(training_rev[i])"
      ],
      "outputs": [
        {
          "output_type": "stream",
          "name": "stdout",
          "text": [
            "(5000, 74074)\n"
          ]
        }
      ],
      "metadata": {
        "id": "5CnlYbNnNkdA"
      }
    },
    {
      "cell_type": "code",
      "execution_count": 95,
      "source": [
        "X_test = np.empty((len(test_rev), vocab_size))\r\n",
        "print(X_test.shape)\r\n",
        "for i in range(len(test_rev)):\r\n",
        "    X_test[i] = bag_of_words(test_rev[i])"
      ],
      "outputs": [
        {
          "output_type": "stream",
          "name": "stdout",
          "text": [
            "(10000, 74074)\n"
          ]
        }
      ],
      "metadata": {
        "id": "mDfnC2WRVkAA"
      }
    },
    {
      "cell_type": "code",
      "execution_count": 100,
      "source": [
        "y = np.empty((len(training_lab),))\r\n",
        "print(y.shape)\r\n",
        "# Rellena y aquí\r\n",
        "\r\n",
        "for i in range(len(training_rev)):\r\n",
        "    y[i] = target_numerico(training_lab[i])"
      ],
      "outputs": [
        {
          "output_type": "stream",
          "name": "stdout",
          "text": [
            "(5000,)\n"
          ]
        }
      ],
      "metadata": {
        "id": "8dRHQFKVPLaB"
      }
    },
    {
      "cell_type": "code",
      "execution_count": 101,
      "source": [
        "y_test = np.empty((len(test_lab),))\r\n",
        "print(y_test.shape)\r\n",
        "# Rellena y_test aquí\r\n",
        "\r\n",
        "for i in range(len(test_lab)):\r\n",
        "    y_test[i] = target_numerico(test_lab[i])"
      ],
      "outputs": [
        {
          "output_type": "stream",
          "name": "stdout",
          "text": [
            "(10000,)\n"
          ]
        }
      ],
      "metadata": {
        "id": "wQ8H8PfQVuiC"
      }
    },
    {
      "cell_type": "markdown",
      "source": [
        "#### Octavo paso: entrenamos el modelo"
      ],
      "metadata": {
        "id": "0BUgNbNaVZQI"
      }
    },
    {
      "cell_type": "code",
      "execution_count": 102,
      "source": [
        "from sklearn import linear_model\r\n",
        "from sklearn import model_selection\r\n",
        "from sklearn.metrics import classification_report\r\n",
        "from sklearn.metrics import confusion_matrix\r\n",
        "from sklearn.metrics import accuracy_score"
      ],
      "outputs": [],
      "metadata": {
        "id": "418HbjvnS3R6"
      }
    },
    {
      "cell_type": "code",
      "execution_count": 103,
      "source": [
        "model = linear_model.LogisticRegression()\r\n",
        "model.fit(X,y)"
      ],
      "outputs": [
        {
          "output_type": "stream",
          "name": "stderr",
          "text": [
            "C:\\Anaconda3\\lib\\site-packages\\sklearn\\linear_model\\_logistic.py:763: ConvergenceWarning: lbfgs failed to converge (status=1):\n",
            "STOP: TOTAL NO. of ITERATIONS REACHED LIMIT.\n",
            "\n",
            "Increase the number of iterations (max_iter) or scale the data as shown in:\n",
            "    https://scikit-learn.org/stable/modules/preprocessing.html\n",
            "Please also refer to the documentation for alternative solver options:\n",
            "    https://scikit-learn.org/stable/modules/linear_model.html#logistic-regression\n",
            "  n_iter_i = _check_optimize_result(\n"
          ]
        },
        {
          "output_type": "execute_result",
          "data": {
            "text/plain": [
              "LogisticRegression()"
            ]
          },
          "metadata": {},
          "execution_count": 103
        }
      ],
      "metadata": {
        "id": "FFw3UoZDTNrz"
      }
    },
    {
      "cell_type": "markdown",
      "source": [
        "#### Noveno paso: aplicamos el predict sobre el conjunto de test y vemos qué tal funciona."
      ],
      "metadata": {
        "id": "tHbMoVIvVd37"
      }
    },
    {
      "cell_type": "code",
      "execution_count": 104,
      "source": [
        "predictions = model.predict(X_test)"
      ],
      "outputs": [],
      "metadata": {
        "id": "4ew7DEftTOnr"
      }
    },
    {
      "cell_type": "code",
      "execution_count": 105,
      "source": [
        "model.score(X,y)"
      ],
      "outputs": [
        {
          "output_type": "execute_result",
          "data": {
            "text/plain": [
              "0.9988"
            ]
          },
          "metadata": {},
          "execution_count": 105
        }
      ],
      "metadata": {
        "id": "jz8FOER4VSYf"
      }
    },
    {
      "cell_type": "code",
      "execution_count": 106,
      "source": [
        "model.score(X_test,y_test)"
      ],
      "outputs": [
        {
          "output_type": "execute_result",
          "data": {
            "text/plain": [
              "0.8397"
            ]
          },
          "metadata": {},
          "execution_count": 106
        }
      ],
      "metadata": {
        "id": "5EMDdavGWEs-"
      }
    },
    {
      "cell_type": "code",
      "execution_count": 107,
      "source": [
        "print(confusion_matrix(y_test, predictions))"
      ],
      "outputs": [
        {
          "output_type": "stream",
          "name": "stdout",
          "text": [
            "[[4315  685]\n",
            " [ 918 4082]]\n"
          ]
        }
      ],
      "metadata": {
        "id": "ZTVPXI4TWHvS"
      }
    },
    {
      "cell_type": "code",
      "execution_count": 108,
      "source": [
        "print(classification_report(y_test, predictions))"
      ],
      "outputs": [
        {
          "output_type": "stream",
          "name": "stdout",
          "text": [
            "              precision    recall  f1-score   support\n",
            "\n",
            "         0.0       0.82      0.86      0.84      5000\n",
            "         1.0       0.86      0.82      0.84      5000\n",
            "\n",
            "    accuracy                           0.84     10000\n",
            "   macro avg       0.84      0.84      0.84     10000\n",
            "weighted avg       0.84      0.84      0.84     10000\n",
            "\n"
          ]
        }
      ],
      "metadata": {
        "id": "qGy6v14K-Ovy"
      }
    },
    {
      "cell_type": "markdown",
      "source": [
        "#### Decimo paso: preparamos el código para probar el modelo con cadenas nuevas."
      ],
      "metadata": {
        "id": "T1_6xKsU-cOe"
      }
    },
    {
      "cell_type": "code",
      "execution_count": 113,
      "source": [
        "# Rellena la función para, dada una crítica, aplicar el modelo que hemos entrenado\r\n",
        "# e imprimir POSITIVE/NEGATIVE\r\n",
        "def sentiment_analysis(review):\r\n",
        "  ## Inserta tu código aqui\r\n",
        "  vector_input = np.empty((1, vocab_size))\r\n",
        "  vector_input[0] = bag_of_words(review)\r\n",
        "  pred = model.predict(vector_input)\r\n",
        "  if pred == 1:\r\n",
        "    return 'POSITIVE'\r\n",
        "  else:\r\n",
        "    return 'NEGATIVE'"
      ],
      "outputs": [],
      "metadata": {
        "id": "Melhwgn7-YVv"
      }
    },
    {
      "cell_type": "code",
      "execution_count": 114,
      "source": [
        "sentiment_analysis('movie bad')"
      ],
      "outputs": [
        {
          "output_type": "execute_result",
          "data": {
            "text/plain": [
              "'NEGATIVE'"
            ]
          },
          "metadata": {},
          "execution_count": 114
        }
      ],
      "metadata": {
        "id": "83AM8es9_oNl"
      }
    },
    {
      "cell_type": "code",
      "execution_count": 115,
      "source": [
        "sentiment_analysis('not horrible')"
      ],
      "outputs": [
        {
          "output_type": "execute_result",
          "data": {
            "text/plain": [
              "'NEGATIVE'"
            ]
          },
          "metadata": {},
          "execution_count": 115
        }
      ],
      "metadata": {
        "id": "cVkYqDqC_rLm"
      }
    },
    {
      "cell_type": "code",
      "execution_count": 116,
      "source": [
        "sentiment_analysis('España')"
      ],
      "outputs": [
        {
          "output_type": "error",
          "ename": "KeyError",
          "evalue": "'España'",
          "traceback": [
            "\u001b[1;31m---------------------------------------------------------------------------\u001b[0m",
            "\u001b[1;31mKeyError\u001b[0m                                  Traceback (most recent call last)",
            "\u001b[1;32m<ipython-input-116-78f2662b0a4b>\u001b[0m in \u001b[0;36m<module>\u001b[1;34m\u001b[0m\n\u001b[1;32m----> 1\u001b[1;33m \u001b[0msentiment_analysis\u001b[0m\u001b[1;33m(\u001b[0m\u001b[1;34m'España'\u001b[0m\u001b[1;33m)\u001b[0m\u001b[1;33m\u001b[0m\u001b[1;33m\u001b[0m\u001b[0m\n\u001b[0m",
            "\u001b[1;32m<ipython-input-113-9123ba8271dc>\u001b[0m in \u001b[0;36msentiment_analysis\u001b[1;34m(review)\u001b[0m\n\u001b[0;32m      4\u001b[0m   \u001b[1;31m## Inserta tu código aqui\u001b[0m\u001b[1;33m\u001b[0m\u001b[1;33m\u001b[0m\u001b[1;33m\u001b[0m\u001b[0m\n\u001b[0;32m      5\u001b[0m   \u001b[0mvector_input\u001b[0m \u001b[1;33m=\u001b[0m \u001b[0mnp\u001b[0m\u001b[1;33m.\u001b[0m\u001b[0mempty\u001b[0m\u001b[1;33m(\u001b[0m\u001b[1;33m(\u001b[0m\u001b[1;36m1\u001b[0m\u001b[1;33m,\u001b[0m \u001b[0mvocab_size\u001b[0m\u001b[1;33m)\u001b[0m\u001b[1;33m)\u001b[0m\u001b[1;33m\u001b[0m\u001b[1;33m\u001b[0m\u001b[0m\n\u001b[1;32m----> 6\u001b[1;33m   \u001b[0mvector_input\u001b[0m\u001b[1;33m[\u001b[0m\u001b[1;36m0\u001b[0m\u001b[1;33m]\u001b[0m \u001b[1;33m=\u001b[0m \u001b[0mbag_of_words\u001b[0m\u001b[1;33m(\u001b[0m\u001b[0mreview\u001b[0m\u001b[1;33m)\u001b[0m\u001b[1;33m\u001b[0m\u001b[1;33m\u001b[0m\u001b[0m\n\u001b[0m\u001b[0;32m      7\u001b[0m   \u001b[0mpred\u001b[0m \u001b[1;33m=\u001b[0m \u001b[0mmodel\u001b[0m\u001b[1;33m.\u001b[0m\u001b[0mpredict\u001b[0m\u001b[1;33m(\u001b[0m\u001b[0mvector_input\u001b[0m\u001b[1;33m)\u001b[0m\u001b[1;33m\u001b[0m\u001b[1;33m\u001b[0m\u001b[0m\n\u001b[0;32m      8\u001b[0m   \u001b[1;32mif\u001b[0m \u001b[0mpred\u001b[0m \u001b[1;33m==\u001b[0m \u001b[1;36m1\u001b[0m\u001b[1;33m:\u001b[0m\u001b[1;33m\u001b[0m\u001b[1;33m\u001b[0m\u001b[0m\n",
            "\u001b[1;32m<ipython-input-85-16ade9bf075e>\u001b[0m in \u001b[0;36mbag_of_words\u001b[1;34m(review)\u001b[0m\n\u001b[0;32m      4\u001b[0m   \u001b[1;31m## Inserta tu código aquí\u001b[0m\u001b[1;33m\u001b[0m\u001b[1;33m\u001b[0m\u001b[1;33m\u001b[0m\u001b[0m\n\u001b[0;32m      5\u001b[0m   \u001b[1;32mfor\u001b[0m \u001b[0mword\u001b[0m \u001b[1;32min\u001b[0m \u001b[0mreview\u001b[0m\u001b[1;33m.\u001b[0m\u001b[0msplit\u001b[0m\u001b[1;33m(\u001b[0m\u001b[1;34m' '\u001b[0m\u001b[1;33m)\u001b[0m\u001b[1;33m:\u001b[0m\u001b[1;33m\u001b[0m\u001b[1;33m\u001b[0m\u001b[0m\n\u001b[1;32m----> 6\u001b[1;33m     \u001b[0mv\u001b[0m\u001b[1;33m[\u001b[0m\u001b[0mword2index\u001b[0m\u001b[1;33m[\u001b[0m\u001b[0mword\u001b[0m\u001b[1;33m]\u001b[0m\u001b[1;33m]\u001b[0m \u001b[1;33m+=\u001b[0m \u001b[1;36m1\u001b[0m\u001b[1;33m\u001b[0m\u001b[1;33m\u001b[0m\u001b[0m\n\u001b[0m\u001b[0;32m      7\u001b[0m   \u001b[1;32mreturn\u001b[0m \u001b[0mv\u001b[0m\u001b[1;33m\u001b[0m\u001b[1;33m\u001b[0m\u001b[0m\n",
            "\u001b[1;31mKeyError\u001b[0m: 'España'"
          ]
        }
      ],
      "metadata": {
        "id": "Rj8IWCGxAHNZ"
      }
    },
    {
      "cell_type": "markdown",
      "source": [
        "¿Qué hacemos con el error que se obtiene al meter una palabra que no está en el vocabulario? Solucionar este error es parte de la práctica de la asignatura."
      ],
      "metadata": {
        "id": "2oUKhEDkASes"
      }
    },
    {
      "cell_type": "code",
      "execution_count": 117,
      "source": [
        "sentiment_analysis('Cool')"
      ],
      "outputs": [
        {
          "output_type": "error",
          "ename": "KeyError",
          "evalue": "'Cool'",
          "traceback": [
            "\u001b[1;31m---------------------------------------------------------------------------\u001b[0m",
            "\u001b[1;31mKeyError\u001b[0m                                  Traceback (most recent call last)",
            "\u001b[1;32m<ipython-input-117-f7d6180cd8ed>\u001b[0m in \u001b[0;36m<module>\u001b[1;34m\u001b[0m\n\u001b[1;32m----> 1\u001b[1;33m \u001b[0msentiment_analysis\u001b[0m\u001b[1;33m(\u001b[0m\u001b[1;34m'Cool'\u001b[0m\u001b[1;33m)\u001b[0m\u001b[1;33m\u001b[0m\u001b[1;33m\u001b[0m\u001b[0m\n\u001b[0m",
            "\u001b[1;32m<ipython-input-113-9123ba8271dc>\u001b[0m in \u001b[0;36msentiment_analysis\u001b[1;34m(review)\u001b[0m\n\u001b[0;32m      4\u001b[0m   \u001b[1;31m## Inserta tu código aqui\u001b[0m\u001b[1;33m\u001b[0m\u001b[1;33m\u001b[0m\u001b[1;33m\u001b[0m\u001b[0m\n\u001b[0;32m      5\u001b[0m   \u001b[0mvector_input\u001b[0m \u001b[1;33m=\u001b[0m \u001b[0mnp\u001b[0m\u001b[1;33m.\u001b[0m\u001b[0mempty\u001b[0m\u001b[1;33m(\u001b[0m\u001b[1;33m(\u001b[0m\u001b[1;36m1\u001b[0m\u001b[1;33m,\u001b[0m \u001b[0mvocab_size\u001b[0m\u001b[1;33m)\u001b[0m\u001b[1;33m)\u001b[0m\u001b[1;33m\u001b[0m\u001b[1;33m\u001b[0m\u001b[0m\n\u001b[1;32m----> 6\u001b[1;33m   \u001b[0mvector_input\u001b[0m\u001b[1;33m[\u001b[0m\u001b[1;36m0\u001b[0m\u001b[1;33m]\u001b[0m \u001b[1;33m=\u001b[0m \u001b[0mbag_of_words\u001b[0m\u001b[1;33m(\u001b[0m\u001b[0mreview\u001b[0m\u001b[1;33m)\u001b[0m\u001b[1;33m\u001b[0m\u001b[1;33m\u001b[0m\u001b[0m\n\u001b[0m\u001b[0;32m      7\u001b[0m   \u001b[0mpred\u001b[0m \u001b[1;33m=\u001b[0m \u001b[0mmodel\u001b[0m\u001b[1;33m.\u001b[0m\u001b[0mpredict\u001b[0m\u001b[1;33m(\u001b[0m\u001b[0mvector_input\u001b[0m\u001b[1;33m)\u001b[0m\u001b[1;33m\u001b[0m\u001b[1;33m\u001b[0m\u001b[0m\n\u001b[0;32m      8\u001b[0m   \u001b[1;32mif\u001b[0m \u001b[0mpred\u001b[0m \u001b[1;33m==\u001b[0m \u001b[1;36m1\u001b[0m\u001b[1;33m:\u001b[0m\u001b[1;33m\u001b[0m\u001b[1;33m\u001b[0m\u001b[0m\n",
            "\u001b[1;32m<ipython-input-85-16ade9bf075e>\u001b[0m in \u001b[0;36mbag_of_words\u001b[1;34m(review)\u001b[0m\n\u001b[0;32m      4\u001b[0m   \u001b[1;31m## Inserta tu código aquí\u001b[0m\u001b[1;33m\u001b[0m\u001b[1;33m\u001b[0m\u001b[1;33m\u001b[0m\u001b[0m\n\u001b[0;32m      5\u001b[0m   \u001b[1;32mfor\u001b[0m \u001b[0mword\u001b[0m \u001b[1;32min\u001b[0m \u001b[0mreview\u001b[0m\u001b[1;33m.\u001b[0m\u001b[0msplit\u001b[0m\u001b[1;33m(\u001b[0m\u001b[1;34m' '\u001b[0m\u001b[1;33m)\u001b[0m\u001b[1;33m:\u001b[0m\u001b[1;33m\u001b[0m\u001b[1;33m\u001b[0m\u001b[0m\n\u001b[1;32m----> 6\u001b[1;33m     \u001b[0mv\u001b[0m\u001b[1;33m[\u001b[0m\u001b[0mword2index\u001b[0m\u001b[1;33m[\u001b[0m\u001b[0mword\u001b[0m\u001b[1;33m]\u001b[0m\u001b[1;33m]\u001b[0m \u001b[1;33m+=\u001b[0m \u001b[1;36m1\u001b[0m\u001b[1;33m\u001b[0m\u001b[1;33m\u001b[0m\u001b[0m\n\u001b[0m\u001b[0;32m      7\u001b[0m   \u001b[1;32mreturn\u001b[0m \u001b[0mv\u001b[0m\u001b[1;33m\u001b[0m\u001b[1;33m\u001b[0m\u001b[0m\n",
            "\u001b[1;31mKeyError\u001b[0m: 'Cool'"
          ]
        }
      ],
      "metadata": {
        "id": "LxIV-DyqAKUF"
      }
    },
    {
      "cell_type": "markdown",
      "source": [
        "Pero si Cool si es una palabra inglesa. ¿Qué ocurre? ¿Cómo lo solucionamos? Esto también es parte de la práctica de la asignatura. "
      ],
      "metadata": {
        "id": "YDNO9LHVAp6E"
      }
    }
  ]
}