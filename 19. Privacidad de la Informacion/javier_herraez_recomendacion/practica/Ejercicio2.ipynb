{
 "cells": [
  {
   "cell_type": "markdown",
   "metadata": {},
   "source": [
    "## Recomendación por filtrado colabarativo"
   ]
  },
  {
   "cell_type": "markdown",
   "metadata": {},
   "source": [
    "## Ejercicio\n",
    "\n",
    "Crear un sistema de recomendaciones para los datos de **last.fm**"
   ]
  },
  {
   "cell_type": "code",
   "execution_count": 1,
   "metadata": {},
   "outputs": [],
   "source": [
    "import os\n",
    "import sys\n",
    "import pandas as pd\n",
    "import numpy as np\n",
    "\n",
    "from pyspark import SparkConf\n",
    "from pyspark.sql import SparkSession\n",
    "import pyspark.sql.functions as F\n",
    "import pyspark.sql.types as T\n",
    "\n",
    "from plotnine import *"
   ]
  },
  {
   "cell_type": "code",
   "execution_count": 2,
   "metadata": {},
   "outputs": [],
   "source": [
    "conf = (\n",
    "\n",
    "    SparkConf()\n",
    "    .setAppName(u\"Sistemas de Recomendación\")\n",
    "    .set(\"spark.executor.memory\", \"4g\")\n",
    "    .set(\"spark.executor.cores\", \"2\")\n",
    "    .set(\"spark.default.parallelism\", \"800\")\n",
    "    .set(\"spark.sql.shuffle.partitions\", \"800\")\n",
    "\n",
    ")"
   ]
  },
  {
   "cell_type": "code",
   "execution_count": 3,
   "metadata": {},
   "outputs": [
    {
     "name": "stderr",
     "output_type": "stream",
     "text": [
      "22/06/05 15:32:29 WARN Utils: Your hostname, mdsuser resolves to a loopback address: 127.0.1.1; using 192.168.229.128 instead (on interface ens33)\n",
      "22/06/05 15:32:29 WARN Utils: Set SPARK_LOCAL_IP if you need to bind to another address\n",
      "Using Spark's default log4j profile: org/apache/spark/log4j-defaults.properties\n",
      "Setting default log level to \"WARN\".\n",
      "To adjust logging level use sc.setLogLevel(newLevel). For SparkR, use setLogLevel(newLevel).\n",
      "22/06/05 15:32:30 WARN NativeCodeLoader: Unable to load native-hadoop library for your platform... using builtin-java classes where applicable\n"
     ]
    }
   ],
   "source": [
    "spark = (\n",
    "\n",
    "    SparkSession.builder\n",
    "    .config(conf=conf)\n",
    "    .enableHiveSupport()\n",
    "    .getOrCreate()\n",
    "\n",
    ")"
   ]
  },
  {
   "cell_type": "code",
   "execution_count": 4,
   "metadata": {},
   "outputs": [
    {
     "name": "stdout",
     "output_type": "stream",
     "text": [
      "00000c289a1829a808ac09c00daf10bc3c4e223b\t3bd73256-3905-4f3a-97e2-8b341527f805\tbetty blowtorch\t2137\n",
      "00000c289a1829a808ac09c00daf10bc3c4e223b\tf2fb0ff0-5679-42ec-a55c-15109ce6e320\tdie Ärzte\t1099\n",
      "00000c289a1829a808ac09c00daf10bc3c4e223b\tb3ae82c2-e60b-4551-a76d-6620f1b456aa\tmelissa etheridge\t897\n",
      "00000c289a1829a808ac09c00daf10bc3c4e223b\t3d6bbeb7-f90e-4d10-b440-e153c0d10b53\telvenking\t717\n",
      "00000c289a1829a808ac09c00daf10bc3c4e223b\tbbd2ffd7-17f4-4506-8572-c1ea58c3f9a8\tjuliette & the licks\t706\n",
      "00000c289a1829a808ac09c00daf10bc3c4e223b\t8bfac288-ccc5-448d-9573-c33ea2aa5c30\tred hot chili peppers\t691\n",
      "00000c289a1829a808ac09c00daf10bc3c4e223b\t6531c8b1-76ea-4141-b270-eb1ac5b41375\tmagica\t545\n",
      "00000c289a1829a808ac09c00daf10bc3c4e223b\t21f3573f-10cf-44b3-aeaa-26cccd8448b5\tthe black dahlia murder\t507\n",
      "00000c289a1829a808ac09c00daf10bc3c4e223b\tc5db90c4-580d-4f33-b364-fbaa5a3a58b5\tthe murmurs\t424\n",
      "00000c289a1829a808ac09c00daf10bc3c4e223b\t0639533a-0402-40ba-b6e0-18b067198b73\tlunachicks\t403\n"
     ]
    }
   ],
   "source": [
    "!head ../datos/lastfm-dataset-360K/usersha1-artmbid-artname-plays.tsv "
   ]
  },
  {
   "cell_type": "code",
   "execution_count": 5,
   "metadata": {},
   "outputs": [],
   "source": [
    "esquema = T.StructType([\n",
    "\n",
    "    T.StructField('user_id',T.StringType(),True),\n",
    "    T.StructField('artist_id',T.StringType(),True),\n",
    "    T.StructField('artist_name',T.StringType(),True),\n",
    "    T.StructField('plays',T.DoubleType(),True)\n",
    "\n",
    "])"
   ]
  },
  {
   "cell_type": "code",
   "execution_count": 6,
   "metadata": {},
   "outputs": [],
   "source": [
    "plays = (\n",
    "\n",
    "    spark.read\n",
    "    .csv('../datos/lastfm-dataset-360K/usersha1-artmbid-artname-plays.tsv', schema=esquema, sep='\\t')\n",
    "    .na.drop()\n",
    "\n",
    ")"
   ]
  },
  {
   "cell_type": "markdown",
   "metadata": {},
   "source": [
    "#### Pistas y consejos"
   ]
  },
  {
   "cell_type": "markdown",
   "metadata": {},
   "source": [
    "Para agilizar el proceso, podemos usar una versión \"pequeña\" que se os facilita:"
   ]
  },
  {
   "cell_type": "code",
   "execution_count": 7,
   "metadata": {},
   "outputs": [
    {
     "name": "stderr",
     "output_type": "stream",
     "text": [
      "                                                                                \r"
     ]
    }
   ],
   "source": [
    "plays = spark.read.parquet('../datos/lastfm_mini.parquet')"
   ]
  },
  {
   "cell_type": "code",
   "execution_count": 8,
   "metadata": {},
   "outputs": [
    {
     "data": {
      "text/html": [
       "<div>\n",
       "<style scoped>\n",
       "    .dataframe tbody tr th:only-of-type {\n",
       "        vertical-align: middle;\n",
       "    }\n",
       "\n",
       "    .dataframe tbody tr th {\n",
       "        vertical-align: top;\n",
       "    }\n",
       "\n",
       "    .dataframe thead th {\n",
       "        text-align: right;\n",
       "    }\n",
       "</style>\n",
       "<table border=\"1\" class=\"dataframe\">\n",
       "  <thead>\n",
       "    <tr style=\"text-align: right;\">\n",
       "      <th></th>\n",
       "      <th>user_id</th>\n",
       "      <th>artist_id</th>\n",
       "      <th>artist_name</th>\n",
       "      <th>plays</th>\n",
       "    </tr>\n",
       "  </thead>\n",
       "  <tbody>\n",
       "    <tr>\n",
       "      <th>0</th>\n",
       "      <td>8358173502fcfd30b48c3b9b6387e61b880e4781</td>\n",
       "      <td>382f1005-e9ab-4684-afd4-0bdae4ee37f2</td>\n",
       "      <td>2pac</td>\n",
       "      <td>54.0</td>\n",
       "    </tr>\n",
       "    <tr>\n",
       "      <th>1</th>\n",
       "      <td>f434362a46b823536159a71b2009fe93b6906b99</td>\n",
       "      <td>382f1005-e9ab-4684-afd4-0bdae4ee37f2</td>\n",
       "      <td>2pac</td>\n",
       "      <td>545.0</td>\n",
       "    </tr>\n",
       "    <tr>\n",
       "      <th>2</th>\n",
       "      <td>135750e1a2107ae20e0ce806c7c256ecc0307291</td>\n",
       "      <td>382f1005-e9ab-4684-afd4-0bdae4ee37f2</td>\n",
       "      <td>2pac</td>\n",
       "      <td>54.0</td>\n",
       "    </tr>\n",
       "    <tr>\n",
       "      <th>3</th>\n",
       "      <td>41a072560f38290a2e7e902281ba9cd0cbdacdf2</td>\n",
       "      <td>382f1005-e9ab-4684-afd4-0bdae4ee37f2</td>\n",
       "      <td>2pac</td>\n",
       "      <td>201.0</td>\n",
       "    </tr>\n",
       "    <tr>\n",
       "      <th>4</th>\n",
       "      <td>57da4f4db6fc10eb77854b392e2ce7868e58f99d</td>\n",
       "      <td>382f1005-e9ab-4684-afd4-0bdae4ee37f2</td>\n",
       "      <td>2pac</td>\n",
       "      <td>86.0</td>\n",
       "    </tr>\n",
       "  </tbody>\n",
       "</table>\n",
       "</div>"
      ],
      "text/plain": [
       "                                    user_id  \\\n",
       "0  8358173502fcfd30b48c3b9b6387e61b880e4781   \n",
       "1  f434362a46b823536159a71b2009fe93b6906b99   \n",
       "2  135750e1a2107ae20e0ce806c7c256ecc0307291   \n",
       "3  41a072560f38290a2e7e902281ba9cd0cbdacdf2   \n",
       "4  57da4f4db6fc10eb77854b392e2ce7868e58f99d   \n",
       "\n",
       "                              artist_id artist_name  plays  \n",
       "0  382f1005-e9ab-4684-afd4-0bdae4ee37f2        2pac   54.0  \n",
       "1  382f1005-e9ab-4684-afd4-0bdae4ee37f2        2pac  545.0  \n",
       "2  382f1005-e9ab-4684-afd4-0bdae4ee37f2        2pac   54.0  \n",
       "3  382f1005-e9ab-4684-afd4-0bdae4ee37f2        2pac  201.0  \n",
       "4  382f1005-e9ab-4684-afd4-0bdae4ee37f2        2pac   86.0  "
      ]
     },
     "execution_count": 8,
     "metadata": {},
     "output_type": "execute_result"
    }
   ],
   "source": [
    "plays.limit(5).toPandas()"
   ]
  },
  {
   "cell_type": "markdown",
   "metadata": {},
   "source": [
    "El siguiente código puede ser de utilidad para usar con el `ALS` visto:"
   ]
  },
  {
   "cell_type": "code",
   "execution_count": 9,
   "metadata": {},
   "outputs": [],
   "source": [
    "from pyspark.ml.feature import StringIndexer\n",
    "from pyspark.ml.pipeline import Pipeline\n",
    "from pyspark.ml.tuning import CrossValidator, ParamGridBuilder\n",
    "from pyspark.ml.recommendation import ALS\n",
    "from pyspark.ml.evaluation import RegressionEvaluator"
   ]
  },
  {
   "cell_type": "markdown",
   "metadata": {},
   "source": [
    "Usamos StringIndexer para las columnas de usuario y artista."
   ]
  },
  {
   "cell_type": "code",
   "execution_count": 10,
   "metadata": {},
   "outputs": [],
   "source": [
    "conversores = [\n",
    "\n",
    "    StringIndexer(inputCol='user_id', outputCol='user_idx', handleInvalid='skip'),\n",
    "    StringIndexer(inputCol='artist_id', outputCol='artist_idx', handleInvalid='skip')\n",
    "\n",
    "]"
   ]
  },
  {
   "cell_type": "markdown",
   "metadata": {},
   "source": [
    "Definimos el modelo ALS."
   ]
  },
  {
   "cell_type": "code",
   "execution_count": 11,
   "metadata": {},
   "outputs": [],
   "source": [
    "als = ALS( \n",
    "    userCol=\"user_idx\", \n",
    "    itemCol=\"artist_idx\", \n",
    "    ratingCol=\"plays\",\n",
    "    coldStartStrategy=\"drop\"\n",
    ")"
   ]
  },
  {
   "cell_type": "markdown",
   "metadata": {},
   "source": [
    "Para la optimización de hiperparámetros definimos las siguientes opciones."
   ]
  },
  {
   "cell_type": "code",
   "execution_count": 12,
   "metadata": {},
   "outputs": [],
   "source": [
    "paramGrid = (\n",
    "\n",
    "    ParamGridBuilder()\n",
    "    .addGrid(als.rank, [10, 100])\n",
    "    .addGrid(als.regParam, [0.01, 0.1])\n",
    "    .addGrid(als.maxIter, [5, 10])\n",
    "    .build()\n",
    "\n",
    ")"
   ]
  },
  {
   "cell_type": "markdown",
   "metadata": {},
   "source": [
    "Definimos el evaluador de regresión."
   ]
  },
  {
   "cell_type": "code",
   "execution_count": 13,
   "metadata": {},
   "outputs": [],
   "source": [
    "evaluator = RegressionEvaluator(predictionCol='prediction', labelCol='plays')"
   ]
  },
  {
   "cell_type": "markdown",
   "metadata": {},
   "source": [
    "Haremos una validación cruzada con 2 folds."
   ]
  },
  {
   "cell_type": "code",
   "execution_count": 14,
   "metadata": {},
   "outputs": [],
   "source": [
    "crossval = CrossValidator(\n",
    "\n",
    "    estimator=als,\n",
    "    estimatorParamMaps=paramGrid,\n",
    "    evaluator=evaluator,\n",
    "    numFolds=2\n",
    "\n",
    ") "
   ]
  },
  {
   "cell_type": "markdown",
   "metadata": {},
   "source": [
    "Creamos una pipeline que contenga los conversores y nuestro CroosValidator"
   ]
  },
  {
   "cell_type": "code",
   "execution_count": 15,
   "metadata": {},
   "outputs": [],
   "source": [
    "pipeline = Pipeline(stages=conversores + [crossval])"
   ]
  },
  {
   "cell_type": "markdown",
   "metadata": {},
   "source": [
    "Pasamos a entrenar el modelo."
   ]
  },
  {
   "cell_type": "code",
   "execution_count": 16,
   "metadata": {},
   "outputs": [
    {
     "name": "stderr",
     "output_type": "stream",
     "text": [
      "22/06/05 15:33:33 WARN DAGScheduler: Broadcasting large task binary with size 1015.9 KiB\n",
      "22/06/05 15:33:34 WARN DAGScheduler: Broadcasting large task binary with size 1016.8 KiB\n",
      "22/06/05 15:33:59 WARN DAGScheduler: Broadcasting large task binary with size 1029.8 KiB\n",
      "22/06/05 15:34:00 WARN DAGScheduler: Broadcasting large task binary with size 1030.7 KiB\n",
      "22/06/05 15:34:20 WARN DAGScheduler: Broadcasting large task binary with size 1015.9 KiB\n",
      "22/06/05 15:34:21 WARN DAGScheduler: Broadcasting large task binary with size 1016.8 KiB\n",
      "22/06/05 15:34:42 WARN DAGScheduler: Broadcasting large task binary with size 1029.8 KiB\n",
      "22/06/05 15:34:42 WARN DAGScheduler: Broadcasting large task binary with size 1030.7 KiB\n",
      "22/06/05 15:35:11 WARN DAGScheduler: Broadcasting large task binary with size 1016.0 KiB\n",
      "22/06/05 15:35:14 WARN DAGScheduler: Broadcasting large task binary with size 1016.9 KiB\n",
      "22/06/05 15:35:52 WARN DAGScheduler: Broadcasting large task binary with size 1029.9 KiB\n",
      "22/06/05 15:35:55 WARN DAGScheduler: Broadcasting large task binary with size 1030.8 KiB\n",
      "22/06/05 15:36:24 WARN DAGScheduler: Broadcasting large task binary with size 1016.0 KiB\n",
      "22/06/05 15:36:27 WARN DAGScheduler: Broadcasting large task binary with size 1016.9 KiB\n",
      "22/06/05 15:37:04 WARN DAGScheduler: Broadcasting large task binary with size 1029.9 KiB\n",
      "22/06/05 15:37:06 WARN DAGScheduler: Broadcasting large task binary with size 1030.8 KiB\n",
      "22/06/05 15:37:31 WARN DAGScheduler: Broadcasting large task binary with size 1015.9 KiB\n",
      "22/06/05 15:37:31 WARN DAGScheduler: Broadcasting large task binary with size 1016.8 KiB\n",
      "22/06/05 15:37:51 WARN DAGScheduler: Broadcasting large task binary with size 1029.8 KiB\n",
      "22/06/05 15:37:52 WARN DAGScheduler: Broadcasting large task binary with size 1030.7 KiB\n",
      "22/06/05 15:38:11 WARN DAGScheduler: Broadcasting large task binary with size 1015.9 KiB\n",
      "22/06/05 15:38:11 WARN DAGScheduler: Broadcasting large task binary with size 1016.8 KiB\n",
      "22/06/05 15:38:31 WARN DAGScheduler: Broadcasting large task binary with size 1029.8 KiB\n",
      "22/06/05 15:38:32 WARN DAGScheduler: Broadcasting large task binary with size 1030.7 KiB\n",
      "22/06/05 15:38:59 WARN DAGScheduler: Broadcasting large task binary with size 1016.0 KiB\n",
      "22/06/05 15:39:01 WARN DAGScheduler: Broadcasting large task binary with size 1016.9 KiB\n",
      "22/06/05 15:39:40 WARN DAGScheduler: Broadcasting large task binary with size 1029.9 KiB\n",
      "22/06/05 15:39:42 WARN DAGScheduler: Broadcasting large task binary with size 1030.8 KiB\n",
      "22/06/05 15:40:10 WARN DAGScheduler: Broadcasting large task binary with size 1016.0 KiB\n",
      "22/06/05 15:40:12 WARN DAGScheduler: Broadcasting large task binary with size 1016.9 KiB\n",
      "22/06/05 15:40:49 WARN DAGScheduler: Broadcasting large task binary with size 1029.9 KiB\n",
      "22/06/05 15:40:52 WARN DAGScheduler: Broadcasting large task binary with size 1030.8 KiB\n",
      "                                                                                \r"
     ]
    }
   ],
   "source": [
    "trained_pipeline = pipeline.fit(plays)"
   ]
  },
  {
   "cell_type": "markdown",
   "metadata": {},
   "source": [
    "Vemos que hiperparámetros nos han dado mejor resultado."
   ]
  },
  {
   "cell_type": "code",
   "execution_count": 17,
   "metadata": {},
   "outputs": [
    {
     "data": {
      "text/plain": [
       "{Param(parent='ALS_3e74a28cc365', name='rank', doc='rank of the factorization'): 10,\n",
       " Param(parent='ALS_3e74a28cc365', name='regParam', doc='regularization parameter (>= 0).'): 0.01,\n",
       " Param(parent='ALS_3e74a28cc365', name='maxIter', doc='max number of iterations (>= 0).'): 5}"
      ]
     },
     "execution_count": 17,
     "metadata": {},
     "output_type": "execute_result"
    }
   ],
   "source": [
    "trained_pipeline.stages[-1].getEstimatorParamMaps()[np.argmax(trained_pipeline.stages[-1].avgMetrics)]"
   ]
  },
  {
   "cell_type": "markdown",
   "metadata": {},
   "source": [
    "Hacemos las predicciones."
   ]
  },
  {
   "cell_type": "code",
   "execution_count": 18,
   "metadata": {},
   "outputs": [],
   "source": [
    "train_preds = trained_pipeline.transform(plays)"
   ]
  },
  {
   "cell_type": "markdown",
   "metadata": {},
   "source": [
    "Mediante las métricas de R2 y MAE vemos el resultado de nuestras predicciones."
   ]
  },
  {
   "cell_type": "code",
   "execution_count": 19,
   "metadata": {},
   "outputs": [
    {
     "name": "stderr",
     "output_type": "stream",
     "text": [
      "22/06/05 15:41:38 WARN DAGScheduler: Broadcasting large task binary with size 1020.7 KiB\n",
      "22/06/05 15:41:42 WARN DAGScheduler: Broadcasting large task binary with size 1021.6 KiB\n",
      "22/06/05 15:41:49 WARN DAGScheduler: Broadcasting large task binary with size 1020.7 KiB\n",
      "[Stage 1454:=================================>                     (9 + 4) / 15]\r"
     ]
    },
    {
     "name": "stdout",
     "output_type": "stream",
     "text": [
      "R2 para train: 0.9999999437706282\tMAE para train: 0.047207198704549966\n"
     ]
    },
    {
     "name": "stderr",
     "output_type": "stream",
     "text": [
      "22/06/05 15:41:54 WARN DAGScheduler: Broadcasting large task binary with size 1021.6 KiB\n",
      "                                                                                \r"
     ]
    }
   ],
   "source": [
    "train_r2 = evaluator.evaluate(train_preds, {evaluator.metricName: 'r2'})\n",
    "\n",
    "train_mae = evaluator.evaluate(train_preds, {evaluator.metricName: 'mae'})\n",
    "\n",
    "print(f\"R2 para train: {train_r2}\\tMAE para train: {train_mae}\")"
   ]
  },
  {
   "cell_type": "markdown",
   "metadata": {},
   "source": [
    "Al tener pocos datos podemos \"hacer la trampa\" de traerlos a memoria y convertirlos a DataFrame de pandas para así hacer un plot comparando la variable objetivo y las predicciones."
   ]
  },
  {
   "cell_type": "code",
   "execution_count": 20,
   "metadata": {},
   "outputs": [
    {
     "name": "stderr",
     "output_type": "stream",
     "text": [
      "                                                                                \r"
     ]
    },
    {
     "data": {
      "image/png": "[encoded data removed]",
      "text/plain": [
       "<Figure size 432x288 with 1 Axes>"
      ]
     },
     "metadata": {},
     "output_type": "display_data"
    },
    {
     "data": {
      "text/plain": [
       "<ggplot: (8746516860968)>"
      ]
     },
     "execution_count": 20,
     "metadata": {},
     "output_type": "execute_result"
    }
   ],
   "source": [
    "train_results = train_preds.select('plays', 'prediction').toPandas()\n",
    "( \n",
    "ggplot(train_results, aes(x='plays', y='prediction')) + \n",
    "    geom_point() + \n",
    "    geom_abline(slope=1, intercept=0, colour='red')\n",
    ")"
   ]
  },
  {
   "cell_type": "markdown",
   "metadata": {},
   "source": [
    "Vamos a probar qué tal funciona nuestro modelo con un usuario cualquiera. Para ello tenemos que usar la función recommendForAllUsers y filtraremos más tarde para un único usuario."
   ]
  },
  {
   "cell_type": "code",
   "execution_count": 21,
   "metadata": {},
   "outputs": [
    {
     "name": "stderr",
     "output_type": "stream",
     "text": [
      "/home/mdsuser/.pyenv/versions/3.8.0/lib/python3.8/site-packages/pyspark/sql/context.py:125: FutureWarning: Deprecated in 3.0.0. Use SparkSession.builder.getOrCreate() instead.\n",
      "22/06/05 15:42:17 WARN DAGScheduler: Broadcasting large task binary with size 1018.5 KiB\n",
      "[Stage 1534:===================================================> (97 + 3) / 100]\r"
     ]
    },
    {
     "name": "stdout",
     "output_type": "stream",
     "text": [
      "+--------+--------------------+\n",
      "|user_idx|     recommendations|\n",
      "+--------+--------------------+\n",
      "|      28|[{2165, 5602.7637...|\n",
      "|      44|[{94, 23966.338},...|\n",
      "|      53|[{2014, 139.71896...|\n",
      "|      78|[{1936, 519.71295...|\n",
      "|      85|[{2384, 5911.579}...|\n",
      "|     255|[{2165, 1089.654}...|\n",
      "|     271|[{2386, 18532.088...|\n",
      "|     296|[{1936, 1390.8171...|\n",
      "|     321|[{1404, 1752.3507...|\n",
      "|     322|[{2386, 2255.492}...|\n",
      "|     362|[{2386, 904.0799}...|\n",
      "|     472|[{1870, 1243.4287...|\n",
      "|     497|[{2165, 6631.1304...|\n",
      "|     588|[{2386, 8228.434}...|\n",
      "|     723|[{1803, 844.35706...|\n",
      "|     731|[{3457, 10471.531...|\n",
      "|     830|[{2384, 1085.369}...|\n",
      "|     847|[{1404, 6036.1284...|\n",
      "|     908|[{2386, 1200.254}...|\n",
      "|     914|[{1404, 2019.3134...|\n",
      "+--------+--------------------+\n",
      "only showing top 20 rows\n",
      "\n"
     ]
    },
    {
     "name": "stderr",
     "output_type": "stream",
     "text": [
      "                                                                                \r"
     ]
    }
   ],
   "source": [
    "userRecs = trained_pipeline.stages[-1].bestModel.recommendForAllUsers(20)\n",
    "userRecs.show()"
   ]
  },
  {
   "cell_type": "markdown",
   "metadata": {},
   "source": [
    "Tenemos un problema al haber utilizado StringIndexer ya que no tendemos los ids originales en el resultado de la función. Para ello con las posibles combinaciones de ids e idxs crearemos dos dataframes, uno para usuarios y otro para artistas."
   ]
  },
  {
   "cell_type": "code",
   "execution_count": 22,
   "metadata": {},
   "outputs": [],
   "source": [
    "user_label = train_preds.select(['user_id', 'user_idx']).distinct()"
   ]
  },
  {
   "cell_type": "code",
   "execution_count": 23,
   "metadata": {},
   "outputs": [],
   "source": [
    "artist_label = train_preds.select(['artist_id', 'artist_idx']).distinct()"
   ]
  },
  {
   "cell_type": "markdown",
   "metadata": {},
   "source": [
    "Uniremos estos dataframes con la tabla original para tener por cada fila el idxs de los usuarios y artistas."
   ]
  },
  {
   "cell_type": "code",
   "execution_count": 24,
   "metadata": {},
   "outputs": [
    {
     "name": "stderr",
     "output_type": "stream",
     "text": [
      "22/06/05 15:42:50 WARN DAGScheduler: Broadcasting large task binary with size 1021.3 KiB\n",
      "22/06/05 15:42:50 WARN DAGScheduler: Broadcasting large task binary with size 1021.4 KiB\n",
      "22/06/05 15:42:53 WARN DAGScheduler: Broadcasting large task binary with size 1017.1 KiB\n",
      "[Stage 1599:================================>                       (4 + 3) / 7]\r"
     ]
    },
    {
     "name": "stdout",
     "output_type": "stream",
     "text": [
      "+--------------------+--------------------+------------------+------+--------+----------+\n",
      "|           artist_id|             user_id|       artist_name| plays|user_idx|artist_idx|\n",
      "+--------------------+--------------------+------------------+------+--------+----------+\n",
      "|a74b1b7f-71a5-401...|16aeda688419a1db6...|         radiohead| 385.0|  4120.0|       0.0|\n",
      "|a74b1b7f-71a5-401...|542bb9a086129a85a...|         radiohead|3398.0|   225.0|       0.0|\n",
      "|382f1005-e9ab-468...|8358173502fcfd30b...|              2pac|  54.0|  2268.0|     262.0|\n",
      "|a74b1b7f-71a5-401...|78abffdc8a97490cc...|         radiohead| 116.0|   603.0|       0.0|\n",
      "|a74b1b7f-71a5-401...|8358173502fcfd30b...|         radiohead|  75.0|  2268.0|       0.0|\n",
      "|61386f55-12b6-45b...|b49b3cbba7d51ce94...|the appleseed cast|1937.0|  2776.0|    1216.0|\n",
      "|a74b1b7f-71a5-401...|00189df758cfdbbed...|         radiohead|  38.0|  9505.0|       0.0|\n",
      "|a74b1b7f-71a5-401...|2071ba8ca2d170ced...|         radiohead| 102.0|  8298.0|       0.0|\n",
      "|a74b1b7f-71a5-401...|9d795dac7b7da8afc...|         radiohead| 209.0|  1041.0|       0.0|\n",
      "|a74b1b7f-71a5-401...|a150c6b819fa44ae1...|         radiohead|  79.0|  3521.0|       0.0|\n",
      "|a74b1b7f-71a5-401...|b49b3cbba7d51ce94...|         radiohead| 695.0|  2776.0|       0.0|\n",
      "|382f1005-e9ab-468...|f434362a46b823536...|              2pac| 545.0|  9168.0|     262.0|\n",
      "|a74b1b7f-71a5-401...|1370d6731fdc6498d...|         radiohead|  77.0|  4895.0|       0.0|\n",
      "|a74b1b7f-71a5-401...|40959c10c1bf24d91...|         radiohead| 174.0|  3760.0|       0.0|\n",
      "|a74b1b7f-71a5-401...|548f0eec0979d29da...|         radiohead| 366.0|  2196.0|       0.0|\n",
      "|a74b1b7f-71a5-401...|be969e3642d41dd92...|         radiohead|  16.0|  2795.0|       0.0|\n",
      "|d6ed7887-a401-47a...|be969e3642d41dd92...|           ramones|  93.0|  2795.0|     108.0|\n",
      "|a74b1b7f-71a5-401...|028a76a326935710a...|         radiohead|  23.0|  8624.0|       0.0|\n",
      "|a74b1b7f-71a5-401...|5ece86858f7cc4982...|         radiohead|   3.0|  1521.0|       0.0|\n",
      "|a74b1b7f-71a5-401...|df40a05a0f37d04a2...|         radiohead|  65.0|  1356.0|       0.0|\n",
      "+--------------------+--------------------+------------------+------+--------+----------+\n",
      "only showing top 20 rows\n",
      "\n"
     ]
    },
    {
     "name": "stderr",
     "output_type": "stream",
     "text": [
      "22/06/05 15:42:56 WARN DAGScheduler: Broadcasting large task binary with size 1017.0 KiB\n",
      "                                                                                \r"
     ]
    }
   ],
   "source": [
    "plays_aux = plays.join(user_label, 'user_id')\n",
    "plays_aux = plays_aux.join(artist_label, 'artist_id')\n",
    "plays_aux.show()"
   ]
  },
  {
   "cell_type": "markdown",
   "metadata": {},
   "source": [
    "Para tener únicamente un dataframe con los idxs de los artistas y su nombre:"
   ]
  },
  {
   "cell_type": "code",
   "execution_count": 25,
   "metadata": {},
   "outputs": [],
   "source": [
    "artist_name = plays_aux.select(['artist_name', 'artist_idx']).distinct()"
   ]
  },
  {
   "cell_type": "markdown",
   "metadata": {},
   "source": [
    "Vamos a ver los artistas más escuchados de un ususario para compararlo con sus recomendaciones:"
   ]
  },
  {
   "cell_type": "code",
   "execution_count": 26,
   "metadata": {},
   "outputs": [
    {
     "name": "stderr",
     "output_type": "stream",
     "text": [
      "22/06/05 15:43:14 WARN DAGScheduler: Broadcasting large task binary with size 1021.2 KiB\n",
      "22/06/05 15:43:14 WARN DAGScheduler: Broadcasting large task binary with size 1021.4 KiB\n",
      "22/06/05 15:43:14 WARN DAGScheduler: Broadcasting large task binary with size 1016.7 KiB\n",
      "22/06/05 15:43:16 WARN DAGScheduler: Broadcasting large task binary with size 1016.9 KiB\n"
     ]
    },
    {
     "name": "stdout",
     "output_type": "stream",
     "text": [
      "+------------------+------+\n",
      "|       artist_name| plays|\n",
      "+------------------+------+\n",
      "|       the beatles|3701.0|\n",
      "|   håkan hellström|3688.0|\n",
      "|        mando diao|3647.0|\n",
      "|    the libertines|2721.0|\n",
      "|    arctic monkeys|1967.0|\n",
      "|      babyshambles|1472.0|\n",
      "|       the strokes|1235.0|\n",
      "|         bob dylan|1195.0|\n",
      "|       the killers|1031.0|\n",
      "|        the smiths| 975.0|\n",
      "|       jens lekman| 925.0|\n",
      "|the rolling stones| 870.0|\n",
      "|         the hives| 854.0|\n",
      "|          johnossi| 690.0|\n",
      "|              mgmt| 681.0|\n",
      "|   shout out louds| 675.0|\n",
      "|   franz ferdinand| 665.0|\n",
      "|   françoise hardy| 516.0|\n",
      "|              kent| 405.0|\n",
      "|      joy division| 364.0|\n",
      "+------------------+------+\n",
      "only showing top 20 rows\n",
      "\n"
     ]
    }
   ],
   "source": [
    "plays_aux.where(plays_aux.user_idx == 10).select(['artist_name', 'plays']).orderBy(F.desc('plays')).show()"
   ]
  },
  {
   "cell_type": "markdown",
   "metadata": {},
   "source": [
    "Ahora mostramos sus recomendaciones:"
   ]
  },
  {
   "cell_type": "code",
   "execution_count": 27,
   "metadata": {},
   "outputs": [
    {
     "name": "stderr",
     "output_type": "stream",
     "text": [
      "22/06/05 15:43:17 WARN DAGScheduler: Broadcasting large task binary with size 1021.0 KiB\n",
      "22/06/05 15:43:21 WARN DAGScheduler: Broadcasting large task binary with size 1005.0 KiB\n",
      "22/06/05 15:43:45 WARN DAGScheduler: Broadcasting large task binary with size 1021.3 KiB\n",
      "22/06/05 15:43:45 WARN DAGScheduler: Broadcasting large task binary with size 1021.4 KiB\n",
      "22/06/05 15:43:49 WARN DAGScheduler: Broadcasting large task binary with size 1025.8 KiB\n",
      "22/06/05 15:43:50 WARN DAGScheduler: Broadcasting large task binary with size 1017.9 KiB\n",
      "22/06/05 15:43:53 WARN DAGScheduler: Broadcasting large task binary with size 1017.0 KiB\n",
      "22/06/05 15:43:54 WARN DAGScheduler: Broadcasting large task binary with size 1052.1 KiB\n",
      "22/06/05 15:43:55 WARN DAGScheduler: Broadcasting large task binary with size 1099.3 KiB\n",
      "22/06/05 15:43:55 WARN DAGScheduler: Broadcasting large task binary with size 1099.7 KiB\n",
      "22/06/05 15:43:56 WARN DAGScheduler: Broadcasting large task binary with size 1096.2 KiB\n"
     ]
    },
    {
     "data": {
      "text/html": [
       "<div>\n",
       "<style scoped>\n",
       "    .dataframe tbody tr th:only-of-type {\n",
       "        vertical-align: middle;\n",
       "    }\n",
       "\n",
       "    .dataframe tbody tr th {\n",
       "        vertical-align: top;\n",
       "    }\n",
       "\n",
       "    .dataframe thead th {\n",
       "        text-align: right;\n",
       "    }\n",
       "</style>\n",
       "<table border=\"1\" class=\"dataframe\">\n",
       "  <thead>\n",
       "    <tr style=\"text-align: right;\">\n",
       "      <th></th>\n",
       "      <th>artist_idx</th>\n",
       "      <th>user_idx</th>\n",
       "      <th>rating</th>\n",
       "      <th>artist_name</th>\n",
       "    </tr>\n",
       "  </thead>\n",
       "  <tbody>\n",
       "    <tr>\n",
       "      <th>0</th>\n",
       "      <td>1870</td>\n",
       "      <td>10</td>\n",
       "      <td>7815.065430</td>\n",
       "      <td>동방신기</td>\n",
       "    </tr>\n",
       "    <tr>\n",
       "      <th>1</th>\n",
       "      <td>2384</td>\n",
       "      <td>10</td>\n",
       "      <td>7400.369141</td>\n",
       "      <td>kat-tun</td>\n",
       "    </tr>\n",
       "    <tr>\n",
       "      <th>2</th>\n",
       "      <td>2386</td>\n",
       "      <td>10</td>\n",
       "      <td>5439.932617</td>\n",
       "      <td>meg &amp; dia</td>\n",
       "    </tr>\n",
       "    <tr>\n",
       "      <th>3</th>\n",
       "      <td>2867</td>\n",
       "      <td>10</td>\n",
       "      <td>5242.465332</td>\n",
       "      <td>Владимир Высоцкий</td>\n",
       "    </tr>\n",
       "    <tr>\n",
       "      <th>4</th>\n",
       "      <td>1404</td>\n",
       "      <td>10</td>\n",
       "      <td>5006.159668</td>\n",
       "      <td>ガゼット</td>\n",
       "    </tr>\n",
       "    <tr>\n",
       "      <th>5</th>\n",
       "      <td>3428</td>\n",
       "      <td>10</td>\n",
       "      <td>4473.987305</td>\n",
       "      <td>buono!</td>\n",
       "    </tr>\n",
       "    <tr>\n",
       "      <th>6</th>\n",
       "      <td>3457</td>\n",
       "      <td>10</td>\n",
       "      <td>3804.398438</td>\n",
       "      <td>ayabie</td>\n",
       "    </tr>\n",
       "    <tr>\n",
       "      <th>7</th>\n",
       "      <td>834</td>\n",
       "      <td>10</td>\n",
       "      <td>3543.955078</td>\n",
       "      <td>dope</td>\n",
       "    </tr>\n",
       "    <tr>\n",
       "      <th>8</th>\n",
       "      <td>2660</td>\n",
       "      <td>10</td>\n",
       "      <td>3517.024414</td>\n",
       "      <td>los hermanos</td>\n",
       "    </tr>\n",
       "    <tr>\n",
       "      <th>9</th>\n",
       "      <td>419</td>\n",
       "      <td>10</td>\n",
       "      <td>3477.916992</td>\n",
       "      <td>scooter</td>\n",
       "    </tr>\n",
       "    <tr>\n",
       "      <th>10</th>\n",
       "      <td>1059</td>\n",
       "      <td>10</td>\n",
       "      <td>3186.326172</td>\n",
       "      <td>nasum</td>\n",
       "    </tr>\n",
       "    <tr>\n",
       "      <th>11</th>\n",
       "      <td>557</td>\n",
       "      <td>10</td>\n",
       "      <td>3115.936768</td>\n",
       "      <td>m. ward</td>\n",
       "    </tr>\n",
       "    <tr>\n",
       "      <th>12</th>\n",
       "      <td>2579</td>\n",
       "      <td>10</td>\n",
       "      <td>3072.434814</td>\n",
       "      <td>helena paparizou</td>\n",
       "    </tr>\n",
       "    <tr>\n",
       "      <th>13</th>\n",
       "      <td>2178</td>\n",
       "      <td>10</td>\n",
       "      <td>2997.679199</td>\n",
       "      <td>o teatro mágico</td>\n",
       "    </tr>\n",
       "    <tr>\n",
       "      <th>14</th>\n",
       "      <td>3540</td>\n",
       "      <td>10</td>\n",
       "      <td>2994.624512</td>\n",
       "      <td>Чёрный Обелиск</td>\n",
       "    </tr>\n",
       "    <tr>\n",
       "      <th>15</th>\n",
       "      <td>2040</td>\n",
       "      <td>10</td>\n",
       "      <td>2924.554443</td>\n",
       "      <td>distemper</td>\n",
       "    </tr>\n",
       "    <tr>\n",
       "      <th>16</th>\n",
       "      <td>3379</td>\n",
       "      <td>10</td>\n",
       "      <td>2835.515381</td>\n",
       "      <td>Звери</td>\n",
       "    </tr>\n",
       "  </tbody>\n",
       "</table>\n",
       "</div>"
      ],
      "text/plain": [
       "    artist_idx  user_idx       rating        artist_name\n",
       "0         1870        10  7815.065430               동방신기\n",
       "1         2384        10  7400.369141            kat-tun\n",
       "2         2386        10  5439.932617          meg & dia\n",
       "3         2867        10  5242.465332  Владимир Высоцкий\n",
       "4         1404        10  5006.159668               ガゼット\n",
       "5         3428        10  4473.987305             buono!\n",
       "6         3457        10  3804.398438             ayabie\n",
       "7          834        10  3543.955078               dope\n",
       "8         2660        10  3517.024414       los hermanos\n",
       "9          419        10  3477.916992            scooter\n",
       "10        1059        10  3186.326172              nasum\n",
       "11         557        10  3115.936768            m. ward\n",
       "12        2579        10  3072.434814   helena paparizou\n",
       "13        2178        10  2997.679199    o teatro mágico\n",
       "14        3540        10  2994.624512     Чёрный Обелиск\n",
       "15        2040        10  2924.554443          distemper\n",
       "16        3379        10  2835.515381              Звери"
      ]
     },
     "execution_count": 27,
     "metadata": {},
     "output_type": "execute_result"
    }
   ],
   "source": [
    "(\n",
    "    userRecs\n",
    "    .filter(\"\"\" user_idx = 10 \"\"\")\n",
    "    .withColumn(\"recommendations\", F.explode(\"recommendations\"))\n",
    "    .withColumn(\"artist_idx\", F.col('recommendations')['artist_idx'])\n",
    "    .withColumn(\"rating\", F.col('recommendations')['rating'])\n",
    "    .drop(\"recommendations\")\n",
    "    .join(plays_aux, ['user_idx', 'artist_idx'], 'left_anti')\n",
    "    .join(artist_name, 'artist_idx')\n",
    "    .orderBy(F.desc('rating'))\n",
    "    \n",
    ").toPandas()"
   ]
  },
  {
   "cell_type": "markdown",
   "metadata": {},
   "source": [
    "Viendo los resultados de sus canciones más escuchadas podemos ver que a este usuario le gusta bastante el rock de habla inglesa. Sin embargo, en las recomendaciones nos aparece bastante artista asiático que realizando una búsqueda en Internet parece apuntar más al pop. Habría que estudiar si nuestro recomendador es todo lo bueno posible."
   ]
  },
  {
   "cell_type": "code",
   "execution_count": 28,
   "metadata": {},
   "outputs": [],
   "source": [
    "spark.stop()"
   ]
  }
 ],
 "metadata": {
  "kernelspec": {
   "display_name": "Python 3 (ipykernel)",
   "language": "python",
   "name": "python3"
  },
  "language_info": {
   "codemirror_mode": {
    "name": "ipython",
    "version": 3
   },
   "file_extension": ".py",
   "mimetype": "text/x-python",
   "name": "python",
   "nbconvert_exporter": "python",
   "pygments_lexer": "ipython3",
   "version": "3.8.0"
  }
 },
 "nbformat": 4,
 "nbformat_minor": 4
}
