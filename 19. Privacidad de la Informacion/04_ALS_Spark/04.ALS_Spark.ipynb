{
 "cells": [
  {
   "cell_type": "markdown",
   "metadata": {},
   "source": [
    "## Recomendación por filtrado colabarativo"
   ]
  },
  {
   "cell_type": "markdown",
   "metadata": {},
   "source": [
    "Como ya sabemos, las recomendaciones por filtrado colaborativo, usan la propia información que los usuarios nos deja al interactuar con nuestros items. Pordemos ver la idea en el siguiente gif:"
   ]
  },
  {
   "cell_type": "markdown",
   "metadata": {},
   "source": [
    "![](../img/450px-Collaborative_filtering.gif)"
   ]
  },
  {
   "cell_type": "markdown",
   "metadata": {},
   "source": [
    "Hemos visto que dentro de las técnicas de filtrado colaborativo podemos distinguir entre las \"basado en memoria\" y las basdas en factorización de matrices.\n",
    "\n",
    "En este notebook vamos a ver un ejemplo con Spark (pyspark) y este segundo tipo de sistemas"
   ]
  },
  {
   "cell_type": "markdown",
   "metadata": {},
   "source": [
    "![](../img/memory-model-cf.jpg)"
   ]
  },
  {
   "cell_type": "markdown",
   "metadata": {},
   "source": [
    "Para ello nos basamos en el siguiente [guión](https://databricks-training.s3.amazonaws.com/movie-recommendation-with-mllib.html) (ya han dado de baja la web pero podemos usar el siguiente [link](https://web.archive.org/web/20160316113725/https://databricks-training.s3.amazonaws.com/movie-recommendation-with-mllib.html)) del Spark Summit 2014."
   ]
  },
  {
   "cell_type": "markdown",
   "metadata": {},
   "source": [
    "### Antes de empezar\n",
    "\n",
    "Necesitamos descargar los datos en la carpeta `../datos`"
   ]
  },
  {
   "cell_type": "code",
   "execution_count": 1,
   "metadata": {},
   "outputs": [
    {
     "name": "stdout",
     "output_type": "stream",
     "text": [
      "total 24328\n",
      "-rw-r----- 1 jorge jorge   171308 mar 26  2003 movies.dat\n",
      "-rw-r----- 1 jorge jorge 24594131 feb 28  2003 ratings.dat\n",
      "-rw-r----- 1 jorge jorge     5577 ene 29  2016 README\n",
      "-rw-r----- 1 jorge jorge   134368 feb 28  2003 users.dat\n"
     ]
    }
   ],
   "source": [
    "!ls -l ../datos/ml-1m"
   ]
  },
  {
   "cell_type": "markdown",
   "metadata": {},
   "source": [
    "**NOTA:** Si no existen las carpetas `ml-1m` y `tag-genome` usamos el script `descargar_movilens.sh` para descargarlos.\n",
    "\n",
    "## Los datos\n",
    "\n",
    "En la carpeta `ml-1m`  que contiene: \n",
    "\n",
    "> Stable benchmark dataset. 1 million ratings from 6000 users on 4000 movies. Released 2/2003.\n",
    "\n",
    "Hemos descargado estos datos que son pequeños para hacer las pruebas, pero el sistema que vamos a utilizar con Spark es distribuido y lo podríamos hacer sobre un cluster con el mismo código para datos más grandes.\n",
    "\n",
    "Los datos que incluye MovieLens son:\n",
    "\n",
    "* `movies.dat`: Incluye el catálogo de películas separado por `::` cada campo.\n",
    "* `ratings.dat`: Incluye los ratings entre usuarios y películas en este caso la puntuación (de 1 a 5) que han dado a esa película. Este archivo es nuestra matriz $M_{(n, p)}$ .\n",
    "* `users.dat`: Incluye información de los usuarios pero en nuestro ejercicio no vamos a utilizar este archivo.\n"
   ]
  },
  {
   "cell_type": "code",
   "execution_count": 2,
   "metadata": {},
   "outputs": [
    {
     "name": "stdout",
     "output_type": "stream",
     "text": [
      "1::Toy Story (1995)::Animation|Children's|Comedy\n",
      "2::Jumanji (1995)::Adventure|Children's|Fantasy\n",
      "3::Grumpier Old Men (1995)::Comedy|Romance\n",
      "4::Waiting to Exhale (1995)::Comedy|Drama\n",
      "5::Father of the Bride Part II (1995)::Comedy\n",
      "6::Heat (1995)::Action|Crime|Thriller\n",
      "7::Sabrina (1995)::Comedy|Romance\n",
      "8::Tom and Huck (1995)::Adventure|Children's\n",
      "9::Sudden Death (1995)::Action\n",
      "10::GoldenEye (1995)::Action|Adventure|Thriller\n"
     ]
    }
   ],
   "source": [
    "!head ../datos/ml-1m/movies.dat"
   ]
  },
  {
   "cell_type": "code",
   "execution_count": 3,
   "metadata": {},
   "outputs": [
    {
     "name": "stdout",
     "output_type": "stream",
     "text": [
      "1::1193::5::978300760\n",
      "1::661::3::978302109\n",
      "1::914::3::978301968\n",
      "1::3408::4::978300275\n",
      "1::2355::5::978824291\n",
      "1::1197::3::978302268\n",
      "1::1287::5::978302039\n",
      "1::2804::5::978300719\n",
      "1::594::4::978302268\n",
      "1::919::4::978301368\n"
     ]
    }
   ],
   "source": [
    "!head ../datos/ml-1m/ratings.dat"
   ]
  },
  {
   "cell_type": "markdown",
   "metadata": {},
   "source": [
    "## Incluirnos en el recomendador\n",
    "\n",
    "Una de las características importantes de los sitemas de recomendación basados en factorización de matrices. Es que desde el entrenamiento del modelo tendremos que incluir a todos los usuarios a los que vamos a querer recomendar. Al contrario que otros modelos de *machine learning* donde una vez entrenado el modelo podemos predecir a nuevos usuarios.\n",
    "\n",
    "Para ello vamos a incluir nuestras preferencias como un nuevo usuario y después veremos las recomendaciones que obtenemos para nosotros mismos.\n",
    "\n",
    "¿Cómo hacemos esto?\n",
    "\n",
    "El siguiente script en python `spark_als/bin/rateMovies` sirve para generar nuestras recomendaciones.\n",
    "\n",
    "Una vez ejecutado se crearán nuestros ratings en el archivo `personalRatings.txt`"
   ]
  },
  {
   "cell_type": "code",
   "execution_count": 4,
   "metadata": {},
   "outputs": [
    {
     "name": "stdout",
     "output_type": "stream",
     "text": [
      "0::1::1::1621347210\n",
      "0::780::4::1621347210\n",
      "0::590::1::1621347210\n",
      "0::1210::5::1621347210\n",
      "0::648::5::1621347210\n",
      "0::344::1::1621347210\n",
      "0::165::5::1621347210\n",
      "0::153::5::1621347210\n",
      "0::597::1::1621347210\n",
      "0::1580::4::1621347210\n",
      "0::231::1::1621347210\n"
     ]
    }
   ],
   "source": [
    "!cat personalRatings.txt"
   ]
  },
  {
   "cell_type": "markdown",
   "metadata": {},
   "source": [
    "## Spark y MLlib\n",
    "\n",
    "Para nuestro recomendador vamos a usar Spark y la librería MLlib que incluye el algoritmo ALS:    \n",
    "\n",
    "&nbsp;<br>"
   ]
  },
  {
   "cell_type": "markdown",
   "metadata": {},
   "source": [
    "![](../img/matrix_factorization.png)"
   ]
  },
  {
   "cell_type": "markdown",
   "metadata": {},
   "source": [
    "Lo primero de todo comprobamos que tenemos creado el `SparkContext`:"
   ]
  },
  {
   "cell_type": "code",
   "execution_count": 5,
   "metadata": {},
   "outputs": [],
   "source": [
    "import os\n",
    "import sys\n",
    "import pandas as pd\n",
    "import numpy as np\n",
    "\n",
    "from pyspark import SparkConf\n",
    "from pyspark.sql import SparkSession\n",
    "import pyspark.sql.functions as F\n",
    "import pyspark.sql.types as T\n",
    "\n",
    "# Cargamos las funciones definidas en el archivo funciones_auxiliares.py\n",
    "from funciones_auxiliares import *"
   ]
  },
  {
   "cell_type": "code",
   "execution_count": 6,
   "metadata": {},
   "outputs": [],
   "source": [
    "conf = (\n",
    "\n",
    "    SparkConf()\n",
    "    .setAppName(u\"Sistemas de Recomendación\")\n",
    "    .set(\"spark.executor.memory\", \"4g\")\n",
    "    .set(\"spark.executor.cores\", \"2\")\n",
    "    .set(\"spark.default.parallelism\", \"800\")\n",
    "    .set(\"spark.sql.shuffle.partitions\", \"800\")\n",
    "    .set(\"spark.submit.pyFiles\", \"funciones_auxiliares.py\")\n",
    "\n",
    ")"
   ]
  },
  {
   "cell_type": "code",
   "execution_count": 7,
   "metadata": {},
   "outputs": [],
   "source": [
    "spark = (\n",
    "\n",
    "    SparkSession.builder\n",
    "    .config(conf=conf)\n",
    "    .enableHiveSupport()\n",
    "    .getOrCreate()\n",
    "\n",
    ")"
   ]
  },
  {
   "cell_type": "code",
   "execution_count": 8,
   "metadata": {},
   "outputs": [
    {
     "data": {
      "text/html": [
       "\n",
       "            <div>\n",
       "                <p><b>SparkSession - hive</b></p>\n",
       "                \n",
       "        <div>\n",
       "            <p><b>SparkContext</b></p>\n",
       "\n",
       "            <p><a href=\"http://192.168.31.103:4040\">Spark UI</a></p>\n",
       "\n",
       "            <dl>\n",
       "              <dt>Version</dt>\n",
       "                <dd><code>v3.1.2</code></dd>\n",
       "              <dt>Master</dt>\n",
       "                <dd><code>local[*]</code></dd>\n",
       "              <dt>AppName</dt>\n",
       "                <dd><code>Sistemas de Recomendación</code></dd>\n",
       "            </dl>\n",
       "        </div>\n",
       "        \n",
       "            </div>\n",
       "        "
      ],
      "text/plain": [
       "<pyspark.sql.session.SparkSession at 0x7f3c83f0d310>"
      ]
     },
     "execution_count": 8,
     "metadata": {},
     "output_type": "execute_result"
    }
   ],
   "source": [
    "spark"
   ]
  },
  {
   "cell_type": "markdown",
   "metadata": {},
   "source": [
    "Usamos la función `loadRatings` para cargar nuestros ratings personales: "
   ]
  },
  {
   "cell_type": "markdown",
   "metadata": {},
   "source": [
    "Definimos la carpeta donde se encuentras nuestros archivos y usamos la función `parseRating` de manera distribuida:"
   ]
  },
  {
   "cell_type": "code",
   "execution_count": 9,
   "metadata": {},
   "outputs": [],
   "source": [
    "ratings_hdfs = '../datos/ml-1m/ratings.dat'"
   ]
  },
  {
   "cell_type": "code",
   "execution_count": 10,
   "metadata": {},
   "outputs": [
    {
     "name": "stdout",
     "output_type": "stream",
     "text": [
      "+---+----+---+---------+\n",
      "|_c0| _c1|_c2|      _c3|\n",
      "+---+----+---+---------+\n",
      "|  1|1193|  5|978300760|\n",
      "|  1| 661|  3|978302109|\n",
      "|  1| 914|  3|978301968|\n",
      "|  1|3408|  4|978300275|\n",
      "|  1|2355|  5|978824291|\n",
      "|  1|1197|  3|978302268|\n",
      "|  1|1287|  5|978302039|\n",
      "|  1|2804|  5|978300719|\n",
      "|  1| 594|  4|978302268|\n",
      "|  1| 919|  4|978301368|\n",
      "|  1| 595|  5|978824268|\n",
      "|  1| 938|  4|978301752|\n",
      "|  1|2398|  4|978302281|\n",
      "|  1|2918|  4|978302124|\n",
      "|  1|1035|  5|978301753|\n",
      "|  1|2791|  4|978302188|\n",
      "|  1|2687|  3|978824268|\n",
      "|  1|2018|  4|978301777|\n",
      "|  1|3105|  5|978301713|\n",
      "|  1|2797|  4|978302039|\n",
      "+---+----+---+---------+\n",
      "only showing top 20 rows\n",
      "\n"
     ]
    }
   ],
   "source": [
    "try:\n",
    "    spark.read.options(header=False, sep=\"::\").csv(ratings_hdfs).show()\n",
    "except Exception as e: \n",
    "    print(e)"
   ]
  },
  {
   "cell_type": "code",
   "execution_count": 11,
   "metadata": {},
   "outputs": [],
   "source": [
    "lines = spark.sparkContext.textFile(ratings_hdfs)"
   ]
  },
  {
   "cell_type": "code",
   "execution_count": 12,
   "metadata": {},
   "outputs": [
    {
     "data": {
      "text/plain": [
       "['1::1193::5::978300760',\n",
       " '1::661::3::978302109',\n",
       " '1::914::3::978301968',\n",
       " '1::3408::4::978300275']"
      ]
     },
     "execution_count": 12,
     "metadata": {},
     "output_type": "execute_result"
    }
   ],
   "source": [
    "lines.take(4)"
   ]
  },
  {
   "cell_type": "code",
   "execution_count": 13,
   "metadata": {},
   "outputs": [],
   "source": [
    "parts = lines.map(lambda row: row.split(\"::\"))"
   ]
  },
  {
   "cell_type": "code",
   "execution_count": 14,
   "metadata": {},
   "outputs": [
    {
     "data": {
      "text/plain": [
       "[['1', '1193', '5', '978300760'],\n",
       " ['1', '661', '3', '978302109'],\n",
       " ['1', '914', '3', '978301968'],\n",
       " ['1', '3408', '4', '978300275']]"
      ]
     },
     "execution_count": 14,
     "metadata": {},
     "output_type": "execute_result"
    }
   ],
   "source": [
    "parts.take(4)"
   ]
  },
  {
   "cell_type": "code",
   "execution_count": 15,
   "metadata": {},
   "outputs": [],
   "source": [
    "ratingsRDD = (\n",
    "    parts\n",
    "    .map(lambda p: Row(userId=int(p[0]), movieId=int(p[1]), rating=float(p[2]), timestamp=int(p[3])))\n",
    ")"
   ]
  },
  {
   "cell_type": "code",
   "execution_count": 16,
   "metadata": {},
   "outputs": [
    {
     "data": {
      "text/plain": [
       "[Row(userId=1, movieId=1193, rating=5.0, timestamp=978300760),\n",
       " Row(userId=1, movieId=661, rating=3.0, timestamp=978302109),\n",
       " Row(userId=1, movieId=914, rating=3.0, timestamp=978301968),\n",
       " Row(userId=1, movieId=3408, rating=4.0, timestamp=978300275)]"
      ]
     },
     "execution_count": 16,
     "metadata": {},
     "output_type": "execute_result"
    }
   ],
   "source": [
    "ratingsRDD.take(4)"
   ]
  },
  {
   "cell_type": "code",
   "execution_count": 17,
   "metadata": {},
   "outputs": [
    {
     "data": {
      "text/plain": [
       "1000209"
      ]
     },
     "execution_count": 17,
     "metadata": {},
     "output_type": "execute_result"
    }
   ],
   "source": [
    "ratingsRDD.count()"
   ]
  },
  {
   "cell_type": "code",
   "execution_count": 18,
   "metadata": {},
   "outputs": [],
   "source": [
    "ratings = ratingsRDD.toDF()"
   ]
  },
  {
   "cell_type": "code",
   "execution_count": 19,
   "metadata": {},
   "outputs": [
    {
     "name": "stdout",
     "output_type": "stream",
     "text": [
      "+------+-------+------+---------+\n",
      "|userId|movieId|rating|timestamp|\n",
      "+------+-------+------+---------+\n",
      "|     1|   1193|   5.0|978300760|\n",
      "|     1|    661|   3.0|978302109|\n",
      "|     1|    914|   3.0|978301968|\n",
      "|     1|   3408|   4.0|978300275|\n",
      "+------+-------+------+---------+\n",
      "only showing top 4 rows\n",
      "\n"
     ]
    }
   ],
   "source": [
    "ratings.show(4)"
   ]
  },
  {
   "cell_type": "markdown",
   "metadata": {},
   "source": [
    "Pegamos ahora nuestros ratings al mismo `DF`:"
   ]
  },
  {
   "cell_type": "code",
   "execution_count": 20,
   "metadata": {},
   "outputs": [],
   "source": [
    "myRatings = pd.read_csv(\n",
    "\n",
    "    \"personalRatings.txt\",\n",
    "    sep=\"::\",\n",
    "    names=[\"userId\", \"movieId\", \"rating\", \"timestamp\"],\n",
    "    engine='python'\n",
    "\n",
    ")"
   ]
  },
  {
   "cell_type": "code",
   "execution_count": 21,
   "metadata": {},
   "outputs": [
    {
     "data": {
      "text/html": [
       "<div>\n",
       "<style scoped>\n",
       "    .dataframe tbody tr th:only-of-type {\n",
       "        vertical-align: middle;\n",
       "    }\n",
       "\n",
       "    .dataframe tbody tr th {\n",
       "        vertical-align: top;\n",
       "    }\n",
       "\n",
       "    .dataframe thead th {\n",
       "        text-align: right;\n",
       "    }\n",
       "</style>\n",
       "<table border=\"1\" class=\"dataframe\">\n",
       "  <thead>\n",
       "    <tr style=\"text-align: right;\">\n",
       "      <th></th>\n",
       "      <th>userId</th>\n",
       "      <th>movieId</th>\n",
       "      <th>rating</th>\n",
       "      <th>timestamp</th>\n",
       "    </tr>\n",
       "  </thead>\n",
       "  <tbody>\n",
       "    <tr>\n",
       "      <th>0</th>\n",
       "      <td>0</td>\n",
       "      <td>1</td>\n",
       "      <td>1</td>\n",
       "      <td>1621347210</td>\n",
       "    </tr>\n",
       "    <tr>\n",
       "      <th>1</th>\n",
       "      <td>0</td>\n",
       "      <td>780</td>\n",
       "      <td>4</td>\n",
       "      <td>1621347210</td>\n",
       "    </tr>\n",
       "    <tr>\n",
       "      <th>2</th>\n",
       "      <td>0</td>\n",
       "      <td>590</td>\n",
       "      <td>1</td>\n",
       "      <td>1621347210</td>\n",
       "    </tr>\n",
       "    <tr>\n",
       "      <th>3</th>\n",
       "      <td>0</td>\n",
       "      <td>1210</td>\n",
       "      <td>5</td>\n",
       "      <td>1621347210</td>\n",
       "    </tr>\n",
       "    <tr>\n",
       "      <th>4</th>\n",
       "      <td>0</td>\n",
       "      <td>648</td>\n",
       "      <td>5</td>\n",
       "      <td>1621347210</td>\n",
       "    </tr>\n",
       "    <tr>\n",
       "      <th>5</th>\n",
       "      <td>0</td>\n",
       "      <td>344</td>\n",
       "      <td>1</td>\n",
       "      <td>1621347210</td>\n",
       "    </tr>\n",
       "    <tr>\n",
       "      <th>6</th>\n",
       "      <td>0</td>\n",
       "      <td>165</td>\n",
       "      <td>5</td>\n",
       "      <td>1621347210</td>\n",
       "    </tr>\n",
       "    <tr>\n",
       "      <th>7</th>\n",
       "      <td>0</td>\n",
       "      <td>153</td>\n",
       "      <td>5</td>\n",
       "      <td>1621347210</td>\n",
       "    </tr>\n",
       "    <tr>\n",
       "      <th>8</th>\n",
       "      <td>0</td>\n",
       "      <td>597</td>\n",
       "      <td>1</td>\n",
       "      <td>1621347210</td>\n",
       "    </tr>\n",
       "    <tr>\n",
       "      <th>9</th>\n",
       "      <td>0</td>\n",
       "      <td>1580</td>\n",
       "      <td>4</td>\n",
       "      <td>1621347210</td>\n",
       "    </tr>\n",
       "    <tr>\n",
       "      <th>10</th>\n",
       "      <td>0</td>\n",
       "      <td>231</td>\n",
       "      <td>1</td>\n",
       "      <td>1621347210</td>\n",
       "    </tr>\n",
       "  </tbody>\n",
       "</table>\n",
       "</div>"
      ],
      "text/plain": [
       "    userId  movieId  rating   timestamp\n",
       "0        0        1       1  1621347210\n",
       "1        0      780       4  1621347210\n",
       "2        0      590       1  1621347210\n",
       "3        0     1210       5  1621347210\n",
       "4        0      648       5  1621347210\n",
       "5        0      344       1  1621347210\n",
       "6        0      165       5  1621347210\n",
       "7        0      153       5  1621347210\n",
       "8        0      597       1  1621347210\n",
       "9        0     1580       4  1621347210\n",
       "10       0      231       1  1621347210"
      ]
     },
     "execution_count": 21,
     "metadata": {},
     "output_type": "execute_result"
    }
   ],
   "source": [
    "myRatings"
   ]
  },
  {
   "cell_type": "code",
   "execution_count": 22,
   "metadata": {},
   "outputs": [],
   "source": [
    "ratings = (\n",
    "\n",
    "    ratings\n",
    "    .unionByName(\n",
    "        spark.createDataFrame(myRatings)\n",
    "    )\n",
    "\n",
    ").cache()"
   ]
  },
  {
   "cell_type": "code",
   "execution_count": 23,
   "metadata": {},
   "outputs": [
    {
     "data": {
      "text/plain": [
       "1000220"
      ]
     },
     "execution_count": 23,
     "metadata": {},
     "output_type": "execute_result"
    }
   ],
   "source": [
    "ratings.count()"
   ]
  },
  {
   "cell_type": "code",
   "execution_count": 24,
   "metadata": {},
   "outputs": [],
   "source": [
    "movies_hdfs = '../datos/ml-1m/movies.dat'"
   ]
  },
  {
   "cell_type": "code",
   "execution_count": 25,
   "metadata": {},
   "outputs": [],
   "source": [
    "movies = (\n",
    "\n",
    "    spark.sparkContext\n",
    "    .textFile(movies_hdfs)\n",
    "    .map(lambda x: x.split(\"::\"))\n",
    "    .map(lambda x: Row(movieId=x[0], movieTitle=x[1], genres=x[2]))\n",
    "    .toDF()\n",
    "\n",
    ").cache()"
   ]
  },
  {
   "cell_type": "code",
   "execution_count": 26,
   "metadata": {},
   "outputs": [],
   "source": [
    "conteos = (\n",
    "\n",
    "    ratings\n",
    "    .select(\n",
    "        F.count(\"*\").alias(\"count\"),\n",
    "        F.countDistinct('userId').alias('userId'),\n",
    "        F.countDistinct('movieId').alias('movieId')\n",
    "    )\n",
    "\n",
    ").first()"
   ]
  },
  {
   "cell_type": "markdown",
   "metadata": {},
   "source": [
    "Una vez cargados ambos archivos vamos a contar el número de películas, usuarios y ratings que tenemos:"
   ]
  },
  {
   "cell_type": "code",
   "execution_count": 27,
   "metadata": {},
   "outputs": [
    {
     "name": "stdout",
     "output_type": "stream",
     "text": [
      "Got 1000220 ratings from 6041 users on 3706 movies.\n"
     ]
    }
   ],
   "source": [
    "print(\"Got %d ratings from %d users on %d movies.\" % conteos)"
   ]
  },
  {
   "cell_type": "markdown",
   "metadata": {},
   "source": [
    "Luego siguiendo nuestra notación tenemos que:\n",
    "\n",
    "* $n=6041$\n",
    "* $p=3706$\n",
    "\n",
    "Así que la matriz $M$ tiene un tamaño de $6041\\cdot3706=22387946$ pero solo tenemos información de $1000218$, es decir un 4%."
   ]
  },
  {
   "cell_type": "markdown",
   "metadata": {},
   "source": [
    "### Ejecución ALS"
   ]
  },
  {
   "cell_type": "code",
   "execution_count": 28,
   "metadata": {},
   "outputs": [],
   "source": [
    "from pyspark.ml.recommendation import ALS\n",
    "from pyspark.ml.evaluation import RegressionEvaluator"
   ]
  },
  {
   "cell_type": "code",
   "execution_count": 29,
   "metadata": {},
   "outputs": [],
   "source": [
    "als = ALS(\n",
    "\n",
    "    maxIter=5, \n",
    "    regParam=0.01, \n",
    "    userCol=\"userId\", \n",
    "    itemCol=\"movieId\", \n",
    "    ratingCol=\"rating\",\n",
    "\n",
    ")"
   ]
  },
  {
   "cell_type": "code",
   "execution_count": 30,
   "metadata": {},
   "outputs": [],
   "source": [
    "model = als.fit(ratings)"
   ]
  },
  {
   "cell_type": "code",
   "execution_count": 31,
   "metadata": {},
   "outputs": [
    {
     "data": {
      "text/plain": [
       "ALSModel: uid=ALS_ab24aca09da7, rank=10"
      ]
     },
     "execution_count": 31,
     "metadata": {},
     "output_type": "execute_result"
    }
   ],
   "source": [
    "model"
   ]
  },
  {
   "cell_type": "code",
   "execution_count": 32,
   "metadata": {},
   "outputs": [],
   "source": [
    "predictions = model.transform(ratings)"
   ]
  },
  {
   "cell_type": "code",
   "execution_count": 33,
   "metadata": {},
   "outputs": [
    {
     "name": "stdout",
     "output_type": "stream",
     "text": [
      "root\n",
      " |-- userId: long (nullable = true)\n",
      " |-- movieId: long (nullable = true)\n",
      " |-- rating: double (nullable = true)\n",
      " |-- timestamp: long (nullable = true)\n",
      " |-- prediction: float (nullable = false)\n",
      "\n"
     ]
    }
   ],
   "source": [
    "predictions.printSchema()"
   ]
  },
  {
   "cell_type": "code",
   "execution_count": 34,
   "metadata": {},
   "outputs": [
    {
     "name": "stdout",
     "output_type": "stream",
     "text": [
      "+------+-------+------+----------+----------+\n",
      "|userId|movieId|rating| timestamp|prediction|\n",
      "+------+-------+------+----------+----------+\n",
      "|  2122|   1580|   3.0| 974646450| 3.3192425|\n",
      "|  3997|   1580|   5.0| 965579670|  4.535497|\n",
      "|  1483|   1580|   3.0| 974752437| 3.2704625|\n",
      "|  1721|   1580|   4.0| 974705774| 2.6476598|\n",
      "|  2235|   1580|   3.0| 974613856|  4.141765|\n",
      "|  4161|   1580|   3.0| 965340333| 2.5853975|\n",
      "|  4219|   1580|   2.0| 965316151| 3.8178954|\n",
      "|  1139|   1580|   4.0| 974878436| 3.4748604|\n",
      "|  1322|   1580|   5.0| 974781764| 4.2643847|\n",
      "|  5071|   1580|   4.0| 962458344|  4.163615|\n",
      "|  5345|   1580|   4.0| 960671358|  4.006034|\n",
      "|  2443|   1580|   2.0| 974218362| 2.9415839|\n",
      "|  3089|   1580|   5.0| 969665122|  4.950528|\n",
      "|  4239|   1580|   4.0| 965310412| 3.9529643|\n",
      "|  4364|   1580|   5.0| 965184234| 4.0414877|\n",
      "|  5074|   1580|   1.0| 962430441| 2.8988395|\n",
      "|  5308|   1580|   4.0| 960934992|    3.5239|\n",
      "|  4294|   1580|   3.0|1006400387| 2.7019787|\n",
      "|  5217|   1580|   3.0| 961552591|  3.510681|\n",
      "|  5433|   1580|   4.0| 960047775|  3.376317|\n",
      "+------+-------+------+----------+----------+\n",
      "only showing top 20 rows\n",
      "\n"
     ]
    }
   ],
   "source": [
    "predictions.show()"
   ]
  },
  {
   "cell_type": "code",
   "execution_count": 35,
   "metadata": {},
   "outputs": [],
   "source": [
    "evaluator = RegressionEvaluator(\n",
    "    metricName=\"rmse\", \n",
    "    labelCol=\"rating\",\n",
    "    predictionCol=\"prediction\"\n",
    ")"
   ]
  },
  {
   "cell_type": "code",
   "execution_count": 36,
   "metadata": {},
   "outputs": [
    {
     "name": "stdout",
     "output_type": "stream",
     "text": [
      "Root-mean-square error = 0.7709347330811545\n"
     ]
    }
   ],
   "source": [
    "rmse = evaluator.evaluate(predictions)\n",
    "print(\"Root-mean-square error = \" + str(rmse))"
   ]
  },
  {
   "cell_type": "code",
   "execution_count": 37,
   "metadata": {},
   "outputs": [],
   "source": [
    "userRecs = model.recommendForAllUsers(10)"
   ]
  },
  {
   "cell_type": "code",
   "execution_count": 38,
   "metadata": {},
   "outputs": [
    {
     "name": "stdout",
     "output_type": "stream",
     "text": [
      "root\n",
      " |-- userId: integer (nullable = false)\n",
      " |-- recommendations: array (nullable = true)\n",
      " |    |-- element: struct (containsNull = true)\n",
      " |    |    |-- movieId: integer (nullable = true)\n",
      " |    |    |-- rating: float (nullable = true)\n",
      "\n"
     ]
    }
   ],
   "source": [
    "userRecs.printSchema()"
   ]
  },
  {
   "cell_type": "code",
   "execution_count": 39,
   "metadata": {},
   "outputs": [
    {
     "name": "stdout",
     "output_type": "stream",
     "text": [
      "+------+--------------------+\n",
      "|userId|     recommendations|\n",
      "+------+--------------------+\n",
      "|  1580|[{3636, 7.8263874...|\n",
      "|  2122|[{1471, 6.255006}...|\n",
      "|  3175|[{2192, 8.515926}...|\n",
      "|  5156|[{1930, 8.155917}...|\n",
      "|  3997|[{1793, 8.16977},...|\n",
      "|  3918|[{1450, 9.263441}...|\n",
      "|  1829|[{960, 9.143938},...|\n",
      "|  4519|[{2562, 7.8358164...|\n",
      "|  1990|[{1872, 8.173045}...|\n",
      "|  2580|[{811, 8.713287},...|\n",
      "|  1721|[{3636, 4.7560596...|\n",
      "|  4161|[{2602, 5.957645}...|\n",
      "|  1483|[{682, 8.26465}, ...|\n",
      "|  1025|[{1685, 9.928408}...|\n",
      "|  2235|[{3860, 8.101308}...|\n",
      "|  3179|[{3333, 8.597073}...|\n",
      "|  4219|[{557, 6.3651156}...|\n",
      "|  4929|[{572, 7.0321083}...|\n",
      "|  5071|[{3003, 7.3115177...|\n",
      "|  1322|[{3853, 6.248697}...|\n",
      "+------+--------------------+\n",
      "only showing top 20 rows\n",
      "\n"
     ]
    }
   ],
   "source": [
    "userRecs.show()"
   ]
  },
  {
   "cell_type": "code",
   "execution_count": 40,
   "metadata": {},
   "outputs": [
    {
     "data": {
      "text/html": [
       "<div>\n",
       "<style scoped>\n",
       "    .dataframe tbody tr th:only-of-type {\n",
       "        vertical-align: middle;\n",
       "    }\n",
       "\n",
       "    .dataframe tbody tr th {\n",
       "        vertical-align: top;\n",
       "    }\n",
       "\n",
       "    .dataframe thead th {\n",
       "        text-align: right;\n",
       "    }\n",
       "</style>\n",
       "<table border=\"1\" class=\"dataframe\">\n",
       "  <thead>\n",
       "    <tr style=\"text-align: right;\">\n",
       "      <th></th>\n",
       "      <th>movieId</th>\n",
       "      <th>userId</th>\n",
       "      <th>rating</th>\n",
       "      <th>movieTitle</th>\n",
       "      <th>genres</th>\n",
       "    </tr>\n",
       "  </thead>\n",
       "  <tbody>\n",
       "    <tr>\n",
       "      <th>0</th>\n",
       "      <td>3636</td>\n",
       "      <td>0</td>\n",
       "      <td>22.195744</td>\n",
       "      <td>Those Who Love Me Can Take the Train (Ceux qui...</td>\n",
       "      <td>Drama</td>\n",
       "    </tr>\n",
       "    <tr>\n",
       "      <th>1</th>\n",
       "      <td>1567</td>\n",
       "      <td>0</td>\n",
       "      <td>19.001030</td>\n",
       "      <td>Last Time I Committed Suicide, The (1997)</td>\n",
       "      <td>Drama</td>\n",
       "    </tr>\n",
       "    <tr>\n",
       "      <th>2</th>\n",
       "      <td>811</td>\n",
       "      <td>0</td>\n",
       "      <td>15.260990</td>\n",
       "      <td>Bewegte Mann, Der (1994)</td>\n",
       "      <td>Comedy</td>\n",
       "    </tr>\n",
       "    <tr>\n",
       "      <th>3</th>\n",
       "      <td>2483</td>\n",
       "      <td>0</td>\n",
       "      <td>15.165466</td>\n",
       "      <td>Day of the Beast, The (El D�a de la bestia) (1...</td>\n",
       "      <td>Comedy|Horror|Thriller</td>\n",
       "    </tr>\n",
       "    <tr>\n",
       "      <th>4</th>\n",
       "      <td>3892</td>\n",
       "      <td>0</td>\n",
       "      <td>14.325734</td>\n",
       "      <td>Anatomy (Anatomie) (2000)</td>\n",
       "      <td>Horror</td>\n",
       "    </tr>\n",
       "    <tr>\n",
       "      <th>5</th>\n",
       "      <td>2086</td>\n",
       "      <td>0</td>\n",
       "      <td>14.281295</td>\n",
       "      <td>One Magic Christmas (1985)</td>\n",
       "      <td>Drama|Fantasy</td>\n",
       "    </tr>\n",
       "    <tr>\n",
       "      <th>6</th>\n",
       "      <td>2913</td>\n",
       "      <td>0</td>\n",
       "      <td>13.998003</td>\n",
       "      <td>Mating Habits of the Earthbound Human, The (1998)</td>\n",
       "      <td>Comedy</td>\n",
       "    </tr>\n",
       "    <tr>\n",
       "      <th>7</th>\n",
       "      <td>1685</td>\n",
       "      <td>0</td>\n",
       "      <td>13.811930</td>\n",
       "      <td>I Love You, I Love You Not (1996)</td>\n",
       "      <td>Romance</td>\n",
       "    </tr>\n",
       "    <tr>\n",
       "      <th>8</th>\n",
       "      <td>2586</td>\n",
       "      <td>0</td>\n",
       "      <td>13.680561</td>\n",
       "      <td>Goodbye, Lover (1999)</td>\n",
       "      <td>Comedy|Crime|Thriller</td>\n",
       "    </tr>\n",
       "    <tr>\n",
       "      <th>9</th>\n",
       "      <td>3437</td>\n",
       "      <td>0</td>\n",
       "      <td>13.676436</td>\n",
       "      <td>Cool as Ice (1991)</td>\n",
       "      <td>Drama</td>\n",
       "    </tr>\n",
       "  </tbody>\n",
       "</table>\n",
       "</div>"
      ],
      "text/plain": [
       "   movieId  userId     rating  \\\n",
       "0     3636       0  22.195744   \n",
       "1     1567       0  19.001030   \n",
       "2      811       0  15.260990   \n",
       "3     2483       0  15.165466   \n",
       "4     3892       0  14.325734   \n",
       "5     2086       0  14.281295   \n",
       "6     2913       0  13.998003   \n",
       "7     1685       0  13.811930   \n",
       "8     2586       0  13.680561   \n",
       "9     3437       0  13.676436   \n",
       "\n",
       "                                          movieTitle                  genres  \n",
       "0  Those Who Love Me Can Take the Train (Ceux qui...                   Drama  \n",
       "1          Last Time I Committed Suicide, The (1997)                   Drama  \n",
       "2                           Bewegte Mann, Der (1994)                  Comedy  \n",
       "3  Day of the Beast, The (El D�a de la bestia) (1...  Comedy|Horror|Thriller  \n",
       "4                          Anatomy (Anatomie) (2000)                  Horror  \n",
       "5                         One Magic Christmas (1985)           Drama|Fantasy  \n",
       "6  Mating Habits of the Earthbound Human, The (1998)                  Comedy  \n",
       "7                  I Love You, I Love You Not (1996)                 Romance  \n",
       "8                              Goodbye, Lover (1999)   Comedy|Crime|Thriller  \n",
       "9                                 Cool as Ice (1991)                   Drama  "
      ]
     },
     "execution_count": 40,
     "metadata": {},
     "output_type": "execute_result"
    }
   ],
   "source": [
    "(\n",
    "\n",
    "    userRecs\n",
    "    .filter(\"\"\" userId = 0 \"\"\")\n",
    "    .withColumn(\"recommendations\",F.explode(\"recommendations\"))\n",
    "    .withColumn(\"movieId\",F.col('recommendations')['movieId'])\n",
    "    .withColumn(\"rating\",F.col('recommendations')['rating'])\n",
    "    .drop(\"recommendations\")\n",
    "    .join(movies, 'movieId')\n",
    "    .orderBy(F.desc('rating'))\n",
    "    \n",
    ").toPandas()"
   ]
  },
  {
   "cell_type": "code",
   "execution_count": 41,
   "metadata": {},
   "outputs": [],
   "source": [
    "movieRecs = model.recommendForAllItems(10)"
   ]
  },
  {
   "cell_type": "code",
   "execution_count": 42,
   "metadata": {},
   "outputs": [
    {
     "name": "stdout",
     "output_type": "stream",
     "text": [
      "+-------+--------------------+\n",
      "|movieId|     recommendations|\n",
      "+-------+--------------------+\n",
      "|   1580|[{5072, 5.5607553...|\n",
      "|   2122|[{2713, 6.291383}...|\n",
      "|   3175|[{5072, 5.6118464...|\n",
      "|   3918|[{1445, 7.6100197...|\n",
      "|   1829|[{5901, 9.374512}...|\n",
      "|   1990|[{5214, 7.814201}...|\n",
      "|   2580|[{283, 5.6033506}...|\n",
      "|   1721|[{1237, 6.198267}...|\n",
      "|   1483|[{1102, 8.067711}...|\n",
      "|   1025|[{4676, 6.5687475...|\n",
      "|   2235|[{5258, 2.7450962...|\n",
      "|   3179|[{41, 5.674091}, ...|\n",
      "|   1322|[{0, 6.1293154}, ...|\n",
      "|   1139|[{283, 5.2077594}...|\n",
      "|   3220|[{5258, 2.7450962...|\n",
      "|   2443|[{2441, 10.101035...|\n",
      "|   2923|[{1445, 8.755112}...|\n",
      "|     85|[{1098, 6.2206593...|\n",
      "|   2525|[{1445, 4.884277}...|\n",
      "|   3876|[{947, 8.872664},...|\n",
      "+-------+--------------------+\n",
      "only showing top 20 rows\n",
      "\n"
     ]
    }
   ],
   "source": [
    "movieRecs.show()"
   ]
  },
  {
   "cell_type": "code",
   "execution_count": 43,
   "metadata": {},
   "outputs": [],
   "source": [
    "users = ratings.select(als.getUserCol()).distinct().limit(3)"
   ]
  },
  {
   "cell_type": "code",
   "execution_count": 44,
   "metadata": {},
   "outputs": [
    {
     "name": "stdout",
     "output_type": "stream",
     "text": [
      "+------+\n",
      "|userId|\n",
      "+------+\n",
      "|  2040|\n",
      "|  2927|\n",
      "|  5409|\n",
      "+------+\n",
      "\n"
     ]
    }
   ],
   "source": [
    "users.show()"
   ]
  },
  {
   "cell_type": "code",
   "execution_count": 45,
   "metadata": {},
   "outputs": [],
   "source": [
    "userSubsetRecs = model.recommendForUserSubset(users, 10)"
   ]
  },
  {
   "cell_type": "code",
   "execution_count": 46,
   "metadata": {},
   "outputs": [
    {
     "name": "stdout",
     "output_type": "stream",
     "text": [
      "+------+--------------------+\n",
      "|userId|     recommendations|\n",
      "+------+--------------------+\n",
      "|  2040|[{2545, 11.509549...|\n",
      "|  5409|[{2487, 9.187382}...|\n",
      "|  2927|[{2342, 8.059692}...|\n",
      "+------+--------------------+\n",
      "\n"
     ]
    }
   ],
   "source": [
    "userSubsetRecs.show()"
   ]
  },
  {
   "cell_type": "code",
   "execution_count": 47,
   "metadata": {},
   "outputs": [
    {
     "name": "stdout",
     "output_type": "stream",
     "text": [
      "root\n",
      " |-- userId: integer (nullable = false)\n",
      " |-- recommendations: array (nullable = true)\n",
      " |    |-- element: struct (containsNull = true)\n",
      " |    |    |-- movieId: integer (nullable = true)\n",
      " |    |    |-- rating: float (nullable = true)\n",
      "\n"
     ]
    }
   ],
   "source": [
    "userSubsetRecs.printSchema()"
   ]
  },
  {
   "cell_type": "markdown",
   "metadata": {},
   "source": [
    "### Entrenamiento de los parámetros\n",
    "\n",
    "Para decidir qué parámetros utilizar en nuestro algoritmo vamos a dividir la muestra en tres trozos:\n",
    "entrenamiento (60%), validación (20%) y test (20%). Para ello lo hacemos basado en el último dígito del `timestamp` \n",
    "(ver la función `parseRating` línea 12)"
   ]
  },
  {
   "cell_type": "code",
   "execution_count": 48,
   "metadata": {},
   "outputs": [],
   "source": [
    "(training, test) = ratings.randomSplit([0.8, 0.2], seed=1234)"
   ]
  },
  {
   "cell_type": "markdown",
   "metadata": {},
   "source": [
    "Seleccionamos ahora los posibles valores de nuestros parámetros:"
   ]
  },
  {
   "cell_type": "code",
   "execution_count": 49,
   "metadata": {},
   "outputs": [],
   "source": [
    "from pyspark.ml.tuning import CrossValidator, ParamGridBuilder"
   ]
  },
  {
   "cell_type": "code",
   "execution_count": 50,
   "metadata": {},
   "outputs": [
    {
     "name": "stdout",
     "output_type": "stream",
     "text": [
      "alpha: alpha for implicit preference (default: 1.0)\n",
      "blockSize: block size for stacking input data in matrices. Data is stacked within partitions. If block size is more than remaining data in a partition then it is adjusted to the size of this data. (default: 4096)\n",
      "checkpointInterval: set checkpoint interval (>= 1) or disable checkpoint (-1). E.g. 10 means that the cache will get checkpointed every 10 iterations. Note: this setting will be ignored if the checkpoint directory is not set in the SparkContext. (default: 10)\n",
      "coldStartStrategy: strategy for dealing with unknown or new users/items at prediction time. This may be useful in cross-validation or production scenarios, for handling user/item ids the model has not seen in the training data. Supported values: 'nan', 'drop'. (default: nan)\n",
      "finalStorageLevel: StorageLevel for ALS model factors. (default: MEMORY_AND_DISK)\n",
      "implicitPrefs: whether to use implicit preference (default: False)\n",
      "intermediateStorageLevel: StorageLevel for intermediate datasets. Cannot be 'NONE'. (default: MEMORY_AND_DISK)\n",
      "itemCol: column name for item ids. Ids must be within the integer value range. (default: item)\n",
      "maxIter: max number of iterations (>= 0). (default: 10)\n",
      "nonnegative: whether to use nonnegative constraint for least squares (default: False)\n",
      "numItemBlocks: number of item blocks (default: 10)\n",
      "numUserBlocks: number of user blocks (default: 10)\n",
      "predictionCol: prediction column name. (default: prediction)\n",
      "rank: rank of the factorization (default: 10)\n",
      "ratingCol: column name for ratings (default: rating)\n",
      "regParam: regularization parameter (>= 0). (default: 0.1)\n",
      "seed: random seed. (default: -9200282870888924577)\n",
      "userCol: column name for user ids. Ids must be within the integer value range. (default: user)\n"
     ]
    }
   ],
   "source": [
    "print(ALS().explainParams())"
   ]
  },
  {
   "cell_type": "code",
   "execution_count": 51,
   "metadata": {},
   "outputs": [],
   "source": [
    "als = ALS(\n",
    "\n",
    "    userCol=\"userId\", \n",
    "    itemCol=\"movieId\", \n",
    "    ratingCol=\"rating\",\n",
    "    coldStartStrategy=\"drop\"\n",
    "\n",
    ")"
   ]
  },
  {
   "cell_type": "code",
   "execution_count": 52,
   "metadata": {},
   "outputs": [],
   "source": [
    "paramGrid = (\n",
    "\n",
    "    ParamGridBuilder()\n",
    "    .addGrid(als.rank, [10, 100])\n",
    "    .addGrid(als.regParam, [0.01, 0.1])\n",
    "    .addGrid(als.maxIter, [5, 10])\n",
    "    .build()\n",
    "\n",
    ")"
   ]
  },
  {
   "cell_type": "code",
   "execution_count": 53,
   "metadata": {},
   "outputs": [],
   "source": [
    "crossval = CrossValidator(\n",
    "\n",
    "    estimator=als,\n",
    "    estimatorParamMaps=paramGrid,\n",
    "    evaluator=evaluator,\n",
    "    numFolds=2\n",
    "\n",
    ") "
   ]
  },
  {
   "cell_type": "markdown",
   "metadata": {},
   "source": [
    "**¡Cuidado esta parte tarda mucho!**"
   ]
  },
  {
   "cell_type": "raw",
   "metadata": {},
   "source": [
    "cvModel = crossval.fit(training)"
   ]
  },
  {
   "cell_type": "raw",
   "metadata": {},
   "source": [
    "cvModel"
   ]
  },
  {
   "cell_type": "raw",
   "metadata": {},
   "source": [
    "cvModel.avgMetrics"
   ]
  },
  {
   "cell_type": "raw",
   "metadata": {},
   "source": [
    "mallado = pd.DataFrame(paramGrid)"
   ]
  },
  {
   "cell_type": "raw",
   "metadata": {},
   "source": [
    "mallado.columns=[i.name for i in mallado.columns]"
   ]
  },
  {
   "cell_type": "raw",
   "metadata": {},
   "source": [
    "mallado['avgMetrics'] = cvModel.avgMetrics"
   ]
  },
  {
   "cell_type": "raw",
   "metadata": {},
   "source": [
    "mallado.sort_values('avgMetrics', inplace=True)"
   ]
  },
  {
   "cell_type": "raw",
   "metadata": {},
   "source": [
    "mallado"
   ]
  },
  {
   "cell_type": "raw",
   "metadata": {},
   "source": [
    "cvModel.bestModel"
   ]
  },
  {
   "cell_type": "markdown",
   "metadata": {},
   "source": [
    "Un ejercicio habitual en *machine learning* es comparar el resultado de nuestro modelo con el *baseline*. En este caso con la media de los ratings y ver si nuestro modelo es mejor y en cuanto"
   ]
  },
  {
   "cell_type": "raw",
   "metadata": {},
   "source": [
    "baselineRmse = (\n",
    "\n",
    "    test\n",
    "    .crossJoin(\n",
    "        F.broadcast(ratings.select(F.mean('rating').alias('media')))\n",
    "    )\n",
    "    .withColumn('rmse', (F.col('media') - F.col('rating')) ** 2 )\n",
    "    .select(F.mean('rmse').alias('rmse'))\n",
    "    .first()['rmse']\n",
    "    \n",
    ")"
   ]
  },
  {
   "cell_type": "raw",
   "metadata": {},
   "source": [
    "testRmse = evaluator.evaluate(cvModel.bestModel.transform(test))\n",
    "improvement = (baselineRmse - testRmse) / baselineRmse * 100\n",
    "print(\"The best model improves the baseline by %.2f\" % (improvement) + \"%.\")"
   ]
  },
  {
   "cell_type": "markdown",
   "metadata": {},
   "source": [
    "### Modelo final\n",
    "Terminamos entrenando el modelo final con todos los datos y los parámetros que hemos elegido"
   ]
  },
  {
   "cell_type": "code",
   "execution_count": 54,
   "metadata": {},
   "outputs": [],
   "source": [
    "finalModel = ALS(\n",
    "\n",
    "    regParam=0.01, #mallado.iloc[0]['regParam'],\n",
    "    maxIter=20, #mallado.iloc[0]['maxIter'],\n",
    "    rank=100, #mallado.iloc[0]['rank'],\n",
    "    userCol=\"userId\", \n",
    "    itemCol=\"movieId\", \n",
    "    ratingCol=\"rating\",\n",
    "    coldStartStrategy=\"drop\"\n",
    "\n",
    ").fit(ratings)"
   ]
  },
  {
   "cell_type": "code",
   "execution_count": 55,
   "metadata": {},
   "outputs": [
    {
     "name": "stdout",
     "output_type": "stream",
     "text": [
      "Root-mean-square error = 0.3635972557513914\n"
     ]
    }
   ],
   "source": [
    "rmse = evaluator.evaluate(finalModel.transform(ratings))\n",
    "print(\"Root-mean-square error = \" + str(rmse))"
   ]
  },
  {
   "cell_type": "markdown",
   "metadata": {},
   "source": [
    "## Ver nuestras recomendaciones\n",
    "\n",
    "Vamos a recuperar las recomendaciones según los ratings que pusimos al principio"
   ]
  },
  {
   "cell_type": "code",
   "execution_count": 56,
   "metadata": {},
   "outputs": [],
   "source": [
    "userRecs = finalModel.recommendForAllUsers(20)"
   ]
  },
  {
   "cell_type": "markdown",
   "metadata": {},
   "source": [
    "¿Mejor?"
   ]
  },
  {
   "cell_type": "code",
   "execution_count": 57,
   "metadata": {},
   "outputs": [],
   "source": [
    "recommendations = (\n",
    "\n",
    "    userRecs\n",
    "    .filter(\"\"\" userId = 0 \"\"\")\n",
    "    .withColumn(\"recommendations\", F.explode(\"recommendations\"))\n",
    "    .withColumn(\"movieId\", F.col('recommendations')['movieId'])\n",
    "    .withColumn(\"rating\", F.col('recommendations')['rating'])\n",
    "    .drop(\"recommendations\")\n",
    "    .join(ratings, ['userId', 'movieId'], 'left_anti')\n",
    "    .join(movies, 'movieId')\n",
    "    .orderBy(F.desc('rating'))\n",
    "\n",
    ").toPandas()"
   ]
  },
  {
   "cell_type": "code",
   "execution_count": 58,
   "metadata": {},
   "outputs": [
    {
     "data": {
      "text/html": [
       "<div>\n",
       "<style scoped>\n",
       "    .dataframe tbody tr th:only-of-type {\n",
       "        vertical-align: middle;\n",
       "    }\n",
       "\n",
       "    .dataframe tbody tr th {\n",
       "        vertical-align: top;\n",
       "    }\n",
       "\n",
       "    .dataframe thead th {\n",
       "        text-align: right;\n",
       "    }\n",
       "</style>\n",
       "<table border=\"1\" class=\"dataframe\">\n",
       "  <thead>\n",
       "    <tr style=\"text-align: right;\">\n",
       "      <th></th>\n",
       "      <th>movieId</th>\n",
       "      <th>userId</th>\n",
       "      <th>rating</th>\n",
       "      <th>movieTitle</th>\n",
       "      <th>genres</th>\n",
       "    </tr>\n",
       "  </thead>\n",
       "  <tbody>\n",
       "    <tr>\n",
       "      <th>0</th>\n",
       "      <td>2628</td>\n",
       "      <td>0</td>\n",
       "      <td>5.048930</td>\n",
       "      <td>Star Wars: Episode I - The Phantom Menace (1999)</td>\n",
       "      <td>Action|Adventure|Fantasy|Sci-Fi</td>\n",
       "    </tr>\n",
       "    <tr>\n",
       "      <th>1</th>\n",
       "      <td>327</td>\n",
       "      <td>0</td>\n",
       "      <td>4.624232</td>\n",
       "      <td>Tank Girl (1995)</td>\n",
       "      <td>Action|Comedy|Musical|Sci-Fi</td>\n",
       "    </tr>\n",
       "    <tr>\n",
       "      <th>2</th>\n",
       "      <td>1196</td>\n",
       "      <td>0</td>\n",
       "      <td>4.471797</td>\n",
       "      <td>Star Wars: Episode V - The Empire Strikes Back...</td>\n",
       "      <td>Action|Adventure|Drama|Sci-Fi|War</td>\n",
       "    </tr>\n",
       "    <tr>\n",
       "      <th>3</th>\n",
       "      <td>592</td>\n",
       "      <td>0</td>\n",
       "      <td>4.380369</td>\n",
       "      <td>Batman (1989)</td>\n",
       "      <td>Action|Adventure|Crime|Drama</td>\n",
       "    </tr>\n",
       "    <tr>\n",
       "      <th>4</th>\n",
       "      <td>1465</td>\n",
       "      <td>0</td>\n",
       "      <td>4.360483</td>\n",
       "      <td>Rosewood (1997)</td>\n",
       "      <td>Drama</td>\n",
       "    </tr>\n",
       "    <tr>\n",
       "      <th>5</th>\n",
       "      <td>3786</td>\n",
       "      <td>0</td>\n",
       "      <td>4.215225</td>\n",
       "      <td>But I'm a Cheerleader (1999)</td>\n",
       "      <td>Comedy</td>\n",
       "    </tr>\n",
       "    <tr>\n",
       "      <th>6</th>\n",
       "      <td>1377</td>\n",
       "      <td>0</td>\n",
       "      <td>4.195571</td>\n",
       "      <td>Batman Returns (1992)</td>\n",
       "      <td>Action|Adventure|Comedy|Crime</td>\n",
       "    </tr>\n",
       "    <tr>\n",
       "      <th>7</th>\n",
       "      <td>3793</td>\n",
       "      <td>0</td>\n",
       "      <td>4.152361</td>\n",
       "      <td>X-Men (2000)</td>\n",
       "      <td>Action|Sci-Fi</td>\n",
       "    </tr>\n",
       "    <tr>\n",
       "      <th>8</th>\n",
       "      <td>2115</td>\n",
       "      <td>0</td>\n",
       "      <td>4.139450</td>\n",
       "      <td>Indiana Jones and the Temple of Doom (1984)</td>\n",
       "      <td>Action|Adventure</td>\n",
       "    </tr>\n",
       "    <tr>\n",
       "      <th>9</th>\n",
       "      <td>2297</td>\n",
       "      <td>0</td>\n",
       "      <td>4.107885</td>\n",
       "      <td>What Dreams May Come (1998)</td>\n",
       "      <td>Drama|Romance</td>\n",
       "    </tr>\n",
       "    <tr>\n",
       "      <th>10</th>\n",
       "      <td>2021</td>\n",
       "      <td>0</td>\n",
       "      <td>4.061937</td>\n",
       "      <td>Dune (1984)</td>\n",
       "      <td>Fantasy|Sci-Fi</td>\n",
       "    </tr>\n",
       "    <tr>\n",
       "      <th>11</th>\n",
       "      <td>2033</td>\n",
       "      <td>0</td>\n",
       "      <td>4.018497</td>\n",
       "      <td>Black Cauldron, The (1985)</td>\n",
       "      <td>Animation|Children's</td>\n",
       "    </tr>\n",
       "    <tr>\n",
       "      <th>12</th>\n",
       "      <td>260</td>\n",
       "      <td>0</td>\n",
       "      <td>3.974113</td>\n",
       "      <td>Star Wars: Episode IV - A New Hope (1977)</td>\n",
       "      <td>Action|Adventure|Fantasy|Sci-Fi</td>\n",
       "    </tr>\n",
       "    <tr>\n",
       "      <th>13</th>\n",
       "      <td>1711</td>\n",
       "      <td>0</td>\n",
       "      <td>3.953589</td>\n",
       "      <td>Midnight in the Garden of Good and Evil (1997)</td>\n",
       "      <td>Comedy|Crime|Drama|Mystery</td>\n",
       "    </tr>\n",
       "  </tbody>\n",
       "</table>\n",
       "</div>"
      ],
      "text/plain": [
       "    movieId  userId    rating  \\\n",
       "0      2628       0  5.048930   \n",
       "1       327       0  4.624232   \n",
       "2      1196       0  4.471797   \n",
       "3       592       0  4.380369   \n",
       "4      1465       0  4.360483   \n",
       "5      3786       0  4.215225   \n",
       "6      1377       0  4.195571   \n",
       "7      3793       0  4.152361   \n",
       "8      2115       0  4.139450   \n",
       "9      2297       0  4.107885   \n",
       "10     2021       0  4.061937   \n",
       "11     2033       0  4.018497   \n",
       "12      260       0  3.974113   \n",
       "13     1711       0  3.953589   \n",
       "\n",
       "                                           movieTitle  \\\n",
       "0    Star Wars: Episode I - The Phantom Menace (1999)   \n",
       "1                                    Tank Girl (1995)   \n",
       "2   Star Wars: Episode V - The Empire Strikes Back...   \n",
       "3                                       Batman (1989)   \n",
       "4                                     Rosewood (1997)   \n",
       "5                        But I'm a Cheerleader (1999)   \n",
       "6                               Batman Returns (1992)   \n",
       "7                                        X-Men (2000)   \n",
       "8         Indiana Jones and the Temple of Doom (1984)   \n",
       "9                         What Dreams May Come (1998)   \n",
       "10                                        Dune (1984)   \n",
       "11                         Black Cauldron, The (1985)   \n",
       "12          Star Wars: Episode IV - A New Hope (1977)   \n",
       "13     Midnight in the Garden of Good and Evil (1997)   \n",
       "\n",
       "                               genres  \n",
       "0     Action|Adventure|Fantasy|Sci-Fi  \n",
       "1        Action|Comedy|Musical|Sci-Fi  \n",
       "2   Action|Adventure|Drama|Sci-Fi|War  \n",
       "3        Action|Adventure|Crime|Drama  \n",
       "4                               Drama  \n",
       "5                              Comedy  \n",
       "6       Action|Adventure|Comedy|Crime  \n",
       "7                       Action|Sci-Fi  \n",
       "8                    Action|Adventure  \n",
       "9                       Drama|Romance  \n",
       "10                     Fantasy|Sci-Fi  \n",
       "11               Animation|Children's  \n",
       "12    Action|Adventure|Fantasy|Sci-Fi  \n",
       "13         Comedy|Crime|Drama|Mystery  "
      ]
     },
     "execution_count": 58,
     "metadata": {},
     "output_type": "execute_result"
    }
   ],
   "source": [
    "recommendations"
   ]
  },
  {
   "cell_type": "markdown",
   "metadata": {},
   "source": [
    "## Entendiendo cómo se realizan las predicciones"
   ]
  },
  {
   "cell_type": "markdown",
   "metadata": {},
   "source": [
    "Vamos a entender qué descomposición se ha realizado y cómo se realizan las predicciones. \n",
    "La matriz de ratings tiene tamaño $(6041\\times3706)$ como hemos visto y en el entrenamiento se ha decidido utilizar 100 variables latentes luego la descomposición que hemos realizado es:\n",
    "&nbsp;<br>\n",
    "&nbsp;<br>\n",
    "\n",
    "$$\n",
    "{\\Large\n",
    "M_{(6041\\times 3706)} = U_{(6041\\times 100)}\\;V_{(100 \\times 3706)}\n",
    "}\n",
    "$$\n",
    "\n",
    "¿Dónde están esas matrices calculadas?"
   ]
  },
  {
   "cell_type": "code",
   "execution_count": 59,
   "metadata": {},
   "outputs": [
    {
     "data": {
      "text/plain": [
       "22387946"
      ]
     },
     "execution_count": 59,
     "metadata": {},
     "output_type": "execute_result"
    }
   ],
   "source": [
    "6041 *  3706"
   ]
  },
  {
   "cell_type": "code",
   "execution_count": 60,
   "metadata": {},
   "outputs": [
    {
     "data": {
      "text/plain": [
       "974700"
      ]
     },
     "execution_count": 60,
     "metadata": {},
     "output_type": "execute_result"
    }
   ],
   "source": [
    "100 * (6041 +  3706)"
   ]
  },
  {
   "cell_type": "code",
   "execution_count": 61,
   "metadata": {},
   "outputs": [
    {
     "data": {
      "text/plain": [
       "DataFrame[id: int, features: array<float>]"
      ]
     },
     "execution_count": 61,
     "metadata": {},
     "output_type": "execute_result"
    }
   ],
   "source": [
    "finalModel.itemFactors"
   ]
  },
  {
   "cell_type": "code",
   "execution_count": 62,
   "metadata": {},
   "outputs": [
    {
     "data": {
      "text/plain": [
       "DataFrame[id: int, features: array<float>]"
      ]
     },
     "execution_count": 62,
     "metadata": {},
     "output_type": "execute_result"
    }
   ],
   "source": [
    "finalModel.userFactors"
   ]
  },
  {
   "cell_type": "code",
   "execution_count": 63,
   "metadata": {},
   "outputs": [
    {
     "data": {
      "text/plain": [
       "100"
      ]
     },
     "execution_count": 63,
     "metadata": {},
     "output_type": "execute_result"
    }
   ],
   "source": [
    "len(finalModel.itemFactors.first()['features'])"
   ]
  },
  {
   "cell_type": "code",
   "execution_count": 64,
   "metadata": {},
   "outputs": [
    {
     "data": {
      "text/plain": [
       "100"
      ]
     },
     "execution_count": 64,
     "metadata": {},
     "output_type": "execute_result"
    }
   ],
   "source": [
    "len(finalModel.userFactors.first()['features'])"
   ]
  },
  {
   "cell_type": "code",
   "execution_count": 65,
   "metadata": {},
   "outputs": [
    {
     "data": {
      "text/plain": [
       "3706"
      ]
     },
     "execution_count": 65,
     "metadata": {},
     "output_type": "execute_result"
    }
   ],
   "source": [
    "finalModel.itemFactors.count()"
   ]
  },
  {
   "cell_type": "code",
   "execution_count": 66,
   "metadata": {},
   "outputs": [
    {
     "data": {
      "text/plain": [
       "6041"
      ]
     },
     "execution_count": 66,
     "metadata": {},
     "output_type": "execute_result"
    }
   ],
   "source": [
    "finalModel.userFactors.count()"
   ]
  },
  {
   "cell_type": "markdown",
   "metadata": {},
   "source": [
    "Como hemos visto el objeto `finalModel` además contiene varias funciones para hacer las predicciones, pero vamos a hacerlo a mano para entender cómo funciona algebráicamente. "
   ]
  },
  {
   "cell_type": "markdown",
   "metadata": {},
   "source": [
    "Nueso id de usuario es el 0 así que podemos quedarnos con la fila de la matriz $U$ que hace referencia a nuestro usuario:"
   ]
  },
  {
   "cell_type": "code",
   "execution_count": 67,
   "metadata": {},
   "outputs": [
    {
     "data": {
      "text/plain": [
       "array([ 0.32979172,  0.36902419,  0.5841791 , -0.53383267,  0.22992346,\n",
       "        0.34272107, -0.25297165, -0.23842192,  0.17236459,  0.09003194,\n",
       "       -0.03180465,  0.18773952,  0.23166509, -0.14456429, -0.07406183,\n",
       "        0.28490496, -0.25527915,  0.06423634, -0.29885006, -0.12479928,\n",
       "        0.20707105, -0.22934406,  0.11501134, -0.09217511, -0.02077647,\n",
       "        0.29334366,  0.30267996, -0.55899799,  0.3187871 , -0.07115725,\n",
       "       -0.22504982,  0.11304507,  0.70787483,  0.07149173, -0.01693568,\n",
       "       -0.27206326, -0.17124835, -0.15900284,  0.15195943,  0.16602218,\n",
       "        0.08029862,  0.09966341,  0.09538151,  0.26488343,  0.41508421,\n",
       "       -0.04243556, -0.32851589,  0.020768  , -0.07434284,  0.12231325,\n",
       "       -0.14042556, -0.21324213, -0.08379763, -0.12333025, -0.28026763,\n",
       "        0.0207203 , -0.75072771, -0.07026741,  0.42198446, -0.33457816,\n",
       "        0.12093792,  0.20755197,  0.1624175 ,  0.08590674,  0.07004281,\n",
       "       -0.62131387, -0.27873215,  0.06122407,  0.22594926, -0.12227462,\n",
       "        0.5477314 , -0.10575647,  0.04202196,  0.11291812,  0.13121933,\n",
       "       -0.01651534,  0.00924809, -0.10036127,  0.18710452, -0.09593993,\n",
       "        0.19018275,  0.43996322,  0.03306251,  0.24646361,  0.02323174,\n",
       "       -0.09678524, -0.09106404,  0.03338283,  0.11310323,  0.26264328,\n",
       "       -0.21628746, -0.14936371,  0.25731614, -0.35012251,  0.03852744,\n",
       "        0.0275584 , -0.06976018,  0.17519528,  0.40129098,  0.08063616])"
      ]
     },
     "execution_count": 67,
     "metadata": {},
     "output_type": "execute_result"
    }
   ],
   "source": [
    "user_feature = np.array(finalModel.userFactors.filter(\"\"\" id==0 \"\"\").first()['features'])\n",
    "user_feature"
   ]
  },
  {
   "cell_type": "markdown",
   "metadata": {},
   "source": [
    "Recuperamos nuestra primera recomendación:"
   ]
  },
  {
   "cell_type": "code",
   "execution_count": 68,
   "metadata": {},
   "outputs": [
    {
     "data": {
      "text/html": [
       "<div>\n",
       "<style scoped>\n",
       "    .dataframe tbody tr th:only-of-type {\n",
       "        vertical-align: middle;\n",
       "    }\n",
       "\n",
       "    .dataframe tbody tr th {\n",
       "        vertical-align: top;\n",
       "    }\n",
       "\n",
       "    .dataframe thead th {\n",
       "        text-align: right;\n",
       "    }\n",
       "</style>\n",
       "<table border=\"1\" class=\"dataframe\">\n",
       "  <thead>\n",
       "    <tr style=\"text-align: right;\">\n",
       "      <th></th>\n",
       "      <th>movieId</th>\n",
       "      <th>userId</th>\n",
       "      <th>rating</th>\n",
       "      <th>movieTitle</th>\n",
       "      <th>genres</th>\n",
       "    </tr>\n",
       "  </thead>\n",
       "  <tbody>\n",
       "    <tr>\n",
       "      <th>0</th>\n",
       "      <td>2628</td>\n",
       "      <td>0</td>\n",
       "      <td>5.04893</td>\n",
       "      <td>Star Wars: Episode I - The Phantom Menace (1999)</td>\n",
       "      <td>Action|Adventure|Fantasy|Sci-Fi</td>\n",
       "    </tr>\n",
       "  </tbody>\n",
       "</table>\n",
       "</div>"
      ],
      "text/plain": [
       "   movieId  userId   rating                                        movieTitle  \\\n",
       "0     2628       0  5.04893  Star Wars: Episode I - The Phantom Menace (1999)   \n",
       "\n",
       "                            genres  \n",
       "0  Action|Adventure|Fantasy|Sci-Fi  "
      ]
     },
     "execution_count": 68,
     "metadata": {},
     "output_type": "execute_result"
    }
   ],
   "source": [
    "recommendations.head(1)"
   ]
  },
  {
   "cell_type": "markdown",
   "metadata": {},
   "source": [
    "Extraemos de la columna $V$ la columna correspondiente con esta película"
   ]
  },
  {
   "cell_type": "code",
   "execution_count": 69,
   "metadata": {},
   "outputs": [
    {
     "data": {
      "text/plain": [
       "array([ 0.11333473,  0.37873894, -0.00250778, -0.30390206,  0.89733988,\n",
       "        0.37543574, -0.33527046,  0.31515613, -0.16556831, -0.25413299,\n",
       "        0.11919904,  0.07154579,  0.12066976, -0.09779519,  0.04108936,\n",
       "        0.34447846, -0.60799289, -0.43334195, -0.38065094,  0.29641762,\n",
       "       -0.38296163, -0.02719031, -0.04107076,  0.09960482, -0.37185633,\n",
       "       -0.24337354,  0.54577518, -0.40692151,  0.30871862,  0.31748164,\n",
       "        0.15196776,  0.19511372,  0.89528084,  0.26868919, -0.38777366,\n",
       "       -0.03202303, -0.22717068, -0.16980377, -0.06075339,  0.85360372,\n",
       "       -0.44064128,  0.19398573,  0.83698028,  0.00733232,  0.23501657,\n",
       "        0.71009415,  0.12128538,  0.06582934,  0.53402829,  0.14035062,\n",
       "       -0.548338  ,  0.09853847, -0.20872313,  0.54332489,  0.05802249,\n",
       "       -0.13475439, -1.06770158, -0.35593227,  0.02224126,  0.33024111,\n",
       "        0.2160878 ,  0.29653436, -0.00614211,  0.30231351, -0.07439789,\n",
       "       -0.94687593, -0.20702834, -0.34044313,  0.74359393, -0.74968225,\n",
       "        0.85538703, -0.30727273,  0.37436885,  0.091815  , -0.23236324,\n",
       "        0.30850655, -0.06075727,  0.60813534,  0.28076625, -0.21055226,\n",
       "       -0.24933572,  0.88343984,  0.07161826, -0.32470062,  0.41590729,\n",
       "        0.26221833,  0.05074897,  0.12962908,  0.34309539,  0.29859921,\n",
       "        0.48187011,  0.18232775,  0.24529576, -0.57928246, -0.13392396,\n",
       "        0.02187767,  0.63587189, -0.17440411,  0.52167153, -0.18191291])"
      ]
     },
     "execution_count": 69,
     "metadata": {},
     "output_type": "execute_result"
    }
   ],
   "source": [
    "product_features = np.array(\n",
    "    finalModel.itemFactors\n",
    "    .filter(F.col('id') == int(recommendations.movieId[0]))\n",
    "    .first()['features']\n",
    ")\n",
    "product_features"
   ]
  },
  {
   "cell_type": "markdown",
   "metadata": {},
   "source": [
    "Para terminar, es fácil de comprobar que matemáticamente:\n",
    "$$\n",
    "{\\Large\n",
    "m_{ij} =\\; <u_i, v_j>\n",
    "}\n",
    "$$\n",
    "\n",
    "Es decir, el rating del usuario $i$ y el item $j$ es el producto escalar de la fila  $i$-esima de la matriz $U$ y la columna $j$-esima de la matriz $V$"
   ]
  },
  {
   "cell_type": "code",
   "execution_count": 70,
   "metadata": {},
   "outputs": [
    {
     "data": {
      "text/plain": [
       "5.048931740154047"
      ]
     },
     "execution_count": 70,
     "metadata": {},
     "output_type": "execute_result"
    }
   ],
   "source": [
    "np.dot(user_feature, product_features)"
   ]
  },
  {
   "cell_type": "markdown",
   "metadata": {},
   "source": [
    "### Guardamos las dos matrices de manera local"
   ]
  },
  {
   "cell_type": "markdown",
   "metadata": {},
   "source": [
    "Para terminar vamos a guardar las dos matrices de manera local para poder usarlas más tarde"
   ]
  },
  {
   "cell_type": "code",
   "execution_count": 71,
   "metadata": {},
   "outputs": [],
   "source": [
    "item_factors = (\n",
    "\n",
    "    finalModel\n",
    "    .itemFactors\n",
    "\n",
    ").toPandas()"
   ]
  },
  {
   "cell_type": "code",
   "execution_count": 72,
   "metadata": {},
   "outputs": [],
   "source": [
    "item_factors.to_json('item_factors.json', orient='records')"
   ]
  },
  {
   "cell_type": "code",
   "execution_count": 73,
   "metadata": {},
   "outputs": [],
   "source": [
    "user_factors = (\n",
    "\n",
    "    finalModel\n",
    "    .userFactors\n",
    "\n",
    ").toPandas()"
   ]
  },
  {
   "cell_type": "code",
   "execution_count": 74,
   "metadata": {},
   "outputs": [],
   "source": [
    "user_factors.to_json('user_factors.json', orient='records')"
   ]
  },
  {
   "cell_type": "markdown",
   "metadata": {},
   "source": [
    "## Ejercicio\n",
    "\n",
    "Crear un sistema de recomendaciones para los datos de **last.fm**"
   ]
  },
  {
   "cell_type": "code",
   "execution_count": 75,
   "metadata": {},
   "outputs": [],
   "source": [
    "import os\n",
    "import sys\n",
    "import pandas as pd\n",
    "import numpy as np\n",
    "\n",
    "from pyspark import SparkConf\n",
    "from pyspark.sql import SparkSession\n",
    "import pyspark.sql.functions as F\n",
    "import pyspark.sql.types as T\n",
    "\n",
    "# Cargamos las funciones definidas en el archivo funciones_auxiliares.py\n",
    "from funciones_auxiliares import *"
   ]
  },
  {
   "cell_type": "code",
   "execution_count": 76,
   "metadata": {},
   "outputs": [],
   "source": [
    "conf = (\n",
    "\n",
    "    SparkConf()\n",
    "    .setAppName(u\"Sistemas de Recomendación\")\n",
    "    .set(\"spark.executor.memory\", \"4g\")\n",
    "    .set(\"spark.executor.cores\", \"2\")\n",
    "    .set(\"spark.default.parallelism\", \"800\")\n",
    "    .set(\"spark.sql.shuffle.partitions\", \"800\")\n",
    "    .set(\"spark.submit.pyFiles\", \"funciones_auxiliares.py\")\n",
    "\n",
    ")"
   ]
  },
  {
   "cell_type": "code",
   "execution_count": 77,
   "metadata": {},
   "outputs": [],
   "source": [
    "spark = (\n",
    "\n",
    "    SparkSession.builder\n",
    "    .config(conf=conf)\n",
    "    .enableHiveSupport()\n",
    "    .getOrCreate()\n",
    "\n",
    ")"
   ]
  },
  {
   "cell_type": "markdown",
   "metadata": {},
   "source": [
    "<center>\n",
    "\n",
    "![image](../img/logo_lastfm.png)\n",
    "    \n",
    "</center>\n",
    "\n",
    "http://ocelma.net/MusicRecommendationDataset/lastfm-360K.html"
   ]
  },
  {
   "cell_type": "markdown",
   "metadata": {},
   "source": [
    "https://musicbrainz.org"
   ]
  },
  {
   "cell_type": "code",
   "execution_count": 78,
   "metadata": {},
   "outputs": [
    {
     "name": "stdout",
     "output_type": "stream",
     "text": [
      "00000c289a1829a808ac09c00daf10bc3c4e223b\t3bd73256-3905-4f3a-97e2-8b341527f805\tbetty blowtorch\t2137\n",
      "00000c289a1829a808ac09c00daf10bc3c4e223b\tf2fb0ff0-5679-42ec-a55c-15109ce6e320\tdie Ärzte\t1099\n",
      "00000c289a1829a808ac09c00daf10bc3c4e223b\tb3ae82c2-e60b-4551-a76d-6620f1b456aa\tmelissa etheridge\t897\n",
      "00000c289a1829a808ac09c00daf10bc3c4e223b\t3d6bbeb7-f90e-4d10-b440-e153c0d10b53\telvenking\t717\n",
      "00000c289a1829a808ac09c00daf10bc3c4e223b\tbbd2ffd7-17f4-4506-8572-c1ea58c3f9a8\tjuliette & the licks\t706\n",
      "00000c289a1829a808ac09c00daf10bc3c4e223b\t8bfac288-ccc5-448d-9573-c33ea2aa5c30\tred hot chili peppers\t691\n",
      "00000c289a1829a808ac09c00daf10bc3c4e223b\t6531c8b1-76ea-4141-b270-eb1ac5b41375\tmagica\t545\n",
      "00000c289a1829a808ac09c00daf10bc3c4e223b\t21f3573f-10cf-44b3-aeaa-26cccd8448b5\tthe black dahlia murder\t507\n",
      "00000c289a1829a808ac09c00daf10bc3c4e223b\tc5db90c4-580d-4f33-b364-fbaa5a3a58b5\tthe murmurs\t424\n",
      "00000c289a1829a808ac09c00daf10bc3c4e223b\t0639533a-0402-40ba-b6e0-18b067198b73\tlunachicks\t403\n"
     ]
    }
   ],
   "source": [
    "!head ../datos/lastfm-dataset-360K/usersha1-artmbid-artname-plays.tsv "
   ]
  },
  {
   "cell_type": "code",
   "execution_count": 79,
   "metadata": {},
   "outputs": [],
   "source": [
    "esquema = T.StructType([\n",
    "\n",
    "    T.StructField('user_id',T.StringType(),True),\n",
    "    T.StructField('artist_id',T.StringType(),True),\n",
    "    T.StructField('artist_name',T.StringType(),True),\n",
    "    T.StructField('plays',T.DoubleType(),True)\n",
    "\n",
    "])"
   ]
  },
  {
   "cell_type": "code",
   "execution_count": 80,
   "metadata": {},
   "outputs": [],
   "source": [
    "plays = (\n",
    "\n",
    "    spark.read\n",
    "    .csv('../datos/lastfm-dataset-360K/usersha1-artmbid-artname-plays.tsv', schema=esquema, sep='\\t')\n",
    "    .na.drop()\n",
    "\n",
    ")"
   ]
  },
  {
   "cell_type": "markdown",
   "metadata": {},
   "source": [
    "#### Pistas y consejos"
   ]
  },
  {
   "cell_type": "markdown",
   "metadata": {},
   "source": [
    "Para agilizar el proceso, podemos usar una versión \"pequeña\" que se os facilita:"
   ]
  },
  {
   "cell_type": "code",
   "execution_count": 81,
   "metadata": {},
   "outputs": [],
   "source": [
    "plays = spark.read.parquet('../datos/lastfm_mini.parquet')"
   ]
  },
  {
   "cell_type": "code",
   "execution_count": 82,
   "metadata": {},
   "outputs": [
    {
     "name": "stdout",
     "output_type": "stream",
     "text": [
      "+--------------------+--------------------+-----------+-----+\n",
      "|             user_id|           artist_id|artist_name|plays|\n",
      "+--------------------+--------------------+-----------+-----+\n",
      "|8358173502fcfd30b...|382f1005-e9ab-468...|       2pac| 54.0|\n",
      "|f434362a46b823536...|382f1005-e9ab-468...|       2pac|545.0|\n",
      "|135750e1a2107ae20...|382f1005-e9ab-468...|       2pac| 54.0|\n",
      "|41a072560f38290a2...|382f1005-e9ab-468...|       2pac|201.0|\n",
      "|57da4f4db6fc10eb7...|382f1005-e9ab-468...|       2pac| 86.0|\n",
      "|3f51326aec6893f15...|382f1005-e9ab-468...|       2pac| 95.0|\n",
      "|ac4f934779afac87b...|382f1005-e9ab-468...|       2pac|163.0|\n",
      "|858ebba231d365236...|382f1005-e9ab-468...|       2pac| 99.0|\n",
      "|24efaa9b0170cda92...|382f1005-e9ab-468...|       2pac| 71.0|\n",
      "|dd5b2d9f5d10d428d...|382f1005-e9ab-468...|       2pac| 18.0|\n",
      "|7550b588c297f6792...|382f1005-e9ab-468...|       2pac| 47.0|\n",
      "|662eee6265ed61f4a...|382f1005-e9ab-468...|       2pac|257.0|\n",
      "|6e7acb2ec69628dc6...|382f1005-e9ab-468...|       2pac|388.0|\n",
      "|45d40681c0d4c0369...|382f1005-e9ab-468...|       2pac|253.0|\n",
      "|f1953ffa668754e75...|382f1005-e9ab-468...|       2pac|266.0|\n",
      "|99138233c799d01ca...|382f1005-e9ab-468...|       2pac|254.0|\n",
      "|9724abe785461da87...|382f1005-e9ab-468...|       2pac| 56.0|\n",
      "|92e15210a455c8c5d...|382f1005-e9ab-468...|       2pac| 28.0|\n",
      "|fc7b7247c5f5c6e19...|382f1005-e9ab-468...|       2pac| 96.0|\n",
      "|ac06a4a3bd8ab5f3b...|382f1005-e9ab-468...|       2pac| 74.0|\n",
      "+--------------------+--------------------+-----------+-----+\n",
      "only showing top 20 rows\n",
      "\n"
     ]
    }
   ],
   "source": [
    "plays.show()"
   ]
  },
  {
   "cell_type": "markdown",
   "metadata": {},
   "source": [
    "El siguiente código puede ser de utilidad para usar con el `ALS` visto:"
   ]
  },
  {
   "cell_type": "code",
   "execution_count": 83,
   "metadata": {},
   "outputs": [],
   "source": [
    "from pyspark.ml.feature import StringIndexer\n",
    "from pyspark.ml.pipeline import Pipeline\n",
    "\n",
    "conversores = [\n",
    "\n",
    "    StringIndexer(inputCol='user_id', outputCol='user_idx'),\n",
    "    StringIndexer(inputCol='artist_id', outputCol='artist_idx')\n",
    "\n",
    "]"
   ]
  },
  {
   "cell_type": "code",
   "execution_count": 84,
   "metadata": {},
   "outputs": [],
   "source": [
    "spark.stop()"
   ]
  }
 ],
 "metadata": {
  "kernelspec": {
   "display_name": "Python 3 (ipykernel)",
   "language": "python",
   "name": "python3"
  },
  "language_info": {
   "codemirror_mode": {
    "name": "ipython",
    "version": 3
   },
   "file_extension": ".py",
   "mimetype": "text/x-python",
   "name": "python",
   "nbconvert_exporter": "python",
   "pygments_lexer": "ipython3",
   "version": "3.7.13"
  }
 },
 "nbformat": 4,
 "nbformat_minor": 4
}
