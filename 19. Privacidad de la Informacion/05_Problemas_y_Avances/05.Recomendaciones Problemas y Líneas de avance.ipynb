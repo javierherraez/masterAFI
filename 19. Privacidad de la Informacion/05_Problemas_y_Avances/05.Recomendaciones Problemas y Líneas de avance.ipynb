{
 "cells": [
  {
   "cell_type": "markdown",
   "metadata": {},
   "source": [
    "## Problemas comúnes en las recomendaciones\n",
    "\n",
    "### El problema de *Cold Start*\n",
    "\n",
    "Conocemos como problema de [*cold start*](https://en.wikipedia.org/wiki/Cold_start) o de arranque frío a cuando tenemos que hacer recomendaciones para un nuevo **usuario o item** del que no tenemos datos. Al no tener datos no podemos usarlo en la factorización de matrices, veamos algunas de las posibles estratégias a utilizar:\n",
    "\n",
    "\n",
    "* Realizar unas pequeñas preguntas sobre sus gustos al iniciar\n",
    "\n",
    "\n",
    "* No usar filtros colaborativos, como hemos visto existen otras ténicas para recomendador, por ejemplo usar la metadada de los contenidos.\n",
    "\n",
    "\n",
    "* ¡Imaginación!\n",
    "\n",
    "<br/>\n",
    "<br/>\n",
    "\n",
    "### El problema de contexto\n",
    "\n",
    "El contexto importa, no es lo mismo ver una película a las 10 de la mañana que a las 23 de la noche, o escuchar múscia en el coche que corriendo, o comprar en navidades que en verano...\n",
    "\n",
    "![](../img/franjas.png)\n",
    "\n",
    "<br/>\n",
    "<br/>\n",
    "\n",
    "### Recomendaciones híbridas\n",
    "\n",
    "\n",
    "![](../img/hibrido.png)\n",
    "\n",
    "<br/>\n",
    "<br/>\n",
    "\n",
    "## Extendiendo la factoriación de matrices: *Factorization Machines*\n",
    "\n",
    "\n",
    "#### Tensores y contextos\n",
    "![](../img/tensores.png)\n",
    "\n",
    "<br/>\n",
    "<br/>\n",
    "\n",
    "#### Factorización de tensores\n",
    "![](../img/tensor_fact.png)\n",
    "\n",
    "<br/>\n",
    "<br/>\n",
    "\n",
    "#### Más información y links de utilidad:\n",
    "\n",
    "* https://getstream.io/blog/factorization-recommendation-systems/\n",
    "* https://www.slideshare.net/KoheiHayashi1/talk-in-jokyonokai-12989223\n",
    "* https://nipunbatra.github.io/blog/index.html\n",
    "* https://link.springer.com/chapter/10.1007/978-0-387-85820-3_7"
   ]
  }
 ],
 "metadata": {
  "kernelspec": {
   "display_name": "Python 3 (ipykernel)",
   "language": "python",
   "name": "python3"
  },
  "language_info": {
   "codemirror_mode": {
    "name": "ipython",
    "version": 3
   },
   "file_extension": ".py",
   "mimetype": "text/x-python",
   "name": "python",
   "nbconvert_exporter": "python",
   "pygments_lexer": "ipython3",
   "version": "3.7.11"
  }
 },
 "nbformat": 4,
 "nbformat_minor": 4
}
