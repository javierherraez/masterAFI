{
 "cells": [
  {
   "cell_type": "markdown",
   "metadata": {},
   "source": [
    "# Introducción a Python - Sintáxis y elementos básicos"
   ]
  },
  {
   "cell_type": "markdown",
   "metadata": {},
   "source": [
    "En este apartado del curso, se van a repasar conceptos básicos sobre la sintáxis de Python. Para ello, vamos a empezar con un ejemplo de código Python. ¿Qué imprimirá si lo ejecutamos? "
   ]
  },
  {
   "cell_type": "code",
   "execution_count": 1,
   "metadata": {},
   "outputs": [
    {
     "name": "stdout",
     "output_type": "stream",
     "text": [
      "12\n",
      "Hola Mundo\n"
     ]
    }
   ],
   "source": [
    "entero = 34 - 23 # Un comentario\n",
    "cadena = \"Hola\" # Otro comentario\n",
    "decimal = 3.45\n",
    "if decimal == 3.45 or cadena == \"Hola\":\n",
    "    entero = entero + 1\n",
    "    cadena = cadena + \" Mundo\" # Concatenación de cadenas de caracteres\n",
    "print(entero)\n",
    "print(cadena)"
   ]
  },
  {
   "cell_type": "markdown",
   "metadata": {},
   "source": [
    "Para comprender bien el script, vamos a cubrir los elementos más básicos de la sintáxis de Python."
   ]
  },
  {
   "cell_type": "markdown",
   "metadata": {},
   "source": [
    "### Comentarios"
   ]
  },
  {
   "cell_type": "markdown",
   "metadata": {},
   "source": [
    "<ul>\n",
    "<li>Para introducir un comentario en el código de Python se debe preceder el mismo del carácter \"#\".</li>\n",
    "<li>Se pueden comentar líneas completas (carácter \"#\" al principio de la línea) o líneas parciales (caracter \"#\" detrás de un fragmento de código).</li>\n",
    "<li>Una vez introducido el carácter \"#\" el comentario llegará hasta el final de la línea.</li>\n",
    "</ul>"
   ]
  },
  {
   "cell_type": "code",
   "execution_count": null,
   "metadata": {},
   "outputs": [],
   "source": [
    "# Esto es un comentario que no se evaluará\n",
    "x = 15  # Esto es otro comentario que tampoco se evaluará"
   ]
  },
  {
   "cell_type": "markdown",
   "metadata": {},
   "source": [
    "### Espacios en blanco"
   ]
  },
  {
   "cell_type": "markdown",
   "metadata": {},
   "source": [
    "<ul>\n",
    "<li>Los espacios en blanco y los saltos de línea <b>tienen significado</b> en Python.</li>\n",
    "<li>Un salto de línea marca el final de una sentencia. No se usa \";\" al final de las líneas (como en Java o C).</li>\n",
    "<li>Se usa \"\\\" para indicar que una sentencia ocupará varias líneas (aunque no es buena costumbre).</li>\n",
    "<li>No se usan marcas visibles para la delimitación de bloques (como \"{}\" en Java o C) sino el nivel de indentación.\n",
    "<ul>\n",
    "<li>La primera línea con un nivel mayor de indentación especifica el comienzo de un bloque.</li>\n",
    "<li>La primera línea con un nivel menor de indentación especifica el fin de un bloque.</li>\n",
    "</ul>\n",
    "</li>\n",
    "</ul>"
   ]
  },
  {
   "cell_type": "code",
   "execution_count": null,
   "metadata": {},
   "outputs": [],
   "source": [
    "variable_1 = 10                          # Un salto de linea especifica el final de sentencia\n",
    "variable_2 = \"Soy una asignación\" + \\\n",
    "             \" muy larga\"                # Un \\ indica que la sentencia continúa en la siguiente linea (mala práctica)\n",
    "if variable_1 == 10:\n",
    "    variable_1 = 15                      # Una mayor indentación indica el inicio de un bloque                     \n",
    "    variable_2 = \"Ya no lo soy\"\n",
    "variable_2                               # Una menor indentación indica el fin de un bloque"
   ]
  },
  {
   "cell_type": "markdown",
   "metadata": {},
   "source": [
    "### Variables"
   ]
  },
  {
   "cell_type": "markdown",
   "metadata": {},
   "source": [
    "<ul>\n",
    "<li>Pueden verse como un nombre dado a una referencia a un objeto/valor.</li>\n",
    "<li>Su nombre puede contener:\n",
    "<ul>\n",
    "<li>Carácteres alfanuméricos: a-z, A-Z, 0-9</li>\n",
    "<li>Guión bajo: _</li>\n",
    "</ul>\n",
    "</li>\n",
    "<li>No se pueden usar ciertas palabras reservadas:\n",
    "<ul>\n",
    "<li>and, as, assert, break, class, continue, def, del, elif, else, except, \n",
    "  exec, finally, for, from, global, if, import, in, is, lambda, not, or,\n",
    "  pass, print, raise, return, try, while, with, yield</li>\n",
    "</ul>\n",
    "</li>\n",
    "<li>Aunque no hay normas, las \"buenas prácticas\" dicen que los nombres de variables deben:\n",
    "<ul>\n",
    "<li>Empezar con minúscula: el inicio con mayúsculas se reserva para la declaración de clases (programación orientada a objetos).\n",
    "<li>Autoexplicativos: nombres como cod_contrato, cod_persona, saldo, ingresos_acumulados frente a x, y z.</li>\n",
    "</ul>"
   ]
  },
  {
   "cell_type": "code",
   "execution_count": null,
   "metadata": {},
   "outputs": [],
   "source": [
    "cod_contrato = \"12345678890000000000\"   # Asignación correcta\n",
    "Persona = \"99999999-Q\"                  # Asignación válida aunque en contra de buenas prácticas\n",
    "x = 3.45                                # Asignación válida aunque en contra de buenas prácticas"
   ]
  },
  {
   "cell_type": "markdown",
   "metadata": {},
   "source": [
    "### Asignaciones"
   ]
  },
  {
   "cell_type": "markdown",
   "metadata": {},
   "source": [
    "<ul>\n",
    "<li>Una asignación es el establecimiento de un nombre a una referencia a un objeto/valor</li>\n",
    "<li>La asignación se realiza mediante el operador \"=\"</li>\n",
    "<li>Las variables se crean en la primera asignación de valor. No es necesario declararlas de forma previa como ocurre en lenguajes como Java, C, etc.</li>\n",
    "<li>Python infiere el tipo de las variables a partir del valor de la primera asignación.</li>\n",
    "<li>Las variables no se destruyen. Cuando dejan de ser usadas el <i>garbage collector</i> las elimina automáticamente.</li>\n",
    "<li>Se puede hacer asignación múltiple en una misma sentencia.</li>\n",
    "<li>Si intentamos utilizar una variable no creada anteriormente obtendremos un error</li>\n",
    "</ul>"
   ]
  },
  {
   "cell_type": "code",
   "execution_count": null,
   "metadata": {},
   "outputs": [],
   "source": [
    "cod_contrato = \"1234567890000000000\"             # Creación de una variable cod_contrato de tipo cadena de caracteres\n",
    "num_hijos = 5                                    # Creación de una variable num_hijos de tipo entero\n",
    "saldo = 12345.67                                 # Creación de una variable saldo de tipo decimal\n",
    "cod_contrato_2 = cod_contrato                    # Creación de una variable cod_contrato_2 con el mismo valor y tipo que cod_contrato\n",
    "cod_titular_1, cod_titular_2 = \"Pepe\", \"María\"   # Creación múltiple de variables en una única sentencia"
   ]
  },
  {
   "cell_type": "markdown",
   "metadata": {},
   "source": [
    "### Lectura de la entrada estándar"
   ]
  },
  {
   "cell_type": "markdown",
   "metadata": {},
   "source": [
    "<ul>\n",
    "<li>Para leer cualquier valor del teclado se utiliza la función de Python <b>input</b>.</li>\n",
    "</ul>"
   ]
  },
  {
   "cell_type": "code",
   "execution_count": null,
   "metadata": {},
   "outputs": [],
   "source": [
    "entrada = input(\"--> \")\n",
    "\"Has escrito: \" + entrada"
   ]
  },
  {
   "cell_type": "markdown",
   "metadata": {},
   "source": [
    "### Escritura a la salida estándar"
   ]
  },
  {
   "cell_type": "markdown",
   "metadata": {},
   "source": [
    "<ul>\n",
    "<li>Para imprimir cualquier valor o cualquier variable por pantalla se utiliza la función de Python <b>print</b>.</li>\n",
    "</ul>"
   ]
  },
  {
   "cell_type": "code",
   "execution_count": null,
   "metadata": {},
   "outputs": [],
   "source": [
    "print(\"Esto es una prueba\")\n",
    "cod_contrato = \"1234567890000000000\"\n",
    "print(cod_contrato)"
   ]
  },
  {
   "cell_type": "markdown",
   "metadata": {},
   "source": [
    "### Tipos de dato"
   ]
  },
  {
   "cell_type": "markdown",
   "metadata": {},
   "source": [
    "<ul>\n",
    "<li>Cuatro tipos básicos:\n",
    "<ul>\n",
    "<li>Cadenas de caracteres o <i>str</i>: Se especifican entre comillas simples, dobles o triples</li>\n",
    "<li>Valores numéricos enteros o <i>int</i>: No incluyen punto decimal</li>\n",
    "<li>Valores numéricos decimales o <i>float</i>: Incluyen punto decimal</li>\n",
    "<li>Valores booleanos o <i>bool</i>: True / False (case sensitive)</li>\n",
    "</ul>\n",
    "<li>Para conocer el tipo de una variable se puede usar la función de Python <b>type</b>.</li>\n",
    "</ul>"
   ]
  },
  {
   "cell_type": "code",
   "execution_count": null,
   "metadata": {},
   "outputs": [],
   "source": [
    "cadena = \"Esto es una cadena\"\n",
    "cadena = 'Esto también es una cadena'\n",
    "cadena = \"\"\"Incluso esto es\n",
    "una cadena\"\"\"\n",
    "type(cadena)"
   ]
  },
  {
   "cell_type": "code",
   "execution_count": null,
   "metadata": {},
   "outputs": [],
   "source": [
    "entero = 10\n",
    "type(entero)"
   ]
  },
  {
   "cell_type": "code",
   "execution_count": null,
   "metadata": {},
   "outputs": [],
   "source": [
    "decimal = 10.1\n",
    "type(decimal)"
   ]
  },
  {
   "cell_type": "code",
   "execution_count": null,
   "metadata": {},
   "outputs": [],
   "source": [
    "booleano = True\n",
    "type(booleano)"
   ]
  },
  {
   "cell_type": "markdown",
   "metadata": {},
   "source": [
    "### Casting o modificación manual de tipos"
   ]
  },
  {
   "cell_type": "markdown",
   "metadata": {},
   "source": [
    "<ul>\n",
    "<li>Se puede modificar explícitamente el tipo de dato de una variable.</li>\n",
    "<li>Para ello se utilizan las funciones de Python: <b>str</b>, <b>int</b>, <b>float</b> y <b>bool</b>.</li>\n",
    "<li>CUIDADO: Hay castings que no tienen sentido</li>\n",
    "</ul>"
   ]
  },
  {
   "cell_type": "code",
   "execution_count": null,
   "metadata": {},
   "outputs": [],
   "source": [
    "str(entero)         # Conversión del valor 10 a la cadena \"10\""
   ]
  },
  {
   "cell_type": "code",
   "execution_count": null,
   "metadata": {},
   "outputs": [],
   "source": [
    "int(decimal)        # Conversión de float a int, con truncado de decimales"
   ]
  },
  {
   "cell_type": "code",
   "execution_count": null,
   "metadata": {},
   "outputs": [],
   "source": [
    "float(booleano)     # Conversión de booleanos a valores numéricos 0 y 1"
   ]
  },
  {
   "cell_type": "code",
   "execution_count": null,
   "metadata": {},
   "outputs": [],
   "source": [
    "float(cadena)       # Conversión no válida de una cadena a un número decimal"
   ]
  },
  {
   "cell_type": "markdown",
   "metadata": {},
   "source": [
    "### None - Valor nulo"
   ]
  },
  {
   "cell_type": "markdown",
   "metadata": {},
   "source": [
    "<ul>\n",
    "<li>Para crear una variable \"vacía\", es decir, sin valor se le asigna la palabra reservada <b>None</b>.</li>\n",
    "<li>Útil para eliminar referencias y que el <i>garbage collector</i> libere memoria, pero no suele ser necesario</li>\n",
    "</ul>"
   ]
  },
  {
   "cell_type": "code",
   "execution_count": null,
   "metadata": {},
   "outputs": [],
   "source": [
    "vacio = None\n",
    "vacio"
   ]
  },
  {
   "cell_type": "code",
   "execution_count": null,
   "metadata": {},
   "outputs": [],
   "source": [
    "type(vacio)"
   ]
  },
  {
   "cell_type": "markdown",
   "metadata": {},
   "source": [
    "### Operadores básicos"
   ]
  },
  {
   "cell_type": "markdown",
   "metadata": {},
   "source": [
    "<ul>\n",
    "<li>Al igual que en otros lenguajes de programación tenemos un conjunto diverso de operadores para aplicar a variables y valores:\n",
    "<ul>\n",
    "<li>Aritméticos: +, -, *, /, **, %, //</li>\n",
    "<li>Lógicos: and, or, not</li>\n",
    "<li>Comparativos: ==, !=, <>, >, <, >=, <=</li>\n",
    "<li>Asignación: =, +=, -=. *=, /=, **=, %=, //=</li>\n",
    "</ul>"
   ]
  },
  {
   "cell_type": "code",
   "execution_count": null,
   "metadata": {},
   "outputs": [],
   "source": []
  }
 ],
 "metadata": {
  "kernelspec": {
   "display_name": "Python 3",
   "language": "python",
   "name": "python3"
  },
  "language_info": {
   "codemirror_mode": {
    "name": "ipython",
    "version": 3
   },
   "file_extension": ".py",
   "mimetype": "text/x-python",
   "name": "python",
   "nbconvert_exporter": "python",
   "pygments_lexer": "ipython3",
   "version": "3.8.8"
  },
  "varInspector": {
   "cols": {
    "lenName": 16,
    "lenType": 16,
    "lenVar": 40
   },
   "kernels_config": {
    "python": {
     "delete_cmd_postfix": "",
     "delete_cmd_prefix": "del ",
     "library": "var_list.py",
     "varRefreshCmd": "print(var_dic_list())"
    },
    "r": {
     "delete_cmd_postfix": ") ",
     "delete_cmd_prefix": "rm(",
     "library": "var_list.r",
     "varRefreshCmd": "cat(var_dic_list()) "
    }
   },
   "types_to_exclude": [
    "module",
    "function",
    "builtin_function_or_method",
    "instance",
    "_Feature"
   ],
   "window_display": false
  }
 },
 "nbformat": 4,
 "nbformat_minor": 4
}
