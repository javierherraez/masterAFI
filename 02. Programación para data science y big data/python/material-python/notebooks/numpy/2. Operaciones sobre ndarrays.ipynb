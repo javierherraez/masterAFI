{
 "cells": [
  {
   "cell_type": "markdown",
   "metadata": {},
   "source": [
    "# Operaciones sobre ndarrays"
   ]
  },
  {
   "cell_type": "markdown",
   "metadata": {},
   "source": [
    "NumPy pone a nuestra disposición un amplio conjunto de funciones optimizadas para aplicar sobre ndarrays de forma global evitando así la necesidad de utilizar bucles (mucho más costosos)."
   ]
  },
  {
   "cell_type": "code",
   "execution_count": 1,
   "metadata": {},
   "outputs": [],
   "source": [
    "import numpy as np"
   ]
  },
  {
   "cell_type": "markdown",
   "metadata": {},
   "source": [
    "### Operaciones elemento a elemento - Universal functions"
   ]
  },
  {
   "cell_type": "markdown",
   "metadata": {},
   "source": [
    "El primero de los conjuntos de funciones ofrecido por NumPy son las llamadas \"funciones universales\" (o ufuncs) que permiten la realización de operaciones elemento a elemento de un array. En función del número de parámetros encontramos dos tipos de funciones universales."
   ]
  },
  {
   "cell_type": "markdown",
   "metadata": {},
   "source": [
    "#### Funciones unarias"
   ]
  },
  {
   "cell_type": "markdown",
   "metadata": {},
   "source": [
    "Son aquellas funciones que reciben como parámetro un único ndarray.<br/>\n",
    "<ul>\n",
    "<li><b>abs, fabs:</b> Valor absoluto.</li>\n",
    "<li><b>sqrt:</b> Raíz cuadrada (equivalente a array \\*\\* 0.5).</li>\n",
    "<li><b>square:</b> Potencia al cuadrado (equivalente a array ** 2).</li>\n",
    "<li><b>exp:</b> Potencia de e.</li>\n",
    "<li><b>log, log10, log2, log1p:</b> Logaritmos en distintas bases.</li>\n",
    "<li><b>sign:</b> Signo (+ = 1 / - = -1 / 0 = 0).</li>\n",
    "<li><b>ceil:</b> Techo.</li>\n",
    "<li><b>floor:</b> Suelo.</li>\n",
    "<li><b>rint:</b> Redondeo al entero más cercano.</li>\n",
    "<li><b>modf:</b> Devuelve dos arrays uno con la parte fraccionaria y otro con la parte entera.</li>\n",
    "<li><b>isnan:</b> Devuelve un array booleano indicando si el valor es NaN o no.</li>\n",
    "<li><b>isfinite, isinf:</b> Devuelve un array booleano indicando si el valor es finito o no.</li>\n",
    "<li><b>cos, cosh, sin, sinh, tan, tanh:</b> Funciones trigonométricas.</li>\n",
    "<li><b>arccos, arccosh, arcsin, arcsinh, arctan, arctanh:</b> Funciones trigonométricas inversas.</li>\n",
    "<li><b>logical_not:</b> Inverso booleano de todos los valores del array (equivalente a ~(array)).</li>\n",
    "</ul>"
   ]
  },
  {
   "cell_type": "code",
   "execution_count": 2,
   "metadata": {},
   "outputs": [
    {
     "data": {
      "text/plain": [
       "array([[ 1.51552132,  0.7589027 , -0.80290275,  0.08398705, -0.52218905],\n",
       "       [ 1.27512575, -0.24981794, -0.04658834,  1.38871066,  0.40185589],\n",
       "       [-1.89805764, -0.49713007,  1.11755564, -1.10892116, -1.07309004],\n",
       "       [ 1.00476709,  0.16885473,  0.04298561,  0.14560754, -0.07028653],\n",
       "       [ 2.02062601, -0.69254555,  1.2567792 ,  0.31515066,  0.65369793]])"
      ]
     },
     "execution_count": 2,
     "metadata": {},
     "output_type": "execute_result"
    }
   ],
   "source": [
    "array = np.random.randn(5, 5)\n",
    "array"
   ]
  },
  {
   "cell_type": "code",
   "execution_count": 3,
   "metadata": {},
   "outputs": [
    {
     "data": {
      "text/plain": [
       "array([[1.51552132, 0.7589027 , 0.80290275, 0.08398705, 0.52218905],\n",
       "       [1.27512575, 0.24981794, 0.04658834, 1.38871066, 0.40185589],\n",
       "       [1.89805764, 0.49713007, 1.11755564, 1.10892116, 1.07309004],\n",
       "       [1.00476709, 0.16885473, 0.04298561, 0.14560754, 0.07028653],\n",
       "       [2.02062601, 0.69254555, 1.2567792 , 0.31515066, 0.65369793]])"
      ]
     },
     "execution_count": 3,
     "metadata": {},
     "output_type": "execute_result"
    }
   ],
   "source": [
    "np.abs(array)"
   ]
  },
  {
   "cell_type": "code",
   "execution_count": 4,
   "metadata": {},
   "outputs": [
    {
     "data": {
      "text/plain": [
       "array([[ 1.,  1., -1.,  1., -1.],\n",
       "       [ 1., -1., -1.,  1.,  1.],\n",
       "       [-1., -1.,  1., -1., -1.],\n",
       "       [ 1.,  1.,  1.,  1., -1.],\n",
       "       [ 1., -1.,  1.,  1.,  1.]])"
      ]
     },
     "execution_count": 4,
     "metadata": {},
     "output_type": "execute_result"
    }
   ],
   "source": [
    "np.sign(array)"
   ]
  },
  {
   "cell_type": "code",
   "execution_count": 5,
   "metadata": {},
   "outputs": [
    {
     "data": {
      "text/plain": [
       "array([[ 2.,  1., -0.,  1., -0.],\n",
       "       [ 2., -0., -0.,  2.,  1.],\n",
       "       [-1., -0.,  2., -1., -1.],\n",
       "       [ 2.,  1.,  1.,  1., -0.],\n",
       "       [ 3., -0.,  2.,  1.,  1.]])"
      ]
     },
     "execution_count": 5,
     "metadata": {},
     "output_type": "execute_result"
    }
   ],
   "source": [
    "np.ceil(array)"
   ]
  },
  {
   "cell_type": "markdown",
   "metadata": {},
   "source": [
    "#### Funciones binarias"
   ]
  },
  {
   "cell_type": "markdown",
   "metadata": {},
   "source": [
    "Son aquellas funciones que reciben como parámetro dos arrays.\n",
    "<ul>\n",
    "<li><b>add:</b> Adición de los elementos de los dos arrays (equivalente a array1 + array2). #igual que operadores</li>\n",
    "<li><b>subtract:</b> Resta de los elementos de los dos arrays (equivalente a array1 - array2).</li>\n",
    "<li><b>multiply:</b> Multiplica los elementos de los dos arrays (equivalente a array1 \\* array2).</li>\n",
    "<li><b>divide, floor_divide:</b> Divide los elementos de los dos arrays (equivalente a array1 / (o //) array2).</li>\n",
    "<li><b>power:</b> Eleva los elementos del primer array a las potencias del segundo (equivalente a array1 ** array2).</li>\n",
    "<li><b>maximum, fmax:</b> Calcula el máximo de los dos arrays (elemento a elemento). fmax ignora NaN.</li>\n",
    "<li><b>minimum, fmin:</b> Calcula el mínimo de los dos arrays (elemento a elemento). fmax ignora NaN.</li>\n",
    "<li><b>mod:</b> Calcula el resto de la división de los dos arrays (equivalente a array1 % array2).</li>\n",
    "<li><b>greater, greater_equal, less, less_equal, equal, not_equal:</b> Comparativas sobre los elementos de ambos ndarrays (elemento a elemento).</li>\n",
    "<li><b>logical_and, logical_or, logical_xor:</b> Operaciones booleanas sobre los elementos de ambos ndarrays (elemento a elemento).</li>\n",
    "</ul>"
   ]
  },
  {
   "cell_type": "code",
   "execution_count": 6,
   "metadata": {},
   "outputs": [
    {
     "data": {
      "text/plain": [
       "array([[-0.46933048,  0.47374602,  3.13227441, -0.74224894, -1.6892701 ],\n",
       "       [-1.9359036 ,  0.69865623,  0.91503501, -0.2871225 , -1.1777283 ],\n",
       "       [ 1.04870597, -1.56838931,  0.78363951, -0.1059788 ,  0.0663117 ],\n",
       "       [-1.10606206,  1.21635022,  1.5364152 , -1.31126544, -0.14704846],\n",
       "       [-1.76057924, -0.41286662,  0.57508645,  0.67818811,  0.4463437 ]])"
      ]
     },
     "execution_count": 6,
     "metadata": {},
     "output_type": "execute_result"
    }
   ],
   "source": [
    "array1 = np.random.randn(5, 5)\n",
    "array1"
   ]
  },
  {
   "cell_type": "code",
   "execution_count": 7,
   "metadata": {},
   "outputs": [
    {
     "data": {
      "text/plain": [
       "array([[-0.77133324, -0.93492251,  0.46073021, -0.00653321,  2.3799413 ],\n",
       "       [-0.11711194, -0.14532346, -0.47174256,  1.39432655,  0.58489197],\n",
       "       [ 0.08132892, -0.46831798, -0.76510145,  0.4531682 , -0.08245417],\n",
       "       [-0.64586657,  1.24452528,  1.40648804, -1.03707964,  0.37235917],\n",
       "       [-1.04032814, -1.76230097, -0.63626976,  0.96736799,  0.29885176]])"
      ]
     },
     "execution_count": 7,
     "metadata": {},
     "output_type": "execute_result"
    }
   ],
   "source": [
    "array2 = np.random.randn(5, 5)\n",
    "array2"
   ]
  },
  {
   "cell_type": "code",
   "execution_count": 8,
   "metadata": {},
   "outputs": [
    {
     "data": {
      "text/plain": [
       "array([[-0.77133324, -0.93492251,  0.46073021, -0.74224894, -1.6892701 ],\n",
       "       [-1.9359036 , -0.14532346, -0.47174256, -0.2871225 , -1.1777283 ],\n",
       "       [ 0.08132892, -1.56838931, -0.76510145, -0.1059788 , -0.08245417],\n",
       "       [-1.10606206,  1.21635022,  1.40648804, -1.31126544, -0.14704846],\n",
       "       [-1.76057924, -1.76230097, -0.63626976,  0.67818811,  0.29885176]])"
      ]
     },
     "execution_count": 8,
     "metadata": {},
     "output_type": "execute_result"
    }
   ],
   "source": [
    "np.minimum(array1, array2)"
   ]
  },
  {
   "cell_type": "markdown",
   "metadata": {},
   "source": [
    "### Selección de elementos de ndarrays en función de una condición"
   ]
  },
  {
   "cell_type": "markdown",
   "metadata": {},
   "source": [
    "NumPy pone a nuestra disposición, a través de la función <b>np.where</b> la posibilidad de generar un array de salida a partir de dos de entrada, estableciendo una máscara booleana que indique si (elemento a elemento) debemos enviar a la salida el elemento del primer ndarray (valor True) o del segundo (valor False)."
   ]
  },
  {
   "cell_type": "code",
   "execution_count": 9,
   "metadata": {},
   "outputs": [
    {
     "data": {
      "text/plain": [
       "array([[ 0.77185237,  0.19639932,  0.39924044,  0.6060406 , -0.47116163],\n",
       "       [ 0.17025962,  0.84328705,  0.46343659, -0.74515301, -0.08960301],\n",
       "       [-0.13454219,  0.1129777 , -0.2794793 , -0.29602958, -0.10288192],\n",
       "       [-1.55343445, -1.59939284,  1.09039858,  0.4333707 ,  1.93677982],\n",
       "       [ 1.3441032 ,  0.06281218,  1.90645874, -0.25319833, -1.52952003]])"
      ]
     },
     "execution_count": 9,
     "metadata": {},
     "output_type": "execute_result"
    }
   ],
   "source": [
    "array1 = np.random.randn(5, 5)\n",
    "array1"
   ]
  },
  {
   "cell_type": "code",
   "execution_count": 10,
   "metadata": {},
   "outputs": [
    {
     "data": {
      "text/plain": [
       "array([[ 0.91981524,  0.72951887,  0.37070766,  0.19735883, -0.51541124],\n",
       "       [-1.33404705,  1.12967337, -1.85125891, -0.29609374,  0.82780325],\n",
       "       [-0.20238562, -0.92818649,  0.96260877, -1.05604296, -1.10622212],\n",
       "       [ 0.86106513, -1.86590035,  0.49233096,  0.05255646,  1.23983636],\n",
       "       [-1.97752092,  1.13613714,  0.18252379, -0.38716746,  0.1540469 ]])"
      ]
     },
     "execution_count": 10,
     "metadata": {},
     "output_type": "execute_result"
    }
   ],
   "source": [
    "array2 = np.random.randn(5, 5)\n",
    "array2"
   ]
  },
  {
   "cell_type": "code",
   "execution_count": 11,
   "metadata": {},
   "outputs": [
    {
     "data": {
      "text/plain": [
       "array([[ 0.77185237,  0.19639932,  0.37070766,  0.19735883, -0.51541124],\n",
       "       [-1.33404705,  0.84328705, -1.85125891, -0.74515301, -0.08960301],\n",
       "       [-0.20238562, -0.92818649, -0.2794793 , -1.05604296, -1.10622212],\n",
       "       [-1.55343445, -1.86590035,  0.49233096,  0.05255646,  1.23983636],\n",
       "       [-1.97752092,  0.06281218,  0.18252379, -0.38716746, -1.52952003]])"
      ]
     },
     "execution_count": 11,
     "metadata": {},
     "output_type": "execute_result"
    }
   ],
   "source": [
    "# Fusión condicional\n",
    "np.where(array1 < array2, array1, array2)"
   ]
  },
  {
   "cell_type": "code",
   "execution_count": 12,
   "metadata": {},
   "outputs": [
    {
     "data": {
      "text/plain": [
       "array([[ 0.77185237,  0.19639932,  0.37070766,  0.19735883, -0.51541124],\n",
       "       [-1.33404705,  0.84328705, -1.85125891,  0.        ,  0.        ],\n",
       "       [-0.20238562, -0.92818649,  0.        , -1.05604296, -1.10622212],\n",
       "       [ 0.        , -1.86590035,  0.49233096,  0.05255646,  1.23983636],\n",
       "       [-1.97752092,  0.06281218,  0.18252379, -0.38716746,  0.        ]])"
      ]
     },
     "execution_count": 12,
     "metadata": {},
     "output_type": "execute_result"
    }
   ],
   "source": [
    "# Anidación de condiciones\n",
    "np.where(array1 < array2, np.where(array1 < 0, 0, array1), array2)"
   ]
  },
  {
   "cell_type": "markdown",
   "metadata": {},
   "source": [
    "### Funciones matemáticas y estadísticas"
   ]
  },
  {
   "cell_type": "markdown",
   "metadata": {},
   "source": [
    "NumPy ofrece un amplio conjunto de funciones matemáticas y estadísticas que se pueden aplicar sobre ndarrays. A continuación se pueden encontrar los ejemplos más típicos (hay algunas más que pueden consultarse en la documentación oficial de NumPy).<br/>\n",
    "<ul>\n",
    "<li><b>sum:</b> Suma de elementos.</li>\n",
    "<li><b>mean:</b> Media aritmética de los elementos.</li>\n",
    "<li><b>median:</b> Mediana de los elementos.</li>\n",
    "<li><b>std:</b> Desviación estándar de los elementos.</li>\n",
    "<li><b>var:</b> Varianza de los elementos.</li>\n",
    "<li><b>min:</b> Valor mínimo de los elementos.</li>\n",
    "<li><b>max:</b> Valor máximo de los elementos.</li>\n",
    "<li><b>argmin:</b> Índice del valor mínimo.</li>\n",
    "<li><b>argmax:</b> Índice del valor máximo.</li>\n",
    "<li><b>cumsum:</b> Suma acumulada de los elementos.</li>\n",
    "<li><b>cumprod:</b> Producto acumulado de los elementos.</li>\n",
    "</ul>\n",
    "\n",
    "Todas estas funciones pueden recibir, además del ndarray sobre el que se aplicarán, un segundo parámetro llamado <b>axis</b>. Si no se recibe este parámetro las funciones se aplicarán sobre el conjunto global de los elementos del ndarray, pero si se incluye, podrá tomar dos valores:\n",
    "<ul>\n",
    "<li>Valor 0: Aplicará la función por columnas</li>\n",
    "<li>Valor 1: Aplicará la función por filas</li>"
   ]
  },
  {
   "cell_type": "code",
   "execution_count": 13,
   "metadata": {},
   "outputs": [
    {
     "data": {
      "text/plain": [
       "array([[ 6.84878478e-02,  9.04502602e-02, -7.70011890e-01,\n",
       "         2.66957658e-01],\n",
       "       [ 4.72521232e-01, -6.70714894e-01, -1.90060453e-01,\n",
       "        -1.92321510e+00],\n",
       "       [ 1.01708187e+00,  1.94129240e+00, -8.70657502e-04,\n",
       "         1.55477500e+00],\n",
       "       [-1.21024348e+00, -3.10567592e-01,  8.74807239e-01,\n",
       "        -1.72070434e-01],\n",
       "       [ 5.86912852e-01,  9.95957748e-01,  5.90892232e-01,\n",
       "         4.53410678e-02]])"
      ]
     },
     "execution_count": 13,
     "metadata": {},
     "output_type": "execute_result"
    }
   ],
   "source": [
    "array = np.random.randn(5, 4)\n",
    "array"
   ]
  },
  {
   "cell_type": "code",
   "execution_count": 14,
   "metadata": {},
   "outputs": [
    {
     "data": {
      "text/plain": [
       "3.2577228918692165"
      ]
     },
     "execution_count": 14,
     "metadata": {},
     "output_type": "execute_result"
    }
   ],
   "source": [
    "# Operación global\n",
    "np.sum(array)"
   ]
  },
  {
   "cell_type": "code",
   "execution_count": 15,
   "metadata": {},
   "outputs": [
    {
     "data": {
      "text/plain": [
       "array([ 0.93476031,  2.04641792,  0.50475647, -0.22821181])"
      ]
     },
     "execution_count": 15,
     "metadata": {},
     "output_type": "execute_result"
    }
   ],
   "source": [
    "# Operación a lo largo de las filas\n",
    "np.sum(array, axis=0)"
   ]
  },
  {
   "cell_type": "code",
   "execution_count": 16,
   "metadata": {
    "scrolled": true
   },
   "outputs": [
    {
     "data": {
      "text/plain": [
       "array([-0.34411612, -2.31146922,  4.51227861, -0.81807427,  2.2191039 ])"
      ]
     },
     "execution_count": 16,
     "metadata": {},
     "output_type": "execute_result"
    }
   ],
   "source": [
    "# Operación a lo largo de las columnas\n",
    "np.sum(array, axis=1)"
   ]
  },
  {
   "cell_type": "markdown",
   "metadata": {},
   "source": [
    "Adicionalmente algunas de estas funciones pueden ser utilizadas como \"métodos\" de los ndarray y no sólo como funciones sobre los mismos. En este caso la sintáxis cambiará y se utilizará la notación \"ndarray.funcion()\" "
   ]
  },
  {
   "cell_type": "code",
   "execution_count": 17,
   "metadata": {},
   "outputs": [
    {
     "data": {
      "text/plain": [
       "3.2577228918692165"
      ]
     },
     "execution_count": 17,
     "metadata": {},
     "output_type": "execute_result"
    }
   ],
   "source": [
    "array.sum()"
   ]
  },
  {
   "cell_type": "markdown",
   "metadata": {},
   "source": [
    "### Operaciones sobre ndarrays booleanos"
   ]
  },
  {
   "cell_type": "markdown",
   "metadata": {},
   "source": [
    "Dado que, internamente, Python trata los valores booleanos True como 1 y los False como 0, es muy sencillo realizar operaciones matemáticas sobre estos valores booleanos de forma que se puedan hacer diferentes chequeos. Por ejemplo..."
   ]
  },
  {
   "cell_type": "code",
   "execution_count": 18,
   "metadata": {},
   "outputs": [
    {
     "data": {
      "text/plain": [
       "array([[-1.32547527,  0.3716039 ,  0.59691406, -0.75987636,  0.55335693],\n",
       "       [-1.56427351,  0.24728161,  0.99366875, -1.20804904,  0.69312869],\n",
       "       [ 1.24639983,  0.49045217,  1.96554671,  0.38522788, -0.24969672],\n",
       "       [-0.29276436,  1.95687744,  0.20420815,  0.39752038, -0.30632837],\n",
       "       [-0.46403802,  0.13903103, -2.11202602,  1.1730888 , -0.26094981]])"
      ]
     },
     "execution_count": 18,
     "metadata": {},
     "output_type": "execute_result"
    }
   ],
   "source": [
    "array = np.random.randn(5, 5)\n",
    "array"
   ]
  },
  {
   "cell_type": "code",
   "execution_count": 19,
   "metadata": {},
   "outputs": [
    {
     "data": {
      "text/plain": [
       "array([[False,  True,  True, False,  True],\n",
       "       [False,  True,  True, False,  True],\n",
       "       [ True,  True,  True,  True, False],\n",
       "       [False,  True,  True,  True, False],\n",
       "       [False,  True, False,  True, False]])"
      ]
     },
     "execution_count": 19,
     "metadata": {},
     "output_type": "execute_result"
    }
   ],
   "source": [
    "array > 0"
   ]
  },
  {
   "cell_type": "code",
   "execution_count": 20,
   "metadata": {},
   "outputs": [
    {
     "data": {
      "text/plain": [
       "15"
      ]
     },
     "execution_count": 20,
     "metadata": {},
     "output_type": "execute_result"
    }
   ],
   "source": [
    "# Elementos mayores que 0\n",
    "(array > 0).sum()"
   ]
  },
  {
   "cell_type": "code",
   "execution_count": 21,
   "metadata": {},
   "outputs": [
    {
     "data": {
      "text/plain": [
       "0.6"
      ]
     },
     "execution_count": 21,
     "metadata": {},
     "output_type": "execute_result"
    }
   ],
   "source": [
    "#proporciones\n",
    "(array > 0).mean()"
   ]
  },
  {
   "cell_type": "code",
   "execution_count": 22,
   "metadata": {},
   "outputs": [
    {
     "data": {
      "text/plain": [
       "10"
      ]
     },
     "execution_count": 22,
     "metadata": {},
     "output_type": "execute_result"
    }
   ],
   "source": [
    "# Elementos menores que la media\n",
    "(array < array.mean()).sum()"
   ]
  },
  {
   "cell_type": "markdown",
   "metadata": {},
   "source": [
    "NumPy también pone a nuestra disposición dos funciones de chequeo predefinidas sobre ndarrays booleanos:<br/>\n",
    "<ul>\n",
    "<li><b>any:</b> Para comprobar si alguno de los elementos es True.</li>\n",
    "<li><b>all:</b> Para comprobar si todos los elementos son True.</li>\n",
    "</ul>"
   ]
  },
  {
   "cell_type": "code",
   "execution_count": 23,
   "metadata": {},
   "outputs": [
    {
     "data": {
      "text/plain": [
       "False"
      ]
     },
     "execution_count": 23,
     "metadata": {},
     "output_type": "execute_result"
    }
   ],
   "source": [
    "# Alguno de los elementos cumple la condición\n",
    "(array == 0).any()"
   ]
  },
  {
   "cell_type": "code",
   "execution_count": 24,
   "metadata": {},
   "outputs": [
    {
     "data": {
      "text/plain": [
       "True"
      ]
     },
     "execution_count": 24,
     "metadata": {},
     "output_type": "execute_result"
    }
   ],
   "source": [
    "# Todos los elementos cumplen la condición\n",
    "((array >= -3) & (array <= 3)).all()"
   ]
  },
  {
   "cell_type": "markdown",
   "metadata": {},
   "source": [
    "### Ordenación de ndarrays"
   ]
  },
  {
   "cell_type": "code",
   "execution_count": 25,
   "metadata": {},
   "outputs": [
    {
     "data": {
      "text/plain": [
       "array([[ 0.29596266, -1.26847011,  0.02693391, -1.00503618, -1.29571781],\n",
       "       [ 0.13969092, -1.45974699,  0.63504825, -1.5610027 ,  0.98984891],\n",
       "       [ 0.63231123,  0.61724422, -1.20261385,  1.27231833, -0.26331387],\n",
       "       [-0.5249368 , -1.17887542, -0.97147439,  1.8640574 ,  0.56953689],\n",
       "       [-0.17323177, -0.13808309, -0.1498655 ,  0.19361929, -0.34174158]])"
      ]
     },
     "execution_count": 25,
     "metadata": {},
     "output_type": "execute_result"
    }
   ],
   "source": [
    "array = np.random.randn(5, 5)\n",
    "array"
   ]
  },
  {
   "cell_type": "code",
   "execution_count": 26,
   "metadata": {},
   "outputs": [
    {
     "data": {
      "text/plain": [
       "array([[-1.29571781, -1.26847011, -1.00503618,  0.02693391,  0.29596266],\n",
       "       [-1.5610027 , -1.45974699,  0.13969092,  0.63504825,  0.98984891],\n",
       "       [-1.20261385, -0.26331387,  0.61724422,  0.63231123,  1.27231833],\n",
       "       [-1.17887542, -0.97147439, -0.5249368 ,  0.56953689,  1.8640574 ],\n",
       "       [-0.34174158, -0.17323177, -0.1498655 , -0.13808309,  0.19361929]])"
      ]
     },
     "execution_count": 26,
     "metadata": {},
     "output_type": "execute_result"
    }
   ],
   "source": [
    "# Datos ordenados\n",
    "np.sort(array)"
   ]
  },
  {
   "cell_type": "code",
   "execution_count": 27,
   "metadata": {},
   "outputs": [
    {
     "data": {
      "text/plain": [
       "array([[-0.5249368 , -1.45974699, -1.20261385, -1.5610027 , -1.29571781],\n",
       "       [-0.17323177, -1.26847011, -0.97147439, -1.00503618, -0.34174158],\n",
       "       [ 0.13969092, -1.17887542, -0.1498655 ,  0.19361929, -0.26331387],\n",
       "       [ 0.29596266, -0.13808309,  0.02693391,  1.27231833,  0.56953689],\n",
       "       [ 0.63231123,  0.61724422,  0.63504825,  1.8640574 ,  0.98984891]])"
      ]
     },
     "execution_count": 27,
     "metadata": {},
     "output_type": "execute_result"
    }
   ],
   "source": [
    "# Datos ordenados según el primer eje\n",
    "np.sort(array, axis=0)"
   ]
  },
  {
   "cell_type": "markdown",
   "metadata": {},
   "source": [
    "### Funciones de conjunto"
   ]
  },
  {
   "cell_type": "markdown",
   "metadata": {},
   "source": [
    "NumPy permite realizar tratamientos sobre un ndarray asumiendo que el total de los elementos del mismo forman un conjunto.<br/>\n",
    "<ul>\n",
    "<li><b>unique:</b> Calcula el conjunto único de elementos sin duplicados.</li>\n",
    "<li><b>intersect1d:</b> Calcula la intersección de los elementos de dos arrays.</li>\n",
    "<li><b>union1d:</b> Calcula la unión de los elementos de dos arays.</li>\n",
    "<li><b>in1d:</b> Calcula un array booleano que indica si cada elemento del primer array está contenido en el segundo.</li>\n",
    "<li><b>setdiff1d:</b> Calcula la diferencia entre ambos conjuntos.</li>\n",
    "<li><b>setxor1d:</b> Calcula la diferencia simétrica entre ambos conjuntos.</li>\n",
    "</ul>"
   ]
  },
  {
   "cell_type": "code",
   "execution_count": 28,
   "metadata": {},
   "outputs": [
    {
     "data": {
      "text/plain": [
       "array([6, 0, 0, 0, 3, 2, 5, 6])"
      ]
     },
     "execution_count": 28,
     "metadata": {},
     "output_type": "execute_result"
    }
   ],
   "source": [
    "array1 = np.array([6, 0, 0, 0, 3, 2, 5, 6])\n",
    "array1"
   ]
  },
  {
   "cell_type": "code",
   "execution_count": 29,
   "metadata": {},
   "outputs": [
    {
     "data": {
      "text/plain": [
       "array([7, 4, 3, 1, 2, 6, 5])"
      ]
     },
     "execution_count": 29,
     "metadata": {},
     "output_type": "execute_result"
    }
   ],
   "source": [
    "array2 = np.array([7, 4, 3, 1, 2, 6, 5])\n",
    "array2"
   ]
  },
  {
   "cell_type": "code",
   "execution_count": 30,
   "metadata": {},
   "outputs": [
    {
     "data": {
      "text/plain": [
       "array([0, 2, 3, 5, 6])"
      ]
     },
     "execution_count": 30,
     "metadata": {},
     "output_type": "execute_result"
    }
   ],
   "source": [
    "np.unique(array1)"
   ]
  },
  {
   "cell_type": "code",
   "execution_count": 31,
   "metadata": {},
   "outputs": [
    {
     "data": {
      "text/plain": [
       "array([0, 1, 2, 3, 4, 5, 6, 7])"
      ]
     },
     "execution_count": 31,
     "metadata": {},
     "output_type": "execute_result"
    }
   ],
   "source": [
    "np.union1d(array1, array2)"
   ]
  },
  {
   "cell_type": "code",
   "execution_count": 32,
   "metadata": {},
   "outputs": [
    {
     "data": {
      "text/plain": [
       "array([ True, False, False, False,  True,  True,  True,  True])"
      ]
     },
     "execution_count": 32,
     "metadata": {},
     "output_type": "execute_result"
    }
   ],
   "source": [
    "np.in1d(array1, array2)"
   ]
  },
  {
   "cell_type": "code",
   "execution_count": 36,
   "metadata": {},
   "outputs": [
    {
     "data": {
      "text/plain": [
       "array([0])"
      ]
     },
     "execution_count": 36,
     "metadata": {},
     "output_type": "execute_result"
    }
   ],
   "source": [
    "np.setdiff1d(array1, array2)"
   ]
  },
  {
   "cell_type": "code",
   "execution_count": null,
   "metadata": {},
   "outputs": [],
   "source": []
  }
 ],
 "metadata": {
  "kernelspec": {
   "display_name": "Python 3",
   "language": "python",
   "name": "python3"
  },
  "language_info": {
   "codemirror_mode": {
    "name": "ipython",
    "version": 3
   },
   "file_extension": ".py",
   "mimetype": "text/x-python",
   "name": "python",
   "nbconvert_exporter": "python",
   "pygments_lexer": "ipython3",
   "version": "3.8.8"
  },
  "varInspector": {
   "cols": {
    "lenName": 16,
    "lenType": 16,
    "lenVar": 40
   },
   "kernels_config": {
    "python": {
     "delete_cmd_postfix": "",
     "delete_cmd_prefix": "del ",
     "library": "var_list.py",
     "varRefreshCmd": "print(var_dic_list())"
    },
    "r": {
     "delete_cmd_postfix": ") ",
     "delete_cmd_prefix": "rm(",
     "library": "var_list.r",
     "varRefreshCmd": "cat(var_dic_list()) "
    }
   },
   "types_to_exclude": [
    "module",
    "function",
    "builtin_function_or_method",
    "instance",
    "_Feature"
   ],
   "window_display": false
  }
 },
 "nbformat": 4,
 "nbformat_minor": 4
}
