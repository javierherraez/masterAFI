{
 "cells": [
  {
   "cell_type": "markdown",
   "metadata": {},
   "source": [
    "# Jupyter Notebooks"
   ]
  },
  {
   "cell_type": "markdown",
   "metadata": {},
   "source": [
    "Los notebooks del proyecto Jupyter permiten mezclar en un mismo documento código <b>ejecutable</b> de diferentes lenguajes (R, Python, Scala...) con texto enriquecido, imágenes, etc. \n",
    "\n",
    "Al tratarse de un entorno de trabajo basado en el navegador Web se minimiza la curva de aprendizaje y se permite reaprovechar el conocimiento previo que tengan los desarrolladores en HTML para la creación de documentos."
   ]
  },
  {
   "cell_type": "markdown",
   "metadata": {},
   "source": [
    "### Celdas"
   ]
  },
  {
   "cell_type": "markdown",
   "metadata": {},
   "source": [
    "Un notebook de Jupyter está siempre compuesto por un conjunto de celdas. Una celda es un fragmento de código, texto enriquecido o texto plano que puede ser evaluado.\n",
    "\n",
    "Todas las celdas (al estar seleccionadas) tienen dos posibles estados (que se identifican por el color del recuadro de selección de celda):\n",
    "<ul>\n",
    "<li><b>Lectura:</b> Visualización del contenido (evaluado o no) y acciones/teclas de acceso ejecutadas sobre la celda completa (p.e. eliminación, adición, conversión entre tipos de celda...). El recuadro de selección de celdas es azul si estamos en modo de lectura.</li>\n",
    "<li><b>Edición:</b> Edición del contenido de la celda (p.e. código, markdown, HTML...). El recuadro de selección de celdas es verde si estamos en modo de edición.</li>\n",
    "</ul>\n",
    "\n",
    "Tenemos a nuestra disposición una serie de teclas de acceso rápido que nos permiten interactuar con las celdas de un modo mucho más ágil.\n",
    "<ul>\n",
    "<li>Pasar de modo lectura a edición: Intro</li>\n",
    "<li>Pasar de modo edición a lectura (sin evaluar): Esc</li>\n",
    "<li>Añadir una nueva celda debajo de la actual (modo lectura): B</li>\n",
    "<li>Añadir una nueva celda encima de la actual (modo lectura): A</li>\n",
    "<li>Eliminar una celda (modo lectura): X</li>\n",
    "</ul>\n",
    "\n",
    "Para acceder a un listado completo de teclas de acceso rápido podemos usar el menú Help o pulsar (en modo lectura) H."
   ]
  },
  {
   "cell_type": "markdown",
   "metadata": {},
   "source": [
    "### Tipos de celda"
   ]
  },
  {
   "cell_type": "markdown",
   "metadata": {},
   "source": [
    "Existen cuatro tipos de celda: Code, Markdown y Raw.\n",
    "\n",
    "Las celdas en cualquier notebook tienen, por defecto, el tipo Code, pero se puede cambiar entre tipos bien usando los controles de la barra de herramientas o mediante las siguientes teclas de acceso rápido:\n",
    "\n",
    "<ul>\n",
    "<li>Convertir a celda Code (modo lectura): Y</li>\n",
    "<li>Convertir a celda Markdown (modo lectura): M</li>\n",
    "<li>Convertir a celda Raw (modo lectura): R</li>\n",
    "</ul>"
   ]
  },
  {
   "cell_type": "markdown",
   "metadata": {},
   "source": [
    "#### Celdas Code\n",
    "\n",
    "<ul>\n",
    "<li>Se trata de celdas cuyo contenido es código (en nuestro caso Python) evaluable.</li>\n",
    "<li>Se reconocen por estar precedidas del prompt In [].</li>\n",
    "<li>Internamente, TODAS las celdas de código de un notebook forman parte de un único espacio de trabajo por lo que las variables y funciones creadas en una celda serán accesibles por todas las demás (al igual que los módulos / paquetes que se importen).</li>\n",
    "<li>Las celdas disponen de la opción de <b>autocompletar</b> código, accesible mediante la tecla Tab</li>\n",
    "<li>Para evaluar/ejecuta el contenido de una celda se puede usar la combinación: Shift + Intro.</li>\n",
    "</ul>"
   ]
  },
  {
   "cell_type": "code",
   "execution_count": null,
   "metadata": {},
   "outputs": [],
   "source": [
    "# Declaramos una variable\n",
    "str_1 = \"Hola mundo\"\n",
    "print(str_1)"
   ]
  },
  {
   "cell_type": "code",
   "execution_count": null,
   "metadata": {},
   "outputs": [],
   "source": [
    "# La utilizamos desde otra celda\n",
    "str_1"
   ]
  },
  {
   "cell_type": "markdown",
   "metadata": {},
   "source": [
    "Estas celdas pueden contener todas las líneas de código que se desee pero hay que tener en cuenta que cada celda genera una única salida al ser evaluada que se corresponde con el resultado de la última sentencia ejecutada. Por tanto, si se quiren salidas parciales habrá que partir el código entre varias celdas. Para llevar a cabo este particionado (o unión) de celdas tenemos a nuestra disposición las siguientes teclas de acceso rápido:\n",
    "<ul>\n",
    "<li>Split de celdas (en modo edición): Ctrl + Shift + -</li>\n",
    "<li>Merge de celdas (en modo lectura): Shit + M</li>\n",
    "</ul>"
   ]
  },
  {
   "cell_type": "markdown",
   "metadata": {},
   "source": [
    "#### Celdas Markdown\n",
    "\n",
    "<ul>\n",
    "<li>Se trata de celdas que contienen texto enriquecido</li>\n",
    "<li>Se puede utilizar lenguaje Markdown o HTML dentro de las mismas</li>\n",
    "<li>Estas celdas presentarán texto plano en modo edición (o cuando no se hayan evaluado)</li>\n",
    "</ul>"
   ]
  },
  {
   "cell_type": "markdown",
   "metadata": {},
   "source": [
    "#### Celdas Raw\n",
    "\n",
    "<ul>\n",
    "<li>Se trata de celdas que contienen texto plano</li>\n",
    "</ul>"
   ]
  },
  {
   "cell_type": "markdown",
   "metadata": {},
   "source": [
    "### Magic commands\n",
    "\n",
    "Al ejecutarse sobre un intérprete de IPython, tenemos a nuestra disposición el mismo conjunto de utilidades que nos ofrece éste (magic commands). Algunos ejemplos..."
   ]
  },
  {
   "cell_type": "code",
   "execution_count": null,
   "metadata": {},
   "outputs": [],
   "source": [
    "# Mostrar el directorio de trabajo actual\n",
    "%pwd"
   ]
  },
  {
   "cell_type": "code",
   "execution_count": null,
   "metadata": {},
   "outputs": [],
   "source": [
    "# Listar el contenido del directorio de trabajo actual\n",
    "%ls"
   ]
  },
  {
   "cell_type": "code",
   "execution_count": null,
   "metadata": {},
   "outputs": [],
   "source": [
    "# Cambiar el directorio de trabajo actual\n",
    "%cd python"
   ]
  },
  {
   "cell_type": "code",
   "execution_count": null,
   "metadata": {},
   "outputs": [],
   "source": [
    "# Listar las variables existentes en el espacio de trabajo actual\n",
    "%who"
   ]
  },
  {
   "cell_type": "code",
   "execution_count": null,
   "metadata": {},
   "outputs": [],
   "source": [
    "# Listar todos los comandos disponibles\n",
    "%lsmagic"
   ]
  },
  {
   "cell_type": "markdown",
   "metadata": {},
   "source": [
    "### Obtención de ayuda (inline)\n",
    "\n",
    "<ul>\n",
    "    <li><b>?</b> antes de una función permite acceder a la documentación.</li>\n",
    "<li>En cualquier caso, es más recomendable buscar ayuda online.</li>\n",
    "</li>"
   ]
  },
  {
   "cell_type": "code",
   "execution_count": null,
   "metadata": {},
   "outputs": [],
   "source": [
    "?tuple"
   ]
  }
 ],
 "metadata": {
  "kernelspec": {
   "display_name": "Python 3",
   "language": "python",
   "name": "python3"
  },
  "language_info": {
   "codemirror_mode": {
    "name": "ipython",
    "version": 3
   },
   "file_extension": ".py",
   "mimetype": "text/x-python",
   "name": "python",
   "nbconvert_exporter": "python",
   "pygments_lexer": "ipython3",
   "version": "3.8.8"
  },
  "varInspector": {
   "cols": {
    "lenName": 16,
    "lenType": 16,
    "lenVar": 40
   },
   "kernels_config": {
    "python": {
     "delete_cmd_postfix": "",
     "delete_cmd_prefix": "del ",
     "library": "var_list.py",
     "varRefreshCmd": "print(var_dic_list())"
    },
    "r": {
     "delete_cmd_postfix": ") ",
     "delete_cmd_prefix": "rm(",
     "library": "var_list.r",
     "varRefreshCmd": "cat(var_dic_list()) "
    }
   },
   "types_to_exclude": [
    "module",
    "function",
    "builtin_function_or_method",
    "instance",
    "_Feature"
   ],
   "window_display": false
  }
 },
 "nbformat": 4,
 "nbformat_minor": 4
}
