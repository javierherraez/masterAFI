{
 "cells": [
  {
   "cell_type": "markdown",
   "id": "fdde665c",
   "metadata": {},
   "source": [
    "### Escribe una función que reciba como parámetro el nombre de un fichero que contendrá un Sudoku completo (en forma de matriz), y devuelva si está bien solucionado o no.\n",
    "### A lo largo de la función, deberás ir comprobando los distintos requisitos que debe cumplir la solución de un Sudoku, pero, además, también debes hacer comprobaciones más básicas, como que los números de cada celda están en el rango y tipo correcto o que la dimensión de la matriz es la adecuada para un Sudoku. \n",
    "### La función debe devolver un mensaje diciendo que la solución es correcta o, en caso contrario, el listado completo de motivos por el que la solución es incorrecta."
   ]
  },
  {
   "cell_type": "code",
   "execution_count": 1,
   "id": "99487e98",
   "metadata": {},
   "outputs": [],
   "source": [
    "import numpy as np"
   ]
  },
  {
   "cell_type": "code",
   "execution_count": 2,
   "id": "8c447818",
   "metadata": {},
   "outputs": [],
   "source": [
    "# sudokus bien resueltos\n",
    "sudoku_1 = np.matrix([\n",
    "            [7, 2, 6, 3, 5, 4, 1, 9, 8], \n",
    "            [1, 4, 3, 2, 9, 8, 5, 6, 7],\n",
    "            [5, 9, 8, 1, 7, 6, 3, 4, 2],\n",
    "            [4, 3, 2, 5, 8, 9, 7, 1, 6], \n",
    "            [6, 7, 5, 4, 1, 3, 8, 2, 9],\n",
    "            [9, 8, 1, 6, 2, 7, 4, 5, 3],\n",
    "            [3, 5, 9, 7, 4, 2, 6, 8, 1], \n",
    "            [2, 1, 7, 8, 6, 5, 9, 3, 4],\n",
    "            [8, 6, 4, 9, 3, 1, 2, 7, 5]\n",
    "])\n",
    "np.save('sudoku_1', sudoku_1)\n",
    "sudoku_2 = np.matrix([\n",
    "            [9, 6, 3, 1, 7, 4, 2, 5, 8], \n",
    "            [1, 7, 8, 3, 2, 5, 6, 4, 9],\n",
    "            [2, 5, 4, 6, 8, 9, 7, 3, 1],\n",
    "            [8, 2, 1, 4, 3, 7, 5, 9, 6], \n",
    "            [4, 9, 6, 8, 5, 2, 3, 1, 7],\n",
    "            [7, 3, 5, 9, 6, 1, 8, 2, 4],\n",
    "            [5, 8, 9, 7, 1, 3, 4, 6, 2], \n",
    "            [3, 1, 7, 2, 4, 6, 9, 8, 5],\n",
    "            [6, 4, 2, 5, 9, 8, 1, 7, 3]\n",
    "])\n",
    "np.save('sudoku_2', sudoku_2)\n",
    "\n",
    "# sudoku con una cadena de carácteres como elemento\n",
    "sudoku_with_str = np.matrix([\n",
    "            [7, 2, 6, 3, 5, 4, 1, 9, 8], \n",
    "            [1, 4, 3, 2, 9, 8, 5, 6, 7],\n",
    "            [5, 9, 8, 1, 7, 6, 3, 4, 2],\n",
    "            [4, 3, 2, 5, 8, 9, 7, 1, 6], \n",
    "            [6, 7, 5, 4, 1, 3, 8, 2, 9],\n",
    "            [9, 8, 1, 6, 2, 7, 4, 5, 3],\n",
    "            [3, 5, 9, 7, 4, 2, 6, 8, 1], \n",
    "            [2, 1, 7, 8, 6, 5, 9, 3, 4],\n",
    "            [8, 6, 4, 9, 3, 1, 2, 7, \"a\"]\n",
    "])\n",
    "np.save('sudoku_with_str', sudoku_with_str)\n",
    "\n",
    "# sudoku con 8 filas\n",
    "sudoku_8_rows = np.matrix([\n",
    "            [7, 2, 6, 3, 5, 4, 1, 9, 8], \n",
    "            [1, 4, 3, 2, 9, 8, 5, 6, 7],\n",
    "            [5, 9, 8, 1, 7, 6, 3, 4, 2],\n",
    "            [4, 3, 2, 5, 8, 9, 7, 1, 6], \n",
    "            [6, 7, 5, 4, 1, 3, 8, 2, 9],\n",
    "            [9, 8, 1, 6, 2, 7, 4, 5, 3],\n",
    "            [3, 5, 9, 7, 4, 2, 6, 8, 1], \n",
    "            [2, 1, 7, 8, 6, 5, 9, 3, 4]\n",
    "])\n",
    "np.save('sudoku_8_rows', sudoku_8_rows)\n",
    "\n",
    "# sudoku con un elemento fuera de rango (número 10)\n",
    "sudoku_with_element_out_of_range = np.matrix([\n",
    "            [7, 2, 6, 3, 5, 4, 1, 9, 8], \n",
    "            [1, 4, 3, 2, 9, 8, 5, 6, 7],\n",
    "            [5, 9, 8, 1, 7, 6, 3, 4, 2],\n",
    "            [4, 3, 2, 5, 8, 9, 7, 1, 6], \n",
    "            [6, 7, 5, 4, 1, 3, 8, 2, 9],\n",
    "            [9, 8, 1, 6, 2, 7, 4, 5, 3],\n",
    "            [3, 5, 9, 7, 4, 2, 6, 8, 1], \n",
    "            [2, 1, 7, 8, 6, 5, 9, 3, 4],\n",
    "            [8, 6, 4, 9, 3, 1, 2, 7, 10]\n",
    "])\n",
    "np.save('sudoku_with_element_out_of_range', sudoku_with_element_out_of_range)\n",
    "\n",
    "# sudoku con un elemento repetido en fila(número 4)\n",
    "sudoku_with_repeated_elements_row = np.matrix([\n",
    "            [7, 2, 6, 3, 5, 4, 1, 9, 8], \n",
    "            [1, 4, 3, 2, 9, 8, 5, 6, 7],\n",
    "            [5, 9, 8, 1, 7, 6, 3, 4, 2],\n",
    "            [4, 3, 2, 5, 8, 9, 7, 1, 6], \n",
    "            [6, 7, 5, 4, 1, 3, 8, 2, 9],\n",
    "            [9, 8, 1, 6, 2, 7, 4, 5, 3],\n",
    "            [3, 5, 9, 7, 4, 2, 6, 8, 1], \n",
    "            [2, 1, 7, 8, 6, 5, 9, 3, 4],\n",
    "            [8, 6, 4, 9, 3, 1, 2, 7, 4]\n",
    "])\n",
    "np.save('sudoku_with_repeated_elements_row', sudoku_with_repeated_elements_row)\n",
    "\n",
    "# sudoku con un elemento repetido en region\n",
    "sudoku_with_repeated_elements_region = np.matrix([\n",
    "            [1, 2, 3, 4, 5, 6, 7, 8, 9], \n",
    "            [2, 3, 4, 5, 6, 7, 8, 9, 1],\n",
    "            [3, 4, 5, 6, 7, 8, 9, 1, 2],\n",
    "            [4, 5, 6, 7, 8, 9, 1, 2, 3], \n",
    "            [5, 6, 7, 8, 9, 1, 2, 3, 4],\n",
    "            [6, 7, 8, 9, 1, 2, 3, 4, 5],\n",
    "            [7, 8, 9, 1, 2, 3, 4, 5, 6], \n",
    "            [8, 9, 1, 2, 3, 4, 5, 6, 7],\n",
    "            [9, 1, 2, 3, 4, 5, 6, 7, 8]\n",
    "])\n",
    "np.save('sudoku_with_repeated_elements_region', sudoku_with_repeated_elements_region)"
   ]
  },
  {
   "cell_type": "code",
   "execution_count": 3,
   "id": "1f1f026d",
   "metadata": {},
   "outputs": [],
   "source": [
    "# la función compara cada línea con un array compuesto por números del 1 al 9.\n",
    "# si se diferencian en algún número se mete la línea en una lista\n",
    "# si la lista está vacía significa que todas las líneas eran correctas\n",
    "def validar_matriz_por_lineas(lista):\n",
    "    array_validacion = np.arange(1, 10)\n",
    "    return ([linea for linea in lista if len(np.setdiff1d(array_validacion, linea)) != 0] == [])"
   ]
  },
  {
   "cell_type": "code",
   "execution_count": 4,
   "id": "e96c0d36",
   "metadata": {},
   "outputs": [],
   "source": [
    "# en la función se carga un fichero con el sudoku\n",
    "# se verifica una serie de condiciones: que sea matriz de eneteros, las dimensiones, el rango de los n\n",
    "def validar_sudoku(fichero):\n",
    "    sudoku = np.load(fichero)\n",
    "    # miramos si los elementos son de tipo entero ya sea int16, int32, etc\n",
    "    if not \"int\" in str(sudoku.dtype):\n",
    "        return \"Mal, los elementos no son números enteros\"\n",
    "    # verificamos el nº de dimensiones\n",
    "    if not ((sudoku.ndim == 2) & (sudoku.shape == (9,9))):\n",
    "        return \"Mal, dimensiones incorrectas\" \n",
    "\n",
    "    if not (((sudoku <= 9) & (sudoku >= 1)).all()):\n",
    "        return \"Mal, números fuera de rango\"\n",
    "    \n",
    "    lista_cuadrantes = [np.concatenate([sudoku[i, j:j+3], sudoku[i+1, j:j+3], sudoku[i+2, j:j + 3]], axis = 0) \n",
    "           for i in range(0, 9, 3) \n",
    "           for j in range(0, 9, 3)]\n",
    "    \n",
    "    if not validar_matriz_por_lineas(sudoku):\n",
    "        return \"Mal, mismo número en la misma línea\"\n",
    "    \n",
    "    if not validar_matriz_por_lineas(sudoku.T):\n",
    "        return \"Mal, mismo número en la misma columna\"\n",
    "    \n",
    "    if not validar_matriz_por_lineas(lista_cuadrantes):\n",
    "        return \"Mal, mismo número en el mismo cuadrante\"\n",
    "    \n",
    "    return \"Sudoku bien resuelto\""
   ]
  },
  {
   "cell_type": "code",
   "execution_count": 5,
   "id": "b3b6b9d0",
   "metadata": {},
   "outputs": [
    {
     "data": {
      "text/plain": [
       "'Sudoku bien resuelto'"
      ]
     },
     "execution_count": 5,
     "metadata": {},
     "output_type": "execute_result"
    }
   ],
   "source": [
    "validar_sudoku('sudoku_1.npy')"
   ]
  },
  {
   "cell_type": "code",
   "execution_count": 6,
   "id": "a9a89e19",
   "metadata": {},
   "outputs": [
    {
     "data": {
      "text/plain": [
       "'Sudoku bien resuelto'"
      ]
     },
     "execution_count": 6,
     "metadata": {},
     "output_type": "execute_result"
    }
   ],
   "source": [
    "validar_sudoku('sudoku_2.npy')"
   ]
  },
  {
   "cell_type": "code",
   "execution_count": 7,
   "id": "f182ef5f",
   "metadata": {},
   "outputs": [
    {
     "data": {
      "text/plain": [
       "'Mal, los elementos no son números enteros'"
      ]
     },
     "execution_count": 7,
     "metadata": {},
     "output_type": "execute_result"
    }
   ],
   "source": [
    "validar_sudoku('sudoku_with_str.npy')"
   ]
  },
  {
   "cell_type": "code",
   "execution_count": 8,
   "id": "d0274eb5",
   "metadata": {},
   "outputs": [
    {
     "data": {
      "text/plain": [
       "'Mal, dimensiones incorrectas'"
      ]
     },
     "execution_count": 8,
     "metadata": {},
     "output_type": "execute_result"
    }
   ],
   "source": [
    "validar_sudoku('sudoku_8_rows.npy')"
   ]
  },
  {
   "cell_type": "code",
   "execution_count": 9,
   "id": "b9b6cc56",
   "metadata": {},
   "outputs": [
    {
     "data": {
      "text/plain": [
       "'Mal, números fuera de rango'"
      ]
     },
     "execution_count": 9,
     "metadata": {},
     "output_type": "execute_result"
    }
   ],
   "source": [
    "validar_sudoku('sudoku_with_element_out_of_range.npy')"
   ]
  },
  {
   "cell_type": "code",
   "execution_count": 10,
   "id": "cecfd2b1",
   "metadata": {},
   "outputs": [
    {
     "data": {
      "text/plain": [
       "'Mal, mismo número en la misma línea'"
      ]
     },
     "execution_count": 10,
     "metadata": {},
     "output_type": "execute_result"
    }
   ],
   "source": [
    "validar_sudoku('sudoku_with_repeated_elements_row.npy')"
   ]
  },
  {
   "cell_type": "code",
   "execution_count": 11,
   "id": "69bae052",
   "metadata": {},
   "outputs": [
    {
     "data": {
      "text/plain": [
       "'Mal, mismo número en el mismo cuadrante'"
      ]
     },
     "execution_count": 11,
     "metadata": {},
     "output_type": "execute_result"
    }
   ],
   "source": [
    "validar_sudoku(\"sudoku_with_repeated_elements_region.npy\")"
   ]
  }
 ],
 "metadata": {
  "kernelspec": {
   "display_name": "Python 3",
   "language": "python",
   "name": "python3"
  },
  "language_info": {
   "codemirror_mode": {
    "name": "ipython",
    "version": 3
   },
   "file_extension": ".py",
   "mimetype": "text/x-python",
   "name": "python",
   "nbconvert_exporter": "python",
   "pygments_lexer": "ipython3",
   "version": "3.8.8"
  }
 },
 "nbformat": 4,
 "nbformat_minor": 5
}
