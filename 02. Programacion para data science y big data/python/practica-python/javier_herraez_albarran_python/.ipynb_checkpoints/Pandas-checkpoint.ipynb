{
 "cells": [
  {
   "cell_type": "code",
   "execution_count": 1,
   "id": "32767e6c",
   "metadata": {},
   "outputs": [],
   "source": [
    "import numpy as np\n",
    "import pandas as pd"
   ]
  },
  {
   "cell_type": "markdown",
   "id": "2e525cc8",
   "metadata": {},
   "source": [
    "# Pandas - Explorando información de seguros"
   ]
  },
  {
   "cell_type": "markdown",
   "id": "8a04765a",
   "metadata": {},
   "source": [
    "### 1. Carga del set de datos en una variable llamada “seguros”."
   ]
  },
  {
   "cell_type": "code",
   "execution_count": 2,
   "id": "6b077e51",
   "metadata": {},
   "outputs": [
    {
     "data": {
      "text/html": [
       "<div>\n",
       "<style scoped>\n",
       "    .dataframe tbody tr th:only-of-type {\n",
       "        vertical-align: middle;\n",
       "    }\n",
       "\n",
       "    .dataframe tbody tr th {\n",
       "        vertical-align: top;\n",
       "    }\n",
       "\n",
       "    .dataframe thead th {\n",
       "        text-align: right;\n",
       "    }\n",
       "</style>\n",
       "<table border=\"1\" class=\"dataframe\">\n",
       "  <thead>\n",
       "    <tr style=\"text-align: right;\">\n",
       "      <th></th>\n",
       "      <th>edad</th>\n",
       "      <th>co_genero</th>\n",
       "      <th>imc</th>\n",
       "      <th>num_hijos</th>\n",
       "      <th>co_fumador</th>\n",
       "      <th>region</th>\n",
       "      <th>costes_seguro</th>\n",
       "    </tr>\n",
       "  </thead>\n",
       "  <tbody>\n",
       "    <tr>\n",
       "      <th>0</th>\n",
       "      <td>19.0</td>\n",
       "      <td>1.0</td>\n",
       "      <td>27.900</td>\n",
       "      <td>0.0</td>\n",
       "      <td>1</td>\n",
       "      <td>southwest</td>\n",
       "      <td>16884.92400</td>\n",
       "    </tr>\n",
       "    <tr>\n",
       "      <th>1</th>\n",
       "      <td>18.0</td>\n",
       "      <td>0.0</td>\n",
       "      <td>33.770</td>\n",
       "      <td>1.0</td>\n",
       "      <td>0</td>\n",
       "      <td>southeast</td>\n",
       "      <td>1725.55230</td>\n",
       "    </tr>\n",
       "    <tr>\n",
       "      <th>2</th>\n",
       "      <td>28.0</td>\n",
       "      <td>0.0</td>\n",
       "      <td>33.000</td>\n",
       "      <td>3.0</td>\n",
       "      <td>0</td>\n",
       "      <td>southeast</td>\n",
       "      <td>4449.46200</td>\n",
       "    </tr>\n",
       "    <tr>\n",
       "      <th>3</th>\n",
       "      <td>33.0</td>\n",
       "      <td>0.0</td>\n",
       "      <td>22.705</td>\n",
       "      <td>0.0</td>\n",
       "      <td>0</td>\n",
       "      <td>northwest</td>\n",
       "      <td>21984.47061</td>\n",
       "    </tr>\n",
       "    <tr>\n",
       "      <th>4</th>\n",
       "      <td>32.0</td>\n",
       "      <td>0.0</td>\n",
       "      <td>28.880</td>\n",
       "      <td>0.0</td>\n",
       "      <td>0</td>\n",
       "      <td>northwest</td>\n",
       "      <td>3866.85520</td>\n",
       "    </tr>\n",
       "  </tbody>\n",
       "</table>\n",
       "</div>"
      ],
      "text/plain": [
       "   edad  co_genero     imc  num_hijos  co_fumador     region  costes_seguro\n",
       "0  19.0        1.0  27.900        0.0           1  southwest    16884.92400\n",
       "1  18.0        0.0  33.770        1.0           0  southeast     1725.55230\n",
       "2  28.0        0.0  33.000        3.0           0  southeast     4449.46200\n",
       "3  33.0        0.0  22.705        0.0           0  northwest    21984.47061\n",
       "4  32.0        0.0  28.880        0.0           0  northwest     3866.85520"
      ]
     },
     "execution_count": 2,
     "metadata": {},
     "output_type": "execute_result"
    }
   ],
   "source": [
    "# cragamos el set y observamos las primeras filas\n",
    "seguros = pd.read_csv('../data/seguro_medico.csv', sep=';')\n",
    "seguros.head()"
   ]
  },
  {
   "cell_type": "markdown",
   "id": "a3e97a5f",
   "metadata": {},
   "source": [
    "### 2. Número de observaciones incluidas en el set de datos."
   ]
  },
  {
   "cell_type": "code",
   "execution_count": 3,
   "id": "7d93011b",
   "metadata": {},
   "outputs": [
    {
     "data": {
      "text/plain": [
       "1338"
      ]
     },
     "execution_count": 3,
     "metadata": {},
     "output_type": "execute_result"
    }
   ],
   "source": [
    "seguros.shape[0]"
   ]
  },
  {
   "cell_type": "markdown",
   "id": "7451626b",
   "metadata": {},
   "source": [
    "### 3. Listado de variables (y sus tipos) incluidas en el set de datos."
   ]
  },
  {
   "cell_type": "code",
   "execution_count": 4,
   "id": "dae19ea5",
   "metadata": {},
   "outputs": [
    {
     "data": {
      "text/plain": [
       "edad             float64\n",
       "co_genero        float64\n",
       "imc              float64\n",
       "num_hijos        float64\n",
       "co_fumador         int64\n",
       "region            object\n",
       "costes_seguro    float64\n",
       "dtype: object"
      ]
     },
     "execution_count": 4,
     "metadata": {},
     "output_type": "execute_result"
    }
   ],
   "source": [
    "seguros.dtypes"
   ]
  },
  {
   "cell_type": "markdown",
   "id": "d12dde33",
   "metadata": {},
   "source": [
    "### 4. Estadísticos básicos sólo de las variables numéricas del set de datos."
   ]
  },
  {
   "cell_type": "code",
   "execution_count": 5,
   "id": "ed403fb0",
   "metadata": {},
   "outputs": [
    {
     "data": {
      "text/html": [
       "<div>\n",
       "<style scoped>\n",
       "    .dataframe tbody tr th:only-of-type {\n",
       "        vertical-align: middle;\n",
       "    }\n",
       "\n",
       "    .dataframe tbody tr th {\n",
       "        vertical-align: top;\n",
       "    }\n",
       "\n",
       "    .dataframe thead th {\n",
       "        text-align: right;\n",
       "    }\n",
       "</style>\n",
       "<table border=\"1\" class=\"dataframe\">\n",
       "  <thead>\n",
       "    <tr style=\"text-align: right;\">\n",
       "      <th></th>\n",
       "      <th>edad</th>\n",
       "      <th>imc</th>\n",
       "      <th>num_hijos</th>\n",
       "      <th>costes_seguro</th>\n",
       "    </tr>\n",
       "  </thead>\n",
       "  <tbody>\n",
       "    <tr>\n",
       "      <th>count</th>\n",
       "      <td>1332.000000</td>\n",
       "      <td>1335.000000</td>\n",
       "      <td>1334.000000</td>\n",
       "      <td>1338.000000</td>\n",
       "    </tr>\n",
       "    <tr>\n",
       "      <th>mean</th>\n",
       "      <td>39.175676</td>\n",
       "      <td>30.642637</td>\n",
       "      <td>1.097451</td>\n",
       "      <td>13270.422265</td>\n",
       "    </tr>\n",
       "    <tr>\n",
       "      <th>std</th>\n",
       "      <td>14.054014</td>\n",
       "      <td>6.150285</td>\n",
       "      <td>1.206177</td>\n",
       "      <td>12110.011237</td>\n",
       "    </tr>\n",
       "    <tr>\n",
       "      <th>min</th>\n",
       "      <td>18.000000</td>\n",
       "      <td>1.000000</td>\n",
       "      <td>0.000000</td>\n",
       "      <td>1121.873900</td>\n",
       "    </tr>\n",
       "    <tr>\n",
       "      <th>25%</th>\n",
       "      <td>26.750000</td>\n",
       "      <td>26.302500</td>\n",
       "      <td>0.000000</td>\n",
       "      <td>4740.287150</td>\n",
       "    </tr>\n",
       "    <tr>\n",
       "      <th>50%</th>\n",
       "      <td>39.000000</td>\n",
       "      <td>30.400000</td>\n",
       "      <td>1.000000</td>\n",
       "      <td>9382.033000</td>\n",
       "    </tr>\n",
       "    <tr>\n",
       "      <th>75%</th>\n",
       "      <td>51.000000</td>\n",
       "      <td>34.637500</td>\n",
       "      <td>2.000000</td>\n",
       "      <td>16639.912515</td>\n",
       "    </tr>\n",
       "    <tr>\n",
       "      <th>max</th>\n",
       "      <td>64.000000</td>\n",
       "      <td>53.130000</td>\n",
       "      <td>5.000000</td>\n",
       "      <td>63770.428010</td>\n",
       "    </tr>\n",
       "  </tbody>\n",
       "</table>\n",
       "</div>"
      ],
      "text/plain": [
       "              edad          imc    num_hijos  costes_seguro\n",
       "count  1332.000000  1335.000000  1334.000000    1338.000000\n",
       "mean     39.175676    30.642637     1.097451   13270.422265\n",
       "std      14.054014     6.150285     1.206177   12110.011237\n",
       "min      18.000000     1.000000     0.000000    1121.873900\n",
       "25%      26.750000    26.302500     0.000000    4740.287150\n",
       "50%      39.000000    30.400000     1.000000    9382.033000\n",
       "75%      51.000000    34.637500     2.000000   16639.912515\n",
       "max      64.000000    53.130000     5.000000   63770.428010"
      ]
     },
     "execution_count": 5,
     "metadata": {},
     "output_type": "execute_result"
    }
   ],
   "source": [
    "seguros[['edad', 'imc', 'num_hijos', 'costes_seguro']].describe()"
   ]
  },
  {
   "cell_type": "markdown",
   "id": "01ee9381",
   "metadata": {},
   "source": [
    "### 5. Tablas de frecuencia sólo de las variables categóricas del set de dato."
   ]
  },
  {
   "cell_type": "code",
   "execution_count": 32,
   "id": "07fffca8",
   "metadata": {},
   "outputs": [
    {
     "name": "stdout",
     "output_type": "stream",
     "text": [
      "southeast    362\n",
      "southwest    324\n",
      "northwest    324\n",
      "northeast    323\n",
      "Name: region, dtype: int64 \n",
      "\n",
      " 0.0    674\n",
      "1.0    660\n",
      "Name: co_genero, dtype: int64 \n",
      "\n",
      " 0    1064\n",
      "1     274\n",
      "Name: co_fumador, dtype: int64\n"
     ]
    },
    {
     "data": {
      "text/plain": [
       "region     co_genero  co_fumador\n",
       "southwest  1.0        0             140\n",
       "southeast  1.0        0             137\n",
       "northwest  1.0        0             135\n",
       "southeast  0.0        0             132\n",
       "northeast  1.0        0             131\n",
       "northwest  0.0        0             130\n",
       "southwest  0.0        0             126\n",
       "northeast  0.0        0             124\n",
       "southeast  0.0        1              55\n",
       "northeast  0.0        1              38\n",
       "southwest  0.0        1              37\n",
       "southeast  1.0        1              36\n",
       "northeast  1.0        1              29\n",
       "northwest  0.0        1              29\n",
       "           1.0        1              29\n",
       "southwest  1.0        1              21\n",
       "dtype: int64"
      ]
     },
     "execution_count": 32,
     "metadata": {},
     "output_type": "execute_result"
    }
   ],
   "source": [
    "# cada tabla individualmente\n",
    "print(seguros['region'].value_counts(), \"\\n\\n\", seguros['co_genero'].value_counts(), \"\\n\\n\", seguros['co_fumador'].value_counts())\n",
    "# tablas de frecuencias unificadas\n",
    "seguros[['region', 'co_genero', 'co_fumador']].value_counts()"
   ]
  },
  {
   "cell_type": "markdown",
   "id": "4a689203",
   "metadata": {},
   "source": [
    "### 6. Identificación de variables con missing values y proporción de los mismos"
   ]
  },
  {
   "cell_type": "code",
   "execution_count": 7,
   "id": "3ca9dbc9",
   "metadata": {},
   "outputs": [
    {
     "data": {
      "text/plain": [
       "edad             6\n",
       "co_genero        4\n",
       "imc              3\n",
       "num_hijos        4\n",
       "co_fumador       0\n",
       "region           5\n",
       "costes_seguro    0\n",
       "dtype: int64"
      ]
     },
     "execution_count": 7,
     "metadata": {},
     "output_type": "execute_result"
    }
   ],
   "source": [
    "# cantidad de missing values \n",
    "seguros.isna().sum()"
   ]
  },
  {
   "cell_type": "code",
   "execution_count": 8,
   "id": "f88f8977",
   "metadata": {},
   "outputs": [
    {
     "data": {
      "text/plain": [
       "edad             0.448430\n",
       "co_genero        0.298954\n",
       "imc              0.224215\n",
       "num_hijos        0.298954\n",
       "co_fumador       0.000000\n",
       "region           0.373692\n",
       "costes_seguro    0.000000\n",
       "dtype: float64"
      ]
     },
     "execution_count": 8,
     "metadata": {},
     "output_type": "execute_result"
    }
   ],
   "source": [
    "# proporción de missing values\n",
    "seguros.isna().mean() * 100"
   ]
  },
  {
   "cell_type": "markdown",
   "id": "a2af6368",
   "metadata": {},
   "source": [
    "### 7. Cruza los datos de seguros con los catálogos de géneros y condición de fumador para tener un set de datos completo y elimina las columnas con los códigos numéricos."
   ]
  },
  {
   "cell_type": "code",
   "execution_count": 9,
   "id": "41343be2",
   "metadata": {
    "scrolled": false
   },
   "outputs": [
    {
     "data": {
      "text/html": [
       "<div>\n",
       "<style scoped>\n",
       "    .dataframe tbody tr th:only-of-type {\n",
       "        vertical-align: middle;\n",
       "    }\n",
       "\n",
       "    .dataframe tbody tr th {\n",
       "        vertical-align: top;\n",
       "    }\n",
       "\n",
       "    .dataframe thead th {\n",
       "        text-align: right;\n",
       "    }\n",
       "</style>\n",
       "<table border=\"1\" class=\"dataframe\">\n",
       "  <thead>\n",
       "    <tr style=\"text-align: right;\">\n",
       "      <th></th>\n",
       "      <th>edad</th>\n",
       "      <th>imc</th>\n",
       "      <th>num_hijos</th>\n",
       "      <th>region</th>\n",
       "      <th>costes_seguro</th>\n",
       "      <th>fumador</th>\n",
       "      <th>genero</th>\n",
       "    </tr>\n",
       "  </thead>\n",
       "  <tbody>\n",
       "    <tr>\n",
       "      <th>0</th>\n",
       "      <td>19.0</td>\n",
       "      <td>27.900</td>\n",
       "      <td>0.0</td>\n",
       "      <td>southwest</td>\n",
       "      <td>16884.92400</td>\n",
       "      <td>si</td>\n",
       "      <td>mujer</td>\n",
       "    </tr>\n",
       "    <tr>\n",
       "      <th>1</th>\n",
       "      <td>62.0</td>\n",
       "      <td>26.290</td>\n",
       "      <td>0.0</td>\n",
       "      <td>southeast</td>\n",
       "      <td>27808.72510</td>\n",
       "      <td>si</td>\n",
       "      <td>mujer</td>\n",
       "    </tr>\n",
       "    <tr>\n",
       "      <th>2</th>\n",
       "      <td>34.0</td>\n",
       "      <td>31.920</td>\n",
       "      <td>1.0</td>\n",
       "      <td>northeast</td>\n",
       "      <td>37701.87680</td>\n",
       "      <td>si</td>\n",
       "      <td>mujer</td>\n",
       "    </tr>\n",
       "    <tr>\n",
       "      <th>3</th>\n",
       "      <td>53.0</td>\n",
       "      <td>22.880</td>\n",
       "      <td>1.0</td>\n",
       "      <td>southeast</td>\n",
       "      <td>23244.79020</td>\n",
       "      <td>si</td>\n",
       "      <td>mujer</td>\n",
       "    </tr>\n",
       "    <tr>\n",
       "      <th>4</th>\n",
       "      <td>20.0</td>\n",
       "      <td>22.420</td>\n",
       "      <td>0.0</td>\n",
       "      <td>northwest</td>\n",
       "      <td>14711.74380</td>\n",
       "      <td>si</td>\n",
       "      <td>mujer</td>\n",
       "    </tr>\n",
       "    <tr>\n",
       "      <th>...</th>\n",
       "      <td>...</td>\n",
       "      <td>...</td>\n",
       "      <td>...</td>\n",
       "      <td>...</td>\n",
       "      <td>...</td>\n",
       "      <td>...</td>\n",
       "      <td>...</td>\n",
       "    </tr>\n",
       "    <tr>\n",
       "      <th>1333</th>\n",
       "      <td>50.0</td>\n",
       "      <td>30.970</td>\n",
       "      <td>3.0</td>\n",
       "      <td>northwest</td>\n",
       "      <td>10600.54830</td>\n",
       "      <td>no</td>\n",
       "      <td>hombre</td>\n",
       "    </tr>\n",
       "    <tr>\n",
       "      <th>1334</th>\n",
       "      <td>59.0</td>\n",
       "      <td>27.720</td>\n",
       "      <td>3.0</td>\n",
       "      <td>southeast</td>\n",
       "      <td>14001.13380</td>\n",
       "      <td>no</td>\n",
       "      <td>NaN</td>\n",
       "    </tr>\n",
       "    <tr>\n",
       "      <th>1335</th>\n",
       "      <td>58.0</td>\n",
       "      <td>32.010</td>\n",
       "      <td>1.0</td>\n",
       "      <td>southeast</td>\n",
       "      <td>11946.62590</td>\n",
       "      <td>no</td>\n",
       "      <td>NaN</td>\n",
       "    </tr>\n",
       "    <tr>\n",
       "      <th>1336</th>\n",
       "      <td>35.0</td>\n",
       "      <td>34.770</td>\n",
       "      <td>2.0</td>\n",
       "      <td>northwest</td>\n",
       "      <td>5729.00530</td>\n",
       "      <td>no</td>\n",
       "      <td>NaN</td>\n",
       "    </tr>\n",
       "    <tr>\n",
       "      <th>1337</th>\n",
       "      <td>33.0</td>\n",
       "      <td>22.135</td>\n",
       "      <td>1.0</td>\n",
       "      <td>northeast</td>\n",
       "      <td>5354.07465</td>\n",
       "      <td>no</td>\n",
       "      <td>NaN</td>\n",
       "    </tr>\n",
       "  </tbody>\n",
       "</table>\n",
       "<p>1338 rows × 7 columns</p>\n",
       "</div>"
      ],
      "text/plain": [
       "      edad     imc  num_hijos     region  costes_seguro fumador  genero\n",
       "0     19.0  27.900        0.0  southwest    16884.92400      si   mujer\n",
       "1     62.0  26.290        0.0  southeast    27808.72510      si   mujer\n",
       "2     34.0  31.920        1.0  northeast    37701.87680      si   mujer\n",
       "3     53.0  22.880        1.0  southeast    23244.79020      si   mujer\n",
       "4     20.0  22.420        0.0  northwest    14711.74380      si   mujer\n",
       "...    ...     ...        ...        ...            ...     ...     ...\n",
       "1333  50.0  30.970        3.0  northwest    10600.54830      no  hombre\n",
       "1334  59.0  27.720        3.0  southeast    14001.13380      no     NaN\n",
       "1335  58.0  32.010        1.0  southeast    11946.62590      no     NaN\n",
       "1336  35.0  34.770        2.0  northwest     5729.00530      no     NaN\n",
       "1337  33.0  22.135        1.0  northeast     5354.07465      no     NaN\n",
       "\n",
       "[1338 rows x 7 columns]"
      ]
     },
     "execution_count": 9,
     "metadata": {},
     "output_type": "execute_result"
    }
   ],
   "source": [
    "catalogo_fumador = pd.read_csv('../data/catalogo_fumador.csv', sep=';')\n",
    "catalogo_genero = pd.read_csv('../data/catalogo_genero.csv', sep=';')\n",
    "# cruzamos los datos manteniendo aquellos en los que haya missing values (hemos visto que había 5 missing values para co_genero)\n",
    "seguros_info_fumar = pd.merge(seguros, catalogo_fumador, how = 'outer')\n",
    "seguros_completo = pd.merge(seguros_info_fumar, catalogo_genero, how='outer')\n",
    "# eliminamos las columnas de códigos\n",
    "del seguros_completo['co_fumador']\n",
    "del seguros_completo['co_genero']\n",
    "seguros_completo"
   ]
  },
  {
   "cell_type": "markdown",
   "id": "e0d33336",
   "metadata": {},
   "source": [
    "# Pandas - Analizando información de seguros"
   ]
  },
  {
   "cell_type": "markdown",
   "id": "4710dfb6",
   "metadata": {},
   "source": [
    "### 1. ¿Qué género es el que tiene el coste medio de seguro más alto?"
   ]
  },
  {
   "cell_type": "code",
   "execution_count": 10,
   "id": "28d9a23e",
   "metadata": {},
   "outputs": [
    {
     "data": {
      "text/plain": [
       "genero\n",
       "hombre    13971.940898\n",
       "mujer     12578.342403\n",
       "Name: costes_seguro, dtype: float64"
      ]
     },
     "execution_count": 10,
     "metadata": {},
     "output_type": "execute_result"
    }
   ],
   "source": [
    "seguros_completo.groupby('genero')['costes_seguro'].mean().sort_values(ascending = False)\n",
    "# podríamos hacer .head(1) pero para prevenir igualdades mostramos los dos"
   ]
  },
  {
   "cell_type": "markdown",
   "id": "6a1cb03c",
   "metadata": {},
   "source": [
    "### 2. ¿Qué IMC medio tienen los seguros con costes inferiores a 9000?"
   ]
  },
  {
   "cell_type": "code",
   "execution_count": 11,
   "id": "95802ca8",
   "metadata": {},
   "outputs": [
    {
     "data": {
      "text/plain": [
       "30.14768160741884"
      ]
     },
     "execution_count": 11,
     "metadata": {},
     "output_type": "execute_result"
    }
   ],
   "source": [
    "seguros_completo[seguros_completo.costes_seguro < 9000]['imc'].mean()"
   ]
  },
  {
   "cell_type": "markdown",
   "id": "3a533585",
   "metadata": {},
   "source": [
    "### 3. ¿Qué relación hay entre la región de residencia y los costes del seguro?"
   ]
  },
  {
   "cell_type": "code",
   "execution_count": 12,
   "id": "0f2d7857",
   "metadata": {},
   "outputs": [
    {
     "data": {
      "text/plain": [
       "region\n",
       "southeast    14742.967648\n",
       "northeast    13440.474959\n",
       "northwest    12420.849801\n",
       "southwest    12350.868740\n",
       "Name: costes_seguro, dtype: float64"
      ]
     },
     "execution_count": 12,
     "metadata": {},
     "output_type": "execute_result"
    }
   ],
   "source": [
    "seguros_completo.groupby('region')['costes_seguro'].mean().sort_values(ascending = False)"
   ]
  },
  {
   "cell_type": "markdown",
   "id": "46bc6822",
   "metadata": {},
   "source": [
    "A partir de estos datos podemos deducir que de manera generalizada es más alto el coste del seguro en las regiones del este"
   ]
  },
  {
   "cell_type": "markdown",
   "id": "752de96e",
   "metadata": {},
   "source": [
    "### 4. ¿Qué género predomina entre los fumadores?"
   ]
  },
  {
   "cell_type": "code",
   "execution_count": 13,
   "id": "fbed6462",
   "metadata": {},
   "outputs": [
    {
     "data": {
      "text/plain": [
       "genero\n",
       "hombre    159\n",
       "mujer     115\n",
       "dtype: int64"
      ]
     },
     "execution_count": 13,
     "metadata": {},
     "output_type": "execute_result"
    }
   ],
   "source": [
    "seguros_completo[seguros_completo.fumador == \"si\"].groupby('genero').size().sort_values(ascending = False)\n",
    "# podríamos hacer .head(1) pero para prevenir igualdades mostramos los dos"
   ]
  },
  {
   "cell_type": "markdown",
   "id": "c3cc375a",
   "metadata": {},
   "source": [
    "### 5. Calcula la edad media de los tomadores de los seguros por región y género."
   ]
  },
  {
   "cell_type": "code",
   "execution_count": 14,
   "id": "65fd81d4",
   "metadata": {
    "scrolled": false
   },
   "outputs": [
    {
     "data": {
      "text/plain": [
       "region     genero\n",
       "northeast  hombre    39.000000\n",
       "           mujer     39.550633\n",
       "northwest  hombre    38.704403\n",
       "           mujer     39.490798\n",
       "southeast  hombre    38.668449\n",
       "           mujer     38.929825\n",
       "southwest  hombre    39.208589\n",
       "           mujer     39.562500\n",
       "Name: edad, dtype: float64"
      ]
     },
     "execution_count": 14,
     "metadata": {},
     "output_type": "execute_result"
    }
   ],
   "source": [
    "seguros_completo.groupby(['region', 'genero'])['edad'].mean()"
   ]
  },
  {
   "cell_type": "markdown",
   "id": "032bb995",
   "metadata": {},
   "source": [
    "### 6. ¿Qué relación existe entre la edad y los costes del seguro?"
   ]
  },
  {
   "cell_type": "code",
   "execution_count": 15,
   "id": "27aa8c83",
   "metadata": {
    "scrolled": false
   },
   "outputs": [
    {
     "data": {
      "text/plain": [
       "edad\n",
       "64.0    23275.530837\n",
       "60.0    22377.171760\n",
       "61.0    22024.457609\n",
       "63.0    19884.998461\n",
       "43.0    19267.278653\n",
       "62.0    19163.856573\n",
       "59.0    18895.869532\n",
       "54.0    18758.546475\n",
       "52.0    18256.269719\n",
       "37.0    18019.911877\n",
       "47.0    17653.999593\n",
       "57.0    16447.185250\n",
       "55.0    16164.545488\n",
       "53.0    16020.930755\n",
       "44.0    15859.396587\n",
       "51.0    15682.255867\n",
       "50.0    15663.003301\n",
       "56.0    15144.762790\n",
       "45.0    14830.199856\n",
       "48.0    14632.500445\n",
       "46.0    14539.708911\n",
       "58.0    13878.928112\n",
       "42.0    13061.038669\n",
       "49.0    12847.660967\n",
       "30.0    12719.110358\n",
       "23.0    12419.820040\n",
       "33.0    12351.532987\n",
       "36.0    12204.476138\n",
       "27.0    12184.701721\n",
       "40.0    11952.830614\n",
       "39.0    11778.242945\n",
       "34.0    11613.528121\n",
       "35.0    11307.182031\n",
       "24.0    10648.015962\n",
       "29.0    10430.158727\n",
       "31.0    10196.980573\n",
       "20.0    10159.697736\n",
       "22.0    10012.932802\n",
       "25.0     9838.365311\n",
       "19.0     9747.909335\n",
       "41.0     9653.745650\n",
       "32.0     9220.300291\n",
       "28.0     9069.187564\n",
       "38.0     8102.733674\n",
       "18.0     7086.217556\n",
       "26.0     6235.338216\n",
       "21.0     4730.464330\n",
       "Name: costes_seguro, dtype: float64"
      ]
     },
     "execution_count": 15,
     "metadata": {},
     "output_type": "execute_result"
    }
   ],
   "source": [
    "seguros_completo.groupby('edad')['costes_seguro'].mean().sort_values(ascending = False)"
   ]
  },
  {
   "cell_type": "code",
   "execution_count": 16,
   "id": "dd0dc808",
   "metadata": {},
   "outputs": [
    {
     "data": {
      "text/plain": [
       "edad\n",
       "(55, 60]    17218.809805\n",
       "(50, 55]    16988.005623\n",
       "(45, 50]    15102.354172\n",
       "(40, 45]    14538.651124\n",
       "(35, 40]    12407.997713\n",
       "(30, 35]    10929.364789\n",
       "(25, 30]    10134.987570\n",
       "(20, 25]     9529.919689\n",
       "(15, 20]     8713.482413\n",
       "Name: costes_seguro, dtype: float64"
      ]
     },
     "execution_count": 16,
     "metadata": {},
     "output_type": "execute_result"
    }
   ],
   "source": [
    "# Agrupando por grupos de edad (sabemos que tienen desde 18 hasta 64 años gracias al ejercicio de estadísticas)\n",
    "# Podemos hacernos una idea de las diferencias por edades\n",
    "seguros_rango_coste = seguros_completo.groupby(pd.cut(seguros_completo[\"edad\"], np.arange(15, 65, 5)))['costes_seguro']\n",
    "seguros_rango_coste.mean().sort_values(ascending = False)"
   ]
  },
  {
   "cell_type": "markdown",
   "id": "f3047887",
   "metadata": {},
   "source": [
    "Viendo los resultados, podemos concluir que lo normal es que a mayor edad, mayor coste del seguro."
   ]
  },
  {
   "cell_type": "code",
   "execution_count": null,
   "id": "4f2d3ea8",
   "metadata": {},
   "outputs": [],
   "source": []
  }
 ],
 "metadata": {
  "kernelspec": {
   "display_name": "Python 3",
   "language": "python",
   "name": "python3"
  },
  "language_info": {
   "codemirror_mode": {
    "name": "ipython",
    "version": 3
   },
   "file_extension": ".py",
   "mimetype": "text/x-python",
   "name": "python",
   "nbconvert_exporter": "python",
   "pygments_lexer": "ipython3",
   "version": "3.8.8"
  }
 },
 "nbformat": 4,
 "nbformat_minor": 5
}
