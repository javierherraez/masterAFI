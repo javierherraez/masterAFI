{
 "cells": [
  {
   "cell_type": "markdown",
   "metadata": {
    "id": "dvJ-a71RXeql",
    "nbgrader": {
     "grade": false,
     "locked": false,
     "solution": false
    }
   },
   "source": [
    "# Ejercicio: creando una red neuronal artificial sencilla con Keras"
   ]
  },
  {
   "cell_type": "markdown",
   "metadata": {
    "id": "jXZNPddnXeqs",
    "nbgrader": {
     "grade": false,
     "locked": false,
     "solution": false
    }
   },
   "source": [
    "<img src=\"https://keras.io/img/logo.png\">"
   ]
  },
  {
   "cell_type": "markdown",
   "metadata": {
    "id": "IyrFGguNXeqt",
    "nbgrader": {
     "grade": false,
     "locked": false,
     "solution": false
    }
   },
   "source": [
    "En este ejercicio vamos a crear una primera red neuronal artificial con Keras, para resolver un problema sencillo de clasificación binaria."
   ]
  },
  {
   "cell_type": "markdown",
   "metadata": {
    "id": "kUQO4MpYXequ",
    "nbgrader": {
     "grade": false,
     "locked": false,
     "solution": false
    }
   },
   "source": [
    "## Guía general"
   ]
  },
  {
   "cell_type": "markdown",
   "metadata": {
    "id": "NTGlS2keXeqx",
    "nbgrader": {
     "grade": false,
     "locked": false,
     "solution": false
    }
   },
   "source": [
    "A lo largo del notebook encontrarás celdas que debes rellenar con tu propio código. Sigue las instrucciones del notebook y presta atención a los siguientes iconos:\n",
    "\n",
    "<img src=\"https://albarji-labs-materials.s3-eu-west-1.amazonaws.com/question.png\" height=\"80\" width=\"80\" style=\"float: right;\"/>\n",
    "\n",
    "***\n",
    "\n",
    "<font color=#ad3e26>\n",
    "Deberás resolver el ejercicio escribiendo tu propio código o respuesta en la celda inmediatamente inferior.</font>\n",
    "\n",
    "***"
   ]
  },
  {
   "cell_type": "markdown",
   "metadata": {
    "id": "3zqkhyUAXeqy"
   },
   "source": [
    "<img src=\"https://albarji-labs-materials.s3-eu-west-1.amazonaws.com/exclamation.png\" height=\"80\" width=\"80\" style=\"float: right;\"/>\n",
    "\n",
    "***\n",
    "<font color=#2655ad>\n",
    "Esto es una pista u observación de utilidad que puede ayudarte a resolver el ejercicio. Presta atención a estas pistas para comprender el ejercicio en mayor profundidad.\n",
    "</font>\n",
    "\n",
    "***"
   ]
  },
  {
   "cell_type": "markdown",
   "metadata": {
    "id": "pr9DdtcqXeqz"
   },
   "source": [
    "<img src=\"https://albarji-labs-materials.s3-eu-west-1.amazonaws.com/pro.png\" height=\"80\" width=\"80\" style=\"float: right;\"/>\n",
    "\n",
    "***\n",
    "<font color=#259b4c>\n",
    "Este es un ejercicio avanzado que te puede ayudar a profundizar en el tema. ¡Buena suerte!</font>\n",
    "\n",
    "***"
   ]
  },
  {
   "cell_type": "markdown",
   "metadata": {
    "id": "ZLvJR0BJXeq0"
   },
   "source": [
    "Para evitar problemas con imports o incompatibilidades se recomienda ejecutar este notebook en uno de los [entornos de Deep Learning recomendados](https://github.com/albarji/teaching-environments-deeplearning), o hacer uso [Google Colaboratory](https://colab.research.google.com/). Si usas Colaboratory, asegúrate de [conectar una GPU](https://colab.research.google.com/notebooks/gpu.ipynb)."
   ]
  },
  {
   "cell_type": "markdown",
   "metadata": {
    "id": "cbSqXp04Xeq2"
   },
   "source": [
    "El siguiente código mostrará todas las gráficas en el propio notebook en lugar de generar una nueva ventana."
   ]
  },
  {
   "cell_type": "code",
   "execution_count": null,
   "metadata": {
    "id": "PUwM3Cf7Xeq3"
   },
   "outputs": [],
   "source": [
    "import matplotlib.pyplot as plt\n",
    "%matplotlib inline"
   ]
  },
  {
   "cell_type": "markdown",
   "metadata": {
    "id": "m1FkqcMAXeq5"
   },
   "source": [
    "También vamos a fijar las semillas aleatorias de numpy y tensorflow para obtener resultados reproducibles entre varias ejecuciones del notebook"
   ]
  },
  {
   "cell_type": "code",
   "execution_count": null,
   "metadata": {
    "id": "G_MLJ5n6Xeq6"
   },
   "outputs": [],
   "source": [
    "import numpy as np\n",
    "import tensorflow as tf\n",
    "np.random.seed(1)\n",
    "tf.random.set_seed(2)"
   ]
  },
  {
   "cell_type": "markdown",
   "metadata": {
    "id": "DIqG8TBtXeq7"
   },
   "source": [
    "Finalmente, si necesitas ayuda en el uso de cualquier función Python, coloca el cursor sobre su nombre y presiona Shift+Tab. Aparecerá una ventana con su documentación. Esto solo funciona dentro de celdas de código.\n",
    "\n",
    "¡Vamos alla!"
   ]
  },
  {
   "cell_type": "markdown",
   "metadata": {
    "id": "oby3ILNNXeq8"
   },
   "source": [
    "## Carga de datos"
   ]
  },
  {
   "cell_type": "markdown",
   "metadata": {
    "id": "900IeH2aXerG"
   },
   "source": [
    "Vamos a utilizar un problema sencillo de clasificación binaria, que no requiera de un preprocesado de datos complejo: [detección de cáncer de mama en base a unas características precalculadas](https://archive.ics.uci.edu/ml/datasets/Breast+Cancer+Wisconsin+(Diagnostic)). Este dataset está incluído entre los [datasets de juguete de scikit-learn](https://scikit-learn.org/stable/modules/generated/sklearn.datasets.load_breast_cancer.html#sklearn.datasets.load_breast_cancer)."
   ]
  },
  {
   "cell_type": "code",
   "execution_count": null,
   "metadata": {
    "id": "VOHVOkTmXerH",
    "scrolled": true
   },
   "outputs": [],
   "source": [
    "from sklearn.datasets import load_breast_cancer\n",
    "from sklearn.model_selection import train_test_split\n",
    "\n",
    "data = load_breast_cancer()"
   ]
  },
  {
   "cell_type": "markdown",
   "metadata": {
    "id": "8FIJpp31XerJ"
   },
   "source": [
    "Podemos ver que en este problema contamos con 569 datos en total, cada uno de ellos de 30 variables explicativas, y que solo existen dos clases."
   ]
  },
  {
   "cell_type": "code",
   "execution_count": null,
   "metadata": {
    "colab": {
     "base_uri": "https://localhost:8080/"
    },
    "id": "AnLZ47r3XerM",
    "outputId": "1627a48b-0801-49b7-aceb-6b074fdf78b1"
   },
   "outputs": [],
   "source": [
    "print(\"Forma de los datos de entrada:\", data.data.shape)\n",
    "print(\"Categorías a clasificar:\", set(data.target))"
   ]
  },
  {
   "cell_type": "markdown",
   "metadata": {
    "id": "IKVCI-o-XerO"
   },
   "source": [
    "Ahora separamos un tercio de los datos como conjunto de test, empleando el método [train_test_split de scikit-learn](https://scikit-learn.org/stable/modules/generated/sklearn.model_selection.train_test_split.html)."
   ]
  },
  {
   "cell_type": "code",
   "execution_count": null,
   "metadata": {
    "id": "3fOoapVdXerO"
   },
   "outputs": [],
   "source": [
    "X_train_raw, X_test_raw, y_train, y_test = train_test_split(data.data, data.target, test_size=0.33, random_state=42)"
   ]
  },
  {
   "cell_type": "markdown",
   "metadata": {
    "id": "UQHTtHDnXerP"
   },
   "source": [
    "Vamos a estandarizar las variables de entrada para asegurar un buen funcionamiento de la red neuronal. Esto puede hacerse fácilmente con el [StandardScaler de scikit-learn](https://scikit-learn.org/stable/modules/generated/sklearn.preprocessing.StandardScaler.html)."
   ]
  },
  {
   "cell_type": "code",
   "execution_count": null,
   "metadata": {
    "id": "xnXFfOykXerQ"
   },
   "outputs": [],
   "source": [
    "from sklearn.preprocessing import StandardScaler\n",
    "\n",
    "scaler = StandardScaler()\n",
    "X_train = scaler.fit_transform(X_train_raw)\n",
    "X_test = scaler.transform(X_test_raw)"
   ]
  },
  {
   "cell_type": "markdown",
   "metadata": {
    "id": "cl7WW4RKXerR"
   },
   "source": [
    "## Perceptrón"
   ]
  },
  {
   "cell_type": "markdown",
   "metadata": {
    "id": "JSdPZUkKXerU"
   },
   "source": [
    "Empezaremos resolviendo el problema con la red neuronal más sencilla posible: un perceptrón. Esto es básicamente una red neuronal sin capas ocultas, teniendo solo una capa de salida que recibe información directamente de las variables explicativas."
   ]
  },
  {
   "cell_type": "markdown",
   "metadata": {
    "id": "XYX-e7jRXerW"
   },
   "source": [
    "### Definiendo la red"
   ]
  },
  {
   "cell_type": "markdown",
   "metadata": {
    "id": "1SA_XmGkXerX"
   },
   "source": [
    "Para construir una red en Keras primero debemos definir el tipo de arquitectura:\n",
    "\n",
    "* **Sequential**: cada nueva capa se conecta a la capa declarada inmediatamente antes en la red, siguiendo una cadena.\n",
    "* **Functional**: cada capa puede conectarse a la salida de cualquier otra capa declarada antes en la red, siempre y cuando no se formen ciclos.\n",
    "\n",
    "Para este ejercicio será suficiente con una arquitectura de tipo Sequential."
   ]
  },
  {
   "cell_type": "code",
   "execution_count": null,
   "metadata": {
    "id": "JB54WT4JXerY"
   },
   "outputs": [],
   "source": [
    "from tensorflow.keras import Sequential\n",
    "\n",
    "perceptron = Sequential()"
   ]
  },
  {
   "cell_type": "markdown",
   "metadata": {
    "id": "dMKw2aBCXerZ"
   },
   "source": [
    "Una vez la red ha sido inicializada, podemos ir añadiendo las capas deseadas de manera iterativa. Para construir un perceptrón solo nos hará falta una capa \"clásica\" de pesos desde las entradas a la salida. En Deep Learning moderno este tipo de capas se llaman **Dense**, porque conectan todas las variables de entrada con todas las salidas de la capa."
   ]
  },
  {
   "cell_type": "code",
   "execution_count": null,
   "metadata": {
    "id": "lfdbfSRXXerZ"
   },
   "outputs": [],
   "source": [
    "from tensorflow.keras.layers import Dense"
   ]
  },
  {
   "cell_type": "markdown",
   "metadata": {
    "id": "6a_47XHnXerb"
   },
   "source": [
    "Para crear una capa densa suele bastar con declarar el número de unidades de salida (o desde un punto de vista clásico, el número de neuronas). No obstante, en un modelo de tipo Sequential estamos obligados a declarar el número de variables de entrada a la red neuronal cuando creamos nuestra primera capa. En este problema tenemos 30 variables explicativas, y podemos representar la salida de la red como una única neurona que nos diga si el dato es de clase 0 o 1. Por tanto, nos basta con crear la capa Dense y añadirla al modelo de la siguiente manera."
   ]
  },
  {
   "cell_type": "code",
   "execution_count": null,
   "metadata": {
    "id": "CAvICXgkXerb"
   },
   "outputs": [],
   "source": [
    "perceptron.add(Dense(1, input_dim=30))"
   ]
  },
  {
   "cell_type": "markdown",
   "metadata": {
    "id": "cI5mxzoqXerb"
   },
   "source": [
    "Como el problema es de clasificación binaria, nos interesa limitar el rango de valores que puede generar la única neurona de salida de la red. Para ello, lo más conveniente es usar la función de activación sigmoidal, la cual podemos añadir de la siguiente manera."
   ]
  },
  {
   "cell_type": "code",
   "execution_count": null,
   "metadata": {
    "id": "bjMgDN6OXerc"
   },
   "outputs": [],
   "source": [
    "from tensorflow.keras.layers import Activation\n",
    "perceptron.add(Activation('sigmoid'))"
   ]
  },
  {
   "cell_type": "markdown",
   "metadata": {
    "id": "qGrW1t-kXerc"
   },
   "source": [
    "Con esto, la definición de la red está completa. Podemos confirmar que la hemos construído correctamente pidiendo a Keras un resumen del modelo."
   ]
  },
  {
   "cell_type": "code",
   "execution_count": null,
   "metadata": {
    "colab": {
     "base_uri": "https://localhost:8080/"
    },
    "id": "vlJPHgb-Xere",
    "outputId": "3d17d385-2476-45a1-9d4a-7aa1eb93e916"
   },
   "outputs": [],
   "source": [
    "perceptron.summary()"
   ]
  },
  {
   "cell_type": "markdown",
   "metadata": {
    "id": "h7ic0U1rXerg"
   },
   "source": [
    "### Compilando la red"
   ]
  },
  {
   "cell_type": "markdown",
   "metadata": {
    "id": "82qrk-0tXerg"
   },
   "source": [
    "Tras definir la red, debemos realizar la compilación de la misma. La compilación es un proceso automático que transforma la definición de la red en una formulación simbólica equivalente para la que pueden calcularse las derivadas, permitiendo así ejecutar el algoritmo de retropropagación (backpropagation). Los únicos parámetros que debemos especificar son la función de pérdida o error que la red debe minimizar, y el optimizador a usar durante el aprendizaje.\n",
    "\n",
    "Dado que estamos tratando con un problema de clasificación binaria, la función de pérdida más adecuada es la **binary crossentropy**. En cuanto al optimizador, de momento utilizaremos el **Stochastic Gradient Descent**. Como parámetro opcional, solicitaremos que como métrica se nos informe de la **accuracy** durante el entrenamiento de la red."
   ]
  },
  {
   "cell_type": "code",
   "execution_count": null,
   "metadata": {
    "id": "B2YtLsaPXerh"
   },
   "outputs": [],
   "source": [
    "perceptron.compile(loss='binary_crossentropy', optimizer='sgd', metrics=['accuracy'])"
   ]
  },
  {
   "cell_type": "markdown",
   "metadata": {
    "id": "EAXKDxU8Xerh"
   },
   "source": [
    "### Entrenando la red"
   ]
  },
  {
   "cell_type": "markdown",
   "metadata": {
    "id": "kJs_04KDXeri"
   },
   "source": [
    "Ahora podemos invocar al método `fit` de la red, el encargado de ejecutar el proceso de entrenamiento. Se configura de la siguiente manera"
   ]
  },
  {
   "cell_type": "code",
   "execution_count": null,
   "metadata": {
    "colab": {
     "base_uri": "https://localhost:8080/"
    },
    "id": "0Pm4bti8Xerj",
    "outputId": "8a55342f-6385-4c53-ccd8-2af97d645b24",
    "scrolled": false
   },
   "outputs": [],
   "source": [
    "perceptron.fit(\n",
    "    X_train, # Features de los datos de entrenamiento\n",
    "    y_train, # Etiquetas de los datos de entrenamiento\n",
    "    epochs=25, # Número de épocas: las pasadas que hará la red neuronal sobre nuestros datos\n",
    "    verbose=2, # Nivel de verbosidad de los mensajes\n",
    ")"
   ]
  },
  {
   "cell_type": "markdown",
   "metadata": {
    "id": "sMGW3iHJXerl"
   },
   "source": [
    "Ahora que nuestra red está entrenada, podemos obtener predicciones para el conjunto de test como"
   ]
  },
  {
   "cell_type": "code",
   "execution_count": null,
   "metadata": {
    "id": "VuUKiv_pXerl"
   },
   "outputs": [],
   "source": [
    "probs = perceptron.predict(X_test)"
   ]
  },
  {
   "cell_type": "markdown",
   "metadata": {
    "id": "zKOtsT2VXerm"
   },
   "source": [
    "Las predicciones se obtienen como una matriz con forma `(n_datos, 1)`, que pueden interpretarse como las probabilidades de clase positiva de cada uno de los datos de test"
   ]
  },
  {
   "cell_type": "code",
   "execution_count": null,
   "metadata": {
    "colab": {
     "base_uri": "https://localhost:8080/"
    },
    "id": "295Vstw5Xerm",
    "outputId": "28884bbc-c229-4738-a26f-c70551b69205"
   },
   "outputs": [],
   "source": [
    "probs"
   ]
  },
  {
   "cell_type": "markdown",
   "metadata": {
    "id": "jOPaEk26Xerm"
   },
   "source": [
    "También podemos medir directamente el porcentaje de aciertos de nuestra red sobre el test, usando el método **evaluate**"
   ]
  },
  {
   "cell_type": "code",
   "execution_count": null,
   "metadata": {
    "colab": {
     "base_uri": "https://localhost:8080/"
    },
    "id": "amUzrYyeXern",
    "outputId": "b1bd6780-fe20-4cda-9ec7-c341da112dd4"
   },
   "outputs": [],
   "source": [
    "score = perceptron.evaluate(X_test, y_test)\n",
    "print(\"Test loss\", score[0])\n",
    "print(\"Test accuracy\", score[1])"
   ]
  },
  {
   "cell_type": "markdown",
   "metadata": {
    "id": "xwQ_97kYXero"
   },
   "source": [
    "## Perceptrón multicapa"
   ]
  },
  {
   "cell_type": "markdown",
   "metadata": {
    "id": "7qRf7p0-Xerp"
   },
   "source": [
    "Pasando a los años 80, podemos mejorar nuestra red introduciendo **capas ocultas**. En Keras podemos hacer esto de forma sencilla introduciendo capas Dense adicionales. Por ejemplo, podemos crear una red con una capa oculta de 64 neuronas de la siguiente manera."
   ]
  },
  {
   "cell_type": "code",
   "execution_count": null,
   "metadata": {
    "id": "r3qz_xAYXerq"
   },
   "outputs": [],
   "source": [
    "pmc = Sequential()\n",
    "pmc.add(Dense(64, input_dim=30, activation='sigmoid'))\n",
    "pmc.add(Dense(1, activation='sigmoid'))"
   ]
  },
  {
   "cell_type": "markdown",
   "metadata": {
    "id": "qiv3nRaPXerr"
   },
   "source": [
    "En esta ocasión hemos añadido las activaciones declarándolas en la propia capa Dense, de forma que la notación resulte más compacta. Nótese también que hemos puesto una activación de tipo sigmoidal en la capa oculta, para que la red pueda comportarse de manera no lineal. La red, por tanto, queda de la siguiente manera"
   ]
  },
  {
   "cell_type": "code",
   "execution_count": null,
   "metadata": {
    "colab": {
     "base_uri": "https://localhost:8080/"
    },
    "id": "LOTzpRrRXerr",
    "outputId": "2c650e12-888d-404f-ad7d-3add9b7a7c8f"
   },
   "outputs": [],
   "source": [
    "pmc.summary()"
   ]
  },
  {
   "cell_type": "markdown",
   "metadata": {
    "id": "Uvn4tacwXers"
   },
   "source": [
    "<img src=\"https://albarji-labs-materials.s3-eu-west-1.amazonaws.com/question.png\" height=\"80\" width=\"80\" style=\"float: right;\"/>\n",
    "\n",
    "***\n",
    "\n",
    "<font color=#ad3e26>\n",
    "Compila el perceptrón multicapa y entrénalo con los datos de train. ¿Qué nivel de acierto se obtiene al evaluarlo en test?\n",
    "</font>\n",
    "\n",
    "***\n"
   ]
  },
  {
   "cell_type": "code",
   "execution_count": null,
   "metadata": {
    "colab": {
     "base_uri": "https://localhost:8080/"
    },
    "id": "sZLkQrwDXers",
    "outputId": "6efabed5-72bd-4bf3-fb44-62ce8edcfa17",
    "scrolled": false
   },
   "outputs": [],
   "source": [
    "####### INSERT YOUR CODE HERE"
   ]
  },
  {
   "cell_type": "markdown",
   "metadata": {
    "id": "3vZUv7CDXers"
   },
   "source": [
    "<img src=\"https://albarji-labs-materials.s3-eu-west-1.amazonaws.com/exclamation.png\" height=\"80\" width=\"80\" style=\"float: right;\"/>\n",
    "\n",
    "***\n",
    "<font color=#2655ad>\n",
    "Es probable que añadir una capa oculta no haya mejorado los resultados en test. En las siguientes secciones iremos añadiendo algunas de las recetas de Deep Learning para mejorar el rendimiento de la red.\n",
    "</font>\n",
    "\n",
    "***"
   ]
  },
  {
   "cell_type": "markdown",
   "metadata": {},
   "source": [
    "### Más épocas"
   ]
  },
  {
   "cell_type": "markdown",
   "metadata": {},
   "source": [
    "Un punto distintivo del método `fit` de Keras es que no reinicia el estado de la red neuronal, sino que continua el entrenamiento. Este comportamiento es diferente al que podemos observar en otras librerías de machine learning más clásico como **scikit-learn**, donde el método `fit` reinicia el entrenamiento del modelo. De este modo, en Keras podemos volver a llamar a `fit` para continuar entrenando durante más épocas."
   ]
  },
  {
   "cell_type": "markdown",
   "metadata": {},
   "source": [
    "<img src=\"https://albarji-labs-materials.s3-eu-west-1.amazonaws.com/question.png\" height=\"80\" width=\"80\" style=\"float: right;\"/>\n",
    "\n",
    "***\n",
    "\n",
    "<font color=#ad3e26>\n",
    "Realiza una nueva llamada a `fit` sobre la misma red `pmc`, y mide el acierto sobre el conjunto de test.\n",
    "</font>\n",
    "\n",
    "***\n"
   ]
  },
  {
   "cell_type": "code",
   "execution_count": null,
   "metadata": {},
   "outputs": [],
   "source": [
    "####### INSERT YOUR CODE HERE"
   ]
  },
  {
   "cell_type": "markdown",
   "metadata": {},
   "source": [
    "Observa que la red ya muestra una accuracy muy alta en la primera época. Esto es porque se está continuando el entrenamiento realizado en la celda anterior. En Keras solo podemos reiniciar el entrenamiento de una red si la volvemos a construir desde cero."
   ]
  },
  {
   "cell_type": "markdown",
   "metadata": {
    "id": "Y4H94pMGXert"
   },
   "source": [
    "### Más capas"
   ]
  },
  {
   "cell_type": "markdown",
   "metadata": {
    "id": "AJ836RL1Xert"
   },
   "source": [
    "Podemos introducir en la red más de una capa oculta si la configuramos adecuadamente en Keras. Por ejemplo, si queremos introducir 3 capas ocultas cada una de ellas con 64 neuronas, lo haríamos de la siguiente manera"
   ]
  },
  {
   "cell_type": "code",
   "execution_count": null,
   "metadata": {
    "colab": {
     "base_uri": "https://localhost:8080/"
    },
    "id": "5EO1AJlJXert",
    "outputId": "1886ccd4-0964-415e-dd24-dd2843b3168d"
   },
   "outputs": [],
   "source": [
    "pmc2 = Sequential()\n",
    "pmc2.add(Dense(64, input_dim=30, activation='sigmoid'))\n",
    "pmc2.add(Dense(64, activation='sigmoid'))\n",
    "pmc2.add(Dense(64, activation='sigmoid'))\n",
    "pmc2.add(Dense(1, activation='sigmoid'))\n",
    "\n",
    "pmc2.summary()"
   ]
  },
  {
   "cell_type": "markdown",
   "metadata": {
    "id": "yYBwJrVmXeru"
   },
   "source": [
    "<img src=\"https://albarji-labs-materials.s3-eu-west-1.amazonaws.com/question.png\" height=\"80\" width=\"80\" style=\"float: right;\"/>\n",
    "\n",
    "***\n",
    "\n",
    "<font color=#ad3e26>\n",
    "Compila y entrena esta nueva red. ¿Qué nivel de acierto obtienes ahora?\n",
    "</font>\n",
    "\n",
    "***\n"
   ]
  },
  {
   "cell_type": "code",
   "execution_count": null,
   "metadata": {
    "colab": {
     "base_uri": "https://localhost:8080/"
    },
    "id": "xFxAP9mkXerv",
    "outputId": "200c8266-0290-42cb-cf84-846f7561ec05"
   },
   "outputs": [],
   "source": [
    "####### INSERT YOUR CODE HERE"
   ]
  },
  {
   "cell_type": "markdown",
   "metadata": {
    "id": "-smNEyZTXerv"
   },
   "source": [
    "<img src=\"https://albarji-labs-materials.s3-eu-west-1.amazonaws.com/exclamation.png\" height=\"80\" width=\"80\" style=\"float: right;\"/>\n",
    "\n",
    "***\n",
    "<font color=#2655ad>\n",
    "Observa cómo va evolucionando la <b>loss</b> durante el aprendizaje, y compáralo con las redes anteriores. Añadir más capas ocultas sin controlar el desvanecimiento de gradientes puede provocar que la red aprenda muy lentamente.\n",
    "</font>\n",
    "\n",
    "***"
   ]
  },
  {
   "cell_type": "markdown",
   "metadata": {
    "id": "mSkANGcDXerv"
   },
   "source": [
    "## Evitando el desvanecimiento de gradientes"
   ]
  },
  {
   "cell_type": "markdown",
   "metadata": {
    "id": "xOSi1iYOXerw"
   },
   "source": [
    "Si queremos garantizar que todas las capas de la red aprendan correctamente, necesitamos utilizar alguna medida para evitar el desvanecimiento de gradientes. Una medida simple pero bastante efectiva es sustituir la función de la activación de las capas ocultas por la función Rectificada Lineal (ReLU)."
   ]
  },
  {
   "cell_type": "code",
   "execution_count": null,
   "metadata": {
    "colab": {
     "base_uri": "https://localhost:8080/"
    },
    "id": "FHB22PU5Xerw",
    "outputId": "e5875e5a-d01f-4153-e84c-6ff8b4f395b4"
   },
   "outputs": [],
   "source": [
    "pmc_relu = Sequential()\n",
    "pmc_relu.add(Dense(64, input_dim=30, activation='relu'))\n",
    "pmc_relu.add(Dense(64, activation='relu'))\n",
    "pmc_relu.add(Dense(64, activation='relu'))\n",
    "pmc_relu.add(Dense(1, activation='sigmoid'))\n",
    "\n",
    "pmc_relu.summary()"
   ]
  },
  {
   "cell_type": "markdown",
   "metadata": {
    "id": "kcgIPg2-Xerw"
   },
   "source": [
    "<img src=\"https://albarji-labs-materials.s3-eu-west-1.amazonaws.com/question.png\" height=\"80\" width=\"80\" style=\"float: right;\"/>\n",
    "\n",
    "***\n",
    "\n",
    "<font color=#ad3e26>\n",
    "Compila y entrena esta nueva red. ¿Han mejorado los resultados respecto a la red anterior con activaciones sigmoidales?\n",
    "</font>\n",
    "\n",
    "***\n"
   ]
  },
  {
   "cell_type": "code",
   "execution_count": null,
   "metadata": {
    "colab": {
     "base_uri": "https://localhost:8080/"
    },
    "id": "7Edg-PZRXerx",
    "outputId": "b6ed16a0-8991-4f97-c3ad-cd51d5a5647c"
   },
   "outputs": [],
   "source": [
    "####### INSERT YOUR CODE HERE"
   ]
  },
  {
   "cell_type": "markdown",
   "metadata": {
    "id": "iiBEijlQXerx"
   },
   "source": [
    "## Controlando el sobreajuste"
   ]
  },
  {
   "cell_type": "markdown",
   "metadata": {
    "id": "5uCZjgRCXerx"
   },
   "source": [
    "Si la diferencia entre el loss o la accuracy de training y test es grande, puede que nuestro modelo esté sobreajustando a los datos de entrenamiento. Podemos añadir a nuestra red un método para controlar el sobreajuste usando capas de Dropout. Por ejemplo, para añadir un Dropout del 50% a todas las capas ocultas podemos hacer lo siguiente"
   ]
  },
  {
   "cell_type": "code",
   "execution_count": null,
   "metadata": {
    "colab": {
     "base_uri": "https://localhost:8080/"
    },
    "id": "nAN88gfYXerx",
    "outputId": "84a44860-90b3-4c60-bc95-0f57704bda30"
   },
   "outputs": [],
   "source": [
    "from tensorflow.keras.layers import Dropout\n",
    "\n",
    "pmc_dropout = Sequential()\n",
    "pmc_dropout.add(Dense(64, input_dim=30, activation='relu'))\n",
    "pmc_dropout.add(Dropout(0.5))\n",
    "pmc_dropout.add(Dense(64, activation='relu'))\n",
    "pmc_dropout.add(Dropout(0.5))\n",
    "pmc_dropout.add(Dense(64, activation='relu'))\n",
    "pmc_dropout.add(Dropout(0.5))\n",
    "pmc_dropout.add(Dense(1, activation='sigmoid'))\n",
    "\n",
    "pmc_dropout.summary()"
   ]
  },
  {
   "cell_type": "markdown",
   "metadata": {
    "id": "4VVYFTRPXerz"
   },
   "source": [
    "<img src=\"https://albarji-labs-materials.s3-eu-west-1.amazonaws.com/question.png\" height=\"80\" width=\"80\" style=\"float: right;\"/>\n",
    "\n",
    "***\n",
    "\n",
    "<font color=#ad3e26>\n",
    "Compila y entrena esta nueva red. ¿Han mejorado los resultados?\n",
    "</font>\n",
    "\n",
    "***\n"
   ]
  },
  {
   "cell_type": "code",
   "execution_count": null,
   "metadata": {
    "colab": {
     "base_uri": "https://localhost:8080/"
    },
    "id": "LeX5aVPtXerz",
    "outputId": "66e3cff4-985c-4c9f-ab2f-bc1947dba647"
   },
   "outputs": [],
   "source": [
    "####### INSERT YOUR CODE HERE"
   ]
  },
  {
   "cell_type": "markdown",
   "metadata": {
    "id": "hqJanVZHXer0"
   },
   "source": [
    "## Optimizando mejor"
   ]
  },
  {
   "cell_type": "markdown",
   "metadata": {
    "id": "yxOpTyfUXer1"
   },
   "source": [
    "Como última mejora, vamos a introducir el optimizador [Adam](https://keras.io/api/optimizers/adam/). Este optimizador hace un uso más eficiente de los gradientes calculados durante el backpropagation, por lo que con el mismo número de épocas suele conseguir mejores resultados. Para configurarlo basta con definir la red de la misma manera, e indicar `optimizer=\"adam\"` en el paso de compilación."
   ]
  },
  {
   "cell_type": "markdown",
   "metadata": {
    "id": "LbDIeSyRXer2"
   },
   "source": [
    "<img src=\"https://albarji-labs-materials.s3-eu-west-1.amazonaws.com/question.png\" height=\"80\" width=\"80\" style=\"float: right;\"/>\n",
    "\n",
    "***\n",
    "\n",
    "<font color=#ad3e26>\n",
    "Define una nueva red copiando el diseño de la red anterior, compílala usando Adam como optimizador, entrena y mide el acierto sobre el conjunto de test. ¿Has conseguido mejora?\n",
    "</font>\n",
    "\n",
    "***\n"
   ]
  },
  {
   "cell_type": "code",
   "execution_count": null,
   "metadata": {
    "colab": {
     "base_uri": "https://localhost:8080/"
    },
    "id": "-ikfeJHTXer2",
    "outputId": "e962e11f-fff7-4b69-e807-842608d6ce34"
   },
   "outputs": [],
   "source": [
    "####### INSERT YOUR CODE HERE"
   ]
  }
 ],
 "metadata": {
  "accelerator": "GPU",
  "anaconda-cloud": {},
  "colab": {
   "name": "deeplearning_simple_keras_demo.ipynb",
   "provenance": []
  },
  "kernelspec": {
   "display_name": "Python 3 (ipykernel)",
   "language": "python",
   "name": "python3"
  },
  "language_info": {
   "codemirror_mode": {
    "name": "ipython",
    "version": 3
   },
   "file_extension": ".py",
   "mimetype": "text/x-python",
   "name": "python",
   "nbconvert_exporter": "python",
   "pygments_lexer": "ipython3",
   "version": "3.8.11"
  }
 },
 "nbformat": 4,
 "nbformat_minor": 1
}
