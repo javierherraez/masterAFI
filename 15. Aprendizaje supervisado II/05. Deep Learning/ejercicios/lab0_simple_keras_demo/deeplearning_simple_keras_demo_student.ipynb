{
  "cells": [
    {
      "cell_type": "markdown",
      "metadata": {
        "id": "dvJ-a71RXeql",
        "nbgrader": {
          "grade": false,
          "locked": false,
          "solution": false
        }
      },
      "source": [
        "# Ejercicio: creando una red neuronal artificial sencilla con Keras"
      ]
    },
    {
      "cell_type": "markdown",
      "metadata": {
        "id": "jXZNPddnXeqs",
        "nbgrader": {
          "grade": false,
          "locked": false,
          "solution": false
        }
      },
      "source": [
        "<img src=\"https://keras.io/img/logo.png\">"
      ]
    },
    {
      "cell_type": "markdown",
      "metadata": {
        "id": "IyrFGguNXeqt",
        "nbgrader": {
          "grade": false,
          "locked": false,
          "solution": false
        }
      },
      "source": [
        "En este ejercicio vamos a crear una primera red neuronal artificial con Keras, para resolver un problema sencillo de clasificación binaria."
      ]
    },
    {
      "cell_type": "markdown",
      "metadata": {
        "id": "kUQO4MpYXequ",
        "nbgrader": {
          "grade": false,
          "locked": false,
          "solution": false
        }
      },
      "source": [
        "## Guía general"
      ]
    },
    {
      "cell_type": "markdown",
      "metadata": {
        "id": "NTGlS2keXeqx",
        "nbgrader": {
          "grade": false,
          "locked": false,
          "solution": false
        }
      },
      "source": [
        "A lo largo del notebook encontrarás celdas que debes rellenar con tu propio código. Sigue las instrucciones del notebook y presta atención a los siguientes iconos:\n",
        "\n",
        "<img src=\"https://albarji-labs-materials.s3-eu-west-1.amazonaws.com/question.png\" height=\"80\" width=\"80\" style=\"float: right;\"/>\n",
        "\n",
        "***\n",
        "\n",
        "<font color=#ad3e26>\n",
        "Deberás resolver el ejercicio escribiendo tu propio código o respuesta en la celda inmediatamente inferior.</font>\n",
        "\n",
        "***"
      ]
    },
    {
      "cell_type": "markdown",
      "metadata": {
        "id": "3zqkhyUAXeqy"
      },
      "source": [
        "<img src=\"https://albarji-labs-materials.s3-eu-west-1.amazonaws.com/exclamation.png\" height=\"80\" width=\"80\" style=\"float: right;\"/>\n",
        "\n",
        "***\n",
        "<font color=#2655ad>\n",
        "Esto es una pista u observación de utilidad que puede ayudarte a resolver el ejercicio. Presta atención a estas pistas para comprender el ejercicio en mayor profundidad.\n",
        "</font>\n",
        "\n",
        "***"
      ]
    },
    {
      "cell_type": "markdown",
      "metadata": {
        "id": "pr9DdtcqXeqz"
      },
      "source": [
        "<img src=\"https://albarji-labs-materials.s3-eu-west-1.amazonaws.com/pro.png\" height=\"80\" width=\"80\" style=\"float: right;\"/>\n",
        "\n",
        "***\n",
        "<font color=#259b4c>\n",
        "Este es un ejercicio avanzado que te puede ayudar a profundizar en el tema. ¡Buena suerte!</font>\n",
        "\n",
        "***"
      ]
    },
    {
      "cell_type": "markdown",
      "metadata": {
        "id": "ZLvJR0BJXeq0"
      },
      "source": [
        "Para evitar problemas con imports o incompatibilidades se recomienda ejecutar este notebook en uno de los [entornos de Deep Learning recomendados](https://github.com/albarji/teaching-environments-deeplearning), o hacer uso [Google Colaboratory](https://colab.research.google.com/). Si usas Colaboratory, asegúrate de [conectar una GPU](https://colab.research.google.com/notebooks/gpu.ipynb)."
      ]
    },
    {
      "cell_type": "markdown",
      "metadata": {
        "id": "cbSqXp04Xeq2"
      },
      "source": [
        "El siguiente código mostrará todas las gráficas en el propio notebook en lugar de generar una nueva ventana."
      ]
    },
    {
      "cell_type": "code",
      "execution_count": 1,
      "metadata": {
        "id": "PUwM3Cf7Xeq3"
      },
      "outputs": [],
      "source": [
        "import matplotlib.pyplot as plt\n",
        "%matplotlib inline"
      ]
    },
    {
      "cell_type": "markdown",
      "metadata": {
        "id": "m1FkqcMAXeq5"
      },
      "source": [
        "También vamos a fijar las semillas aleatorias de numpy y tensorflow para obtener resultados reproducibles entre varias ejecuciones del notebook"
      ]
    },
    {
      "cell_type": "code",
      "execution_count": 2,
      "metadata": {
        "id": "G_MLJ5n6Xeq6"
      },
      "outputs": [],
      "source": [
        "import numpy as np\n",
        "import tensorflow as tf\n",
        "np.random.seed(1)\n",
        "tf.random.set_seed(2)"
      ]
    },
    {
      "cell_type": "markdown",
      "metadata": {
        "id": "DIqG8TBtXeq7"
      },
      "source": [
        "Finalmente, si necesitas ayuda en el uso de cualquier función Python, coloca el cursor sobre su nombre y presiona Shift+Tab. Aparecerá una ventana con su documentación. Esto solo funciona dentro de celdas de código.\n",
        "\n",
        "¡Vamos alla!"
      ]
    },
    {
      "cell_type": "markdown",
      "metadata": {
        "id": "oby3ILNNXeq8"
      },
      "source": [
        "## Carga de datos"
      ]
    },
    {
      "cell_type": "markdown",
      "metadata": {
        "id": "900IeH2aXerG"
      },
      "source": [
        "Vamos a utilizar un problema sencillo de clasificación binaria, que no requiera de un preprocesado de datos complejo: [detección de cáncer de mama en base a unas características precalculadas](https://archive.ics.uci.edu/ml/datasets/Breast+Cancer+Wisconsin+(Diagnostic)). Este dataset está incluído entre los [datasets de juguete de scikit-learn](https://scikit-learn.org/stable/modules/generated/sklearn.datasets.load_breast_cancer.html#sklearn.datasets.load_breast_cancer)."
      ]
    },
    {
      "cell_type": "code",
      "execution_count": 3,
      "metadata": {
        "id": "VOHVOkTmXerH",
        "scrolled": true
      },
      "outputs": [],
      "source": [
        "from sklearn.datasets import load_breast_cancer\n",
        "from sklearn.model_selection import train_test_split\n",
        "\n",
        "data = load_breast_cancer()"
      ]
    },
    {
      "cell_type": "markdown",
      "metadata": {
        "id": "8FIJpp31XerJ"
      },
      "source": [
        "Podemos ver que en este problema contamos con 569 datos en total, cada uno de ellos de 30 variables explicativas, y que solo existen dos clases."
      ]
    },
    {
      "cell_type": "code",
      "execution_count": 4,
      "metadata": {
        "colab": {
          "base_uri": "https://localhost:8080/"
        },
        "id": "AnLZ47r3XerM",
        "outputId": "90be3689-74d7-4cd7-907e-6b91a3c31867"
      },
      "outputs": [
        {
          "output_type": "stream",
          "name": "stdout",
          "text": [
            "Forma de los datos de entrada: (569, 30)\n",
            "Categorías a clasificar: {0, 1}\n"
          ]
        }
      ],
      "source": [
        "print(\"Forma de los datos de entrada:\", data.data.shape)\n",
        "print(\"Categorías a clasificar:\", set(data.target))"
      ]
    },
    {
      "cell_type": "markdown",
      "metadata": {
        "id": "IKVCI-o-XerO"
      },
      "source": [
        "Ahora separamos un tercio de los datos como conjunto de test, empleando el método [train_test_split de scikit-learn](https://scikit-learn.org/stable/modules/generated/sklearn.model_selection.train_test_split.html)."
      ]
    },
    {
      "cell_type": "code",
      "execution_count": 5,
      "metadata": {
        "id": "3fOoapVdXerO"
      },
      "outputs": [],
      "source": [
        "X_train_raw, X_test_raw, y_train, y_test = train_test_split(data.data, data.target, test_size=0.33, random_state=42)"
      ]
    },
    {
      "cell_type": "markdown",
      "metadata": {
        "id": "UQHTtHDnXerP"
      },
      "source": [
        "Vamos a estandarizar las variables de entrada para asegurar un buen funcionamiento de la red neuronal. Esto puede hacerse fácilmente con el [StandardScaler de scikit-learn](https://scikit-learn.org/stable/modules/generated/sklearn.preprocessing.StandardScaler.html)."
      ]
    },
    {
      "cell_type": "code",
      "execution_count": 6,
      "metadata": {
        "id": "xnXFfOykXerQ"
      },
      "outputs": [],
      "source": [
        "from sklearn.preprocessing import StandardScaler\n",
        "\n",
        "scaler = StandardScaler()\n",
        "X_train = scaler.fit_transform(X_train_raw)\n",
        "X_test = scaler.transform(X_test_raw)"
      ]
    },
    {
      "cell_type": "markdown",
      "metadata": {
        "id": "cl7WW4RKXerR"
      },
      "source": [
        "## Perceptrón"
      ]
    },
    {
      "cell_type": "markdown",
      "metadata": {
        "id": "JSdPZUkKXerU"
      },
      "source": [
        "Empezaremos resolviendo el problema con la red neuronal más sencilla posible: un perceptrón. Esto es básicamente una red neuronal sin capas ocultas, teniendo solo una capa de salida que recibe información directamente de las variables explicativas."
      ]
    },
    {
      "cell_type": "markdown",
      "metadata": {
        "id": "XYX-e7jRXerW"
      },
      "source": [
        "### Definiendo la red"
      ]
    },
    {
      "cell_type": "markdown",
      "metadata": {
        "id": "1SA_XmGkXerX"
      },
      "source": [
        "Para construir una red en Keras primero debemos definir el tipo de arquitectura:\n",
        "\n",
        "* **Sequential**: cada nueva capa se conecta a la capa declarada inmediatamente antes en la red, siguiendo una cadena.\n",
        "* **Functional**: cada capa puede conectarse a la salida de cualquier otra capa declarada antes en la red, siempre y cuando no se formen ciclos.\n",
        "\n",
        "Para este ejercicio será suficiente con una arquitectura de tipo Sequential."
      ]
    },
    {
      "cell_type": "code",
      "execution_count": 7,
      "metadata": {
        "id": "JB54WT4JXerY"
      },
      "outputs": [],
      "source": [
        "from tensorflow.keras import Sequential\n",
        "\n",
        "perceptron = Sequential()"
      ]
    },
    {
      "cell_type": "markdown",
      "metadata": {
        "id": "dMKw2aBCXerZ"
      },
      "source": [
        "Una vez la red ha sido inicializada, podemos ir añadiendo las capas deseadas de manera iterativa. Para construir un perceptrón solo nos hará falta una capa \"clásica\" de pesos desde las entradas a la salida. En Deep Learning moderno este tipo de capas se llaman **Dense**, porque conectan todas las variables de entrada con todas las salidas de la capa."
      ]
    },
    {
      "cell_type": "code",
      "execution_count": 8,
      "metadata": {
        "id": "lfdbfSRXXerZ"
      },
      "outputs": [],
      "source": [
        "from tensorflow.keras.layers import Dense"
      ]
    },
    {
      "cell_type": "markdown",
      "metadata": {
        "id": "6a_47XHnXerb"
      },
      "source": [
        "Para crear una capa densa suele bastar con declarar el número de unidades de salida (o desde un punto de vista clásico, el número de neuronas). No obstante, en un modelo de tipo Sequential estamos obligados a declarar el número de variables de entrada a la red neuronal cuando creamos nuestra primera capa. En este problema tenemos 30 variables explicativas, y podemos representar la salida de la red como una única neurona que nos diga si el dato es de clase 0 o 1. Por tanto, nos basta con crear la capa Dense y añadirla al modelo de la siguiente manera."
      ]
    },
    {
      "cell_type": "code",
      "execution_count": 9,
      "metadata": {
        "id": "CAvICXgkXerb"
      },
      "outputs": [],
      "source": [
        "perceptron.add(Dense(1, input_dim=30))"
      ]
    },
    {
      "cell_type": "markdown",
      "metadata": {
        "id": "cI5mxzoqXerb"
      },
      "source": [
        "Como el problema es de clasificación binaria, nos interesa limitar el rango de valores que puede generar la única neurona de salida de la red. Para ello, lo más conveniente es usar la función de activación sigmoidal, la cual podemos añadir de la siguiente manera."
      ]
    },
    {
      "cell_type": "code",
      "execution_count": 10,
      "metadata": {
        "id": "bjMgDN6OXerc"
      },
      "outputs": [],
      "source": [
        "from tensorflow.keras.layers import Activation\n",
        "perceptron.add(Activation('sigmoid'))"
      ]
    },
    {
      "cell_type": "markdown",
      "metadata": {
        "id": "qGrW1t-kXerc"
      },
      "source": [
        "Con esto, la definición de la red está completa. Podemos confirmar que la hemos construído correctamente pidiendo a Keras un resumen del modelo."
      ]
    },
    {
      "cell_type": "code",
      "execution_count": 11,
      "metadata": {
        "colab": {
          "base_uri": "https://localhost:8080/"
        },
        "id": "vlJPHgb-Xere",
        "outputId": "3f889b78-d973-40fd-91af-577e591f99fb"
      },
      "outputs": [
        {
          "output_type": "stream",
          "name": "stdout",
          "text": [
            "Model: \"sequential\"\n",
            "_________________________________________________________________\n",
            " Layer (type)                Output Shape              Param #   \n",
            "=================================================================\n",
            " dense (Dense)               (None, 1)                 31        \n",
            "                                                                 \n",
            " activation (Activation)     (None, 1)                 0         \n",
            "                                                                 \n",
            "=================================================================\n",
            "Total params: 31\n",
            "Trainable params: 31\n",
            "Non-trainable params: 0\n",
            "_________________________________________________________________\n"
          ]
        }
      ],
      "source": [
        "perceptron.summary()"
      ]
    },
    {
      "cell_type": "markdown",
      "metadata": {
        "id": "h7ic0U1rXerg"
      },
      "source": [
        "### Compilando la red"
      ]
    },
    {
      "cell_type": "markdown",
      "metadata": {
        "id": "82qrk-0tXerg"
      },
      "source": [
        "Tras definir la red, debemos realizar la compilación de la misma. La compilación es un proceso automático que transforma la definición de la red en una formulación simbólica equivalente para la que pueden calcularse las derivadas, permitiendo así ejecutar el algoritmo de retropropagación (backpropagation). Los únicos parámetros que debemos especificar son la función de pérdida o error que la red debe minimizar, y el optimizador a usar durante el aprendizaje.\n",
        "\n",
        "Dado que estamos tratando con un problema de clasificación binaria, la función de pérdida más adecuada es la **binary crossentropy**. En cuanto al optimizador, de momento utilizaremos el **Stochastic Gradient Descent**. Como parámetro opcional, solicitaremos que como métrica se nos informe de la **accuracy** durante el entrenamiento de la red."
      ]
    },
    {
      "cell_type": "code",
      "execution_count": 12,
      "metadata": {
        "id": "B2YtLsaPXerh"
      },
      "outputs": [],
      "source": [
        "perceptron.compile(loss='binary_crossentropy', optimizer='sgd', metrics=['accuracy'])"
      ]
    },
    {
      "cell_type": "markdown",
      "metadata": {
        "id": "EAXKDxU8Xerh"
      },
      "source": [
        "### Entrenando la red"
      ]
    },
    {
      "cell_type": "markdown",
      "metadata": {
        "id": "kJs_04KDXeri"
      },
      "source": [
        "Ahora podemos invocar al método `fit` de la red, el encargado de ejecutar el proceso de entrenamiento. Se configura de la siguiente manera"
      ]
    },
    {
      "cell_type": "code",
      "execution_count": 13,
      "metadata": {
        "colab": {
          "base_uri": "https://localhost:8080/"
        },
        "id": "0Pm4bti8Xerj",
        "outputId": "63bb28b4-f03c-41a8-cf40-51cc31095289",
        "scrolled": false
      },
      "outputs": [
        {
          "output_type": "stream",
          "name": "stdout",
          "text": [
            "Epoch 1/25\n",
            "12/12 - 2s - loss: 1.1425 - accuracy: 0.3858 - 2s/epoch - 130ms/step\n",
            "Epoch 2/25\n",
            "12/12 - 0s - loss: 0.8186 - accuracy: 0.5328 - 73ms/epoch - 6ms/step\n",
            "Epoch 3/25\n",
            "12/12 - 0s - loss: 0.6243 - accuracy: 0.6483 - 80ms/epoch - 7ms/step\n",
            "Epoch 4/25\n",
            "12/12 - 0s - loss: 0.5043 - accuracy: 0.7428 - 67ms/epoch - 6ms/step\n",
            "Epoch 5/25\n",
            "12/12 - 0s - loss: 0.4270 - accuracy: 0.8215 - 67ms/epoch - 6ms/step\n",
            "Epoch 6/25\n",
            "12/12 - 0s - loss: 0.3746 - accuracy: 0.8556 - 64ms/epoch - 5ms/step\n",
            "Epoch 7/25\n",
            "12/12 - 0s - loss: 0.3373 - accuracy: 0.8635 - 78ms/epoch - 6ms/step\n",
            "Epoch 8/25\n",
            "12/12 - 0s - loss: 0.3098 - accuracy: 0.8714 - 64ms/epoch - 5ms/step\n",
            "Epoch 9/25\n",
            "12/12 - 0s - loss: 0.2883 - accuracy: 0.8924 - 53ms/epoch - 4ms/step\n",
            "Epoch 10/25\n",
            "12/12 - 0s - loss: 0.2713 - accuracy: 0.9003 - 70ms/epoch - 6ms/step\n",
            "Epoch 11/25\n",
            "12/12 - 0s - loss: 0.2575 - accuracy: 0.9055 - 70ms/epoch - 6ms/step\n",
            "Epoch 12/25\n",
            "12/12 - 0s - loss: 0.2459 - accuracy: 0.9160 - 62ms/epoch - 5ms/step\n",
            "Epoch 13/25\n",
            "12/12 - 0s - loss: 0.2359 - accuracy: 0.9186 - 99ms/epoch - 8ms/step\n",
            "Epoch 14/25\n",
            "12/12 - 0s - loss: 0.2273 - accuracy: 0.9239 - 67ms/epoch - 6ms/step\n",
            "Epoch 15/25\n",
            "12/12 - 0s - loss: 0.2197 - accuracy: 0.9318 - 59ms/epoch - 5ms/step\n",
            "Epoch 16/25\n",
            "12/12 - 0s - loss: 0.2131 - accuracy: 0.9318 - 58ms/epoch - 5ms/step\n",
            "Epoch 17/25\n",
            "12/12 - 0s - loss: 0.2070 - accuracy: 0.9344 - 61ms/epoch - 5ms/step\n",
            "Epoch 18/25\n",
            "12/12 - 0s - loss: 0.2015 - accuracy: 0.9344 - 60ms/epoch - 5ms/step\n",
            "Epoch 19/25\n",
            "12/12 - 0s - loss: 0.1966 - accuracy: 0.9423 - 73ms/epoch - 6ms/step\n",
            "Epoch 20/25\n",
            "12/12 - 0s - loss: 0.1921 - accuracy: 0.9449 - 61ms/epoch - 5ms/step\n",
            "Epoch 21/25\n",
            "12/12 - 0s - loss: 0.1878 - accuracy: 0.9475 - 72ms/epoch - 6ms/step\n",
            "Epoch 22/25\n",
            "12/12 - 0s - loss: 0.1840 - accuracy: 0.9475 - 86ms/epoch - 7ms/step\n",
            "Epoch 23/25\n",
            "12/12 - 0s - loss: 0.1805 - accuracy: 0.9528 - 92ms/epoch - 8ms/step\n",
            "Epoch 24/25\n",
            "12/12 - 0s - loss: 0.1770 - accuracy: 0.9528 - 71ms/epoch - 6ms/step\n",
            "Epoch 25/25\n",
            "12/12 - 0s - loss: 0.1739 - accuracy: 0.9528 - 69ms/epoch - 6ms/step\n"
          ]
        },
        {
          "output_type": "execute_result",
          "data": {
            "text/plain": [
              "<keras.callbacks.History at 0x7f5ef996af90>"
            ]
          },
          "metadata": {},
          "execution_count": 13
        }
      ],
      "source": [
        "perceptron.fit(\n",
        "    X_train, # Features de los datos de entrenamiento\n",
        "    y_train, # Etiquetas de los datos de entrenamiento\n",
        "    epochs=25, # Número de épocas: las pasadas que hará la red neuronal sobre nuestros datos\n",
        "    verbose=2, # Nivel de verbosidad de los mensajes\n",
        ")"
      ]
    },
    {
      "cell_type": "markdown",
      "metadata": {
        "id": "sMGW3iHJXerl"
      },
      "source": [
        "Ahora que nuestra red está entrenada, podemos obtener predicciones para el conjunto de test como"
      ]
    },
    {
      "cell_type": "code",
      "execution_count": 14,
      "metadata": {
        "id": "VuUKiv_pXerl"
      },
      "outputs": [],
      "source": [
        "probs = perceptron.predict(X_test)"
      ]
    },
    {
      "cell_type": "markdown",
      "metadata": {
        "id": "zKOtsT2VXerm"
      },
      "source": [
        "Las predicciones se obtienen como una matriz con forma `(n_datos, 1)`, que pueden interpretarse como las probabilidades de clase positiva de cada uno de los datos de test"
      ]
    },
    {
      "cell_type": "code",
      "execution_count": 15,
      "metadata": {
        "colab": {
          "base_uri": "https://localhost:8080/"
        },
        "id": "295Vstw5Xerm",
        "outputId": "7c12a2f1-d247-45d5-e004-787d26184cfd"
      },
      "outputs": [
        {
          "output_type": "execute_result",
          "data": {
            "text/plain": [
              "array([[8.2359213e-01],\n",
              "       [2.4533404e-02],\n",
              "       [2.1730235e-01],\n",
              "       [8.9330715e-01],\n",
              "       [9.6365744e-01],\n",
              "       [1.4814468e-04],\n",
              "       [6.8641081e-04],\n",
              "       [1.8255050e-01],\n",
              "       [5.2144456e-01],\n",
              "       [9.0701187e-01],\n",
              "       [8.0372345e-01],\n",
              "       [1.5623750e-01],\n",
              "       [8.0725110e-01],\n",
              "       [1.7412093e-01],\n",
              "       [9.4709617e-01],\n",
              "       [4.5873248e-03],\n",
              "       [8.6750227e-01],\n",
              "       [9.9109578e-01],\n",
              "       [9.9869812e-01],\n",
              "       [5.6936899e-03],\n",
              "       [6.9096822e-01],\n",
              "       [9.3893313e-01],\n",
              "       [5.1145529e-04],\n",
              "       [9.8312843e-01],\n",
              "       [9.2818588e-01],\n",
              "       [9.3259591e-01],\n",
              "       [9.1269159e-01],\n",
              "       [8.3281672e-01],\n",
              "       [9.1060787e-01],\n",
              "       [9.1524562e-03],\n",
              "       [9.3252212e-01],\n",
              "       [9.6842813e-01],\n",
              "       [9.8516709e-01],\n",
              "       [9.1234899e-01],\n",
              "       [9.7556520e-01],\n",
              "       [9.3941903e-01],\n",
              "       [2.5001132e-01],\n",
              "       [9.5101076e-01],\n",
              "       [3.8085695e-02],\n",
              "       [6.6624218e-01],\n",
              "       [9.8525214e-01],\n",
              "       [9.0675943e-02],\n",
              "       [9.3347293e-01],\n",
              "       [9.3672210e-01],\n",
              "       [9.2372537e-01],\n",
              "       [8.7297255e-01],\n",
              "       [9.7433668e-01],\n",
              "       [9.8957050e-01],\n",
              "       [8.9443851e-01],\n",
              "       [8.9020962e-01],\n",
              "       [7.4069336e-02],\n",
              "       [5.0063566e-03],\n",
              "       [4.6090674e-01],\n",
              "       [8.4182072e-01],\n",
              "       [9.2581421e-01],\n",
              "       [8.3869600e-01],\n",
              "       [9.3155998e-01],\n",
              "       [1.6054597e-05],\n",
              "       [3.5653839e-01],\n",
              "       [9.7113591e-01],\n",
              "       [8.9948326e-01],\n",
              "       [2.6026133e-03],\n",
              "       [1.0128586e-03],\n",
              "       [7.1710283e-01],\n",
              "       [9.3715012e-01],\n",
              "       [6.8982923e-01],\n",
              "       [3.1602573e-02],\n",
              "       [2.5869266e-04],\n",
              "       [9.5632797e-01],\n",
              "       [7.5820792e-01],\n",
              "       [1.8717743e-01],\n",
              "       [8.0906637e-02],\n",
              "       [8.6985993e-01],\n",
              "       [5.2392352e-02],\n",
              "       [9.8459375e-01],\n",
              "       [8.1984818e-01],\n",
              "       [7.6376259e-01],\n",
              "       [6.1404991e-01],\n",
              "       [9.8741293e-01],\n",
              "       [9.0271574e-01],\n",
              "       [2.1167710e-01],\n",
              "       [9.8575437e-01],\n",
              "       [5.0039726e-01],\n",
              "       [1.6610404e-03],\n",
              "       [9.1342576e-02],\n",
              "       [5.2887585e-02],\n",
              "       [2.1914067e-02],\n",
              "       [8.0198580e-03],\n",
              "       [6.4981467e-01],\n",
              "       [9.0842015e-01],\n",
              "       [9.4178015e-01],\n",
              "       [7.3077422e-01],\n",
              "       [7.1582687e-01],\n",
              "       [9.8236632e-01],\n",
              "       [9.7193933e-01],\n",
              "       [9.7441953e-01],\n",
              "       [6.8240450e-03],\n",
              "       [3.7226003e-02],\n",
              "       [9.8314142e-01],\n",
              "       [3.2815997e-02],\n",
              "       [1.3456795e-01],\n",
              "       [9.9657226e-01],\n",
              "       [1.1524297e-02],\n",
              "       [4.1073345e-02],\n",
              "       [9.5902985e-01],\n",
              "       [9.0081412e-01],\n",
              "       [8.1768709e-01],\n",
              "       [3.9023464e-04],\n",
              "       [6.2498248e-01],\n",
              "       [7.9778844e-01],\n",
              "       [1.8126339e-01],\n",
              "       [9.5614880e-01],\n",
              "       [4.2715865e-01],\n",
              "       [2.2280583e-04],\n",
              "       [7.2518903e-01],\n",
              "       [2.3163781e-04],\n",
              "       [9.8778033e-01],\n",
              "       [8.9970815e-01],\n",
              "       [9.9125201e-01],\n",
              "       [4.5555498e-02],\n",
              "       [1.3148418e-01],\n",
              "       [9.6544683e-01],\n",
              "       [9.1721261e-01],\n",
              "       [1.9537125e-02],\n",
              "       [7.1071130e-01],\n",
              "       [2.7436544e-03],\n",
              "       [1.1438666e-01],\n",
              "       [9.7781771e-01],\n",
              "       [9.1760075e-01],\n",
              "       [4.6851765e-03],\n",
              "       [4.6542329e-03],\n",
              "       [5.8686035e-03],\n",
              "       [8.2882446e-01],\n",
              "       [9.5201492e-01],\n",
              "       [7.9127049e-01],\n",
              "       [8.1033453e-02],\n",
              "       [6.7347085e-01],\n",
              "       [9.3001914e-01],\n",
              "       [5.7587802e-01],\n",
              "       [1.7746381e-01],\n",
              "       [9.5769876e-01],\n",
              "       [2.1761139e-03],\n",
              "       [9.8836201e-01],\n",
              "       [9.6791112e-01],\n",
              "       [2.2169568e-01],\n",
              "       [8.8610882e-01],\n",
              "       [1.1939304e-02],\n",
              "       [4.0981541e-03],\n",
              "       [4.2358088e-01],\n",
              "       [9.5743543e-01],\n",
              "       [3.6289063e-01],\n",
              "       [9.6848661e-01],\n",
              "       [9.9276078e-01],\n",
              "       [8.6451423e-01],\n",
              "       [9.3880200e-01],\n",
              "       [9.4080824e-05],\n",
              "       [1.6159529e-02],\n",
              "       [9.9165499e-01],\n",
              "       [8.2477498e-01],\n",
              "       [9.8092687e-01],\n",
              "       [9.9944168e-01],\n",
              "       [9.7283494e-01],\n",
              "       [9.8744977e-01],\n",
              "       [8.1988657e-01],\n",
              "       [3.6206710e-01],\n",
              "       [9.5821065e-01],\n",
              "       [9.3799096e-01],\n",
              "       [5.0527859e-01],\n",
              "       [7.2497833e-01],\n",
              "       [1.4961067e-01],\n",
              "       [6.6585469e-01],\n",
              "       [9.1877323e-01],\n",
              "       [8.6579931e-01],\n",
              "       [6.6832447e-01],\n",
              "       [9.1687554e-01],\n",
              "       [7.9080826e-01],\n",
              "       [3.0183810e-01],\n",
              "       [6.7274874e-01],\n",
              "       [9.6183163e-01],\n",
              "       [7.2244835e-01],\n",
              "       [6.7345428e-01],\n",
              "       [8.8254678e-01],\n",
              "       [9.7954500e-01],\n",
              "       [3.1861722e-01],\n",
              "       [3.5834078e-02],\n",
              "       [4.0733656e-01],\n",
              "       [2.4402252e-01],\n",
              "       [7.7803308e-01]], dtype=float32)"
            ]
          },
          "metadata": {},
          "execution_count": 15
        }
      ],
      "source": [
        "probs"
      ]
    },
    {
      "cell_type": "markdown",
      "metadata": {
        "id": "jOPaEk26Xerm"
      },
      "source": [
        "También podemos medir directamente el porcentaje de aciertos de nuestra red sobre el test, usando el método **evaluate**"
      ]
    },
    {
      "cell_type": "code",
      "execution_count": 16,
      "metadata": {
        "colab": {
          "base_uri": "https://localhost:8080/"
        },
        "id": "amUzrYyeXern",
        "outputId": "bccdcfe4-87a3-42fd-ee99-4940ab7d814e"
      },
      "outputs": [
        {
          "output_type": "stream",
          "name": "stdout",
          "text": [
            "6/6 [==============================] - 0s 5ms/step - loss: 0.1635 - accuracy: 0.9628\n",
            "Test loss 0.1634903848171234\n",
            "Test accuracy 0.9627659320831299\n"
          ]
        }
      ],
      "source": [
        "score = perceptron.evaluate(X_test, y_test)\n",
        "print(\"Test loss\", score[0])\n",
        "print(\"Test accuracy\", score[1])"
      ]
    },
    {
      "cell_type": "markdown",
      "metadata": {
        "id": "xwQ_97kYXero"
      },
      "source": [
        "## Perceptrón multicapa"
      ]
    },
    {
      "cell_type": "markdown",
      "metadata": {
        "id": "7qRf7p0-Xerp"
      },
      "source": [
        "Pasando a los años 80, podemos mejorar nuestra red introduciendo **capas ocultas**. En Keras podemos hacer esto de forma sencilla introduciendo capas Dense adicionales. Por ejemplo, podemos crear una red con una capa oculta de 64 neuronas de la siguiente manera."
      ]
    },
    {
      "cell_type": "code",
      "execution_count": 17,
      "metadata": {
        "id": "r3qz_xAYXerq"
      },
      "outputs": [],
      "source": [
        "pmc = Sequential()\n",
        "pmc.add(Dense(64, input_dim=30, activation='sigmoid'))\n",
        "pmc.add(Dense(1, activation='sigmoid'))"
      ]
    },
    {
      "cell_type": "markdown",
      "metadata": {
        "id": "qiv3nRaPXerr"
      },
      "source": [
        "En esta ocasión hemos añadido las activaciones declarándolas en la propia capa Dense, de forma que la notación resulte más compacta. Nótese también que hemos puesto una activación de tipo sigmoidal en la capa oculta, para que la red pueda comportarse de manera no lineal. La red, por tanto, queda de la siguiente manera"
      ]
    },
    {
      "cell_type": "code",
      "execution_count": 18,
      "metadata": {
        "colab": {
          "base_uri": "https://localhost:8080/"
        },
        "id": "LOTzpRrRXerr",
        "outputId": "4645d7f5-f09e-4abc-fcb3-a8b7e9b4a1a8"
      },
      "outputs": [
        {
          "output_type": "stream",
          "name": "stdout",
          "text": [
            "Model: \"sequential_1\"\n",
            "_________________________________________________________________\n",
            " Layer (type)                Output Shape              Param #   \n",
            "=================================================================\n",
            " dense_1 (Dense)             (None, 64)                1984      \n",
            "                                                                 \n",
            " dense_2 (Dense)             (None, 1)                 65        \n",
            "                                                                 \n",
            "=================================================================\n",
            "Total params: 2,049\n",
            "Trainable params: 2,049\n",
            "Non-trainable params: 0\n",
            "_________________________________________________________________\n"
          ]
        }
      ],
      "source": [
        "pmc.summary()"
      ]
    },
    {
      "cell_type": "markdown",
      "metadata": {
        "id": "Uvn4tacwXers"
      },
      "source": [
        "<img src=\"https://albarji-labs-materials.s3-eu-west-1.amazonaws.com/question.png\" height=\"80\" width=\"80\" style=\"float: right;\"/>\n",
        "\n",
        "***\n",
        "\n",
        "<font color=#ad3e26>\n",
        "Compila el perceptrón multicapa y entrénalo con los datos de train. ¿Qué nivel de acierto se obtiene al evaluarlo en test?\n",
        "</font>\n",
        "\n",
        "***\n"
      ]
    },
    {
      "cell_type": "code",
      "execution_count": 19,
      "metadata": {
        "colab": {
          "base_uri": "https://localhost:8080/"
        },
        "id": "sZLkQrwDXers",
        "outputId": "3b15dac4-cbf1-4cbd-f72d-bf4e7c2f937c",
        "scrolled": false
      },
      "outputs": [
        {
          "output_type": "stream",
          "name": "stdout",
          "text": [
            "Epoch 1/25\n",
            "12/12 - 1s - loss: 0.7750 - accuracy: 0.3806 - 934ms/epoch - 78ms/step\n",
            "Epoch 2/25\n",
            "12/12 - 0s - loss: 0.6611 - accuracy: 0.6483 - 63ms/epoch - 5ms/step\n",
            "Epoch 3/25\n",
            "12/12 - 0s - loss: 0.6011 - accuracy: 0.8241 - 58ms/epoch - 5ms/step\n",
            "Epoch 4/25\n",
            "12/12 - 0s - loss: 0.5630 - accuracy: 0.8084 - 61ms/epoch - 5ms/step\n",
            "Epoch 5/25\n",
            "12/12 - 0s - loss: 0.5334 - accuracy: 0.8136 - 67ms/epoch - 6ms/step\n",
            "Epoch 6/25\n",
            "12/12 - 0s - loss: 0.5088 - accuracy: 0.8294 - 58ms/epoch - 5ms/step\n",
            "Epoch 7/25\n",
            "12/12 - 0s - loss: 0.4870 - accuracy: 0.8504 - 64ms/epoch - 5ms/step\n",
            "Epoch 8/25\n",
            "12/12 - 0s - loss: 0.4671 - accuracy: 0.8556 - 60ms/epoch - 5ms/step\n",
            "Epoch 9/25\n",
            "12/12 - 0s - loss: 0.4493 - accuracy: 0.8766 - 65ms/epoch - 5ms/step\n",
            "Epoch 10/25\n",
            "12/12 - 0s - loss: 0.4330 - accuracy: 0.8819 - 59ms/epoch - 5ms/step\n",
            "Epoch 11/25\n",
            "12/12 - 0s - loss: 0.4180 - accuracy: 0.8898 - 73ms/epoch - 6ms/step\n",
            "Epoch 12/25\n",
            "12/12 - 0s - loss: 0.4040 - accuracy: 0.8924 - 59ms/epoch - 5ms/step\n",
            "Epoch 13/25\n",
            "12/12 - 0s - loss: 0.3911 - accuracy: 0.9055 - 61ms/epoch - 5ms/step\n",
            "Epoch 14/25\n",
            "12/12 - 0s - loss: 0.3792 - accuracy: 0.9108 - 86ms/epoch - 7ms/step\n",
            "Epoch 15/25\n",
            "12/12 - 0s - loss: 0.3680 - accuracy: 0.9134 - 54ms/epoch - 4ms/step\n",
            "Epoch 16/25\n",
            "12/12 - 0s - loss: 0.3582 - accuracy: 0.9134 - 60ms/epoch - 5ms/step\n",
            "Epoch 17/25\n",
            "12/12 - 0s - loss: 0.3483 - accuracy: 0.9160 - 60ms/epoch - 5ms/step\n",
            "Epoch 18/25\n",
            "12/12 - 0s - loss: 0.3394 - accuracy: 0.9186 - 89ms/epoch - 7ms/step\n",
            "Epoch 19/25\n",
            "12/12 - 0s - loss: 0.3309 - accuracy: 0.9213 - 72ms/epoch - 6ms/step\n",
            "Epoch 20/25\n",
            "12/12 - 0s - loss: 0.3231 - accuracy: 0.9213 - 85ms/epoch - 7ms/step\n",
            "Epoch 21/25\n",
            "12/12 - 0s - loss: 0.3158 - accuracy: 0.9239 - 50ms/epoch - 4ms/step\n",
            "Epoch 22/25\n",
            "12/12 - 0s - loss: 0.3088 - accuracy: 0.9265 - 76ms/epoch - 6ms/step\n",
            "Epoch 23/25\n",
            "12/12 - 0s - loss: 0.3023 - accuracy: 0.9265 - 59ms/epoch - 5ms/step\n",
            "Epoch 24/25\n",
            "12/12 - 0s - loss: 0.2959 - accuracy: 0.9265 - 84ms/epoch - 7ms/step\n",
            "Epoch 25/25\n",
            "12/12 - 0s - loss: 0.2902 - accuracy: 0.9291 - 74ms/epoch - 6ms/step\n",
            "6/6 [==============================] - 0s 5ms/step - loss: 0.2857 - accuracy: 0.9362\n",
            "Test loss 0.2857256233692169\n",
            "Test accuracy 0.936170220375061\n"
          ]
        }
      ],
      "source": [
        "pmc.compile(loss='binary_crossentropy', optimizer='sgd', metrics=['accuracy'])\n",
        "pmc.fit(\n",
        "    X_train, # Features de los datos de entrenamiento\n",
        "    y_train, # Etiquetas de los datos de entrenamiento\n",
        "    epochs=25, # Número de épocas: las pasadas que hará la red neuronal sobre nuestros datos\n",
        "    verbose=2, # Nivel de verbosidad de los mensajes\n",
        ")\n",
        "score = pmc.evaluate(X_test, y_test)\n",
        "print(\"Test loss\", score[0])\n",
        "print(\"Test accuracy\", score[1])"
      ]
    },
    {
      "cell_type": "markdown",
      "metadata": {
        "id": "3vZUv7CDXers"
      },
      "source": [
        "<img src=\"https://albarji-labs-materials.s3-eu-west-1.amazonaws.com/exclamation.png\" height=\"80\" width=\"80\" style=\"float: right;\"/>\n",
        "\n",
        "***\n",
        "<font color=#2655ad>\n",
        "Es probable que añadir una capa oculta no haya mejorado los resultados en test. En las siguientes secciones iremos añadiendo algunas de las recetas de Deep Learning para mejorar el rendimiento de la red.\n",
        "</font>\n",
        "\n",
        "***"
      ]
    },
    {
      "cell_type": "markdown",
      "metadata": {
        "id": "6X7hmH5pzbRW"
      },
      "source": [
        "### Más épocas"
      ]
    },
    {
      "cell_type": "markdown",
      "metadata": {
        "id": "kSYjQTASzbRW"
      },
      "source": [
        "Un punto distintivo del método `fit` de Keras es que no reinicia el estado de la red neuronal, sino que continua el entrenamiento. Este comportamiento es diferente al que podemos observar en otras librerías de machine learning más clásico como **scikit-learn**, donde el método `fit` reinicia el entrenamiento del modelo. De este modo, en Keras podemos volver a llamar a `fit` para continuar entrenando durante más épocas."
      ]
    },
    {
      "cell_type": "markdown",
      "metadata": {
        "id": "KdEvSTOBzbRW"
      },
      "source": [
        "<img src=\"https://albarji-labs-materials.s3-eu-west-1.amazonaws.com/question.png\" height=\"80\" width=\"80\" style=\"float: right;\"/>\n",
        "\n",
        "***\n",
        "\n",
        "<font color=#ad3e26>\n",
        "Realiza una nueva llamada a `fit` sobre la misma red `pmc`, y mide el acierto sobre el conjunto de test.\n",
        "</font>\n",
        "\n",
        "***\n"
      ]
    },
    {
      "cell_type": "code",
      "execution_count": 20,
      "metadata": {
        "colab": {
          "base_uri": "https://localhost:8080/"
        },
        "id": "t-CWTu2TzbRW",
        "outputId": "f7127182-71be-4e54-f560-1defb2ebd46f"
      },
      "outputs": [
        {
          "output_type": "stream",
          "name": "stdout",
          "text": [
            "Epoch 1/25\n",
            "12/12 - 0s - loss: 0.2847 - accuracy: 0.9291 - 91ms/epoch - 8ms/step\n",
            "Epoch 2/25\n",
            "12/12 - 0s - loss: 0.2794 - accuracy: 0.9318 - 88ms/epoch - 7ms/step\n",
            "Epoch 3/25\n",
            "12/12 - 0s - loss: 0.2743 - accuracy: 0.9318 - 72ms/epoch - 6ms/step\n",
            "Epoch 4/25\n",
            "12/12 - 0s - loss: 0.2696 - accuracy: 0.9318 - 84ms/epoch - 7ms/step\n",
            "Epoch 5/25\n",
            "12/12 - 0s - loss: 0.2651 - accuracy: 0.9318 - 60ms/epoch - 5ms/step\n",
            "Epoch 6/25\n",
            "12/12 - 0s - loss: 0.2609 - accuracy: 0.9344 - 65ms/epoch - 5ms/step\n",
            "Epoch 7/25\n",
            "12/12 - 0s - loss: 0.2567 - accuracy: 0.9344 - 65ms/epoch - 5ms/step\n",
            "Epoch 8/25\n",
            "12/12 - 0s - loss: 0.2528 - accuracy: 0.9370 - 69ms/epoch - 6ms/step\n",
            "Epoch 9/25\n",
            "12/12 - 0s - loss: 0.2490 - accuracy: 0.9370 - 62ms/epoch - 5ms/step\n",
            "Epoch 10/25\n",
            "12/12 - 0s - loss: 0.2455 - accuracy: 0.9370 - 69ms/epoch - 6ms/step\n",
            "Epoch 11/25\n",
            "12/12 - 0s - loss: 0.2420 - accuracy: 0.9396 - 85ms/epoch - 7ms/step\n",
            "Epoch 12/25\n",
            "12/12 - 0s - loss: 0.2387 - accuracy: 0.9396 - 79ms/epoch - 7ms/step\n",
            "Epoch 13/25\n",
            "12/12 - 0s - loss: 0.2355 - accuracy: 0.9370 - 76ms/epoch - 6ms/step\n",
            "Epoch 14/25\n",
            "12/12 - 0s - loss: 0.2325 - accuracy: 0.9396 - 61ms/epoch - 5ms/step\n",
            "Epoch 15/25\n",
            "12/12 - 0s - loss: 0.2294 - accuracy: 0.9423 - 82ms/epoch - 7ms/step\n",
            "Epoch 16/25\n",
            "12/12 - 0s - loss: 0.2268 - accuracy: 0.9423 - 95ms/epoch - 8ms/step\n",
            "Epoch 17/25\n",
            "12/12 - 0s - loss: 0.2240 - accuracy: 0.9396 - 66ms/epoch - 6ms/step\n",
            "Epoch 18/25\n",
            "12/12 - 0s - loss: 0.2213 - accuracy: 0.9396 - 68ms/epoch - 6ms/step\n",
            "Epoch 19/25\n",
            "12/12 - 0s - loss: 0.2188 - accuracy: 0.9423 - 97ms/epoch - 8ms/step\n",
            "Epoch 20/25\n",
            "12/12 - 0s - loss: 0.2163 - accuracy: 0.9423 - 79ms/epoch - 7ms/step\n",
            "Epoch 21/25\n",
            "12/12 - 0s - loss: 0.2140 - accuracy: 0.9423 - 71ms/epoch - 6ms/step\n",
            "Epoch 22/25\n",
            "12/12 - 0s - loss: 0.2117 - accuracy: 0.9449 - 80ms/epoch - 7ms/step\n",
            "Epoch 23/25\n",
            "12/12 - 0s - loss: 0.2096 - accuracy: 0.9449 - 62ms/epoch - 5ms/step\n",
            "Epoch 24/25\n",
            "12/12 - 0s - loss: 0.2073 - accuracy: 0.9475 - 70ms/epoch - 6ms/step\n",
            "Epoch 25/25\n",
            "12/12 - 0s - loss: 0.2053 - accuracy: 0.9475 - 82ms/epoch - 7ms/step\n",
            "6/6 [==============================] - 0s 7ms/step - loss: 0.2008 - accuracy: 0.9415\n",
            "Test loss 0.20080330967903137\n",
            "Test accuracy 0.9414893388748169\n"
          ]
        }
      ],
      "source": [
        "pmc.fit(\n",
        "    X_train, # Features de los datos de entrenamiento\n",
        "    y_train, # Etiquetas de los datos de entrenamiento\n",
        "    epochs=25, # Número de épocas: las pasadas que hará la red neuronal sobre nuestros datos\n",
        "    verbose=2, # Nivel de verbosidad de los mensajes\n",
        ")\n",
        "score = pmc.evaluate(X_test, y_test)\n",
        "print(\"Test loss\", score[0])\n",
        "print(\"Test accuracy\", score[1])"
      ]
    },
    {
      "cell_type": "markdown",
      "metadata": {
        "id": "_4b_8OlYzbRX"
      },
      "source": [
        "Observa que la red ya muestra una accuracy muy alta en la primera época. Esto es porque se está continuando el entrenamiento realizado en la celda anterior. En Keras solo podemos reiniciar el entrenamiento de una red si la volvemos a construir desde cero."
      ]
    },
    {
      "cell_type": "markdown",
      "metadata": {
        "id": "Y4H94pMGXert"
      },
      "source": [
        "### Más capas"
      ]
    },
    {
      "cell_type": "markdown",
      "metadata": {
        "id": "AJ836RL1Xert"
      },
      "source": [
        "Podemos introducir en la red más de una capa oculta si la configuramos adecuadamente en Keras. Por ejemplo, si queremos introducir 3 capas ocultas cada una de ellas con 64 neuronas, lo haríamos de la siguiente manera"
      ]
    },
    {
      "cell_type": "code",
      "execution_count": 21,
      "metadata": {
        "colab": {
          "base_uri": "https://localhost:8080/"
        },
        "id": "5EO1AJlJXert",
        "outputId": "aa3b89ea-77df-462e-eed0-784762306967"
      },
      "outputs": [
        {
          "output_type": "stream",
          "name": "stdout",
          "text": [
            "Model: \"sequential_2\"\n",
            "_________________________________________________________________\n",
            " Layer (type)                Output Shape              Param #   \n",
            "=================================================================\n",
            " dense_3 (Dense)             (None, 64)                1984      \n",
            "                                                                 \n",
            " dense_4 (Dense)             (None, 64)                4160      \n",
            "                                                                 \n",
            " dense_5 (Dense)             (None, 64)                4160      \n",
            "                                                                 \n",
            " dense_6 (Dense)             (None, 1)                 65        \n",
            "                                                                 \n",
            "=================================================================\n",
            "Total params: 10,369\n",
            "Trainable params: 10,369\n",
            "Non-trainable params: 0\n",
            "_________________________________________________________________\n"
          ]
        }
      ],
      "source": [
        "pmc2 = Sequential()\n",
        "pmc2.add(Dense(64, input_dim=30, activation='sigmoid'))\n",
        "pmc2.add(Dense(64, activation='sigmoid'))\n",
        "pmc2.add(Dense(64, activation='sigmoid'))\n",
        "pmc2.add(Dense(1, activation='sigmoid'))\n",
        "\n",
        "pmc2.summary()"
      ]
    },
    {
      "cell_type": "markdown",
      "metadata": {
        "id": "yYBwJrVmXeru"
      },
      "source": [
        "<img src=\"https://albarji-labs-materials.s3-eu-west-1.amazonaws.com/question.png\" height=\"80\" width=\"80\" style=\"float: right;\"/>\n",
        "\n",
        "***\n",
        "\n",
        "<font color=#ad3e26>\n",
        "Compila y entrena esta nueva red. ¿Qué nivel de acierto obtienes ahora?\n",
        "</font>\n",
        "\n",
        "***\n"
      ]
    },
    {
      "cell_type": "code",
      "execution_count": 22,
      "metadata": {
        "colab": {
          "base_uri": "https://localhost:8080/"
        },
        "id": "xFxAP9mkXerv",
        "outputId": "0bf267f4-0963-4561-dd9c-c8ea256f7ec3"
      },
      "outputs": [
        {
          "output_type": "stream",
          "name": "stdout",
          "text": [
            "Epoch 1/25\n",
            "12/12 - 2s - loss: 0.7050 - accuracy: 0.4908 - 2s/epoch - 130ms/step\n",
            "Epoch 2/25\n",
            "12/12 - 0s - loss: 0.6727 - accuracy: 0.6194 - 81ms/epoch - 7ms/step\n",
            "Epoch 3/25\n",
            "12/12 - 0s - loss: 0.6625 - accuracy: 0.6194 - 91ms/epoch - 8ms/step\n",
            "Epoch 4/25\n",
            "12/12 - 0s - loss: 0.6597 - accuracy: 0.6194 - 82ms/epoch - 7ms/step\n",
            "Epoch 5/25\n",
            "12/12 - 0s - loss: 0.6582 - accuracy: 0.6194 - 92ms/epoch - 8ms/step\n",
            "Epoch 6/25\n",
            "12/12 - 0s - loss: 0.6579 - accuracy: 0.6194 - 73ms/epoch - 6ms/step\n",
            "Epoch 7/25\n",
            "12/12 - 0s - loss: 0.6576 - accuracy: 0.6194 - 99ms/epoch - 8ms/step\n",
            "Epoch 8/25\n",
            "12/12 - 0s - loss: 0.6570 - accuracy: 0.6194 - 69ms/epoch - 6ms/step\n",
            "Epoch 9/25\n",
            "12/12 - 0s - loss: 0.6568 - accuracy: 0.6194 - 88ms/epoch - 7ms/step\n",
            "Epoch 10/25\n",
            "12/12 - 0s - loss: 0.6568 - accuracy: 0.6194 - 95ms/epoch - 8ms/step\n",
            "Epoch 11/25\n",
            "12/12 - 0s - loss: 0.6566 - accuracy: 0.6194 - 87ms/epoch - 7ms/step\n",
            "Epoch 12/25\n",
            "12/12 - 0s - loss: 0.6559 - accuracy: 0.6194 - 110ms/epoch - 9ms/step\n",
            "Epoch 13/25\n",
            "12/12 - 0s - loss: 0.6554 - accuracy: 0.6194 - 89ms/epoch - 7ms/step\n",
            "Epoch 14/25\n",
            "12/12 - 0s - loss: 0.6550 - accuracy: 0.6194 - 79ms/epoch - 7ms/step\n",
            "Epoch 15/25\n",
            "12/12 - 0s - loss: 0.6544 - accuracy: 0.6194 - 86ms/epoch - 7ms/step\n",
            "Epoch 16/25\n",
            "12/12 - 0s - loss: 0.6551 - accuracy: 0.6194 - 79ms/epoch - 7ms/step\n",
            "Epoch 17/25\n",
            "12/12 - 0s - loss: 0.6544 - accuracy: 0.6194 - 95ms/epoch - 8ms/step\n",
            "Epoch 18/25\n",
            "12/12 - 0s - loss: 0.6540 - accuracy: 0.6194 - 79ms/epoch - 7ms/step\n",
            "Epoch 19/25\n",
            "12/12 - 0s - loss: 0.6532 - accuracy: 0.6194 - 68ms/epoch - 6ms/step\n",
            "Epoch 20/25\n",
            "12/12 - 0s - loss: 0.6534 - accuracy: 0.6194 - 81ms/epoch - 7ms/step\n",
            "Epoch 21/25\n",
            "12/12 - 0s - loss: 0.6531 - accuracy: 0.6194 - 68ms/epoch - 6ms/step\n",
            "Epoch 22/25\n",
            "12/12 - 0s - loss: 0.6524 - accuracy: 0.6194 - 59ms/epoch - 5ms/step\n",
            "Epoch 23/25\n",
            "12/12 - 0s - loss: 0.6520 - accuracy: 0.6194 - 67ms/epoch - 6ms/step\n",
            "Epoch 24/25\n",
            "12/12 - 0s - loss: 0.6516 - accuracy: 0.6194 - 85ms/epoch - 7ms/step\n",
            "Epoch 25/25\n",
            "12/12 - 0s - loss: 0.6519 - accuracy: 0.6194 - 102ms/epoch - 9ms/step\n",
            "6/6 [==============================] - 1s 5ms/step - loss: 0.6385 - accuracy: 0.6436\n",
            "Test loss 0.6385468244552612\n",
            "Test accuracy 0.6436170339584351\n"
          ]
        }
      ],
      "source": [
        "pmc2.compile(loss='binary_crossentropy', optimizer='sgd', metrics=['accuracy'])\n",
        "\n",
        "pmc2.fit(\n",
        "    X_train, # Features de los datos de entrenamiento\n",
        "    y_train, # Etiquetas de los datos de entrenamiento\n",
        "    epochs=25, # Número de épocas: las pasadas que hará la red neuronal sobre nuestros datos\n",
        "    verbose=2, # Nivel de verbosidad de los mensajes\n",
        ")\n",
        "score = pmc2.evaluate(X_test, y_test)\n",
        "print(\"Test loss\", score[0])\n",
        "print(\"Test accuracy\", score[1])"
      ]
    },
    {
      "cell_type": "markdown",
      "metadata": {
        "id": "-smNEyZTXerv"
      },
      "source": [
        "<img src=\"https://albarji-labs-materials.s3-eu-west-1.amazonaws.com/exclamation.png\" height=\"80\" width=\"80\" style=\"float: right;\"/>\n",
        "\n",
        "***\n",
        "<font color=#2655ad>\n",
        "Observa cómo va evolucionando la <b>loss</b> durante el aprendizaje, y compáralo con las redes anteriores. Añadir más capas ocultas sin controlar el desvanecimiento de gradientes puede provocar que la red aprenda muy lentamente.\n",
        "</font>\n",
        "\n",
        "***"
      ]
    },
    {
      "cell_type": "markdown",
      "metadata": {
        "id": "mSkANGcDXerv"
      },
      "source": [
        "## Evitando el desvanecimiento de gradientes"
      ]
    },
    {
      "cell_type": "markdown",
      "metadata": {
        "id": "xOSi1iYOXerw"
      },
      "source": [
        "Si queremos garantizar que todas las capas de la red aprendan correctamente, necesitamos utilizar alguna medida para evitar el desvanecimiento de gradientes. Una medida simple pero bastante efectiva es sustituir la función de la activación de las capas ocultas por la función Rectificada Lineal (ReLU)."
      ]
    },
    {
      "cell_type": "code",
      "execution_count": 23,
      "metadata": {
        "colab": {
          "base_uri": "https://localhost:8080/"
        },
        "id": "FHB22PU5Xerw",
        "outputId": "c3864b07-5bf6-4d6d-ff31-4fa09c7c268e"
      },
      "outputs": [
        {
          "output_type": "stream",
          "name": "stdout",
          "text": [
            "Model: \"sequential_3\"\n",
            "_________________________________________________________________\n",
            " Layer (type)                Output Shape              Param #   \n",
            "=================================================================\n",
            " dense_7 (Dense)             (None, 64)                1984      \n",
            "                                                                 \n",
            " dense_8 (Dense)             (None, 64)                4160      \n",
            "                                                                 \n",
            " dense_9 (Dense)             (None, 64)                4160      \n",
            "                                                                 \n",
            " dense_10 (Dense)            (None, 1)                 65        \n",
            "                                                                 \n",
            "=================================================================\n",
            "Total params: 10,369\n",
            "Trainable params: 10,369\n",
            "Non-trainable params: 0\n",
            "_________________________________________________________________\n"
          ]
        }
      ],
      "source": [
        "pmc_relu = Sequential()\n",
        "pmc_relu.add(Dense(64, input_dim=30, activation='relu'))\n",
        "pmc_relu.add(Dense(64, activation='relu'))\n",
        "pmc_relu.add(Dense(64, activation='relu'))\n",
        "pmc_relu.add(Dense(1, activation='sigmoid'))\n",
        "\n",
        "pmc_relu.summary()"
      ]
    },
    {
      "cell_type": "markdown",
      "metadata": {
        "id": "kcgIPg2-Xerw"
      },
      "source": [
        "<img src=\"https://albarji-labs-materials.s3-eu-west-1.amazonaws.com/question.png\" height=\"80\" width=\"80\" style=\"float: right;\"/>\n",
        "\n",
        "***\n",
        "\n",
        "<font color=#ad3e26>\n",
        "Compila y entrena esta nueva red. ¿Han mejorado los resultados respecto a la red anterior con activaciones sigmoidales?\n",
        "</font>\n",
        "\n",
        "***\n"
      ]
    },
    {
      "cell_type": "code",
      "execution_count": 24,
      "metadata": {
        "colab": {
          "base_uri": "https://localhost:8080/"
        },
        "id": "7Edg-PZRXerx",
        "outputId": "70d6d4c0-ddff-4312-dbba-bde96084ee21"
      },
      "outputs": [
        {
          "output_type": "stream",
          "name": "stdout",
          "text": [
            "Epoch 1/25\n",
            "12/12 - 1s - loss: 0.6909 - accuracy: 0.5984 - 1s/epoch - 118ms/step\n",
            "Epoch 2/25\n",
            "12/12 - 0s - loss: 0.6427 - accuracy: 0.6325 - 69ms/epoch - 6ms/step\n",
            "Epoch 3/25\n",
            "12/12 - 0s - loss: 0.5988 - accuracy: 0.6693 - 69ms/epoch - 6ms/step\n",
            "Epoch 4/25\n",
            "12/12 - 0s - loss: 0.5580 - accuracy: 0.7454 - 62ms/epoch - 5ms/step\n",
            "Epoch 5/25\n",
            "12/12 - 0s - loss: 0.5193 - accuracy: 0.8189 - 81ms/epoch - 7ms/step\n",
            "Epoch 6/25\n",
            "12/12 - 0s - loss: 0.4829 - accuracy: 0.8583 - 72ms/epoch - 6ms/step\n",
            "Epoch 7/25\n",
            "12/12 - 0s - loss: 0.4486 - accuracy: 0.8871 - 86ms/epoch - 7ms/step\n",
            "Epoch 8/25\n",
            "12/12 - 0s - loss: 0.4162 - accuracy: 0.9003 - 77ms/epoch - 6ms/step\n",
            "Epoch 9/25\n",
            "12/12 - 0s - loss: 0.3861 - accuracy: 0.9108 - 70ms/epoch - 6ms/step\n",
            "Epoch 10/25\n",
            "12/12 - 0s - loss: 0.3579 - accuracy: 0.9318 - 74ms/epoch - 6ms/step\n",
            "Epoch 11/25\n",
            "12/12 - 0s - loss: 0.3323 - accuracy: 0.9344 - 87ms/epoch - 7ms/step\n",
            "Epoch 12/25\n",
            "12/12 - 0s - loss: 0.3090 - accuracy: 0.9370 - 79ms/epoch - 7ms/step\n",
            "Epoch 13/25\n",
            "12/12 - 0s - loss: 0.2879 - accuracy: 0.9370 - 92ms/epoch - 8ms/step\n",
            "Epoch 14/25\n",
            "12/12 - 0s - loss: 0.2691 - accuracy: 0.9423 - 74ms/epoch - 6ms/step\n",
            "Epoch 15/25\n",
            "12/12 - 0s - loss: 0.2523 - accuracy: 0.9449 - 65ms/epoch - 5ms/step\n",
            "Epoch 16/25\n",
            "12/12 - 0s - loss: 0.2377 - accuracy: 0.9475 - 76ms/epoch - 6ms/step\n",
            "Epoch 17/25\n",
            "12/12 - 0s - loss: 0.2244 - accuracy: 0.9475 - 71ms/epoch - 6ms/step\n",
            "Epoch 18/25\n",
            "12/12 - 0s - loss: 0.2125 - accuracy: 0.9475 - 82ms/epoch - 7ms/step\n",
            "Epoch 19/25\n",
            "12/12 - 0s - loss: 0.2021 - accuracy: 0.9475 - 96ms/epoch - 8ms/step\n",
            "Epoch 20/25\n",
            "12/12 - 0s - loss: 0.1929 - accuracy: 0.9501 - 64ms/epoch - 5ms/step\n",
            "Epoch 21/25\n",
            "12/12 - 0s - loss: 0.1846 - accuracy: 0.9528 - 80ms/epoch - 7ms/step\n",
            "Epoch 22/25\n",
            "12/12 - 0s - loss: 0.1771 - accuracy: 0.9554 - 76ms/epoch - 6ms/step\n",
            "Epoch 23/25\n",
            "12/12 - 0s - loss: 0.1706 - accuracy: 0.9554 - 74ms/epoch - 6ms/step\n",
            "Epoch 24/25\n",
            "12/12 - 0s - loss: 0.1643 - accuracy: 0.9554 - 88ms/epoch - 7ms/step\n",
            "Epoch 25/25\n",
            "12/12 - 0s - loss: 0.1588 - accuracy: 0.9580 - 65ms/epoch - 5ms/step\n",
            "6/6 [==============================] - 0s 9ms/step - loss: 0.1532 - accuracy: 0.9362\n",
            "Test loss 0.15316420793533325\n",
            "Test accuracy 0.936170220375061\n"
          ]
        }
      ],
      "source": [
        "pmc_relu.compile(loss='binary_crossentropy', optimizer='sgd', metrics=['accuracy'])\n",
        "pmc_relu.fit(\n",
        "    X_train, # Features de los datos de entrenamiento\n",
        "    y_train, # Etiquetas de los datos de entrenamiento\n",
        "    epochs=25, # Número de épocas: las pasadas que hará la red neuronal sobre nuestros datos\n",
        "    verbose=2, # Nivel de verbosidad de los mensajes\n",
        ")\n",
        "score = pmc_relu.evaluate(X_test, y_test)\n",
        "print(\"Test loss\", score[0])\n",
        "print(\"Test accuracy\", score[1])"
      ]
    },
    {
      "cell_type": "markdown",
      "metadata": {
        "id": "iiBEijlQXerx"
      },
      "source": [
        "## Controlando el sobreajuste"
      ]
    },
    {
      "cell_type": "markdown",
      "metadata": {
        "id": "5uCZjgRCXerx"
      },
      "source": [
        "Si la diferencia entre el loss o la accuracy de training y test es grande, puede que nuestro modelo esté sobreajustando a los datos de entrenamiento. Podemos añadir a nuestra red un método para controlar el sobreajuste usando capas de Dropout. Por ejemplo, para añadir un Dropout del 50% a todas las capas ocultas podemos hacer lo siguiente"
      ]
    },
    {
      "cell_type": "code",
      "execution_count": 25,
      "metadata": {
        "colab": {
          "base_uri": "https://localhost:8080/"
        },
        "id": "nAN88gfYXerx",
        "outputId": "0a908db3-2335-4415-8acb-6cbad27485a6"
      },
      "outputs": [
        {
          "output_type": "stream",
          "name": "stdout",
          "text": [
            "Model: \"sequential_4\"\n",
            "_________________________________________________________________\n",
            " Layer (type)                Output Shape              Param #   \n",
            "=================================================================\n",
            " dense_11 (Dense)            (None, 64)                1984      \n",
            "                                                                 \n",
            " dropout (Dropout)           (None, 64)                0         \n",
            "                                                                 \n",
            " dense_12 (Dense)            (None, 64)                4160      \n",
            "                                                                 \n",
            " dropout_1 (Dropout)         (None, 64)                0         \n",
            "                                                                 \n",
            " dense_13 (Dense)            (None, 64)                4160      \n",
            "                                                                 \n",
            " dropout_2 (Dropout)         (None, 64)                0         \n",
            "                                                                 \n",
            " dense_14 (Dense)            (None, 1)                 65        \n",
            "                                                                 \n",
            "=================================================================\n",
            "Total params: 10,369\n",
            "Trainable params: 10,369\n",
            "Non-trainable params: 0\n",
            "_________________________________________________________________\n"
          ]
        }
      ],
      "source": [
        "from tensorflow.keras.layers import Dropout\n",
        "\n",
        "pmc_dropout = Sequential()\n",
        "pmc_dropout.add(Dense(64, input_dim=30, activation='relu'))\n",
        "pmc_dropout.add(Dropout(0.5))\n",
        "pmc_dropout.add(Dense(64, activation='relu'))\n",
        "pmc_dropout.add(Dropout(0.5))\n",
        "pmc_dropout.add(Dense(64, activation='relu'))\n",
        "pmc_dropout.add(Dropout(0.5))\n",
        "pmc_dropout.add(Dense(1, activation='sigmoid'))\n",
        "\n",
        "pmc_dropout.summary()"
      ]
    },
    {
      "cell_type": "markdown",
      "metadata": {
        "id": "4VVYFTRPXerz"
      },
      "source": [
        "<img src=\"https://albarji-labs-materials.s3-eu-west-1.amazonaws.com/question.png\" height=\"80\" width=\"80\" style=\"float: right;\"/>\n",
        "\n",
        "***\n",
        "\n",
        "<font color=#ad3e26>\n",
        "Compila y entrena esta nueva red. ¿Han mejorado los resultados?\n",
        "</font>\n",
        "\n",
        "***\n"
      ]
    },
    {
      "cell_type": "code",
      "execution_count": 26,
      "metadata": {
        "colab": {
          "base_uri": "https://localhost:8080/"
        },
        "id": "LeX5aVPtXerz",
        "outputId": "295995e9-de2d-41f4-a517-bcbb03df49e1"
      },
      "outputs": [
        {
          "output_type": "stream",
          "name": "stdout",
          "text": [
            "Epoch 1/25\n",
            "12/12 - 2s - loss: 0.7380 - accuracy: 0.5669 - 2s/epoch - 140ms/step\n",
            "Epoch 2/25\n",
            "12/12 - 0s - loss: 0.7223 - accuracy: 0.5433 - 46ms/epoch - 4ms/step\n",
            "Epoch 3/25\n",
            "12/12 - 0s - loss: 0.6978 - accuracy: 0.5801 - 48ms/epoch - 4ms/step\n",
            "Epoch 4/25\n",
            "12/12 - 0s - loss: 0.6344 - accuracy: 0.6115 - 49ms/epoch - 4ms/step\n",
            "Epoch 5/25\n",
            "12/12 - 0s - loss: 0.5654 - accuracy: 0.7139 - 48ms/epoch - 4ms/step\n",
            "Epoch 6/25\n",
            "12/12 - 0s - loss: 0.5660 - accuracy: 0.7087 - 51ms/epoch - 4ms/step\n",
            "Epoch 7/25\n",
            "12/12 - 0s - loss: 0.5631 - accuracy: 0.7165 - 48ms/epoch - 4ms/step\n",
            "Epoch 8/25\n",
            "12/12 - 0s - loss: 0.5160 - accuracy: 0.7927 - 53ms/epoch - 4ms/step\n",
            "Epoch 9/25\n",
            "12/12 - 0s - loss: 0.4896 - accuracy: 0.7822 - 61ms/epoch - 5ms/step\n",
            "Epoch 10/25\n",
            "12/12 - 0s - loss: 0.4811 - accuracy: 0.7953 - 47ms/epoch - 4ms/step\n",
            "Epoch 11/25\n",
            "12/12 - 0s - loss: 0.4305 - accuracy: 0.8031 - 49ms/epoch - 4ms/step\n",
            "Epoch 12/25\n",
            "12/12 - 0s - loss: 0.4604 - accuracy: 0.7874 - 48ms/epoch - 4ms/step\n",
            "Epoch 13/25\n",
            "12/12 - 0s - loss: 0.4246 - accuracy: 0.8110 - 54ms/epoch - 5ms/step\n",
            "Epoch 14/25\n",
            "12/12 - 0s - loss: 0.4180 - accuracy: 0.8110 - 47ms/epoch - 4ms/step\n",
            "Epoch 15/25\n",
            "12/12 - 0s - loss: 0.3958 - accuracy: 0.8688 - 47ms/epoch - 4ms/step\n",
            "Epoch 16/25\n",
            "12/12 - 0s - loss: 0.3915 - accuracy: 0.8478 - 52ms/epoch - 4ms/step\n",
            "Epoch 17/25\n",
            "12/12 - 0s - loss: 0.3677 - accuracy: 0.8478 - 48ms/epoch - 4ms/step\n",
            "Epoch 18/25\n",
            "12/12 - 0s - loss: 0.3778 - accuracy: 0.8346 - 51ms/epoch - 4ms/step\n",
            "Epoch 19/25\n",
            "12/12 - 0s - loss: 0.3646 - accuracy: 0.8320 - 47ms/epoch - 4ms/step\n",
            "Epoch 20/25\n",
            "12/12 - 0s - loss: 0.3196 - accuracy: 0.8688 - 45ms/epoch - 4ms/step\n",
            "Epoch 21/25\n",
            "12/12 - 0s - loss: 0.3169 - accuracy: 0.8845 - 44ms/epoch - 4ms/step\n",
            "Epoch 22/25\n",
            "12/12 - 0s - loss: 0.3021 - accuracy: 0.8898 - 46ms/epoch - 4ms/step\n",
            "Epoch 23/25\n",
            "12/12 - 0s - loss: 0.2981 - accuracy: 0.8845 - 56ms/epoch - 5ms/step\n",
            "Epoch 24/25\n",
            "12/12 - 0s - loss: 0.2971 - accuracy: 0.8871 - 47ms/epoch - 4ms/step\n",
            "Epoch 25/25\n",
            "12/12 - 0s - loss: 0.3107 - accuracy: 0.8871 - 45ms/epoch - 4ms/step\n",
            "6/6 [==============================] - 0s 5ms/step - loss: 0.1648 - accuracy: 0.9574\n",
            "Test loss 0.1648164689540863\n",
            "Test accuracy 0.957446813583374\n"
          ]
        }
      ],
      "source": [
        "pmc_dropout.compile(loss='binary_crossentropy', optimizer='sgd', metrics=['accuracy'])\n",
        "pmc_dropout.fit(\n",
        "    X_train, # Features de los datos de entrenamiento\n",
        "    y_train, # Etiquetas de los datos de entrenamiento\n",
        "    epochs=25, # Número de épocas: las pasadas que hará la red neuronal sobre nuestros datos\n",
        "    verbose=2, # Nivel de verbosidad de los mensajes\n",
        ")\n",
        "score = pmc_dropout.evaluate(X_test, y_test)\n",
        "print(\"Test loss\", score[0])\n",
        "print(\"Test accuracy\", score[1])"
      ]
    },
    {
      "cell_type": "markdown",
      "metadata": {
        "id": "hqJanVZHXer0"
      },
      "source": [
        "## Optimizando mejor"
      ]
    },
    {
      "cell_type": "markdown",
      "metadata": {
        "id": "yxOpTyfUXer1"
      },
      "source": [
        "Como última mejora, vamos a introducir el optimizador [Adam](https://keras.io/api/optimizers/adam/). Este optimizador hace un uso más eficiente de los gradientes calculados durante el backpropagation, por lo que con el mismo número de épocas suele conseguir mejores resultados. Para configurarlo basta con definir la red de la misma manera, e indicar `optimizer=\"adam\"` en el paso de compilación."
      ]
    },
    {
      "cell_type": "markdown",
      "metadata": {
        "id": "LbDIeSyRXer2"
      },
      "source": [
        "<img src=\"https://albarji-labs-materials.s3-eu-west-1.amazonaws.com/question.png\" height=\"80\" width=\"80\" style=\"float: right;\"/>\n",
        "\n",
        "***\n",
        "\n",
        "<font color=#ad3e26>\n",
        "Define una nueva red copiando el diseño de la red anterior, compílala usando Adam como optimizador, entrena y mide el acierto sobre el conjunto de test. ¿Has conseguido mejora?\n",
        "</font>\n",
        "\n",
        "***\n"
      ]
    },
    {
      "cell_type": "code",
      "execution_count": 27,
      "metadata": {
        "colab": {
          "base_uri": "https://localhost:8080/"
        },
        "id": "-ikfeJHTXer2",
        "outputId": "d1dfdb36-fb05-47b2-8ee2-e71801f1e1e7"
      },
      "outputs": [
        {
          "output_type": "stream",
          "name": "stdout",
          "text": [
            "Model: \"sequential_5\"\n",
            "_________________________________________________________________\n",
            " Layer (type)                Output Shape              Param #   \n",
            "=================================================================\n",
            " dense_15 (Dense)            (None, 64)                1984      \n",
            "                                                                 \n",
            " dropout_3 (Dropout)         (None, 64)                0         \n",
            "                                                                 \n",
            " dense_16 (Dense)            (None, 64)                4160      \n",
            "                                                                 \n",
            " dropout_4 (Dropout)         (None, 64)                0         \n",
            "                                                                 \n",
            " dense_17 (Dense)            (None, 64)                4160      \n",
            "                                                                 \n",
            " dropout_5 (Dropout)         (None, 64)                0         \n",
            "                                                                 \n",
            " dense_18 (Dense)            (None, 1)                 65        \n",
            "                                                                 \n",
            "=================================================================\n",
            "Total params: 10,369\n",
            "Trainable params: 10,369\n",
            "Non-trainable params: 0\n",
            "_________________________________________________________________\n",
            "Epoch 1/25\n",
            "12/12 - 1s - loss: 0.7184 - accuracy: 0.5328 - 823ms/epoch - 69ms/step\n",
            "Epoch 2/25\n",
            "12/12 - 0s - loss: 0.5696 - accuracy: 0.7192 - 53ms/epoch - 4ms/step\n",
            "Epoch 3/25\n",
            "12/12 - 0s - loss: 0.4757 - accuracy: 0.7900 - 52ms/epoch - 4ms/step\n",
            "Epoch 4/25\n",
            "12/12 - 0s - loss: 0.3765 - accuracy: 0.8530 - 52ms/epoch - 4ms/step\n",
            "Epoch 5/25\n",
            "12/12 - 0s - loss: 0.3357 - accuracy: 0.8898 - 47ms/epoch - 4ms/step\n",
            "Epoch 6/25\n",
            "12/12 - 0s - loss: 0.2784 - accuracy: 0.9081 - 51ms/epoch - 4ms/step\n",
            "Epoch 7/25\n",
            "12/12 - 0s - loss: 0.2284 - accuracy: 0.9213 - 48ms/epoch - 4ms/step\n",
            "Epoch 8/25\n",
            "12/12 - 0s - loss: 0.2036 - accuracy: 0.9423 - 57ms/epoch - 5ms/step\n",
            "Epoch 9/25\n",
            "12/12 - 0s - loss: 0.1896 - accuracy: 0.9344 - 48ms/epoch - 4ms/step\n",
            "Epoch 10/25\n",
            "12/12 - 0s - loss: 0.1595 - accuracy: 0.9423 - 49ms/epoch - 4ms/step\n",
            "Epoch 11/25\n",
            "12/12 - 0s - loss: 0.1488 - accuracy: 0.9501 - 54ms/epoch - 5ms/step\n",
            "Epoch 12/25\n",
            "12/12 - 0s - loss: 0.1466 - accuracy: 0.9580 - 49ms/epoch - 4ms/step\n",
            "Epoch 13/25\n",
            "12/12 - 0s - loss: 0.1097 - accuracy: 0.9659 - 50ms/epoch - 4ms/step\n",
            "Epoch 14/25\n",
            "12/12 - 0s - loss: 0.1354 - accuracy: 0.9633 - 53ms/epoch - 4ms/step\n",
            "Epoch 15/25\n",
            "12/12 - 0s - loss: 0.1025 - accuracy: 0.9580 - 62ms/epoch - 5ms/step\n",
            "Epoch 16/25\n",
            "12/12 - 0s - loss: 0.1337 - accuracy: 0.9633 - 48ms/epoch - 4ms/step\n",
            "Epoch 17/25\n",
            "12/12 - 0s - loss: 0.1167 - accuracy: 0.9554 - 54ms/epoch - 4ms/step\n",
            "Epoch 18/25\n",
            "12/12 - 0s - loss: 0.1380 - accuracy: 0.9554 - 51ms/epoch - 4ms/step\n",
            "Epoch 19/25\n",
            "12/12 - 0s - loss: 0.1042 - accuracy: 0.9659 - 53ms/epoch - 4ms/step\n",
            "Epoch 20/25\n",
            "12/12 - 0s - loss: 0.0974 - accuracy: 0.9764 - 50ms/epoch - 4ms/step\n",
            "Epoch 21/25\n",
            "12/12 - 0s - loss: 0.0878 - accuracy: 0.9764 - 50ms/epoch - 4ms/step\n",
            "Epoch 22/25\n",
            "12/12 - 0s - loss: 0.0915 - accuracy: 0.9633 - 56ms/epoch - 5ms/step\n",
            "Epoch 23/25\n",
            "12/12 - 0s - loss: 0.0666 - accuracy: 0.9869 - 54ms/epoch - 4ms/step\n",
            "Epoch 24/25\n",
            "12/12 - 0s - loss: 0.0732 - accuracy: 0.9738 - 48ms/epoch - 4ms/step\n",
            "Epoch 25/25\n",
            "12/12 - 0s - loss: 0.0890 - accuracy: 0.9738 - 48ms/epoch - 4ms/step\n",
            "6/6 [==============================] - 0s 4ms/step - loss: 0.0536 - accuracy: 0.9894\n",
            "Test loss 0.05356476083397865\n",
            "Test accuracy 0.9893617033958435\n"
          ]
        }
      ],
      "source": [
        "pmc_adam = Sequential()\n",
        "pmc_adam.add(Dense(64, input_dim=30, activation='relu'))\n",
        "pmc_adam.add(Dropout(0.5))\n",
        "pmc_adam.add(Dense(64, activation='relu'))\n",
        "pmc_adam.add(Dropout(0.5))\n",
        "pmc_adam.add(Dense(64, activation='relu'))\n",
        "pmc_adam.add(Dropout(0.5))\n",
        "pmc_adam.add(Dense(1, activation='sigmoid'))\n",
        "\n",
        "pmc_adam.summary()\n",
        "\n",
        "pmc_adam.compile(loss='binary_crossentropy', optimizer='adam', metrics=['accuracy'])\n",
        "pmc_adam.fit(\n",
        "    X_train, # Features de los datos de entrenamiento\n",
        "    y_train, # Etiquetas de los datos de entrenamiento\n",
        "    epochs=25, # Número de épocas: las pasadas que hará la red neuronal sobre nuestros datos\n",
        "    verbose=2, # Nivel de verbosidad de los mensajes\n",
        ")\n",
        "score = pmc_adam.evaluate(X_test, y_test)\n",
        "print(\"Test loss\", score[0])\n",
        "print(\"Test accuracy\", score[1])"
      ]
    }
  ],
  "metadata": {
    "accelerator": "GPU",
    "anaconda-cloud": {},
    "colab": {
      "name": "deeplearning_simple_keras_demo_student.ipynb",
      "provenance": [],
      "collapsed_sections": [
        "kUQO4MpYXequ",
        "oby3ILNNXeq8",
        "XYX-e7jRXerW",
        "h7ic0U1rXerg",
        "EAXKDxU8Xerh",
        "xwQ_97kYXero",
        "mSkANGcDXerv",
        "iiBEijlQXerx",
        "hqJanVZHXer0"
      ],
      "toc_visible": true
    },
    "kernelspec": {
      "display_name": "Python 3 (ipykernel)",
      "language": "python",
      "name": "python3"
    },
    "language_info": {
      "codemirror_mode": {
        "name": "ipython",
        "version": 3
      },
      "file_extension": ".py",
      "mimetype": "text/x-python",
      "name": "python",
      "nbconvert_exporter": "python",
      "pygments_lexer": "ipython3",
      "version": "3.8.11"
    }
  },
  "nbformat": 4,
  "nbformat_minor": 0
}