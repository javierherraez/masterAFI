{
  "cells": [
    {
      "cell_type": "markdown",
      "metadata": {
        "id": "T6iAgGLWZ1NH",
        "nbgrader": {
          "grade": false,
          "locked": false,
          "solution": false
        }
      },
      "source": [
        "# Ejercicio: clasificando dígitos con redes densas"
      ]
    },
    {
      "cell_type": "markdown",
      "metadata": {
        "id": "7rVh6qzyZ1NM",
        "nbgrader": {
          "grade": false,
          "locked": false,
          "solution": false
        }
      },
      "source": [
        "<img src=\"https://albarji-labs-materials.s3-eu-west-1.amazonaws.com/mnist.jpeg\" style=\"width:480px;\">"
      ]
    },
    {
      "cell_type": "markdown",
      "metadata": {
        "id": "qRaLyDS-Z1NN",
        "nbgrader": {
          "grade": false,
          "locked": false,
          "solution": false
        }
      },
      "source": [
        "En este ejercicio vamos a tratar de identificar imágenes de dígitos escritos a mano. Usaremos este problema como un campo de pruebas para utilizar diferentes arquitecturas de red neuronal."
      ]
    },
    {
      "cell_type": "markdown",
      "metadata": {
        "id": "Elg3BKYBZ1NO",
        "nbgrader": {
          "grade": false,
          "locked": false,
          "solution": false
        }
      },
      "source": [
        "## Guía general"
      ]
    },
    {
      "cell_type": "markdown",
      "metadata": {
        "id": "Q2hzHlD6Z1NO",
        "nbgrader": {
          "grade": false,
          "locked": false,
          "solution": false
        }
      },
      "source": [
        "A lo largo del notebook encontrarás celdas que debes rellenar con tu propio código. Sigue las instrucciones del notebook y presta atención a los siguientes iconos:\n",
        "\n",
        "<img src=\"https://albarji-labs-materials.s3-eu-west-1.amazonaws.com/question.png\" height=\"80\" width=\"80\" style=\"float: right;\"/>\n",
        "\n",
        "***\n",
        "\n",
        "<font color=#ad3e26>\n",
        "Deberás resolver el ejercicio escribiendo tu propio código o respuesta en la celda inmediatamente inferior.</font>\n",
        "\n",
        "***"
      ]
    },
    {
      "cell_type": "markdown",
      "metadata": {
        "id": "xcLH4ibdZ1NQ"
      },
      "source": [
        "<img src=\"https://albarji-labs-materials.s3-eu-west-1.amazonaws.com/exclamation.png\" height=\"80\" width=\"80\" style=\"float: right;\"/>\n",
        "\n",
        "***\n",
        "<font color=#2655ad>\n",
        "Esto es una pista u observación de utilidad que puede ayudarte a resolver el ejercicio. Presta atención a estas pistas para comprender el ejercicio en mayor profundidad.\n",
        "</font>\n",
        "\n",
        "***"
      ]
    },
    {
      "cell_type": "markdown",
      "metadata": {
        "id": "gED8eQV_Z1NR"
      },
      "source": [
        "<img src=\"https://albarji-labs-materials.s3-eu-west-1.amazonaws.com/pro.png\" height=\"80\" width=\"80\" style=\"float: right;\"/>\n",
        "\n",
        "***\n",
        "<font color=#259b4c>\n",
        "Este es un ejercicio avanzado que te puede ayudar a profundizar en el tema. ¡Buena suerte!</font>\n",
        "\n",
        "***"
      ]
    },
    {
      "cell_type": "markdown",
      "metadata": {
        "id": "-nUzXa9WZ1NS"
      },
      "source": [
        "Para evitar problemas con imports o incompatibilidades se recomienda ejecutar este notebook en uno de los [entornos de Deep Learning recomendados](https://github.com/albarji/teaching-environments-deeplearning), o hacer uso [Google Colaboratory](https://colab.research.google.com/). Si usas Colaboratory, asegúrate de [conectar una GPU](https://colab.research.google.com/notebooks/gpu.ipynb)."
      ]
    },
    {
      "cell_type": "markdown",
      "metadata": {
        "id": "K28WcwAaZ1NT"
      },
      "source": [
        "El siguiente código mostrará todas las gráficas en el propio notebook en lugar de generar una nueva ventana."
      ]
    },
    {
      "cell_type": "code",
      "execution_count": 1,
      "metadata": {
        "id": "BZI8BtOMZ1NU"
      },
      "outputs": [],
      "source": [
        "import matplotlib.pyplot as plt\n",
        "%matplotlib inline"
      ]
    },
    {
      "cell_type": "markdown",
      "metadata": {
        "id": "xHsfWjVDHlzp"
      },
      "source": [
        "También vamos a fijar las semillas aleatorias de numpy y tensorflow para obtener resultados reproducibles entre varias ejecuciones del notebook"
      ]
    },
    {
      "cell_type": "code",
      "execution_count": 2,
      "metadata": {
        "id": "F4-Xljb2Hlzq"
      },
      "outputs": [],
      "source": [
        "import numpy as np\n",
        "import tensorflow as tf\n",
        "np.random.seed(1)\n",
        "tf.random.set_seed(2)"
      ]
    },
    {
      "cell_type": "markdown",
      "metadata": {
        "id": "JqKm77JQZ1NV"
      },
      "source": [
        "Finalmente, si necesitas ayuda en el uso de cualquier función Python, coloca el cursor sobre su nombre y presiona Shift+Tab. Aparecerá una ventana con su documentación. Esto solo funciona dentro de celdas de código.\n",
        "\n",
        "¡Vamos alla!"
      ]
    },
    {
      "cell_type": "markdown",
      "metadata": {
        "id": "9ukqxnv3Z1NY"
      },
      "source": [
        "## Carga de datos"
      ]
    },
    {
      "cell_type": "markdown",
      "metadata": {
        "id": "tWPhQmgMZ1NY"
      },
      "source": [
        "El dataset de reconocimiento de dígitos que vamos a trabajar ya está incluído en la librería Keras. Para cargalo solo necesitamos ejecutar lo siguiente"
      ]
    },
    {
      "cell_type": "code",
      "execution_count": 3,
      "metadata": {
        "id": "dwoAkfrZZ1NY",
        "scrolled": true,
        "colab": {
          "base_uri": "https://localhost:8080/"
        },
        "outputId": "f87aa87b-94e9-4d0f-a544-fef0879dab0c"
      },
      "outputs": [
        {
          "output_type": "stream",
          "name": "stdout",
          "text": [
            "Downloading data from https://storage.googleapis.com/tensorflow/tf-keras-datasets/mnist.npz\n",
            "11493376/11490434 [==============================] - 0s 0us/step\n",
            "11501568/11490434 [==============================] - 0s 0us/step\n"
          ]
        }
      ],
      "source": [
        "from tensorflow.keras.datasets import mnist\n",
        "(X_train, y_train), (X_test, y_test) = mnist.load_data()"
      ]
    },
    {
      "cell_type": "markdown",
      "metadata": {
        "id": "dtUM1t1CZ1NZ"
      },
      "source": [
        "Las variables **X** que se han cargado están formadas por los dígitos manuscritos a clasificar, mientras que las variables **y** nos indican las etiquetas de las imágenes correspondientes en X. Usaremos los datos de **train** para entrenar nuestra red neuronal, y los datos de **test** para medir el rendimiento de la red."
      ]
    },
    {
      "cell_type": "markdown",
      "metadata": {
        "id": "vk92T9T8Z1Na"
      },
      "source": [
        "Podemos comprobar cuántas imágenes tenemos para entrenar y testear de la siguiente manera:"
      ]
    },
    {
      "cell_type": "code",
      "execution_count": 4,
      "metadata": {
        "colab": {
          "base_uri": "https://localhost:8080/"
        },
        "id": "TqFTKjEUZ1Na",
        "outputId": "08dcf2dc-c462-4261-c2e6-bfaa2fdef706"
      },
      "outputs": [
        {
          "output_type": "execute_result",
          "data": {
            "text/plain": [
              "60000"
            ]
          },
          "metadata": {},
          "execution_count": 4
        }
      ],
      "source": [
        "len(X_train)"
      ]
    },
    {
      "cell_type": "code",
      "execution_count": 5,
      "metadata": {
        "colab": {
          "base_uri": "https://localhost:8080/"
        },
        "id": "A-mO-0w2Z1Nc",
        "outputId": "cff2d447-61e4-475d-dc33-edfb7269ff6e"
      },
      "outputs": [
        {
          "output_type": "execute_result",
          "data": {
            "text/plain": [
              "10000"
            ]
          },
          "metadata": {},
          "execution_count": 5
        }
      ],
      "source": [
        "len(X_test)"
      ]
    },
    {
      "cell_type": "markdown",
      "metadata": {
        "id": "3_aBgCbNZ1Nc"
      },
      "source": [
        "También podemos comprobar la forma (ancho y alto en píxeles) de una imagen:"
      ]
    },
    {
      "cell_type": "code",
      "execution_count": 6,
      "metadata": {
        "colab": {
          "base_uri": "https://localhost:8080/"
        },
        "id": "8rYORERfZ1Nc",
        "outputId": "bf355ac8-3881-41c5-9f61-e9e00c9e8ee7"
      },
      "outputs": [
        {
          "output_type": "execute_result",
          "data": {
            "text/plain": [
              "(28, 28)"
            ]
          },
          "metadata": {},
          "execution_count": 6
        }
      ],
      "source": [
        "X_test[0].shape"
      ]
    },
    {
      "cell_type": "markdown",
      "metadata": {
        "id": "N243y_TyZ1Nd"
      },
      "source": [
        "Podemos visualizar las imágenes del dataset a través de la librería **matplotlib**. En la siguiente celda tomamos la primera imagen de entrenamiento y la visualicemos en una escala de grises. También estamos imprimiendo la clase correspondiente a esa imagen, para comprobar que el etiquetado de la imagen es correcto."
      ]
    },
    {
      "cell_type": "code",
      "execution_count": 7,
      "metadata": {
        "colab": {
          "base_uri": "https://localhost:8080/",
          "height": 282
        },
        "id": "xQHQi6omZ1Nd",
        "outputId": "79890961-5f59-4c7f-a7e0-b12a5702d57f"
      },
      "outputs": [
        {
          "output_type": "stream",
          "name": "stdout",
          "text": [
            "Digit class: 5\n"
          ]
        },
        {
          "output_type": "display_data",
          "data": {
            "text/plain": [
              "<Figure size 432x288 with 1 Axes>"
            ],
            "image/png": "[encoded data removed]"
          },
          "metadata": {
            "needs_background": "light"
          }
        }
      ],
      "source": [
        "plt.imshow(X_train[0], 'gray')\n",
        "print(\"Digit class:\", y_train[0])"
      ]
    },
    {
      "cell_type": "markdown",
      "metadata": {
        "id": "U3xs5__1Z1Ne"
      },
      "source": [
        "## Preparación de datos"
      ]
    },
    {
      "cell_type": "markdown",
      "metadata": {
        "id": "0I7E7MkXZ1Ne"
      },
      "source": [
        "### Normalización de las entradas"
      ]
    },
    {
      "cell_type": "markdown",
      "metadata": {
        "id": "lTb8p2saZ1Nf"
      },
      "source": [
        "Ante de construir una red neuronal, primero debemos siempre normalizar los datos. Generalmente la normalización implica restar la media y dividir la desviación estándar de los datos. No obstante, para el caso de imágenes en escala de gris como estas, cada valor de los datos representa la intensidad de un pixel, un valor que está acotado en el rango [0, 255]. Podemos por tanto realizar una normalización sencilla consistente en dividir los datos por 255 para que se queden ajustados al rango [0, 1]. También necesitaremos tranformar el tipo de datos a `float`, o de otro modo no podremos representar valores decimales."
      ]
    },
    {
      "cell_type": "code",
      "execution_count": 8,
      "metadata": {
        "id": "AAmRXuUuZ1Nf"
      },
      "outputs": [],
      "source": [
        "X_train_norm = X_train.astype('float32') / 255"
      ]
    },
    {
      "cell_type": "markdown",
      "metadata": {
        "id": "1PAbCmbgZ1Nf"
      },
      "source": [
        "<img src=\"https://albarji-labs-materials.s3-eu-west-1.amazonaws.com/question.png\" height=\"80\" width=\"80\" style=\"float: right;\"/>\n",
        "\n",
        "***\n",
        "\n",
        "<font color=#ad3e26>\n",
        "Realiza la misma normalización para los datos de entrada de test.\n",
        "</font>\n",
        "\n",
        "***"
      ]
    },
    {
      "cell_type": "code",
      "execution_count": 10,
      "metadata": {
        "id": "acvP9jrQZ1Ng"
      },
      "outputs": [],
      "source": [
        "####### INSERT YOUR CODE HERE\n",
        "X_test_norm = X_test.astype('float32') / 255"
      ]
    },
    {
      "cell_type": "markdown",
      "metadata": {
        "id": "xPGLpjNpZ1Ng"
      },
      "source": [
        "### Codificación de las salidas"
      ]
    },
    {
      "cell_type": "markdown",
      "metadata": {
        "id": "W2EO1xO7Z1Ng"
      },
      "source": [
        "Los datos de salida para una red neuronal no requieren normalización, pero sí deben ser codificados siguiendo un formato en particular. En lugar de tener un valor entero en el rango [0, 9] que indique la clase de la imagen, utilizaremos una codificación de tipo <a href=\"https://en.wikipedia.org/wiki/One-hot\">one-hot</a>."
      ]
    },
    {
      "cell_type": "code",
      "execution_count": 11,
      "metadata": {
        "id": "39jiX5H-Z1Nh"
      },
      "outputs": [],
      "source": [
        "from tensorflow.keras.utils import to_categorical\n",
        "y_train_encoded = to_categorical(y_train, 10) # We have 10 classes to codify"
      ]
    },
    {
      "cell_type": "markdown",
      "metadata": {
        "id": "wI_sfK-9Z1Nh"
      },
      "source": [
        "Podemos comprobar que la transformación ha generado una codificación one-hot correcta"
      ]
    },
    {
      "cell_type": "code",
      "execution_count": 12,
      "metadata": {
        "colab": {
          "base_uri": "https://localhost:8080/"
        },
        "id": "LEZYZaqhZ1Ni",
        "outputId": "e796c0d4-8834-4a61-9e12-03cc3b8c846a"
      },
      "outputs": [
        {
          "output_type": "execute_result",
          "data": {
            "text/plain": [
              "array([[0., 0., 0., ..., 0., 0., 0.],\n",
              "       [1., 0., 0., ..., 0., 0., 0.],\n",
              "       [0., 0., 0., ..., 0., 0., 0.],\n",
              "       ...,\n",
              "       [0., 0., 0., ..., 0., 0., 0.],\n",
              "       [0., 0., 0., ..., 0., 0., 0.],\n",
              "       [0., 0., 0., ..., 0., 1., 0.]], dtype=float32)"
            ]
          },
          "metadata": {},
          "execution_count": 12
        }
      ],
      "source": [
        "y_train_encoded"
      ]
    },
    {
      "cell_type": "markdown",
      "metadata": {
        "id": "K10ISFigZ1Ni"
      },
      "source": [
        "<img src=\"https://albarji-labs-materials.s3-eu-west-1.amazonaws.com/question.png\" height=\"80\" width=\"80\" style=\"float: right;\"/>\n",
        "\n",
        "***\n",
        "\n",
        "<font color=#ad3e26>\n",
        "Realiza la misma codificación para los datos de salida de test.\n",
        "</font>\n",
        "\n",
        "***"
      ]
    },
    {
      "cell_type": "code",
      "execution_count": 13,
      "metadata": {
        "id": "vwsMCUTiZ1Ni"
      },
      "outputs": [],
      "source": [
        "y_test_encoded = to_categorical(y_test, 10) # We have 10 classes to codify"
      ]
    },
    {
      "cell_type": "markdown",
      "metadata": {
        "id": "WSi64MJOZ1Nj"
      },
      "source": [
        "### Aplanado (flattening) de las entradas"
      ]
    },
    {
      "cell_type": "markdown",
      "metadata": {
        "id": "HTbHsiFIZ1Nj"
      },
      "source": [
        "Nuestra preparación de datos está casi terminada, pero falta un pequeño detalle: nuestros datos son imágenes bidimensionales, pero una red neuronal estándar solo es capaz de trabajar con datos en la forma de vectores unidimensionales de variables. Debemos transformar los datos a vectores antes de introducirlos en la red neuronal, algo que podemos hacer con el método `reshape`. Dado que tenemos 60000 imágenes de entrenamiento de 28x28 (784 en total) píxeles, el `reshape` a realizar es:"
      ]
    },
    {
      "cell_type": "code",
      "execution_count": 14,
      "metadata": {
        "id": "Z8kWfhozZ1Nj"
      },
      "outputs": [],
      "source": [
        "trainvectors = X_train_norm.reshape(60000, 784)"
      ]
    },
    {
      "cell_type": "markdown",
      "metadata": {
        "id": "E6ZGZr4AZ1Nj"
      },
      "source": [
        "Podemos comprobar ahora que nuestros datos de entrenamiento se han convertido en una matriz de 60000 datos (filas) y 784 variables (columnas)."
      ]
    },
    {
      "cell_type": "code",
      "execution_count": 15,
      "metadata": {
        "colab": {
          "base_uri": "https://localhost:8080/"
        },
        "id": "CXK4c3CqZ1Nk",
        "outputId": "1d1e2775-45bc-4d9c-f89d-6ca114c3561e"
      },
      "outputs": [
        {
          "output_type": "execute_result",
          "data": {
            "text/plain": [
              "(60000, 784)"
            ]
          },
          "metadata": {},
          "execution_count": 15
        }
      ],
      "source": [
        "trainvectors.shape"
      ]
    },
    {
      "cell_type": "markdown",
      "metadata": {
        "id": "pdvuGPFnZ1Nk"
      },
      "source": [
        "<img src=\"https://albarji-labs-materials.s3-eu-west-1.amazonaws.com/question.png\" height=\"80\" width=\"80\" style=\"float: right;\"/>\n",
        "\n",
        "***\n",
        "\n",
        "<font color=#ad3e26>\n",
        "Realiza una transformación similar para los datos de entrada de test (X_test), guardando los datos tras el reshape en una nueva varible llamada <b>testvectors</b>. Ten en cuenta que en test contamos con 10000 imágenes, en lugar de las 60000 de entrenamiento.\n",
        "</font>\n",
        "\n",
        "***"
      ]
    },
    {
      "cell_type": "code",
      "execution_count": 16,
      "metadata": {
        "id": "M-v5GQvpZ1Nk"
      },
      "outputs": [],
      "source": [
        "####### INSERT YOUR CODE HERE\n",
        "testvectors = X_test_norm.reshape(10000, 784)"
      ]
    },
    {
      "cell_type": "markdown",
      "metadata": {
        "id": "5vrVCbf7Z1Nl"
      },
      "source": [
        "Ten en mente que este aplanado en vectores unidimensionales es algo que solo necesitamos hacer para el tipo de redes que trabajaremos en este notebook. Cuando en otros notebooks avancemos a redes especializadas en imágenes, podremos hacer que la red utilice directamente las imágenes como entradas."
      ]
    },
    {
      "cell_type": "markdown",
      "metadata": {
        "id": "ArqdD4oNZ1Nl"
      },
      "source": [
        "## Perceptrón"
      ]
    },
    {
      "cell_type": "markdown",
      "metadata": {
        "id": "g7v_ZF6UZ1Nl"
      },
      "source": [
        "Empezaremos tratando el problema con la red neuronal más sencilla: un perceptrón. Esto quiere decir que tendremos una red neuronal sin capas ocultas, únicamente conexiones desde las entradas a las salidas."
      ]
    },
    {
      "cell_type": "markdown",
      "metadata": {
        "id": "5_AlpjQdZ1Nl"
      },
      "source": [
        "### Definiendo la red"
      ]
    },
    {
      "cell_type": "markdown",
      "metadata": {
        "id": "-71j5rZRZ1Nn"
      },
      "source": [
        "Para construir una red en Keras primero debemos definir el tipo de arquitectura:\n",
        "\n",
        "* **Sequential**: cada nueva capa se conecta a la capa declarada inmediatamente antes en la red, siguiendo una cadena.\n",
        "* **Functional**: cada capa puede conectarse a la salida de cualquier otra capa declarada antes en la red, siempre y cuando no se formen ciclos.\n",
        "\n",
        "Para este ejercicio será suficiente con una arquitectura de tipo Sequential."
      ]
    },
    {
      "cell_type": "code",
      "execution_count": 17,
      "metadata": {
        "id": "9Dp2-DiYZ1Nn"
      },
      "outputs": [],
      "source": [
        "from tensorflow.keras.models import Sequential\n",
        "perceptron = Sequential()"
      ]
    },
    {
      "cell_type": "markdown",
      "metadata": {
        "id": "OtNzCoZtZ1Nn"
      },
      "source": [
        "Una vez la red ha sido inicializada, podemos ir añadiendo las capas deseadas de manera iterativa. Para construir un perceptrón solo nos hará falta una capa \"clásica\" de pesos desde las entradas a la salida. En Deep Learning moderno este tipo de capas se llaman **Dense**, porque conectan todas las variables de entrada con todas las salidas de la capa."
      ]
    },
    {
      "cell_type": "code",
      "execution_count": 18,
      "metadata": {
        "id": "02ooaQjTZ1Nn"
      },
      "outputs": [],
      "source": [
        "from tensorflow.keras.layers import Dense"
      ]
    },
    {
      "cell_type": "markdown",
      "metadata": {
        "id": "5Xiq_3MrZ1No"
      },
      "source": [
        "Para crear una capa densa suele bastar con declarar el número de unidades de salida (o desde un punto de vista clásico, el número de neuronas). No obstante, en un modelo de tipo Sequential estamos obligados a declarar el número de variables de entrada a la red neuronal cuando creamos nuestra primera capa. En este problema tenemos 784 variables explicativas (28x28 píxeles). En cuanto a las salidas, en este problema tenemos 10 clases, por lo que deberemos crear 10 unidades de salida. También debemos tener en consideración que estamos trabajando un problema multiclase, y por tanto debemos escoger una función de activación que delimite los valores de salida de la red al rango [0, 1], asegurando que la suma de todos estos valores es `1`. La activación `softmax` es la adecuada en estos casos."
      ]
    },
    {
      "cell_type": "code",
      "execution_count": 19,
      "metadata": {
        "id": "t6OfS1qjZ1No"
      },
      "outputs": [],
      "source": [
        "perceptron.add(Dense(10, input_dim=784, activation=\"softmax\"))"
      ]
    },
    {
      "cell_type": "markdown",
      "metadata": {
        "id": "cfmVQv3iZ1No"
      },
      "source": [
        "Con esto, la definición de la red está completa. Podemos confirmar que la hemos construído correctamente pidiendo a Keras un resumen del modelo."
      ]
    },
    {
      "cell_type": "code",
      "execution_count": 20,
      "metadata": {
        "colab": {
          "base_uri": "https://localhost:8080/"
        },
        "id": "EYpHwgdAZ1Np",
        "outputId": "2cb9fc03-49fb-40ea-9335-b326a338ab0a"
      },
      "outputs": [
        {
          "output_type": "stream",
          "name": "stdout",
          "text": [
            "Model: \"sequential\"\n",
            "_________________________________________________________________\n",
            " Layer (type)                Output Shape              Param #   \n",
            "=================================================================\n",
            " dense (Dense)               (None, 10)                7850      \n",
            "                                                                 \n",
            "=================================================================\n",
            "Total params: 7,850\n",
            "Trainable params: 7,850\n",
            "Non-trainable params: 0\n",
            "_________________________________________________________________\n"
          ]
        }
      ],
      "source": [
        "perceptron.summary()"
      ]
    },
    {
      "cell_type": "markdown",
      "metadata": {
        "id": "-djMZ0PUZ1Np"
      },
      "source": [
        "### Compilando la red"
      ]
    },
    {
      "cell_type": "markdown",
      "metadata": {
        "id": "t06_WzQfZ1Np"
      },
      "source": [
        "Tras definir la red, debemos realizar la compilación de la misma. La compilación es un proceso automático que transforma la definición de la red en una formulación simbólica equivalente para la que pueden calcularse las derivadas, permitiendo así ejecutar el algoritmo de retropropagación (backpropagation). Los únicos parámetros que debemos especificar son la función de pérdida o error que la red debe minimizar, y el optimizador a usar durante el aprendizaje.\n",
        "\n",
        "Dado que estamos tratando con un problema de clasificación multiclase, la función de pérdida más adecuada es la **categorical crossentropy**. En cuanto al optimizador, de momento utilizaremos el **Stochastic Gradient Descent**. Como parámetro opcional, solicitaremos que como métrica se nos informe de la **accuracy** durante el entrenamiento de la red."
      ]
    },
    {
      "cell_type": "code",
      "execution_count": 21,
      "metadata": {
        "id": "GHnCE0z-Z1Np"
      },
      "outputs": [],
      "source": [
        "perceptron.compile(loss='categorical_crossentropy', optimizer='sgd', metrics=['accuracy'])"
      ]
    },
    {
      "cell_type": "markdown",
      "metadata": {
        "id": "kYqX_OaDZ1Nq"
      },
      "source": [
        "### Entrenando la red"
      ]
    },
    {
      "cell_type": "markdown",
      "metadata": {
        "id": "_7QCiJQRZ1Nq"
      },
      "source": [
        "Ahora podemos invocar al método `fit` de la red, el encargado de ejecutar el proceso de entrenamiento. Para este problema utilizaremos un tamaño de batch de 128, y 20 épocas de entrenamiento."
      ]
    },
    {
      "cell_type": "code",
      "execution_count": 22,
      "metadata": {
        "colab": {
          "base_uri": "https://localhost:8080/"
        },
        "id": "jQ2rrI6NZ1Nq",
        "outputId": "7c647ecb-640e-4694-bcd6-531b9c32db2b",
        "scrolled": false
      },
      "outputs": [
        {
          "output_type": "stream",
          "name": "stdout",
          "text": [
            "Epoch 1/20\n",
            "469/469 - 3s - loss: 1.2887 - accuracy: 0.7005 - 3s/epoch - 7ms/step\n",
            "Epoch 2/20\n",
            "469/469 - 1s - loss: 0.7146 - accuracy: 0.8439 - 1s/epoch - 3ms/step\n",
            "Epoch 3/20\n",
            "469/469 - 1s - loss: 0.5860 - accuracy: 0.8604 - 1s/epoch - 2ms/step\n",
            "Epoch 4/20\n",
            "469/469 - 1s - loss: 0.5245 - accuracy: 0.8697 - 1s/epoch - 3ms/step\n",
            "Epoch 5/20\n",
            "469/469 - 1s - loss: 0.4872 - accuracy: 0.8759 - 1s/epoch - 2ms/step\n",
            "Epoch 6/20\n",
            "469/469 - 1s - loss: 0.4615 - accuracy: 0.8801 - 1s/epoch - 3ms/step\n",
            "Epoch 7/20\n",
            "469/469 - 1s - loss: 0.4425 - accuracy: 0.8840 - 1s/epoch - 3ms/step\n",
            "Epoch 8/20\n",
            "469/469 - 1s - loss: 0.4276 - accuracy: 0.8865 - 1s/epoch - 2ms/step\n",
            "Epoch 9/20\n",
            "469/469 - 1s - loss: 0.4156 - accuracy: 0.8891 - 1s/epoch - 2ms/step\n",
            "Epoch 10/20\n",
            "469/469 - 1s - loss: 0.4058 - accuracy: 0.8903 - 1s/epoch - 3ms/step\n",
            "Epoch 11/20\n",
            "469/469 - 1s - loss: 0.3973 - accuracy: 0.8920 - 1s/epoch - 3ms/step\n",
            "Epoch 12/20\n",
            "469/469 - 1s - loss: 0.3900 - accuracy: 0.8941 - 1s/epoch - 3ms/step\n",
            "Epoch 13/20\n",
            "469/469 - 1s - loss: 0.3837 - accuracy: 0.8953 - 1s/epoch - 2ms/step\n",
            "Epoch 14/20\n",
            "469/469 - 1s - loss: 0.3781 - accuracy: 0.8965 - 1s/epoch - 3ms/step\n",
            "Epoch 15/20\n",
            "469/469 - 1s - loss: 0.3731 - accuracy: 0.8976 - 1s/epoch - 2ms/step\n",
            "Epoch 16/20\n",
            "469/469 - 1s - loss: 0.3685 - accuracy: 0.8986 - 1s/epoch - 3ms/step\n",
            "Epoch 17/20\n",
            "469/469 - 1s - loss: 0.3644 - accuracy: 0.8999 - 1s/epoch - 3ms/step\n",
            "Epoch 18/20\n",
            "469/469 - 1s - loss: 0.3607 - accuracy: 0.9009 - 1s/epoch - 3ms/step\n",
            "Epoch 19/20\n",
            "469/469 - 1s - loss: 0.3573 - accuracy: 0.9014 - 1s/epoch - 3ms/step\n",
            "Epoch 20/20\n",
            "469/469 - 1s - loss: 0.3541 - accuracy: 0.9024 - 1s/epoch - 2ms/step\n"
          ]
        },
        {
          "output_type": "execute_result",
          "data": {
            "text/plain": [
              "<keras.callbacks.History at 0x7f8560132490>"
            ]
          },
          "metadata": {},
          "execution_count": 22
        }
      ],
      "source": [
        "perceptron.fit(\n",
        "    trainvectors, # Training data\n",
        "    y_train_encoded, # Labels of training data\n",
        "    batch_size=128, # Batch size for the optimizer algorithm\n",
        "    epochs=20, # Number of epochs to run the optimizer algorithm\n",
        "    verbose=2 # Level of verbosity of the log messages\n",
        ")"
      ]
    },
    {
      "cell_type": "markdown",
      "metadata": {
        "id": "H8CrwOFaZ1Nr"
      },
      "source": [
        "Ahora que nuestra red está entrenada, podemos obtener predicciones para el conjunto de test como"
      ]
    },
    {
      "cell_type": "code",
      "execution_count": 23,
      "metadata": {
        "id": "RwFG6kYSZ1Nr"
      },
      "outputs": [],
      "source": [
        "probs = perceptron.predict(testvectors)"
      ]
    },
    {
      "cell_type": "markdown",
      "metadata": {
        "id": "Z2YthyGXZ1Ns"
      },
      "source": [
        "Las predicciones se obtienen como una matriz con forma `(n_datos, clases)`, que pueden interpretarse como las probabilidades de que la imagen pertenezca a cada una de las clases posibles."
      ]
    },
    {
      "cell_type": "code",
      "execution_count": 24,
      "metadata": {
        "colab": {
          "base_uri": "https://localhost:8080/"
        },
        "id": "BSiYjuzRZ1Ns",
        "outputId": "6f325872-fcb2-4ae4-873f-7428cc30515f"
      },
      "outputs": [
        {
          "output_type": "execute_result",
          "data": {
            "text/plain": [
              "array([[2.58102722e-04, 8.01071394e-07, 1.99522023e-04, ...,\n",
              "        9.94534850e-01, 1.76103087e-04, 2.72493181e-03],\n",
              "       [1.26140425e-02, 1.63576915e-04, 8.68396878e-01, ...,\n",
              "        3.76514350e-07, 7.84975663e-03, 4.99391444e-06],\n",
              "       [1.99456161e-04, 9.50817883e-01, 1.63212810e-02, ...,\n",
              "        4.42804350e-03, 9.89920553e-03, 1.84979360e-03],\n",
              "       ...,\n",
              "       [7.10017912e-06, 2.92644909e-05, 1.47686122e-04, ...,\n",
              "        6.66955533e-03, 2.16466989e-02, 5.35607561e-02],\n",
              "       [6.61989488e-03, 8.03831033e-03, 2.10193591e-03, ...,\n",
              "        1.33099617e-03, 4.83725011e-01, 2.25255056e-03],\n",
              "       [3.76263139e-04, 2.18210729e-08, 1.20737671e-03, ...,\n",
              "        7.74323894e-08, 8.18955778e-06, 1.93739811e-06]], dtype=float32)"
            ]
          },
          "metadata": {},
          "execution_count": 24
        }
      ],
      "source": [
        "probs"
      ]
    },
    {
      "cell_type": "markdown",
      "metadata": {
        "id": "ekhCjQtzZ1Ns"
      },
      "source": [
        "Si usando estas probabilidades tuviéramos que apostar por qué digito es el que se representa en la imagen, lo más sensato sería decantarnos por el que tiene mayor probabilidad. Podemos hacer esto fácilmente empleando la función [argmax de numpy](https://numpy.org/doc/stable/reference/generated/numpy.argmax.html):"
      ]
    },
    {
      "cell_type": "code",
      "execution_count": 25,
      "metadata": {
        "id": "WBG7APVGZ1Nt",
        "colab": {
          "base_uri": "https://localhost:8080/"
        },
        "outputId": "d2c911f6-7a2d-429e-a4cc-78321d897da3"
      },
      "outputs": [
        {
          "output_type": "execute_result",
          "data": {
            "text/plain": [
              "array([7, 2, 1, ..., 4, 8, 6])"
            ]
          },
          "metadata": {},
          "execution_count": 25
        }
      ],
      "source": [
        "import numpy as np\n",
        "\n",
        "preds = np.argmax(probs, axis=-1)\n",
        "preds"
      ]
    },
    {
      "cell_type": "markdown",
      "metadata": {
        "id": "f2EvRHIYZ1Nt"
      },
      "source": [
        "Ahora que tenemos predicciones, si por ejemplo tomamos el primer ejemplo de test, podemos ver su imagen y la correspondiente clase predicha por la red"
      ]
    },
    {
      "cell_type": "code",
      "execution_count": 26,
      "metadata": {
        "colab": {
          "base_uri": "https://localhost:8080/",
          "height": 282
        },
        "id": "QgwsP-nJZ1Nt",
        "outputId": "db1223e1-440e-4681-b3a0-3e30417bf708"
      },
      "outputs": [
        {
          "output_type": "stream",
          "name": "stdout",
          "text": [
            "Real class 7 predicted class 7\n"
          ]
        },
        {
          "output_type": "display_data",
          "data": {
            "text/plain": [
              "<Figure size 432x288 with 1 Axes>"
            ],
            "image/png": "[encoded data removed]"
          },
          "metadata": {
            "needs_background": "light"
          }
        }
      ],
      "source": [
        "plt.imshow(X_test[0], 'gray')\n",
        "print(\"Real class\", y_test[0], \"predicted class\", preds[0])"
      ]
    },
    {
      "cell_type": "markdown",
      "metadata": {
        "id": "HoeKnsLdgOeY"
      },
      "source": [
        "Puede que para este caso particular hayamos acertado pero, ¿qué ocurre con el resto del dataset de test? Una forma rápida de encontrar todas las imágenes de test en las que hemos fallado es usando la función [where](http://docs.scipy.org/doc/numpy-1.10.1/reference/generated/numpy.where.html) de numpy, que nos devuelve las posiciones en las que una cierta lista contiene el valor `True`. Para este caso, construimos una lista de los índices de las imágenes en las que las predicciones no son correctas, comparando la lista de predicciones con la lista de clases reales de los dígitos de test:"
      ]
    },
    {
      "cell_type": "code",
      "execution_count": 27,
      "metadata": {
        "colab": {
          "base_uri": "https://localhost:8080/"
        },
        "id": "lgZaKwrygmhG",
        "outputId": "01ac77aa-335e-4676-fe3f-62b8f0a17936"
      },
      "outputs": [
        {
          "output_type": "execute_result",
          "data": {
            "text/plain": [
              "array([   8,   33,   46,   63,   77,   92,  111,  124,  149,  193,  195,\n",
              "        217,  233,  241,  245,  247,  259,  290,  300,  307,  313,  318,\n",
              "        320,  321,  340,  341,  352,  358,  362,  389,  403,  435,  444,\n",
              "        445,  448,  449,  457,  464,  468,  478,  479,  483,  495,  502,\n",
              "        507,  511,  515,  524,  530,  531,  536,  543,  550,  551,  553,\n",
              "        565,  569,  578,  582,  591,  605,  610,  613,  619,  624,  627,\n",
              "        628,  629,  638,  658,  659,  667,  684,  691,  707,  717,  720,\n",
              "        728,  738,  740,  741,  760,  791,  800,  839,  844,  846,  857,\n",
              "        877,  881,  898,  900,  924,  930,  938,  939,  944,  947,  950,\n",
              "        956,  959,  965,  975,  982,  992,  999, 1012, 1014, 1028, 1032,\n",
              "       1033, 1039, 1044, 1050, 1062, 1068, 1073, 1082, 1096, 1101, 1107,\n",
              "       1112, 1114, 1119, 1128, 1147, 1153, 1173, 1181, 1191, 1192, 1194,\n",
              "       1198, 1200, 1202, 1204, 1206, 1208, 1217, 1224, 1226, 1228, 1232,\n",
              "       1233, 1234, 1242, 1247, 1248, 1251, 1256, 1260, 1272, 1283, 1289,\n",
              "       1291, 1299, 1315, 1319, 1326, 1328, 1337, 1339, 1345, 1347, 1375,\n",
              "       1378, 1391, 1393, 1394, 1402, 1410, 1429, 1433, 1440, 1444, 1453,\n",
              "       1465, 1466, 1467, 1494, 1500, 1514, 1522, 1525, 1527, 1530, 1549,\n",
              "       1553, 1559, 1581, 1587, 1609, 1621, 1634, 1640, 1641, 1678, 1681,\n",
              "       1695, 1696, 1709, 1716, 1717, 1718, 1722, 1727, 1741, 1751, 1754,\n",
              "       1759, 1765, 1772, 1773, 1774, 1782, 1790, 1800, 1813, 1819, 1828,\n",
              "       1839, 1842, 1850, 1857, 1865, 1868, 1874, 1878, 1883, 1899, 1901,\n",
              "       1903, 1911, 1917, 1926, 1930, 1938, 1940, 1948, 1952, 1955, 1956,\n",
              "       1968, 1970, 1973, 1981, 1982, 1984, 1989, 2016, 2024, 2035, 2037,\n",
              "       2040, 2043, 2044, 2053, 2068, 2070, 2093, 2098, 2099, 2105, 2109,\n",
              "       2110, 2115, 2118, 2129, 2130, 2134, 2135, 2138, 2148, 2168, 2182,\n",
              "       2185, 2186, 2189, 2192, 2215, 2224, 2266, 2269, 2272, 2282, 2293,\n",
              "       2298, 2299, 2305, 2325, 2351, 2362, 2369, 2371, 2378, 2380, 2381,\n",
              "       2387, 2393, 2394, 2395, 2397, 2404, 2406, 2408, 2422, 2425, 2433,\n",
              "       2449, 2488, 2516, 2525, 2534, 2542, 2556, 2559, 2560, 2573, 2574,\n",
              "       2578, 2586, 2589, 2598, 2604, 2607, 2610, 2628, 2631, 2635, 2648,\n",
              "       2654, 2670, 2695, 2705, 2713, 2730, 2740, 2751, 2770, 2771, 2780,\n",
              "       2805, 2810, 2820, 2832, 2850, 2851, 2866, 2896, 2905, 2906, 2907,\n",
              "       2914, 2919, 2925, 2927, 2945, 2953, 2969, 2970, 2990, 2995, 3005,\n",
              "       3060, 3073, 3102, 3106, 3110, 3114, 3117, 3130, 3133, 3136, 3139,\n",
              "       3145, 3151, 3157, 3160, 3166, 3183, 3189, 3193, 3206, 3218, 3225,\n",
              "       3240, 3254, 3262, 3269, 3280, 3284, 3288, 3302, 3316, 3329, 3330,\n",
              "       3333, 3369, 3394, 3436, 3437, 3448, 3450, 3468, 3475, 3490, 3503,\n",
              "       3520, 3543, 3549, 3558, 3565, 3567, 3573, 3578, 3580, 3597, 3598,\n",
              "       3604, 3629, 3645, 3662, 3664, 3681, 3702, 3716, 3718, 3725, 3726,\n",
              "       3730, 3732, 3751, 3752, 3757, 3763, 3767, 3769, 3776, 3780, 3794,\n",
              "       3796, 3801, 3806, 3808, 3811, 3817, 3820, 3821, 3833, 3836, 3838,\n",
              "       3839, 3846, 3848, 3850, 3853, 3855, 3862, 3869, 3876, 3884, 3893,\n",
              "       3902, 3906, 3926, 3941, 3943, 3946, 3951, 3952, 3954, 3962, 3976,\n",
              "       3984, 3985, 3986, 4000, 4002, 4017, 4044, 4059, 4063, 4065, 4072,\n",
              "       4075, 4076, 4078, 4093, 4111, 4131, 4140, 4145, 4152, 4154, 4156,\n",
              "       4159, 4163, 4173, 4176, 4177, 4180, 4199, 4201, 4205, 4211, 4212,\n",
              "       4224, 4238, 4239, 4248, 4254, 4256, 4261, 4265, 4271, 4284, 4289,\n",
              "       4297, 4300, 4302, 4306, 4313, 4315, 4317, 4325, 4330, 4341, 4344,\n",
              "       4355, 4356, 4359, 4374, 4405, 4423, 4427, 4433, 4435, 4449, 4451,\n",
              "       4454, 4477, 4497, 4498, 4500, 4521, 4523, 4540, 4567, 4571, 4575,\n",
              "       4578, 4583, 4601, 4615, 4633, 4639, 4640, 4671, 4699, 4722, 4724,\n",
              "       4731, 4740, 4751, 4761, 4785, 4807, 4808, 4812, 4814, 4823, 4827,\n",
              "       4829, 4837, 4838, 4852, 4863, 4874, 4876, 4879, 4880, 4886, 4890,\n",
              "       4896, 4910, 4915, 4939, 4943, 4950, 4952, 4954, 4956, 4966, 4968,\n",
              "       4978, 4990, 4995, 5001, 5009, 5038, 5046, 5054, 5065, 5067, 5068,\n",
              "       5078, 5086, 5100, 5135, 5138, 5140, 5176, 5177, 5210, 5217, 5246,\n",
              "       5288, 5298, 5299, 5331, 5360, 5457, 5562, 5600, 5617, 5620, 5634,\n",
              "       5642, 5649, 5653, 5662, 5677, 5688, 5695, 5714, 5718, 5734, 5735,\n",
              "       5749, 5801, 5821, 5835, 5852, 5862, 5867, 5874, 5887, 5888, 5891,\n",
              "       5912, 5913, 5922, 5936, 5937, 5955, 5973, 5975, 5985, 6004, 6023,\n",
              "       6035, 6037, 6042, 6043, 6059, 6065, 6071, 6081, 6091, 6109, 6112,\n",
              "       6124, 6157, 6166, 6168, 6172, 6173, 6174, 6304, 6324, 6347, 6385,\n",
              "       6391, 6392, 6421, 6425, 6426, 6432, 6494, 6495, 6501, 6505, 6517,\n",
              "       6555, 6560, 6568, 6569, 6574, 6577, 6597, 6598, 6603, 6613, 6625,\n",
              "       6632, 6641, 6642, 6651, 6688, 6694, 6706, 6716, 6721, 6740, 6744,\n",
              "       6746, 6768, 6769, 6775, 6785, 6796, 6817, 6836, 6847, 6885, 6906,\n",
              "       6909, 6919, 6926, 7035, 7094, 7107, 7121, 7130, 7212, 7220, 7233,\n",
              "       7235, 7241, 7248, 7262, 7265, 7304, 7338, 7432, 7434, 7436, 7451,\n",
              "       7454, 7459, 7473, 7492, 7498, 7511, 7541, 7542, 7545, 7580, 7603,\n",
              "       7637, 7641, 7672, 7673, 7724, 7797, 7800, 7821, 7826, 7839, 7842,\n",
              "       7847, 7849, 7850, 7856, 7857, 7858, 7859, 7870, 7876, 7886, 7888,\n",
              "       7899, 7900, 7905, 7917, 7918, 7920, 7928, 7945, 8020, 8044, 8047,\n",
              "       8062, 8072, 8081, 8091, 8094, 8095, 8165, 8183, 8196, 8198, 8246,\n",
              "       8272, 8277, 8279, 8294, 8308, 8332, 8339, 8353, 8408, 8410, 8426,\n",
              "       8444, 8456, 8476, 8520, 8522, 8553, 8639, 9006, 9007, 9009, 9010,\n",
              "       9013, 9015, 9016, 9017, 9019, 9024, 9026, 9036, 9045, 9071, 9110,\n",
              "       9141, 9168, 9182, 9211, 9214, 9245, 9280, 9316, 9317, 9426, 9446,\n",
              "       9456, 9465, 9482, 9534, 9544, 9554, 9560, 9587, 9595, 9614, 9624,\n",
              "       9634, 9642, 9643, 9662, 9679, 9680, 9700, 9712, 9716, 9719, 9726,\n",
              "       9729, 9732, 9733, 9735, 9740, 9741, 9744, 9745, 9749, 9751, 9752,\n",
              "       9764, 9768, 9770, 9777, 9779, 9792, 9808, 9811, 9832, 9839, 9840,\n",
              "       9847, 9855, 9856, 9858, 9867, 9874, 9879, 9883, 9888, 9890, 9893,\n",
              "       9905, 9925, 9940, 9941, 9943, 9944, 9953, 9970, 9975, 9980, 9982,\n",
              "       9986, 9998])"
            ]
          },
          "metadata": {},
          "execution_count": 27
        }
      ],
      "source": [
        "(fails,) = np.where(y_test != preds)\n",
        "fails"
      ]
    },
    {
      "cell_type": "markdown",
      "metadata": {
        "id": "BX9iVzP5gtzR"
      },
      "source": [
        "Vamos a visualizar alguna de las imágenes en las que la red se ha equivocado:"
      ]
    },
    {
      "cell_type": "code",
      "execution_count": 28,
      "metadata": {
        "colab": {
          "base_uri": "https://localhost:8080/",
          "height": 282
        },
        "id": "25hYGzhgg9jr",
        "outputId": "b64971a2-cccd-471f-e91d-4d4a50680d87"
      },
      "outputs": [
        {
          "output_type": "stream",
          "name": "stdout",
          "text": [
            "Real class 5 predicted class 6\n"
          ]
        },
        {
          "output_type": "display_data",
          "data": {
            "text/plain": [
              "<Figure size 432x288 with 1 Axes>"
            ],
            "image/png": "[encoded data removed]"
          },
          "metadata": {
            "needs_background": "light"
          }
        }
      ],
      "source": [
        "plt.imshow(X_test[fails[0]], 'gray')\n",
        "print(\"Real class\", y_test[fails[0]], \"predicted class\", preds[fails[0]])"
      ]
    },
    {
      "cell_type": "markdown",
      "metadata": {
        "id": "z-u5spGsZ1Nv"
      },
      "source": [
        "Podríamos probar cualquier otra imagen fallida del conjunto de test para analizar en qué tipo de imágenes nuestra red está cometiendo errores. Pero si queremos tener una idea más general de cómo de bien está funcionando la red, podemos calcular su acierto (accuracy). Esto se hace con el método `evaluate` de la red neuronal."
      ]
    },
    {
      "cell_type": "code",
      "execution_count": 29,
      "metadata": {
        "colab": {
          "base_uri": "https://localhost:8080/"
        },
        "id": "WMJpKeQQZ1Nv",
        "outputId": "a0040e42-3427-4060-c64f-42464b4f0512"
      },
      "outputs": [
        {
          "output_type": "stream",
          "name": "stdout",
          "text": [
            "313/313 [==============================] - 1s 3ms/step - loss: 0.3356 - accuracy: 0.9085\n",
            "Test loss 0.33563685417175293\n",
            "Test accuracy 0.9085000157356262\n"
          ]
        }
      ],
      "source": [
        "score = perceptron.evaluate(testvectors, y_test_encoded)\n",
        "print(\"Test loss\", score[0])\n",
        "print(\"Test accuracy\", score[1])"
      ]
    },
    {
      "cell_type": "markdown",
      "metadata": {
        "id": "cyNKnJ7ThcWD"
      },
      "source": [
        "Ahora podríamos plantearnos, ¿es este nivel de acierto suficientemente bueno? Imaginemos que nuestro detector de dígitos se usa para escanear los códigos postales de envío de un paquete. Si consideramos que los [códigos postales extendidos de los Estados Unidos](https://en.wikipedia.org/wiki/ZIP_Code) están conformados por 9 dígitos, y que con fallar uno de los dígitos estaríamos enviando un paquete al lugar equivocado... ¿cuál es la probabilidad de mandar el paquete correctamente?\n",
        "\n",
        "Calcular esta probabilidad es sencillo. Sabemos la probabilidad de que nuestro modelo haga una buena predicción para un solo dígito (la accuracy), así que solo debemos calcular la probabilidad de que el modelo acierte a la vez para los 9 dígitos del código postal. Esta probabilidad conjunta se calcularía como $P(acierto) * P(acierto) * P(acierto) ... = P(acierto)^9$."
      ]
    },
    {
      "cell_type": "code",
      "execution_count": 30,
      "metadata": {
        "colab": {
          "base_uri": "https://localhost:8080/"
        },
        "id": "GLls_3z-h0xY",
        "outputId": "e817a3f4-74e8-49f2-80bf-fb2267894614"
      },
      "outputs": [
        {
          "output_type": "execute_result",
          "data": {
            "text/plain": [
              "0.42162315378032617"
            ]
          },
          "metadata": {},
          "execution_count": 30
        }
      ],
      "source": [
        "score[1]**9"
      ]
    },
    {
      "cell_type": "markdown",
      "metadata": {
        "id": "E9yBuqVtiAfz"
      },
      "source": [
        "Podemos concluir que usar un perceptrón en este problema tendría resultados catastróficos: solo un 41% de paquetes enviados a la dirección correcta. ¡Necesitamos hacerlo mejor!"
      ]
    },
    {
      "cell_type": "markdown",
      "metadata": {
        "id": "NIl4zPDjZ1Nw"
      },
      "source": [
        "## Perceptrón multicapa"
      ]
    },
    {
      "cell_type": "markdown",
      "metadata": {
        "id": "FOEuLlmnZ1Nw"
      },
      "source": [
        "Pasando a los años 80, podemos mejorar nuestra red introduciendo **capas ocultas**. En Keras esto se implementa de forma sencilla introduciendo capas Dense adicionales. Por ejemplo, podemos crear una red con una capa oculta de 32 neuronas de la siguiente manera."
      ]
    },
    {
      "cell_type": "code",
      "execution_count": 31,
      "metadata": {
        "id": "Ix2gNNg1Z1Nx"
      },
      "outputs": [],
      "source": [
        "mlp = Sequential()\n",
        "mlp.add(Dense(32, input_dim=784, activation=\"sigmoid\"))\n",
        "mlp.add(Dense(10, activation=\"softmax\"))"
      ]
    },
    {
      "cell_type": "markdown",
      "metadata": {
        "id": "34lur0NjZ1Ny"
      },
      "source": [
        "La red quedaría, por tanto, configurada así"
      ]
    },
    {
      "cell_type": "code",
      "execution_count": 32,
      "metadata": {
        "colab": {
          "base_uri": "https://localhost:8080/"
        },
        "id": "CjjO1xM6Z1Ny",
        "outputId": "b5458e75-c411-4e19-f3ec-8c91e02aa36b"
      },
      "outputs": [
        {
          "output_type": "stream",
          "name": "stdout",
          "text": [
            "Model: \"sequential_1\"\n",
            "_________________________________________________________________\n",
            " Layer (type)                Output Shape              Param #   \n",
            "=================================================================\n",
            " dense_1 (Dense)             (None, 32)                25120     \n",
            "                                                                 \n",
            " dense_2 (Dense)             (None, 10)                330       \n",
            "                                                                 \n",
            "=================================================================\n",
            "Total params: 25,450\n",
            "Trainable params: 25,450\n",
            "Non-trainable params: 0\n",
            "_________________________________________________________________\n"
          ]
        }
      ],
      "source": [
        "mlp.summary()"
      ]
    },
    {
      "cell_type": "markdown",
      "metadata": {
        "id": "_9fnUPSGZ1Ny"
      },
      "source": [
        "<img src=\"https://albarji-labs-materials.s3-eu-west-1.amazonaws.com/question.png\" height=\"80\" width=\"80\" style=\"float: right;\"/>\n",
        "\n",
        "***\n",
        "\n",
        "<font color=#ad3e26>\n",
        "Compila el perceptrón multicapa y entrénalo con los datos de train. ¿Qué nivel de acierto se obtiene al evaluarlo en test? ¿Has mejorado respecto del perceptrón anterior?\n",
        "</font>\n",
        "\n",
        "***\n"
      ]
    },
    {
      "cell_type": "code",
      "execution_count": 33,
      "metadata": {
        "colab": {
          "base_uri": "https://localhost:8080/"
        },
        "id": "EcfiAKfjZ1Nz",
        "outputId": "e607c2ff-93cf-4345-8b21-26042e4b2356",
        "scrolled": false
      },
      "outputs": [
        {
          "output_type": "stream",
          "name": "stdout",
          "text": [
            "Epoch 1/20\n",
            "469/469 [==============================] - 2s 4ms/step - loss: 2.1455 - accuracy: 0.4245\n",
            "Epoch 2/20\n",
            "469/469 [==============================] - 2s 3ms/step - loss: 1.7803 - accuracy: 0.6281\n",
            "Epoch 3/20\n",
            "469/469 [==============================] - 2s 3ms/step - loss: 1.4917 - accuracy: 0.7042\n",
            "Epoch 4/20\n",
            "469/469 [==============================] - 2s 4ms/step - loss: 1.2580 - accuracy: 0.7529\n",
            "Epoch 5/20\n",
            "469/469 [==============================] - 2s 3ms/step - loss: 1.0812 - accuracy: 0.7856\n",
            "Epoch 6/20\n",
            "469/469 [==============================] - 2s 3ms/step - loss: 0.9503 - accuracy: 0.8050\n",
            "Epoch 7/20\n",
            "469/469 [==============================] - 2s 3ms/step - loss: 0.8525 - accuracy: 0.8200\n",
            "Epoch 8/20\n",
            "469/469 [==============================] - 2s 3ms/step - loss: 0.7776 - accuracy: 0.8299\n",
            "Epoch 9/20\n",
            "469/469 [==============================] - 2s 3ms/step - loss: 0.7186 - accuracy: 0.8397\n",
            "Epoch 10/20\n",
            "469/469 [==============================] - 2s 3ms/step - loss: 0.6710 - accuracy: 0.8479\n",
            "Epoch 11/20\n",
            "469/469 [==============================] - 2s 3ms/step - loss: 0.6317 - accuracy: 0.8544\n",
            "Epoch 12/20\n",
            "469/469 [==============================] - 2s 3ms/step - loss: 0.5986 - accuracy: 0.8604\n",
            "Epoch 13/20\n",
            "469/469 [==============================] - 2s 3ms/step - loss: 0.5704 - accuracy: 0.8653\n",
            "Epoch 14/20\n",
            "469/469 [==============================] - 2s 3ms/step - loss: 0.5461 - accuracy: 0.8695\n",
            "Epoch 15/20\n",
            "469/469 [==============================] - 2s 3ms/step - loss: 0.5249 - accuracy: 0.8738\n",
            "Epoch 16/20\n",
            "469/469 [==============================] - 2s 3ms/step - loss: 0.5063 - accuracy: 0.8766\n",
            "Epoch 17/20\n",
            "469/469 [==============================] - 2s 3ms/step - loss: 0.4898 - accuracy: 0.8793\n",
            "Epoch 18/20\n",
            "469/469 [==============================] - 2s 4ms/step - loss: 0.4752 - accuracy: 0.8819\n",
            "Epoch 19/20\n",
            "469/469 [==============================] - 2s 3ms/step - loss: 0.4620 - accuracy: 0.8840\n",
            "Epoch 20/20\n",
            "469/469 [==============================] - 2s 3ms/step - loss: 0.4501 - accuracy: 0.8860\n"
          ]
        },
        {
          "output_type": "execute_result",
          "data": {
            "text/plain": [
              "<keras.callbacks.History at 0x7f84eaeb5f10>"
            ]
          },
          "metadata": {},
          "execution_count": 33
        }
      ],
      "source": [
        "####### INSERT YOUR CODE HERE\n",
        "mlp.compile(loss='categorical_crossentropy', optimizer='sgd', metrics=['accuracy'])\n",
        "mlp.fit(\n",
        "    trainvectors, # Training data\n",
        "    y_train_encoded, # Labels of training data\n",
        "    batch_size=128, # Batch size for the optimizer algorithm\n",
        "    epochs=20, # Number of epochs to run the optimizer algorithm\n",
        "    verbose=1 # Level of verbosity of the log messages\n",
        ")"
      ]
    },
    {
      "cell_type": "code",
      "source": [
        "score = mlp.evaluate(testvectors, y_test_encoded)\n",
        "print(\"Test loss\", score[0])\n",
        "print(\"Test accuracy\", score[1])"
      ],
      "metadata": {
        "colab": {
          "base_uri": "https://localhost:8080/"
        },
        "id": "VgiZygaRO7kX",
        "outputId": "c4a4fe38-4c16-4984-cc56-dd0f1149716f"
      },
      "execution_count": 37,
      "outputs": [
        {
          "output_type": "stream",
          "name": "stdout",
          "text": [
            "313/313 [==============================] - 1s 3ms/step - loss: 0.4293 - accuracy: 0.8931\n",
            "Test loss 0.429255872964859\n",
            "Test accuracy 0.8931000232696533\n"
          ]
        }
      ]
    },
    {
      "cell_type": "markdown",
      "metadata": {
        "id": "ESHcARZlZ1Nz"
      },
      "source": [
        "### Mejorando el diseño de la red"
      ]
    },
    {
      "cell_type": "markdown",
      "metadata": {
        "id": "HW3Q7WUZZ1Nz"
      },
      "source": [
        "Para mejorar el rendimiento del perceptrón multicapa utilizaremos las siguientes técnicas:\n",
        "* Mayor número de unidades ocultas\n",
        "* Mejor función de activación: ReLU\n",
        "* Mejor optimizador: adam"
      ]
    },
    {
      "cell_type": "markdown",
      "metadata": {
        "id": "9lsChdOOZ1Nz"
      },
      "source": [
        "Definiremos por tanto la red de la seguiente manera:"
      ]
    },
    {
      "cell_type": "code",
      "execution_count": 34,
      "metadata": {
        "id": "4j3EItImZ1N0"
      },
      "outputs": [],
      "source": [
        "mlp_fine = Sequential()\n",
        "mlp_fine.add(Dense(100, input_dim=784, activation=\"relu\"))\n",
        "mlp_fine.add(Dense(10, activation=\"softmax\"))"
      ]
    },
    {
      "cell_type": "markdown",
      "metadata": {
        "id": "gbM_U_LgZ1N0"
      },
      "source": [
        "<img src=\"https://albarji-labs-materials.s3-eu-west-1.amazonaws.com/question.png\" height=\"80\" width=\"80\" style=\"float: right;\"/>\n",
        "\n",
        "***\n",
        "\n",
        "<font color=#ad3e26>\n",
        "    Compila la red definida arriba, escogiendo \"adam\" como algoritmo de optimización, y entrénala con los datos de train. Mide el rendimiento sobre los datos de test. ¿Han ayudado estos cambios a mejorar el acierto?\n",
        "</font>\n",
        "\n",
        "***"
      ]
    },
    {
      "cell_type": "code",
      "execution_count": 35,
      "metadata": {
        "colab": {
          "base_uri": "https://localhost:8080/"
        },
        "id": "VrNOPfCbZ1N0",
        "outputId": "a7425aeb-c130-45e3-9936-91d031642d2f",
        "scrolled": false
      },
      "outputs": [
        {
          "output_type": "stream",
          "name": "stdout",
          "text": [
            "Epoch 1/20\n",
            "469/469 [==============================] - 2s 4ms/step - loss: 0.3722 - accuracy: 0.8986\n",
            "Epoch 2/20\n",
            "469/469 [==============================] - 2s 4ms/step - loss: 0.1705 - accuracy: 0.9523\n",
            "Epoch 3/20\n",
            "469/469 [==============================] - 2s 5ms/step - loss: 0.1260 - accuracy: 0.9639\n",
            "Epoch 4/20\n",
            "469/469 [==============================] - 2s 4ms/step - loss: 0.0996 - accuracy: 0.9711\n",
            "Epoch 5/20\n",
            "469/469 [==============================] - 2s 4ms/step - loss: 0.0822 - accuracy: 0.9761\n",
            "Epoch 6/20\n",
            "469/469 [==============================] - 2s 4ms/step - loss: 0.0691 - accuracy: 0.9800\n",
            "Epoch 7/20\n",
            "469/469 [==============================] - 2s 4ms/step - loss: 0.0591 - accuracy: 0.9833\n",
            "Epoch 8/20\n",
            "469/469 [==============================] - 2s 4ms/step - loss: 0.0503 - accuracy: 0.9855\n",
            "Epoch 9/20\n",
            "469/469 [==============================] - 2s 4ms/step - loss: 0.0430 - accuracy: 0.9882\n",
            "Epoch 10/20\n",
            "469/469 [==============================] - 2s 4ms/step - loss: 0.0371 - accuracy: 0.9894\n",
            "Epoch 11/20\n",
            "469/469 [==============================] - 2s 4ms/step - loss: 0.0324 - accuracy: 0.9910\n",
            "Epoch 12/20\n",
            "469/469 [==============================] - 2s 4ms/step - loss: 0.0282 - accuracy: 0.9922\n",
            "Epoch 13/20\n",
            "469/469 [==============================] - 2s 4ms/step - loss: 0.0241 - accuracy: 0.9937\n",
            "Epoch 14/20\n",
            "469/469 [==============================] - 2s 4ms/step - loss: 0.0212 - accuracy: 0.9949\n",
            "Epoch 15/20\n",
            "469/469 [==============================] - 2s 4ms/step - loss: 0.0184 - accuracy: 0.9959\n",
            "Epoch 16/20\n",
            "469/469 [==============================] - 2s 4ms/step - loss: 0.0163 - accuracy: 0.9962\n",
            "Epoch 17/20\n",
            "469/469 [==============================] - 2s 4ms/step - loss: 0.0140 - accuracy: 0.9970\n",
            "Epoch 18/20\n",
            "469/469 [==============================] - 2s 5ms/step - loss: 0.0129 - accuracy: 0.9973\n",
            "Epoch 19/20\n",
            "469/469 [==============================] - 2s 4ms/step - loss: 0.0113 - accuracy: 0.9976\n",
            "Epoch 20/20\n",
            "469/469 [==============================] - 2s 4ms/step - loss: 0.0093 - accuracy: 0.9983\n"
          ]
        },
        {
          "output_type": "execute_result",
          "data": {
            "text/plain": [
              "<keras.callbacks.History at 0x7f84ead5a790>"
            ]
          },
          "metadata": {},
          "execution_count": 35
        }
      ],
      "source": [
        "####### INSERT YOUR CODE HERE\n",
        "####### INSERT YOUR CODE HERE\n",
        "mlp_fine.compile(loss='categorical_crossentropy', optimizer='adam', metrics=['accuracy'])\n",
        "mlp_fine.fit(\n",
        "    trainvectors, # Training data\n",
        "    y_train_encoded, # Labels of training data\n",
        "    batch_size=128, # Batch size for the optimizer algorithm\n",
        "    epochs=20, # Number of epochs to run the optimizer algorithm\n",
        "    verbose=1 # Level of verbosity of the log messages\n",
        ")"
      ]
    },
    {
      "cell_type": "code",
      "source": [
        "score = mlp_fine.evaluate(testvectors, y_test_encoded)\n",
        "print(\"Test loss\", score[0])\n",
        "print(\"Test accuracy\", score[1])"
      ],
      "metadata": {
        "colab": {
          "base_uri": "https://localhost:8080/"
        },
        "id": "fJPe1rUTOgSV",
        "outputId": "4a8ab8b6-1a42-4287-b4a5-36a50cba4a09"
      },
      "execution_count": 36,
      "outputs": [
        {
          "output_type": "stream",
          "name": "stdout",
          "text": [
            "313/313 [==============================] - 1s 3ms/step - loss: 0.0860 - accuracy: 0.9767\n",
            "Test loss 0.08597765862941742\n",
            "Test accuracy 0.9767000079154968\n"
          ]
        }
      ]
    },
    {
      "cell_type": "markdown",
      "metadata": {
        "id": "Na2EgqadZ1N0"
      },
      "source": [
        "### Más capas"
      ]
    },
    {
      "cell_type": "markdown",
      "metadata": {
        "id": "jrstMzprZ1N1"
      },
      "source": [
        "<img src=\"https://albarji-labs-materials.s3-eu-west-1.amazonaws.com/question.png\" height=\"80\" width=\"80\" style=\"float: right;\"/>\n",
        "\n",
        "***\n",
        "\n",
        "<font color=#ad3e26>\n",
        "    Define una nueva red con 2 capas ocultas, cada una de ellas de 512 unidades ocultas con activación ReLU. Para la capa de salida, recuerda utilizar la activación softmax. Compila la red definida, escogiendo \"adam\" como algoritmo de optimización, y entrénala con los datos de entrenamiento. Mide entonces el rendimiento de esta red sobre los datos de test. ¿Has obtenido mejoras?\n",
        "</font>\n",
        "\n",
        "***"
      ]
    },
    {
      "cell_type": "code",
      "execution_count": 42,
      "metadata": {
        "id": "tXO82RjzZ1N1",
        "scrolled": false
      },
      "outputs": [],
      "source": [
        "####### INSERT YOUR CODE HERE\n",
        "mlp2 = Sequential()\n",
        "mlp2.add(Dense(512, input_dim=784, activation=\"relu\"))\n",
        "mlp2.add(Dense(512, activation=\"relu\"))\n",
        "mlp2.add(Dense(10, activation=\"softmax\"))"
      ]
    },
    {
      "cell_type": "code",
      "source": [
        "mlp2.compile(loss='categorical_crossentropy', optimizer='adam', metrics=['accuracy'])\n",
        "mlp2.fit(\n",
        "    trainvectors, # Training data\n",
        "    y_train_encoded, # Labels of training data\n",
        "    batch_size=128, # Batch size for the optimizer algorithm\n",
        "    epochs=20, # Number of epochs to run the optimizer algorithm\n",
        "    verbose=1 # Level of verbosity of the log messages\n",
        ")"
      ],
      "metadata": {
        "colab": {
          "base_uri": "https://localhost:8080/"
        },
        "id": "rqUAAA3NQDBe",
        "outputId": "078c9601-f5e0-40cc-9692-482de7659617"
      },
      "execution_count": 43,
      "outputs": [
        {
          "output_type": "stream",
          "name": "stdout",
          "text": [
            "Epoch 1/20\n",
            "469/469 [==============================] - 3s 5ms/step - loss: 0.2235 - accuracy: 0.9337\n",
            "Epoch 2/20\n",
            "469/469 [==============================] - 2s 5ms/step - loss: 0.0802 - accuracy: 0.9752\n",
            "Epoch 3/20\n",
            "469/469 [==============================] - 2s 5ms/step - loss: 0.0509 - accuracy: 0.9837\n",
            "Epoch 4/20\n",
            "469/469 [==============================] - 2s 5ms/step - loss: 0.0358 - accuracy: 0.9884\n",
            "Epoch 5/20\n",
            "469/469 [==============================] - 2s 5ms/step - loss: 0.0265 - accuracy: 0.9909\n",
            "Epoch 6/20\n",
            "469/469 [==============================] - 2s 5ms/step - loss: 0.0232 - accuracy: 0.9924\n",
            "Epoch 7/20\n",
            "469/469 [==============================] - 2s 5ms/step - loss: 0.0190 - accuracy: 0.9938\n",
            "Epoch 8/20\n",
            "469/469 [==============================] - 2s 5ms/step - loss: 0.0156 - accuracy: 0.9949\n",
            "Epoch 9/20\n",
            "469/469 [==============================] - 2s 5ms/step - loss: 0.0150 - accuracy: 0.9950\n",
            "Epoch 10/20\n",
            "469/469 [==============================] - 2s 5ms/step - loss: 0.0155 - accuracy: 0.9947\n",
            "Epoch 11/20\n",
            "469/469 [==============================] - 3s 6ms/step - loss: 0.0122 - accuracy: 0.9959\n",
            "Epoch 12/20\n",
            "469/469 [==============================] - 2s 5ms/step - loss: 0.0117 - accuracy: 0.9960\n",
            "Epoch 13/20\n",
            "469/469 [==============================] - 2s 5ms/step - loss: 0.0097 - accuracy: 0.9966\n",
            "Epoch 14/20\n",
            "469/469 [==============================] - 2s 5ms/step - loss: 0.0080 - accuracy: 0.9976\n",
            "Epoch 15/20\n",
            "469/469 [==============================] - 2s 5ms/step - loss: 0.0086 - accuracy: 0.9972\n",
            "Epoch 16/20\n",
            "469/469 [==============================] - 2s 5ms/step - loss: 0.0128 - accuracy: 0.9962\n",
            "Epoch 17/20\n",
            "469/469 [==============================] - 2s 5ms/step - loss: 0.0063 - accuracy: 0.9978\n",
            "Epoch 18/20\n",
            "469/469 [==============================] - 2s 5ms/step - loss: 0.0045 - accuracy: 0.9985\n",
            "Epoch 19/20\n",
            "469/469 [==============================] - 2s 5ms/step - loss: 0.0107 - accuracy: 0.9969\n",
            "Epoch 20/20\n",
            "469/469 [==============================] - 2s 5ms/step - loss: 0.0079 - accuracy: 0.9974\n"
          ]
        },
        {
          "output_type": "execute_result",
          "data": {
            "text/plain": [
              "<keras.callbacks.History at 0x7f8560072b10>"
            ]
          },
          "metadata": {},
          "execution_count": 43
        }
      ]
    },
    {
      "cell_type": "code",
      "source": [
        "score = mlp2.evaluate(testvectors, y_test_encoded)\n",
        "print(\"Test loss\", score[0])\n",
        "print(\"Test accuracy\", score[1])"
      ],
      "metadata": {
        "colab": {
          "base_uri": "https://localhost:8080/"
        },
        "id": "QuxPEgJAQOJR",
        "outputId": "de845c7f-84dc-426d-8d73-430d60fc0c0b"
      },
      "execution_count": 44,
      "outputs": [
        {
          "output_type": "stream",
          "name": "stdout",
          "text": [
            "313/313 [==============================] - 1s 3ms/step - loss: 0.1049 - accuracy: 0.9785\n",
            "Test loss 0.10494855791330338\n",
            "Test accuracy 0.9785000085830688\n"
          ]
        }
      ]
    },
    {
      "cell_type": "markdown",
      "metadata": {
        "id": "NEccUfBqZ1N1"
      },
      "source": [
        "### Controlando el sobreajuste"
      ]
    },
    {
      "cell_type": "markdown",
      "metadata": {
        "id": "V9uJRFlqZ1N2"
      },
      "source": [
        "Los métodos de **regularización** pueden ayudar a mejorar el rendimiento de una red neuronal, especialmente si el número de parámetros de la red es muy grande y esto nos lleva a tener sobreajuste. Uno de los métodos de regularización más simples y efectivos es el **dropout**. En Keras, el dropout se utiliza como una capa más, denominada `Dropout`, la cual anula aleatoriamente parte las salidas producidas por la capa anterior, reemplazando sus valores por $0$.\n",
        "\n",
        "Por ejemplo, para crear una red con una capa oculta de un 30% de probabilidad de dropout hacemos lo siguiente:"
      ]
    },
    {
      "cell_type": "code",
      "execution_count": 45,
      "metadata": {
        "id": "YPUpLmfnZ1N3"
      },
      "outputs": [],
      "source": [
        "from tensorflow.keras.layers import Dropout\n",
        "sample_network = Sequential()\n",
        "sample_network.add(Dense(512, input_dim=784, activation=\"relu\"))\n",
        "sample_network.add(Dropout(0.3))\n",
        "sample_network.add(Dense(10, activation=\"softmax\"))"
      ]
    },
    {
      "cell_type": "markdown",
      "metadata": {
        "id": "yvlmADUIZ1N4"
      },
      "source": [
        "<img src=\"https://albarji-labs-materials.s3-eu-west-1.amazonaws.com/question.png\" height=\"80\" width=\"80\" style=\"float: right;\"/>\n",
        "\n",
        "***\n",
        "\n",
        "<font color=#ad3e26>\n",
        "   Define una nueva red con 2 capas ocultas, cada una de ellas de 512 unidades ocultas con actuvación ReLU. Tras ambas capas ocultas, añade una capa Dropout del 40%. Para la capa de salida, recuerda utilizar la activación softmax. Compila la red definida, escogiendo \"adam\" como algoritmo de optimización, y entrénala con los datos de entrenamiento. Mide entonces el rendimiento de esta red sobre los datos de test. ¿Ha ayudado el dropout?\n",
        "</font>\n",
        "\n",
        "***"
      ]
    },
    {
      "cell_type": "code",
      "execution_count": 49,
      "metadata": {
        "id": "BopJ9lY-Z1N5",
        "scrolled": false
      },
      "outputs": [],
      "source": [
        "####### INSERT YOUR CODE HERE\n",
        "mlp3 = Sequential()\n",
        "mlp3.add(Dense(512, input_dim=784, activation=\"relu\"))\n",
        "mlp3.add(Dropout(0.4))\n",
        "mlp3.add(Dense(512, activation=\"relu\"))\n",
        "mlp3.add(Dropout(0.4))\n",
        "mlp3.add(Dense(10, activation=\"softmax\"))"
      ]
    },
    {
      "cell_type": "code",
      "source": [
        "mlp3.compile(loss='categorical_crossentropy', optimizer='adam', metrics=['accuracy'])\n",
        "mlp3.fit(\n",
        "    trainvectors, # Training data\n",
        "    y_train_encoded, # Labels of training data\n",
        "    batch_size=128, # Batch size for the optimizer algorithm\n",
        "    epochs=20, # Number of epochs to run the optimizer algorithm\n",
        "    verbose=1 # Level of verbosity of the log messages\n",
        ")"
      ],
      "metadata": {
        "colab": {
          "base_uri": "https://localhost:8080/"
        },
        "id": "AG8m4VzaTId7",
        "outputId": "10278c14-15ef-4149-ed3d-9211c9cf3b51"
      },
      "execution_count": 50,
      "outputs": [
        {
          "output_type": "stream",
          "name": "stdout",
          "text": [
            "Epoch 1/20\n",
            "469/469 [==============================] - 3s 5ms/step - loss: 0.3016 - accuracy: 0.9079\n",
            "Epoch 2/20\n",
            "469/469 [==============================] - 2s 5ms/step - loss: 0.1326 - accuracy: 0.9587\n",
            "Epoch 3/20\n",
            "469/469 [==============================] - 2s 5ms/step - loss: 0.1007 - accuracy: 0.9691\n",
            "Epoch 4/20\n",
            "469/469 [==============================] - 2s 5ms/step - loss: 0.0845 - accuracy: 0.9729\n",
            "Epoch 5/20\n",
            "469/469 [==============================] - 2s 5ms/step - loss: 0.0736 - accuracy: 0.9767\n",
            "Epoch 6/20\n",
            "469/469 [==============================] - 2s 5ms/step - loss: 0.0657 - accuracy: 0.9790\n",
            "Epoch 7/20\n",
            "469/469 [==============================] - 2s 4ms/step - loss: 0.0600 - accuracy: 0.9804\n",
            "Epoch 8/20\n",
            "469/469 [==============================] - 2s 4ms/step - loss: 0.0541 - accuracy: 0.9823\n",
            "Epoch 9/20\n",
            "469/469 [==============================] - 2s 5ms/step - loss: 0.0506 - accuracy: 0.9840\n",
            "Epoch 10/20\n",
            "469/469 [==============================] - 2s 5ms/step - loss: 0.0477 - accuracy: 0.9843\n",
            "Epoch 11/20\n",
            "469/469 [==============================] - 2s 5ms/step - loss: 0.0421 - accuracy: 0.9864\n",
            "Epoch 12/20\n",
            "469/469 [==============================] - 2s 4ms/step - loss: 0.0406 - accuracy: 0.9861\n",
            "Epoch 13/20\n",
            "469/469 [==============================] - 2s 5ms/step - loss: 0.0407 - accuracy: 0.9863\n",
            "Epoch 14/20\n",
            "469/469 [==============================] - 2s 5ms/step - loss: 0.0409 - accuracy: 0.9865\n",
            "Epoch 15/20\n",
            "469/469 [==============================] - 2s 4ms/step - loss: 0.0365 - accuracy: 0.9877\n",
            "Epoch 16/20\n",
            "469/469 [==============================] - 2s 5ms/step - loss: 0.0344 - accuracy: 0.9891\n",
            "Epoch 17/20\n",
            "469/469 [==============================] - 2s 4ms/step - loss: 0.0327 - accuracy: 0.9893\n",
            "Epoch 18/20\n",
            "469/469 [==============================] - 2s 4ms/step - loss: 0.0322 - accuracy: 0.9893\n",
            "Epoch 19/20\n",
            "469/469 [==============================] - 2s 5ms/step - loss: 0.0318 - accuracy: 0.9899\n",
            "Epoch 20/20\n",
            "469/469 [==============================] - 2s 4ms/step - loss: 0.0312 - accuracy: 0.9894\n"
          ]
        },
        {
          "output_type": "execute_result",
          "data": {
            "text/plain": [
              "<keras.callbacks.History at 0x7f84ea86af10>"
            ]
          },
          "metadata": {},
          "execution_count": 50
        }
      ]
    },
    {
      "cell_type": "code",
      "source": [
        "score = mlp3.evaluate(testvectors, y_test_encoded)\n",
        "print(\"Test loss\", score[0])\n",
        "print(\"Test accuracy\", score[1])"
      ],
      "metadata": {
        "colab": {
          "base_uri": "https://localhost:8080/"
        },
        "id": "gHU7ouW9TOrI",
        "outputId": "68a9beff-0a9c-4db4-e086-4499ee52efa5"
      },
      "execution_count": 51,
      "outputs": [
        {
          "output_type": "stream",
          "name": "stdout",
          "text": [
            "313/313 [==============================] - 1s 3ms/step - loss: 0.0643 - accuracy: 0.9834\n",
            "Test loss 0.0643109679222107\n",
            "Test accuracy 0.9833999872207642\n"
          ]
        }
      ]
    },
    {
      "cell_type": "markdown",
      "metadata": {
        "id": "12piKIJkZ1N5"
      },
      "source": [
        "<img src=\"https://albarji-labs-materials.s3-eu-west-1.amazonaws.com/pro.png\" height=\"80\" width=\"80\" style=\"float: right;\"/>\n",
        "\n",
        "***\n",
        "<font color=#259b4c>\n",
        "    Intenta crear una red con más capas ocultas. ¿Consigues mejorar el rendimiento en test de esta manera?\n",
        "</font>\n",
        "\n",
        "***"
      ]
    },
    {
      "cell_type": "code",
      "execution_count": null,
      "metadata": {
        "id": "elwCfQ5zZ1N5",
        "scrolled": false
      },
      "outputs": [],
      "source": [
        "####### INSERT YOUR CODE HERE"
      ]
    }
  ],
  "metadata": {
    "accelerator": "GPU",
    "anaconda-cloud": {},
    "colab": {
      "collapsed_sections": [
        "ESHcARZlZ1Nz",
        "Na2EgqadZ1N0",
        "NEccUfBqZ1N1"
      ],
      "name": "deeplearning_mnist_dense_student.ipynb",
      "provenance": [],
      "toc_visible": true
    },
    "kernelspec": {
      "display_name": "Python 3 (ipykernel)",
      "language": "python",
      "name": "python3"
    },
    "language_info": {
      "codemirror_mode": {
        "name": "ipython",
        "version": 3
      },
      "file_extension": ".py",
      "mimetype": "text/x-python",
      "name": "python",
      "nbconvert_exporter": "python",
      "pygments_lexer": "ipython3",
      "version": "3.8.11"
    }
  },
  "nbformat": 4,
  "nbformat_minor": 0
}