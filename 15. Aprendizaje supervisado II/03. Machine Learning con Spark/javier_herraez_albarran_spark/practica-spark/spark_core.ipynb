{
 "cells": [
  {
   "cell_type": "markdown",
   "id": "d19847cc-53d9-4dce-871b-c31903cd3e46",
   "metadata": {},
   "source": [
    "# Ejercicio 1 –Spark Core"
   ]
  },
  {
   "cell_type": "code",
   "execution_count": 1,
   "id": "65f3e4a0-ab08-487f-bd9a-6862370835f7",
   "metadata": {},
   "outputs": [
    {
     "name": "stderr",
     "output_type": "stream",
     "text": [
      "22/04/04 21:09:40 WARN Utils: Your hostname, mdsuser resolves to a loopback address: 127.0.1.1; using 192.168.242.129 instead (on interface ens33)\n",
      "22/04/04 21:09:40 WARN Utils: Set SPARK_LOCAL_IP if you need to bind to another address\n",
      "Using Spark's default log4j profile: org/apache/spark/log4j-defaults.properties\n",
      "Setting default log level to \"WARN\".\n",
      "To adjust logging level use sc.setLogLevel(newLevel). For SparkR, use setLogLevel(newLevel).\n",
      "22/04/04 21:09:42 WARN NativeCodeLoader: Unable to load native-hadoop library for your platform... using builtin-java classes where applicable\n"
     ]
    }
   ],
   "source": [
    "# Import findpsark\n",
    "import findspark\n",
    "\n",
    "# Configure the environment\n",
    "findspark.init()\n",
    "\n",
    "# Import the Spark components required for the context creation\n",
    "from pyspark import SparkConf, SparkContext\n",
    "\n",
    "# Configure and create the context\n",
    "conf = SparkConf()\n",
    "conf = conf.setAppName('mds-session')\n",
    "conf = conf.setMaster('local[*]')\n",
    "sc = SparkContext.getOrCreate(conf=conf)"
   ]
  },
  {
   "cell_type": "code",
   "execution_count": 2,
   "id": "bb4bb38c-fe2c-44da-8993-43faa22d13ca",
   "metadata": {},
   "outputs": [
    {
     "name": "stderr",
     "output_type": "stream",
     "text": [
      "                                                                                \r"
     ]
    },
    {
     "data": {
      "text/plain": [
       "{'id': '300848', 'title': 'Fear Itself'}"
      ]
     },
     "execution_count": 2,
     "metadata": {},
     "output_type": "execute_result"
    }
   ],
   "source": [
    "# load albums\n",
    "def parseAlbum(line):\n",
    "    line = line.split('\\t')\n",
    "    return {\n",
    "        'id': line[0],\n",
    "        'title': line[1]\n",
    "    }\n",
    "\n",
    "albums = sc.textFile('./data/albums.tsv')\n",
    "albums = albums.map(parseAlbum)\n",
    "albums.first()"
   ]
  },
  {
   "cell_type": "code",
   "execution_count": 3,
   "id": "974a5b5e-3ea7-47a5-a703-3f24ab04d1ec",
   "metadata": {},
   "outputs": [
    {
     "data": {
      "text/plain": [
       "{'id': 'AR009211187B989185',\n",
       " 'name': 'Carroll Thompson',\n",
       " 'hotness': 0.297404803,\n",
       " 'familiarity': 0.396817844,\n",
       " 'location': 'Not available'}"
      ]
     },
     "execution_count": 3,
     "metadata": {},
     "output_type": "execute_result"
    }
   ],
   "source": [
    "# load artists\n",
    "def parseArtist(line):\n",
    "    line = line.split('\\t')\n",
    "    return {\n",
    "        'id': line[0],\n",
    "        'name': line[1],\n",
    "        'hotness': float(line[2]) if line[2] != 'NA' else -9999,\n",
    "        'familiarity': float(line[3]) if line[3] != 'NA' else -9999,\n",
    "        'location': line[4]\n",
    "    }\n",
    "artists = sc.textFile('./data/artists.tsv')\n",
    "artists = artists.map(parseArtist)\n",
    "artists.first()"
   ]
  },
  {
   "cell_type": "code",
   "execution_count": 4,
   "id": "6abeed15-6d1e-4db6-b7d2-1eae8dfc5aaf",
   "metadata": {},
   "outputs": [
    {
     "data": {
      "text/plain": [
       "{'id': 'SOAAAQN12AB01856D3',\n",
       " 'title': 'Campeones De La Vida',\n",
       " 'year': 0,\n",
       " 'hotness': 0.427446572,\n",
       " 'id_artist': 'ARAMIDF1187FB3D8D4',\n",
       " 'id_album': '346208',\n",
       " 'duration': 153.36444,\n",
       " 'end_of_fade_on': 0.235,\n",
       " 'start_of_fade_out': 142.518,\n",
       " 'tempo': 120.051,\n",
       " 'time_signature': 4,\n",
       " 'key': 4,\n",
       " 'loudness': -8.76,\n",
       " 'mode': 0,\n",
       " 'style': 'pop rock'}"
      ]
     },
     "execution_count": 4,
     "metadata": {},
     "output_type": "execute_result"
    }
   ],
   "source": [
    "# load songs\n",
    "def parseSong(line):\n",
    "    line = line.split('\\t')\n",
    "    return {\n",
    "        'id': line[0], \n",
    "        'title': line[1], \n",
    "        'year': int(line[2]) if line[2] != 'NA' else -9999,\n",
    "        'hotness': float(line[3]) if line[3] != 'NA' else -9999,\n",
    "        'id_artist': line[4],\n",
    "        'id_album': line[5],\n",
    "        'duration': float(line[6]) if line[6] != 'NA' else -9999,\n",
    "        'end_of_fade_on': float(line[7]) if line[7] != 'NA' else -9999,\n",
    "        'start_of_fade_out': float(line[8]) if line[8] != 'NA' else -9999,\n",
    "        'tempo': float(line[9]) if line[9] != 'NA' else -9999,\n",
    "        'time_signature': int(line[10]) if line[10] != 'NA' else -9999,\n",
    "        'key': int(line[11]) if line[11] != 'NA' else -9999,\n",
    "        'loudness': float(line[12]) if line[12] != 'NA' else -9999,\n",
    "        'mode': int(line[13]) if line[13] != 'NA' else -9999,\n",
    "        'style': line[14]\n",
    "    }\n",
    "\n",
    "songs = sc.textFile('./data/songs.tsv')\n",
    "songs = songs.map(parseSong)\n",
    "songs.first()"
   ]
  },
  {
   "cell_type": "markdown",
   "id": "d9edf888-fe61-4a36-9494-3124515ec919",
   "metadata": {},
   "source": [
    "### 1.¿Cuál es el estilo más lento(tempo) en media?"
   ]
  },
  {
   "cell_type": "code",
   "execution_count": 5,
   "id": "5a643d4f-face-41bf-a695-2ce54ea74e1e",
   "metadata": {},
   "outputs": [
    {
     "name": "stderr",
     "output_type": "stream",
     "text": [
      "                                                                                \r"
     ]
    },
    {
     "data": {
      "text/plain": [
       "('rebetika', 47.447)"
      ]
     },
     "execution_count": 5,
     "metadata": {},
     "output_type": "execute_result"
    }
   ],
   "source": [
    "def prepare_mean(pair1, pair2):\n",
    "    summatory = pair1[0] + pair2[0] if pair2[0] != -9999 else pair1[0]\n",
    "    num_elem = pair1[1] + pair2[1] if pair2[0] != -9999 else pair[1]\n",
    "    return (summatory, num_elem)\n",
    "\n",
    "def calculate_mean(pair):\n",
    "    style = pair[0]\n",
    "    mean = pair[1][0]/pair[1][1]\n",
    "    return (style, mean)\n",
    "\n",
    "songs.map(lambda song: (song['style'], (song['tempo'],1))).reduceByKey(prepare_mean).\\\n",
    "    map(calculate_mean).sortBy(lambda pair: pair[1]).first()"
   ]
  },
  {
   "cell_type": "markdown",
   "id": "ef50dfdc-f99d-4b86-87b8-395942a62a89",
   "metadata": {},
   "source": [
    "### 2.¿Cuales  son  los  5  artistas,  ubicados  en  UK(cualquier  territorio  de  UK),  con mayor número de canciones en escala menor (mode = 1)?"
   ]
  },
  {
   "cell_type": "code",
   "execution_count": 6,
   "id": "159ea5cb-7887-4a3b-900b-9d81dbd03c86",
   "metadata": {},
   "outputs": [
    {
     "data": {
      "text/plain": [
       "[('SNOWPATROL', 11),\n",
       " ('Phil Collins', 9),\n",
       " ('The Rolling Stones', 7),\n",
       " ('Radiohead', 7),\n",
       " ('Seal', 6),\n",
       " ('Bad Company', 6)]"
      ]
     },
     "execution_count": 6,
     "metadata": {},
     "output_type": "execute_result"
    }
   ],
   "source": [
    "def filter_UK_mode(pair):\n",
    "    return  (\"UK\" in pair[1] or\n",
    "            \"United Kingdom\" in pair[1] or\n",
    "            \"England\" in pair[1] or\n",
    "            \"Wales\" in pair[1] or\n",
    "            \"Scotland\" in pair[1] or\n",
    "            \"Northern Ireland\" in pair[1]) and pair[2] == 1\n",
    "\n",
    "\n",
    "songs_artist_mode = songs.map(lambda song: (song['id_artist'], song['mode']))\n",
    "artist_location = artists.map(lambda artist: (artist['id'], (artist['location'], artist['name'])))\n",
    "\n",
    "songs_artist_mode.join(artist_location).map(lambda pair: (pair[1][1][1], pair[1][1][0], pair[1][0])).\\\n",
    "    filter(filter_UK_mode).map(lambda info: (info[0], 1)).reduceByKey(lambda elem1, elem2: elem1 + elem2).\\\n",
    "    sortBy(lambda pair: pair[1], ascending = False).take(6)\n",
    "\n"
   ]
  },
  {
   "cell_type": "markdown",
   "id": "58f6b84e-2d33-44e7-9f10-881d620a0067",
   "metadata": {},
   "source": [
    "### 3.Desde  1970  hasta  hoy,  ¿las  canciones  son  más  rápidas  (tempo),  altas (loudness)  y cortas  (duration)  en  media?  Ordena  los  resultados  por  año ascendente."
   ]
  },
  {
   "cell_type": "code",
   "execution_count": 7,
   "id": "0aa580c7-25a7-44c6-a395-92b2309d7dc9",
   "metadata": {},
   "outputs": [
    {
     "data": {
      "text/plain": [
       "[(1970, 121.34628571428571, -11.92847619047619, 231.42578619047623),\n",
       " (1971, 136.16196, -12.153000000000002, 259.55428919999997),\n",
       " (1972, 129.17204166666667, -11.719291666666665, 238.54539750000004),\n",
       " (1973, 116.356125, -11.711541666666667, 294.16444416666667),\n",
       " (1974, 125.08609090909088, -10.670681818181817, 239.49134636363635),\n",
       " (1975, 125.41183333333333, -11.249541666666666, 277.4406354166667),\n",
       " (1976, 137.26139999999998, -11.6584, 210.9940493333333),\n",
       " (1977, 139.33685714285713, -11.820114285714284, 255.30692800000003),\n",
       " (1978, 134.38385, -10.1125, 247.85456749999997),\n",
       " (1979, 137.51694444444445, -11.879083333333334, 226.0566886111111),\n",
       " (1980, 126.89337499999999, -11.09853125, 210.438730625),\n",
       " (1981, 127.96074999999999, -11.570444444444446, 211.69224499999999),\n",
       " (1982, 125.14522, -11.348739999999998, 251.23742419999996),\n",
       " (1983, 126.14368085106385, -12.30287234042553, 237.46428063829788),\n",
       " (1984, 127.95625, -12.015031250000002, 239.31873),\n",
       " (1985, 132.86585294117648, -10.313735294117645, 242.61716941176468),\n",
       " (1986, 126.46589189189187, -11.36972972972973, 237.45331405405403),\n",
       " (1987, 124.62895454545452, -11.076636363636363, 246.30455568181816),\n",
       " (1988, 124.96954098360652, -10.131918032786885, 221.76072409836067),\n",
       " (1989, 124.09290909090909, -12.034439393939392, 243.4014021212121)]"
      ]
     },
     "execution_count": 7,
     "metadata": {},
     "output_type": "execute_result"
    }
   ],
   "source": [
    "def prepare_mean_2(pair1, pair2):\n",
    "    summatory_tempo = pair1[0][0] + pair2[0][0] if pair2[0][0] != -9999 else pair1[0][0]\n",
    "    num_elem_tempo = pair1[0][1] + pair2[0][1] if pair2[0][0] != -9999 else pair1[0][1]\n",
    "    \n",
    "    summatory_loudness = pair1[1][0] + pair2[1][0] if pair2[1][0] != -9999 else pair1[1][0]\n",
    "    num_elem_loudness = pair1[1][1] + pair2[1][1] if pair2[1][0] != -9999 else pair1[1][1]\n",
    "    \n",
    "    summatory_duration = pair1[2][0] + pair2[2][0] if pair2[2][0] != -9999 else pair1[2][0]\n",
    "    num_elem_duration = pair1[2][1] + pair2[2][1] if pair2[2][0] != -9999 else pair1[2][1]\n",
    "    \n",
    "    return ((summatory_tempo, num_elem_tempo), (summatory_loudness, num_elem_loudness), (summatory_duration, num_elem_duration))\n",
    "\n",
    "def calculate_mean_2(elem):\n",
    "    year = elem[0]\n",
    "    mean_tempo = elem[1][0][0]/elem[1][0][1]\n",
    "    mean_loudness = elem[1][1][0]/elem[1][1][1]\n",
    "    mean_duration = elem[1][2][0]/elem[1][2][1]\n",
    "    return (year, mean_tempo, mean_loudness, mean_duration)\n",
    "\n",
    "songs.filter(lambda song: song['year'] >= 1970).map(lambda song: (song['year'], ((song['tempo'],1), (song['loudness'],1), (song['duration'],1)))).\\\n",
    "    reduceByKey(prepare_mean_2).map(calculate_mean_2).sortBy(lambda elem: elem[0]).take(20)"
   ]
  },
  {
   "cell_type": "markdown",
   "id": "a1294e5b-94f7-4501-a4f9-340c21f6c6d9",
   "metadata": {},
   "source": [
    "### 4.¿Cuál es el estilo que menos abusa de los efectos de fade in y fade out (mayor número de segundos desde inicio al final del fade in más desde el inicio del fade out al final de la canción?"
   ]
  },
  {
   "cell_type": "code",
   "execution_count": 8,
   "id": "a99f27ee-3d04-4e2d-9a0b-6a7c263cac58",
   "metadata": {},
   "outputs": [
    {
     "data": {
      "text/plain": [
       "[('power violence', -0.0003299999999981651),\n",
       " ('christian hardcore', -0.00019500000000505224),\n",
       " ('east coast hip hop', 0.00011999999998124622),\n",
       " ('argentine rock', 0.0005099999999913507),\n",
       " ('melodic trance', 0.103)]"
      ]
     },
     "execution_count": 8,
     "metadata": {},
     "output_type": "execute_result"
    }
   ],
   "source": [
    "def calculate_fade_and_add_cont(pair):\n",
    "    style = pair[0]\n",
    "    fade = pair[1][0] + (pair[1][1] - pair[1][2])\n",
    "    return (style, (fade, 1))\n",
    "    \n",
    "    \n",
    "def prepare_mean_3(pair1, pair2):\n",
    "    summatory = pair1[0] + pair2[0]\n",
    "    num_elem = pair1[1] + pair2[1]\n",
    "    return (summatory, num_elem)\n",
    "\n",
    "def calculate_mean_3(pair):\n",
    "    style = pair[0]\n",
    "    mean = pair[1][0]/pair[1][1]\n",
    "    return (style, mean)\n",
    "\n",
    "\n",
    "songs.map(lambda song: (song['style'], (song['end_of_fade_on'], song['duration'], song['start_of_fade_out']))).\\\n",
    "    map(calculate_fade_and_add_cont).reduceByKey(prepare_mean_3).map(calculate_mean_3).\\\n",
    "    sortBy(lambda pair: pair[1]).take(5)"
   ]
  },
  {
   "cell_type": "markdown",
   "id": "09adaa54-6b1d-45e0-b9ef-60ec0afe6cd9",
   "metadata": {},
   "source": [
    "Con Spark Queries habíamos visto que eran posibles valores negativos."
   ]
  },
  {
   "cell_type": "markdown",
   "id": "e3c44c5f-8d8f-4117-bbc7-f027bccfba45",
   "metadata": {},
   "source": [
    "### 5.¿Cual es la canción menos popular (hotness) de los 5 artistas más populares (hotness)?"
   ]
  },
  {
   "cell_type": "code",
   "execution_count": 9,
   "id": "3f02ad76-e536-4ca0-9fe0-11bcee5f302e",
   "metadata": {},
   "outputs": [
    {
     "data": {
      "text/plain": [
       "[('Magic', 0.508602172),\n",
       " ('Skit #2 (Kanye West/Late Registration)', 0.7801197),\n",
       " ('Da Funk', 0.8622545),\n",
       " ('The Way I Loved You', 0.853828893),\n",
       " ('Speed Of Sound (Live)', 0.454042766)]"
      ]
     },
     "execution_count": 9,
     "metadata": {},
     "output_type": "execute_result"
    }
   ],
   "source": [
    "def select_less_popular(pair1, pair2):\n",
    "    if (pair1[1] == -9999):\n",
    "        return pair2\n",
    "    elif (pair2[1] == -9999):\n",
    "        return pair1\n",
    "    elif (pair2[1] < pair1[1]):\n",
    "        return pair2\n",
    "    else: \n",
    "        return pair1\n",
    "\n",
    "# como son únicamente 5 artistas vamos a traerlos a memoria\n",
    "popular_artists = artists.sortBy(lambda artist: artist['hotness'], ascending = False).map(lambda artist: artist['id']).take(5)\n",
    "\n",
    "songs.map(lambda song: (song['id_artist'], (song['title'], song['hotness']))).\\\n",
    "    filter(lambda song: song[0] in popular_artists).reduceByKey(select_less_popular).map(lambda pair: pair[1]).take(5)"
   ]
  },
  {
   "cell_type": "code",
   "execution_count": 10,
   "id": "17869d33-3ccf-440a-8e5d-3c12e7e67a3e",
   "metadata": {},
   "outputs": [],
   "source": [
    "sc.stop()"
   ]
  }
 ],
 "metadata": {
  "kernelspec": {
   "display_name": "Python 3 (ipykernel)",
   "language": "python",
   "name": "python3"
  },
  "language_info": {
   "codemirror_mode": {
    "name": "ipython",
    "version": 3
   },
   "file_extension": ".py",
   "mimetype": "text/x-python",
   "name": "python",
   "nbconvert_exporter": "python",
   "pygments_lexer": "ipython3",
   "version": "3.8.0"
  }
 },
 "nbformat": 4,
 "nbformat_minor": 5
}
