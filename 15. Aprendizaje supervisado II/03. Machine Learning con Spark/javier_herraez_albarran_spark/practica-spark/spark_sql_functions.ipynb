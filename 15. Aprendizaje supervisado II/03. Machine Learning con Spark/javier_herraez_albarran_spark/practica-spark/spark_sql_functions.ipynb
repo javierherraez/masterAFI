{
 "cells": [
  {
   "cell_type": "markdown",
   "id": "4143182e-c8db-4106-8d15-5614b7aa11dd",
   "metadata": {
    "tags": []
   },
   "source": [
    "# Ejercicio 2 –Spark SQL: funciones"
   ]
  },
  {
   "cell_type": "code",
   "execution_count": 1,
   "id": "6a6c61b5-4780-45a8-98d8-5de3be76511b",
   "metadata": {},
   "outputs": [
    {
     "name": "stderr",
     "output_type": "stream",
     "text": [
      "22/04/04 21:01:55 WARN Utils: Your hostname, mdsuser resolves to a loopback address: 127.0.1.1; using 192.168.242.129 instead (on interface ens33)\n",
      "22/04/04 21:01:55 WARN Utils: Set SPARK_LOCAL_IP if you need to bind to another address\n",
      "Using Spark's default log4j profile: org/apache/spark/log4j-defaults.properties\n",
      "Setting default log level to \"WARN\".\n",
      "To adjust logging level use sc.setLogLevel(newLevel). For SparkR, use setLogLevel(newLevel).\n",
      "22/04/04 21:01:57 WARN NativeCodeLoader: Unable to load native-hadoop library for your platform... using builtin-java classes where applicable\n",
      "22/04/04 21:02:00 WARN Utils: Service 'SparkUI' could not bind on port 4040. Attempting port 4041.\n"
     ]
    }
   ],
   "source": [
    "# Import findspark\n",
    "import findspark\n",
    "\n",
    "# Configure the environment\n",
    "findspark.init()\n",
    "\n",
    "# Import the Spark components required for the session creation\n",
    "from pyspark import SparkConf\n",
    "from pyspark.sql import SparkSession\n",
    "\n",
    "# Import functions from spark\n",
    "from pyspark.sql import functions as F\n",
    "\n",
    "# Configure and create the session\n",
    "conf = SparkConf()\n",
    "conf = conf.setAppName('mds-session')\n",
    "conf = conf.setMaster('local[*]')\n",
    "spark = SparkSession.builder.config(conf = conf).getOrCreate()"
   ]
  },
  {
   "cell_type": "code",
   "execution_count": 2,
   "id": "bb4bb38c-fe2c-44da-8993-43faa22d13ca",
   "metadata": {},
   "outputs": [
    {
     "name": "stderr",
     "output_type": "stream",
     "text": [
      "                                                                                \r"
     ]
    },
    {
     "name": "stdout",
     "output_type": "stream",
     "text": [
      "root\n",
      " |-- id: integer (nullable = true)\n",
      " |-- title: string (nullable = true)\n",
      "\n"
     ]
    }
   ],
   "source": [
    "# load albums\n",
    "album_df = spark.read.options(sep='\\t', header=False, inferSchema=True).csv('./data/albums.tsv')\n",
    "album_df = album_df.toDF('id', 'title')\n",
    "album_df.printSchema()"
   ]
  },
  {
   "cell_type": "code",
   "execution_count": 3,
   "id": "974a5b5e-3ea7-47a5-a703-3f24ab04d1ec",
   "metadata": {},
   "outputs": [
    {
     "name": "stdout",
     "output_type": "stream",
     "text": [
      "root\n",
      " |-- id: string (nullable = true)\n",
      " |-- name: string (nullable = true)\n",
      " |-- hotness: double (nullable = true)\n",
      " |-- familiarity: string (nullable = true)\n",
      " |-- location: string (nullable = true)\n",
      "\n"
     ]
    }
   ],
   "source": [
    "# load artists\n",
    "artist_df = spark.read.options(sep='\\t', header=False, inferSchema=True).csv('./data/artists.tsv')\n",
    "artist_df = artist_df.toDF('id', 'name', 'hotness', 'familiarity', 'location')\n",
    "artist_df.printSchema()"
   ]
  },
  {
   "cell_type": "code",
   "execution_count": 4,
   "id": "6abeed15-6d1e-4db6-b7d2-1eae8dfc5aaf",
   "metadata": {},
   "outputs": [
    {
     "name": "stdout",
     "output_type": "stream",
     "text": [
      "root\n",
      " |-- id: string (nullable = true)\n",
      " |-- title: string (nullable = true)\n",
      " |-- year: integer (nullable = true)\n",
      " |-- hotness: string (nullable = true)\n",
      " |-- id_artist: string (nullable = true)\n",
      " |-- id_album: integer (nullable = true)\n",
      " |-- duration: double (nullable = true)\n",
      " |-- end_of_fade_on: double (nullable = true)\n",
      " |-- start_of_fade_out: double (nullable = true)\n",
      " |-- tempo: double (nullable = true)\n",
      " |-- time_signature: integer (nullable = true)\n",
      " |-- key: integer (nullable = true)\n",
      " |-- loudness: double (nullable = true)\n",
      " |-- mode: integer (nullable = true)\n",
      " |-- style: string (nullable = true)\n",
      "\n"
     ]
    }
   ],
   "source": [
    "# load songs\n",
    "song_df = spark.read.options(sep='\\t', header=False, inferSchema=True).csv('./data/songs.tsv')\n",
    "song_df = song_df.toDF('id', \n",
    "                       'title', \n",
    "                       'year',\n",
    "                       'hotness',\n",
    "                       'id_artist',\n",
    "                       'id_album',\n",
    "                       'duration',\n",
    "                       'end_of_fade_on',\n",
    "                       'start_of_fade_out',\n",
    "                       'tempo',\n",
    "                       'time_signature', \n",
    "                       'key', \n",
    "                       'loudness', \n",
    "                       'mode', \n",
    "                       'style')\n",
    "song_df.printSchema()"
   ]
  },
  {
   "cell_type": "markdown",
   "id": "d9edf888-fe61-4a36-9494-3124515ec919",
   "metadata": {},
   "source": [
    "### 1.¿Cuál es el estilo más lento(tempo) en media?"
   ]
  },
  {
   "cell_type": "code",
   "execution_count": 5,
   "id": "5a643d4f-face-41bf-a695-2ce54ea74e1e",
   "metadata": {},
   "outputs": [
    {
     "name": "stderr",
     "output_type": "stream",
     "text": [
      "[Stage 6:>                                                          (0 + 1) / 1]\r"
     ]
    },
    {
     "name": "stdout",
     "output_type": "stream",
     "text": [
      "+--------+------+\n",
      "|   style| tempo|\n",
      "+--------+------+\n",
      "|rebetika|47.447|\n",
      "+--------+------+\n",
      "only showing top 1 row\n",
      "\n"
     ]
    },
    {
     "name": "stderr",
     "output_type": "stream",
     "text": [
      "                                                                                \r"
     ]
    }
   ],
   "source": [
    "song_df.select('style', 'tempo').groupBy('style').agg(F.mean('tempo').alias('tempo')).orderBy('tempo').show(1)"
   ]
  },
  {
   "cell_type": "markdown",
   "id": "ef50dfdc-f99d-4b86-87b8-395942a62a89",
   "metadata": {},
   "source": [
    "### 2.¿Cuales  son  los  5  artistas,  ubicados  en  UK(cualquier  territorio  de  UK),  con mayornúmero de canciones en escala menor (mode = 1)?"
   ]
  },
  {
   "cell_type": "code",
   "execution_count": 6,
   "id": "159ea5cb-7887-4a3b-900b-9d81dbd03c86",
   "metadata": {},
   "outputs": [
    {
     "name": "stdout",
     "output_type": "stream",
     "text": [
      "+------------------+-----+\n",
      "|              name|count|\n",
      "+------------------+-----+\n",
      "|        SNOWPATROL|   11|\n",
      "|      Phil Collins|    9|\n",
      "|         Radiohead|    7|\n",
      "|The Rolling Stones|    7|\n",
      "|       Bad Company|    6|\n",
      "|              Seal|    6|\n",
      "+------------------+-----+\n",
      "only showing top 6 rows\n",
      "\n"
     ]
    }
   ],
   "source": [
    "filter_UK = (artist_df.location.like('%UK%') |\n",
    "             artist_df.location.like('%United Kingdom%') |\n",
    "             artist_df.location.like('%England%') |\n",
    "             artist_df.location.like('%Wales%') |\n",
    "             artist_df.location.like('%Scotland%') |\n",
    "             artist_df.location.like('%Northern Ireland%'))\n",
    "\n",
    "song_df.join(artist_df, (song_df.id_artist == artist_df.id)).\\\n",
    "    where(filter_UK & (song_df.mode == 1)).\\\n",
    "    groupBy('name').agg(F.count('name').alias('count')).orderBy(F.desc('count')).show(6)\n"
   ]
  },
  {
   "cell_type": "markdown",
   "id": "58f6b84e-2d33-44e7-9f10-881d620a0067",
   "metadata": {},
   "source": [
    "### 3.Desde  1970  hasta  hoy,  ¿las  canciones  son  más  rápidas  (tempo),  altas (loudness)  y cortas  (duration)  en  media?  Ordena  los  resultados  por  año ascendente."
   ]
  },
  {
   "cell_type": "code",
   "execution_count": 7,
   "id": "0aa580c7-25a7-44c6-a395-92b2309d7dc9",
   "metadata": {},
   "outputs": [
    {
     "name": "stdout",
     "output_type": "stream",
     "text": [
      "+----+------------------+-------------------+------------------+\n",
      "|year|             tempo|           loudness|          duration|\n",
      "+----+------------------+-------------------+------------------+\n",
      "|1970|121.34628571428576| -11.92847619047619|231.42578619047612|\n",
      "|1971|136.16195999999997|-12.153000000000002|259.55428919999997|\n",
      "|1972|129.17204166666667|-11.719291666666665|238.54539749999995|\n",
      "|1973|        116.356125|-11.711541666666664|294.16444416666667|\n",
      "|1974|125.08609090909091|-10.670681818181817|239.49134636363632|\n",
      "|1975|125.41183333333332|-11.249541666666666| 277.4406354166666|\n",
      "|1976|137.26139999999998|           -11.6584|210.99404933333338|\n",
      "|1977|139.33685714285716|-11.820114285714288|255.30692799999997|\n",
      "|1978|         134.38385|           -10.1125|247.85456749999997|\n",
      "|1979|137.51694444444445|-11.879083333333332| 226.0566886111111|\n",
      "|1980|126.89337499999999|-11.098531250000002|     210.438730625|\n",
      "|1981|127.96074999999999| -11.57044444444444|211.69224499999987|\n",
      "|1982|         125.14522|          -11.34874| 251.2374241999999|\n",
      "|1983|126.14368085106382|-12.302872340425532|237.46428063829788|\n",
      "|1984|         127.95625|       -12.01503125|239.31873000000002|\n",
      "|1985|132.86585294117646|-10.313735294117647|242.61716941176468|\n",
      "|1986|126.46589189189187| -11.36972972972973|237.45331405405403|\n",
      "|1987|124.62895454545459|-11.076636363636363|246.30455568181816|\n",
      "|1988|124.96954098360652|-10.131918032786881|221.76072409836055|\n",
      "|1989|124.09290909090907|-12.034439393939392|243.40140212121216|\n",
      "+----+------------------+-------------------+------------------+\n",
      "only showing top 20 rows\n",
      "\n"
     ]
    }
   ],
   "source": [
    "song_df.where(song_df.year>=1970).groupBy('year').agg(F.mean('tempo').alias('tempo'),\n",
    "                                                       F.mean('loudness').alias('loudness'),\n",
    "                                                       F.mean('duration').alias('duration')).orderBy('year').show()"
   ]
  },
  {
   "cell_type": "markdown",
   "id": "a1294e5b-94f7-4501-a4f9-340c21f6c6d9",
   "metadata": {},
   "source": [
    "### 4.¿Cuál es el estilo que menos abusa de los efectos de fade in y fade out (mayor número de segundos desde inicio al final del fade in más desde el inicio del fade out al final de la canción?"
   ]
  },
  {
   "cell_type": "code",
   "execution_count": 8,
   "id": "a99f27ee-3d04-4e2d-9a0b-6a7c263cac58",
   "metadata": {},
   "outputs": [
    {
     "name": "stdout",
     "output_type": "stream",
     "text": [
      "+------------------+--------------------+\n",
      "|             style|                fade|\n",
      "+------------------+--------------------+\n",
      "|    power violence|-3.29999999998165...|\n",
      "|christian hardcore|-1.95000000005052...|\n",
      "|east coast hip hop|1.199999999812462...|\n",
      "|    argentine rock|5.099999999913507E-4|\n",
      "|    melodic trance|               0.103|\n",
      "+------------------+--------------------+\n",
      "only showing top 5 rows\n",
      "\n"
     ]
    }
   ],
   "source": [
    "song_df.groupBy('style').agg(F.mean(song_df.end_of_fade_on + (song_df.duration - song_df.start_of_fade_out)).\\\n",
    "                             alias('fade')).orderBy('fade').show(5)"
   ]
  },
  {
   "cell_type": "markdown",
   "id": "09adaa54-6b1d-45e0-b9ef-60ec0afe6cd9",
   "metadata": {},
   "source": [
    "Con Spark Queries habíamos visto que eran posibles valores negativos."
   ]
  },
  {
   "cell_type": "markdown",
   "id": "e3c44c5f-8d8f-4117-bbc7-f027bccfba45",
   "metadata": {},
   "source": [
    "### 5.¿Cual es la canción menos popular (hotness) de los 5 artistas más populares (hotness)?"
   ]
  },
  {
   "cell_type": "code",
   "execution_count": 9,
   "id": "3f02ad76-e536-4ca0-9fe0-11bcee5f302e",
   "metadata": {},
   "outputs": [
    {
     "name": "stdout",
     "output_type": "stream",
     "text": [
      "+--------------------+-----------+\n",
      "|               title|    hotness|\n",
      "+--------------------+-----------+\n",
      "|             Da Funk|  0.8622545|\n",
      "|Speed Of Sound (L...|0.454042766|\n",
      "|Skit #2 (Kanye We...|  0.7801197|\n",
      "| The Way I Loved You|0.853828893|\n",
      "|               Magic|0.508602172|\n",
      "+--------------------+-----------+\n",
      "\n"
     ]
    }
   ],
   "source": [
    "from pyspark.sql import window as W\n",
    "\n",
    "popular_artists = artist_df.orderBy('hotness', ascending = False).select('id').limit(5)\n",
    "\n",
    "rank_partition = F.rank().over(W.Window.partitionBy('id_artist').orderBy('hotness'))\n",
    "\n",
    "song_rank = song_df.join(popular_artists, (popular_artists.id == song_df.id_artist)).\\\n",
    "    withColumn(\"rank\", rank_partition)\n",
    "\n",
    "song_rank.where(song_rank.rank == 1).select('title', 'hotness').show()\n"
   ]
  },
  {
   "cell_type": "code",
   "execution_count": 10,
   "id": "17869d33-3ccf-440a-8e5d-3c12e7e67a3e",
   "metadata": {},
   "outputs": [],
   "source": [
    "spark.stop()"
   ]
  }
 ],
 "metadata": {
  "kernelspec": {
   "display_name": "Python 3 (ipykernel)",
   "language": "python",
   "name": "python3"
  },
  "language_info": {
   "codemirror_mode": {
    "name": "ipython",
    "version": 3
   },
   "file_extension": ".py",
   "mimetype": "text/x-python",
   "name": "python",
   "nbconvert_exporter": "python",
   "pygments_lexer": "ipython3",
   "version": "3.8.0"
  }
 },
 "nbformat": 4,
 "nbformat_minor": 5
}
