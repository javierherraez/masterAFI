{
 "cells": [
  {
   "cell_type": "markdown",
   "metadata": {},
   "source": [
    "# Spark ML - Classification"
   ]
  },
  {
   "cell_type": "markdown",
   "metadata": {},
   "source": [
    "## Prepare the Spark session"
   ]
  },
  {
   "cell_type": "code",
   "execution_count": null,
   "metadata": {},
   "outputs": [],
   "source": [
    "# Import findspark\n",
    "import findspark\n",
    "\n",
    "# Configure the environment\n",
    "findspark.init()\n",
    "\n",
    "# Import the Spark components required for the session creation\n",
    "from pyspark import SparkConf\n",
    "from pyspark.sql import SparkSession\n",
    "\n",
    "# Configure and create the session\n",
    "conf = SparkConf()\n",
    "conf = conf.setAppName('mds-session')\n",
    "conf = conf.setMaster('local[*]')\n",
    "spark = SparkSession.builder.config(conf = conf).getOrCreate()"
   ]
  },
  {
   "cell_type": "markdown",
   "metadata": {},
   "source": [
    "## Package import"
   ]
  },
  {
   "cell_type": "code",
   "execution_count": null,
   "metadata": {},
   "outputs": [],
   "source": [
    "# Import required packages\n",
    "import pandas as pd\n",
    "from sklearn.metrics import roc_curve\n",
    "from plotnine import *\n",
    "from pyspark.ml.feature import VectorAssembler\n",
    "from pyspark.ml.classification import (\n",
    "    LogisticRegression,\n",
    "    DecisionTreeClassifier,\n",
    "    RandomForestClassifier,\n",
    "    GBTClassifier\n",
    ")\n",
    "from pyspark.ml.evaluation import BinaryClassificationEvaluator"
   ]
  },
  {
   "cell_type": "markdown",
   "metadata": {},
   "source": [
    "## Read a sample CSV"
   ]
  },
  {
   "cell_type": "code",
   "execution_count": null,
   "metadata": {},
   "outputs": [],
   "source": [
    "# Read a sample dataset\n",
    "data = spark.read.options(sep=',', header=True, inferSchema=True).csv('./data/housing.csv')\n",
    "\n",
    "# Convert the target variable to Double\n",
    "data = data.withColumn('chas', data.chas.cast('Double'))"
   ]
  },
  {
   "cell_type": "markdown",
   "metadata": {},
   "source": [
    "## Target vs. features"
   ]
  },
  {
   "cell_type": "code",
   "execution_count": null,
   "metadata": {},
   "outputs": [],
   "source": [
    "target = 'chas'\n",
    "features = [col for col in data.columns if col != target]"
   ]
  },
  {
   "cell_type": "markdown",
   "metadata": {},
   "source": [
    "## Vectorize inputs"
   ]
  },
  {
   "cell_type": "code",
   "execution_count": null,
   "metadata": {},
   "outputs": [],
   "source": [
    "# Create the assembler\n",
    "assembler = VectorAssembler(inputCols=features, outputCol='features')\n",
    "\n",
    "# Apply the transformation\n",
    "vectorized_data = assembler.transform(data)\n",
    "\n",
    "# Check the transformed data\n",
    "vectorized_data.show(5)"
   ]
  },
  {
   "cell_type": "markdown",
   "metadata": {},
   "source": [
    "## Split train-test"
   ]
  },
  {
   "cell_type": "code",
   "execution_count": null,
   "metadata": {},
   "outputs": [],
   "source": [
    "# Split train test (70-30)\n",
    "train, test = vectorized_data.randomSplit([0.7, 0.3])\n",
    "print(f'Train size: {train.count()}')\n",
    "print(f'Test size: {test.count()}')"
   ]
  },
  {
   "cell_type": "markdown",
   "metadata": {},
   "source": [
    "## Logistic regression"
   ]
  },
  {
   "cell_type": "markdown",
   "metadata": {},
   "source": [
    "### Create the model"
   ]
  },
  {
   "cell_type": "code",
   "execution_count": null,
   "metadata": {},
   "outputs": [],
   "source": [
    "# Create the logistict regression classifier\n",
    "lr = LogisticRegression(\n",
    "    featuresCol='features', \n",
    "    labelCol=target, \n",
    "    predictionCol='prediction',\n",
    "    probabilityCol='probability',\n",
    "    regParam=0,\n",
    "    elasticNetParam=0,\n",
    "    fitIntercept=True,\n",
    "    standardization=False,\n",
    "    threshold=0.05\n",
    ")"
   ]
  },
  {
   "cell_type": "markdown",
   "metadata": {},
   "source": [
    "### Train and analyze the model"
   ]
  },
  {
   "cell_type": "code",
   "execution_count": null,
   "metadata": {},
   "outputs": [],
   "source": [
    "# Train the model\n",
    "trained_lr = lr.fit(train)"
   ]
  },
  {
   "cell_type": "code",
   "execution_count": null,
   "metadata": {},
   "outputs": [],
   "source": [
    "# Retrieve the whole set of coefficients and intercept value\n",
    "coefs = list(trained_lr.coefficients.toArray()) + [trained_lr.intercept]\n",
    "pd.DataFrame({\n",
    "    'features': features + ['Intercept'], \n",
    "    'coefficients': coefs\n",
    "})"
   ]
  },
  {
   "cell_type": "markdown",
   "metadata": {},
   "source": [
    "### Evaluate the model"
   ]
  },
  {
   "cell_type": "code",
   "execution_count": null,
   "metadata": {},
   "outputs": [],
   "source": [
    "# Retrieve train and test predictions\n",
    "train_preds = trained_lr.transform(train)\n",
    "test_preds = trained_lr.transform(test)\n",
    "\n",
    "# Create an evaluator\n",
    "evaluator = BinaryClassificationEvaluator(rawPredictionCol='probability', labelCol=target)"
   ]
  },
  {
   "cell_type": "code",
   "execution_count": null,
   "metadata": {},
   "outputs": [],
   "source": [
    "# Evaluate in train\n",
    "train_AUC = evaluator.evaluate(train_preds, {evaluator.metricName: 'areaUnderROC'})\n",
    "train_AUPR = evaluator.evaluate(train_preds, {evaluator.metricName: 'areaUnderPR'})\n",
    "\n",
    "# Evaluate in test\n",
    "test_AUC = evaluator.evaluate(test_preds, {evaluator.metricName: 'areaUnderROC'})\n",
    "test_AUPR = evaluator.evaluate(test_preds, {evaluator.metricName: 'areaUnderPR'})\n",
    "\n",
    "# Display model metrics\n",
    "print(f'AUC (Train/Test): {train_AUC} / {test_AUC}')\n",
    "print(f'AUPR (Train/Test): {train_AUPR} / {test_AUPR}')"
   ]
  },
  {
   "cell_type": "code",
   "execution_count": null,
   "metadata": {},
   "outputs": [],
   "source": [
    "# Display confussion matrix in train\n",
    "train_results = train_preds.groupBy('chas', 'prediction').count().toPandas()\n",
    "train_results.columns = ['actual', 'prediction', 'frequency']\n",
    "confusion_matrix = pd.DataFrame({'prediction': [0, 1, 0, 1], 'actual': [0, 0, 1, 1]})\n",
    "confusion_matrix = pd.merge(confusion_matrix, train_results, how='left').fillna(0).astype(int)\n",
    "confusion_matrix = confusion_matrix.assign(\n",
    "    actual = confusion_matrix.actual.astype(str),\n",
    "    prediction = confusion_matrix.prediction.astype(str),\n",
    ")\n",
    "confusion_matrix.set_index(['prediction', 'actual']).unstack()"
   ]
  },
  {
   "cell_type": "code",
   "execution_count": null,
   "metadata": {},
   "outputs": [],
   "source": [
    "# Display the confussion matrix in test\n",
    "test_results = test_preds.groupBy('chas', 'prediction').count().toPandas()\n",
    "test_results.columns = ['actual', 'prediction', 'frequency']\n",
    "confusion_matrix = pd.DataFrame({'prediction': [0, 1, 0, 1], 'actual': [0, 0, 1, 1]})\n",
    "confusion_matrix = pd.merge(confusion_matrix, test_results, how='left').fillna(0).astype(int)\n",
    "confusion_matrix = confusion_matrix.assign(\n",
    "    actual = confusion_matrix.actual.astype(str),\n",
    "    prediction = confusion_matrix.prediction.astype(str),\n",
    ")\n",
    "confusion_matrix.set_index(['prediction', 'actual']).unstack()"
   ]
  },
  {
   "cell_type": "code",
   "execution_count": null,
   "metadata": {},
   "outputs": [],
   "source": [
    "# Display train ROC curve\n",
    "train_values = train_preds.select(target, 'probability').toPandas()\n",
    "train_values = train_values.assign(probability = train_values.probability.apply(lambda x: x[1]))\n",
    "fpr, tpr, _ = roc_curve(train_values.chas, train_values.probability)\n",
    "(ggplot(pd.DataFrame({'fpr': fpr, 'tpr': tpr}), aes(x='fpr', y='tpr')) + geom_line())"
   ]
  },
  {
   "cell_type": "code",
   "execution_count": null,
   "metadata": {
    "tags": []
   },
   "outputs": [],
   "source": [
    "# Display test ROC curve\n",
    "test_values = test_preds.select(target, 'probability').toPandas()\n",
    "test_values = test_values.assign(probability = test_values.probability.apply(lambda x: x[1]))\n",
    "fpr, tpr, _ = roc_curve(test_values.chas, test_values.probability)\n",
    "(ggplot(pd.DataFrame({'fpr': fpr, 'tpr': tpr}), aes(x='fpr', y='tpr')) + geom_line())"
   ]
  },
  {
   "cell_type": "markdown",
   "metadata": {},
   "source": [
    "## Decision tree"
   ]
  },
  {
   "cell_type": "markdown",
   "metadata": {},
   "source": [
    "### Create the model"
   ]
  },
  {
   "cell_type": "code",
   "execution_count": null,
   "metadata": {},
   "outputs": [],
   "source": [
    "# Create the decission tree classifier\n",
    "tree = DecisionTreeClassifier(\n",
    "    featuresCol='features', \n",
    "    labelCol=target, \n",
    "    predictionCol='prediction',\n",
    "    probabilityCol='probability',\n",
    "    maxDepth=5,\n",
    "    minInstancesPerNode=1\n",
    ")"
   ]
  },
  {
   "cell_type": "markdown",
   "metadata": {},
   "source": [
    "### Train and analyze the model"
   ]
  },
  {
   "cell_type": "code",
   "execution_count": null,
   "metadata": {},
   "outputs": [],
   "source": [
    "# Entrenamos nuestro modelo\n",
    "trained_tree = tree.fit(train)"
   ]
  },
  {
   "cell_type": "code",
   "execution_count": null,
   "metadata": {},
   "outputs": [],
   "source": [
    "# Display feature importance\n",
    "importance = trained_tree.featureImportances.toArray()\n",
    "results = pd.DataFrame({\n",
    "    'features': features, \n",
    "    'importance': importance,\n",
    "})\n",
    "(\n",
    "    ggplot(results, aes(x='features', y='importance')) + \n",
    "        geom_bar(stat='identity') + \n",
    "        coord_flip() + \n",
    "        scale_x_discrete(limits=results.sort_values('importance')['features'])\n",
    ")"
   ]
  },
  {
   "cell_type": "markdown",
   "metadata": {},
   "source": [
    "### Evaluate the model"
   ]
  },
  {
   "cell_type": "code",
   "execution_count": null,
   "metadata": {},
   "outputs": [],
   "source": [
    "# Retrieve predictions in train and test\n",
    "train_preds = trained_tree.transform(train)\n",
    "test_preds = trained_tree.transform(test)\n",
    "\n",
    "# Create the evaluator\n",
    "evaluator = BinaryClassificationEvaluator(rawPredictionCol='probability', labelCol=target)"
   ]
  },
  {
   "cell_type": "code",
   "execution_count": null,
   "metadata": {},
   "outputs": [],
   "source": [
    "# Evaluate in train\n",
    "train_AUC = evaluator.evaluate(train_preds, {evaluator.metricName: 'areaUnderROC'})\n",
    "train_AUPR = evaluator.evaluate(train_preds, {evaluator.metricName: 'areaUnderPR'})\n",
    "\n",
    "# Evaluate in test\n",
    "test_AUC = evaluator.evaluate(test_preds, {evaluator.metricName: 'areaUnderROC'})\n",
    "test_AUPR = evaluator.evaluate(test_preds, {evaluator.metricName: 'areaUnderPR'})\n",
    "\n",
    "# Display model metrics\n",
    "print(f'AUC (Train/Test): {train_AUC} / {test_AUC}')\n",
    "print(f'AUPR (Train/Test): {train_AUPR} / {test_AUPR}')"
   ]
  },
  {
   "cell_type": "code",
   "execution_count": null,
   "metadata": {},
   "outputs": [],
   "source": [
    "# Display results in train\n",
    "train_results = train_preds.groupBy('chas', 'prediction').count().toPandas()\n",
    "train_results.columns = ['actual', 'prediction', 'frequency']\n",
    "confusion_matrix = pd.DataFrame({'prediction': [0, 1, 0, 1], 'actual': [0, 0, 1, 1]})\n",
    "confusion_matrix = pd.merge(confusion_matrix, train_results, how='left').fillna(0).astype(int)\n",
    "confusion_matrix = confusion_matrix.assign(\n",
    "    actual = confusion_matrix.actual.astype(str),\n",
    "    prediction = confusion_matrix.prediction.astype(str),\n",
    ")\n",
    "confusion_matrix.set_index(['prediction', 'actual']).unstack()"
   ]
  },
  {
   "cell_type": "code",
   "execution_count": null,
   "metadata": {},
   "outputs": [],
   "source": [
    "# Display results in test\n",
    "test_results = test_preds.groupBy('chas', 'prediction').count().toPandas()\n",
    "test_results.columns = ['actual', 'prediction', 'frequency']\n",
    "confusion_matrix = pd.DataFrame({'prediction': [0, 1, 0, 1], 'actual': [0, 0, 1, 1]})\n",
    "confusion_matrix = pd.merge(confusion_matrix, test_results, how='left').fillna(0).astype(int)\n",
    "confusion_matrix = confusion_matrix.assign(\n",
    "    actual = confusion_matrix.actual.astype(str),\n",
    "    prediction = confusion_matrix.prediction.astype(str),\n",
    ")\n",
    "confusion_matrix.set_index(['prediction', 'actual']).unstack()"
   ]
  },
  {
   "cell_type": "code",
   "execution_count": null,
   "metadata": {},
   "outputs": [],
   "source": [
    "# Display train ROC curve\n",
    "train_values = train_preds.select(target, 'probability').toPandas()\n",
    "train_values = train_values.assign(probability = train_values.probability.apply(lambda x: x[1]))\n",
    "fpr, tpr, _ = roc_curve(train_values.chas, train_values.probability)\n",
    "(ggplot(pd.DataFrame({'fpr': fpr, 'tpr': tpr}), aes(x='fpr', y='tpr')) + geom_line())"
   ]
  },
  {
   "cell_type": "code",
   "execution_count": null,
   "metadata": {
    "tags": []
   },
   "outputs": [],
   "source": [
    "# Display test ROC curve\n",
    "test_values = test_preds.select(target, 'probability').toPandas()\n",
    "test_values = test_values.assign(probability = test_values.probability.apply(lambda x: x[1]))\n",
    "fpr, tpr, _ = roc_curve(test_values.chas, test_values.probability)\n",
    "(ggplot(pd.DataFrame({'fpr': fpr, 'tpr': tpr}), aes(x='fpr', y='tpr')) + geom_line())"
   ]
  },
  {
   "cell_type": "markdown",
   "metadata": {},
   "source": [
    "## Random forest"
   ]
  },
  {
   "cell_type": "markdown",
   "metadata": {},
   "source": [
    "### Create the model"
   ]
  },
  {
   "cell_type": "code",
   "execution_count": null,
   "metadata": {},
   "outputs": [],
   "source": [
    "# Create a random forest classifier\n",
    "rf = RandomForestClassifier(\n",
    "    featuresCol='features', \n",
    "    labelCol=target, \n",
    "    predictionCol='prediction',\n",
    "    probabilityCol='probability',\n",
    "    numTrees=100,\n",
    "    maxDepth=5,\n",
    "    minInstancesPerNode=1\n",
    ")"
   ]
  },
  {
   "cell_type": "markdown",
   "metadata": {},
   "source": [
    "### Train and analyze the model"
   ]
  },
  {
   "cell_type": "code",
   "execution_count": null,
   "metadata": {},
   "outputs": [],
   "source": [
    "# Train the model\n",
    "trained_rf = rf.fit(train)"
   ]
  },
  {
   "cell_type": "code",
   "execution_count": null,
   "metadata": {
    "scrolled": true
   },
   "outputs": [],
   "source": [
    "# Display feature importance\n",
    "importance = trained_rf.featureImportances.toArray()\n",
    "results = pd.DataFrame({\n",
    "    'features': features, \n",
    "    'importance': importance,\n",
    "})\n",
    "(\n",
    "    ggplot(results, aes(x='features', y='importance')) + \n",
    "        geom_bar(stat='identity') + \n",
    "        coord_flip() + \n",
    "        scale_x_discrete(limits=results.sort_values('importance')['features'])\n",
    ")"
   ]
  },
  {
   "cell_type": "markdown",
   "metadata": {},
   "source": [
    "### Evaluate the model"
   ]
  },
  {
   "cell_type": "code",
   "execution_count": null,
   "metadata": {},
   "outputs": [],
   "source": [
    "# Retrieve predictions in train and test\n",
    "train_preds = trained_rf.transform(train)\n",
    "test_preds = trained_rf.transform(test)\n",
    "\n",
    "# Create the evaluator\n",
    "evaluator = BinaryClassificationEvaluator(rawPredictionCol='probability', labelCol=target)"
   ]
  },
  {
   "cell_type": "code",
   "execution_count": null,
   "metadata": {},
   "outputs": [],
   "source": [
    "# Evaluate in train\n",
    "train_AUC = evaluator.evaluate(train_preds, {evaluator.metricName: 'areaUnderROC'})\n",
    "train_AUPR = evaluator.evaluate(train_preds, {evaluator.metricName: 'areaUnderPR'})\n",
    "\n",
    "# Evaluate in test\n",
    "test_AUC = evaluator.evaluate(test_preds, {evaluator.metricName: 'areaUnderROC'})\n",
    "test_AUPR = evaluator.evaluate(test_preds, {evaluator.metricName: 'areaUnderPR'})\n",
    "\n",
    "# Display model metrics\n",
    "print(f'AUC (Train/Test): {train_AUC} / {test_AUC}')\n",
    "print(f'AUPR (Train/Test): {train_AUPR} / {test_AUPR}')"
   ]
  },
  {
   "cell_type": "code",
   "execution_count": null,
   "metadata": {},
   "outputs": [],
   "source": [
    "# Display results in train\n",
    "train_results = train_preds.groupBy('chas', 'prediction').count().toPandas()\n",
    "train_results.columns = ['actual', 'prediction', 'frequency']\n",
    "confusion_matrix = pd.DataFrame({'prediction': [0, 1, 0, 1], 'actual': [0, 0, 1, 1]})\n",
    "confusion_matrix = pd.merge(confusion_matrix, train_results, how='left').fillna(0).astype(int)\n",
    "confusion_matrix = confusion_matrix.assign(\n",
    "    actual = confusion_matrix.actual.astype(str),\n",
    "    prediction = confusion_matrix.prediction.astype(str),\n",
    ")\n",
    "confusion_matrix.set_index(['prediction', 'actual']).unstack()"
   ]
  },
  {
   "cell_type": "code",
   "execution_count": null,
   "metadata": {},
   "outputs": [],
   "source": [
    "# Display results in test\n",
    "test_results = test_preds.groupBy('chas', 'prediction').count().toPandas()\n",
    "test_results.columns = ['actual', 'prediction', 'frequency']\n",
    "confusion_matrix = pd.DataFrame({'prediction': [0, 1, 0, 1], 'actual': [0, 0, 1, 1]})\n",
    "confusion_matrix = pd.merge(confusion_matrix, test_results, how='left').fillna(0).astype(int)\n",
    "confusion_matrix = confusion_matrix.assign(\n",
    "    actual = confusion_matrix.actual.astype(str),\n",
    "    prediction = confusion_matrix.prediction.astype(str),\n",
    ")\n",
    "confusion_matrix.set_index(['prediction', 'actual']).unstack()"
   ]
  },
  {
   "cell_type": "code",
   "execution_count": null,
   "metadata": {},
   "outputs": [],
   "source": [
    "# Display train ROC curve\n",
    "train_values = train_preds.select(target, 'probability').toPandas()\n",
    "train_values = train_values.assign(probability = train_values.probability.apply(lambda x: x[1]))\n",
    "fpr, tpr, _ = roc_curve(train_values.chas, train_values.probability)\n",
    "(ggplot(pd.DataFrame({'fpr': fpr, 'tpr': tpr}), aes(x='fpr', y='tpr')) + geom_line())"
   ]
  },
  {
   "cell_type": "code",
   "execution_count": null,
   "metadata": {
    "tags": []
   },
   "outputs": [],
   "source": [
    "# Display test ROC curve\n",
    "test_values = test_preds.select(target, 'probability').toPandas()\n",
    "test_values = test_values.assign(probability = test_values.probability.apply(lambda x: x[1]))\n",
    "fpr, tpr, _ = roc_curve(test_values.chas, test_values.probability)\n",
    "(ggplot(pd.DataFrame({'fpr': fpr, 'tpr': tpr}), aes(x='fpr', y='tpr')) + geom_line())"
   ]
  },
  {
   "cell_type": "markdown",
   "metadata": {},
   "source": [
    "## Gradient Boosted Tree"
   ]
  },
  {
   "cell_type": "markdown",
   "metadata": {},
   "source": [
    "### Create the model"
   ]
  },
  {
   "cell_type": "code",
   "execution_count": null,
   "metadata": {},
   "outputs": [],
   "source": [
    "# Create the GBT classifier\n",
    "gbt = GBTClassifier(\n",
    "    featuresCol='features', \n",
    "    labelCol=target, \n",
    "    predictionCol='prediction',\n",
    "    maxIter=20,\n",
    "    maxDepth=8,\n",
    "    minInstancesPerNode=5\n",
    ")"
   ]
  },
  {
   "cell_type": "markdown",
   "metadata": {},
   "source": [
    "### Train and analyze the model"
   ]
  },
  {
   "cell_type": "code",
   "execution_count": null,
   "metadata": {},
   "outputs": [],
   "source": [
    "# Train the model\n",
    "trained_gbt = gbt.fit(train)"
   ]
  },
  {
   "cell_type": "code",
   "execution_count": null,
   "metadata": {},
   "outputs": [],
   "source": [
    "# Display feature importance\n",
    "importance = trained_gbt.featureImportances.toArray()\n",
    "results = pd.DataFrame({\n",
    "    'features': features, \n",
    "    'importance': importance,\n",
    "})\n",
    "(\n",
    "    ggplot(results, aes(x='features', y='importance')) + \n",
    "        geom_bar(stat='identity') + \n",
    "        coord_flip() + \n",
    "        scale_x_discrete(limits=results.sort_values('importance')['features'])\n",
    ")"
   ]
  },
  {
   "cell_type": "markdown",
   "metadata": {},
   "source": [
    "### Evaluate the model"
   ]
  },
  {
   "cell_type": "code",
   "execution_count": null,
   "metadata": {},
   "outputs": [],
   "source": [
    "# Retrieve predictions in train and test\n",
    "train_preds = trained_gbt.transform(train)\n",
    "test_preds = trained_gbt.transform(test)\n",
    "\n",
    "# Create the evaluator\n",
    "evaluator = BinaryClassificationEvaluator(rawPredictionCol='probability', labelCol=target)"
   ]
  },
  {
   "cell_type": "code",
   "execution_count": null,
   "metadata": {},
   "outputs": [],
   "source": [
    "# Evaluate in train\n",
    "train_AUC = evaluator.evaluate(train_preds, {evaluator.metricName: 'areaUnderROC'})\n",
    "train_AUPR = evaluator.evaluate(train_preds, {evaluator.metricName: 'areaUnderPR'})\n",
    "\n",
    "# Evaluate in test\n",
    "test_AUC = evaluator.evaluate(test_preds, {evaluator.metricName: 'areaUnderROC'})\n",
    "test_AUPR = evaluator.evaluate(test_preds, {evaluator.metricName: 'areaUnderPR'})\n",
    "\n",
    "# Display model metrics\n",
    "print(f'AUC (Train/Test): {train_AUC} / {test_AUC}')\n",
    "print(f'AUPR (Train/Test): {train_AUPR} / {test_AUPR}')"
   ]
  },
  {
   "cell_type": "code",
   "execution_count": null,
   "metadata": {},
   "outputs": [],
   "source": [
    "# Display results in train\n",
    "train_results = train_preds.groupBy('chas', 'prediction').count().toPandas()\n",
    "train_results.columns = ['actual', 'prediction', 'frequency']\n",
    "confusion_matrix = pd.DataFrame({'prediction': [0, 1, 0, 1], 'actual': [0, 0, 1, 1]})\n",
    "confusion_matrix = pd.merge(confusion_matrix, train_results, how='left').fillna(0).astype(int)\n",
    "confusion_matrix = confusion_matrix.assign(\n",
    "    actual = confusion_matrix.actual.astype(str),\n",
    "    prediction = confusion_matrix.prediction.astype(str),\n",
    ")\n",
    "confusion_matrix.set_index(['prediction', 'actual']).unstack()"
   ]
  },
  {
   "cell_type": "code",
   "execution_count": null,
   "metadata": {},
   "outputs": [],
   "source": [
    "# Display results in test\n",
    "test_results = test_preds.groupBy('chas', 'prediction').count().toPandas()\n",
    "test_results.columns = ['actual', 'prediction', 'frequency']\n",
    "confusion_matrix = pd.DataFrame({'prediction': [0, 1, 0, 1], 'actual': [0, 0, 1, 1]})\n",
    "confusion_matrix = pd.merge(confusion_matrix, test_results, how='left').fillna(0).astype(int)\n",
    "confusion_matrix = confusion_matrix.assign(\n",
    "    actual = confusion_matrix.actual.astype(str),\n",
    "    prediction = confusion_matrix.prediction.astype(str),\n",
    ")\n",
    "confusion_matrix.set_index(['prediction', 'actual']).unstack()"
   ]
  },
  {
   "cell_type": "code",
   "execution_count": null,
   "metadata": {},
   "outputs": [],
   "source": [
    "# Display train ROC curve\n",
    "train_values = train_preds.select(target, 'probability').toPandas()\n",
    "train_values = train_values.assign(probability = train_values.probability.apply(lambda x: x[1]))\n",
    "fpr, tpr, _ = roc_curve(train_values.chas, train_values.probability)\n",
    "(ggplot(pd.DataFrame({'fpr': fpr, 'tpr': tpr}), aes(x='fpr', y='tpr')) + geom_line())"
   ]
  },
  {
   "cell_type": "code",
   "execution_count": null,
   "metadata": {
    "tags": []
   },
   "outputs": [],
   "source": [
    "# Display test ROC curve\n",
    "test_values = test_preds.select(target, 'probability').toPandas()\n",
    "test_values = test_values.assign(probability = test_values.probability.apply(lambda x: x[1]))\n",
    "fpr, tpr, _ = roc_curve(test_values.chas, test_values.probability)\n",
    "(ggplot(pd.DataFrame({'fpr': fpr, 'tpr': tpr}), aes(x='fpr', y='tpr')) + geom_line())"
   ]
  },
  {
   "cell_type": "markdown",
   "metadata": {},
   "source": [
    "## Close the Spark session"
   ]
  },
  {
   "cell_type": "code",
   "execution_count": null,
   "metadata": {},
   "outputs": [],
   "source": [
    "spark.stop()"
   ]
  }
 ],
 "metadata": {
  "kernelspec": {
   "display_name": "Python 3 (ipykernel)",
   "language": "python",
   "name": "python3"
  },
  "language_info": {
   "codemirror_mode": {
    "name": "ipython",
    "version": 3
   },
   "file_extension": ".py",
   "mimetype": "text/x-python",
   "name": "python",
   "nbconvert_exporter": "python",
   "pygments_lexer": "ipython3",
   "version": "3.8.0"
  }
 },
 "nbformat": 4,
 "nbformat_minor": 4
}
