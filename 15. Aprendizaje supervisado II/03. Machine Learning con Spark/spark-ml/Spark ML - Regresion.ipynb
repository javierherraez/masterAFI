{
 "cells": [
  {
   "cell_type": "markdown",
   "metadata": {},
   "source": [
    "# Spark ML - Regression"
   ]
  },
  {
   "cell_type": "markdown",
   "metadata": {},
   "source": [
    "## Prepare the Spark session"
   ]
  },
  {
   "cell_type": "code",
   "execution_count": null,
   "metadata": {},
   "outputs": [],
   "source": [
    "# Import findspark\n",
    "import findspark\n",
    "\n",
    "# Configure the environment\n",
    "findspark.init()\n",
    "\n",
    "# Import the Spark components required for the session creation\n",
    "from pyspark import SparkConf\n",
    "from pyspark.sql import SparkSession\n",
    "\n",
    "# Configure and create the session\n",
    "conf = SparkConf()\n",
    "conf = conf.setAppName('mds-session')\n",
    "conf = conf.setMaster('local[*]')\n",
    "spark = SparkSession.builder.config(conf = conf).getOrCreate()"
   ]
  },
  {
   "cell_type": "markdown",
   "metadata": {},
   "source": [
    "## Package import"
   ]
  },
  {
   "cell_type": "code",
   "execution_count": null,
   "metadata": {},
   "outputs": [],
   "source": [
    "# Import required packages\n",
    "import pandas as pd\n",
    "from plotnine import *\n",
    "from pyspark.ml.feature import VectorAssembler\n",
    "from pyspark.ml.regression import (\n",
    "    LinearRegression,\n",
    "    DecisionTreeRegressor,\n",
    "    RandomForestRegressor,\n",
    "    GBTRegressor\n",
    ")\n",
    "from pyspark.ml.evaluation import RegressionEvaluator"
   ]
  },
  {
   "cell_type": "markdown",
   "metadata": {},
   "source": [
    "## Read a sample CSV"
   ]
  },
  {
   "cell_type": "code",
   "execution_count": null,
   "metadata": {},
   "outputs": [],
   "source": [
    "# Read a sample data set\n",
    "data = spark.read.options(sep=',', header=True, inferSchema=True).csv('./data/housing.csv')"
   ]
  },
  {
   "cell_type": "markdown",
   "metadata": {},
   "source": [
    "## Target vs. features"
   ]
  },
  {
   "cell_type": "code",
   "execution_count": null,
   "metadata": {},
   "outputs": [],
   "source": [
    "target = 'medv'\n",
    "features = [col for col in data.columns if col != target]"
   ]
  },
  {
   "cell_type": "markdown",
   "metadata": {},
   "source": [
    "## Vectorize inputs"
   ]
  },
  {
   "cell_type": "code",
   "execution_count": null,
   "metadata": {},
   "outputs": [],
   "source": [
    "# Create the assembler\n",
    "assembler = VectorAssembler(inputCols=features, outputCol='features')\n",
    "\n",
    "# Apply the transformation\n",
    "vectorized_data = assembler.transform(data)\n",
    "\n",
    "# Check the transformed data\n",
    "vectorized_data.show(5)"
   ]
  },
  {
   "cell_type": "markdown",
   "metadata": {},
   "source": [
    "## Split train-test"
   ]
  },
  {
   "cell_type": "code",
   "execution_count": null,
   "metadata": {},
   "outputs": [],
   "source": [
    "# Split train test (70-30)\n",
    "train, test = vectorized_data.randomSplit([0.7, 0.3])\n",
    "print(f'Train size: {train.count()}')\n",
    "print(f'Test size: {test.count()}')"
   ]
  },
  {
   "cell_type": "markdown",
   "metadata": {},
   "source": [
    "## Linear regression"
   ]
  },
  {
   "cell_type": "markdown",
   "metadata": {},
   "source": [
    "### Create the model"
   ]
  },
  {
   "cell_type": "code",
   "execution_count": null,
   "metadata": {},
   "outputs": [],
   "source": [
    "# Create a linear regression model\n",
    "lr = LinearRegression(\n",
    "    featuresCol='features', \n",
    "    labelCol=target, \n",
    "    predictionCol='prediction', \n",
    "    regParam=0,\n",
    "    elasticNetParam=0, # 0 == L2 (Ridge); 1 == L1 (Lasso)\n",
    "    fitIntercept=True,\n",
    "    standardization=False\n",
    ")"
   ]
  },
  {
   "cell_type": "markdown",
   "metadata": {},
   "source": [
    "### Train and analyze the model"
   ]
  },
  {
   "cell_type": "code",
   "execution_count": null,
   "metadata": {},
   "outputs": [],
   "source": [
    "# Train the model\n",
    "trained_lr = lr.fit(train)"
   ]
  },
  {
   "cell_type": "code",
   "execution_count": null,
   "metadata": {},
   "outputs": [],
   "source": [
    "# Retrieve the whole list of coefficients + intercept\n",
    "coefs = list(trained_lr.coefficients.toArray()) + [trained_lr.intercept]\n",
    "\n",
    "# Retrieve the p-values of the coefficients\n",
    "pvalues = trained_lr.summary.pValues\n",
    "\n",
    "# Display the results fo the model\n",
    "pd.DataFrame({\n",
    "    'features': features + ['Intercept'], \n",
    "    'coefficients': coefs,\n",
    "    'pvalues': pvalues\n",
    "})"
   ]
  },
  {
   "cell_type": "markdown",
   "metadata": {},
   "source": [
    "### Evaluate the model"
   ]
  },
  {
   "cell_type": "code",
   "execution_count": null,
   "metadata": {},
   "outputs": [],
   "source": [
    "# Retrieve the predictions in train and test\n",
    "train_preds = trained_lr.transform(train)\n",
    "test_preds = trained_lr.transform(test)\n",
    "\n",
    "# Create a regression evaluator \n",
    "evaluator = RegressionEvaluator(predictionCol='prediction', labelCol=target)"
   ]
  },
  {
   "cell_type": "code",
   "execution_count": null,
   "metadata": {},
   "outputs": [],
   "source": [
    "# Evaluate in train\n",
    "train_rmse = evaluator.evaluate(train_preds, {evaluator.metricName: 'rmse'})\n",
    "train_mse = evaluator.evaluate(train_preds, {evaluator.metricName: 'mse'})\n",
    "train_r2 = evaluator.evaluate(train_preds, {evaluator.metricName: 'r2'})\n",
    "train_mae = evaluator.evaluate(train_preds, {evaluator.metricName: 'mae'})\n",
    "\n",
    "# Evaluate in test\n",
    "test_rmse = evaluator.evaluate(test_preds, {evaluator.metricName: 'rmse'})\n",
    "test_mse = evaluator.evaluate(test_preds, {evaluator.metricName: 'mse'})\n",
    "test_r2 = evaluator.evaluate(test_preds, {evaluator.metricName: 'r2'})\n",
    "test_mae = evaluator.evaluate(test_preds, {evaluator.metricName: 'mae'})\n",
    "\n",
    "# Display model metrics\n",
    "print(f'RMSE (Train/Test): {train_rmse} / {test_rmse}')\n",
    "print(f'MSE (Train/Test): {train_mse} / {test_mse}')\n",
    "print(f'R2 (Train/Test): {train_r2} / {test_r2}')\n",
    "print(f'MAE (Train/Test): {train_mae} / {test_mae}')"
   ]
  },
  {
   "cell_type": "code",
   "execution_count": null,
   "metadata": {},
   "outputs": [],
   "source": [
    "# Display train results\n",
    "train_results = train_preds.select(target, 'prediction').toPandas()\n",
    "(\n",
    "    ggplot(train_results, aes(x='medv', y='prediction')) + \n",
    "        geom_point() + \n",
    "        geom_abline(slope=1, intercept=0, colour='red')\n",
    ")"
   ]
  },
  {
   "cell_type": "code",
   "execution_count": null,
   "metadata": {},
   "outputs": [],
   "source": [
    "# Display test results\n",
    "test_results = test_preds.select(target, 'prediction').toPandas()\n",
    "(\n",
    "    ggplot(test_results, aes(x='medv', y='prediction')) + \n",
    "        geom_point() + \n",
    "        geom_abline(slope=1, intercept=0, colour='red')\n",
    ")"
   ]
  },
  {
   "cell_type": "markdown",
   "metadata": {},
   "source": [
    "## Decision tree"
   ]
  },
  {
   "cell_type": "markdown",
   "metadata": {},
   "source": [
    "### Create the model"
   ]
  },
  {
   "cell_type": "code",
   "execution_count": null,
   "metadata": {},
   "outputs": [],
   "source": [
    "# Create the decission tree regressor\n",
    "tree = DecisionTreeRegressor(\n",
    "    featuresCol='features', \n",
    "    labelCol=target, \n",
    "    predictionCol='prediction', \n",
    "    maxDepth=5,\n",
    "    minInstancesPerNode=1\n",
    ")"
   ]
  },
  {
   "cell_type": "markdown",
   "metadata": {},
   "source": [
    "### Train and analyze the model"
   ]
  },
  {
   "cell_type": "code",
   "execution_count": null,
   "metadata": {},
   "outputs": [],
   "source": [
    "# Train the model\n",
    "trained_tree = tree.fit(train)"
   ]
  },
  {
   "cell_type": "code",
   "execution_count": null,
   "metadata": {},
   "outputs": [],
   "source": [
    "# Display feature importance\n",
    "importance = trained_tree.featureImportances.toArray()\n",
    "results = pd.DataFrame({\n",
    "    'features': features, \n",
    "    'importance': importance,\n",
    "})\n",
    "(\n",
    "    ggplot(results, aes(x='features', y='importance')) + \n",
    "        geom_bar(stat='identity') + \n",
    "        coord_flip() + \n",
    "        scale_x_discrete(limits=results.sort_values('importance')['features'])\n",
    ")"
   ]
  },
  {
   "cell_type": "markdown",
   "metadata": {},
   "source": [
    "### Evaluate the model"
   ]
  },
  {
   "cell_type": "code",
   "execution_count": null,
   "metadata": {},
   "outputs": [],
   "source": [
    "# Retrieve predictions in train and test\n",
    "train_preds = trained_tree.transform(train)\n",
    "test_preds = trained_tree.transform(test)\n",
    "\n",
    "# Create an evaluator \n",
    "evaluator = RegressionEvaluator(predictionCol='prediction', labelCol=target)"
   ]
  },
  {
   "cell_type": "code",
   "execution_count": null,
   "metadata": {},
   "outputs": [],
   "source": [
    "# Evaluate in train\n",
    "train_rmse = evaluator.evaluate(train_preds, {evaluator.metricName: 'rmse'})\n",
    "train_mse = evaluator.evaluate(train_preds, {evaluator.metricName: 'mse'})\n",
    "train_r2 = evaluator.evaluate(train_preds, {evaluator.metricName: 'r2'})\n",
    "train_mae = evaluator.evaluate(train_preds, {evaluator.metricName: 'mae'})\n",
    "\n",
    "# Evaluate in test\n",
    "test_rmse = evaluator.evaluate(test_preds, {evaluator.metricName: 'rmse'})\n",
    "test_mse = evaluator.evaluate(test_preds, {evaluator.metricName: 'mse'})\n",
    "test_r2 = evaluator.evaluate(test_preds, {evaluator.metricName: 'r2'})\n",
    "test_mae = evaluator.evaluate(test_preds, {evaluator.metricName: 'mae'})\n",
    "\n",
    "# Display model metrics\n",
    "print(f'RMSE (Train/Test): {train_rmse} / {test_rmse}')\n",
    "print(f'MSE (Train/Test): {train_mse} / {test_mse}')\n",
    "print(f'R2 (Train/Test): {train_r2} / {test_r2}')\n",
    "print(f'MAE (Train/Test): {train_mae} / {test_mae}')"
   ]
  },
  {
   "cell_type": "code",
   "execution_count": null,
   "metadata": {},
   "outputs": [],
   "source": [
    "# Display results in train\n",
    "train_results = train_preds.select(target, 'prediction').toPandas()\n",
    "(\n",
    "    ggplot(train_results, aes(x='medv', y='prediction')) + \n",
    "        geom_point() + \n",
    "        geom_abline(slope=1, intercept=0, colour='red')\n",
    ")"
   ]
  },
  {
   "cell_type": "code",
   "execution_count": null,
   "metadata": {},
   "outputs": [],
   "source": [
    "# Display results in test\n",
    "test_results = test_preds.select(target, 'prediction').toPandas()\n",
    "(\n",
    "    ggplot(test_results, aes(x='medv', y='prediction')) + \n",
    "        geom_point() + \n",
    "        geom_abline(slope=1, intercept=0, colour='red')\n",
    ")"
   ]
  },
  {
   "cell_type": "markdown",
   "metadata": {},
   "source": [
    "## Random forest"
   ]
  },
  {
   "cell_type": "markdown",
   "metadata": {},
   "source": [
    "### Create the model"
   ]
  },
  {
   "cell_type": "code",
   "execution_count": null,
   "metadata": {},
   "outputs": [],
   "source": [
    "# Create a random forest regressor\n",
    "rf = RandomForestRegressor(\n",
    "    featuresCol='features', \n",
    "    labelCol=target, \n",
    "    predictionCol='prediction', \n",
    "    numTrees=100,\n",
    "    maxDepth=8,\n",
    "    minInstancesPerNode=5\n",
    ")"
   ]
  },
  {
   "cell_type": "markdown",
   "metadata": {},
   "source": [
    "### Train and analyze the model"
   ]
  },
  {
   "cell_type": "code",
   "execution_count": null,
   "metadata": {},
   "outputs": [],
   "source": [
    "# Train the model\n",
    "trained_rf = rf.fit(train)"
   ]
  },
  {
   "cell_type": "code",
   "execution_count": null,
   "metadata": {},
   "outputs": [],
   "source": [
    "# Display the feature importance\n",
    "importance = trained_rf.featureImportances.toArray()\n",
    "results = pd.DataFrame({\n",
    "    'features': features, \n",
    "    'importance': importance,\n",
    "})\n",
    "(\n",
    "    ggplot(results, aes(x='features', y='importance')) + \n",
    "        geom_bar(stat='identity') + \n",
    "        coord_flip() + \n",
    "        scale_x_discrete(limits=results.sort_values('importance')['features'])\n",
    ")"
   ]
  },
  {
   "cell_type": "markdown",
   "metadata": {},
   "source": [
    "### Evaluate the model"
   ]
  },
  {
   "cell_type": "code",
   "execution_count": null,
   "metadata": {},
   "outputs": [],
   "source": [
    "# Retrieve predictions in train and test\n",
    "train_preds = trained_rf.transform(train)\n",
    "test_preds = trained_rf.transform(test)\n",
    "\n",
    "# Create a evaluator\n",
    "evaluator = RegressionEvaluator(predictionCol='prediction', labelCol=target)"
   ]
  },
  {
   "cell_type": "code",
   "execution_count": null,
   "metadata": {},
   "outputs": [],
   "source": [
    "# Evaluate in train\n",
    "train_rmse = evaluator.evaluate(train_preds, {evaluator.metricName: 'rmse'})\n",
    "train_mse = evaluator.evaluate(train_preds, {evaluator.metricName: 'mse'})\n",
    "train_r2 = evaluator.evaluate(train_preds, {evaluator.metricName: 'r2'})\n",
    "train_mae = evaluator.evaluate(train_preds, {evaluator.metricName: 'mae'})\n",
    "\n",
    "# Evaluate in test\n",
    "test_rmse = evaluator.evaluate(test_preds, {evaluator.metricName: 'rmse'})\n",
    "test_mse = evaluator.evaluate(test_preds, {evaluator.metricName: 'mse'})\n",
    "test_r2 = evaluator.evaluate(test_preds, {evaluator.metricName: 'r2'})\n",
    "test_mae = evaluator.evaluate(test_preds, {evaluator.metricName: 'mae'})\n",
    "\n",
    "# Display model metrics\n",
    "print(f'RMSE (Train/Test): {train_rmse} / {test_rmse}')\n",
    "print(f'MSE (Train/Test): {train_mse} / {test_mse}')\n",
    "print(f'R2 (Train/Test): {train_r2} / {test_r2}')\n",
    "print(f'MAE (Train/Test): {train_mae} / {test_mae}')"
   ]
  },
  {
   "cell_type": "code",
   "execution_count": null,
   "metadata": {},
   "outputs": [],
   "source": [
    "# Display results in train\n",
    "train_results = train_preds.select(target, 'prediction').toPandas()\n",
    "(\n",
    "    ggplot(train_results, aes(x='medv', y='prediction')) + \n",
    "        geom_point() + \n",
    "        geom_abline(slope=1, intercept=0, colour='red')\n",
    ")"
   ]
  },
  {
   "cell_type": "code",
   "execution_count": null,
   "metadata": {},
   "outputs": [],
   "source": [
    "# Display results in test\n",
    "test_results = test_preds.select(target, 'prediction').toPandas()\n",
    "(\n",
    "    ggplot(test_results, aes(x='medv', y='prediction')) + \n",
    "        geom_point() + \n",
    "        geom_abline(slope=1, intercept=0, colour='red')\n",
    ")"
   ]
  },
  {
   "cell_type": "markdown",
   "metadata": {},
   "source": [
    "## Gradient Boosted Tree"
   ]
  },
  {
   "cell_type": "markdown",
   "metadata": {},
   "source": [
    "### Create the model"
   ]
  },
  {
   "cell_type": "code",
   "execution_count": null,
   "metadata": {},
   "outputs": [],
   "source": [
    "# Create a GBT regressor\n",
    "gbt = GBTRegressor(\n",
    "    featuresCol='features', \n",
    "    labelCol=target, \n",
    "    predictionCol='prediction', \n",
    "    maxIter=20,\n",
    "    maxDepth=8,\n",
    "    minInstancesPerNode=5\n",
    ")"
   ]
  },
  {
   "cell_type": "markdown",
   "metadata": {},
   "source": [
    "### Train and analyze the model"
   ]
  },
  {
   "cell_type": "code",
   "execution_count": null,
   "metadata": {},
   "outputs": [],
   "source": [
    "# Train the model\n",
    "trained_gbt = gbt.fit(train)"
   ]
  },
  {
   "cell_type": "code",
   "execution_count": null,
   "metadata": {},
   "outputs": [],
   "source": [
    "# Diplay feature importance\n",
    "importance = trained_gbt.featureImportances.toArray()\n",
    "results = pd.DataFrame({\n",
    "    'features': features, \n",
    "    'importance': importance,\n",
    "})\n",
    "(\n",
    "    ggplot(results, aes(x='features', y='importance')) + \n",
    "        geom_bar(stat='identity') + \n",
    "        coord_flip() + \n",
    "        scale_x_discrete(limits=results.sort_values('importance')['features'])\n",
    ")"
   ]
  },
  {
   "cell_type": "markdown",
   "metadata": {},
   "source": [
    "### Evaluate the model"
   ]
  },
  {
   "cell_type": "code",
   "execution_count": null,
   "metadata": {},
   "outputs": [],
   "source": [
    "# Retrieve predictions in train and test\n",
    "train_preds = trained_gbt.transform(train)\n",
    "test_preds = trained_gbt.transform(test)\n",
    "\n",
    "# Create an evaluator\n",
    "evaluator = RegressionEvaluator(predictionCol='prediction', labelCol=target)"
   ]
  },
  {
   "cell_type": "code",
   "execution_count": null,
   "metadata": {},
   "outputs": [],
   "source": [
    "# Evaluate in train\n",
    "train_rmse = evaluator.evaluate(train_preds, {evaluator.metricName: 'rmse'})\n",
    "train_mse = evaluator.evaluate(train_preds, {evaluator.metricName: 'mse'})\n",
    "train_r2 = evaluator.evaluate(train_preds, {evaluator.metricName: 'r2'})\n",
    "train_mae = evaluator.evaluate(train_preds, {evaluator.metricName: 'mae'})\n",
    "\n",
    "# Evaluate in test\n",
    "test_rmse = evaluator.evaluate(test_preds, {evaluator.metricName: 'rmse'})\n",
    "test_mse = evaluator.evaluate(test_preds, {evaluator.metricName: 'mse'})\n",
    "test_r2 = evaluator.evaluate(test_preds, {evaluator.metricName: 'r2'})\n",
    "test_mae = evaluator.evaluate(test_preds, {evaluator.metricName: 'mae'})\n",
    "\n",
    "# Display model metrics\n",
    "print(f'RMSE (Train/Test): {train_rmse} / {test_rmse}')\n",
    "print(f'MSE (Train/Test): {train_mse} / {test_mse}')\n",
    "print(f'R2 (Train/Test): {train_r2} / {test_r2}')\n",
    "print(f'MAE (Train/Test): {train_mae} / {test_mae}')"
   ]
  },
  {
   "cell_type": "code",
   "execution_count": null,
   "metadata": {},
   "outputs": [],
   "source": [
    "# Display results in train\n",
    "train_results = train_preds.select(target, 'prediction').toPandas()\n",
    "(\n",
    "    ggplot(train_results, aes(x='medv', y='prediction')) + \n",
    "        geom_point() + \n",
    "        geom_abline(slope=1, intercept=0, colour='red')\n",
    ")"
   ]
  },
  {
   "cell_type": "code",
   "execution_count": null,
   "metadata": {},
   "outputs": [],
   "source": [
    "# Display results in test\n",
    "test_results = test_preds.select(target, 'prediction').toPandas()\n",
    "(\n",
    "    ggplot(test_results, aes(x='medv', y='prediction')) + \n",
    "        geom_point() + \n",
    "        geom_abline(slope=1, intercept=0, colour='red')\n",
    ")"
   ]
  },
  {
   "cell_type": "markdown",
   "metadata": {},
   "source": [
    "## Close the Spark session"
   ]
  },
  {
   "cell_type": "code",
   "execution_count": null,
   "metadata": {},
   "outputs": [],
   "source": [
    "spark.stop()"
   ]
  }
 ],
 "metadata": {
  "kernelspec": {
   "display_name": "Python 3 (ipykernel)",
   "language": "python",
   "name": "python3"
  },
  "language_info": {
   "codemirror_mode": {
    "name": "ipython",
    "version": 3
   },
   "file_extension": ".py",
   "mimetype": "text/x-python",
   "name": "python",
   "nbconvert_exporter": "python",
   "pygments_lexer": "ipython3",
   "version": "3.8.0"
  }
 },
 "nbformat": 4,
 "nbformat_minor": 4
}
