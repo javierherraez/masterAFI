{
 "cells": [
  {
   "cell_type": "markdown",
   "metadata": {},
   "source": [
    "# Spark ML - Tuning"
   ]
  },
  {
   "cell_type": "markdown",
   "metadata": {},
   "source": [
    "## Prepare the Spark session"
   ]
  },
  {
   "cell_type": "code",
   "execution_count": null,
   "metadata": {},
   "outputs": [],
   "source": [
    "# Import findspark\n",
    "import findspark\n",
    "\n",
    "# Configure the environment\n",
    "findspark.init()\n",
    "\n",
    "# Import the Spark components required for the session creation\n",
    "from pyspark import SparkConf\n",
    "from pyspark.sql import SparkSession\n",
    "\n",
    "# Configure and create the session\n",
    "conf = SparkConf()\n",
    "conf = conf.setAppName('mds-session')\n",
    "conf = conf.setMaster('local[*]')\n",
    "spark = SparkSession.builder.config(conf = conf).getOrCreate()"
   ]
  },
  {
   "cell_type": "markdown",
   "metadata": {},
   "source": [
    "## Package import"
   ]
  },
  {
   "cell_type": "code",
   "execution_count": null,
   "metadata": {},
   "outputs": [],
   "source": [
    "# Import required packages\n",
    "import pandas as pd\n",
    "from plotnine import *\n",
    "from plotnine import options as plot_options\n",
    "from pyspark.sql import functions as F\n",
    "from pyspark.ml.feature import VectorAssembler\n",
    "from pyspark.ml.regression import (\n",
    "    LinearRegression\n",
    ")\n",
    "from pyspark.ml.evaluation import RegressionEvaluator\n",
    "from pyspark.ml.tuning import (\n",
    "    ParamGridBuilder,\n",
    "    TrainValidationSplit,\n",
    "    CrossValidator\n",
    ")"
   ]
  },
  {
   "cell_type": "markdown",
   "metadata": {},
   "source": [
    "## Read a sample CSV"
   ]
  },
  {
   "cell_type": "code",
   "execution_count": null,
   "metadata": {},
   "outputs": [],
   "source": [
    "# Read a sample data set\n",
    "data = spark.read.options(sep=',', header=True, inferSchema=True).csv('./data/housing.csv')"
   ]
  },
  {
   "cell_type": "markdown",
   "metadata": {},
   "source": [
    "## Target vs. features"
   ]
  },
  {
   "cell_type": "code",
   "execution_count": null,
   "metadata": {},
   "outputs": [],
   "source": [
    "target = 'medv'\n",
    "features = [col for col in data.columns if col != target]"
   ]
  },
  {
   "cell_type": "markdown",
   "metadata": {},
   "source": [
    "## Vectorize inputs"
   ]
  },
  {
   "cell_type": "code",
   "execution_count": null,
   "metadata": {},
   "outputs": [],
   "source": [
    "# Create the assembler\n",
    "assembler = VectorAssembler(inputCols=features, outputCol='features')\n",
    "\n",
    "# Apply the transformation\n",
    "vectorized_data = assembler.transform(data)\n",
    "\n",
    "# Check the transformed data\n",
    "vectorized_data.show(5)"
   ]
  },
  {
   "cell_type": "markdown",
   "metadata": {},
   "source": [
    "## Split train-test"
   ]
  },
  {
   "cell_type": "code",
   "execution_count": null,
   "metadata": {},
   "outputs": [],
   "source": [
    "# Spilt train test (70-30)\n",
    "train, test = vectorized_data.randomSplit([0.9, 0.1])\n",
    "print(f'Train size: {train.count()}')\n",
    "print(f'Test size: {test.count()}')"
   ]
  },
  {
   "cell_type": "markdown",
   "metadata": {},
   "source": [
    "## Create the estimator"
   ]
  },
  {
   "cell_type": "code",
   "execution_count": null,
   "metadata": {},
   "outputs": [],
   "source": [
    "# Create a linear regressor\n",
    "lr = LinearRegression(\n",
    "    featuresCol='features', \n",
    "    labelCol=target, \n",
    "    predictionCol='prediction', \n",
    "    regParam=0,\n",
    "    elasticNetParam=0,\n",
    "    fitIntercept=True,\n",
    "    standardization=False\n",
    ")"
   ]
  },
  {
   "cell_type": "markdown",
   "metadata": {},
   "source": [
    "## Create the evaluator"
   ]
  },
  {
   "cell_type": "code",
   "execution_count": null,
   "metadata": {},
   "outputs": [],
   "source": [
    "# Create an evaluator\n",
    "evaluator = RegressionEvaluator(predictionCol='prediction', labelCol=target, metricName='rmse')"
   ]
  },
  {
   "cell_type": "markdown",
   "metadata": {},
   "source": [
    "## Create the parameter grid"
   ]
  },
  {
   "cell_type": "code",
   "execution_count": null,
   "metadata": {},
   "outputs": [],
   "source": [
    "# Create the whole param combinations to check\n",
    "params = ParamGridBuilder() \\\n",
    "    .addGrid(lr.regParam, [0, 0.5, 1.0]) \\\n",
    "    .addGrid(lr.elasticNetParam, [0, 0.5, 1.0]) \\\n",
    "    .addGrid(lr.fitIntercept, [False, True]) \\\n",
    "    .build()"
   ]
  },
  {
   "cell_type": "markdown",
   "metadata": {},
   "source": [
    "## TrainValidationSplit"
   ]
  },
  {
   "cell_type": "markdown",
   "metadata": {},
   "source": [
    "### Create the model"
   ]
  },
  {
   "cell_type": "code",
   "execution_count": null,
   "metadata": {},
   "outputs": [],
   "source": [
    "# Create the train validation split\n",
    "tvs = TrainValidationSplit(estimator=lr, evaluator=evaluator, estimatorParamMaps=params, trainRatio=0.7)"
   ]
  },
  {
   "cell_type": "markdown",
   "metadata": {},
   "source": [
    "### Train and analyze the model"
   ]
  },
  {
   "cell_type": "code",
   "execution_count": null,
   "metadata": {},
   "outputs": [],
   "source": [
    "# Entrenamos el modelo\n",
    "trained_tvs = tvs.fit(train)"
   ]
  },
  {
   "cell_type": "code",
   "execution_count": null,
   "metadata": {
    "tags": []
   },
   "outputs": [],
   "source": [
    "# Retrieve the results obtained by each combination\n",
    "for i, combination in enumerate(params):\n",
    "    combination_values = {}\n",
    "    for param, value in combination.items():\n",
    "        combination_values[param.name] = value\n",
    "    print(f'{combination_values} --> {trained_tvs.validationMetrics[i]}')"
   ]
  },
  {
   "cell_type": "code",
   "execution_count": null,
   "metadata": {},
   "outputs": [],
   "source": [
    "# Retrieve best model\n",
    "best_lr = trained_tvs.bestModel"
   ]
  },
  {
   "cell_type": "code",
   "execution_count": null,
   "metadata": {},
   "outputs": [],
   "source": [
    "# Retrieve the parameters of the best model\n",
    "for param, value in best_lr.extractParamMap().items():\n",
    "    print(f'{param.name}: {value}')"
   ]
  },
  {
   "cell_type": "code",
   "execution_count": null,
   "metadata": {},
   "outputs": [],
   "source": [
    "# Retrieve the whole set of coefficients + intercept\n",
    "coefs = list(best_lr.coefficients.toArray()) + [best_lr.intercept]\n",
    "pvalues = best_lr.summary.pValues\n",
    "pd.DataFrame({\n",
    "    'features': features + ['Intercept'], \n",
    "    'coefficients': coefs,\n",
    "    'pvalues': pvalues\n",
    "})"
   ]
  },
  {
   "cell_type": "markdown",
   "metadata": {},
   "source": [
    "### Evaluate the model"
   ]
  },
  {
   "cell_type": "code",
   "execution_count": null,
   "metadata": {},
   "outputs": [],
   "source": [
    "# Retrieve predictions in train and test\n",
    "train_preds = best_lr.transform(train)\n",
    "test_preds = best_lr.transform(test)\n",
    "\n",
    "# Create the evaluator\n",
    "evaluator = RegressionEvaluator(predictionCol='prediction', labelCol=target)"
   ]
  },
  {
   "cell_type": "code",
   "execution_count": null,
   "metadata": {},
   "outputs": [],
   "source": [
    "# Evaluate in train\n",
    "train_rmse = evaluator.evaluate(train_preds, {evaluator.metricName: 'rmse'})\n",
    "train_mse = evaluator.evaluate(train_preds, {evaluator.metricName: 'mse'})\n",
    "train_r2 = evaluator.evaluate(train_preds, {evaluator.metricName: 'r2'})\n",
    "train_mae = evaluator.evaluate(train_preds, {evaluator.metricName: 'mae'})\n",
    "\n",
    "# Evaluate in test\n",
    "test_rmse = evaluator.evaluate(test_preds, {evaluator.metricName: 'rmse'})\n",
    "test_mse = evaluator.evaluate(test_preds, {evaluator.metricName: 'mse'})\n",
    "test_r2 = evaluator.evaluate(test_preds, {evaluator.metricName: 'r2'})\n",
    "test_mae = evaluator.evaluate(test_preds, {evaluator.metricName: 'mae'})\n",
    "\n",
    "# Display model metrics\n",
    "print(f'RMSE (Train/Test): {train_rmse} / {test_rmse}')\n",
    "print(f'MSE (Train/Test): {train_mse} / {test_mse}')\n",
    "print(f'R2 (Train/Test): {train_r2} / {test_r2}')\n",
    "print(f'MAE (Train/Test): {train_mae} / {test_mae}')"
   ]
  },
  {
   "cell_type": "code",
   "execution_count": null,
   "metadata": {},
   "outputs": [],
   "source": [
    "# Display train results\n",
    "train_results = train_preds.select(target, 'prediction').toPandas()\n",
    "(\n",
    "    ggplot(train_results, aes(x='medv', y='prediction')) + \n",
    "        geom_point() + \n",
    "        geom_abline(slope=1, intercept=0, colour='red')\n",
    ")"
   ]
  },
  {
   "cell_type": "code",
   "execution_count": null,
   "metadata": {},
   "outputs": [],
   "source": [
    "# Display test results\n",
    "test_results = test_preds.select(target, 'prediction').toPandas()\n",
    "(\n",
    "    ggplot(test_results, aes(x='medv', y='prediction')) + \n",
    "        geom_point() + \n",
    "        geom_abline(slope=1, intercept=0, colour='red')\n",
    ")"
   ]
  },
  {
   "cell_type": "markdown",
   "metadata": {},
   "source": [
    "## CrossValidator"
   ]
  },
  {
   "cell_type": "markdown",
   "metadata": {},
   "source": [
    "### Create the model"
   ]
  },
  {
   "cell_type": "code",
   "execution_count": null,
   "metadata": {},
   "outputs": [],
   "source": [
    "# Create the CrossValidator model\n",
    "cv = CrossValidator(estimator=lr, evaluator=evaluator, estimatorParamMaps=params, numFolds=3)"
   ]
  },
  {
   "cell_type": "markdown",
   "metadata": {},
   "source": [
    "### Train and analyze the model"
   ]
  },
  {
   "cell_type": "code",
   "execution_count": null,
   "metadata": {},
   "outputs": [],
   "source": [
    "# Entrenamos nuestro modelo\n",
    "trained_cv = cv.fit(train)"
   ]
  },
  {
   "cell_type": "code",
   "execution_count": null,
   "metadata": {},
   "outputs": [],
   "source": [
    "# Retrieve the results obtained by each combination\n",
    "for i, combination in enumerate(params):\n",
    "    combination_values = {}\n",
    "    for param, value in combination.items():\n",
    "        combination_values[param.name] = value\n",
    "    print(f'{combination_values} --> {trained_cv.avgMetrics[i]}')"
   ]
  },
  {
   "cell_type": "code",
   "execution_count": null,
   "metadata": {},
   "outputs": [],
   "source": [
    "# Retrieve best model\n",
    "best_lr = trained_cv.bestModel"
   ]
  },
  {
   "cell_type": "code",
   "execution_count": null,
   "metadata": {},
   "outputs": [],
   "source": [
    "# Retrieve the configuration of the best model\n",
    "for param, value in best_lr.extractParamMap().items():\n",
    "    print(f'{param.name}: {value}')"
   ]
  },
  {
   "cell_type": "code",
   "execution_count": null,
   "metadata": {},
   "outputs": [],
   "source": [
    "# Retrieve the whole list of coefficients + intercept\n",
    "coefs = list(best_lr.coefficients.toArray()) + [best_lr.intercept]\n",
    "pvalues = best_lr.summary.pValues\n",
    "pd.DataFrame({\n",
    "    'features': features + ['Intercept'], \n",
    "    'coefficients': coefs,\n",
    "    'pvalues': pvalues\n",
    "})"
   ]
  },
  {
   "cell_type": "markdown",
   "metadata": {},
   "source": [
    "### Evaluate the model"
   ]
  },
  {
   "cell_type": "code",
   "execution_count": null,
   "metadata": {},
   "outputs": [],
   "source": [
    "# Retrieve predictions in train and test\n",
    "train_preds = best_lr.transform(train)\n",
    "test_preds = best_lr.transform(test)\n",
    "\n",
    "# Create the evaluator\n",
    "evaluator = RegressionEvaluator(predictionCol='prediction', labelCol=target)"
   ]
  },
  {
   "cell_type": "code",
   "execution_count": null,
   "metadata": {},
   "outputs": [],
   "source": [
    "# Evalute in train\n",
    "train_rmse = evaluator.evaluate(train_preds, {evaluator.metricName: 'rmse'})\n",
    "train_mse = evaluator.evaluate(train_preds, {evaluator.metricName: 'mse'})\n",
    "train_r2 = evaluator.evaluate(train_preds, {evaluator.metricName: 'r2'})\n",
    "train_mae = evaluator.evaluate(train_preds, {evaluator.metricName: 'mae'})\n",
    "\n",
    "# Evaluate in test\n",
    "test_rmse = evaluator.evaluate(test_preds, {evaluator.metricName: 'rmse'})\n",
    "test_mse = evaluator.evaluate(test_preds, {evaluator.metricName: 'mse'})\n",
    "test_r2 = evaluator.evaluate(test_preds, {evaluator.metricName: 'r2'})\n",
    "test_mae = evaluator.evaluate(test_preds, {evaluator.metricName: 'mae'})\n",
    "\n",
    "# Display model metrics\n",
    "print(f'RMSE (Train/Test): {train_rmse} / {test_rmse}')\n",
    "print(f'MSE (Train/Test): {train_mse} / {test_mse}')\n",
    "print(f'R2 (Train/Test): {train_r2} / {test_r2}')\n",
    "print(f'MAE (Train/Test): {train_mae} / {test_mae}')"
   ]
  },
  {
   "cell_type": "code",
   "execution_count": null,
   "metadata": {},
   "outputs": [],
   "source": [
    "# Display train results\n",
    "train_results = train_preds.select(target, 'prediction').toPandas()\n",
    "(\n",
    "    ggplot(train_results, aes(x='medv', y='prediction')) + \n",
    "        geom_point() + \n",
    "        geom_abline(slope=1, intercept=0, colour='red')\n",
    ")"
   ]
  },
  {
   "cell_type": "code",
   "execution_count": null,
   "metadata": {},
   "outputs": [],
   "source": [
    "# Display test results\n",
    "test_results = test_preds.select(target, 'prediction').toPandas()\n",
    "(\n",
    "    ggplot(test_results, aes(x='medv', y='prediction')) + \n",
    "        geom_point() + \n",
    "        geom_abline(slope=1, intercept=0, colour='red')\n",
    ")"
   ]
  },
  {
   "cell_type": "markdown",
   "metadata": {},
   "source": [
    "### Close the Spark session"
   ]
  },
  {
   "cell_type": "code",
   "execution_count": null,
   "metadata": {},
   "outputs": [],
   "source": [
    "spark.stop()"
   ]
  }
 ],
 "metadata": {
  "kernelspec": {
   "display_name": "Python 3 (ipykernel)",
   "language": "python",
   "name": "python3"
  },
  "language_info": {
   "codemirror_mode": {
    "name": "ipython",
    "version": 3
   },
   "file_extension": ".py",
   "mimetype": "text/x-python",
   "name": "python",
   "nbconvert_exporter": "python",
   "pygments_lexer": "ipython3",
   "version": "3.8.0"
  }
 },
 "nbformat": 4,
 "nbformat_minor": 4
}
