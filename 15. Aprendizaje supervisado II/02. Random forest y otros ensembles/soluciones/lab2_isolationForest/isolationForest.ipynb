{
 "cells": [
  {
   "cell_type": "markdown",
   "source": [
    "# Lab assignment: Isolation Forests"
   ],
   "metadata": {
    "nbgrader": {
     "grade": false,
     "locked": false,
     "solution": false
    }
   }
  },
  {
   "cell_type": "markdown",
   "source": [
    "<img src=\"https://albarji-labs-materials.s3-eu-west-1.amazonaws.com/omaForest.jpg\"/>"
   ],
   "metadata": {
    "nbgrader": {
     "grade": false,
     "locked": false,
     "solution": false
    }
   }
  },
  {
   "cell_type": "markdown",
   "source": [
    "<div style=\"float: right;\">(Oma Forest, Basque Country, photo by <a href=https://commons.wikimedia.org/wiki/File:Bosque_de_Oma_%2821%29.JPG>Wikipedia Commons</a>)</div>"
   ],
   "metadata": {}
  },
  {
   "cell_type": "markdown",
   "source": [
    "In this assignment we will make use of the Isolation Forest method for density estimation and outlier detection tasks. We will first test this model to compute the density of an unknown distribution, and then for the everyday task of saving our lives on board of a submarine. Because lab assignments are so much fun when you might not get to survive them. ^__^"
   ],
   "metadata": {
    "nbgrader": {
     "grade": false,
     "locked": false,
     "solution": false
    }
   }
  },
  {
   "cell_type": "markdown",
   "source": [
    "## Guidelines"
   ],
   "metadata": {
    "nbgrader": {
     "grade": false,
     "locked": false,
     "solution": false
    }
   }
  },
  {
   "cell_type": "markdown",
   "source": [
    "Throughout this notebook you will find empty cells that you will need to fill with your own code. Follow the instructions in the notebook and pay special attention to the following symbols.\n",
    "\n",
    "<img src=\"https://albarji-labs-materials.s3-eu-west-1.amazonaws.com/question.png\" height=\"80\" width=\"80\" style=\"float: right;\"/>\n",
    "\n",
    "***\n",
    "\n",
    "<font color=#ad3e26>\n",
    "You will need to solve a question by writing your own code or answer in the cell immediately below or in a different file, as instructed.</font>\n",
    "\n",
    "***"
   ],
   "metadata": {
    "nbgrader": {
     "grade": false,
     "locked": false,
     "solution": false
    }
   }
  },
  {
   "cell_type": "markdown",
   "source": [
    "<img src=\"https://albarji-labs-materials.s3-eu-west-1.amazonaws.com/exclamation.png\" height=\"80\" width=\"80\" style=\"float: right;\"/>\n",
    "\n",
    "***\n",
    "<font color=#2655ad>\n",
    "This is a hint or useful observation that can help you solve this assignment. You should pay attention to these hints to better understand the assignment.\n",
    "</font>\n",
    "\n",
    "***"
   ],
   "metadata": {}
  },
  {
   "cell_type": "markdown",
   "source": [
    "<img src=\"https://albarji-labs-materials.s3-eu-west-1.amazonaws.com/pro.png\" height=\"80\" width=\"80\" style=\"float: right;\"/>\n",
    "\n",
    "***\n",
    "<font color=#259b4c>\n",
    "This is an advanced exercise that can help you gain a deeper knowledge into the topic. Good luck!</font>\n",
    "\n",
    "***"
   ],
   "metadata": {}
  },
  {
   "cell_type": "markdown",
   "source": [
    "To avoid missing packages and compatibility issues you should run this notebook under one of the [recommended Ensembles environment files](https://github.com/albarji/teaching-environments-ensembles)."
   ],
   "metadata": {}
  },
  {
   "cell_type": "markdown",
   "source": [
    "The following code will embed any plots into the notebook instead of generating a new window, and set the random seed."
   ],
   "metadata": {}
  },
  {
   "cell_type": "code",
   "execution_count": 1,
   "source": [
    "import matplotlib.pyplot as plt\r\n",
    "import seaborn as sns\r\n",
    "%matplotlib inline\r\n",
    "\r\n",
    "import numpy as np\r\n",
    "np.random.seed(42)"
   ],
   "outputs": [],
   "metadata": {}
  },
  {
   "cell_type": "markdown",
   "source": [
    "Lastly, if you need any help on the usage of a Python function you can place the writing cursor over its name and press Shift+Tab to produce a pop-out with related documentation. This will only work inside code cells. \n",
    "\n",
    "Let's go!"
   ],
   "metadata": {}
  },
  {
   "cell_type": "markdown",
   "source": [
    "## Isolation Forest basics"
   ],
   "metadata": {}
  },
  {
   "cell_type": "markdown",
   "source": [
    "Although the Isolation Forest algorithm is a simple modification of the Random Forest algorith, scikit-learn already implements these modifications for us, so we can easily make use of this anomaly detection model. We just need to import the **IsolationForest** class:"
   ],
   "metadata": {}
  },
  {
   "cell_type": "code",
   "execution_count": 2,
   "source": [
    "from sklearn.ensemble import IsolationForest"
   ],
   "outputs": [],
   "metadata": {}
  },
  {
   "cell_type": "markdown",
   "source": [
    "The IsolationForest object follows closely the interface of other machine learning methods available in scikit-learn. That means we just need to follow the usual steps of creating, fitting and then making use of the fitted model. At creation time we can also specify the different parameters of the model. Creating an IsolationForest without arguments will use the recommended values, as we can see here:"
   ],
   "metadata": {}
  },
  {
   "cell_type": "code",
   "execution_count": 3,
   "source": [
    "model = IsolationForest()\r\n",
    "model.get_params()"
   ],
   "outputs": [
    {
     "output_type": "execute_result",
     "data": {
      "text/plain": [
       "{'bootstrap': False,\n",
       " 'contamination': 'auto',\n",
       " 'max_features': 1.0,\n",
       " 'max_samples': 'auto',\n",
       " 'n_estimators': 100,\n",
       " 'n_jobs': None,\n",
       " 'random_state': None,\n",
       " 'verbose': 0,\n",
       " 'warm_start': False}"
      ]
     },
     "metadata": {},
     "execution_count": 3
    }
   ],
   "metadata": {}
  },
  {
   "cell_type": "markdown",
   "source": [
    "The most important parameters are the number of trees in the forest (*n_estimators*) and the ratio of training data that will be regarded as outliers (*contamination*). Other parameters of interest are the maximum number of instances to use for each tree in the forest (*max_samples*), and the maximum number of training features to consider in each tree (*max_features*). We will come back later to these parameters, first let's try the Isolation Forest with a simple problem."
   ],
   "metadata": {}
  },
  {
   "cell_type": "markdown",
   "source": [
    "## Density estimation"
   ],
   "metadata": {}
  },
  {
   "cell_type": "markdown",
   "source": [
    "Let us solve a simple density estimation problem. First we need data, which we will generate synthetically:"
   ],
   "metadata": {}
  },
  {
   "cell_type": "markdown",
   "source": [
    "<img src=\"https://albarji-labs-materials.s3-eu-west-1.amazonaws.com/question.png\" height=\"80\" width=\"80\" style=\"float: right;\"/>\n",
    "\n",
    "***\n",
    "\n",
    "<font color=#ad3e26>\n",
    "Create a numpy array <b>X</b> of two dimensions (a matrix), with 10000 rows and a single column. Each row should contain a random number following a gaussian distribution.\n",
    "\n",
    "***"
   ],
   "metadata": {}
  },
  {
   "cell_type": "markdown",
   "source": [
    "<img src=\"https://albarji-labs-materials.s3-eu-west-1.amazonaws.com/exclamation.png\" height=\"80\" width=\"80\" style=\"float: right;\"/>\n",
    "\n",
    "***\n",
    "<font color=#2655ad>\n",
    "You can generate random numbers following a given distribution using the functions in the <a href=https://docs.python.org/3/library/random.html>random</a> module.\n",
    "</font>\n",
    "\n",
    "***"
   ],
   "metadata": {}
  },
  {
   "cell_type": "code",
   "execution_count": 4,
   "source": [
    "####### INSERT YOUR CODE HERE\r\n",
    "import numpy as np\r\n",
    "import random\r\n",
    "X = np.array([[random.gauss(0, 1)] for i in range(10000)])"
   ],
   "outputs": [],
   "metadata": {}
  },
  {
   "cell_type": "markdown",
   "source": [
    "Let's plot the data to make sure they make sense. The following should look like a gaussian distribution:"
   ],
   "metadata": {}
  },
  {
   "cell_type": "code",
   "execution_count": 5,
   "source": [
    "import seaborn as sns\r\n",
    "sns.displot(X)"
   ],
   "outputs": [
    {
     "output_type": "execute_result",
     "data": {
      "text/plain": [
       "<seaborn.axisgrid.FacetGrid at 0x1e62fb0eee0>"
      ]
     },
     "metadata": {},
     "execution_count": 5
    },
    {
     "output_type": "display_data",
     "data": {
      "image/png": "[encoded data removed]",
      "text/plain": [
       "<Figure size 402.375x360 with 1 Axes>"
      ]
     },
     "metadata": {
      "needs_background": "light"
     }
    }
   ],
   "metadata": {}
  },
  {
   "cell_type": "markdown",
   "source": [
    "For the sake of this assignment let's assume now that we have forgotten where this data came from. You can attribute this to extreme hangover, unexpected effects of a global pandemic, or an extraterrestrial eldritch conspiracy. In such unfortunate circunstances we will make use of the Isolation Forest. First, let's train a forest with 1000 trees:"
   ],
   "metadata": {}
  },
  {
   "cell_type": "code",
   "execution_count": 6,
   "source": [
    "isoforest = IsolationForest(n_estimators=1000)\r\n",
    "isoforest.fit(X)"
   ],
   "outputs": [
    {
     "output_type": "execute_result",
     "data": {
      "text/plain": [
       "IsolationForest(n_estimators=1000)"
      ]
     },
     "metadata": {},
     "execution_count": 6
    }
   ],
   "metadata": {}
  },
  {
   "cell_type": "markdown",
   "source": [
    "Now let's create some synthetic test data, unformly spaced between -4 and -4. We will estimate the density of the original distribution over these data points:"
   ],
   "metadata": {}
  },
  {
   "cell_type": "code",
   "execution_count": 7,
   "source": [
    "testpoints = [[x] for x in np.linspace(-4, 4, 200)]"
   ],
   "outputs": [],
   "metadata": {}
  },
  {
   "cell_type": "markdown",
   "source": [
    "Scikit-learn's implementation of the IsolationForest is mostly focused on anomaly detection, not on density estimation. Because of this, the IsolationForest model does not provide of a direct of way of obtaining the average depth reached by a test data point on the forest trees, which is the usual way of computing densities on a tree. It does however provide of a normalized depth in the form of the *decision_function* method. For instance, if we take a point in the center of the gaussian (0) and another point far away from it (3) we get:"
   ],
   "metadata": {}
  },
  {
   "cell_type": "code",
   "execution_count": 8,
   "source": [
    "isoforest.decision_function([[0], [3]])"
   ],
   "outputs": [
    {
     "output_type": "execute_result",
     "data": {
      "text/plain": [
       "array([ 0.06218021, -0.25923739])"
      ]
     },
     "metadata": {},
     "execution_count": 8
    }
   ],
   "metadata": {}
  },
  {
   "cell_type": "markdown",
   "source": [
    "That is, we obtain more negative values for the points corresponding to lower density. These values are actually a normalization of the average depths reached for each test point at each tree in the IsolationForest. The normalization is done in a way that negative values should be considered anomalies. Such normalization depends on the data seen at training and the contamination parameter provided. But we will cover more on this later: for now the relevant point is that these values provided by *decision_function* can be thought as \"unnormalized\" probability densities, and as such we can plot them for our test data as follows:"
   ],
   "metadata": {}
  },
  {
   "cell_type": "code",
   "execution_count": 9,
   "source": [
    "densities = isoforest.decision_function(testpoints)\r\n",
    "plt.plot(testpoints, densities)"
   ],
   "outputs": [
    {
     "output_type": "execute_result",
     "data": {
      "text/plain": [
       "[<matplotlib.lines.Line2D at 0x1e636c249d0>]"
      ]
     },
     "metadata": {},
     "execution_count": 9
    },
    {
     "output_type": "display_data",
     "data": {
      "image/png": "[encoded data removed]",
      "text/plain": [
       "<Figure size 432x288 with 1 Axes>"
      ]
     },
     "metadata": {
      "needs_background": "light"
     }
    }
   ],
   "metadata": {
    "scrolled": true
   }
  },
  {
   "cell_type": "markdown",
   "source": [
    "If everything has worked correctly you should be able to see something that resembles the shape of the original Gaussian distribution."
   ],
   "metadata": {}
  },
  {
   "cell_type": "markdown",
   "source": [
    "## Submarine mine hunting"
   ],
   "metadata": {}
  },
  {
   "cell_type": "markdown",
   "source": [
    "<img src=\"https://albarji-labs-materials.s3-eu-west-1.amazonaws.com/radar.png\" style=\"width:300px;height:300;\">"
   ],
   "metadata": {}
  },
  {
   "cell_type": "markdown",
   "source": [
    "Now we will apply this machine learning technique for a real world problem: spotting mines through a submarine radar. This knowledge might be useful the next time you visit your regular grocery store, so pay attention."
   ],
   "metadata": {}
  },
  {
   "cell_type": "markdown",
   "source": [
    "Our submarine is equipped with a radar that returns readings of our surroundings at different wavelengths. Whenever an object is detected, a pattern of variables is created which we need to analyze to tell whether that object is a dangerous mine or just a simple and boring rock. The problem is, enemy mines are built from a brand-new technology and we don't know what they look like. So even if we have data telling us how a rock looks like, we don't have any mine data. You might have noticed, however, how important for your near-future survival is to spot these mines."
   ],
   "metadata": {}
  },
  {
   "cell_type": "markdown",
   "source": [
    "Isolation Forests to the rescue! Let's start with the available data:"
   ],
   "metadata": {}
  },
  {
   "cell_type": "markdown",
   "source": [
    "<img src=\"https://albarji-labs-materials.s3-eu-west-1.amazonaws.com/question.png\" height=\"80\" width=\"80\" style=\"float: right;\"/>\n",
    "\n",
    "***\n",
    "\n",
    "<font color=#ad3e26>\n",
    " Load the training data into a numpy array <b>X</b>. You can find the data as the <i>sonar.train</i> file. All patterns are unlabeled, so all variables present in the file are input features.\n",
    "\n",
    "***"
   ],
   "metadata": {}
  },
  {
   "cell_type": "code",
   "execution_count": 10,
   "source": [
    "####### INSERT YOUR CODE HERE\r\n",
    "import pandas as pd\r\n",
    "data = pd.read_csv(\"sonar.train\", delim_whitespace=True, header=None)\r\n",
    "X = data.values"
   ],
   "outputs": [],
   "metadata": {}
  },
  {
   "cell_type": "code",
   "execution_count": 11,
   "source": [
    "print(\"Rock training data:\", X)"
   ],
   "outputs": [
    {
     "output_type": "stream",
     "name": "stdout",
     "text": [
      "Rock training data: [[0.0856 0.0454 0.0382 ... 0.0102 0.0037 0.0037]\n",
      " [0.0119 0.0582 0.0623 ... 0.0073 0.003  0.0138]\n",
      " [0.0039 0.0063 0.0152 ... 0.0003 0.0053 0.0036]\n",
      " ...\n",
      " [0.0202 0.0104 0.0325 ... 0.0054 0.0073 0.0054]\n",
      " [0.0265 0.044  0.0137 ... 0.0081 0.0086 0.0095]\n",
      " [0.0333 0.0221 0.027  ... 0.0132 0.0051 0.0041]]\n"
     ]
    }
   ],
   "metadata": {}
  },
  {
   "cell_type": "markdown",
   "source": [
    "<img src=\"https://albarji-labs-materials.s3-eu-west-1.amazonaws.com/question.png\" height=\"80\" width=\"80\" style=\"float: right;\"/>\n",
    "\n",
    "***\n",
    "\n",
    "<font color=#ad3e26>\n",
    " Train an IsolationForest on the rocks data. Then generate a visualization of the distribution of unnormalized densities that are obtained when using the IsolationForest over the same training data.\n",
    "\n",
    "***"
   ],
   "metadata": {}
  },
  {
   "cell_type": "code",
   "execution_count": 12,
   "source": [
    "####### INSERT YOUR CODE HERE\r\n",
    "isoforest = IsolationForest(n_estimators=1000)\r\n",
    "isoforest.fit(X)\r\n",
    "sns.displot(isoforest.decision_function(X))"
   ],
   "outputs": [
    {
     "output_type": "execute_result",
     "data": {
      "text/plain": [
       "<seaborn.axisgrid.FacetGrid at 0x1e636c61850>"
      ]
     },
     "metadata": {},
     "execution_count": 12
    },
    {
     "output_type": "display_data",
     "data": {
      "image/png": "[encoded data removed]",
      "text/plain": [
       "<Figure size 360x360 with 1 Axes>"
      ]
     },
     "metadata": {
      "needs_background": "light"
     }
    }
   ],
   "metadata": {}
  },
  {
   "cell_type": "markdown",
   "source": [
    "If the model is correctly trained you should see that most values are positive."
   ],
   "metadata": {}
  },
  {
   "cell_type": "markdown",
   "source": [
    "<img src=\"https://albarji-labs-materials.s3-eu-west-1.amazonaws.com/alarm.jpg\" style=\"width:512px;height:384;\">\n",
    "<center><pre>\n",
    "<span style=\"color:#FF8080\">\n",
    "#################################################\n",
    "### ALERT ALERT ALERT ALERT ALERT ALERT ALERT ###\n",
    "#################################################\n",
    "</span>\n",
    "</pre></center>"
   ],
   "metadata": {}
  },
  {
   "cell_type": "markdown",
   "source": [
    "There is no more time, the enemy ships are attacking! Our intelligence reports say there are **15 mines** in this sector. You must find as many as you can, or else..."
   ],
   "metadata": {}
  },
  {
   "cell_type": "markdown",
   "source": [
    "<img src=\"https://albarji-labs-materials.s3-eu-west-1.amazonaws.com/question.png\" height=\"80\" width=\"80\" style=\"float: right;\"/>\n",
    "\n",
    "***\n",
    "\n",
    "<font color=#ad3e26>\n",
    " The file <i>sonar.test</i> contains labeled data, where boring rocks have been labeled as -1 and life-threatening mines as +1. Load the contents of this file into a numpy matrix <i>Xtest</i> containing the input features, and a list <i>ytest</i> containing the labels.\n",
    "\n",
    "***"
   ],
   "metadata": {}
  },
  {
   "cell_type": "code",
   "execution_count": 13,
   "source": [
    "####### INSERT YOUR CODE HERE\r\n",
    "test = pd.read_csv(\"sonar.test\", delim_whitespace=True, header=None)\r\n",
    "Xtest = test[test.columns[:-1]].values\r\n",
    "ytest = test[test.columns[-1]].values"
   ],
   "outputs": [],
   "metadata": {}
  },
  {
   "cell_type": "markdown",
   "source": [
    "<img src=\"https://albarji-labs-materials.s3-eu-west-1.amazonaws.com/question.png\" height=\"80\" width=\"80\" style=\"float: right;\"/>\n",
    "\n",
    "***\n",
    "\n",
    "<font color=#ad3e26>\n",
    " Now run the test input features through the isolation forest you trained above. The 15 objects with lowest density must be the mines! Label those objects as mines and check the accuracy of your prediction! How many mines did you manage to spot?\n",
    "\n",
    "***"
   ],
   "metadata": {}
  },
  {
   "cell_type": "markdown",
   "source": [
    "<img src=\"https://albarji-labs-materials.s3-eu-west-1.amazonaws.com/exclamation.png\" height=\"80\" width=\"80\" style=\"float: right;\"/>\n",
    "\n",
    "***\n",
    "<font color=#2655ad>\n",
    "You will need to use the <b>decision_function</b> method of the IsolationForest to obtain density values, sort those values to find to lowest ones, and recover which objects were assigned such values. Then you can check against <b>ytest</b> whether those object are real mines or not.</td></tr>\n",
    "</font>\n",
    "\n",
    "***"
   ],
   "metadata": {}
  },
  {
   "cell_type": "code",
   "execution_count": 14,
   "source": [
    "####### INSERT YOUR CODE HERE\r\n",
    "def scoretestmines(model, Xtest, ytest):\r\n",
    "    nmines = sum(ytest == 1)\r\n",
    "    scores = model.decision_function(Xtest)\r\n",
    "    sortedidx = [x[0] for x in sorted(enumerate(scores), key=lambda x: x[1])]\r\n",
    "    anomaliesidx = sortedidx[:nmines]\r\n",
    "    return sum(ytest[anomaliesidx] == 1)\r\n",
    "\r\n",
    "scoretestmines(isoforest, Xtest, ytest)"
   ],
   "outputs": [
    {
     "output_type": "execute_result",
     "data": {
      "text/plain": [
       "10"
      ]
     },
     "metadata": {},
     "execution_count": 14
    }
   ],
   "metadata": {}
  },
  {
   "cell_type": "markdown",
   "source": [
    "## Using labeled samples"
   ],
   "metadata": {}
  },
  {
   "cell_type": "markdown",
   "source": [
    "If some labeled samples are available, even if there are only a few of them, we can use them to adjust the parameters of the IsolationForest. Let's suppose we have a small sample of data from 5 mines."
   ],
   "metadata": {}
  },
  {
   "cell_type": "markdown",
   "source": [
    "<img src=\"https://albarji-labs-materials.s3-eu-west-1.amazonaws.com/question.png\" height=\"80\" width=\"80\" style=\"float: right;\"/>\n",
    "\n",
    "***\n",
    "\n",
    "<font color=#ad3e26>\n",
    " The file <i>mines.train</i> contains labeled data from 5 mines we can use for training. Create a new numpy array named <i>X2</i> that contains the input training data from both rocks and mines.\n",
    "\n",
    "***"
   ],
   "metadata": {}
  },
  {
   "cell_type": "code",
   "execution_count": 15,
   "source": [
    "####### INSERT YOUR CODE HERE\r\n",
    "mines = pd.read_csv(\"mines.train\", delim_whitespace=True, header=None)\r\n",
    "X2 = np.vstack([X, mines.values])"
   ],
   "outputs": [],
   "metadata": {}
  },
  {
   "cell_type": "markdown",
   "source": [
    "With this we have a mix of rocks and mines in the training data. We can use this mixture to choose an appropriate value for the **contamination** argument of the IsolationForest. Ideally, the contamination should be equal to the fraction of anomalies we have in our training data."
   ],
   "metadata": {}
  },
  {
   "cell_type": "markdown",
   "source": [
    "<img src=\"https://albarji-labs-materials.s3-eu-west-1.amazonaws.com/question.png\" height=\"80\" width=\"80\" style=\"float: right;\"/>\n",
    "\n",
    "***\n",
    "\n",
    "<font color=#ad3e26>\n",
    " Build a new IsolationForest named <i>isoforest</i>, setting the <i>contamination</i> parameter adequately. The value for this parameter should be the fraction of mines present in the training data X2. Then fit this model using X2.\n",
    "    \n",
    "***"
   ],
   "metadata": {}
  },
  {
   "cell_type": "code",
   "execution_count": 16,
   "source": [
    "####### INSERT YOUR CODE HERE\r\n",
    "isoforest = IsolationForest(n_estimators=1000, contamination=len(mines)/len(X2))\r\n",
    "isoforest.fit(X2)"
   ],
   "outputs": [
    {
     "output_type": "execute_result",
     "data": {
      "text/plain": [
       "IsolationForest(contamination=0.058823529411764705, n_estimators=1000)"
      ]
     },
     "metadata": {},
     "execution_count": 16
    }
   ],
   "metadata": {}
  },
  {
   "cell_type": "markdown",
   "source": [
    "Once we have an IsolationForest with a well-adjusted contamination ratio, we can use it to directly generate predictions on which test data points are likely to be anomalies. We can do this with the *predict* method from the IsolationForest model we just fitted:"
   ],
   "metadata": {}
  },
  {
   "cell_type": "code",
   "execution_count": 17,
   "source": [
    "isoforest.predict(Xtest)"
   ],
   "outputs": [
    {
     "output_type": "execute_result",
     "data": {
      "text/plain": [
       "array([ 1,  1,  1,  1,  1,  1,  1, -1,  1, -1,  1, -1, -1,  1,  1,  1,  1,\n",
       "       -1,  1, -1,  1,  1,  1, -1, -1,  1, -1,  1,  1,  1, -1,  1])"
      ]
     },
     "metadata": {},
     "execution_count": 17
    }
   ],
   "metadata": {}
  },
  {
   "cell_type": "markdown",
   "source": [
    "The IsolationForest returns 1 for those patterns than seem normal, and -1 for those that look like anomalies. Note we have not told the IsolationForest how many mines are on the test data, it is trying to infer this quantity by itself. This should work correctly if we have provided an adequate contamination value at construction time."
   ],
   "metadata": {}
  },
  {
   "cell_type": "markdown",
   "source": [
    "<img src=\"https://albarji-labs-materials.s3-eu-west-1.amazonaws.com/question.png\" height=\"80\" width=\"80\" style=\"float: right;\"/>\n",
    "\n",
    "***\n",
    "\n",
    "<font color=#ad3e26>\n",
    "How many mines from the test set have you succesfully detected now?\n",
    "    \n",
    "***"
   ],
   "metadata": {}
  },
  {
   "cell_type": "code",
   "execution_count": 18,
   "source": [
    "####### INSERT YOUR CODE HERE\r\n",
    "preds = isoforest.predict(Xtest)\r\n",
    "idx = np.where(preds == 1)\r\n",
    "sum(preds[idx] == ytest[idx])"
   ],
   "outputs": [
    {
     "output_type": "execute_result",
     "data": {
      "text/plain": [
       "7"
      ]
     },
     "metadata": {},
     "execution_count": 18
    }
   ],
   "metadata": {}
  },
  {
   "cell_type": "markdown",
   "source": [
    "As a final note, the IsolationForest model does not implement a `predict_proba` method. If we need to obtain soft predictions (for instance, to plot a ROC curve), we can resort again to the `decision_function` method."
   ],
   "metadata": {}
  },
  {
   "cell_type": "code",
   "execution_count": 19,
   "source": [
    "isoforest.decision_function(Xtest)"
   ],
   "outputs": [
    {
     "output_type": "execute_result",
     "data": {
      "text/plain": [
       "array([ 0.01056609,  0.06597111,  0.05890007,  0.09149199,  0.04567826,\n",
       "        0.02423956,  0.10301394, -0.01902471,  0.06114532, -0.05116142,\n",
       "        0.05703316, -0.08907538, -0.06424697,  0.0893662 ,  0.05111718,\n",
       "        0.02656133,  0.02755688, -0.02820094,  0.03424327, -0.0072075 ,\n",
       "        0.07702263,  0.07482993,  0.07756587, -0.00540903, -0.00317586,\n",
       "        0.05973314, -0.00123636,  0.03841572,  0.07138552,  0.09353308,\n",
       "       -0.03048994,  0.04515976])"
      ]
     },
     "metadata": {},
     "execution_count": 19
    }
   ],
   "metadata": {}
  }
 ],
 "metadata": {
  "anaconda-cloud": {},
  "kernelspec": {
   "name": "python3",
   "display_name": "Python 3.9.7 64-bit ('ensembles-labs': conda)"
  },
  "language_info": {
   "codemirror_mode": {
    "name": "ipython",
    "version": 3
   },
   "file_extension": ".py",
   "mimetype": "text/x-python",
   "name": "python",
   "nbconvert_exporter": "python",
   "pygments_lexer": "ipython3",
   "version": "3.9.7"
  },
  "interpreter": {
   "hash": "b461700dfdaff7063241dfa2f5b00d3186ab39fb0bac8d826ac417f7d79d135d"
  }
 },
 "nbformat": 4,
 "nbformat_minor": 1
}