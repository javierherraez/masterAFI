{
 "cells": [
  {
   "cell_type": "markdown",
   "metadata": {},
   "source": [
    "# Pair RDD - Exercises"
   ]
  },
  {
   "cell_type": "markdown",
   "metadata": {},
   "source": [
    "## Prepare the Spark context"
   ]
  },
  {
   "cell_type": "code",
   "execution_count": 1,
   "metadata": {},
   "outputs": [
    {
     "name": "stderr",
     "output_type": "stream",
     "text": [
      "22/03/14 16:16:53 WARN Utils: Your hostname, mdsuser resolves to a loopback address: 127.0.1.1; using 10.0.2.15 instead (on interface enp0s3)\n",
      "22/03/14 16:16:53 WARN Utils: Set SPARK_LOCAL_IP if you need to bind to another address\n",
      "Using Spark's default log4j profile: org/apache/spark/log4j-defaults.properties\n",
      "Setting default log level to \"WARN\".\n",
      "To adjust logging level use sc.setLogLevel(newLevel). For SparkR, use setLogLevel(newLevel).\n",
      "22/03/14 16:16:54 WARN NativeCodeLoader: Unable to load native-hadoop library for your platform... using builtin-java classes where applicable\n"
     ]
    }
   ],
   "source": [
    "# Import findpsark\n",
    "import findspark\n",
    "\n",
    "# Configure the environment\n",
    "findspark.init()\n",
    "\n",
    "# Import the Spark components required for the context creation\n",
    "from pyspark import SparkConf, SparkContext\n",
    "\n",
    "# Configure and create the context\n",
    "conf = SparkConf()\n",
    "conf = conf.setAppName('mds-session')\n",
    "conf = conf.setMaster('local[*]')\n",
    "sc = SparkContext.getOrCreate(conf=conf)"
   ]
  },
  {
   "cell_type": "markdown",
   "metadata": {},
   "source": [
    "## EJERCICIO 1: ¿Cuáles son las 10 palabras más frecuentes de El Quijote?"
   ]
  },
  {
   "cell_type": "code",
   "execution_count": 5,
   "metadata": {},
   "outputs": [
    {
     "name": "stderr",
     "output_type": "stream",
     "text": [
      "                                                                                \r"
     ]
    },
    {
     "data": {
      "text/plain": [
       "[('que', 19429),\n",
       " ('de', 17986),\n",
       " ('y', 15894),\n",
       " ('la', 10200),\n",
       " ('a', 9549),\n",
       " ('el', 7957),\n",
       " ('en', 7898),\n",
       " ('no', 5607),\n",
       " ('se', 4690),\n",
       " ('los', 4680)]"
      ]
     },
     "execution_count": 5,
     "metadata": {},
     "output_type": "execute_result"
    }
   ],
   "source": [
    "quijote = sc.textFile('./data/quijote.txt')\n",
    "frecuencia_palabras = quijote.flatMap(lambda linea: [(palabra, 1) for palabra in linea.split()])\n",
    "frecuencia_palabras = frecuencia_palabras.reduceByKey(lambda frecuencia1, frecuencia2: frecuencia1 + frecuencia2)\n",
    "frecuencia_palabras = frecuencia_palabras.sortBy(lambda palabra: palabra[1], ascending=False)\n",
    "frecuencia_palabras.take(10)"
   ]
  },
  {
   "cell_type": "markdown",
   "metadata": {},
   "source": [
    "## EJERCICIO 2: ¿Cuáles son las 10 palabras más frecuentes tras eliminar las 100 más frecuentes?"
   ]
  },
  {
   "cell_type": "code",
   "execution_count": 3,
   "metadata": {},
   "outputs": [
    {
     "data": {
      "text/plain": [
       "[('allí', 370),\n",
       " ('señora', 363),\n",
       " ('sé', 361),\n",
       " ('entre', 358),\n",
       " ('dar', 351),\n",
       " ('han', 348),\n",
       " ('tanto', 347),\n",
       " ('les', 346),\n",
       " ('tengo', 343),\n",
       " ('todas', 342)]"
      ]
     },
     "execution_count": 3,
     "metadata": {},
     "output_type": "execute_result"
    }
   ],
   "source": [
    "top_100 = [palabra[0] for palabra in frecuencia_palabras.take(100)]\n",
    "frecuencia_final = frecuencia_palabras.filter(lambda palabra: palabra[0] not in top_100)\n",
    "frecuencia_final.take(10)"
   ]
  },
  {
   "cell_type": "markdown",
   "metadata": {},
   "source": [
    "## EJERCICIO 3: ¿Qué posición ocupan Quijote y Sancho en el ranking de frecuencias?"
   ]
  },
  {
   "cell_type": "code",
   "execution_count": 4,
   "metadata": {},
   "outputs": [
    {
     "data": {
      "text/plain": [
       "[(('Sancho', 950), 42), (('Quijote', 894), 43)]"
      ]
     },
     "execution_count": 4,
     "metadata": {},
     "output_type": "execute_result"
    }
   ],
   "source": [
    "frecuencia_palabras.zipWithIndex().filter(lambda palabra: palabra[0][0] in ('Quijote', 'Sancho')).collect()"
   ]
  },
  {
   "cell_type": "markdown",
   "metadata": {},
   "source": [
    "## Close the Spark context"
   ]
  },
  {
   "cell_type": "code",
   "execution_count": 5,
   "metadata": {},
   "outputs": [],
   "source": [
    "sc.stop()"
   ]
  },
  {
   "cell_type": "code",
   "execution_count": null,
   "metadata": {},
   "outputs": [],
   "source": []
  }
 ],
 "metadata": {
  "kernelspec": {
   "display_name": "Python 3 (ipykernel)",
   "language": "python",
   "name": "python3"
  },
  "language_info": {
   "codemirror_mode": {
    "name": "ipython",
    "version": 3
   },
   "file_extension": ".py",
   "mimetype": "text/x-python",
   "name": "python",
   "nbconvert_exporter": "python",
   "pygments_lexer": "ipython3",
   "version": "3.8.0"
  }
 },
 "nbformat": 4,
 "nbformat_minor": 4
}
