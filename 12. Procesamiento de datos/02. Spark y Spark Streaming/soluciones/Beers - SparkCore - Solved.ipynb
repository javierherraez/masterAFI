{
 "cells": [
  {
   "cell_type": "markdown",
   "metadata": {},
   "source": [
    "# Beers - Solved"
   ]
  },
  {
   "cell_type": "code",
   "execution_count": null,
   "metadata": {},
   "outputs": [],
   "source": [
    "# Import findpsark\n",
    "import findspark\n",
    "\n",
    "# Configure the environment\n",
    "findspark.init()\n",
    "\n",
    "# Import the Spark components required for the context creation\n",
    "from pyspark import SparkConf, SparkContext\n",
    "\n",
    "# Configure and create the context\n",
    "conf = SparkConf()\n",
    "conf = conf.setAppName('mds-session')\n",
    "conf = conf.setMaster('local[*]')\n",
    "sc = SparkContext.getOrCreate(conf=conf)"
   ]
  },
  {
   "cell_type": "code",
   "execution_count": null,
   "metadata": {},
   "outputs": [],
   "source": [
    "# Leemos los ficheros de entrada\n",
    "beers = sc.textFile('./data/beers.csv')\n",
    "breweries = sc.textFile('./data/breweries.csv')\n",
    "\n",
    "# Procesamos los RDD leídos para darles estructura\n",
    "def parseBeers(line):\n",
    "    return line.split(',')\n",
    "\n",
    "def parseBreweries(line):\n",
    "    return line.split(',')\n",
    "\n",
    "beers = beers.map(parseBeers)\n",
    "breweries = breweries.map(parseBreweries)"
   ]
  },
  {
   "cell_type": "code",
   "execution_count": null,
   "metadata": {},
   "outputs": [],
   "source": [
    "# 1. ¿Cuántas filas hay en el set de datos de cervezas? ¿Y en el de \n",
    "# cervecerías?\n",
    "\n",
    "beers.count()\n",
    "breweries.count()"
   ]
  },
  {
   "cell_type": "code",
   "execution_count": null,
   "metadata": {},
   "outputs": [],
   "source": [
    "# 2. ¿Cuál es el nombre de la cerveza que tiene más alcohol? \n",
    "# Devolver sólo un registro y sólo con el nombre.\n",
    "\n",
    "def parseAlcohol(beer):\n",
    "    alcohol = float(beer[1]) if beer[1] != '' else 0.0\n",
    "    return (beer[4], alcohol)\n",
    "\n",
    "max_alcohol = beers.map(parseAlcohol).sortBy(lambda beer: beer[1], ascending = False)\n",
    "max_alcohol.map(lambda beer: beer[0]).first()"
   ]
  },
  {
   "cell_type": "code",
   "execution_count": null,
   "metadata": {},
   "outputs": [],
   "source": [
    "# 3. ¿Cuántas cervezas sin alcohol (con nivel de alcohol a 0) hay en el \n",
    "# set de datos?\n",
    "\n",
    "def parseAlcohol(beer):\n",
    "    alcohol = float(beer[1]) if beer[1] != '' else 0.0\n",
    "    return (alcohol)\n",
    "\n",
    "beers.map(parseAlcohol).filter(lambda beer: beer == 0).count()"
   ]
  },
  {
   "cell_type": "code",
   "execution_count": null,
   "metadata": {},
   "outputs": [],
   "source": [
    "# 4. ¿Cuál es el peso medio calculado sobre todas las cervezas?\n",
    "\n",
    "def parseOunces(beer):\n",
    "    ounces = float(beer[7]) if beer[7] != '' else 0.0\n",
    "    return (ounces)\n",
    "\n",
    "beers.map(parseOunces).mean()"
   ]
  },
  {
   "cell_type": "code",
   "execution_count": null,
   "metadata": {},
   "outputs": [],
   "source": [
    "# 5. ¿Cuál es el el máximo nivel de alcohol por tipo de cerveza? \n",
    "# Ordena los resultados por nivel de alcohol de mayor a menor.\n",
    "\n",
    "def parseStyleAlcohol(beer):\n",
    "    style = beer[5]\n",
    "    alcohol = float(beer[1]) if beer[1] != '' else 0.0\n",
    "    return (style, alcohol)\n",
    "\n",
    "group_style_alcohol = beers.map(parseStyleAlcohol)\n",
    "group_style_alcohol = group_style_alcohol.reduceByKey(max)\n",
    "group_style_alcohol = group_style_alcohol.sortBy(lambda style: style[1], ascending = False)\n",
    "group_style_alcohol.collect()"
   ]
  },
  {
   "cell_type": "code",
   "execution_count": null,
   "metadata": {},
   "outputs": [],
   "source": [
    "# 6. ¿Cuál es el nombre de la cervecería con la cerveza menos amarga? \n",
    "# Devolver sólo un registro y sólo con el nombre.\n",
    "\n",
    "def parseBreweryBitter(beer):\n",
    "    brewery_id = beer[6]\n",
    "    bitter = float(beer[2]) if beer[2] != '' else -999\n",
    "    return (brewery_id, bitter)\n",
    "\n",
    "def parseBreweryName(brewery):\n",
    "    brewery_id = brewery[0]\n",
    "    name = brewery[1]\n",
    "    return (brewery_id, name)\n",
    "\n",
    "brewery_bitter = beers.map(parseBreweryBitter).filter(lambda beer: beer[1] >= 0.0)\n",
    "brewery_name = breweries.map(parseBreweryName)\n",
    "joined = brewery_bitter.join(brewery_name).map(lambda join: join[1])\n",
    "min_bitter = joined.sortBy(lambda brewery: brewery[0])\n",
    "min_bitter.map(lambda beer: beer[1]).first()"
   ]
  },
  {
   "cell_type": "code",
   "execution_count": null,
   "metadata": {},
   "outputs": [],
   "source": [
    "# 7. ¿Cuál es la cerveza más amarga de Chicago? Devolver sólo un registro \n",
    "# y sólo con el nombre.\n",
    "\n",
    "def parseBreweryBitter(beer):\n",
    "    brewery_id = beer[6]\n",
    "    name = beer[4]\n",
    "    bitter = float(beer[2]) if beer[2] != '' else 0.0\n",
    "    return (brewery_id, (name, bitter))\n",
    "\n",
    "def parseBreweryCity(brewery):\n",
    "    brewery_id = brewery[0]\n",
    "    city = brewery[2]\n",
    "    return (brewery_id, city)\n",
    "\n",
    "brewery_bitter = beers.map(parseBreweryBitter)\n",
    "brewery_city = breweries.map(parseBreweryCity)\n",
    "joined = brewery_bitter.join(brewery_city).map(lambda join: join[1])\n",
    "chicago_beers = joined.filter(lambda beer: beer[1] == 'Chicago').map(lambda beer: beer[0])\n",
    "max_bitter = chicago_beers.sortBy(lambda beer: beer[1], ascending = False)\n",
    "max_bitter.map(lambda beer: beer[0]).first()"
   ]
  },
  {
   "cell_type": "code",
   "execution_count": null,
   "metadata": {},
   "outputs": [],
   "source": [
    "# 8 .¿Cuál es el estado que tiene más cervezas y cuántas tiene? Devolver sólo \n",
    "# un registro y sólo con las siglas.\n",
    "\n",
    "def parseBreweryCount(beer):\n",
    "    brewery_id = beer[6]\n",
    "    return (brewery_id, 1)\n",
    "\n",
    "def parseBreweryState(brewery):\n",
    "    brewery_id = brewery[0]\n",
    "    state = brewery[3]\n",
    "    return (brewery_id, state)\n",
    "\n",
    "brewery_count = beers.map(parseBreweryCount).reduceByKey(lambda el1, el2: el1 + el2)\n",
    "brewery_state = breweries.map(parseBreweryState)\n",
    "joined = brewery_count.join(brewery_state).map(lambda join: (join[1][1], join[1][0]))\n",
    "max_state = joined.reduceByKey(lambda el1, el2: el1 + el2).sortBy(lambda state: state[1], ascending = False)\n",
    "max_state.first()"
   ]
  },
  {
   "cell_type": "code",
   "execution_count": null,
   "metadata": {},
   "outputs": [],
   "source": [
    "# 9. ¿Cuál es la desviación estándar de nivel de alcohol, amargor y peso por \n",
    "# ciudad y tipo de cerveza? Ordena los resultados por ciudad y tipo de \n",
    "# cerveza ascendente.\n",
    "\n",
    "def parseBeerStyleAlcoholBitterOunces(beer):\n",
    "    brewery_id = beer[6]\n",
    "    style = beer[5]\n",
    "    alcohol = float(beer[1]) if beer[1] != '' else 0.0\n",
    "    bitter = float(beer[2]) if beer[2] != '' else 0.0\n",
    "    ounces = float(beer[7]) if beer[7] != '' else 0.0\n",
    "    return (brewery_id, (style, alcohol, bitter, ounces))\n",
    "\n",
    "def parseBreweryCity(brewery):\n",
    "    brewery_id = brewery[0]\n",
    "    city = brewery[2]\n",
    "    return (brewery_id, city)\n",
    "\n",
    "import numpy as np\n",
    "def numpyStd(element):\n",
    "    cityStyle = element[0]\n",
    "    alcohol = [data[2] for data in element[1]]\n",
    "    bitter = [data[3] for data in element[1]]\n",
    "    ounces = [data[4] for data in element[1]]\n",
    "    return (cityStyle, np.std(np.array(alcohol)), np.std(np.array(bitter)), np.std(np.array(ounces)))\n",
    "\n",
    "beer_info = beers.map(parseBeerStyleAlcoholBitterOunces)\n",
    "brewery_city = breweries.map(parseBreweryCity)\n",
    "joined = beer_info.join(brewery_city).map(lambda join: (join[1][1], join[1][0][0], join[1][0][1], join[1][0][2], join[1][0][3]))\n",
    "city_style_info = joined.groupBy(lambda cityStyle: (cityStyle[0], cityStyle[1])).map(numpyStd)\n",
    "city_style_info.sortBy(lambda cityStyle: cityStyle[0]).collect()"
   ]
  },
  {
   "cell_type": "code",
   "execution_count": null,
   "metadata": {},
   "outputs": [],
   "source": [
    "# 10. ¿Qué ciudad vende la cerveza con el nombre más largo? Devuelve sólo un \n",
    "# registro con el nombre de la ciudad, el nombre de la cerveza y la longitud \n",
    "# del nombre.\n",
    "\n",
    "def parseBreweryNameLength(beer):\n",
    "    brewery_id = beer[6]\n",
    "    name = beer[4]\n",
    "    name_length = len(beer[4])\n",
    "    return (brewery_id, (name, name_length))\n",
    "\n",
    "def parseBreweryCity(brewery):\n",
    "    brewery_id = brewery[0]\n",
    "    city = brewery[2]\n",
    "    return (brewery_id, city)\n",
    "\n",
    "brewery_name_length = beers.map(parseBreweryNameLength)\n",
    "brewery_city = breweries.map(parseBreweryCity)\n",
    "joined = brewery_name_length.join(brewery_city).map(lambda join: join[1])\n",
    "max_length = joined.sortBy(lambda beer: beer[0][1], ascending = False)\n",
    "max_length.map(lambda beer: (beer[1], beer[0][0], beer[0][1])).first()"
   ]
  },
  {
   "cell_type": "code",
   "execution_count": null,
   "metadata": {},
   "outputs": [],
   "source": [
    "# Stop the spark context\n",
    "sc.stop()"
   ]
  },
  {
   "cell_type": "code",
   "execution_count": null,
   "metadata": {},
   "outputs": [],
   "source": []
  }
 ],
 "metadata": {
  "kernelspec": {
   "display_name": "Python 3 (ipykernel)",
   "language": "python",
   "name": "python3"
  },
  "language_info": {
   "codemirror_mode": {
    "name": "ipython",
    "version": 3
   },
   "file_extension": ".py",
   "mimetype": "text/x-python",
   "name": "python",
   "nbconvert_exporter": "python",
   "pygments_lexer": "ipython3",
   "version": "3.8.0"
  }
 },
 "nbformat": 4,
 "nbformat_minor": 4
}
