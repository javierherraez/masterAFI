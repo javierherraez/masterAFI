{
 "cells": [
  {
   "cell_type": "markdown",
   "metadata": {},
   "source": [
    "# RDD - Exercises"
   ]
  },
  {
   "cell_type": "markdown",
   "metadata": {},
   "source": [
    "## Prepare the Spark context"
   ]
  },
  {
   "cell_type": "code",
   "execution_count": null,
   "metadata": {},
   "outputs": [],
   "source": [
    "# Import findpsark\n",
    "import findspark\n",
    "\n",
    "# Configure the environment\n",
    "findspark.init()\n",
    "\n",
    "# Import the Spark components required for the context creation\n",
    "from pyspark import SparkConf, SparkContext\n",
    "\n",
    "# Configure and create the context\n",
    "conf = SparkConf()\n",
    "conf = conf.setAppName('mds-session')\n",
    "conf = conf.setMaster('local[*]')\n",
    "sc = SparkContext.getOrCreate(conf=conf)"
   ]
  },
  {
   "cell_type": "markdown",
   "metadata": {},
   "source": [
    "## EJERCICIO 1: ¿Cuántas palabras hay en El Quijote?"
   ]
  },
  {
   "cell_type": "code",
   "execution_count": null,
   "metadata": {},
   "outputs": [],
   "source": [
    "quijote = sc.textFile('./data/quijote.txt')\n",
    "palabras = quijote.flatMap(lambda line: line.split(' '))\n",
    "palabras.count()"
   ]
  },
  {
   "cell_type": "markdown",
   "metadata": {},
   "source": [
    "## EJERCICIO 2: ¿Cuántas palabras empiezan por vocal?"
   ]
  },
  {
   "cell_type": "code",
   "execution_count": null,
   "metadata": {},
   "outputs": [],
   "source": [
    "vocales = palabras.filter(lambda palabra: len(palabra) > 0 and palabra[0].lower() in 'aeiou')\n",
    "vocales.count()"
   ]
  },
  {
   "cell_type": "markdown",
   "metadata": {},
   "source": [
    "## EJERCICIO 3: ¿Cuántas palabras empiezan con cada vocal?"
   ]
  },
  {
   "cell_type": "code",
   "execution_count": null,
   "metadata": {},
   "outputs": [],
   "source": [
    "palabras_por_vocal = vocales.map(lambda palabra: (palabra[0].lower(), 1))\n",
    "palabras_por_vocal = palabras_por_vocal.groupBy(lambda palabra: palabra[0])\n",
    "palabras_por_vocal = palabras_por_vocal.map(lambda vocal: (vocal[0], len(vocal[1])))\n",
    "palabras_por_vocal.collect()"
   ]
  },
  {
   "cell_type": "markdown",
   "metadata": {},
   "source": [
    "## EJERCICIO 4: ¿Qué longitud tiene la palabra más larga?"
   ]
  },
  {
   "cell_type": "code",
   "execution_count": null,
   "metadata": {},
   "outputs": [],
   "source": [
    "longitud_palabras = palabras.map(lambda palabra: len(palabra))\n",
    "longitud_palabras.max()"
   ]
  },
  {
   "cell_type": "markdown",
   "metadata": {},
   "source": [
    "## EJERCICIO 5: ¿Qué palabra es?"
   ]
  },
  {
   "cell_type": "code",
   "execution_count": null,
   "metadata": {},
   "outputs": [],
   "source": [
    "longitud_palabras = palabras.map(lambda palabra: (len(palabra), palabra))\n",
    "longitud_palabras.reduce(lambda palabra1, palabra2: max(palabra1, palabra2))"
   ]
  },
  {
   "cell_type": "markdown",
   "metadata": {},
   "source": [
    "## EJERCICIO 6: Calcula la desviación típica de las longitudes de las palabras que empiezan por cada vocal y muestra el resultado ordenado por dicha desviación de mayor a menor"
   ]
  },
  {
   "cell_type": "code",
   "execution_count": null,
   "metadata": {},
   "outputs": [],
   "source": [
    "import numpy as np\n",
    "def calcula_desviacion(lista):\n",
    "    longitudes = np.array([elemento[1] for elemento in lista])\n",
    "    return np.std(longitudes)\n",
    "\n",
    "longitudes_por_vocal = vocales.map(lambda palabra: (palabra[0].lower(), len(palabra)))\n",
    "longitudes_por_vocal = longitudes_por_vocal.groupBy(lambda palabra: palabra[0])\n",
    "longitudes_por_vocal = longitudes_por_vocal.map(lambda vocal: (vocal[0], calcula_desviacion(vocal[1])))\n",
    "longitudes_por_vocal = longitudes_por_vocal.sortBy(lambda vocal: vocal[1], ascending=False)\n",
    "longitudes_por_vocal.collect()"
   ]
  },
  {
   "cell_type": "markdown",
   "metadata": {},
   "source": [
    "## Close the Spark context"
   ]
  },
  {
   "cell_type": "code",
   "execution_count": null,
   "metadata": {},
   "outputs": [],
   "source": [
    "sc.stop()"
   ]
  }
 ],
 "metadata": {
  "kernelspec": {
   "display_name": "Python 3 (ipykernel)",
   "language": "python",
   "name": "python3"
  },
  "language_info": {
   "codemirror_mode": {
    "name": "ipython",
    "version": 3
   },
   "file_extension": ".py",
   "mimetype": "text/x-python",
   "name": "python",
   "nbconvert_exporter": "python",
   "pygments_lexer": "ipython3",
   "version": "3.8.0"
  }
 },
 "nbformat": 4,
 "nbformat_minor": 4
}
