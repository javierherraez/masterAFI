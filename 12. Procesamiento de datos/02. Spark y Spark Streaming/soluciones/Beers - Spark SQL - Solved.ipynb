{
 "cells": [
  {
   "cell_type": "markdown",
   "id": "273fa9d1-cb77-4c84-836b-5d759f1364c2",
   "metadata": {},
   "source": [
    "# Beers - Solved"
   ]
  },
  {
   "cell_type": "code",
   "execution_count": null,
   "id": "a1c16364-c817-427b-99b7-ffda498661bc",
   "metadata": {},
   "outputs": [],
   "source": [
    "# Import findspark\n",
    "import findspark\n",
    "\n",
    "# Configure the environment\n",
    "findspark.init()\n",
    "\n",
    "# Import the Spark components required for the session creation\n",
    "from pyspark import SparkConf\n",
    "from pyspark.sql import SparkSession\n",
    "from pyspark.sql import functions as F\n",
    "\n",
    "# Configure and create the session\n",
    "conf = SparkConf()\n",
    "conf = conf.setAppName('mds-session')\n",
    "conf = conf.setMaster('local[*]')\n",
    "spark = SparkSession.builder.config(conf = conf).getOrCreate()"
   ]
  },
  {
   "cell_type": "code",
   "execution_count": null,
   "id": "1a12b55a-7f15-4622-a174-d41fa48dcd28",
   "metadata": {},
   "outputs": [],
   "source": [
    "beers = spark.read.options(sep=',', header=False, inferSchema=True).csv('./data/beers.csv')\n",
    "beers = beers.toDF('row_id', 'abv', 'ibu', 'id', 'name', 'style', 'brewery_id', 'ounces')\n",
    "beers.show(5)\n",
    "\n",
    "beers.createOrReplaceTempView('beers')"
   ]
  },
  {
   "cell_type": "code",
   "execution_count": null,
   "id": "9df368c2-2fdd-4cc7-87d4-234a48883bed",
   "metadata": {},
   "outputs": [],
   "source": [
    "breweries = spark.read.options(sep=',', header=False, inferSchema=True).csv('./data/breweries.csv')\n",
    "breweries = breweries.toDF('id', 'name', 'city', 'state')\n",
    "breweries.show(5)\n",
    "\n",
    "breweries.createOrReplaceTempView('breweries')"
   ]
  },
  {
   "cell_type": "markdown",
   "id": "eb7b0323-1d3c-44a1-b9de-b6077a04aa5c",
   "metadata": {},
   "source": [
    "## 1. ¿Cuántas filas hay en el set de datos de cervezas? ¿Y en el de cervecerías?"
   ]
  },
  {
   "cell_type": "code",
   "execution_count": null,
   "id": "25b65661-178f-438b-aefa-95fd6821af10",
   "metadata": {},
   "outputs": [],
   "source": [
    "beers.count()"
   ]
  },
  {
   "cell_type": "code",
   "execution_count": null,
   "id": "93841a8a-50e5-4858-877b-7abfa676df7b",
   "metadata": {},
   "outputs": [],
   "source": [
    "breweries.count()"
   ]
  },
  {
   "cell_type": "markdown",
   "id": "4cc87402-22ce-4d7d-8281-d3fd64da3839",
   "metadata": {},
   "source": [
    "## 2. ¿Cuál es el nombre de la cerveza que tiene más alcohol? Devolver sólo un registro y sólo con el nombre."
   ]
  },
  {
   "cell_type": "code",
   "execution_count": null,
   "id": "90c9bb81-13e3-4820-8da4-b1de8bf37e57",
   "metadata": {},
   "outputs": [],
   "source": [
    "beers.orderBy(beers.abv.desc()).select('name').first()['name']"
   ]
  },
  {
   "cell_type": "code",
   "execution_count": null,
   "id": "97caa337-661a-4f72-9d44-b80e34cc3e4e",
   "metadata": {},
   "outputs": [],
   "source": [
    "spark.sql('''\n",
    "    SELECT name\n",
    "    FROM beers\n",
    "    ORDER BY abv DESC\n",
    "    LIMIT 1\n",
    "''').show()"
   ]
  },
  {
   "cell_type": "markdown",
   "id": "a9f73e0d-0c5f-4929-8f96-cf8908b5a2ed",
   "metadata": {},
   "source": [
    "## 3. ¿Cuántas cervezas sin alcohol (con nivel de alcohol a 0) hay en el set de datos?"
   ]
  },
  {
   "cell_type": "code",
   "execution_count": null,
   "id": "6242cd16-5528-481a-818f-d6621eb709ed",
   "metadata": {},
   "outputs": [],
   "source": [
    "beers.where(beers.abv.isNull()).count()"
   ]
  },
  {
   "cell_type": "code",
   "execution_count": null,
   "id": "966988e3-d3d6-4484-ac27-2dbf4f208169",
   "metadata": {},
   "outputs": [],
   "source": [
    "spark.sql('''\n",
    "    SELECT count(*)\n",
    "    FROM beers\n",
    "    WHERE abv IS NULL\n",
    "''').show()"
   ]
  },
  {
   "cell_type": "markdown",
   "id": "9f8e43d3-a32e-494c-b1e9-ced8e53c9ceb",
   "metadata": {},
   "source": [
    "## 4. ¿Cuál es el peso medio calculado sobre todas las cervezas?"
   ]
  },
  {
   "cell_type": "code",
   "execution_count": null,
   "id": "a8ea59d0-68ff-4d02-acbb-9928a8a1c480",
   "metadata": {},
   "outputs": [],
   "source": [
    "spark.sql('''\n",
    "    SELECT AVG(ounces)\n",
    "    FROM beers\n",
    "''').show()"
   ]
  },
  {
   "cell_type": "code",
   "execution_count": null,
   "id": "3819dbdb-d96f-46e5-9e12-ad1cf95ab069",
   "metadata": {},
   "outputs": [],
   "source": [
    "\n",
    "type(beers)"
   ]
  },
  {
   "cell_type": "markdown",
   "id": "2d51125c-e4e0-4351-b3a8-48c41590a43f",
   "metadata": {},
   "source": [
    "## 5. ¿Cuál es el el máximo nivel de alcohol por tipo de cerveza? Ordena los resultados por nivel de alcohol de mayor a menor."
   ]
  },
  {
   "cell_type": "code",
   "execution_count": null,
   "id": "a7d678e5-54ef-4294-8636-eb14d2b8e821",
   "metadata": {},
   "outputs": [],
   "source": [
    "max_abvs = beers.groupBy('style').agg(F.max('abv').alias('abv'))\n",
    "max_abvs.orderBy(max_abvs.abv.desc()).show(5)"
   ]
  },
  {
   "cell_type": "code",
   "execution_count": null,
   "id": "841aeefb-ca58-46ea-a49b-ba3d1edc32c5",
   "metadata": {},
   "outputs": [],
   "source": [
    "spark.sql('''\n",
    "    SELECT style, MAX(abv) AS abv\n",
    "    FROM beers\n",
    "    GROUP BY style\n",
    "''').show()"
   ]
  },
  {
   "cell_type": "markdown",
   "id": "f030e76e-439c-479f-9c92-94715728edd4",
   "metadata": {},
   "source": [
    "## 6. ¿Cuál es el nombre de la cervecería con la cerveza menos amarga? Devolver sólo un registro y sólo con el nombre."
   ]
  },
  {
   "cell_type": "code",
   "execution_count": null,
   "id": "14c58c7c-f9f4-4b1c-853d-9fe88ed82349",
   "metadata": {},
   "outputs": [],
   "source": [
    "beers = beers.withColumnRenamed('name', 'beer_name')\n",
    "breweries = breweries.withColumnRenamed('id', 'brewery_id')\n",
    "data = beers.join(breweries, on='brewery_id')\n",
    "\n",
    "data.select('name', 'ibu').distinct().orderBy(data.ibu.asc_nulls_last()).show(5)"
   ]
  },
  {
   "cell_type": "code",
   "execution_count": null,
   "id": "b8e20018-cf68-42cb-bb5f-b2f939cb2f82",
   "metadata": {},
   "outputs": [],
   "source": [
    "spark.sql('''\n",
    "    SELECT breweries.name, MIN(ibu) as brewery_ibu\n",
    "    FROM beers, breweries\n",
    "    WHERE beers.brewery_id = breweries.id\n",
    "    GROUP BY breweries.name\n",
    "    ORDER BY brewery_ibu ASC NULLS LAST\n",
    "    LIMIT 1\n",
    "''').show()"
   ]
  },
  {
   "cell_type": "markdown",
   "id": "96438f8c-a216-4bcf-82d6-2c72ab3c7bbc",
   "metadata": {},
   "source": [
    "## 7. ¿Cuál es la cerveza más amarga de Chicago? Devolver sólo un registro y sólo con el nombre."
   ]
  },
  {
   "cell_type": "code",
   "execution_count": null,
   "id": "a8a346f7-b1b6-4a83-a4d5-d10a1709f3c3",
   "metadata": {},
   "outputs": [],
   "source": [
    "data.where(data.city == 'Chicago').orderBy(data.ibu.desc()).select('beer_name').show(1)"
   ]
  },
  {
   "cell_type": "code",
   "execution_count": null,
   "id": "c9cd82d4-7131-4090-8e98-50f02d9da9f0",
   "metadata": {},
   "outputs": [],
   "source": [
    "spark.sql('''\n",
    "    SELECT beers.name\n",
    "    FROM beers, breweries\n",
    "    WHERE beers.brewery_id = breweries.id\n",
    "      AND city = 'Chicago'\n",
    "    ORDER BY ibu DESC\n",
    "    LIMIT 1\n",
    "''').show()"
   ]
  },
  {
   "cell_type": "markdown",
   "id": "2773b57a-e6f3-4b8b-9a9d-1201b25524dd",
   "metadata": {},
   "source": [
    "## 8 .¿Cuál es el estado que tiene más cervezas y cuántas tiene? Devolver sólo un registro y sólo con las siglas."
   ]
  },
  {
   "cell_type": "code",
   "execution_count": null,
   "id": "8d65a6cb-9c66-4dab-8236-a9c734ee0322",
   "metadata": {},
   "outputs": [],
   "source": [
    "breweries = breweries.withColumn('state', F.ltrim('state'))\n",
    "\n",
    "data = beers.join(breweries, beers.brewery_id == breweries.id)\n",
    "data = data.groupBy('state').count()\n",
    "data.orderBy(data['count'].desc()).show(5)"
   ]
  },
  {
   "cell_type": "code",
   "execution_count": null,
   "id": "6ad7b0c1-e951-4ead-96ca-ca79586cf5e6",
   "metadata": {},
   "outputs": [],
   "source": [
    "spark.sql('''\n",
    "    SELECT state, COUNT(*) as cervezas\n",
    "    FROM beers, breweries\n",
    "    WHERE beers.brewery_id = breweries.id\n",
    "    GROUP BY state\n",
    "    ORDER BY cervezas DESC\n",
    "    LIMIT 1\n",
    "''').show()"
   ]
  },
  {
   "cell_type": "markdown",
   "id": "3a4530b7-0087-434b-8b92-92034330fcb7",
   "metadata": {},
   "source": [
    "## 9. ¿Cuál es la desviación estándar de nivel de alcohol, amargor y peso por ciudad y tipo de cerveza? Ordena los resultados por ciudad y tipo de cerveza ascendente."
   ]
  },
  {
   "cell_type": "code",
   "execution_count": null,
   "id": "0f0e864c-61e1-45fb-a50a-d29b5919f139",
   "metadata": {},
   "outputs": [],
   "source": [
    "data = beers.join(breweries, beers.brewery_id == breweries.id)\n",
    "\n",
    "data.groupBy(data.city, data.style).agg(\n",
    "    F.stddev(data.abv).alias('abv'),\n",
    "    F.stddev(data.ibu).alias('ibu'),\n",
    "    F.stddev(data.ounces).alias('ounces'),\n",
    ").orderBy(['city', 'style'], ascending=[True, True]).show()"
   ]
  },
  {
   "cell_type": "markdown",
   "id": "14cbc335-8736-489d-9f1b-8378e4e6bb2f",
   "metadata": {},
   "source": [
    "## 10. ¿Qué ciudad vende la cerveza con el nombre más largo? Devuelve sólo un registro con el nombre de la ciudad, el nombre de la cerveza y la longitud del nombre."
   ]
  },
  {
   "cell_type": "code",
   "execution_count": null,
   "id": "3e95b72b-4bca-4490-86ed-fe832fa8f522",
   "metadata": {},
   "outputs": [],
   "source": [
    "data.select('city', 'beer_name', F.length('beer_name').alias('total'))\n",
    ").orderBy('total', ascending=False).show(1)"
   ]
  },
  {
   "cell_type": "code",
   "execution_count": null,
   "id": "5ecab403-807e-49f2-a8c0-ee536144553e",
   "metadata": {},
   "outputs": [],
   "source": [
    "spark.sql('''\n",
    "    SELECT city, beers.name, LENGTH(beers.name)\n",
    "    FROM beers, breweries\n",
    "    where beers.brewery_id = breweries.id\n",
    "    ORDER BY LENGTH(beers.name) DESC\n",
    "    LIMIT 1\n",
    "''').show()"
   ]
  },
  {
   "cell_type": "code",
   "execution_count": null,
   "id": "d9cecbdf-e2e9-44a7-a4dd-cfdd302cf956",
   "metadata": {},
   "outputs": [],
   "source": []
  }
 ],
 "metadata": {
  "kernelspec": {
   "display_name": "Python 3 (ipykernel)",
   "language": "python",
   "name": "python3"
  },
  "language_info": {
   "codemirror_mode": {
    "name": "ipython",
    "version": 3
   },
   "file_extension": ".py",
   "mimetype": "text/x-python",
   "name": "python",
   "nbconvert_exporter": "python",
   "pygments_lexer": "ipython3",
   "version": "3.8.0"
  }
 },
 "nbformat": 4,
 "nbformat_minor": 5
}
