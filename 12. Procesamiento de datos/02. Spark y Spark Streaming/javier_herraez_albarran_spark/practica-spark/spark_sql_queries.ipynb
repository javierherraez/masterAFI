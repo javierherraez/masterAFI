{
 "cells": [
  {
   "cell_type": "markdown",
   "id": "07d1f9f8-ee44-4c73-bc9c-887fe0c93f67",
   "metadata": {},
   "source": [
    "# Ejercicio 3 –Spark SQL: consultas"
   ]
  },
  {
   "cell_type": "code",
   "execution_count": 1,
   "id": "3fa6f6ae-7ff7-4528-9785-abd6f6c02889",
   "metadata": {},
   "outputs": [
    {
     "name": "stderr",
     "output_type": "stream",
     "text": [
      "22/04/04 19:58:59 WARN Utils: Your hostname, mdsuser resolves to a loopback address: 127.0.1.1; using 192.168.242.129 instead (on interface ens33)\n",
      "22/04/04 19:58:59 WARN Utils: Set SPARK_LOCAL_IP if you need to bind to another address\n",
      "Using Spark's default log4j profile: org/apache/spark/log4j-defaults.properties\n",
      "Setting default log level to \"WARN\".\n",
      "To adjust logging level use sc.setLogLevel(newLevel). For SparkR, use setLogLevel(newLevel).\n",
      "22/04/04 19:59:01 WARN NativeCodeLoader: Unable to load native-hadoop library for your platform... using builtin-java classes where applicable\n",
      "22/04/04 19:59:04 WARN Utils: Service 'SparkUI' could not bind on port 4040. Attempting port 4041.\n",
      "22/04/04 19:59:04 WARN Utils: Service 'SparkUI' could not bind on port 4041. Attempting port 4042.\n"
     ]
    }
   ],
   "source": [
    "# Import findspark\n",
    "import findspark\n",
    "\n",
    "# Configure the environment\n",
    "findspark.init()\n",
    "\n",
    "# Import the Spark components required for the session creation\n",
    "from pyspark import SparkConf\n",
    "from pyspark.sql import SparkSession\n",
    "\n",
    "# Configure and create the session\n",
    "conf = SparkConf()\n",
    "conf = conf.setAppName('mds-session')\n",
    "conf = conf.setMaster('local[*]')\n",
    "spark = SparkSession.builder.config(conf = conf).getOrCreate()"
   ]
  },
  {
   "cell_type": "code",
   "execution_count": 2,
   "id": "bb4bb38c-fe2c-44da-8993-43faa22d13ca",
   "metadata": {},
   "outputs": [
    {
     "name": "stderr",
     "output_type": "stream",
     "text": [
      "                                                                                \r"
     ]
    },
    {
     "name": "stdout",
     "output_type": "stream",
     "text": [
      "+------+--------------------+\n",
      "|    id|               title|\n",
      "+------+--------------------+\n",
      "|300848|         Fear Itself|\n",
      "|300822|          Dimensions|\n",
      "|514953|Las Numero 1 De L...|\n",
      "|287650|       Friend Or Foe|\n",
      "|611336|       Muertos Vivos|\n",
      "+------+--------------------+\n",
      "only showing top 5 rows\n",
      "\n"
     ]
    }
   ],
   "source": [
    "# load albums\n",
    "album_df = spark.read.options(sep='\\t', header=False, inferSchema=True).csv('./data/albums.tsv')\n",
    "album_df = album_df.toDF('id', 'title')\n",
    "album_df.createOrReplaceTempView('album')\n",
    "spark.sql('SELECT * FROM album').show(5)"
   ]
  },
  {
   "cell_type": "code",
   "execution_count": 3,
   "id": "974a5b5e-3ea7-47a5-a703-3f24ab04d1ec",
   "metadata": {},
   "outputs": [
    {
     "name": "stdout",
     "output_type": "stream",
     "text": [
      "+------------------+----------------+-----------+-----------+------------------+\n",
      "|                id|            name|    hotness|familiarity|          location|\n",
      "+------------------+----------------+-----------+-----------+------------------+\n",
      "|AR009211187B989185|Carroll Thompson|0.297404803|0.396817844|     Not available|\n",
      "|AR00A6H1187FB5402A|     The Meatmen|0.395627514|0.514064276|       Lansing, MI|\n",
      "|AR00LNI1187FB444A5|    Bruce BecVar|0.340275507|0.471212607|     Not available|\n",
      "|AR00MBZ1187B9B5DB1|  Memphis Minnie|0.360644227|0.588571842|       Algiers, LA|\n",
      "|AR01IP11187B9AF5D2|Call To Preserve|0.423976264|0.634764556|Rockledge, Florida|\n",
      "+------------------+----------------+-----------+-----------+------------------+\n",
      "only showing top 5 rows\n",
      "\n"
     ]
    }
   ],
   "source": [
    "# load artists\n",
    "artist_df = spark.read.options(sep='\\t', header=False, inferSchema=True).csv('./data/artists.tsv')\n",
    "artist_df = artist_df.toDF('id', 'name', 'hotness', 'familiarity', 'location')\n",
    "artist_df.createOrReplaceTempView('artist')\n",
    "spark.sql('SELECT * FROM artist').show(5)"
   ]
  },
  {
   "cell_type": "code",
   "execution_count": 4,
   "id": "6abeed15-6d1e-4db6-b7d2-1eae8dfc5aaf",
   "metadata": {},
   "outputs": [
    {
     "name": "stdout",
     "output_type": "stream",
     "text": [
      "+------------------+--------------------+----+-----------+------------------+--------+---------+--------------+-----------------+-------+--------------+---+--------+----+-----------------+\n",
      "|                id|               title|year|    hotness|         id_artist|id_album| duration|end_of_fade_on|start_of_fade_out|  tempo|time_signature|key|loudness|mode|            style|\n",
      "+------------------+--------------------+----+-----------+------------------+--------+---------+--------------+-----------------+-------+--------------+---+--------+----+-----------------+\n",
      "|SOAAAQN12AB01856D3|Campeones De La Vida|   0|0.427446572|ARAMIDF1187FB3D8D4|  346208|153.36444|         0.235|          142.518|120.051|             4|  4|   -8.76|   0|         pop rock|\n",
      "|SOAABSU12A81C1FB9E|              Lonely|   0|         NA|ARVUVRE12420780B0B|  230893|240.29995|         0.166|          226.482|166.124|             4|  1|  -6.735|   1|        melbourne|\n",
      "|SOAAEHR12A6D4FB060| Slaves & Bulldozers|1991|0.654067966|AR5N8VN1187FB37A4E|   15964|415.81669|           0.0|          411.312|131.272|             4|  0|  -9.306|   1|alternative metal|\n",
      "|SOAAFUV12AB018831D|Where Do The Chil...|   0|         NA|AR5ZGC11187FB417A3|  762448|216.05832|           0.0|           199.39|149.169|             4|  2|  -7.885|   1|     roots reggae|\n",
      "|SOAAHZS12A8C143A21| Rakkauden veteraani|2009|         NA|ARV69FI1187B9AA14F|  526303| 224.7571|         0.335|          210.321|103.244|             4|  5|  -8.419|   1|       german pop|\n",
      "+------------------+--------------------+----+-----------+------------------+--------+---------+--------------+-----------------+-------+--------------+---+--------+----+-----------------+\n",
      "only showing top 5 rows\n",
      "\n"
     ]
    }
   ],
   "source": [
    "# load songs\n",
    "song_df = spark.read.options(sep='\\t', header=False, inferSchema=True).csv('./data/songs.tsv')\n",
    "song_df = song_df.toDF('id', \n",
    "                       'title', \n",
    "                       'year',\n",
    "                       'hotness',\n",
    "                       'id_artist',\n",
    "                       'id_album',\n",
    "                       'duration',\n",
    "                       'end_of_fade_on',\n",
    "                       'start_of_fade_out',\n",
    "                       'tempo',\n",
    "                       'time_signature', \n",
    "                       'key', \n",
    "                       'loudness', \n",
    "                       'mode', \n",
    "                       'style')\n",
    "song_df.createOrReplaceTempView('song')\n",
    "spark.sql('SELECT * FROM song').show(5)"
   ]
  },
  {
   "cell_type": "markdown",
   "id": "d9edf888-fe61-4a36-9494-3124515ec919",
   "metadata": {},
   "source": [
    "### 1.¿Cuál es el estilo más lento(tempo) en media?"
   ]
  },
  {
   "cell_type": "code",
   "execution_count": 5,
   "id": "5a643d4f-face-41bf-a695-2ce54ea74e1e",
   "metadata": {},
   "outputs": [
    {
     "name": "stderr",
     "output_type": "stream",
     "text": [
      "[Stage 9:>                                                          (0 + 1) / 1]\r"
     ]
    },
    {
     "name": "stdout",
     "output_type": "stream",
     "text": [
      "+--------+------+\n",
      "|   style| tempo|\n",
      "+--------+------+\n",
      "|rebetika|47.447|\n",
      "+--------+------+\n",
      "only showing top 1 row\n",
      "\n"
     ]
    },
    {
     "name": "stderr",
     "output_type": "stream",
     "text": [
      "                                                                                \r"
     ]
    }
   ],
   "source": [
    "spark.sql('''\n",
    "    SELECT style, mean(tempo) tempo\n",
    "    FROM song\n",
    "    GROUP BY style\n",
    "    ORDER BY tempo\n",
    "''').show(1)"
   ]
  },
  {
   "cell_type": "markdown",
   "id": "ef50dfdc-f99d-4b86-87b8-395942a62a89",
   "metadata": {},
   "source": [
    "### 2.¿Cuales  son  los  5  artistas,  ubicados  en  UK(cualquier  territorio  de  UK),  con mayor número de canciones en escala menor (mode = 1)?"
   ]
  },
  {
   "cell_type": "code",
   "execution_count": 6,
   "id": "159ea5cb-7887-4a3b-900b-9d81dbd03c86",
   "metadata": {},
   "outputs": [
    {
     "name": "stdout",
     "output_type": "stream",
     "text": [
      "+------------------+-------+\n",
      "|              name|n_songs|\n",
      "+------------------+-------+\n",
      "|        SNOWPATROL|     11|\n",
      "|      Phil Collins|      9|\n",
      "|         Radiohead|      7|\n",
      "|The Rolling Stones|      7|\n",
      "|       Bad Company|      6|\n",
      "|              Seal|      6|\n",
      "+------------------+-------+\n",
      "only showing top 6 rows\n",
      "\n"
     ]
    }
   ],
   "source": [
    "spark.sql('''\n",
    "    SELECT name, \n",
    "        --a.location, \n",
    "        count(*) n_songs\n",
    "    FROM artist a, song s\n",
    "    WHERE a.id = s.id_artist\n",
    "        AND (   a.location LIKE '%UK%' OR \n",
    "                a.location LIKE '%United Kingdom%' OR \n",
    "                a.location LIKE '%England%' OR \n",
    "                a.location LIKE '%Wales%' OR\n",
    "                a.location LIKE '%Scotland%' OR\n",
    "                a.location LIKE '%Northern Ireland%')\n",
    "        AND s.mode == 1\n",
    "    GROUP BY a.name--, a.location\n",
    "    ORDER BY n_songs DESC\n",
    "''').show(6)"
   ]
  },
  {
   "cell_type": "markdown",
   "id": "58f6b84e-2d33-44e7-9f10-881d620a0067",
   "metadata": {},
   "source": [
    "### 3.Desde  1970  hasta  hoy,  ¿las  canciones  son  más  rápidas  (tempo),  altas (loudness)  y cortas  (duration)  en  media?  Ordena  los  resultados  por  año ascendente."
   ]
  },
  {
   "cell_type": "code",
   "execution_count": 7,
   "id": "0aa580c7-25a7-44c6-a395-92b2309d7dc9",
   "metadata": {},
   "outputs": [
    {
     "name": "stdout",
     "output_type": "stream",
     "text": [
      "+----+------------------+-------------------+------------------+\n",
      "|year|             tempo|           loudness|          duration|\n",
      "+----+------------------+-------------------+------------------+\n",
      "|1970|121.34628571428576| -11.92847619047619|231.42578619047612|\n",
      "|1971|136.16195999999997|-12.153000000000002|259.55428919999997|\n",
      "|1972|129.17204166666667|-11.719291666666665|238.54539749999995|\n",
      "|1973|        116.356125|-11.711541666666664|294.16444416666667|\n",
      "|1974|125.08609090909091|-10.670681818181817|239.49134636363632|\n",
      "|1975|125.41183333333332|-11.249541666666666| 277.4406354166666|\n",
      "|1976|137.26139999999998|           -11.6584|210.99404933333338|\n",
      "|1977|139.33685714285716|-11.820114285714288|255.30692799999997|\n",
      "|1978|         134.38385|           -10.1125|247.85456749999997|\n",
      "|1979|137.51694444444445|-11.879083333333332| 226.0566886111111|\n",
      "|1980|126.89337499999999|-11.098531250000002|     210.438730625|\n",
      "|1981|127.96074999999999| -11.57044444444444|211.69224499999987|\n",
      "|1982|         125.14522|          -11.34874| 251.2374241999999|\n",
      "|1983|126.14368085106382|-12.302872340425532|237.46428063829788|\n",
      "|1984|         127.95625|       -12.01503125|239.31873000000002|\n",
      "|1985|132.86585294117646|-10.313735294117647|242.61716941176468|\n",
      "|1986|126.46589189189187| -11.36972972972973|237.45331405405403|\n",
      "|1987|124.62895454545459|-11.076636363636363|246.30455568181816|\n",
      "|1988|124.96954098360652|-10.131918032786881|221.76072409836055|\n",
      "|1989|124.09290909090907|-12.034439393939392|243.40140212121216|\n",
      "+----+------------------+-------------------+------------------+\n",
      "only showing top 20 rows\n",
      "\n"
     ]
    }
   ],
   "source": [
    "spark.sql('''\n",
    "    SELECT year, mean(tempo) tempo, mean(loudness) loudness, mean(duration) duration\n",
    "    FROM song s\n",
    "    WHERE year >= 1970\n",
    "    GROUP BY year\n",
    "    ORDER BY year\n",
    "''').show()"
   ]
  },
  {
   "cell_type": "markdown",
   "id": "a1294e5b-94f7-4501-a4f9-340c21f6c6d9",
   "metadata": {},
   "source": [
    "### 4.¿Cuál es el estilo que menos abusa de los efectos de fade in y fade out (mayor número de segundos desde inicio al final del fade in más desde el inicio del fade out al final de la canción?"
   ]
  },
  {
   "cell_type": "code",
   "execution_count": 8,
   "id": "a99f27ee-3d04-4e2d-9a0b-6a7c263cac58",
   "metadata": {},
   "outputs": [
    {
     "name": "stdout",
     "output_type": "stream",
     "text": [
      "+------------------+--------------------+\n",
      "|             style|                fade|\n",
      "+------------------+--------------------+\n",
      "|    power violence|-3.29999999998165...|\n",
      "|christian hardcore|-1.95000000005052...|\n",
      "|east coast hip hop|1.199999999812462...|\n",
      "|    argentine rock|5.099999999913507E-4|\n",
      "|    melodic trance|               0.103|\n",
      "+------------------+--------------------+\n",
      "only showing top 5 rows\n",
      "\n"
     ]
    }
   ],
   "source": [
    "spark.sql('''\n",
    "    SELECT style,\n",
    "           mean((end_of_fade_on + (duration - start_of_fade_out))) fade\n",
    "    FROM song\n",
    "    GROUP BY style\n",
    "    ORDER BY fade \n",
    "''').show(5)"
   ]
  },
  {
   "cell_type": "markdown",
   "id": "09adaa54-6b1d-45e0-b9ef-60ec0afe6cd9",
   "metadata": {},
   "source": [
    "Comprobamos que tengan sentido resultados negativos (serán datos mal guardados.)"
   ]
  },
  {
   "cell_type": "code",
   "execution_count": 9,
   "id": "36831311-0ad3-4989-834a-d5e3d00c8e13",
   "metadata": {},
   "outputs": [
    {
     "data": {
      "text/html": [
       "<div>\n",
       "<style scoped>\n",
       "    .dataframe tbody tr th:only-of-type {\n",
       "        vertical-align: middle;\n",
       "    }\n",
       "\n",
       "    .dataframe tbody tr th {\n",
       "        vertical-align: top;\n",
       "    }\n",
       "\n",
       "    .dataframe thead th {\n",
       "        text-align: right;\n",
       "    }\n",
       "</style>\n",
       "<table border=\"1\" class=\"dataframe\">\n",
       "  <thead>\n",
       "    <tr style=\"text-align: right;\">\n",
       "      <th></th>\n",
       "      <th>title</th>\n",
       "      <th>end_of_fade_on</th>\n",
       "      <th>duration</th>\n",
       "      <th>start_of_fade_out</th>\n",
       "      <th>fade</th>\n",
       "    </tr>\n",
       "  </thead>\n",
       "  <tbody>\n",
       "    <tr>\n",
       "      <th>0</th>\n",
       "      <td>Inherent Scars</td>\n",
       "      <td>0.0</td>\n",
       "      <td>245.13261</td>\n",
       "      <td>245.133</td>\n",
       "      <td>-0.00039</td>\n",
       "    </tr>\n",
       "    <tr>\n",
       "      <th>1</th>\n",
       "      <td>Wepons Of Mass Deception (Album)</td>\n",
       "      <td>0.0</td>\n",
       "      <td>49.94567</td>\n",
       "      <td>49.946</td>\n",
       "      <td>-0.00033</td>\n",
       "    </tr>\n",
       "    <tr>\n",
       "      <th>2</th>\n",
       "      <td>I Versus I</td>\n",
       "      <td>0.0</td>\n",
       "      <td>184.84200</td>\n",
       "      <td>184.842</td>\n",
       "      <td>0.00000</td>\n",
       "    </tr>\n",
       "  </tbody>\n",
       "</table>\n",
       "</div>"
      ],
      "text/plain": [
       "                              title  end_of_fade_on   duration  \\\n",
       "0                    Inherent Scars             0.0  245.13261   \n",
       "1  Wepons Of Mass Deception (Album)             0.0   49.94567   \n",
       "2                        I Versus I             0.0  184.84200   \n",
       "\n",
       "   start_of_fade_out     fade  \n",
       "0            245.133 -0.00039  \n",
       "1             49.946 -0.00033  \n",
       "2            184.842  0.00000  "
      ]
     },
     "execution_count": 9,
     "metadata": {},
     "output_type": "execute_result"
    }
   ],
   "source": [
    "spark.sql('''\n",
    "    SELECT title,\n",
    "           end_of_fade_on,\n",
    "           duration, \n",
    "           start_of_fade_out,\n",
    "           (end_of_fade_on + (duration - start_of_fade_out)) fade\n",
    "    FROM song\n",
    "    WHERE style = 'power violence' OR style = 'christian hardcore'\n",
    "    ORDER BY fade \n",
    "''').toPandas()"
   ]
  },
  {
   "cell_type": "markdown",
   "id": "e3c44c5f-8d8f-4117-bbc7-f027bccfba45",
   "metadata": {},
   "source": [
    "### 5.¿Cual es la canción menos popular (hotness) de los 5 artistas más populares (hotness)?"
   ]
  },
  {
   "cell_type": "code",
   "execution_count": 10,
   "id": "3f02ad76-e536-4ca0-9fe0-11bcee5f302e",
   "metadata": {},
   "outputs": [
    {
     "name": "stdout",
     "output_type": "stream",
     "text": [
      "+--------------------+-----------+\n",
      "|               title|    hotness|\n",
      "+--------------------+-----------+\n",
      "|             Da Funk|  0.8622545|\n",
      "|Speed Of Sound (L...|0.454042766|\n",
      "|Skit #2 (Kanye We...|  0.7801197|\n",
      "| The Way I Loved You|0.853828893|\n",
      "|               Magic|0.508602172|\n",
      "+--------------------+-----------+\n",
      "\n"
     ]
    }
   ],
   "source": [
    "spark.sql('''\n",
    "    SELECT title, hotness FROM (\n",
    "        SELECT title, hotness,\n",
    "        RANK() OVER (PARTITION BY id_artist ORDER BY hotness) rank\n",
    "        FROM song\n",
    "        WHERE id_artist in (\n",
    "            SELECT id\n",
    "            FROM artist\n",
    "            ORDER BY hotness DESC\n",
    "            LIMIT 5\n",
    "        )\n",
    "    )\n",
    "    WHERE rank = 1\n",
    "''').show(5)"
   ]
  },
  {
   "cell_type": "code",
   "execution_count": 11,
   "id": "17869d33-3ccf-440a-8e5d-3c12e7e67a3e",
   "metadata": {},
   "outputs": [],
   "source": [
    "spark.stop()"
   ]
  }
 ],
 "metadata": {
  "kernelspec": {
   "display_name": "Python 3 (ipykernel)",
   "language": "python",
   "name": "python3"
  },
  "language_info": {
   "codemirror_mode": {
    "name": "ipython",
    "version": 3
   },
   "file_extension": ".py",
   "mimetype": "text/x-python",
   "name": "python",
   "nbconvert_exporter": "python",
   "pygments_lexer": "ipython3",
   "version": "3.8.0"
  }
 },
 "nbformat": 4,
 "nbformat_minor": 5
}
