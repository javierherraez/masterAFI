{
 "cells": [
  {
   "cell_type": "markdown",
   "id": "e7daeed3-45ec-4557-b995-ccb466b47a57",
   "metadata": {},
   "source": [
    "# DataFrame - SQL Queries"
   ]
  },
  {
   "cell_type": "markdown",
   "id": "fea44a60-faad-451e-849d-8aa3b112e988",
   "metadata": {},
   "source": [
    "## Prepare the Spark session"
   ]
  },
  {
   "cell_type": "code",
   "execution_count": null,
   "id": "8ee784c8-48e8-4dc0-8456-0ec48a25a761",
   "metadata": {},
   "outputs": [],
   "source": [
    "# Import findspark\n",
    "import findspark\n",
    "\n",
    "# Configure the environment\n",
    "findspark.init()\n",
    "\n",
    "# Import the Spark components required for the session creation\n",
    "from pyspark import SparkConf\n",
    "from pyspark.sql import SparkSession\n",
    "\n",
    "# Configure and create the session\n",
    "conf = SparkConf()\n",
    "conf = conf.setAppName('mds-session')\n",
    "conf = conf.setMaster('local[*]')\n",
    "spark = SparkSession.builder.config(conf = conf).getOrCreate()"
   ]
  },
  {
   "cell_type": "markdown",
   "id": "eceaaabf-bd30-43ae-8619-c58b6babbd2b",
   "metadata": {},
   "source": [
    "## Read sample datasets"
   ]
  },
  {
   "cell_type": "code",
   "execution_count": null,
   "id": "7e113a12-f170-4510-948b-79c2b04ea78d",
   "metadata": {},
   "outputs": [],
   "source": [
    "# Prepare one dataset\n",
    "live_df = spark.read.options(sep='\\t', header=False, inferSchema=True).csv('./data/live.tsv')\n",
    "live_df = live_df.select('_c6', '_c1').toDF('location', 'amount')\n",
    "live_df.show(5)"
   ]
  },
  {
   "cell_type": "code",
   "execution_count": null,
   "id": "8f93cb1a-4a53-4dcc-9b0e-ea8578abc140",
   "metadata": {},
   "outputs": [],
   "source": [
    "# Prepare the other dataset\n",
    "most_df = spark.read.options(sep='\\t', header=False, inferSchema=True).csv('./data/most-backed.tsv')\n",
    "most_df = most_df.select('_c6', '_c1').toDF('location', 'amount')\n",
    "most_df.show(5)"
   ]
  },
  {
   "cell_type": "markdown",
   "id": "8295c549-16b4-4321-b057-69a95cf244ed",
   "metadata": {},
   "source": [
    "## Registering tables"
   ]
  },
  {
   "cell_type": "code",
   "execution_count": null,
   "id": "dc622f9a-c37a-4809-9543-0588e4963c38",
   "metadata": {},
   "outputs": [],
   "source": [
    "# Register table (if not exists)\n",
    "live_df.createTempView('live')"
   ]
  },
  {
   "cell_type": "code",
   "execution_count": null,
   "id": "d0b6e34a-077e-4a3a-aee6-1639963590ea",
   "metadata": {},
   "outputs": [],
   "source": [
    "# Register table (or replace)\n",
    "most_df.createOrReplaceTempView('most')"
   ]
  },
  {
   "cell_type": "markdown",
   "id": "78017331-95de-43ff-8b7a-5a6dfc1572ff",
   "metadata": {},
   "source": [
    "## Execute queries"
   ]
  },
  {
   "cell_type": "code",
   "execution_count": null,
   "id": "d7b9e708-9442-4951-a302-aa4dc0e13cbb",
   "metadata": {},
   "outputs": [],
   "source": [
    "# Execute queries over registered tables\n",
    "spark.sql('SELECT * FROM live').show(5)"
   ]
  },
  {
   "cell_type": "code",
   "execution_count": null,
   "id": "830f9291-a02c-4d58-a2a2-2955e410672e",
   "metadata": {},
   "outputs": [],
   "source": [
    "# Queries as complex as in SQL\n",
    "spark.sql('''\n",
    "    SELECT l.location, SUM(l.amount) AS live_amount, AVG(m.amount) AS avg_most_amount\n",
    "    FROM live l, most m\n",
    "    WHERE l.location = m.location\n",
    "      AND l.amount > 1000\n",
    "    GROUP BY l.location\n",
    "    ORDER BY l.location\n",
    "''').show(5)"
   ]
  },
  {
   "cell_type": "markdown",
   "id": "b9375d09-e01c-4fc4-aca1-179c88a7911f",
   "metadata": {},
   "source": [
    "## Close the session"
   ]
  },
  {
   "cell_type": "code",
   "execution_count": null,
   "id": "00ae393c-7956-4365-aa3e-db7ef8ebb971",
   "metadata": {},
   "outputs": [],
   "source": [
    "spark.stop()"
   ]
  }
 ],
 "metadata": {
  "kernelspec": {
   "display_name": "Python 3 (ipykernel)",
   "language": "python",
   "name": "python3"
  },
  "language_info": {
   "codemirror_mode": {
    "name": "ipython",
    "version": 3
   },
   "file_extension": ".py",
   "mimetype": "text/x-python",
   "name": "python",
   "nbconvert_exporter": "python",
   "pygments_lexer": "ipython3",
   "version": "3.8.0"
  }
 },
 "nbformat": 4,
 "nbformat_minor": 5
}
