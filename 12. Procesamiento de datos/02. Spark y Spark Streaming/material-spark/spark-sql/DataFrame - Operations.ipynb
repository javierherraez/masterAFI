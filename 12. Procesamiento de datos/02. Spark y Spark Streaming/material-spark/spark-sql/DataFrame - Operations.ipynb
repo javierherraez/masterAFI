{
 "cells": [
  {
   "cell_type": "markdown",
   "id": "073a9a45-264e-4862-bc11-29dabe51fec7",
   "metadata": {},
   "source": [
    "# DataFrame - Operations"
   ]
  },
  {
   "cell_type": "markdown",
   "id": "929f444a-b9dc-4c39-af27-41b056dbcaa2",
   "metadata": {},
   "source": [
    "## Prepare the Spark session"
   ]
  },
  {
   "cell_type": "code",
   "execution_count": null,
   "id": "83575810-c90f-45d1-8e2d-6197d7e6ee97",
   "metadata": {},
   "outputs": [],
   "source": [
    "# Import findspark\n",
    "import findspark\n",
    "\n",
    "# Configure the environment\n",
    "findspark.init()\n",
    "\n",
    "# Import the Spark components required for the session creation\n",
    "from pyspark import SparkConf\n",
    "from pyspark.sql import SparkSession\n",
    "\n",
    "# Configure and create the session\n",
    "conf = SparkConf()\n",
    "conf = conf.setAppName('mds-session')\n",
    "conf = conf.setMaster('local[*]')\n",
    "spark = SparkSession.builder.config(conf = conf).getOrCreate()"
   ]
  },
  {
   "cell_type": "markdown",
   "id": "4b56447d-5833-4301-b719-43b29cb4007c",
   "metadata": {},
   "source": [
    "## Read a sample DataFrame "
   ]
  },
  {
   "cell_type": "code",
   "execution_count": null,
   "id": "fb6449b0-8cab-4aec-b072-ee3fa762c711",
   "metadata": {},
   "outputs": [],
   "source": [
    "kick_df = spark.read.options(sep='\\t', header=False, inferSchema=True).csv('./data/live.tsv')\n",
    "kick_df = kick_df.select('_c3', '_c1').toDF('country', 'amount')\n",
    "kick_df.printSchema()"
   ]
  },
  {
   "cell_type": "markdown",
   "id": "c0e10cf9-d5e8-468e-a8ae-3b7c691692e7",
   "metadata": {},
   "source": [
    "## Structure inspection"
   ]
  },
  {
   "cell_type": "code",
   "execution_count": null,
   "id": "f8c6c169-b367-4fca-a6bd-9c67fac2ccf4",
   "metadata": {},
   "outputs": [],
   "source": [
    "# Inspect types\n",
    "kick_df.dtypes"
   ]
  },
  {
   "cell_type": "code",
   "execution_count": null,
   "id": "23414640-dcf1-4c57-aabb-5619c3ac003f",
   "metadata": {},
   "outputs": [],
   "source": [
    "# Inspect schema\n",
    "kick_df.schema"
   ]
  },
  {
   "cell_type": "code",
   "execution_count": null,
   "id": "e0f532eb-46b9-4a4a-af06-334a5eda6ee6",
   "metadata": {},
   "outputs": [],
   "source": [
    "# Inspect prettify schema\n",
    "kick_df.printSchema()"
   ]
  },
  {
   "cell_type": "code",
   "execution_count": null,
   "id": "f1ff2a37-ccb6-4b8f-b776-2e80cc04153c",
   "metadata": {},
   "outputs": [],
   "source": [
    "# Inspect columns\n",
    "kick_df.columns"
   ]
  },
  {
   "cell_type": "code",
   "execution_count": null,
   "id": "3b0d2852-beb1-4586-ad0c-8518fcdc8853",
   "metadata": {},
   "outputs": [],
   "source": [
    "# Display the number of rows\n",
    "kick_df.count()"
   ]
  },
  {
   "cell_type": "markdown",
   "id": "280fa4dc-9548-4708-a25c-9ef4413ac636",
   "metadata": {},
   "source": [
    "## Content inspection"
   ]
  },
  {
   "cell_type": "code",
   "execution_count": null,
   "id": "c81f9451-b8b3-49ed-bf9f-fe17514e6695",
   "metadata": {},
   "outputs": [],
   "source": [
    "# Display DataFrame\n",
    "kick_df.show(5)"
   ]
  },
  {
   "cell_type": "code",
   "execution_count": null,
   "id": "995cf9c9-e84d-40ec-bbac-174c33eb7c56",
   "metadata": {},
   "outputs": [],
   "source": [
    "# Display top rows of the DataFrame\n",
    "kick_df.head(5)"
   ]
  },
  {
   "cell_type": "code",
   "execution_count": null,
   "id": "33568150-cb0d-40be-a4ab-3cab816ebd34",
   "metadata": {},
   "outputs": [],
   "source": [
    "# Display bottom rows of the DataFrame\n",
    "kick_df.tail(5)"
   ]
  },
  {
   "cell_type": "code",
   "execution_count": null,
   "id": "b50f94b1-d1ea-4d40-8eda-b99a8b169591",
   "metadata": {},
   "outputs": [],
   "source": [
    "# Display top rows of the DataFrame\n",
    "kick_df.take(5)"
   ]
  },
  {
   "cell_type": "code",
   "execution_count": null,
   "id": "5797bbe9-d2f4-4de3-bf5e-7620631e2a87",
   "metadata": {},
   "outputs": [],
   "source": [
    "# Display first element of the DataFrame\n",
    "kick_df.first()"
   ]
  },
  {
   "cell_type": "code",
   "execution_count": null,
   "id": "57f8dac5-9309-40e1-95c3-5d1a6147823d",
   "metadata": {},
   "outputs": [],
   "source": [
    "# Display basic statistics\n",
    "kick_df.describe().show()"
   ]
  },
  {
   "cell_type": "markdown",
   "id": "7fa3da36-493d-4fcd-88a1-bed31d7bb3e6",
   "metadata": {},
   "source": [
    "## Column operations"
   ]
  },
  {
   "cell_type": "markdown",
   "id": "658d9158-1523-4315-a03a-4e32e6955d20",
   "metadata": {},
   "source": [
    "### Column reference"
   ]
  },
  {
   "cell_type": "code",
   "execution_count": null,
   "id": "c5935759-9ba4-4cee-abb8-52bb6608ea18",
   "metadata": {},
   "outputs": [],
   "source": [
    "# Reference as variable\n",
    "kick_df.amount"
   ]
  },
  {
   "cell_type": "code",
   "execution_count": null,
   "id": "99630a2f-13ad-450b-bb20-0a93156a80a0",
   "metadata": {},
   "outputs": [],
   "source": [
    "# Reference as collection\n",
    "kick_df['amount']"
   ]
  },
  {
   "cell_type": "markdown",
   "id": "78260194-aeb7-494d-9768-e1bd1fc373fd",
   "metadata": {},
   "source": [
    "### Column transformation"
   ]
  },
  {
   "cell_type": "code",
   "execution_count": null,
   "id": "b0f8925b-a01e-4687-86e5-f1a582685892",
   "metadata": {},
   "outputs": [],
   "source": [
    "# Rename the column with an alias\n",
    "kick_df.amount.alias('quantity')"
   ]
  },
  {
   "cell_type": "code",
   "execution_count": null,
   "id": "792fc475-a3ff-4804-a775-97ae5c0659cd",
   "metadata": {},
   "outputs": [],
   "source": [
    "# Import the type from spark\n",
    "from pyspark.sql.types import FloatType\n",
    "\n",
    "# Apply the column casting\n",
    "kick_df.amount.cast(FloatType())"
   ]
  },
  {
   "cell_type": "code",
   "execution_count": null,
   "id": "6ba766a6-a2b5-4ee1-83d0-fd0af5c79673",
   "metadata": {},
   "outputs": [],
   "source": [
    "# String column substring\n",
    "kick_df.country.substr(1, 1)"
   ]
  },
  {
   "cell_type": "markdown",
   "id": "f3a715ae-1757-413e-8995-92197bbb8361",
   "metadata": {},
   "source": [
    "### Function application on columns"
   ]
  },
  {
   "cell_type": "code",
   "execution_count": null,
   "id": "6c5ab9ba-cc47-435a-bcfb-f40393156868",
   "metadata": {},
   "outputs": [],
   "source": [
    "# Import functions from spark\n",
    "from pyspark.sql import functions as F"
   ]
  },
  {
   "cell_type": "code",
   "execution_count": null,
   "id": "fc003c17-4111-42ac-b44b-9432600702d8",
   "metadata": {},
   "outputs": [],
   "source": [
    "# Case-when structure\n",
    "F.when(kick_df.amount < 0, 'Wrong').when(kick_df.amount > 1000, 'High').otherwise('Low')"
   ]
  },
  {
   "cell_type": "code",
   "execution_count": null,
   "id": "013034d9-5c5d-4f1c-b8fc-9313860bad19",
   "metadata": {},
   "outputs": [],
   "source": [
    "# Absolute of a column\n",
    "F.abs(kick_df.amount)"
   ]
  },
  {
   "cell_type": "code",
   "execution_count": null,
   "id": "a1cec750-7667-473d-82b8-603a4e67cdad",
   "metadata": {},
   "outputs": [],
   "source": [
    "# Square root of a column\n",
    "F.sqrt(kick_df.amount)"
   ]
  },
  {
   "cell_type": "code",
   "execution_count": null,
   "id": "c67dd7b4-a21f-44ef-a28c-21461eca2c99",
   "metadata": {},
   "outputs": [],
   "source": [
    "# Power of a column\n",
    "F.pow(kick_df.amount, 3)"
   ]
  },
  {
   "cell_type": "code",
   "execution_count": null,
   "id": "b8a4a82e-63a9-4998-a4b0-7c537e39e2c5",
   "metadata": {},
   "outputs": [],
   "source": [
    "# Round of a column\n",
    "F.round(kick_df.amount, 2)"
   ]
  },
  {
   "cell_type": "markdown",
   "id": "b4a9c91a-1d95-4b93-9da0-cd6d6c166cbf",
   "metadata": {},
   "source": [
    "### Conditionals"
   ]
  },
  {
   "cell_type": "code",
   "execution_count": null,
   "id": "83af06da-2b47-4052-960f-5327fe9966da",
   "metadata": {},
   "outputs": [],
   "source": [
    "# Condition on missing values\n",
    "kick_df.amount.isNull()"
   ]
  },
  {
   "cell_type": "code",
   "execution_count": null,
   "id": "1d2af614-1793-4de9-a493-0e57d6733c6a",
   "metadata": {},
   "outputs": [],
   "source": [
    "# Condition on non missing values\n",
    "kick_df.amount.isNotNull()"
   ]
  },
  {
   "cell_type": "code",
   "execution_count": null,
   "id": "66f5ec37-47f2-43da-b514-ed6d0f482372",
   "metadata": {},
   "outputs": [],
   "source": [
    "# Condition of appearance in list\n",
    "kick_df.country.isin(['ES', 'UK'])"
   ]
  },
  {
   "cell_type": "code",
   "execution_count": null,
   "id": "a6780550-0bfb-440c-828c-80dd2db469bb",
   "metadata": {},
   "outputs": [],
   "source": [
    "# Substring matching (like)\n",
    "kick_df.country.like('%ES%')"
   ]
  },
  {
   "cell_type": "code",
   "execution_count": null,
   "id": "7acce91b-dfea-4efb-9fdc-563cefe3a608",
   "metadata": {},
   "outputs": [],
   "source": [
    "# Substring matching (contains)\n",
    "kick_df.country.contains('S')"
   ]
  },
  {
   "cell_type": "code",
   "execution_count": null,
   "id": "f6f21112-72b7-4d29-936c-14e6399ee4af",
   "metadata": {},
   "outputs": [],
   "source": [
    "# Substring matching (startswith)\n",
    "kick_df.country.startswith('E')"
   ]
  },
  {
   "cell_type": "code",
   "execution_count": null,
   "id": "b226f181-3beb-4b50-9683-778ada80c4f0",
   "metadata": {},
   "outputs": [],
   "source": [
    "# Substring matching (endswith)\n",
    "kick_df.country.endswith('S')"
   ]
  },
  {
   "cell_type": "code",
   "execution_count": null,
   "id": "a007ed3b-946c-4c48-8167-8e5d48e76788",
   "metadata": {},
   "outputs": [],
   "source": [
    "# Value in a range\n",
    "kick_df.amount.between(1000, 2000)"
   ]
  },
  {
   "cell_type": "markdown",
   "id": "75cf46d8-2b85-4e88-a3cf-f85a2f6c735f",
   "metadata": {},
   "source": [
    "### Sorting"
   ]
  },
  {
   "cell_type": "code",
   "execution_count": null,
   "id": "3b5b8508-1c8a-4e5c-a7fc-7e3c94bd5643",
   "metadata": {},
   "outputs": [],
   "source": [
    "# Ascending with default null treatment\n",
    "kick_df.amount.asc()"
   ]
  },
  {
   "cell_type": "code",
   "execution_count": null,
   "id": "ec04ee4a-59f0-4a0d-8106-c3f6c81b74a8",
   "metadata": {},
   "outputs": [],
   "source": [
    "# Ascending with nulls first\n",
    "kick_df.amount.asc_nulls_first()"
   ]
  },
  {
   "cell_type": "code",
   "execution_count": null,
   "id": "4657a03e-6dd2-4e75-91d7-a229ddbc7ab0",
   "metadata": {},
   "outputs": [],
   "source": [
    "# Ascending with nulls last\n",
    "kick_df.amount.asc_nulls_last()"
   ]
  },
  {
   "cell_type": "code",
   "execution_count": null,
   "id": "58703e07-3f92-4be0-a2c5-c9d06d71b82c",
   "metadata": {},
   "outputs": [],
   "source": [
    "# Descending with default null treatment\n",
    "kick_df.amount.desc()"
   ]
  },
  {
   "cell_type": "code",
   "execution_count": null,
   "id": "1952cf69-2874-46f3-b540-0d6c97b25819",
   "metadata": {},
   "outputs": [],
   "source": [
    "# Descending with nulls first\n",
    "kick_df.amount.desc_nulls_first()"
   ]
  },
  {
   "cell_type": "code",
   "execution_count": null,
   "id": "6588fe92-b3f0-44a5-9a73-2824ab20c626",
   "metadata": {},
   "outputs": [],
   "source": [
    "# Descending with nulls last\n",
    "kick_df.amount.desc_nulls_last()"
   ]
  },
  {
   "cell_type": "markdown",
   "id": "299235a7-2fc7-42c5-8b01-219a59efde96",
   "metadata": {},
   "source": [
    "## Table operations"
   ]
  },
  {
   "cell_type": "markdown",
   "id": "8934c4ee-92c0-4b85-b210-b2ce93942b3f",
   "metadata": {},
   "source": [
    "### Select"
   ]
  },
  {
   "cell_type": "code",
   "execution_count": null,
   "id": "3df16f62-09ca-4e51-bcdf-d27e867c988d",
   "metadata": {},
   "outputs": [],
   "source": [
    "# Select all columns\n",
    "kick_df.show(5)"
   ]
  },
  {
   "cell_type": "code",
   "execution_count": null,
   "id": "f60fd5bc-3ea3-434c-9696-6f5ba78e0135",
   "metadata": {},
   "outputs": [],
   "source": [
    "# Single column selection by name\n",
    "kick_df.select('amount').show(5)"
   ]
  },
  {
   "cell_type": "code",
   "execution_count": null,
   "id": "ce49ac25-92a1-47ce-b973-740d0414c443",
   "metadata": {},
   "outputs": [],
   "source": [
    "# Multiple column selection\n",
    "kick_df.select('country', 'amount').show(5)"
   ]
  },
  {
   "cell_type": "code",
   "execution_count": null,
   "id": "f9b6c073-b75b-4d30-b99c-34d3728d9f32",
   "metadata": {},
   "outputs": [],
   "source": [
    "# Column selection by reference\n",
    "kick_df.select(kick_df.amount).show(5)"
   ]
  },
  {
   "cell_type": "code",
   "execution_count": null,
   "id": "68587c99-36f7-4961-9ef2-6bfa9db78a0e",
   "metadata": {},
   "outputs": [],
   "source": [
    "# Direct operations on columns\n",
    "kick_df.select((kick_df.amount / 1000)).show(5)"
   ]
  },
  {
   "cell_type": "code",
   "execution_count": null,
   "id": "ab8e7f8c-c091-42e0-a714-b2df65f2f40e",
   "metadata": {},
   "outputs": [],
   "source": [
    "# Column operations on select\n",
    "kick_df.select(\n",
    "    kick_df.amount,\n",
    "    (kick_df.amount / 1000),\n",
    "    (kick_df.amount > 1000),\n",
    "    F.when(kick_df.amount > 1000, 'High').otherwise('Low'),\n",
    "    F.round(kick_df.amount / 1000, 1)\n",
    ").show(5)"
   ]
  },
  {
   "cell_type": "code",
   "execution_count": null,
   "id": "468be802-d3e5-4edf-8301-eed73337a976",
   "metadata": {},
   "outputs": [],
   "source": [
    "# Column operations on select (aliasing)\n",
    "kick_df.select(\n",
    "    kick_df.amount,\n",
    "    (kick_df.amount / 1000).alias('amount_k'),\n",
    "    (kick_df.amount > 1000).alias('amount_over_1000'),\n",
    "    F.when(kick_df.amount > 1000, 'High').otherwise('Low').alias('amount_high'),\n",
    "    F.round(kick_df.amount / 1000, 1).alias('rounded_amount')\n",
    ").show(5)"
   ]
  },
  {
   "cell_type": "markdown",
   "id": "292d78f0-b3f9-47b9-8fc0-470b53785cf3",
   "metadata": {},
   "source": [
    "### Where"
   ]
  },
  {
   "cell_type": "code",
   "execution_count": null,
   "id": "d6a65ef4-638d-4c6e-a7ee-b949071e75d6",
   "metadata": {},
   "outputs": [],
   "source": [
    "# Filtering by direct values\n",
    "kick_df.where(kick_df.country == 'GB').show(5)"
   ]
  },
  {
   "cell_type": "code",
   "execution_count": null,
   "id": "c12bbf0f-51d9-4506-b34b-ad7d2b213466",
   "metadata": {},
   "outputs": [],
   "source": [
    "# Filtering by conditional functions\n",
    "kick_df.where(kick_df.amount.between(10000, 20000)).show(5)"
   ]
  },
  {
   "cell_type": "markdown",
   "id": "a55e931e-eb85-4492-a3a7-03d71b17c85f",
   "metadata": {},
   "source": [
    "### Sorting"
   ]
  },
  {
   "cell_type": "code",
   "execution_count": null,
   "id": "2909fd36-0151-4936-bf57-92a39390b8b2",
   "metadata": {},
   "outputs": [],
   "source": [
    "# Sort by single column + ascending parameter\n",
    "kick_df.select('country', 'amount').orderBy('amount', ascending=False).show(5)"
   ]
  },
  {
   "cell_type": "code",
   "execution_count": null,
   "id": "b99b992c-0480-42e8-b9e3-de6b0ca93123",
   "metadata": {},
   "outputs": [],
   "source": [
    "# Sort by multiple columns + ascending parameter\n",
    "kick_df.select('country', 'amount').orderBy(['country', 'amount'], ascending=[False, False]).show(5)"
   ]
  },
  {
   "cell_type": "code",
   "execution_count": null,
   "id": "6bef8db2-495f-4038-b05e-d8face87e84f",
   "metadata": {},
   "outputs": [],
   "source": [
    "# Sort by columns and ordering\n",
    "kick_df.select('country', 'amount').orderBy(kick_df.country.asc(), kick_df.amount.asc()).show(5)"
   ]
  },
  {
   "cell_type": "markdown",
   "id": "f7e3932e-017c-4000-9e9b-e381dfc6f42f",
   "metadata": {},
   "source": [
    "### Grouping and aggregation"
   ]
  },
  {
   "cell_type": "code",
   "execution_count": null,
   "id": "f5369062-0df9-4759-bbda-af1cb708177d",
   "metadata": {},
   "outputs": [],
   "source": [
    "# Add more than one column\n",
    "kick_df = kick_df.select('country', 'amount', (kick_df.amount * 2).alias('double_amount'))"
   ]
  },
  {
   "cell_type": "code",
   "execution_count": null,
   "id": "e0393d20-fd78-4b92-a4e0-4ea34b5c981d",
   "metadata": {},
   "outputs": [],
   "source": [
    "# Grouping by column\n",
    "kick_df.groupBy('country')"
   ]
  },
  {
   "cell_type": "code",
   "execution_count": null,
   "id": "9241ed67-b607-447a-93cb-a00831d2ed38",
   "metadata": {},
   "outputs": [],
   "source": [
    "# Applying aggregation functions to all non grouped columns\n",
    "kick_df.groupBy('country').sum().show(5)\n",
    "kick_df.groupBy('country').mean().show(5)\n",
    "kick_df.groupBy('country').min().show(5)\n",
    "kick_df.groupBy('country').max().show(5)\n",
    "kick_df.groupBy('country').count().show(5)"
   ]
  },
  {
   "cell_type": "code",
   "execution_count": null,
   "id": "6f4e2c52-62e4-416f-b0dc-fe3fe3591a20",
   "metadata": {},
   "outputs": [],
   "source": [
    "# Applying aggregation functions to some non grouped columns\n",
    "kick_df.groupBy('country').sum('amount').show(5)"
   ]
  },
  {
   "cell_type": "code",
   "execution_count": null,
   "id": "d51ee1ed-2ee0-4944-bc37-35beab595131",
   "metadata": {},
   "outputs": [],
   "source": [
    "# Applying different aggregation functions\n",
    "kick_df.groupBy('country').agg(\n",
    "    F.sum('amount'),\n",
    "    F.mean('double_amount')\n",
    ").show(5)"
   ]
  },
  {
   "cell_type": "markdown",
   "id": "74a18587-5d9f-442c-82b8-e2447935785a",
   "metadata": {},
   "source": [
    "### Join"
   ]
  },
  {
   "cell_type": "code",
   "execution_count": null,
   "id": "4e917254-a500-4c56-8685-e796d4208ce7",
   "metadata": {},
   "outputs": [],
   "source": [
    "# Prepare one dataset\n",
    "live_df = spark.read.options(sep='\\t', header=False, inferSchema=True).csv('./data/live.tsv')\n",
    "live_df = live_df.select('_c6', '_c1').toDF('location', 'amount')\n",
    "live_df.show(5)"
   ]
  },
  {
   "cell_type": "code",
   "execution_count": null,
   "id": "11e6869b-2c7c-4b93-8232-c00929b8a9e0",
   "metadata": {},
   "outputs": [],
   "source": [
    "# Prepare the other dataset\n",
    "most_df = spark.read.options(sep='\\t', header=False, inferSchema=True).csv('./data/most-backed.tsv')\n",
    "most_df = most_df.select('_c6', '_c1').toDF('location', 'amount')\n",
    "most_df.show(5)"
   ]
  },
  {
   "cell_type": "code",
   "execution_count": null,
   "id": "1f844e12-1dcf-4d2d-a349-610690149655",
   "metadata": {},
   "outputs": [],
   "source": [
    "# Cartesian\n",
    "live_df.join(most_df).show(5)"
   ]
  },
  {
   "cell_type": "code",
   "execution_count": null,
   "id": "0f951471-d14b-45cf-a200-78676a372809",
   "metadata": {},
   "outputs": [],
   "source": [
    "# Join with common join column\n",
    "live_df.join(most_df, on='location', how='inner').show(5)"
   ]
  },
  {
   "cell_type": "code",
   "execution_count": null,
   "id": "cba50237-d1c9-4766-ae9d-64caa7c336bf",
   "metadata": {},
   "outputs": [],
   "source": [
    "# Join with different join column\n",
    "live_df.join(most_df, (live_df.location == most_df.location), how='left').show(5)"
   ]
  },
  {
   "cell_type": "markdown",
   "id": "04fa3280-ac88-4c8c-820b-899ab7c447f4",
   "metadata": {},
   "source": [
    "### Adding/replacing/renaming columns"
   ]
  },
  {
   "cell_type": "code",
   "execution_count": null,
   "id": "9b832e2b-e820-48cb-b769-89ceeece0367",
   "metadata": {},
   "outputs": [],
   "source": [
    "# Adding column\n",
    "kick_df.withColumn('half_amount', kick_df.amount / 2).show(5)"
   ]
  },
  {
   "cell_type": "code",
   "execution_count": null,
   "id": "c0b8b218-dc82-4cd8-a298-fa91da5b7dc8",
   "metadata": {},
   "outputs": [],
   "source": [
    "# Replacing column\n",
    "kick_df.withColumn('double_amount', kick_df.double_amount.cast(FloatType())).show(5)"
   ]
  },
  {
   "cell_type": "code",
   "execution_count": null,
   "id": "60bc6635-91e3-4fae-8f36-4d85010615da",
   "metadata": {},
   "outputs": [],
   "source": [
    "# Renaming column\n",
    "kick_df.withColumnRenamed('double_amount', 'amount_x_2').show(5)"
   ]
  },
  {
   "cell_type": "markdown",
   "id": "29c9c2c7-de5f-449e-b00f-95cfdd06b339",
   "metadata": {},
   "source": [
    "## Conversion"
   ]
  },
  {
   "cell_type": "code",
   "execution_count": null,
   "id": "a50fe0ff-d985-47c3-8ada-aefece7cd324",
   "metadata": {},
   "outputs": [],
   "source": [
    "# From DataFrame to RDD\n",
    "kick_df.rdd.take(5)"
   ]
  },
  {
   "cell_type": "code",
   "execution_count": null,
   "id": "d5276d0d-d8c8-4f01-9ccc-35282df0bd5b",
   "metadata": {},
   "outputs": [],
   "source": [
    "# From DataFrame to pandas\n",
    "kick_df.toPandas().head()"
   ]
  },
  {
   "cell_type": "markdown",
   "id": "0cb250d6-8a3e-41d4-bc52-d5b81ed49058",
   "metadata": {},
   "source": [
    "## Persistence"
   ]
  },
  {
   "cell_type": "code",
   "execution_count": null,
   "id": "6256539b-52ff-40bd-8193-8c017d0b57d0",
   "metadata": {},
   "outputs": [],
   "source": [
    "# Write to file specifying format\n",
    "kick_df.write.csv('./data/output/')"
   ]
  },
  {
   "cell_type": "code",
   "execution_count": null,
   "id": "86e175f5-9c1e-441b-8caf-e77c57570985",
   "metadata": {},
   "outputs": [],
   "source": [
    "# Write to file specifying format and CSV options\n",
    "kick_df.write.options(sep='\\t', header=True).csv('./data/output_options/')"
   ]
  },
  {
   "cell_type": "code",
   "execution_count": null,
   "id": "783c845e-83fe-4dc1-b2a7-cb7a9765c2bc",
   "metadata": {},
   "outputs": [],
   "source": [
    "# Write to file specifying other formats\n",
    "kick_df.write.parquet('./data/output_parquet/')"
   ]
  },
  {
   "cell_type": "markdown",
   "id": "3febac34-58d0-4500-bc0a-e8f09619fa12",
   "metadata": {},
   "source": [
    "## Close the session"
   ]
  },
  {
   "cell_type": "code",
   "execution_count": null,
   "id": "7b814fce-32d8-4339-88f8-ff735b2b6310",
   "metadata": {},
   "outputs": [],
   "source": [
    "spark.close()"
   ]
  }
 ],
 "metadata": {
  "kernelspec": {
   "display_name": "Python 3 (ipykernel)",
   "language": "python",
   "name": "python3"
  },
  "language_info": {
   "codemirror_mode": {
    "name": "ipython",
    "version": 3
   },
   "file_extension": ".py",
   "mimetype": "text/x-python",
   "name": "python",
   "nbconvert_exporter": "python",
   "pygments_lexer": "ipython3",
   "version": "3.8.0"
  }
 },
 "nbformat": 4,
 "nbformat_minor": 5
}
