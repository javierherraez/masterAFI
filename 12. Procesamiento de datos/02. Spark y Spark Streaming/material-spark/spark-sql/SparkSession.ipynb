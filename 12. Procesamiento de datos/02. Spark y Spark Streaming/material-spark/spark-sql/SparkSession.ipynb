{
 "cells": [
  {
   "cell_type": "markdown",
   "id": "8df311b6-1ff8-4cf3-b914-ee87e3d04c77",
   "metadata": {},
   "source": [
    "# SparkSession"
   ]
  },
  {
   "cell_type": "markdown",
   "id": "8182fceb-00d5-4963-b4f3-1bb189ae6f5b",
   "metadata": {},
   "source": [
    "## Prepare the Spark session"
   ]
  },
  {
   "cell_type": "code",
   "execution_count": null,
   "id": "adef8af1-5608-47ae-8e6d-dadcc6a86d1e",
   "metadata": {},
   "outputs": [],
   "source": [
    "# Import findspark\n",
    "import findspark\n",
    "\n",
    "# Configure the environment\n",
    "findspark.init()\n",
    "\n",
    "# Import the Spark components required for the session creation\n",
    "from pyspark import SparkConf\n",
    "from pyspark.sql import SparkSession\n",
    "\n",
    "# Configure and create the session\n",
    "conf = SparkConf()\n",
    "conf = conf.setAppName('mds-session')\n",
    "conf = conf.setMaster('local[*]')\n",
    "spark = SparkSession.builder.config(conf = conf).getOrCreate()"
   ]
  },
  {
   "cell_type": "markdown",
   "id": "c48ee4db-d4ef-4cae-ba02-6943206e3687",
   "metadata": {},
   "source": [
    "## Access the SparkContext from the SparkSession"
   ]
  },
  {
   "cell_type": "code",
   "execution_count": null,
   "id": "6e691027-3da4-4206-bb82-7c299f0a5ad9",
   "metadata": {},
   "outputs": [],
   "source": [
    "# Access th\n",
    "sc = spark.sparkContext"
   ]
  },
  {
   "cell_type": "markdown",
   "id": "158b8748-b88c-440b-89ac-b2e5a893cb09",
   "metadata": {},
   "source": [
    "## Close the session"
   ]
  },
  {
   "cell_type": "code",
   "execution_count": null,
   "id": "850195d0-74e0-427c-a522-44028075be98",
   "metadata": {},
   "outputs": [],
   "source": [
    "# Stop the spark session\n",
    "spark.stop() "
   ]
  }
 ],
 "metadata": {
  "kernelspec": {
   "display_name": "Python 3 (ipykernel)",
   "language": "python",
   "name": "python3"
  },
  "language_info": {
   "codemirror_mode": {
    "name": "ipython",
    "version": 3
   },
   "file_extension": ".py",
   "mimetype": "text/x-python",
   "name": "python",
   "nbconvert_exporter": "python",
   "pygments_lexer": "ipython3",
   "version": "3.8.0"
  }
 },
 "nbformat": 4,
 "nbformat_minor": 5
}
