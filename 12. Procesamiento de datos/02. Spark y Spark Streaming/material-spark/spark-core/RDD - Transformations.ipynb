{
 "cells": [
  {
   "cell_type": "markdown",
   "metadata": {},
   "source": [
    "# RDD - Transformations"
   ]
  },
  {
   "cell_type": "markdown",
   "metadata": {},
   "source": [
    "## Prepare the Spark context"
   ]
  },
  {
   "cell_type": "code",
   "execution_count": null,
   "metadata": {},
   "outputs": [],
   "source": [
    "# Import findpsark\n",
    "import findspark\n",
    "\n",
    "# Configure the environment\n",
    "findspark.init()\n",
    "\n",
    "# Import the Spark components required for the context creation\n",
    "from pyspark import SparkConf, SparkContext\n",
    "\n",
    "# Configure and create the context\n",
    "conf = SparkConf()\n",
    "conf = conf.setAppName('mds-session')\n",
    "conf = conf.setMaster('local[*]')\n",
    "sc = SparkContext.getOrCreate(conf=conf)"
   ]
  },
  {
   "cell_type": "markdown",
   "metadata": {},
   "source": [
    "## map"
   ]
  },
  {
   "cell_type": "code",
   "execution_count": null,
   "metadata": {},
   "outputs": [],
   "source": [
    "rdd1 = sc.parallelize(['a', 'b', 'c', 'a', 'c'])\n",
    "rdd2 = rdd1.map(lambda element: (element, 1))\n",
    "print(rdd1.collect())\n",
    "print(rdd2.collect())"
   ]
  },
  {
   "cell_type": "markdown",
   "metadata": {},
   "source": [
    "## flatMap"
   ]
  },
  {
   "cell_type": "code",
   "execution_count": null,
   "metadata": {},
   "outputs": [],
   "source": [
    "def splitLine(line):\n",
    "    return line.split()\n",
    "\n",
    "rdd1 = sc.parallelize(['en un lugar', 'de la mancha', 'de cuyo nombre', 'no quiero acordarme'])\n",
    "rdd2 = rdd1.map(splitLine)\n",
    "print(rdd1.collect())\n",
    "print(rdd2.collect())"
   ]
  },
  {
   "cell_type": "code",
   "execution_count": null,
   "metadata": {},
   "outputs": [],
   "source": [
    "rdd1 = sc.parallelize(['en un lugar', 'de la mancha', 'de cuyo nombre', 'no quiero acordarme'])\n",
    "rdd2 = rdd1.flatMap(splitLine)\n",
    "print(rdd1.collect())\n",
    "print(rdd2.collect())"
   ]
  },
  {
   "cell_type": "code",
   "execution_count": null,
   "metadata": {},
   "outputs": [],
   "source": [
    "def splitLineAndRemove(line):\n",
    "    if line != 'de la mancha':\n",
    "        return line.split()\n",
    "    else:\n",
    "        return ''"
   ]
  },
  {
   "cell_type": "code",
   "execution_count": null,
   "metadata": {},
   "outputs": [],
   "source": [
    "rdd1 = sc.parallelize(['en un lugar', 'de la mancha', 'de cuyo nombre', 'no quiero acordarme'])\n",
    "rdd2 = rdd1.map(splitLineAndRemove)\n",
    "print(rdd1.collect())\n",
    "print(rdd2.collect())"
   ]
  },
  {
   "cell_type": "code",
   "execution_count": null,
   "metadata": {},
   "outputs": [],
   "source": [
    "rdd1 = sc.parallelize(['en un lugar', 'de la mancha', 'de cuyo nombre', 'no quiero acordarme'])\n",
    "rdd2 = rdd1.flatMap(splitLineAndRemove)\n",
    "print(rdd1.collect())\n",
    "print(rdd2.collect())"
   ]
  },
  {
   "cell_type": "markdown",
   "metadata": {},
   "source": [
    "## filter"
   ]
  },
  {
   "cell_type": "code",
   "execution_count": null,
   "metadata": {},
   "outputs": [],
   "source": [
    "rdd1 = sc.parallelize(list(range(10)))\n",
    "rdd2 = rdd1.filter(lambda element: element % 2 == 0)\n",
    "print(rdd1.collect())\n",
    "print(rdd2.collect())"
   ]
  },
  {
   "cell_type": "markdown",
   "metadata": {},
   "source": [
    "## groupBy"
   ]
  },
  {
   "cell_type": "code",
   "execution_count": null,
   "metadata": {},
   "outputs": [],
   "source": [
    "rdd1 = sc.parallelize(['2014-12-31', '2015-01-25', '2016-05-17', '2016-11-08', '2017-01-05', '2014-08-06'])\n",
    "rdd2 = rdd1.groupBy(lambda element: element.split('-')[0])\n",
    "print(rdd1.collect())\n",
    "print(rdd2.collect())\n",
    "print([(key, list(value)) for (key, value) in rdd2.collect()])"
   ]
  },
  {
   "cell_type": "markdown",
   "metadata": {},
   "source": [
    "## sortBy"
   ]
  },
  {
   "cell_type": "code",
   "execution_count": null,
   "metadata": {},
   "outputs": [],
   "source": [
    "rdd1 = sc.parallelize([('a', 1), ('c', 10), ('b', 2)])\n",
    "rdd2 = rdd1.sortBy(lambda element: element[0])\n",
    "rdd3 = rdd1.sortBy(lambda element: element[1], ascending = False)\n",
    "print(rdd1.collect())\n",
    "print(rdd2.collect())\n",
    "print(rdd3.collect())"
   ]
  },
  {
   "cell_type": "markdown",
   "metadata": {},
   "source": [
    "## union"
   ]
  },
  {
   "cell_type": "code",
   "execution_count": null,
   "metadata": {},
   "outputs": [],
   "source": [
    "rdd1 = sc.parallelize(['daniel', 'jose', 'miguel', 'juan'])\n",
    "rdd2 = sc.parallelize(['maria', 'rocio', 'cristina', 'lucia', 'juan'])\n",
    "rdd3 = rdd1.union(rdd2)\n",
    "print(rdd3.collect())"
   ]
  },
  {
   "cell_type": "markdown",
   "metadata": {},
   "source": [
    "## intersection"
   ]
  },
  {
   "cell_type": "code",
   "execution_count": null,
   "metadata": {},
   "outputs": [],
   "source": [
    "rdd1 = sc.parallelize(['daniel', 'jose', 'miguel', 'maria', 'lucia'])\n",
    "rdd2 = sc.parallelize(['maria', 'rocio', 'cristina', 'lucia'])\n",
    "rdd3 = rdd1.intersection(rdd2)\n",
    "print(rdd3.collect())"
   ]
  },
  {
   "cell_type": "markdown",
   "metadata": {},
   "source": [
    "## cartesian"
   ]
  },
  {
   "cell_type": "code",
   "execution_count": null,
   "metadata": {},
   "outputs": [],
   "source": [
    "rdd1 = sc.parallelize(['daniel', 'jose', 'miguel', 'maria', 'lucia'])\n",
    "rdd2 = sc.parallelize(['maria', 'rocio', 'cristina', 'lucia'])\n",
    "rdd3 = rdd1.cartesian(rdd2)\n",
    "print(rdd3.collect())"
   ]
  },
  {
   "cell_type": "markdown",
   "metadata": {},
   "source": [
    "## distinct "
   ]
  },
  {
   "cell_type": "code",
   "execution_count": null,
   "metadata": {},
   "outputs": [],
   "source": [
    "rdd1 = sc.parallelize(['madrid', 'barcelona', 'madrid', 'valencia', 'sevilla', 'valencia'])\n",
    "rdd2 = rdd1.distinct()\n",
    "print(rdd1.collect())\n",
    "print(rdd2.collect())"
   ]
  },
  {
   "cell_type": "markdown",
   "metadata": {},
   "source": [
    "## sample"
   ]
  },
  {
   "cell_type": "code",
   "execution_count": null,
   "metadata": {},
   "outputs": [],
   "source": [
    "rdd1 = sc.parallelize(list(range(100)))\n",
    "rdd2 = rdd1.sample(False, 0.1)\n",
    "print(rdd2.collect())"
   ]
  },
  {
   "cell_type": "markdown",
   "metadata": {},
   "source": [
    "## Stop the Spark context"
   ]
  },
  {
   "cell_type": "code",
   "execution_count": null,
   "metadata": {},
   "outputs": [],
   "source": [
    "sc.stop()"
   ]
  },
  {
   "cell_type": "code",
   "execution_count": null,
   "metadata": {},
   "outputs": [],
   "source": []
  }
 ],
 "metadata": {
  "kernelspec": {
   "display_name": "Python 3 (ipykernel)",
   "language": "python",
   "name": "python3"
  },
  "language_info": {
   "codemirror_mode": {
    "name": "ipython",
    "version": 3
   },
   "file_extension": ".py",
   "mimetype": "text/x-python",
   "name": "python",
   "nbconvert_exporter": "python",
   "pygments_lexer": "ipython3",
   "version": "3.8.0"
  }
 },
 "nbformat": 4,
 "nbformat_minor": 4
}
