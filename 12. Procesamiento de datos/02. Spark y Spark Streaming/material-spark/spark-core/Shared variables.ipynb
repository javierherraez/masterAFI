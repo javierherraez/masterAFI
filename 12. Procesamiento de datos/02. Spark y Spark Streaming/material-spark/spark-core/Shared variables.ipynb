{
 "cells": [
  {
   "cell_type": "markdown",
   "metadata": {},
   "source": [
    "# Shared variables"
   ]
  },
  {
   "cell_type": "markdown",
   "metadata": {},
   "source": [
    "## Prepare the Spark context"
   ]
  },
  {
   "cell_type": "code",
   "execution_count": null,
   "metadata": {},
   "outputs": [],
   "source": [
    "# Import findpsark\n",
    "import findspark\n",
    "\n",
    "# Configure the environment\n",
    "findspark.init()\n",
    "\n",
    "# Import the Spark components required for the context creation\n",
    "from pyspark import SparkConf, SparkContext\n",
    "\n",
    "# Configure and create the context\n",
    "conf = SparkConf()\n",
    "conf = conf.setAppName('mds-session')\n",
    "conf = conf.setMaster('local[*]')\n",
    "sc = SparkContext.getOrCreate(conf=conf)"
   ]
  },
  {
   "cell_type": "markdown",
   "metadata": {},
   "source": [
    "## Accumulators"
   ]
  },
  {
   "cell_type": "code",
   "execution_count": null,
   "metadata": {},
   "outputs": [],
   "source": [
    "errors = sc.accumulator(0)\n",
    "\n",
    "def parseDate(date):\n",
    "    try:\n",
    "        year, month, day = date.split('-')\n",
    "        return (year, month + '-' + day)\n",
    "    except:\n",
    "        errors.add(1)\n",
    "\n",
    "rdd1 = sc.parallelize(['2014-12-31', '2015-01-25', '2016-05-17', '2016-', '2017-01-05', '2014-06'])\n",
    "rdd2 = rdd1.map(parseDate)\n",
    "results = rdd2.collect()\n",
    "\n",
    "print(errors.value)"
   ]
  },
  {
   "cell_type": "markdown",
   "metadata": {},
   "source": [
    "## Broadcast variables"
   ]
  },
  {
   "cell_type": "code",
   "execution_count": null,
   "metadata": {},
   "outputs": [],
   "source": [
    "students = dict()\n",
    "students['25'] = 'Cristina'\n",
    "students['12'] = 'Lucia'\n",
    "studentsBC = sc.broadcast(students)\n",
    "\n",
    "subjects = dict()\n",
    "subjects['0'] = 'Lengua'\n",
    "subjects['1'] = 'Matematicas'\n",
    "subjectsBC = sc.broadcast(subjects)\n",
    "\n",
    "rdd1 = sc.parallelize([(25, 0, 10), (25, 1, 8), (12, 0, 7), (12, 1, 9)])\n",
    "\n",
    "def translate(element):\n",
    "    return (studentsBC.value[str(element[0])], subjectsBC.value[str(element[1])], element[2])\n",
    "\n",
    "rdd2 = rdd1.map(translate)\n",
    "print(rdd2.collect())"
   ]
  },
  {
   "cell_type": "markdown",
   "metadata": {},
   "source": [
    "## Close the Spark context"
   ]
  },
  {
   "cell_type": "code",
   "execution_count": null,
   "metadata": {},
   "outputs": [],
   "source": [
    "sc.stop()"
   ]
  }
 ],
 "metadata": {
  "kernelspec": {
   "display_name": "Python 3 (ipykernel)",
   "language": "python",
   "name": "python3"
  },
  "language_info": {
   "codemirror_mode": {
    "name": "ipython",
    "version": 3
   },
   "file_extension": ".py",
   "mimetype": "text/x-python",
   "name": "python",
   "nbconvert_exporter": "python",
   "pygments_lexer": "ipython3",
   "version": "3.8.0"
  }
 },
 "nbformat": 4,
 "nbformat_minor": 4
}
