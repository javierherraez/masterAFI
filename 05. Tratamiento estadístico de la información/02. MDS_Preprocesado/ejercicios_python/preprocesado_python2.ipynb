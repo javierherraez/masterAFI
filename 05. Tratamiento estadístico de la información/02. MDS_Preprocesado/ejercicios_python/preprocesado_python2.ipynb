{
 "cells": [
  {
   "cell_type": "markdown",
   "metadata": {
    "_uuid": "b2f38bebc11e4b29f6b70e73b0571fd4a8532280"
   },
   "source": [
    "# Preprocesado de datos de la web de hoteles Expedia\n",
    "\n"
   ]
  },
  {
   "cell_type": "markdown",
   "metadata": {
    "_uuid": "a761c3de6fbf573fbc6e823464482f8ba5f684bb"
   },
   "source": [
    "## Importamos las librerías necesarias"
   ]
  },
  {
   "cell_type": "code",
   "execution_count": null,
   "metadata": {
    "_cell_guid": "b1076dfc-b9ad-4769-8c92-a6c4dae69d19",
    "_uuid": "8f2839f25d086af736a60e9eeb907d3b93b6e0e5"
   },
   "outputs": [],
   "source": [
    "import numpy as np \n",
    "import pandas as pd\n",
    "\n",
    "import os\n",
    "\n",
    "import pandas as pd\n",
    "import boto3\n",
    "from io import StringIO\n",
    "import io\n",
    "import string\n",
    "import random\n",
    "import json\n",
    "import pickle\n",
    "import numpy as np \n",
    "import pandas as pd\n",
    "import matplotlib.pyplot as plt\n",
    "%matplotlib inline\n",
    "import seaborn as sns\n",
    "from scipy import stats\n",
    "from scipy.stats import norm"
   ]
  },
  {
   "cell_type": "markdown",
   "metadata": {
    "_cell_guid": "79c7e3d0-c299-4dcb-8224-4455121ee9b0",
    "_uuid": "d629ff2d2480ee46fbb7e2d37f6b5fab8052498a",
    "collapsed": true
   },
   "source": [
    "### Dataset\n",
    "\n",
    "Datos relativos a 2013-2014"
   ]
  },
  {
   "cell_type": "code",
   "execution_count": null,
   "metadata": {
    "_uuid": "ccffca67351a1873910e75183f9ef7cdd5229b00"
   },
   "outputs": [],
   "source": [
    "data = pd.read_csv('train.csv', nrows=100000)\n",
    "\n",
    "data.head()"
   ]
  },
  {
   "cell_type": "code",
   "execution_count": null,
   "metadata": {
    "_uuid": "2414038b41689866c070b4dc35f2b899401f6c07"
   },
   "outputs": [],
   "source": [
    "data.columns"
   ]
  },
  {
   "cell_type": "code",
   "execution_count": null,
   "metadata": {
    "_uuid": "9fc4e34c4861ceab5e509d73bec12d871ca065c0"
   },
   "outputs": [],
   "source": [
    "data.info()"
   ]
  },
  {
   "cell_type": "markdown",
   "metadata": {
    "_uuid": "012455486e23e6d17e292207ae80faa96cb10e47"
   },
   "source": [
    "#### Variables\n",
    "\n",
    "|  Variable |  Descripción | \n",
    "|----------|:---------|\n",
    "| date_time  | Timestamp     |\n",
    "| site_name | ID del punto de venta de Expedia|\n",
    "| posa_continent | ID del continente del site |\n",
    "| user_location_country |ID del país del cliente |\n",
    "| user_location_region|ID de la región del cliente|\n",
    "| user_location_city| ID of la ciudad del cliente|\n",
    "| orig_destination_distance| Distancia física entre un hotel y el cliente|\n",
    "| user_id| ID of usuario|\n",
    "| is_mobile| 1 para dispositivos móviles, 0 en otro caso|\n",
    "| is_package| 1 si la reserva es parte de un paquete, 0 en otro caso|\n",
    "| channel| ID del canal de marketing|\n",
    "| srch_ci| Fecha de check-in|\n",
    "| srch_co|Fecha de heck-out|\n",
    "| srch_adults_cnt| Número de adultos|\n",
    "| srch_children_cnt| Número de niños|\n",
    "| srch_rm_cnt| Número de habitaciones|\n",
    "| srch_destination_id| ID del destino|\n",
    "| srch_destination_type_id| Tipo de destino|\n",
    "| is_booking | 1 si se reserva, 0 si se hace click|\n",
    "| cnt| Número de eventos similares en la misma sesión de usuario|\n",
    "| hotel_continent| Continente del hotel|\n",
    "| hotel_country| País del hotely|\n",
    "| hotel_market| Mercado del hotel|\n",
    "| hotel_cluster| ID del cluster del hotel|\n"
   ]
  },
  {
   "cell_type": "markdown",
   "metadata": {},
   "source": [
    "### Comprobamos el porcentaje de NA que hay en el dataset"
   ]
  },
  {
   "cell_type": "code",
   "execution_count": null,
   "metadata": {},
   "outputs": [],
   "source": [
    "\n",
    "total = data.isnull().sum().sort_values(ascending=False)\n",
    "percent = (data.isnull().sum()/len(data)).sort_values(ascending=False)\n",
    "missing_data = pd.concat([total, percent], axis=1, keys=['Total', 'Porcentaje'])\n",
    "missing_data.head(20)"
   ]
  },
  {
   "cell_type": "markdown",
   "metadata": {
    "_uuid": "0f73a93553010c004a4fd263f1850f32bdf440fb"
   },
   "source": [
    "### Convertimos a fecha las variables que lo sean de nuestro set de datos:\n",
    "\n",
    "- date_time\n",
    "- srch_ci\n",
    "- srch_co\n",
    "\n",
    "\n"
   ]
  },
  {
   "cell_type": "markdown",
   "metadata": {
    "_uuid": "63056ab67dcbef09581def2ccd5d8b99914497a3"
   },
   "source": [
    "### Además, generamos nuevas variables a partir de ellas, que sirvan como input a futuros modelos\n",
    "\n",
    "- stay_dur: duración de la estancia\n",
    "- no_of_days_bet_booking: número de días entre la reserva y la estancia \n",
    "- Cin_day: día del check in\n",
    "- Cin_month: mes del check in\n",
    "- Cin_year: año del check-in"
   ]
  },
  {
   "cell_type": "code",
   "execution_count": null,
   "metadata": {
    "_uuid": "92c90e5f29091f15a6ea7cd537e64bd98a6e98a9"
   },
   "outputs": [],
   "source": [
    "# Function to convert date object into relevant attributes\n",
    "def convert_date_into_days(df):\n",
    "    df['srch_ci'] = pd.to_datetime(df['srch_ci'])\n",
    "    df['srch_co'] = pd.to_datetime(df['srch_co'])\n",
    "    df['date_time'] = pd.to_datetime(df['date_time'])\n",
    "    \n",
    "    df['stay_dur'] = (df['srch_co'] - df['srch_ci']).astype('timedelta64[D]')\n",
    "    df['no_of_days_bet_booking'] = (df['srch_ci'] - df['date_time']).astype('timedelta64[D]')\n",
    "    \n",
    "    df['Cin_day'] = df[\"srch_ci\"].apply(lambda x: x.day)\n",
    "    df['Cin_month'] = df[\"srch_ci\"].apply(lambda x: x.month)\n",
    "    df['Cin_year'] = df[\"srch_ci\"].apply(lambda x: x.year)\n",
    "    return df"
   ]
  },
  {
   "cell_type": "code",
   "execution_count": null,
   "metadata": {
    "_uuid": "a85d8ce5569771547285e38360fb39882d4287db"
   },
   "outputs": [],
   "source": [
    "data = convert_date_into_days(data)"
   ]
  },
  {
   "cell_type": "code",
   "execution_count": null,
   "metadata": {
    "_uuid": "8cda4efb54d5dfc9ffa23d5f4830583c8cb806d4"
   },
   "outputs": [],
   "source": [
    "data.info()"
   ]
  },
  {
   "cell_type": "code",
   "execution_count": null,
   "metadata": {},
   "outputs": [],
   "source": [
    "## Número de reservas por año\n",
    "\n",
    "cin_year = data.Cin_year.value_counts()               \n",
    "cin_year"
   ]
  },
  {
   "cell_type": "code",
   "execution_count": null,
   "metadata": {
    "_uuid": "ef8b992ad1612dd187f011e4d0330a95334ff88f"
   },
   "outputs": [],
   "source": [
    "## Número de reservas por mes\n",
    "\n",
    "cin_month = data.Cin_month.value_counts()               \n",
    "cin_month"
   ]
  },
  {
   "cell_type": "code",
   "execution_count": null,
   "metadata": {
    "_uuid": "9470031484cff52d01f0a9ae1f21290839423577"
   },
   "outputs": [],
   "source": [
    "## Número de reservas por día\n",
    "\n",
    "cin_days = data.Cin_day.value_counts()    \n",
    "\n",
    "cin_days"
   ]
  },
  {
   "cell_type": "code",
   "execution_count": null,
   "metadata": {
    "_uuid": "5aedcaf92721476b8e68b41b0985d468acda12ca"
   },
   "outputs": [],
   "source": [
    "## Número de reservas por duración de la estancia\n",
    "\n",
    "stay_dur = data.stay_dur.value_counts()           \n",
    "stay_dur"
   ]
  },
  {
   "cell_type": "markdown",
   "metadata": {
    "_uuid": "7c870cdf136ee5db4ebd38bd10e3d21f99f2431c"
   },
   "source": [
    "### Volvemos a comprobar NA y rellenamos con aquellos valores que son más frecuentes"
   ]
  },
  {
   "cell_type": "code",
   "execution_count": null,
   "metadata": {},
   "outputs": [],
   "source": [
    "total = data.isnull().sum().sort_values(ascending=False)\n",
    "percent = (data.isnull().sum()/len(data)).sort_values(ascending=False)\n",
    "missing_data = pd.concat([total, percent], axis=1, keys=['Total', 'Porcentaje'])\n",
    "missing_data.head(20)"
   ]
  },
  {
   "cell_type": "code",
   "execution_count": null,
   "metadata": {},
   "outputs": [],
   "source": []
  },
  {
   "cell_type": "code",
   "execution_count": null,
   "metadata": {
    "_uuid": "9648b728ceabca8584a473251b91373234c270c5"
   },
   "outputs": [],
   "source": [
    "data['Cin_day'] = data['Cin_day'].fillna(cin_days.index[0])\n",
    "data['Cin_month'] = data['Cin_month'].fillna(cin_month.index[0])\n",
    "data['Cin_year'] = data['Cin_year'].fillna(cin_year.index[0])\n",
    "data['stay_dur'] = data['stay_dur'].fillna(stay_dur.index[0])\n",
    "data['no_of_days_bet_booking'] = data['no_of_days_bet_booking'].fillna(0.0)"
   ]
  },
  {
   "cell_type": "code",
   "execution_count": null,
   "metadata": {
    "_uuid": "1066f40c6ab6975a638864a0cf2c9671689aefbb"
   },
   "outputs": [],
   "source": [
    "# Rellenar los NA en la vriable distancia entre el origen y destino, con la media\n",
    "\n",
    "data['orig_destination_distance'].fillna(data['orig_destination_distance'].mean(), inplace=True)"
   ]
  },
  {
   "cell_type": "code",
   "execution_count": null,
   "metadata": {
    "_uuid": "d8e726fd4a542663e7fc3e49b31a25b06bfbc9c4"
   },
   "outputs": [],
   "source": [
    "data.head()"
   ]
  },
  {
   "cell_type": "code",
   "execution_count": null,
   "metadata": {},
   "outputs": [],
   "source": []
  },
  {
   "cell_type": "markdown",
   "metadata": {},
   "source": [
    "### Realmente, tendríamos que haber borrado los registros que no habían acabado en reserva"
   ]
  },
  {
   "cell_type": "code",
   "execution_count": null,
   "metadata": {},
   "outputs": [],
   "source": [
    "data = data[data.is_booking != 0]"
   ]
  },
  {
   "cell_type": "markdown",
   "metadata": {},
   "source": [
    "### Vemos si hay outliers"
   ]
  },
  {
   "cell_type": "code",
   "execution_count": null,
   "metadata": {},
   "outputs": [],
   "source": [
    "data.columns"
   ]
  },
  {
   "cell_type": "code",
   "execution_count": null,
   "metadata": {},
   "outputs": [],
   "source": [
    "num_cols = ['orig_destination_distance', 'srch_adults_cnt', 'srch_children_cnt',\n",
    "       'srch_rm_cnt', 'no_of_days_bet_booking', 'stay_dur', 'cnt']\n",
    "plt.figure(figsize=(18,9))\n",
    "data[num_cols].boxplot()\n",
    "plt.title(\"Variables numéricas\", fontsize=20)\n",
    "plt.show()"
   ]
  },
  {
   "cell_type": "markdown",
   "metadata": {},
   "source": [
    "#### Vemos que la variable distancia entre origen y destino tiene bastante valores anómalos. "
   ]
  },
  {
   "cell_type": "code",
   "execution_count": null,
   "metadata": {},
   "outputs": [],
   "source": [
    "data[data.orig_destination_distance > 4000]"
   ]
  },
  {
   "cell_type": "code",
   "execution_count": null,
   "metadata": {},
   "outputs": [],
   "source": []
  },
  {
   "cell_type": "markdown",
   "metadata": {},
   "source": [
    "#### Además, debido a la diferencia de magnitud con las otras variables, no podemos ver bien si hay outliers en el resto de campos. Vamos a separarlos"
   ]
  },
  {
   "cell_type": "code",
   "execution_count": null,
   "metadata": {},
   "outputs": [],
   "source": [
    "num_cols = ['srch_adults_cnt', 'srch_children_cnt',\n",
    "       'srch_rm_cnt', 'no_of_days_bet_booking', 'stay_dur', 'cnt']\n",
    "\n",
    "plt.figure(figsize=(18,9))\n",
    "data[num_cols].boxplot()\n",
    "plt.title(\"Variables numéricas\", fontsize=20)\n",
    "plt.show()"
   ]
  },
  {
   "cell_type": "code",
   "execution_count": null,
   "metadata": {},
   "outputs": [],
   "source": [
    "data[data.no_of_days_bet_booking > 100].orig_destination_distance.mean()"
   ]
  },
  {
   "cell_type": "code",
   "execution_count": null,
   "metadata": {},
   "outputs": [],
   "source": [
    "data[data.no_of_days_bet_booking > 100].orig_destination_distance.median()"
   ]
  },
  {
   "cell_type": "code",
   "execution_count": null,
   "metadata": {},
   "outputs": [],
   "source": []
  }
 ],
 "metadata": {
  "kernelspec": {
   "display_name": "Python 3",
   "language": "python",
   "name": "python3"
  },
  "language_info": {
   "codemirror_mode": {
    "name": "ipython",
    "version": 3
   },
   "file_extension": ".py",
   "mimetype": "text/x-python",
   "name": "python",
   "nbconvert_exporter": "python",
   "pygments_lexer": "ipython3",
   "version": "3.7.6"
  }
 },
 "nbformat": 4,
 "nbformat_minor": 1
}
