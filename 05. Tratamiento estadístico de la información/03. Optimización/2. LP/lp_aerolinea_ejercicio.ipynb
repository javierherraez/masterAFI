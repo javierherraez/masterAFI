{
 "cells": [
  {
   "cell_type": "markdown",
   "metadata": {
    "id": "Eo4JvxW-aNZv"
   },
   "source": [
    "## Gestión de ingresos de aerolíneas\n",
    "\n",
    "¿A qué tarifa se tienen que asignar asientos del avión para maximizar los ingresos?\n",
    "\n",
    "\n",
    "### Formulación matemática\n",
    "\n",
    "* $t \\in T$: tarifas de asientos\n",
    "* $s_t$: nº de asientos asignados a cada tarifa \n",
    "* $p_t$: precio de un asiento en cada tarifa\n",
    "* $d_t$: tope de demanda de asientos en cada tarifa\n",
    "* $S$: asientos del avión\n",
    "\n",
    "\\begin{eqnarray*}\n",
    "\\max_{s_t} & \\sum_{t \\in T} p_t s_t \\\\\n",
    "\\text{s.t.} & \\\\\n",
    "  & s_t \\leq d_t & \\forall t \\in T \\\\\n",
    "  & \\sum_{t \\in T} s_t \\leq S \\\\\n",
    "  & s_t \\geq 0 & \\forall t \\in T\n",
    "\\end{eqnarray*}\n",
    "\n"
   ]
  },
  {
   "cell_type": "markdown",
   "metadata": {
    "id": "JFZ0MIIIaNZy"
   },
   "source": [
    "### Datos\n",
    "\n",
    "Variables|Tarifa regular|Tarifa con descuento\n",
    "-|-|-\n",
    "Precio (eur)|400|150 \n",
    "Tope de demanda (asientos)|75|125\n",
    "\n",
    "* $S$ = 150"
   ]
  },
  {
   "cell_type": "code",
   "execution_count": 1,
   "metadata": {
    "id": "vC5nWvKKaiAG"
   },
   "outputs": [],
   "source": [
    "from pandas import Series"
   ]
  },
  {
   "cell_type": "code",
   "execution_count": 2,
   "metadata": {
    "id": "LgfjMUHja0Al"
   },
   "outputs": [
    {
     "name": "stdout",
     "output_type": "stream",
     "text": [
      "150 ['Regular', 'Discount']\n"
     ]
    }
   ],
   "source": [
    "# Nº de asientos\n",
    "total_seats = 150\n",
    "\n",
    "# Lista con las tarifas disponibles\n",
    "tariffs = [\"Regular\", \"Discount\"]\n",
    "\n",
    "print(total_seats, tariffs)"
   ]
  },
  {
   "cell_type": "code",
   "execution_count": 3,
   "metadata": {
    "id": "mArqoBdBap6d"
   },
   "outputs": [
    {
     "data": {
      "text/plain": [
       "Regular     400\n",
       "Discount    150\n",
       "dtype: int64"
      ]
     },
     "execution_count": 3,
     "metadata": {},
     "output_type": "execute_result"
    }
   ],
   "source": [
    "# Serie con los precios de cada tarifa\n",
    "prices = Series(index=tariffs, data=[400, 150])\n",
    "prices"
   ]
  },
  {
   "cell_type": "code",
   "execution_count": 4,
   "metadata": {
    "id": "7vR08vA5avSl"
   },
   "outputs": [
    {
     "data": {
      "text/plain": [
       "Regular      75\n",
       "Discount    125\n",
       "dtype: int64"
      ]
     },
     "execution_count": 4,
     "metadata": {},
     "output_type": "execute_result"
    }
   ],
   "source": [
    "# Serie con la demanda de cada tarifa\n",
    "demands = Series(index=tariffs, data=[75, 125])\n",
    "demands"
   ]
  },
  {
   "cell_type": "markdown",
   "metadata": {
    "id": "2Uyk6eydaNZ1"
   },
   "source": [
    "### Resolución con PuLP"
   ]
  },
  {
   "cell_type": "code",
   "execution_count": 5,
   "metadata": {
    "id": "5wI6TH5uaNZ1"
   },
   "outputs": [
    {
     "name": "stdout",
     "output_type": "stream",
     "text": [
      "Requirement already satisfied: pulp in c:\\anaconda3\\lib\\site-packages (2.6.0)\n"
     ]
    }
   ],
   "source": [
    "!pip install pulp\n",
    "from pulp import *"
   ]
  },
  {
   "cell_type": "code",
   "execution_count": 27,
   "metadata": {
    "id": "G6jBwBtcaNZ1"
   },
   "outputs": [
    {
     "data": {
      "text/plain": [
       "Seats:\n",
       "MAXIMIZE\n",
       "None\n",
       "VARIABLES"
      ]
     },
     "execution_count": 27,
     "metadata": {},
     "output_type": "execute_result"
    }
   ],
   "source": [
    "# Crear problema de maximización\n",
    "prob = LpProblem(\"Seats\", LpMaximize)\n",
    "prob"
   ]
  },
  {
   "cell_type": "code",
   "execution_count": 28,
   "metadata": {
    "id": "G6jBwBtcaNZ1"
   },
   "outputs": [
    {
     "data": {
      "text/plain": [
       "{'Regular': Seats_Regular, 'Discount': Seats_Discount}"
      ]
     },
     "execution_count": 28,
     "metadata": {},
     "output_type": "execute_result"
    }
   ],
   "source": [
    "# Crear variables de asientos de cada tarifa \n",
    "seats = LpVariable.dicts(\"Seats\", indices=tariffs, lowBound=0, cat=LpInteger) \n",
    "seats"
   ]
  },
  {
   "cell_type": "code",
   "execution_count": 29,
   "metadata": {
    "id": "G6jBwBtcaNZ1"
   },
   "outputs": [
    {
     "data": {
      "text/plain": [
       "Seats:\n",
       "MAXIMIZE\n",
       "150*Seats_Discount + 400*Seats_Regular + 0\n",
       "VARIABLES\n",
       "0 <= Seats_Discount Integer\n",
       "0 <= Seats_Regular Integer"
      ]
     },
     "execution_count": 29,
     "metadata": {},
     "output_type": "execute_result"
    }
   ],
   "source": [
    "# Añadir función objetivo al problema\n",
    "prob += lpSum([prices[i] * seats[i] for i in tariffs])\n",
    "prob"
   ]
  },
  {
   "cell_type": "code",
   "execution_count": 30,
   "metadata": {
    "id": "G6jBwBtcaNZ1"
   },
   "outputs": [
    {
     "data": {
      "text/plain": [
       "Seats:\n",
       "MAXIMIZE\n",
       "150*Seats_Discount + 400*Seats_Regular + 0\n",
       "SUBJECT TO\n",
       "_C1: Seats_Regular <= 75\n",
       "\n",
       "_C2: Seats_Discount <= 125\n",
       "\n",
       "VARIABLES\n",
       "0 <= Seats_Discount Integer\n",
       "0 <= Seats_Regular Integer"
      ]
     },
     "execution_count": 30,
     "metadata": {},
     "output_type": "execute_result"
    }
   ],
   "source": [
    "# Añadir restricciones de no sobrepasar topes de demandas\n",
    "for t in tariffs:\n",
    "    prob += (seats[t] <= demands[t])\n",
    "prob"
   ]
  },
  {
   "cell_type": "code",
   "execution_count": 32,
   "metadata": {
    "id": "G6jBwBtcaNZ1"
   },
   "outputs": [],
   "source": [
    "# Añadir restricción de no sobrepasar total de asientos\n",
    "prob += (lpSum([seats[i] for i in tariffs]) <= total_seats)"
   ]
  },
  {
   "cell_type": "code",
   "execution_count": 33,
   "metadata": {
    "id": "G6jBwBtcaNZ1"
   },
   "outputs": [
    {
     "data": {
      "text/plain": [
       "Seats:\n",
       "MAXIMIZE\n",
       "150*Seats_Discount + 400*Seats_Regular + 0\n",
       "SUBJECT TO\n",
       "_C1: Seats_Regular <= 75\n",
       "\n",
       "_C2: Seats_Discount <= 125\n",
       "\n",
       "_C3: Seats_Discount + Seats_Regular <= 150\n",
       "\n",
       "VARIABLES\n",
       "0 <= Seats_Discount Integer\n",
       "0 <= Seats_Regular Integer"
      ]
     },
     "execution_count": 33,
     "metadata": {},
     "output_type": "execute_result"
    }
   ],
   "source": [
    "# Comprobar que el problema está bien formulado\n",
    "prob"
   ]
  },
  {
   "cell_type": "code",
   "execution_count": 36,
   "metadata": {
    "id": "kSWBWBTaaNZ2"
   },
   "outputs": [
    {
     "name": "stdout",
     "output_type": "stream",
     "text": [
      "Status:  Optimal\n",
      "Seats_Discount = 75.0\n",
      "Seats_Regular = 75.0\n"
     ]
    },
    {
     "data": {
      "text/plain": [
       "41250.0"
      ]
     },
     "execution_count": 36,
     "metadata": {},
     "output_type": "execute_result"
    }
   ],
   "source": [
    "# Resolver el problema, pintar la solución y ver cuánto da de objetivo\n",
    "status = prob.solve()\n",
    "print(\"Status: \", LpStatus[status])\n",
    "for v in prob.variables():\n",
    "  val = value(v)\n",
    "  if val > 0.0: \n",
    "    print(v.name, \"=\", v.varValue)\n",
    "round(value(prob.objective), 2)"
   ]
  },
  {
   "cell_type": "markdown",
   "metadata": {
    "id": "qeu8X-mPY-gA"
   },
   "source": [
    "* ¿Qué pasaría si en lugar de maximizar la ganancia buscamos minimizarla?\n",
    "* ¿Y si en las restricciones decimos que la suma de asientos debe ser exactamente $S$, en vez de menor o igual que $S$?\n",
    "* ¿Y si suponemos que las demandas que nos dan son las mínimas que se deben satisfacer, en lugar de ser las máximas?"
   ]
  },
  {
   "cell_type": "code",
   "execution_count": null,
   "metadata": {
    "id": "I5G_Qimta-jE"
   },
   "outputs": [],
   "source": []
  }
 ],
 "metadata": {
  "colab": {
   "name": "lp_aerolinea_ejercicio.ipynb",
   "provenance": []
  },
  "kernelspec": {
   "display_name": "Python 3",
   "language": "python",
   "name": "python3"
  },
  "language_info": {
   "codemirror_mode": {
    "name": "ipython",
    "version": 3
   },
   "file_extension": ".py",
   "mimetype": "text/x-python",
   "name": "python",
   "nbconvert_exporter": "python",
   "pygments_lexer": "ipython3",
   "version": "3.8.8"
  }
 },
 "nbformat": 4,
 "nbformat_minor": 1
}
