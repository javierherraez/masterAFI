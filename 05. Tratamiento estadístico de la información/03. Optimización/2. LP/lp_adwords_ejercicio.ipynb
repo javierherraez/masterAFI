{
  "nbformat": 4,
  "nbformat_minor": 0,
  "metadata": {
    "colab": {
      "name": "lp_adwords_ejercicio.ipynb",
      "provenance": []
    },
    "kernelspec": {
      "name": "python3",
      "display_name": "Python 3"
    },
    "language_info": {
      "name": "python"
    }
  },
  "cells": [
    {
      "cell_type": "markdown",
      "metadata": {
        "id": "Eo4JvxW-aNZv"
      },
      "source": [
        "## Google AdWords\n",
        "\n",
        "¿Cuántas veces tiene Google que mostrar anuncios?\n",
        "\n",
        "\n",
        "### Formulación matemática\n",
        "\n",
        "* $a \\in A$: anunciantes\n",
        "* $q \\in Q$: queries\n",
        "* $i_{aq}$: ingreso para Google por cada anuncio\n",
        "* $x_{aq}$: nº de veces que se muestra cada anuncio\n",
        "* $p_a$: presupuesto de cada anunciante\n",
        "* $n_q$: nº de veces que se hace cada consulta\n",
        "\n",
        "\\begin{eqnarray*}\n",
        "\\max_{x_{aq}} & \\sum_{a \\in A} \\sum_{q \\in Q} i_{aq} x_{aq} \\\\\n",
        "\\text{s.t.} & \\\\\n",
        "  & \\sum_{a \\in A} x_{aq} \\leq n_q & \\forall q \\in Q \\\\\n",
        "  & \\sum_{q \\in Q} i_{aq} x_{aq} \\leq p_a & \\forall a \\in A \\\\\n",
        "  & x_{aq} \\geq 0 & \\forall a \\in A, \\forall q \\in Q\n",
        "\\end{eqnarray*}\n",
        "\n"
      ]
    },
    {
      "cell_type": "markdown",
      "metadata": {
        "id": "JFZ0MIIIaNZy"
      },
      "source": [
        "### Datos\n",
        "\n",
        "Ingresos (€) | Q1 | Q2 | Q3 | presupuesto (€)\n",
        "  -|-|-|-|-\n",
        "  A1  | 1 | 0.75 | 5 | 200\n",
        "  A2  | 0.5 | 0.5 | 2 | 150\n",
        "  A3  | 0.5 | 3 | 1 | 180\n",
        "  nº consultas | 150 | 90 | 80 |\n"
      ]
    },
    {
      "cell_type": "code",
      "source": [
        "from pandas import DataFrame, Series"
      ],
      "metadata": {
        "id": "vC5nWvKKaiAG"
      },
      "execution_count": null,
      "outputs": []
    },
    {
      "cell_type": "code",
      "source": [
        "# Listas con los anunciantes y queries\n",
        "advertisers = [\"A1\", \"A2\", \"A3\"]\n",
        "queries = [\"Q1\", \"Q2\", \"Q3\"]\n",
        "print(advertisers, queries)"
      ],
      "metadata": {
        "id": "LgfjMUHja0Al"
      },
      "execution_count": null,
      "outputs": []
    },
    {
      "cell_type": "code",
      "source": [
        "# Serie con el presupuesto de cada anunciante\n",
        "budgets = Series(index=advertisers, data=[200, 150, 180])\n",
        "budgets"
      ],
      "metadata": {
        "id": "mArqoBdBap6d"
      },
      "execution_count": null,
      "outputs": []
    },
    {
      "cell_type": "code",
      "source": [
        "# Serie con los nºs de queries\n",
        "num_queries = Series(index=queries, data=[150, 90, 80])\n",
        "num_queries"
      ],
      "metadata": {
        "id": "7vR08vA5avSl"
      },
      "execution_count": null,
      "outputs": []
    },
    {
      "cell_type": "code",
      "execution_count": null,
      "metadata": {
        "id": "hejEewM8aNZz"
      },
      "outputs": [],
      "source": [
        "# Tabla con los ingresos de anunciantes y queries\n",
        "incomes = DataFrame(index=advertisers, columns=queries, data=[[1, 0.75, 5], [0.5, 0.5, 2], [0.5, 3, 1]])\n",
        "incomes"
      ]
    },
    {
      "cell_type": "markdown",
      "metadata": {
        "id": "2Uyk6eydaNZ1"
      },
      "source": [
        "### Resolución con PuLP"
      ]
    },
    {
      "cell_type": "code",
      "execution_count": null,
      "metadata": {
        "id": "5wI6TH5uaNZ1"
      },
      "outputs": [],
      "source": [
        "!pip install pulp\n",
        "from pulp import *"
      ]
    },
    {
      "cell_type": "code",
      "execution_count": null,
      "metadata": {
        "id": "G6jBwBtcaNZ1"
      },
      "outputs": [],
      "source": [
        "# Formular problema completo\n"
      ]
    },
    {
      "cell_type": "code",
      "execution_count": null,
      "metadata": {
        "id": "kSWBWBTaaNZ2"
      },
      "outputs": [],
      "source": [
        "# Resolver el problema, pintar la solución y ver cuánto da de objetivo\n"
      ]
    },
    {
      "cell_type": "code",
      "source": [
        ""
      ],
      "metadata": {
        "id": "I5G_Qimta-jE"
      },
      "execution_count": null,
      "outputs": []
    }
  ]
}