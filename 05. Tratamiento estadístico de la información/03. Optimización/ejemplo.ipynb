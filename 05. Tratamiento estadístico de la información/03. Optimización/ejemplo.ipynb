{
 "cells": [
  {
   "cell_type": "markdown",
   "source": [
    "### Resolución con PuLP"
   ],
   "metadata": {
    "id": "2Uyk6eydaNZ1"
   }
  },
  {
   "cell_type": "code",
   "execution_count": 1,
   "source": [
    "from pulp import *\r\n",
    "import pandas as pd"
   ],
   "outputs": [],
   "metadata": {
    "id": "5wI6TH5uaNZ1"
   }
  },
  {
   "cell_type": "code",
   "execution_count": 2,
   "source": [
    "projects = [\"P1\", \"P2\", \"P3\", \"P4\", \"P5\"]\r\n",
    "years = [\"Y1\", \"Y2\", \"Y3\"]\r\n",
    "proficts = pd.Series(index = projects, data=[20, 40, 20, 15, 30])\r\n",
    "years_expenses = pd.DataFrame(index = projects, columns=years, data=[[5,1,8], [4,7,10], [3,9,2], [7,4,1], [8,6,10]])\r\n",
    "budgets = pd.Series(index = years, data=[25] * 3)\r\n",
    "years_expenses"
   ],
   "outputs": [
    {
     "output_type": "execute_result",
     "data": {
      "text/html": [
       "<div>\n",
       "<style scoped>\n",
       "    .dataframe tbody tr th:only-of-type {\n",
       "        vertical-align: middle;\n",
       "    }\n",
       "\n",
       "    .dataframe tbody tr th {\n",
       "        vertical-align: top;\n",
       "    }\n",
       "\n",
       "    .dataframe thead th {\n",
       "        text-align: right;\n",
       "    }\n",
       "</style>\n",
       "<table border=\"1\" class=\"dataframe\">\n",
       "  <thead>\n",
       "    <tr style=\"text-align: right;\">\n",
       "      <th></th>\n",
       "      <th>Y1</th>\n",
       "      <th>Y2</th>\n",
       "      <th>Y3</th>\n",
       "    </tr>\n",
       "  </thead>\n",
       "  <tbody>\n",
       "    <tr>\n",
       "      <th>P1</th>\n",
       "      <td>5</td>\n",
       "      <td>1</td>\n",
       "      <td>8</td>\n",
       "    </tr>\n",
       "    <tr>\n",
       "      <th>P2</th>\n",
       "      <td>4</td>\n",
       "      <td>7</td>\n",
       "      <td>10</td>\n",
       "    </tr>\n",
       "    <tr>\n",
       "      <th>P3</th>\n",
       "      <td>3</td>\n",
       "      <td>9</td>\n",
       "      <td>2</td>\n",
       "    </tr>\n",
       "    <tr>\n",
       "      <th>P4</th>\n",
       "      <td>7</td>\n",
       "      <td>4</td>\n",
       "      <td>1</td>\n",
       "    </tr>\n",
       "    <tr>\n",
       "      <th>P5</th>\n",
       "      <td>8</td>\n",
       "      <td>6</td>\n",
       "      <td>10</td>\n",
       "    </tr>\n",
       "  </tbody>\n",
       "</table>\n",
       "</div>"
      ],
      "text/plain": [
       "    Y1  Y2  Y3\n",
       "P1   5   1   8\n",
       "P2   4   7  10\n",
       "P3   3   9   2\n",
       "P4   7   4   1\n",
       "P5   8   6  10"
      ]
     },
     "metadata": {},
     "execution_count": 2
    }
   ],
   "metadata": {}
  },
  {
   "cell_type": "code",
   "execution_count": 19,
   "source": [
    "# Crear problema de maximización\r\n",
    "prob = LpProblem(\"Projects\", LpMaximize)\r\n",
    "prob\r\n",
    "# Crear variables de asientos de cada tarifa \r\n",
    "select = LpVariable.dicts(\"Project_Selected\", indices=projects, lowBound=0, cat=LpBinary) \r\n",
    "select"
   ],
   "outputs": [
    {
     "output_type": "execute_result",
     "data": {
      "text/plain": [
       "{'P1': Project_Selected_P1,\n",
       " 'P2': Project_Selected_P2,\n",
       " 'P3': Project_Selected_P3,\n",
       " 'P4': Project_Selected_P4,\n",
       " 'P5': Project_Selected_P5}"
      ]
     },
     "metadata": {},
     "execution_count": 19
    }
   ],
   "metadata": {
    "id": "G6jBwBtcaNZ1"
   }
  },
  {
   "cell_type": "code",
   "execution_count": 20,
   "source": [
    "# Añadir función objetivo al problema\r\n",
    "prob += lpSum([proficts[i] * select[i] for i in projects])\r\n",
    "prob"
   ],
   "outputs": [
    {
     "output_type": "execute_result",
     "data": {
      "text/plain": [
       "Projects:\n",
       "MAXIMIZE\n",
       "20*Project_Selected_P1 + 40*Project_Selected_P2 + 20*Project_Selected_P3 + 15*Project_Selected_P4 + 30*Project_Selected_P5 + 0\n",
       "VARIABLES\n",
       "0 <= Project_Selected_P1 <= 1 Integer\n",
       "0 <= Project_Selected_P2 <= 1 Integer\n",
       "0 <= Project_Selected_P3 <= 1 Integer\n",
       "0 <= Project_Selected_P4 <= 1 Integer\n",
       "0 <= Project_Selected_P5 <= 1 Integer"
      ]
     },
     "metadata": {},
     "execution_count": 20
    }
   ],
   "metadata": {
    "id": "G6jBwBtcaNZ1"
   }
  },
  {
   "cell_type": "code",
   "execution_count": 21,
   "source": [
    "# Añadir restricciones de no sobrepasar topes de demandas\r\n",
    "for y in years:\r\n",
    "    prob += (lpSum([years_expenses.at[p, y] * select[p] for p in projects]) <= budgets.at[y])"
   ],
   "outputs": [
    {
     "output_type": "execute_result",
     "data": {
      "text/plain": [
       "Projects:\n",
       "MAXIMIZE\n",
       "20*Project_Selected_P1 + 40*Project_Selected_P2 + 20*Project_Selected_P3 + 15*Project_Selected_P4 + 30*Project_Selected_P5 + 0\n",
       "SUBJECT TO\n",
       "_C1: 5 Project_Selected_P1 + 4 Project_Selected_P2 + 3 Project_Selected_P3\n",
       " + 7 Project_Selected_P4 + 8 Project_Selected_P5 <= 25\n",
       "\n",
       "_C2: Project_Selected_P1 + 7 Project_Selected_P2 + 9 Project_Selected_P3\n",
       " + 4 Project_Selected_P4 + 6 Project_Selected_P5 <= 25\n",
       "\n",
       "_C3: 8 Project_Selected_P1 + 10 Project_Selected_P2 + 2 Project_Selected_P3\n",
       " + Project_Selected_P4 + 10 Project_Selected_P5 <= 25\n",
       "\n",
       "VARIABLES\n",
       "0 <= Project_Selected_P1 <= 1 Integer\n",
       "0 <= Project_Selected_P2 <= 1 Integer\n",
       "0 <= Project_Selected_P3 <= 1 Integer\n",
       "0 <= Project_Selected_P4 <= 1 Integer\n",
       "0 <= Project_Selected_P5 <= 1 Integer"
      ]
     },
     "metadata": {},
     "execution_count": 21
    }
   ],
   "metadata": {
    "id": "G6jBwBtcaNZ1"
   }
  },
  {
   "cell_type": "code",
   "execution_count": 22,
   "source": [
    "# Comprobar que el problema está bien formulado\r\n",
    "prob"
   ],
   "outputs": [
    {
     "output_type": "execute_result",
     "data": {
      "text/plain": [
       "Projects:\n",
       "MAXIMIZE\n",
       "20*Project_Selected_P1 + 40*Project_Selected_P2 + 20*Project_Selected_P3 + 15*Project_Selected_P4 + 30*Project_Selected_P5 + 0\n",
       "SUBJECT TO\n",
       "_C1: 5 Project_Selected_P1 + 4 Project_Selected_P2 + 3 Project_Selected_P3\n",
       " + 7 Project_Selected_P4 + 8 Project_Selected_P5 <= 25\n",
       "\n",
       "_C2: Project_Selected_P1 + 7 Project_Selected_P2 + 9 Project_Selected_P3\n",
       " + 4 Project_Selected_P4 + 6 Project_Selected_P5 <= 25\n",
       "\n",
       "_C3: 8 Project_Selected_P1 + 10 Project_Selected_P2 + 2 Project_Selected_P3\n",
       " + Project_Selected_P4 + 10 Project_Selected_P5 <= 25\n",
       "\n",
       "VARIABLES\n",
       "0 <= Project_Selected_P1 <= 1 Integer\n",
       "0 <= Project_Selected_P2 <= 1 Integer\n",
       "0 <= Project_Selected_P3 <= 1 Integer\n",
       "0 <= Project_Selected_P4 <= 1 Integer\n",
       "0 <= Project_Selected_P5 <= 1 Integer"
      ]
     },
     "metadata": {},
     "execution_count": 22
    }
   ],
   "metadata": {
    "id": "G6jBwBtcaNZ1"
   }
  },
  {
   "cell_type": "code",
   "execution_count": 25,
   "source": [
    "# Resolver el problema, pintar la solución y ver cuánto da de objetivo\r\n",
    "status = prob.solve()\r\n",
    "print(\"Status: \", LpStatus[status])\r\n",
    "for v in prob.variables():\r\n",
    "  val = value(v)\r\n",
    "  print(v.name, \"=\", v.varValue)\r\n",
    "round(value(prob.objective), 2)"
   ],
   "outputs": [
    {
     "output_type": "stream",
     "name": "stdout",
     "text": [
      "Status:  Optimal\n",
      "Project_Selected_P1 = 1.0\n",
      "Project_Selected_P2 = 1.0\n",
      "Project_Selected_P3 = 1.0\n",
      "Project_Selected_P4 = 1.0\n",
      "Project_Selected_P5 = 0.0\n"
     ]
    },
    {
     "output_type": "execute_result",
     "data": {
      "text/plain": [
       "95.0"
      ]
     },
     "metadata": {},
     "execution_count": 25
    }
   ],
   "metadata": {
    "id": "kSWBWBTaaNZ2"
   }
  },
  {
   "cell_type": "code",
   "execution_count": null,
   "source": [],
   "outputs": [],
   "metadata": {
    "id": "I5G_Qimta-jE"
   }
  }
 ],
 "metadata": {
  "colab": {
   "name": "lp_aerolinea_ejercicio.ipynb",
   "provenance": []
  },
  "kernelspec": {
   "name": "python3",
   "display_name": "Python 3.8.8 64-bit ('base': conda)"
  },
  "language_info": {
   "codemirror_mode": {
    "name": "ipython",
    "version": 3
   },
   "file_extension": ".py",
   "mimetype": "text/x-python",
   "name": "python",
   "nbconvert_exporter": "python",
   "pygments_lexer": "ipython3",
   "version": "3.8.8"
  },
  "interpreter": {
   "hash": "97ae724bfa85b9b34df7982b8bb8c7216f435b92902d749e4263f71162bea840"
  }
 },
 "nbformat": 4,
 "nbformat_minor": 1
}